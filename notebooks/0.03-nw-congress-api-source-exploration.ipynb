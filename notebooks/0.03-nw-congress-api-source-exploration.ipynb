{
 "cells": [
  {
   "cell_type": "markdown",
   "metadata": {},
   "source": [
    "# Congress.gov Nomination Details Verification\n",
    "This notebook helps verify the processing of nomination details from the Congress.gov API."
   ]
  },
  {
   "cell_type": "code",
   "execution_count": null,
   "metadata": {},
   "outputs": [
    {
     "name": "stdout",
     "output_type": "stream",
     "text": [
      "\u001b[32m2025-07-11 04:39:55.912\u001b[0m | \u001b[1mINFO    \u001b[0m | \u001b[36mnomination_predictor.config\u001b[0m:\u001b[36m<module>\u001b[0m:\u001b[36m103\u001b[0m - \u001b[1mProject root: /home/wsl2ubuntuuser/nomination_predictor\u001b[0m\n",
      "\u001b[32m2025-07-11 04:39:55.913\u001b[0m | \u001b[1mINFO    \u001b[0m | \u001b[36mnomination_predictor.config\u001b[0m:\u001b[36m<module>\u001b[0m:\u001b[36m127\u001b[0m - \u001b[1mConfiguration loaded\u001b[0m\n"
     ]
    },
    {
     "data": {
      "text/plain": [
       "5"
      ]
     },
     "execution_count": 1,
     "metadata": {},
     "output_type": "execute_result"
    }
   ],
   "source": [
    "import os\n",
    "import sys\n",
    "from pathlib import Path\n",
    "\n",
    "import pandas as pd\n",
    "from loguru import logger\n",
    "\n",
    "# Add project root to path\n",
    "project_root = Path().absolute().parent\n",
    "if str(project_root) not in sys.path:\n",
    "    sys.path.insert(0, str(project_root))\n",
    "\n",
    "from nomination_predictor.congress_api import (CongressAPIClient,\n",
    "                                               transform_nomination_data)\n",
    "\n",
    "# Configure logging\n",
    "logger.remove()  # Remove default handler\n",
    "logger.add(\n",
    "    sys.stderr,\n",
    "    format=\"<green>{time:YYYY-MM-DD HH:mm:ss}</green> | <level>{level: <8}</level> | <cyan>{name}</cyan>:<cyan>{function}</cyan>:<cyan>{line}</cyan> - <level>{message}</level>\"\n",
    ")"
   ]
  },
  {
   "cell_type": "code",
   "execution_count": 2,
   "metadata": {},
   "outputs": [],
   "source": [
    "def get_and_display_nomination(congress: int, nomination_number: int, part_number: str = None):\n",
    "    \"\"\"\n",
    "    Fetch and display nomination details in a user-friendly format.\n",
    "    \n",
    "    Args:\n",
    "        congress: Congress number (e.g., 118)\n",
    "        nomination_number: Nomination number\n",
    "        part_number: Optional part number for partitioned nominations\n",
    "    \"\"\"\n",
    "    try:\n",
    "        client = CongressAPIClient()\n",
    "        \n",
    "        # 1. Get the nomination details\n",
    "        logger.info(f\"Fetching details for nomination {nomination_number} (Congress {congress})\")\n",
    "        detail = client.get_nomination_detail(congress, nomination_number, part_number)\n",
    "        \n",
    "        # 2. Transform the data\n",
    "        logger.info(\"Transforming nomination data...\")\n",
    "        records = transform_nomination_data(detail, full_details=True)\n",
    "        \n",
    "        # 3. Display the raw and transformed data\n",
    "        print(\n",
    "            \"\\n===== NOMINATION DETAILS =====\\n\"\n",
    "            f\"Congress: {congress}\\n\"\n",
    "            f\"Nomination #: {nomination_number}\\n\"\n",
    "            f\"Description: {detail.get('nomination', {}).get('description', 'N/A')}\\n\"\n",
    "            f\"Received Date: {detail.get('nomination', {}).get('receivedDate', 'N/A')}\\n\"\n",
    "        )\n",
    "        \n",
    "        # Display nominees\n",
    "        if 'nominees' in detail and detail['nominees']:\n",
    "            print(\"\\nNOMINEES:\")\n",
    "            for i, nominee in enumerate(detail['nominees'], 1):\n",
    "                print(\n",
    "                    f\"  {i}. {nominee.get('fullName', 'Unknown')}\\n\"\n",
    "                    f\"     Position: {nominee.get('positionTitle', 'N/A')}\\n\"\n",
    "                    f\"     Organization: {nominee.get('organization', 'N/A')}\\n\"\n",
    "                    f\"     State: {nominee.get('state', 'N/A')}\"\n",
    "                )\n",
    "                \n",
    "        # Display actions if available\n",
    "        if 'actions' in detail and detail['actions']:\n",
    "            print(\"\\nACTIONS:\")\n",
    "            for action in detail['actions'][:5]:  # Show first 5 actions\n",
    "                print(\n",
    "                    f\"  {action.get('actionDate', 'N/A')}: {action.get('text', 'N/A')}\"\n",
    "                )\n",
    "            if len(detail['actions']) > 5:\n",
    "                print(f\"  ... and {len(detail['actions']) - 5} more actions\")\n",
    "        \n",
    "        # 4. Display the transformed records as a DataFrame\n",
    "        if records:\n",
    "            print(\"\\n\\n===== TRANSFORMED RECORDS =====\\n\")\n",
    "            df = pd.DataFrame(records)\n",
    "            # Reorder columns for better readability\n",
    "            columns = [\n",
    "                'nominee', 'position', 'organization', 'court', 'circuit', 'state',\n",
    "                'nomination_number', 'congress', 'nomination_date', 'confirmation_date',\n",
    "                'status', 'url'\n",
    "            ]\n",
    "            # Only include columns that exist in the DataFrame\n",
    "            columns = [col for col in columns if col in df.columns]\n",
    "            display(df[columns])\n",
    "            return df\n",
    "        else:\n",
    "            print(\"No records were generated from the transformation.\")\n",
    "            return None\n",
    "            \n",
    "    except Exception as e:\n",
    "        logger.error(f\"Error processing nomination: {str(e)}\")\n",
    "        if 'detail' in locals() and detail:\n",
    "            logger.debug(\"Raw API response:\")\n",
    "            logger.debug(detail)\n",
    "        raise"
   ]
  },
  {
   "cell_type": "markdown",
   "metadata": {},
   "source": [
    "## Example Usage\n",
    "\n",
    "Run the cell below with different congress and nomination numbers to test the API.\n",
    "\n",
    "Example values to try:\n",
    "- Congress: 118, Nomination: PN1\n",
    "- Congress: 117, Nomination: PN100\n",
    "- Congress: 116, Nomination: PN50"
   ]
  },
  {
   "cell_type": "code",
   "execution_count": null,
   "metadata": {},
   "outputs": [
    {
     "name": "stderr",
     "output_type": "stream",
     "text": [
      "\u001b[32m2025-07-11 04:39:56\u001b[0m | \u001b[1mINFO    \u001b[0m | \u001b[36m__main__\u001b[0m:\u001b[36mget_and_display_nomination\u001b[0m:\u001b[36m14\u001b[0m - \u001b[1mFetching details for nomination 1 (Congress 118)\u001b[0m\n",
      "\u001b[32m2025-07-11 04:39:56\u001b[0m | \u001b[1mINFO    \u001b[0m | \u001b[36mnomination_predictor.congress_api\u001b[0m:\u001b[36mget_nomination_detail\u001b[0m:\u001b[36m298\u001b[0m - \u001b[1mFetching detail for nomination 1 (118th Congress)\u001b[0m\n",
      "\u001b[32m2025-07-11 04:39:56\u001b[0m | \u001b[34m\u001b[1mDEBUG   \u001b[0m | \u001b[36mnomination_predictor.congress_api\u001b[0m:\u001b[36mget_nomination_detail\u001b[0m:\u001b[36m305\u001b[0m - \u001b[34m\u001b[1mReceived detail for nomination 1\u001b[0m\n",
      "\u001b[32m2025-07-11 04:39:56\u001b[0m | \u001b[34m\u001b[1mDEBUG   \u001b[0m | \u001b[36mnomination_predictor.congress_api\u001b[0m:\u001b[36mget_nomination_detail\u001b[0m:\u001b[36m310\u001b[0m - \u001b[34m\u001b[1mNomination description: Brendan Owens, of Virginia, to be an Assistant Secretary of Defense, vice Lucian Niemeyer.\u001b[0m\n",
      "\u001b[32m2025-07-11 04:39:56\u001b[0m | \u001b[1mINFO    \u001b[0m | \u001b[36m__main__\u001b[0m:\u001b[36mget_and_display_nomination\u001b[0m:\u001b[36m18\u001b[0m - \u001b[1mTransforming nomination data...\u001b[0m\n",
      "\u001b[32m2025-07-11 04:39:56\u001b[0m | \u001b[34m\u001b[1mDEBUG   \u001b[0m | \u001b[36mnomination_predictor.congress_api\u001b[0m:\u001b[36mtransform_nomination_data\u001b[0m:\u001b[36m166\u001b[0m - \u001b[34m\u001b[1mTransforming nomination data (full_details=True)\u001b[0m\n"
     ]
    },
    {
     "name": "stdout",
     "output_type": "stream",
     "text": [
      "\n",
      "===== NOMINATION DETAILS =====\n",
      "Congress: 118\n",
      "Nomination #: 1\n",
      "Description: Brendan Owens, of Virginia, to be an Assistant Secretary of Defense, vice Lucian Niemeyer.\n",
      "Received Date: 2023-01-03\n",
      "\n",
      "No records were generated from the transformation.\n"
     ]
    }
   ],
   "source": [
    "# Example: Get details for a specific nomination\n",
    "result_df = get_and_display_nomination(\n",
    "    congress=118,  # Congress number\n",
    "    nomination_number=1,  # Nomination number (PN1, PN2, etc.)\n",
    "    # part_number=1  # Uncomment and set if needed for partitioned nominations\n",
    ")\n",
    "\n",
    "# The result_df contains the transformed records as a pandas DataFrame\n",
    "# You can access it for further analysis if needed"
   ]
  }
 ],
 "metadata": {
  "kernelspec": {
   "display_name": "nomination_predictor",
   "language": "python",
   "name": "python3"
  },
  "language_info": {
   "codemirror_mode": {
    "name": "ipython",
    "version": 3
   },
   "file_extension": ".py",
   "mimetype": "text/x-python",
   "name": "python",
   "nbconvert_exporter": "python",
   "pygments_lexer": "ipython3",
   "version": "3.13.5"
  }
 },
 "nbformat": 4,
 "nbformat_minor": 4
}
