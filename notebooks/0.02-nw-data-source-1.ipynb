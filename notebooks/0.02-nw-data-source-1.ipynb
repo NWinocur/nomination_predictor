{
  "cells": [
    {
      "cell_type": "markdown",
      "id": "7ba9b4bd",
      "metadata": {},
      "source": [
        "# Judicial Vacancies Data Source Exploration\n",
        "\n",
        "This notebook demonstrates how to use the `dataset` module to fetch and process judicial vacancy data.\n",
        "\n",
        "## Overview\n",
        "\n",
        "We'll:\n",
        "1. Import the necessary modules\n",
        "2. Fetch HTML data from the judicial vacancies archive\n",
        "3. Extract vacancy data from the HTML\n",
        "4. Convert the data to a pandas DataFrame\n",
        "5. Save the raw data to a CSV file\n",
        "\n",
        "## Setup"
      ]
    },
    {
      "cell_type": "code",
      "execution_count": 29,
      "id": "9d4eafd0",
      "metadata": {},
      "outputs": [
        {
          "name": "stdout",
          "output_type": "stream",
          "text": [
            "nomination_predictor      0.0.1             /home/wsl2ubuntuuser/nomination_predictor\n"
          ]
        }
      ],
      "source": [
        "import sys\n",
        "!{sys.executable} -m pip list | grep nomination_predictor"
      ]
    },
    {
      "cell_type": "code",
      "execution_count": 30,
      "id": "6398e94a",
      "metadata": {},
      "outputs": [
        {
          "name": "stdout",
          "output_type": "stream",
          "text": [
            "The autoreload extension is already loaded. To reload it, use:\n",
            "  %reload_ext autoreload\n"
          ]
        }
      ],
      "source": [
        "# Enable autoreload for development\n",
        "%load_ext autoreload\n",
        "%autoreload 2\n",
        "\n",
        "# Import standard libraries\n",
        "import os\n",
        "from pathlib import Path\n",
        "import pandas as pd\n",
        "\n",
        "# Import our data processing module\n",
        "from nomination_predictor import dataset\n",
        "\n",
        "# Set up paths\n",
        "PROJECT_ROOT = Path().resolve().parent.parent\n",
        "DATA_RAW = PROJECT_ROOT / 'data' / 'raw'\n",
        "DATA_RAW.mkdir(parents=True, exist_ok=True)  # Ensure directory exists"
      ]
    },
    {
      "cell_type": "markdown",
      "id": "1c0a841d",
      "metadata": {},
      "source": [
        "## 1. Fetch and Process Data\n",
        "\n",
        "Let's fetch the data for a specific year and process it."
      ]
    },
    {
      "cell_type": "code",
      "execution_count": null,
      "id": "208432ae",
      "metadata": {},
      "outputs": [],
      "source": [
        "from datetime import datetime\n",
        "\n",
        "def fetch_and_process_years(start_year=None, end_year=None):\n",
        "    \"\"\"\n",
        "    Fetch and process data for a range of years.\n",
        "    \n",
        "    Args:\n",
        "        start_year: First year to process (inclusive). If None, uses 1981.\n",
        "        end_year: Last year to process (inclusive). If None, uses current year.\n",
        "        \n",
        "    Returns:\n",
        "        DataFrame containing all processed records, or None if no records found\n",
        "    \"\"\"\n",
        "    # Set default years if not provided\n",
        "    if start_year is None:\n",
        "        start_year = 1981\n",
        "    if end_year is None:\n",
        "        end_year = datetime.now().year\n",
        "        \n",
        "    print(f'Fetching data for years {start_year} to {end_year}...')\n",
        "    \n",
        "    # Get all available archive URLs\n",
        "    all_urls = dataset.generate_or_fetch_archive_urls()\n",
        "    \n",
        "    if not all_urls:\n",
        "        print('No archive URLs found')\n",
        "        return None\n",
        "        \n",
        "    print(f'Found {len(all_urls)} archive URLs')\n",
        "    \n",
        "    # Process each URL and collect records\n",
        "    all_records = []\n",
        "    for url in all_urls:\n",
        "        try:\n",
        "            # Extract year from URL\n",
        "            from urllib.parse import urlparse, parse_qs\n",
        "            parsed_url = urlparse(url)\n",
        "            year_from_url = int(parse_qs(parsed_url.query).get('year', [''])[0])\n",
        "            \n",
        "            # Skip if outside our desired year range\n",
        "            if not (start_year <= year_from_url <= end_year):\n",
        "                continue\n",
        "                \n",
        "            print(f'Processing {year_from_url}...')\n",
        "            \n",
        "            # Fetch and process the URL\n",
        "            html_content = dataset.fetch_html(url)\n",
        "            records = dataset.extract_vacancy_table(html_content)\n",
        "            \n",
        "            # Add year to each record\n",
        "            for record in records:\n",
        "                record['year'] = year_from_url\n",
        "                \n",
        "            all_records.extend(records)\n",
        "            print(f' - Extracted {len(records)} records from {url}')\n",
        "            \n",
        "        except Exception as e:\n",
        "            print(f'Error processing {url}: {e}')\n",
        "            continue\n",
        "    \n",
        "    if not all_records:\n",
        "        print('No records found for the specified year range.')\n",
        "        return None\n",
        "    \n",
        "    # Convert all records to a single DataFrame\n",
        "    df = dataset.records_to_dataframe(all_records)\n",
        "    print(f'\\nTotal records processed: {len(df)}')\n",
        "    \n",
        "    return df"
      ]
    },
    {
      "cell_type": "code",
      "execution_count": 36,
      "id": "01164b16",
      "metadata": {},
      "outputs": [
        {
          "name": "stdout",
          "output_type": "stream",
          "text": [
            "Fetching data for years 1981 to 2025...\n",
            "Found 45 archive URLs\n",
            "Error processing https://www.uscourts.gov/data-news/judicial-vacancies/archive-judicial-vacancies?year=1981: invalid literal for int() with base 10: 'archive-judicial-vacancies?year=1981'\n",
            "Error processing https://www.uscourts.gov/data-news/judicial-vacancies/archive-judicial-vacancies?year=1982: invalid literal for int() with base 10: 'archive-judicial-vacancies?year=1982'\n",
            "Error processing https://www.uscourts.gov/data-news/judicial-vacancies/archive-judicial-vacancies?year=1983: invalid literal for int() with base 10: 'archive-judicial-vacancies?year=1983'\n",
            "Error processing https://www.uscourts.gov/data-news/judicial-vacancies/archive-judicial-vacancies?year=1984: invalid literal for int() with base 10: 'archive-judicial-vacancies?year=1984'\n",
            "Error processing https://www.uscourts.gov/data-news/judicial-vacancies/archive-judicial-vacancies?year=1985: invalid literal for int() with base 10: 'archive-judicial-vacancies?year=1985'\n",
            "Error processing https://www.uscourts.gov/data-news/judicial-vacancies/archive-judicial-vacancies?year=1986: invalid literal for int() with base 10: 'archive-judicial-vacancies?year=1986'\n",
            "Error processing https://www.uscourts.gov/data-news/judicial-vacancies/archive-judicial-vacancies?year=1987: invalid literal for int() with base 10: 'archive-judicial-vacancies?year=1987'\n",
            "Error processing https://www.uscourts.gov/data-news/judicial-vacancies/archive-judicial-vacancies?year=1988: invalid literal for int() with base 10: 'archive-judicial-vacancies?year=1988'\n",
            "Error processing https://www.uscourts.gov/data-news/judicial-vacancies/archive-judicial-vacancies?year=1989: invalid literal for int() with base 10: 'archive-judicial-vacancies?year=1989'\n",
            "Error processing https://www.uscourts.gov/data-news/judicial-vacancies/archive-judicial-vacancies?year=1990: invalid literal for int() with base 10: 'archive-judicial-vacancies?year=1990'\n",
            "Error processing https://www.uscourts.gov/data-news/judicial-vacancies/archive-judicial-vacancies?year=1991: invalid literal for int() with base 10: 'archive-judicial-vacancies?year=1991'\n",
            "Error processing https://www.uscourts.gov/data-news/judicial-vacancies/archive-judicial-vacancies?year=1992: invalid literal for int() with base 10: 'archive-judicial-vacancies?year=1992'\n",
            "Error processing https://www.uscourts.gov/data-news/judicial-vacancies/archive-judicial-vacancies?year=1993: invalid literal for int() with base 10: 'archive-judicial-vacancies?year=1993'\n",
            "Error processing https://www.uscourts.gov/data-news/judicial-vacancies/archive-judicial-vacancies?year=1994: invalid literal for int() with base 10: 'archive-judicial-vacancies?year=1994'\n",
            "Error processing https://www.uscourts.gov/data-news/judicial-vacancies/archive-judicial-vacancies?year=1995: invalid literal for int() with base 10: 'archive-judicial-vacancies?year=1995'\n",
            "Error processing https://www.uscourts.gov/data-news/judicial-vacancies/archive-judicial-vacancies?year=1996: invalid literal for int() with base 10: 'archive-judicial-vacancies?year=1996'\n",
            "Error processing https://www.uscourts.gov/data-news/judicial-vacancies/archive-judicial-vacancies?year=1997: invalid literal for int() with base 10: 'archive-judicial-vacancies?year=1997'\n",
            "Error processing https://www.uscourts.gov/data-news/judicial-vacancies/archive-judicial-vacancies?year=1998: invalid literal for int() with base 10: 'archive-judicial-vacancies?year=1998'\n",
            "Error processing https://www.uscourts.gov/data-news/judicial-vacancies/archive-judicial-vacancies?year=1999: invalid literal for int() with base 10: 'archive-judicial-vacancies?year=1999'\n",
            "Error processing https://www.uscourts.gov/data-news/judicial-vacancies/archive-judicial-vacancies?year=2000: invalid literal for int() with base 10: 'archive-judicial-vacancies?year=2000'\n",
            "Error processing https://www.uscourts.gov/data-news/judicial-vacancies/archive-judicial-vacancies?year=2001: invalid literal for int() with base 10: 'archive-judicial-vacancies?year=2001'\n",
            "Error processing https://www.uscourts.gov/data-news/judicial-vacancies/archive-judicial-vacancies?year=2002: invalid literal for int() with base 10: 'archive-judicial-vacancies?year=2002'\n",
            "Error processing https://www.uscourts.gov/data-news/judicial-vacancies/archive-judicial-vacancies?year=2003: invalid literal for int() with base 10: 'archive-judicial-vacancies?year=2003'\n",
            "Error processing https://www.uscourts.gov/data-news/judicial-vacancies/archive-judicial-vacancies?year=2004: invalid literal for int() with base 10: 'archive-judicial-vacancies?year=2004'\n",
            "Error processing https://www.uscourts.gov/data-news/judicial-vacancies/archive-judicial-vacancies?year=2005: invalid literal for int() with base 10: 'archive-judicial-vacancies?year=2005'\n",
            "Error processing https://www.uscourts.gov/data-news/judicial-vacancies/archive-judicial-vacancies?year=2006: invalid literal for int() with base 10: 'archive-judicial-vacancies?year=2006'\n",
            "Error processing https://www.uscourts.gov/data-news/judicial-vacancies/archive-judicial-vacancies?year=2007: invalid literal for int() with base 10: 'archive-judicial-vacancies?year=2007'\n",
            "Error processing https://www.uscourts.gov/data-news/judicial-vacancies/archive-judicial-vacancies?year=2008: invalid literal for int() with base 10: 'archive-judicial-vacancies?year=2008'\n",
            "Error processing https://www.uscourts.gov/data-news/judicial-vacancies/archive-judicial-vacancies?year=2009: invalid literal for int() with base 10: 'archive-judicial-vacancies?year=2009'\n",
            "Error processing https://www.uscourts.gov/data-news/judicial-vacancies/archive-judicial-vacancies?year=2010: invalid literal for int() with base 10: 'archive-judicial-vacancies?year=2010'\n",
            "Error processing https://www.uscourts.gov/data-news/judicial-vacancies/archive-judicial-vacancies?year=2011: invalid literal for int() with base 10: 'archive-judicial-vacancies?year=2011'\n",
            "Error processing https://www.uscourts.gov/data-news/judicial-vacancies/archive-judicial-vacancies?year=2012: invalid literal for int() with base 10: 'archive-judicial-vacancies?year=2012'\n",
            "Error processing https://www.uscourts.gov/data-news/judicial-vacancies/archive-judicial-vacancies?year=2013: invalid literal for int() with base 10: 'archive-judicial-vacancies?year=2013'\n",
            "Error processing https://www.uscourts.gov/data-news/judicial-vacancies/archive-judicial-vacancies?year=2014: invalid literal for int() with base 10: 'archive-judicial-vacancies?year=2014'\n",
            "Error processing https://www.uscourts.gov/data-news/judicial-vacancies/archive-judicial-vacancies?year=2015: invalid literal for int() with base 10: 'archive-judicial-vacancies?year=2015'\n",
            "Error processing https://www.uscourts.gov/data-news/judicial-vacancies/archive-judicial-vacancies?year=2016: invalid literal for int() with base 10: 'archive-judicial-vacancies?year=2016'\n",
            "Error processing https://www.uscourts.gov/data-news/judicial-vacancies/archive-judicial-vacancies?year=2017: invalid literal for int() with base 10: 'archive-judicial-vacancies?year=2017'\n",
            "Error processing https://www.uscourts.gov/data-news/judicial-vacancies/archive-judicial-vacancies?year=2018: invalid literal for int() with base 10: 'archive-judicial-vacancies?year=2018'\n",
            "Error processing https://www.uscourts.gov/data-news/judicial-vacancies/archive-judicial-vacancies?year=2019: invalid literal for int() with base 10: 'archive-judicial-vacancies?year=2019'\n",
            "Error processing https://www.uscourts.gov/data-news/judicial-vacancies/archive-judicial-vacancies?year=2020: invalid literal for int() with base 10: 'archive-judicial-vacancies?year=2020'\n",
            "Error processing https://www.uscourts.gov/data-news/judicial-vacancies/archive-judicial-vacancies?year=2021: invalid literal for int() with base 10: 'archive-judicial-vacancies?year=2021'\n",
            "Error processing https://www.uscourts.gov/data-news/judicial-vacancies/archive-judicial-vacancies?year=2022: invalid literal for int() with base 10: 'archive-judicial-vacancies?year=2022'\n",
            "Error processing https://www.uscourts.gov/data-news/judicial-vacancies/archive-judicial-vacancies?year=2023: invalid literal for int() with base 10: 'archive-judicial-vacancies?year=2023'\n",
            "Error processing https://www.uscourts.gov/data-news/judicial-vacancies/archive-judicial-vacancies?year=2024: invalid literal for int() with base 10: 'archive-judicial-vacancies?year=2024'\n",
            "Error processing https://www.uscourts.gov/data-news/judicial-vacancies/archive-judicial-vacancies?year=2025: invalid literal for int() with base 10: 'archive-judicial-vacancies?year=2025'\n",
            "No records found for the specified year range.\n"
          ]
        }
      ],
      "source": [
        "# Fetch all available years (1981 to current year)\n",
        "df = fetch_and_process_years()\n",
        "\n",
        "\n",
        "if df is not None:\n",
        "    print('\\nFirst few records:')\n",
        "    display(df.head())\n",
        "    \n",
        "    # Basic summary\n",
        "    print('\\nRecords per year:')\n",
        "    print(df['year'].value_counts().sort_index())"
      ]
    },
    {
      "cell_type": "code",
      "execution_count": 33,
      "id": "ca493856",
      "metadata": {},
      "outputs": [],
      "source": [
        "\n",
        "if df is not None:\n",
        "    print(f'\\nFirst few records for {year_to_fetch}:')\n",
        "    display(df.head())"
      ]
    },
    {
      "cell_type": "markdown",
      "id": "390ee9ae",
      "metadata": {},
      "source": [
        "## 2. Save Raw Data\n",
        "\n",
        "Save the raw data to a CSV file in the `data/raw` directory."
      ]
    },
    {
      "cell_type": "code",
      "execution_count": 34,
      "id": "ba05821a",
      "metadata": {},
      "outputs": [],
      "source": [
        "def save_raw_data(df, year):\n",
        "    \"\"\"Save the raw data to a CSV file.\"\"\"\n",
        "    if df is None or df.empty:\n",
        "        print('No data to save.')\n",
        "        return\n",
        "    \n",
        "    filename = DATA_RAW / f'judicial_vacancies_{year}.csv'\n",
        "    try:\n",
        "        dataset.save_to_csv(df, filename)\n",
        "        print(f'Data saved to {filename}')\n",
        "    except Exception as e:\n",
        "        print(f'Error saving data: {e}')\n",
        "\n",
        "# Save the data we just fetched\n",
        "if df is not None:\n",
        "    save_raw_data(df, year_to_fetch)"
      ]
    },
    {
      "cell_type": "markdown",
      "id": "aa3f6baa",
      "metadata": {},
      "source": [
        "## 3. Load and Explore the Saved Data\n",
        "\n",
        "Let's verify that we can load the saved data."
      ]
    },
    {
      "cell_type": "code",
      "execution_count": 35,
      "id": "8bf803db",
      "metadata": {},
      "outputs": [
        {
          "name": "stdout",
          "output_type": "stream",
          "text": [
            "File not found: /home/wsl2ubuntuuser/data/raw/judicial_vacancies_2023.csv\n"
          ]
        }
      ],
      "source": [
        "def load_raw_data(year):\n",
        "    \"\"\"Load raw data from a CSV file.\"\"\"\n",
        "    filename = DATA_RAW / f'judicial_vacancies_{year}.csv'\n",
        "    if not filename.exists():\n",
        "        print(f'File not found: {filename}')\n",
        "        return None\n",
        "    \n",
        "    try:\n",
        "        df = pd.read_csv(filename)\n",
        "        print(f'Loaded {len(df)} records from {filename}')\n",
        "        return df\n",
        "    except Exception as e:\n",
        "        print(f'Error loading {filename}: {e}')\n",
        "        return None\n",
        "\n",
        "# Load the data we just saved\n",
        "loaded_df = load_raw_data(year_to_fetch)\n",
        "if loaded_df is not None:\n",
        "    print('\\nDataFrame info:')\n",
        "    display(loaded_df.info())\n",
        "    print('\\nFirst few records:')\n",
        "    display(loaded_df.head())"
      ]
    },
    {
      "cell_type": "markdown",
      "id": "6720fbb0",
      "metadata": {},
      "source": [
        "## Next Steps\n",
        "\n",
        "1. **Data Cleaning**: In the next notebook, we'll clean and preprocess this data.\n",
        "2. **Exploratory Analysis**: We'll explore the data to understand its structure and quality.\n",
        "3. **Feature Engineering**: We'll create additional features that might be useful for analysis.\n",
        "4. **Visualization**: We'll create visualizations to understand trends and patterns."
      ]
    }
  ],
  "metadata": {
    "kernelspec": {
      "display_name": "nomination_predictor",
      "language": "python",
      "name": "python3"
    },
    "language_info": {
      "codemirror_mode": {
        "name": "ipython",
        "version": 3
      },
      "file_extension": ".py",
      "mimetype": "text/x-python",
      "name": "python",
      "nbconvert_exporter": "python",
      "pygments_lexer": "ipython3",
      "version": "3.13.5"
    }
  },
  "nbformat": 4,
  "nbformat_minor": 5
}
