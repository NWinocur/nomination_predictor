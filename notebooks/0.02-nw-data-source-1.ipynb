{
  "cells": [
    {
      "cell_type": "markdown",
      "id": "7ba9b4bd",
      "metadata": {},
      "source": [
        "# Judicial Vacancies Data Source Exploration\n",
        "\n",
        "This notebook demonstrates how to use the `dataset` module to fetch and process judicial vacancy data.\n",
        "\n",
        "## Overview\n",
        "\n",
        "We'll:\n",
        "1. Import the necessary modules\n",
        "2. Fetch HTML data from the judicial vacancies archive\n",
        "3. Extract vacancy data from the HTML\n",
        "4. Convert the data to a pandas DataFrame\n",
        "5. Save the raw data to a CSV file\n",
        "\n",
        "## Setup"
      ]
    },
    {
      "cell_type": "code",
      "execution_count": 10,
      "id": "9d4eafd0",
      "metadata": {},
      "outputs": [
        {
          "name": "stdout",
          "output_type": "stream",
          "text": [
            "nomination_predictor      0.0.1             /home/wsl2ubuntuuser/nomination_predictor\n"
          ]
        }
      ],
      "source": [
        "import sys\n",
        "!{sys.executable} -m pip list | grep nomination_predictor"
      ]
    },
    {
      "cell_type": "code",
      "execution_count": 11,
      "id": "6398e94a",
      "metadata": {},
      "outputs": [
        {
          "name": "stdout",
          "output_type": "stream",
          "text": [
            "The autoreload extension is already loaded. To reload it, use:\n",
            "  %reload_ext autoreload\n"
          ]
        }
      ],
      "source": [
        "%load_ext autoreload\n",
        "%autoreload 2\n",
        "\n",
        "import sys\n",
        "import os\n",
        "from pathlib import Path\n",
        "import pandas as pd\n",
        "import typer\n",
        "from datetime import datetime\n",
        "\n",
        "# Import our data processing module\n",
        "from nomination_predictor import dataset\n",
        "from nomination_predictor.config import RAW_DATA_DIR"
      ]
    },
    {
      "cell_type": "code",
      "execution_count": null,
      "id": "846f0af9",
      "metadata": {},
      "outputs": [],
      "source": [
        "# Set up paths\n",
        "PROJECT_ROOT = Path.cwd().parent\n",
        "DATA_RAW = PROJECT_ROOT / 'data' / 'raw'\n",
        "DATA_RAW.mkdir(parents=True, exist_ok=True)"
      ]
    },
    {
      "cell_type": "code",
      "execution_count": null,
      "id": "0d4e0182",
      "metadata": {},
      "outputs": [
        {
          "name": "stdout",
          "output_type": "stream",
          "text": [
            "Data directory is ready: /home/wsl2ubuntuuser/nomination_predictor/data/raw\n"
          ]
        }
      ],
      "source": [
        "# Verify the data directory exists and is writable\n",
        "if not DATA_RAW.exists():\n",
        "    print(f\"Error: Data directory does not exist: {DATA_RAW}\")\n",
        "elif not os.access(DATA_RAW, os.W_OK):\n",
        "    print(f\"Error: No write permission for directory: {DATA_RAW}\")\n",
        "else:\n",
        "    print(f\"Data directory is ready: {DATA_RAW}\")"
      ]
    },
    {
      "cell_type": "markdown",
      "id": "1c0a841d",
      "metadata": {},
      "source": [
        "## 1. Fetch and Process Data\n",
        "\n",
        "Let's fetch the data for the range of available years and process it."
      ]
    },
    {
      "cell_type": "code",
      "execution_count": null,
      "id": "208432ae",
      "metadata": {},
      "outputs": [],
      "source": [
        "def load_judicial_data(years_back=15, force_refresh=False):\n",
        "    \"\"\"\n",
        "    Load judicial data using the dataset module.\n",
        "    \n",
        "    Args:\n",
        "        years_back: Number of years of historical data to fetch\n",
        "        force_refresh: If True, force refetching data even if files exist\n",
        "        \n",
        "    Returns:\n",
        "        Tuple of (vacancies_df, confirmations_df, emergencies_df, combined_df)\n",
        "    \"\"\"\n",
        "    output_file = DATA_RAW / \"judicial_data.csv\"\n",
        "    \n",
        "    # Only run the pipeline if output doesn't exist or force_refresh is True\n",
        "    if force_refresh or not output_file.exists():\n",
        "        print(\"Running data pipeline...\")\n",
        "        dataset.main(\n",
        "            output_dir=DATA_RAW,\n",
        "            output_filename=output_file.name,\n",
        "            years_back=years_back\n",
        "        )\n",
        "    \n",
        "    # Load individual datasets\n",
        "    vacancies_path = DATA_RAW / \"judicial_vacancies.csv\"\n",
        "    confirmations_path = DATA_RAW / \"judicial_confirmations.csv\"\n",
        "    emergencies_path = DATA_RAW / \"judicial_emergencies.csv\"\n",
        "    \n",
        "    # Read the data\n",
        "    combined_df = pd.read_csv(output_file, sep='|') if output_file.exists() else None\n",
        "    vacancies_df = pd.read_csv(vacancies_path, sep='|') if vacancies_path.exists() else None\n",
        "    confirmations_df = pd.read_csv(confirmations_path, sep='|') if confirmations_path.exists() else None\n",
        "    emergencies_df = pd.read_csv(emergencies_path, sep='|') if emergencies_path.exists() else None\n",
        "    \n",
        "    return vacancies_df, confirmations_df, emergencies_df, combined_df"
      ]
    },
    {
      "cell_type": "code",
      "execution_count": 20,
      "id": "b142ea39",
      "metadata": {},
      "outputs": [
        {
          "name": "stdout",
          "output_type": "stream",
          "text": [
            "Loading judicial data...\n"
          ]
        }
      ],
      "source": [
        "print(\"Loading judicial data...\")\n",
        "vacancies_df, confirmations_df, emergencies_df, combined_df = load_judicial_data(\n",
        "    years_back=2,  # Adjust as needed\n",
        "    force_refresh=False  # Set to True to refetch data\n",
        ")"
      ]
    },
    {
      "cell_type": "code",
      "execution_count": null,
      "id": "7dfc3158",
      "metadata": {},
      "outputs": [
        {
          "name": "stdout",
          "output_type": "stream",
          "text": [
            "\n",
            "Data Summary:\n",
            "Vacancies: 891 records\n",
            "Confirmations: 1245 records\n",
            "Emergencies: 353 records\n",
            "Combined: 2489 records\n"
          ]
        }
      ],
      "source": [
        "print(\"\\nData Summary:\")\n",
        "print(f\"Vacancies: {len(vacancies_df) if vacancies_df is not None else 0} records\")\n",
        "print(f\"Confirmations: {len(confirmations_df) if confirmations_df is not None else 0} records\")\n",
        "print(f\"Emergencies: {len(emergencies_df) if emergencies_df is not None else 0} records\")\n",
        "print(f\"Combined: {len(combined_df) if combined_df is not None else 0} records\")"
      ]
    },
    {
      "cell_type": "code",
      "execution_count": null,
      "id": "af7cfe3e",
      "metadata": {},
      "outputs": [
        {
          "name": "stdout",
          "output_type": "stream",
          "text": [
            "\n",
            "Sample data from combined dataset:\n"
          ]
        },
        {
          "data": {
            "text/html": [
              "<div>\n",
              "<style scoped>\n",
              "    .dataframe tbody tr th:only-of-type {\n",
              "        vertical-align: middle;\n",
              "    }\n",
              "\n",
              "    .dataframe tbody tr th {\n",
              "        vertical-align: top;\n",
              "    }\n",
              "\n",
              "    .dataframe thead th {\n",
              "        text-align: right;\n",
              "    }\n",
              "</style>\n",
              "<table border=\"1\" class=\"dataframe\">\n",
              "  <thead>\n",
              "    <tr style=\"text-align: right;\">\n",
              "      <th></th>\n",
              "      <th>court</th>\n",
              "      <th>incumbent</th>\n",
              "      <th>vacancy_reason</th>\n",
              "      <th>vacancy_date</th>\n",
              "      <th>nominee</th>\n",
              "      <th>nomination_date</th>\n",
              "      <th>source_year</th>\n",
              "      <th>source_month</th>\n",
              "      <th>source_page_type</th>\n",
              "      <th>confirmation_date</th>\n",
              "      <th>circuit_district</th>\n",
              "      <th>vacancy_created_by</th>\n",
              "      <th>reason</th>\n",
              "      <th>days_pending</th>\n",
              "      <th>weighted</th>\n",
              "      <th>adjusted</th>\n",
              "    </tr>\n",
              "  </thead>\n",
              "  <tbody>\n",
              "    <tr>\n",
              "      <th>0</th>\n",
              "      <td>01 - CCA</td>\n",
              "      <td>Howard,Jeffrey R.</td>\n",
              "      <td>Senior</td>\n",
              "      <td>03/31/2022</td>\n",
              "      <td>Aframe,Seth Robert</td>\n",
              "      <td>10/04/2023</td>\n",
              "      <td>2024</td>\n",
              "      <td>1</td>\n",
              "      <td>vacancies</td>\n",
              "      <td>NaN</td>\n",
              "      <td>NaN</td>\n",
              "      <td>NaN</td>\n",
              "      <td>NaN</td>\n",
              "      <td>NaN</td>\n",
              "      <td>NaN</td>\n",
              "      <td>NaN</td>\n",
              "    </tr>\n",
              "    <tr>\n",
              "      <th>1</th>\n",
              "      <td>02 - CT</td>\n",
              "      <td>Merriam,Sarah A. L.</td>\n",
              "      <td>Elevated</td>\n",
              "      <td>09/15/2022</td>\n",
              "      <td>Russell,Sarah French</td>\n",
              "      <td>10/04/2023</td>\n",
              "      <td>2024</td>\n",
              "      <td>1</td>\n",
              "      <td>vacancies</td>\n",
              "      <td>NaN</td>\n",
              "      <td>NaN</td>\n",
              "      <td>NaN</td>\n",
              "      <td>NaN</td>\n",
              "      <td>NaN</td>\n",
              "      <td>NaN</td>\n",
              "      <td>NaN</td>\n",
              "    </tr>\n",
              "    <tr>\n",
              "      <th>2</th>\n",
              "      <td>02 - NY-S</td>\n",
              "      <td>Gardephe,Paul G.</td>\n",
              "      <td>Senior</td>\n",
              "      <td>08/09/2023</td>\n",
              "      <td>NaN</td>\n",
              "      <td>NaN</td>\n",
              "      <td>2024</td>\n",
              "      <td>1</td>\n",
              "      <td>vacancies</td>\n",
              "      <td>NaN</td>\n",
              "      <td>NaN</td>\n",
              "      <td>NaN</td>\n",
              "      <td>NaN</td>\n",
              "      <td>NaN</td>\n",
              "      <td>NaN</td>\n",
              "      <td>NaN</td>\n",
              "    </tr>\n",
              "    <tr>\n",
              "      <th>3</th>\n",
              "      <td>02 - NY-W</td>\n",
              "      <td>Geraci Jr.,Frank Paul</td>\n",
              "      <td>Senior</td>\n",
              "      <td>04/01/2023</td>\n",
              "      <td>Holland,Colleen Danielle</td>\n",
              "      <td>09/11/2023</td>\n",
              "      <td>2024</td>\n",
              "      <td>1</td>\n",
              "      <td>vacancies</td>\n",
              "      <td>NaN</td>\n",
              "      <td>NaN</td>\n",
              "      <td>NaN</td>\n",
              "      <td>NaN</td>\n",
              "      <td>NaN</td>\n",
              "      <td>NaN</td>\n",
              "      <td>NaN</td>\n",
              "    </tr>\n",
              "    <tr>\n",
              "      <th>4</th>\n",
              "      <td>03 - CCA</td>\n",
              "      <td>Greenaway Jr.,Joseph A.</td>\n",
              "      <td>Retired</td>\n",
              "      <td>06/15/2023</td>\n",
              "      <td>Mangi,Adeel Abdullah</td>\n",
              "      <td>11/27/2023</td>\n",
              "      <td>2024</td>\n",
              "      <td>1</td>\n",
              "      <td>vacancies</td>\n",
              "      <td>NaN</td>\n",
              "      <td>NaN</td>\n",
              "      <td>NaN</td>\n",
              "      <td>NaN</td>\n",
              "      <td>NaN</td>\n",
              "      <td>NaN</td>\n",
              "      <td>NaN</td>\n",
              "    </tr>\n",
              "  </tbody>\n",
              "</table>\n",
              "</div>"
            ],
            "text/plain": [
              "       court                incumbent vacancy_reason vacancy_date  \\\n",
              "0   01 - CCA        Howard,Jeffrey R.         Senior   03/31/2022   \n",
              "1    02 - CT      Merriam,Sarah A. L.       Elevated   09/15/2022   \n",
              "2  02 - NY-S         Gardephe,Paul G.         Senior   08/09/2023   \n",
              "3  02 - NY-W    Geraci Jr.,Frank Paul         Senior   04/01/2023   \n",
              "4   03 - CCA  Greenaway Jr.,Joseph A.        Retired   06/15/2023   \n",
              "\n",
              "                    nominee nomination_date  source_year  source_month  \\\n",
              "0        Aframe,Seth Robert      10/04/2023         2024             1   \n",
              "1      Russell,Sarah French      10/04/2023         2024             1   \n",
              "2                       NaN             NaN         2024             1   \n",
              "3  Holland,Colleen Danielle      09/11/2023         2024             1   \n",
              "4      Mangi,Adeel Abdullah      11/27/2023         2024             1   \n",
              "\n",
              "  source_page_type confirmation_date circuit_district vacancy_created_by  \\\n",
              "0        vacancies               NaN              NaN                NaN   \n",
              "1        vacancies               NaN              NaN                NaN   \n",
              "2        vacancies               NaN              NaN                NaN   \n",
              "3        vacancies               NaN              NaN                NaN   \n",
              "4        vacancies               NaN              NaN                NaN   \n",
              "\n",
              "  reason  days_pending  weighted  adjusted  \n",
              "0    NaN           NaN       NaN       NaN  \n",
              "1    NaN           NaN       NaN       NaN  \n",
              "2    NaN           NaN       NaN       NaN  \n",
              "3    NaN           NaN       NaN       NaN  \n",
              "4    NaN           NaN       NaN       NaN  "
            ]
          },
          "metadata": {},
          "output_type": "display_data"
        },
        {
          "name": "stdout",
          "output_type": "stream",
          "text": [
            "\n",
            "Basic Statistics:\n",
            "\n",
            "Date Range:\n",
            "Earliest vacancy: 01/01/2018\n",
            "Latest vacancy: 12/31/2024\n",
            "\n",
            "Records per year:\n",
            "source_year\n",
            "2024    2013\n",
            "2025     476\n",
            "Name: count, dtype: int64\n",
            "\n",
            "Records by Circuit/District:\n",
            "circuit_district\n",
            "07 - ILN     66\n",
            "02 - NYE     55\n",
            "09 - CAC     54\n",
            "02 - NYS     51\n",
            "03 - NJ      46\n",
            "09 - CAN     46\n",
            "06 - MIE     44\n",
            "11 - FL-M    42\n",
            "05 - TX-W    40\n",
            "01 - MA      37\n",
            "Name: count, dtype: int64\n"
          ]
        }
      ],
      "source": [
        "if combined_df is not None:\n",
        "    print(\"\\nSample data from combined dataset:\")\n",
        "    display(combined_df.head())\n",
        "    \n",
        "    # Basic statistics\n",
        "    print(\"\\nBasic Statistics:\")\n",
        "    \n",
        "    if 'vacancy_date' in combined_df.columns:\n",
        "        print(\"\\nDate Range:\")\n",
        "        print(f\"Earliest vacancy: {combined_df['vacancy_date'].min()}\")\n",
        "        print(f\"Latest vacancy: {combined_df['vacancy_date'].max()}\")\n",
        "    \n",
        "    print('\\nRecords per year:')\n",
        "    print(combined_df['source_year'].value_counts().sort_index())\n",
        "    \n",
        "    if 'circuit_district' in combined_df.columns:\n",
        "        print(\"\\nRecords by Circuit/District:\")\n",
        "        print(combined_df['circuit_district'].value_counts().head(10))\n",
        "        "
      ]
    },
    {
      "cell_type": "markdown",
      "id": "390ee9ae",
      "metadata": {},
      "source": [
        "## 2. Save Raw Data\n",
        "\n",
        "Save the raw data to a CSV file in the `data/raw` directory."
      ]
    },
    {
      "cell_type": "code",
      "execution_count": null,
      "id": "ba05821a",
      "metadata": {},
      "outputs": [
        {
          "ename": "NameError",
          "evalue": "name 'df' is not defined",
          "output_type": "error",
          "traceback": [
            "\u001b[31m---------------------------------------------------------------------------\u001b[39m",
            "\u001b[31mNameError\u001b[39m                                 Traceback (most recent call last)",
            "\u001b[36mCell\u001b[39m\u001b[36m \u001b[39m\u001b[32mIn[23]\u001b[39m\u001b[32m, line 15\u001b[39m\n\u001b[32m     12\u001b[39m         \u001b[38;5;28mprint\u001b[39m(\u001b[33mf\u001b[39m\u001b[33m'\u001b[39m\u001b[33mError saving data: \u001b[39m\u001b[38;5;132;01m{\u001b[39;00me\u001b[38;5;132;01m}\u001b[39;00m\u001b[33m'\u001b[39m)\n\u001b[32m     14\u001b[39m \u001b[38;5;66;03m# Save the data we just fetched\u001b[39;00m\n\u001b[32m---> \u001b[39m\u001b[32m15\u001b[39m \u001b[38;5;28;01mif\u001b[39;00m \u001b[43mdf\u001b[49m \u001b[38;5;129;01mis\u001b[39;00m \u001b[38;5;129;01mnot\u001b[39;00m \u001b[38;5;28;01mNone\u001b[39;00m:\n\u001b[32m     16\u001b[39m     save_raw_data(df, year_to_fetch)\n",
            "\u001b[31mNameError\u001b[39m: name 'df' is not defined"
          ]
        }
      ],
      "source": [
        "def save_raw_data(df, year):\n",
        "    \"\"\"Save the raw data to a CSV file.\"\"\"\n",
        "    if df is None or df.empty:\n",
        "        print('No data to save.')\n",
        "        return\n",
        "    \n",
        "    filename = DATA_RAW / f'judicial_vacancies_{year}.csv'\n",
        "    try:\n",
        "        dataset.save_to_csv(df, filename)\n",
        "        print(f'Data saved to {filename}')\n",
        "    except Exception as e:\n",
        "        print(f'Error saving data: {e}')\n",
        "\n",
        "# Save the data we just fetched\n",
        "if df is not None:\n",
        "    save_raw_data(df, year_to_fetch)"
      ]
    },
    {
      "cell_type": "markdown",
      "id": "aa3f6baa",
      "metadata": {},
      "source": [
        "## 3. Load and Explore the Saved Data\n",
        "\n",
        "Let's verify that we can load the saved data."
      ]
    },
    {
      "cell_type": "code",
      "execution_count": null,
      "id": "8bf803db",
      "metadata": {},
      "outputs": [
        {
          "name": "stdout",
          "output_type": "stream",
          "text": [
            "Loaded 2380 records from /home/wsl2ubuntuuser/nomination_predictor/data/raw/judicial_vacancies_2024.csv\n",
            "\n",
            "DataFrame info:\n",
            "<class 'pandas.core.frame.DataFrame'>\n",
            "RangeIndex: 2380 entries, 0 to 2379\n",
            "Data columns (total 7 columns):\n",
            " #   Column                Non-Null Count  Dtype  \n",
            "---  ------                --------------  -----  \n",
            " 0   court                 2380 non-null   object \n",
            " 1   vacancy_date          2182 non-null   object \n",
            " 2   status                0 non-null      float64\n",
            " 3   nominating_president  0 non-null      float64\n",
            " 4   nominee               1543 non-null   object \n",
            " 5   year                  2380 non-null   int64  \n",
            " 6   month                 2380 non-null   object \n",
            "dtypes: float64(2), int64(1), object(4)\n",
            "memory usage: 130.3+ KB\n"
          ]
        },
        {
          "data": {
            "text/plain": [
              "None"
            ]
          },
          "metadata": {},
          "output_type": "display_data"
        },
        {
          "name": "stdout",
          "output_type": "stream",
          "text": [
            "\n",
            "First few records:\n"
          ]
        },
        {
          "data": {
            "text/html": [
              "<div>\n",
              "<style scoped>\n",
              "    .dataframe tbody tr th:only-of-type {\n",
              "        vertical-align: middle;\n",
              "    }\n",
              "\n",
              "    .dataframe tbody tr th {\n",
              "        vertical-align: top;\n",
              "    }\n",
              "\n",
              "    .dataframe thead th {\n",
              "        text-align: right;\n",
              "    }\n",
              "</style>\n",
              "<table border=\"1\" class=\"dataframe\">\n",
              "  <thead>\n",
              "    <tr style=\"text-align: right;\">\n",
              "      <th></th>\n",
              "      <th>court</th>\n",
              "      <th>vacancy_date</th>\n",
              "      <th>status</th>\n",
              "      <th>nominating_president</th>\n",
              "      <th>nominee</th>\n",
              "      <th>year</th>\n",
              "      <th>month</th>\n",
              "    </tr>\n",
              "  </thead>\n",
              "  <tbody>\n",
              "    <tr>\n",
              "      <th>0</th>\n",
              "      <td>US Court of Appeals</td>\n",
              "      <td>NaN</td>\n",
              "      <td>NaN</td>\n",
              "      <td>NaN</td>\n",
              "      <td>NaN</td>\n",
              "      <td>2024</td>\n",
              "      <td>vacancy summary for december 2024</td>\n",
              "    </tr>\n",
              "    <tr>\n",
              "      <th>1</th>\n",
              "      <td>US District Courts (includes territorial courts*)</td>\n",
              "      <td>NaN</td>\n",
              "      <td>NaN</td>\n",
              "      <td>NaN</td>\n",
              "      <td>NaN</td>\n",
              "      <td>2024</td>\n",
              "      <td>vacancy summary for december 2024</td>\n",
              "    </tr>\n",
              "    <tr>\n",
              "      <th>2</th>\n",
              "      <td>US Court of International Trade</td>\n",
              "      <td>NaN</td>\n",
              "      <td>NaN</td>\n",
              "      <td>NaN</td>\n",
              "      <td>NaN</td>\n",
              "      <td>2024</td>\n",
              "      <td>vacancy summary for december 2024</td>\n",
              "    </tr>\n",
              "    <tr>\n",
              "      <th>3</th>\n",
              "      <td>US Court of Federal Claims</td>\n",
              "      <td>NaN</td>\n",
              "      <td>NaN</td>\n",
              "      <td>NaN</td>\n",
              "      <td>NaN</td>\n",
              "      <td>2024</td>\n",
              "      <td>vacancy summary for december 2024</td>\n",
              "    </tr>\n",
              "    <tr>\n",
              "      <th>4</th>\n",
              "      <td>US Supreme Court</td>\n",
              "      <td>NaN</td>\n",
              "      <td>NaN</td>\n",
              "      <td>NaN</td>\n",
              "      <td>NaN</td>\n",
              "      <td>2024</td>\n",
              "      <td>vacancy summary for december 2024</td>\n",
              "    </tr>\n",
              "  </tbody>\n",
              "</table>\n",
              "</div>"
            ],
            "text/plain": [
              "                                               court vacancy_date  status  \\\n",
              "0                                US Court of Appeals          NaN     NaN   \n",
              "1  US District Courts (includes territorial courts*)          NaN     NaN   \n",
              "2                    US Court of International Trade          NaN     NaN   \n",
              "3                         US Court of Federal Claims          NaN     NaN   \n",
              "4                                   US Supreme Court          NaN     NaN   \n",
              "\n",
              "   nominating_president nominee  year                              month  \n",
              "0                   NaN     NaN  2024  vacancy summary for december 2024  \n",
              "1                   NaN     NaN  2024  vacancy summary for december 2024  \n",
              "2                   NaN     NaN  2024  vacancy summary for december 2024  \n",
              "3                   NaN     NaN  2024  vacancy summary for december 2024  \n",
              "4                   NaN     NaN  2024  vacancy summary for december 2024  "
            ]
          },
          "metadata": {},
          "output_type": "display_data"
        }
      ],
      "source": [
        "def load_raw_data(year):\n",
        "    \"\"\"Load raw data from a CSV file.\"\"\"\n",
        "    filename = DATA_RAW / f'judicial_vacancies_{year}.csv'\n",
        "    if not filename.exists():\n",
        "        print(f'File not found: {filename}')\n",
        "        return None\n",
        "    \n",
        "    try:\n",
        "        df = pd.read_csv(filename)\n",
        "        print(f'Loaded {len(df)} records from {filename}')\n",
        "        return df\n",
        "    except Exception as e:\n",
        "        print(f'Error loading {filename}: {e}')\n",
        "        return None\n",
        "\n",
        "# Load the data we just saved\n",
        "loaded_df = load_raw_data(year_to_fetch)\n",
        "if loaded_df is not None:\n",
        "    print('\\nDataFrame info:')\n",
        "    display(loaded_df.info())\n",
        "    print('\\nFirst few records:')\n",
        "    display(loaded_df.head())"
      ]
    },
    {
      "cell_type": "markdown",
      "id": "6720fbb0",
      "metadata": {},
      "source": [
        "## Next Steps\n",
        "\n",
        "1. **Data Cleaning**: In the next notebook, we'll clean and preprocess this data.\n",
        "2. **Exploratory Analysis**: We'll explore the data to understand its structure and quality.\n",
        "3. **Feature Engineering**: We'll create additional features that might be useful for analysis.\n",
        "4. **Visualization**: We'll create visualizations to understand trends and patterns."
      ]
    }
  ],
  "metadata": {
    "kernelspec": {
      "display_name": "nomination_predictor",
      "language": "python",
      "name": "python3"
    },
    "language_info": {
      "codemirror_mode": {
        "name": "ipython",
        "version": 3
      },
      "file_extension": ".py",
      "mimetype": "text/x-python",
      "name": "python",
      "nbconvert_exporter": "python",
      "pygments_lexer": "ipython3",
      "version": "3.13.5"
    }
  },
  "nbformat": 4,
  "nbformat_minor": 5
}
