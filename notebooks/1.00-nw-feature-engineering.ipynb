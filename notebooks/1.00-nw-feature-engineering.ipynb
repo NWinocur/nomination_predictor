{
 "cells": [
  {
   "cell_type": "markdown",
   "id": "dd428ca2",
   "metadata": {},
   "source": [
    "# Notebook 1 – Data Cleaning, Feature Engineering, & Entity Resolution\n",
    "**Project:** Judicial Vacancy → Nomination/Confirmation Pipeline\n",
    "\n",
    "*Initial draft generated via ChatGPT model o3 on 2025-07-12T02:40:38.399372Z*"
   ]
  },
  {
   "cell_type": "code",
   "execution_count": null,
   "id": "aa69ea97",
   "metadata": {},
   "outputs": [
    {
     "name": "stdout",
     "output_type": "stream",
     "text": [
      "\u001b[32m2025-07-12 10:51:22.732\u001b[0m | \u001b[1mINFO    \u001b[0m | \u001b[36mnomination_predictor.config\u001b[0m:\u001b[36m<module>\u001b[0m:\u001b[36m103\u001b[0m - \u001b[1mProject root: /home/wsl2ubuntuuser/nomination_predictor\u001b[0m\n",
      "\u001b[32m2025-07-12 10:51:22.734\u001b[0m | \u001b[1mINFO    \u001b[0m | \u001b[36mnomination_predictor.config\u001b[0m:\u001b[36m<module>\u001b[0m:\u001b[36m127\u001b[0m - \u001b[1mConfiguration loaded\u001b[0m\n"
     ]
    },
    {
     "data": {
      "text/plain": [
       "5"
      ]
     },
     "execution_count": 1,
     "metadata": {},
     "output_type": "execute_result"
    }
   ],
   "source": [
    "\n",
    "import json\n",
    "import os\n",
    "import re\n",
    "import string\n",
    "import sys\n",
    "from datetime import datetime\n",
    "from pathlib import Path\n",
    "\n",
    "import pandas as pd\n",
    "from loguru import logger\n",
    "from rapidfuzz import fuzz, process\n",
    "\n",
    "# Add the project root to the path so we can import our modules\n",
    "project_root = Path.cwd().parent\n",
    "sys.path.insert(0, str(project_root))\n",
    "\n",
    "from nomination_predictor.config import INTERIM_DATA_DIR, RAW_DATA_DIR\n",
    "from nomination_predictor.congress_api_utils import \\\n",
    "    enrich_congress_nominees_dataframe\n",
    "\n",
    "# Setup logging\n",
    "logger.remove()  # Remove default handler\n",
    "logger.add(sys.stderr, format=\"<green>{time:YYYY-MM-DD HH:mm:ss}</green> | <level>{level}</level> | <cyan>{function}</cyan> - <level>{message}</level>\", level=\"INFO\")"
   ]
  },
  {
   "cell_type": "code",
   "execution_count": null,
   "id": "3acce299",
   "metadata": {},
   "outputs": [],
   "source": [
    "\n",
    "# ---------------------------------------------------------------------------\n",
    "# Helper: clean / normalize names\n",
    "def clean_name(name: str) -> str:\n",
    "    if pd.isna(name):\n",
    "        return \"\"\n",
    "    name = str(name).upper()\n",
    "    name = re.sub(r\"[\\.,]\", \"\", name)          # drop punctuation\n",
    "    name = re.sub(r\"\\s+\", \" \", name).strip()\n",
    "    return name\n",
    "\n",
    "def split_name(name: str):\n",
    "    \"\"\"\n",
    "    Very naive splitter: returns first, middle (maybe empty), last\n",
    "    \"\"\"\n",
    "    parts = clean_name(name).split()\n",
    "    if not parts:\n",
    "        return \"\", \"\", \"\"\n",
    "    if len(parts) == 1:\n",
    "        return parts[0], \"\", \"\"\n",
    "    if len(parts) == 2:\n",
    "        return parts[0], \"\", parts[1]\n",
    "    return parts[0], \" \".join(parts[1:-1]), parts[-1]\n",
    "\n",
    "def normalised_court(text: str) -> str:\n",
    "    if pd.isna(text):\n",
    "        return \"\"\n",
    "    text = text.upper().replace(\"UNITED STATES\", \"\").replace(\"U.S.\", \"\").strip()\n",
    "    text = re.sub(r\"\\s+\", \" \", text)\n",
    "    return text"
   ]
  },
  {
   "cell_type": "code",
   "execution_count": null,
   "id": "8cf3df33",
   "metadata": {},
   "outputs": [
    {
     "name": "stderr",
     "output_type": "stream",
     "text": [
      "\u001b[32m2025-07-12 10:51:23\u001b[0m | \u001b[1mINFO\u001b[0m | \u001b[36mload_and_prepare_dataframes\u001b[0m - \u001b[1mLoaded 4022 judges, 4720 service records, 285 congress nominees, 285 nominations\u001b[0m\n"
     ]
    },
    {
     "name": "stdout",
     "output_type": "stream",
     "text": [
      "Loaded: 4022 judges 4720 service records 285 congress nominees 285 nominations\n"
     ]
    }
   ],
   "source": [
    "from nomination_predictor.features import load_and_prepare_dataframes\n",
    "\n",
    "# Load and prepare all dataframes\n",
    "dfs = load_and_prepare_dataframes(RAW_DATA_DIR)\n",
    "cong_nominees = dfs[\"cong_nominees\"]  # This now has all the derived fields\n",
    "fjc_judges    = dfs[\"fjc_judges\"]   \n",
    "fjc_service   = dfs[\"fjc_service\"]\n",
    "cong_nominations = dfs[\"cong_nominations\"]\n",
    "\n",
    "print(\"Loaded:\",\n",
    "      len(fjc_judges), \"judges\",\n",
    "      len(fjc_service), \"service records\",\n",
    "      len(cong_nominees), \"congress nominees\",\n",
    "      len(cong_nominations), \"nominations\")"
   ]
  },
  {
   "cell_type": "markdown",
   "id": "24052def",
   "metadata": {},
   "source": [
    "Drop non-judge roles from nominations & nominees list"
   ]
  },
  {
   "cell_type": "code",
   "execution_count": null,
   "id": "3584bea5",
   "metadata": {},
   "outputs": [
    {
     "name": "stderr",
     "output_type": "stream",
     "text": [
      "\u001b[32m2025-07-12 10:51:23\u001b[0m | \u001b[1mINFO\u001b[0m | \u001b[36mfilter_non_judicial_nominations\u001b[0m - \u001b[1mFound 78 unique citations with non-judicial titles\u001b[0m\n",
      "\u001b[32m2025-07-12 10:51:23\u001b[0m | \u001b[1mINFO\u001b[0m | \u001b[36mfilter_non_judicial_nominations\u001b[0m - \u001b[1mRemoved 78/285 non-judicial nominations and 78/285 corresponding nominee records\u001b[0m\n"
     ]
    }
   ],
   "source": [
    "# Filter out non-judicial nominations using the function from features.py\n",
    "from nomination_predictor.features import filter_non_judicial_nominations\n",
    "\n",
    "# Define non-judicial titles to filter out\n",
    "non_judicial_titles = [\n",
    "    \"Attorney\", \"Board\", \"Commission\", \"Director\", \"Marshal\",\n",
    "    \"Assistant\", \"Representative\", \"Secretary of\", \"Member of\"\n",
    "]\n",
    "\n",
    "# Apply the filter\n",
    "cong_nominations, cong_nominees = filter_non_judicial_nominations(\n",
    "    cong_nominations,\n",
    "    cong_nominees,\n",
    "    non_judicial_titles=non_judicial_titles\n",
    ")"
   ]
  },
  {
   "cell_type": "code",
   "execution_count": null,
   "id": "75a767be",
   "metadata": {},
   "outputs": [],
   "source": [
    "# --- Clean Congress nominees ------------------------------------------------\n",
    "cong_nominees[\"full_name_clean\"] = cong_nominees[\"full_name\"].apply(clean_name)\n",
    "cong_nominees[[\"first\",\"middle\",\"last\"]] = cong_nominees[\"full_name_clean\"].apply(\n",
    "    lambda n: pd.Series(split_name(n)))\n",
    "\n",
    "cong_nominees[\"court_clean\"] = cong_nominees[\"organization\"].apply(normalised_court)\n",
    "cong_nominees[\"nomination_date\"] = pd.to_datetime(cong_nominees[\"nomination_date\"])\n",
    "\n",
    "# --- Clean FJC judges -------------------------------------------------------\n",
    "fjc_judges[\"full_name_clean\"] = fjc_judges[\"name_full\"].apply(clean_name)\n",
    "fjc_judges[[\"first\",\"middle\",\"last\"]] = fjc_judges[\"full_name_clean\"].apply(\n",
    "    lambda n: pd.Series(split_name(n)))\n",
    "\n",
    "# We'll need a mapping from nid to service records for date & court validation\n",
    "fjc_service[\"court_clean\"] = fjc_service[\"court_name\"].apply(normalised_court)\n",
    "fjc_service[\"nomination_date\"] = pd.to_datetime(fjc_service[\"nomination_date\"], errors=\"coerce\")\n",
    "fjc_service[\"commission_date\"] = pd.to_datetime(fjc_service[\"commission_date\"], errors=\"coerce\")"
   ]
  },
  {
   "cell_type": "code",
   "execution_count": null,
   "id": "26795292",
   "metadata": {},
   "outputs": [],
   "source": [
    "\n",
    "# Block by last name exact match\n",
    "blocks = {}\n",
    "for lname, group in fjc_judges.groupby(\"last\"):\n",
    "    blocks[lname] = group\n",
    "\n",
    "def candidate_fjc_rows(row):\n",
    "    return blocks.get(row[\"last\"], pd.DataFrame())"
   ]
  },
  {
   "cell_type": "code",
   "execution_count": null,
   "id": "8cdbc330",
   "metadata": {},
   "outputs": [],
   "source": [
    "\n",
    "def best_match(row):\n",
    "    candidates = candidate_fjc_rows(row)\n",
    "    if candidates.empty:\n",
    "        return pd.NA, 0.0\n",
    "    # Compute combined score: name similarity + court similarity + date proximity\n",
    "    best_score = 0.0\n",
    "    best_nid = pd.NA\n",
    "    for _, cand in candidates.iterrows():\n",
    "        name_score = fuzz.token_set_ratio(row[\"full_name_clean\"], cand[\"full_name_clean\"])\n",
    "        # Use service records to find any matching nomination date\n",
    "        entries = fjc_service[fjc_service[\"nid\"] == cand[\"nid\"]]\n",
    "        date_score = 0\n",
    "        court_score = 0\n",
    "        if not entries.empty:\n",
    "            # Smallest absolute diff in days\n",
    "            diffs = (entries[\"nomination_date\"] - row[\"nomination_date\"]).abs().dt.days\n",
    "            date_score = 100 - diffs.min() if diffs.notna().any() else 0\n",
    "            # any court string overlap\n",
    "            if row[\"court_clean\"]:\n",
    "                if any(row[\"court_clean\"] in c for c in entries[\"court_clean\"]):\n",
    "                    court_score = 100\n",
    "                else:\n",
    "                    court_score = max(fuzz.partial_ratio(row[\"court_clean\"], c) for c in entries[\"court_clean\"])\n",
    "        total = 0.6*name_score + 0.3*date_score + 0.1*court_score\n",
    "        if total > best_score:\n",
    "            best_score, best_nid = total, cand[\"nid\"]\n",
    "    return best_nid, round(best_score,1)"
   ]
  },
  {
   "cell_type": "code",
   "execution_count": null,
   "id": "af76ebb2",
   "metadata": {},
   "outputs": [],
   "source": [
    "# Import the new filter_confirmed_nominees function\n",
    "from nomination_predictor.features import (analyze_match_failures,\n",
    "                                           filter_confirmed_nominees,\n",
    "                                           load_and_prepare_dataframes)\n",
    "\n",
    "# Load and prepare all dataframes\n",
    "dfs = load_and_prepare_dataframes(RAW_DATA_DIR)\n",
    "cong_nominees = dfs[\"cong_nominees\"]  # This now has all the derived fields\n",
    "fjc_judges = dfs[\"fjc_judges\"]\n",
    "fjc_service = dfs[\"fjc_service\"]\n",
    "cong_nominations = dfs[\"cong_nominations\"]\n",
    "\n",
    "# OPTIMIZATION: Filter to only confirmed nominees before matching\n",
    "# This saves processing time by only matching nominees who were confirmed\n",
    "confirmed_nominees = filter_confirmed_nominees(cong_nominees, cong_nominations)\n",
    "print(f\"Focusing on {len(confirmed_nominees)} confirmed nominees out of {len(cong_nominees)} total nominees\")\n",
    "\n",
    "# Only apply best_match to confirmed nominees\n",
    "confirmed_nominees[[\"match_nid\", \"match_score\"]] = confirmed_nominees.apply(\n",
    "    best_match, axis=1, result_type=\"expand\")\n",
    "\n",
    "# Merge back with original dataframe to preserve all records\n",
    "# Non-confirmed nominees will have NaN for match fields\n",
    "cong_nominees = cong_nominees.merge(\n",
    "    confirmed_nominees[[\"citation\", \"match_nid\", \"match_score\"]], \n",
    "    on=\"citation\", \n",
    "    how=\"left\"\n",
    ")"
   ]
  },
  {
   "cell_type": "code",
   "execution_count": null,
   "id": "7a709203",
   "metadata": {},
   "outputs": [
    {
     "name": "stdout",
     "output_type": "stream",
     "text": [
      "Matched 140/207 nominees with score ≥ 80\n"
     ]
    }
   ],
   "source": [
    "\n",
    "THRESHOLD = 80\n",
    "matches = cong_nominees[cong_nominees[\"match_score\"] >= THRESHOLD].copy()\n",
    "print(f\"Matched {len(matches)}/{len(cong_nominees)} nominees with score ≥ {THRESHOLD}\")\n",
    "matches.to_csv(INTERIM_DATA_DIR / \"congress_fjc_nominee_matches.csv\", index=False)\n",
    "\n",
    "# Save the cleaned interim datasets for downstream notebooks\n",
    "cong_nominees.to_csv(INTERIM_DATA_DIR / \"congress_nominees_cleaned.csv\", index=False)\n",
    "fjc_judges.to_csv(INTERIM_DATA_DIR / \"fjc_judges_cleaned.csv\", index=False)\n",
    "fjc_service.to_csv(INTERIM_DATA_DIR / \"fjc_service_cleaned.csv\", index=False)"
   ]
  },
  {
   "cell_type": "code",
   "execution_count": null,
   "id": "ec8e91b6",
   "metadata": {},
   "outputs": [
    {
     "name": "stdout",
     "output_type": "stream",
     "text": [
      "Matched 140/207 nominees with score ≥ 80\n",
      "\n",
      "Failure Reason Summary:\n"
     ]
    },
    {
     "data": {
      "text/html": [
       "<div>\n",
       "<style scoped>\n",
       "    .dataframe tbody tr th:only-of-type {\n",
       "        vertical-align: middle;\n",
       "    }\n",
       "\n",
       "    .dataframe tbody tr th {\n",
       "        vertical-align: top;\n",
       "    }\n",
       "\n",
       "    .dataframe thead th {\n",
       "        text-align: right;\n",
       "    }\n",
       "</style>\n",
       "<table border=\"1\" class=\"dataframe\">\n",
       "  <thead>\n",
       "    <tr style=\"text-align: right;\">\n",
       "      <th></th>\n",
       "      <th>Failure Reason</th>\n",
       "      <th>Count</th>\n",
       "    </tr>\n",
       "  </thead>\n",
       "  <tbody>\n",
       "    <tr>\n",
       "      <th>0</th>\n",
       "      <td>No potential match candidates found</td>\n",
       "      <td>48</td>\n",
       "    </tr>\n",
       "    <tr>\n",
       "      <th>1</th>\n",
       "      <td>Very low similarity - likely different person</td>\n",
       "      <td>3</td>\n",
       "    </tr>\n",
       "    <tr>\n",
       "      <th>2</th>\n",
       "      <td>Marginal match (score 76.5) - check name and c...</td>\n",
       "      <td>3</td>\n",
       "    </tr>\n",
       "    <tr>\n",
       "      <th>3</th>\n",
       "      <td>Marginal match (score 66.6) - check name and c...</td>\n",
       "      <td>2</td>\n",
       "    </tr>\n",
       "    <tr>\n",
       "      <th>4</th>\n",
       "      <td>Marginal match (score 78.5) - check name and c...</td>\n",
       "      <td>2</td>\n",
       "    </tr>\n",
       "    <tr>\n",
       "      <th>5</th>\n",
       "      <td>Marginal match (score 51.7) - check name and c...</td>\n",
       "      <td>1</td>\n",
       "    </tr>\n",
       "    <tr>\n",
       "      <th>6</th>\n",
       "      <td>Marginal match (score 61.8) - check name and c...</td>\n",
       "      <td>1</td>\n",
       "    </tr>\n",
       "    <tr>\n",
       "      <th>7</th>\n",
       "      <td>Marginal match (score 67.4) - check name and c...</td>\n",
       "      <td>1</td>\n",
       "    </tr>\n",
       "    <tr>\n",
       "      <th>8</th>\n",
       "      <td>Marginal match (score 77.3) - check name and c...</td>\n",
       "      <td>1</td>\n",
       "    </tr>\n",
       "    <tr>\n",
       "      <th>9</th>\n",
       "      <td>Marginal match (score 78.4) - check name and c...</td>\n",
       "      <td>1</td>\n",
       "    </tr>\n",
       "    <tr>\n",
       "      <th>10</th>\n",
       "      <td>Marginal match (score 75.7) - check name and c...</td>\n",
       "      <td>1</td>\n",
       "    </tr>\n",
       "    <tr>\n",
       "      <th>11</th>\n",
       "      <td>Marginal match (score 55.1) - check name and c...</td>\n",
       "      <td>1</td>\n",
       "    </tr>\n",
       "    <tr>\n",
       "      <th>12</th>\n",
       "      <td>Marginal match (score 58.0) - check name and c...</td>\n",
       "      <td>1</td>\n",
       "    </tr>\n",
       "    <tr>\n",
       "      <th>13</th>\n",
       "      <td>Marginal match (score 52.4) - check name and c...</td>\n",
       "      <td>1</td>\n",
       "    </tr>\n",
       "  </tbody>\n",
       "</table>\n",
       "</div>"
      ],
      "text/plain": [
       "                                       Failure Reason  Count\n",
       "0                 No potential match candidates found     48\n",
       "1       Very low similarity - likely different person      3\n",
       "2   Marginal match (score 76.5) - check name and c...      3\n",
       "3   Marginal match (score 66.6) - check name and c...      2\n",
       "4   Marginal match (score 78.5) - check name and c...      2\n",
       "5   Marginal match (score 51.7) - check name and c...      1\n",
       "6   Marginal match (score 61.8) - check name and c...      1\n",
       "7   Marginal match (score 67.4) - check name and c...      1\n",
       "8   Marginal match (score 77.3) - check name and c...      1\n",
       "9   Marginal match (score 78.4) - check name and c...      1\n",
       "10  Marginal match (score 75.7) - check name and c...      1\n",
       "11  Marginal match (score 55.1) - check name and c...      1\n",
       "12  Marginal match (score 58.0) - check name and c...      1\n",
       "13  Marginal match (score 52.4) - check name and c...      1"
      ]
     },
     "metadata": {},
     "output_type": "display_data"
    },
    {
     "name": "stdout",
     "output_type": "stream",
     "text": [
      "\n",
      "Example records for each failure type:\n",
      "\n",
      "No potential match candidates found:\n"
     ]
    },
    {
     "data": {
      "text/html": [
       "<div>\n",
       "<style scoped>\n",
       "    .dataframe tbody tr th:only-of-type {\n",
       "        vertical-align: middle;\n",
       "    }\n",
       "\n",
       "    .dataframe tbody tr th {\n",
       "        vertical-align: top;\n",
       "    }\n",
       "\n",
       "    .dataframe thead th {\n",
       "        text-align: right;\n",
       "    }\n",
       "</style>\n",
       "<table border=\"1\" class=\"dataframe\">\n",
       "  <thead>\n",
       "    <tr style=\"text-align: right;\">\n",
       "      <th></th>\n",
       "      <th>full_name</th>\n",
       "      <th>court_clean</th>\n",
       "      <th>match_score</th>\n",
       "      <th>failure_reason</th>\n",
       "    </tr>\n",
       "  </thead>\n",
       "  <tbody>\n",
       "    <tr>\n",
       "      <th>0</th>\n",
       "      <td>James Graham Lake</td>\n",
       "      <td>THE JUDICIARY</td>\n",
       "      <td>0.0</td>\n",
       "      <td>No potential match candidates found</td>\n",
       "    </tr>\n",
       "    <tr>\n",
       "      <th>1</th>\n",
       "      <td>Nicholas George Miranda</td>\n",
       "      <td>THE JUDICIARY</td>\n",
       "      <td>0.0</td>\n",
       "      <td>No potential match candidates found</td>\n",
       "    </tr>\n",
       "    <tr>\n",
       "      <th>5</th>\n",
       "      <td>Philip S. Hadji</td>\n",
       "      <td>THE JUDICIARY</td>\n",
       "      <td>0.0</td>\n",
       "      <td>No potential match candidates found</td>\n",
       "    </tr>\n",
       "  </tbody>\n",
       "</table>\n",
       "</div>"
      ],
      "text/plain": [
       "                 full_name    court_clean  match_score  \\\n",
       "0        James Graham Lake  THE JUDICIARY          0.0   \n",
       "1  Nicholas George Miranda  THE JUDICIARY          0.0   \n",
       "5          Philip S. Hadji  THE JUDICIARY          0.0   \n",
       "\n",
       "                        failure_reason  \n",
       "0  No potential match candidates found  \n",
       "1  No potential match candidates found  \n",
       "5  No potential match candidates found  "
      ]
     },
     "metadata": {},
     "output_type": "display_data"
    },
    {
     "name": "stdout",
     "output_type": "stream",
     "text": [
      "\n",
      "Very low similarity - likely different person:\n"
     ]
    },
    {
     "data": {
      "text/html": [
       "<div>\n",
       "<style scoped>\n",
       "    .dataframe tbody tr th:only-of-type {\n",
       "        vertical-align: middle;\n",
       "    }\n",
       "\n",
       "    .dataframe tbody tr th {\n",
       "        vertical-align: top;\n",
       "    }\n",
       "\n",
       "    .dataframe thead th {\n",
       "        text-align: right;\n",
       "    }\n",
       "</style>\n",
       "<table border=\"1\" class=\"dataframe\">\n",
       "  <thead>\n",
       "    <tr style=\"text-align: right;\">\n",
       "      <th></th>\n",
       "      <th>full_name</th>\n",
       "      <th>court_clean</th>\n",
       "      <th>match_score</th>\n",
       "      <th>failure_reason</th>\n",
       "    </tr>\n",
       "  </thead>\n",
       "  <tbody>\n",
       "    <tr>\n",
       "      <th>2</th>\n",
       "      <td>Lisa W. Wang</td>\n",
       "      <td>THE JUDICIARY</td>\n",
       "      <td>32.9</td>\n",
       "      <td>Very low similarity - likely different person</td>\n",
       "    </tr>\n",
       "    <tr>\n",
       "      <th>20</th>\n",
       "      <td>Joshua Paul Kolar</td>\n",
       "      <td>THE JUDICIARY</td>\n",
       "      <td>45.7</td>\n",
       "      <td>Very low similarity - likely different person</td>\n",
       "    </tr>\n",
       "    <tr>\n",
       "      <th>21</th>\n",
       "      <td>Eumi K. Lee</td>\n",
       "      <td>THE JUDICIARY</td>\n",
       "      <td>40.4</td>\n",
       "      <td>Very low similarity - likely different person</td>\n",
       "    </tr>\n",
       "  </tbody>\n",
       "</table>\n",
       "</div>"
      ],
      "text/plain": [
       "            full_name    court_clean  match_score  \\\n",
       "2        Lisa W. Wang  THE JUDICIARY         32.9   \n",
       "20  Joshua Paul Kolar  THE JUDICIARY         45.7   \n",
       "21        Eumi K. Lee  THE JUDICIARY         40.4   \n",
       "\n",
       "                                   failure_reason  \n",
       "2   Very low similarity - likely different person  \n",
       "20  Very low similarity - likely different person  \n",
       "21  Very low similarity - likely different person  "
      ]
     },
     "metadata": {},
     "output_type": "display_data"
    },
    {
     "name": "stdout",
     "output_type": "stream",
     "text": [
      "\n",
      "Marginal match (score 76.5) - check name and court:\n"
     ]
    },
    {
     "data": {
      "text/html": [
       "<div>\n",
       "<style scoped>\n",
       "    .dataframe tbody tr th:only-of-type {\n",
       "        vertical-align: middle;\n",
       "    }\n",
       "\n",
       "    .dataframe tbody tr th {\n",
       "        vertical-align: top;\n",
       "    }\n",
       "\n",
       "    .dataframe thead th {\n",
       "        text-align: right;\n",
       "    }\n",
       "</style>\n",
       "<table border=\"1\" class=\"dataframe\">\n",
       "  <thead>\n",
       "    <tr style=\"text-align: right;\">\n",
       "      <th></th>\n",
       "      <th>full_name</th>\n",
       "      <th>court_clean</th>\n",
       "      <th>match_score</th>\n",
       "      <th>failure_reason</th>\n",
       "    </tr>\n",
       "  </thead>\n",
       "  <tbody>\n",
       "    <tr>\n",
       "      <th>13</th>\n",
       "      <td>David Seymour Leibowitz</td>\n",
       "      <td>THE JUDICIARY</td>\n",
       "      <td>76.5</td>\n",
       "      <td>Marginal match (score 76.5) - check name and c...</td>\n",
       "    </tr>\n",
       "    <tr>\n",
       "      <th>24</th>\n",
       "      <td>Jacqueline Becerra</td>\n",
       "      <td>THE JUDICIARY</td>\n",
       "      <td>76.5</td>\n",
       "      <td>Marginal match (score 76.5) - check name and c...</td>\n",
       "    </tr>\n",
       "    <tr>\n",
       "      <th>26</th>\n",
       "      <td>Melissa Damian</td>\n",
       "      <td>THE JUDICIARY</td>\n",
       "      <td>76.5</td>\n",
       "      <td>Marginal match (score 76.5) - check name and c...</td>\n",
       "    </tr>\n",
       "  </tbody>\n",
       "</table>\n",
       "</div>"
      ],
      "text/plain": [
       "                  full_name    court_clean  match_score  \\\n",
       "13  David Seymour Leibowitz  THE JUDICIARY         76.5   \n",
       "24       Jacqueline Becerra  THE JUDICIARY         76.5   \n",
       "26           Melissa Damian  THE JUDICIARY         76.5   \n",
       "\n",
       "                                       failure_reason  \n",
       "13  Marginal match (score 76.5) - check name and c...  \n",
       "24  Marginal match (score 76.5) - check name and c...  \n",
       "26  Marginal match (score 76.5) - check name and c...  "
      ]
     },
     "metadata": {},
     "output_type": "display_data"
    },
    {
     "name": "stdout",
     "output_type": "stream",
     "text": [
      "\n",
      "Marginal match (score 66.6) - check name and court:\n"
     ]
    },
    {
     "data": {
      "text/html": [
       "<div>\n",
       "<style scoped>\n",
       "    .dataframe tbody tr th:only-of-type {\n",
       "        vertical-align: middle;\n",
       "    }\n",
       "\n",
       "    .dataframe tbody tr th {\n",
       "        vertical-align: top;\n",
       "    }\n",
       "\n",
       "    .dataframe thead th {\n",
       "        text-align: right;\n",
       "    }\n",
       "</style>\n",
       "<table border=\"1\" class=\"dataframe\">\n",
       "  <thead>\n",
       "    <tr style=\"text-align: right;\">\n",
       "      <th></th>\n",
       "      <th>full_name</th>\n",
       "      <th>court_clean</th>\n",
       "      <th>match_score</th>\n",
       "      <th>failure_reason</th>\n",
       "    </tr>\n",
       "  </thead>\n",
       "  <tbody>\n",
       "    <tr>\n",
       "      <th>23</th>\n",
       "      <td>Edward Sunyol Kiel</td>\n",
       "      <td>THE JUDICIARY</td>\n",
       "      <td>66.6</td>\n",
       "      <td>Marginal match (score 66.6) - check name and c...</td>\n",
       "    </tr>\n",
       "    <tr>\n",
       "      <th>25</th>\n",
       "      <td>Sarah French Russell</td>\n",
       "      <td>THE JUDICIARY</td>\n",
       "      <td>66.6</td>\n",
       "      <td>Marginal match (score 66.6) - check name and c...</td>\n",
       "    </tr>\n",
       "  </tbody>\n",
       "</table>\n",
       "</div>"
      ],
      "text/plain": [
       "               full_name    court_clean  match_score  \\\n",
       "23    Edward Sunyol Kiel  THE JUDICIARY         66.6   \n",
       "25  Sarah French Russell  THE JUDICIARY         66.6   \n",
       "\n",
       "                                       failure_reason  \n",
       "23  Marginal match (score 66.6) - check name and c...  \n",
       "25  Marginal match (score 66.6) - check name and c...  "
      ]
     },
     "metadata": {},
     "output_type": "display_data"
    },
    {
     "name": "stdout",
     "output_type": "stream",
     "text": [
      "\n",
      "Marginal match (score 78.5) - check name and court:\n"
     ]
    },
    {
     "data": {
      "text/html": [
       "<div>\n",
       "<style scoped>\n",
       "    .dataframe tbody tr th:only-of-type {\n",
       "        vertical-align: middle;\n",
       "    }\n",
       "\n",
       "    .dataframe tbody tr th {\n",
       "        vertical-align: top;\n",
       "    }\n",
       "\n",
       "    .dataframe thead th {\n",
       "        text-align: right;\n",
       "    }\n",
       "</style>\n",
       "<table border=\"1\" class=\"dataframe\">\n",
       "  <thead>\n",
       "    <tr style=\"text-align: right;\">\n",
       "      <th></th>\n",
       "      <th>full_name</th>\n",
       "      <th>court_clean</th>\n",
       "      <th>match_score</th>\n",
       "      <th>failure_reason</th>\n",
       "    </tr>\n",
       "  </thead>\n",
       "  <tbody>\n",
       "    <tr>\n",
       "      <th>34</th>\n",
       "      <td>Gretchen S. Lund</td>\n",
       "      <td>THE JUDICIARY</td>\n",
       "      <td>78.5</td>\n",
       "      <td>Marginal match (score 78.5) - check name and c...</td>\n",
       "    </tr>\n",
       "    <tr>\n",
       "      <th>36</th>\n",
       "      <td>Nicole G. Berner</td>\n",
       "      <td>THE JUDICIARY</td>\n",
       "      <td>78.5</td>\n",
       "      <td>Marginal match (score 78.5) - check name and c...</td>\n",
       "    </tr>\n",
       "  </tbody>\n",
       "</table>\n",
       "</div>"
      ],
      "text/plain": [
       "           full_name    court_clean  match_score  \\\n",
       "34  Gretchen S. Lund  THE JUDICIARY         78.5   \n",
       "36  Nicole G. Berner  THE JUDICIARY         78.5   \n",
       "\n",
       "                                       failure_reason  \n",
       "34  Marginal match (score 78.5) - check name and c...  \n",
       "36  Marginal match (score 78.5) - check name and c...  "
      ]
     },
     "metadata": {},
     "output_type": "display_data"
    },
    {
     "name": "stdout",
     "output_type": "stream",
     "text": [
      "\n",
      "Marginal match (score 51.7) - check name and court:\n"
     ]
    },
    {
     "data": {
      "text/html": [
       "<div>\n",
       "<style scoped>\n",
       "    .dataframe tbody tr th:only-of-type {\n",
       "        vertical-align: middle;\n",
       "    }\n",
       "\n",
       "    .dataframe tbody tr th {\n",
       "        vertical-align: top;\n",
       "    }\n",
       "\n",
       "    .dataframe thead th {\n",
       "        text-align: right;\n",
       "    }\n",
       "</style>\n",
       "<table border=\"1\" class=\"dataframe\">\n",
       "  <thead>\n",
       "    <tr style=\"text-align: right;\">\n",
       "      <th></th>\n",
       "      <th>full_name</th>\n",
       "      <th>court_clean</th>\n",
       "      <th>match_score</th>\n",
       "      <th>failure_reason</th>\n",
       "    </tr>\n",
       "  </thead>\n",
       "  <tbody>\n",
       "    <tr>\n",
       "      <th>6</th>\n",
       "      <td>Joseph Albert Laroski Jr.</td>\n",
       "      <td>THE JUDICIARY</td>\n",
       "      <td>51.7</td>\n",
       "      <td>Marginal match (score 51.7) - check name and c...</td>\n",
       "    </tr>\n",
       "  </tbody>\n",
       "</table>\n",
       "</div>"
      ],
      "text/plain": [
       "                   full_name    court_clean  match_score  \\\n",
       "6  Joseph Albert Laroski Jr.  THE JUDICIARY         51.7   \n",
       "\n",
       "                                      failure_reason  \n",
       "6  Marginal match (score 51.7) - check name and c...  "
      ]
     },
     "metadata": {},
     "output_type": "display_data"
    },
    {
     "name": "stdout",
     "output_type": "stream",
     "text": [
      "\n",
      "Marginal match (score 61.8) - check name and court:\n"
     ]
    },
    {
     "data": {
      "text/html": [
       "<div>\n",
       "<style scoped>\n",
       "    .dataframe tbody tr th:only-of-type {\n",
       "        vertical-align: middle;\n",
       "    }\n",
       "\n",
       "    .dataframe tbody tr th {\n",
       "        vertical-align: top;\n",
       "    }\n",
       "\n",
       "    .dataframe thead th {\n",
       "        text-align: right;\n",
       "    }\n",
       "</style>\n",
       "<table border=\"1\" class=\"dataframe\">\n",
       "  <thead>\n",
       "    <tr style=\"text-align: right;\">\n",
       "      <th></th>\n",
       "      <th>full_name</th>\n",
       "      <th>court_clean</th>\n",
       "      <th>match_score</th>\n",
       "      <th>failure_reason</th>\n",
       "    </tr>\n",
       "  </thead>\n",
       "  <tbody>\n",
       "    <tr>\n",
       "      <th>16</th>\n",
       "      <td>Mustafa Taher Kasubhai</td>\n",
       "      <td>THE JUDICIARY</td>\n",
       "      <td>61.8</td>\n",
       "      <td>Marginal match (score 61.8) - check name and c...</td>\n",
       "    </tr>\n",
       "  </tbody>\n",
       "</table>\n",
       "</div>"
      ],
      "text/plain": [
       "                 full_name    court_clean  match_score  \\\n",
       "16  Mustafa Taher Kasubhai  THE JUDICIARY         61.8   \n",
       "\n",
       "                                       failure_reason  \n",
       "16  Marginal match (score 61.8) - check name and c...  "
      ]
     },
     "metadata": {},
     "output_type": "display_data"
    },
    {
     "name": "stdout",
     "output_type": "stream",
     "text": [
      "\n",
      "Marginal match (score 67.4) - check name and court:\n"
     ]
    },
    {
     "data": {
      "text/html": [
       "<div>\n",
       "<style scoped>\n",
       "    .dataframe tbody tr th:only-of-type {\n",
       "        vertical-align: middle;\n",
       "    }\n",
       "\n",
       "    .dataframe tbody tr th {\n",
       "        vertical-align: top;\n",
       "    }\n",
       "\n",
       "    .dataframe thead th {\n",
       "        text-align: right;\n",
       "    }\n",
       "</style>\n",
       "<table border=\"1\" class=\"dataframe\">\n",
       "  <thead>\n",
       "    <tr style=\"text-align: right;\">\n",
       "      <th></th>\n",
       "      <th>full_name</th>\n",
       "      <th>court_clean</th>\n",
       "      <th>match_score</th>\n",
       "      <th>failure_reason</th>\n",
       "    </tr>\n",
       "  </thead>\n",
       "  <tbody>\n",
       "    <tr>\n",
       "      <th>14</th>\n",
       "      <td>Seth Robert Aframe</td>\n",
       "      <td>THE JUDICIARY</td>\n",
       "      <td>67.4</td>\n",
       "      <td>Marginal match (score 67.4) - check name and c...</td>\n",
       "    </tr>\n",
       "  </tbody>\n",
       "</table>\n",
       "</div>"
      ],
      "text/plain": [
       "             full_name    court_clean  match_score  \\\n",
       "14  Seth Robert Aframe  THE JUDICIARY         67.4   \n",
       "\n",
       "                                       failure_reason  \n",
       "14  Marginal match (score 67.4) - check name and c...  "
      ]
     },
     "metadata": {},
     "output_type": "display_data"
    },
    {
     "name": "stdout",
     "output_type": "stream",
     "text": [
      "\n",
      "Marginal match (score 77.3) - check name and court:\n"
     ]
    },
    {
     "data": {
      "text/html": [
       "<div>\n",
       "<style scoped>\n",
       "    .dataframe tbody tr th:only-of-type {\n",
       "        vertical-align: middle;\n",
       "    }\n",
       "\n",
       "    .dataframe tbody tr th {\n",
       "        vertical-align: top;\n",
       "    }\n",
       "\n",
       "    .dataframe thead th {\n",
       "        text-align: right;\n",
       "    }\n",
       "</style>\n",
       "<table border=\"1\" class=\"dataframe\">\n",
       "  <thead>\n",
       "    <tr style=\"text-align: right;\">\n",
       "      <th></th>\n",
       "      <th>full_name</th>\n",
       "      <th>court_clean</th>\n",
       "      <th>match_score</th>\n",
       "      <th>failure_reason</th>\n",
       "    </tr>\n",
       "  </thead>\n",
       "  <tbody>\n",
       "    <tr>\n",
       "      <th>31</th>\n",
       "      <td>Amy M. Baggio</td>\n",
       "      <td>THE JUDICIARY</td>\n",
       "      <td>77.3</td>\n",
       "      <td>Marginal match (score 77.3) - check name and c...</td>\n",
       "    </tr>\n",
       "  </tbody>\n",
       "</table>\n",
       "</div>"
      ],
      "text/plain": [
       "        full_name    court_clean  match_score  \\\n",
       "31  Amy M. Baggio  THE JUDICIARY         77.3   \n",
       "\n",
       "                                       failure_reason  \n",
       "31  Marginal match (score 77.3) - check name and c...  "
      ]
     },
     "metadata": {},
     "output_type": "display_data"
    },
    {
     "name": "stdout",
     "output_type": "stream",
     "text": [
      "\n",
      "Marginal match (score 78.4) - check name and court:\n"
     ]
    },
    {
     "data": {
      "text/html": [
       "<div>\n",
       "<style scoped>\n",
       "    .dataframe tbody tr th:only-of-type {\n",
       "        vertical-align: middle;\n",
       "    }\n",
       "\n",
       "    .dataframe tbody tr th {\n",
       "        vertical-align: top;\n",
       "    }\n",
       "\n",
       "    .dataframe thead th {\n",
       "        text-align: right;\n",
       "    }\n",
       "</style>\n",
       "<table border=\"1\" class=\"dataframe\">\n",
       "  <thead>\n",
       "    <tr style=\"text-align: right;\">\n",
       "      <th></th>\n",
       "      <th>full_name</th>\n",
       "      <th>court_clean</th>\n",
       "      <th>match_score</th>\n",
       "      <th>failure_reason</th>\n",
       "    </tr>\n",
       "  </thead>\n",
       "  <tbody>\n",
       "    <tr>\n",
       "      <th>35</th>\n",
       "      <td>Kirk Edward Sherriff</td>\n",
       "      <td>THE JUDICIARY</td>\n",
       "      <td>78.4</td>\n",
       "      <td>Marginal match (score 78.4) - check name and c...</td>\n",
       "    </tr>\n",
       "  </tbody>\n",
       "</table>\n",
       "</div>"
      ],
      "text/plain": [
       "               full_name    court_clean  match_score  \\\n",
       "35  Kirk Edward Sherriff  THE JUDICIARY         78.4   \n",
       "\n",
       "                                       failure_reason  \n",
       "35  Marginal match (score 78.4) - check name and c...  "
      ]
     },
     "metadata": {},
     "output_type": "display_data"
    },
    {
     "name": "stdout",
     "output_type": "stream",
     "text": [
      "\n",
      "Marginal match (score 75.7) - check name and court:\n"
     ]
    },
    {
     "data": {
      "text/html": [
       "<div>\n",
       "<style scoped>\n",
       "    .dataframe tbody tr th:only-of-type {\n",
       "        vertical-align: middle;\n",
       "    }\n",
       "\n",
       "    .dataframe tbody tr th {\n",
       "        vertical-align: top;\n",
       "    }\n",
       "\n",
       "    .dataframe thead th {\n",
       "        text-align: right;\n",
       "    }\n",
       "</style>\n",
       "<table border=\"1\" class=\"dataframe\">\n",
       "  <thead>\n",
       "    <tr style=\"text-align: right;\">\n",
       "      <th></th>\n",
       "      <th>full_name</th>\n",
       "      <th>court_clean</th>\n",
       "      <th>match_score</th>\n",
       "      <th>failure_reason</th>\n",
       "    </tr>\n",
       "  </thead>\n",
       "  <tbody>\n",
       "    <tr>\n",
       "      <th>37</th>\n",
       "      <td>Julie Simone Sneed</td>\n",
       "      <td>THE JUDICIARY</td>\n",
       "      <td>75.7</td>\n",
       "      <td>Marginal match (score 75.7) - check name and c...</td>\n",
       "    </tr>\n",
       "  </tbody>\n",
       "</table>\n",
       "</div>"
      ],
      "text/plain": [
       "             full_name    court_clean  match_score  \\\n",
       "37  Julie Simone Sneed  THE JUDICIARY         75.7   \n",
       "\n",
       "                                       failure_reason  \n",
       "37  Marginal match (score 75.7) - check name and c...  "
      ]
     },
     "metadata": {},
     "output_type": "display_data"
    },
    {
     "name": "stdout",
     "output_type": "stream",
     "text": [
      "\n",
      "Marginal match (score 55.1) - check name and court:\n"
     ]
    },
    {
     "data": {
      "text/html": [
       "<div>\n",
       "<style scoped>\n",
       "    .dataframe tbody tr th:only-of-type {\n",
       "        vertical-align: middle;\n",
       "    }\n",
       "\n",
       "    .dataframe tbody tr th {\n",
       "        vertical-align: top;\n",
       "    }\n",
       "\n",
       "    .dataframe thead th {\n",
       "        text-align: right;\n",
       "    }\n",
       "</style>\n",
       "<table border=\"1\" class=\"dataframe\">\n",
       "  <thead>\n",
       "    <tr style=\"text-align: right;\">\n",
       "      <th></th>\n",
       "      <th>full_name</th>\n",
       "      <th>court_clean</th>\n",
       "      <th>match_score</th>\n",
       "      <th>failure_reason</th>\n",
       "    </tr>\n",
       "  </thead>\n",
       "  <tbody>\n",
       "    <tr>\n",
       "      <th>65</th>\n",
       "      <td>Carmen G. Iguina Gonzalez</td>\n",
       "      <td>THE JUDICIARY</td>\n",
       "      <td>55.1</td>\n",
       "      <td>Marginal match (score 55.1) - check name and c...</td>\n",
       "    </tr>\n",
       "  </tbody>\n",
       "</table>\n",
       "</div>"
      ],
      "text/plain": [
       "                    full_name    court_clean  match_score  \\\n",
       "65  Carmen G. Iguina Gonzalez  THE JUDICIARY         55.1   \n",
       "\n",
       "                                       failure_reason  \n",
       "65  Marginal match (score 55.1) - check name and c...  "
      ]
     },
     "metadata": {},
     "output_type": "display_data"
    },
    {
     "name": "stdout",
     "output_type": "stream",
     "text": [
      "\n",
      "Marginal match (score 58.0) - check name and court:\n"
     ]
    },
    {
     "data": {
      "text/html": [
       "<div>\n",
       "<style scoped>\n",
       "    .dataframe tbody tr th:only-of-type {\n",
       "        vertical-align: middle;\n",
       "    }\n",
       "\n",
       "    .dataframe tbody tr th {\n",
       "        vertical-align: top;\n",
       "    }\n",
       "\n",
       "    .dataframe thead th {\n",
       "        text-align: right;\n",
       "    }\n",
       "</style>\n",
       "<table border=\"1\" class=\"dataframe\">\n",
       "  <thead>\n",
       "    <tr style=\"text-align: right;\">\n",
       "      <th></th>\n",
       "      <th>full_name</th>\n",
       "      <th>court_clean</th>\n",
       "      <th>match_score</th>\n",
       "      <th>failure_reason</th>\n",
       "    </tr>\n",
       "  </thead>\n",
       "  <tbody>\n",
       "    <tr>\n",
       "      <th>153</th>\n",
       "      <td>Charles J. Willoughby Jr.</td>\n",
       "      <td>THE JUDICIARY</td>\n",
       "      <td>58.0</td>\n",
       "      <td>Marginal match (score 58.0) - check name and c...</td>\n",
       "    </tr>\n",
       "  </tbody>\n",
       "</table>\n",
       "</div>"
      ],
      "text/plain": [
       "                     full_name    court_clean  match_score  \\\n",
       "153  Charles J. Willoughby Jr.  THE JUDICIARY         58.0   \n",
       "\n",
       "                                        failure_reason  \n",
       "153  Marginal match (score 58.0) - check name and c...  "
      ]
     },
     "metadata": {},
     "output_type": "display_data"
    },
    {
     "name": "stdout",
     "output_type": "stream",
     "text": [
      "\n",
      "Marginal match (score 52.4) - check name and court:\n"
     ]
    },
    {
     "data": {
      "text/html": [
       "<div>\n",
       "<style scoped>\n",
       "    .dataframe tbody tr th:only-of-type {\n",
       "        vertical-align: middle;\n",
       "    }\n",
       "\n",
       "    .dataframe tbody tr th {\n",
       "        vertical-align: top;\n",
       "    }\n",
       "\n",
       "    .dataframe thead th {\n",
       "        text-align: right;\n",
       "    }\n",
       "</style>\n",
       "<table border=\"1\" class=\"dataframe\">\n",
       "  <thead>\n",
       "    <tr style=\"text-align: right;\">\n",
       "      <th></th>\n",
       "      <th>full_name</th>\n",
       "      <th>court_clean</th>\n",
       "      <th>match_score</th>\n",
       "      <th>failure_reason</th>\n",
       "    </tr>\n",
       "  </thead>\n",
       "  <tbody>\n",
       "    <tr>\n",
       "      <th>160</th>\n",
       "      <td>Charles J. Willoughby Jr.</td>\n",
       "      <td>THE JUDICIARY</td>\n",
       "      <td>52.4</td>\n",
       "      <td>Marginal match (score 52.4) - check name and c...</td>\n",
       "    </tr>\n",
       "  </tbody>\n",
       "</table>\n",
       "</div>"
      ],
      "text/plain": [
       "                     full_name    court_clean  match_score  \\\n",
       "160  Charles J. Willoughby Jr.  THE JUDICIARY         52.4   \n",
       "\n",
       "                                        failure_reason  \n",
       "160  Marginal match (score 52.4) - check name and c...  "
      ]
     },
     "metadata": {},
     "output_type": "display_data"
    }
   ],
   "source": [
    "from nomination_predictor.features import analyze_match_failures\n",
    "\n",
    "THRESHOLD = 80\n",
    "matches = cong_nominees[cong_nominees[\"match_score\"] >= THRESHOLD].copy()\n",
    "print(f\"Matched {len(matches)}/{len(cong_nominees)} nominees with score ≥ {THRESHOLD}\")\n",
    "\n",
    "# Analyze unmatched records to understand why they didn't match\n",
    "unmatched_df, reason_summary, examples = analyze_match_failures(cong_nominees, THRESHOLD)\n",
    "\n",
    "# Display summary of failure reasons\n",
    "print(\"\\nFailure Reason Summary:\")\n",
    "display(reason_summary)\n",
    "\n",
    "# Display a few examples of each failure type\n",
    "print(\"\\nExample records for each failure type:\")\n",
    "for reason, example_df in examples.items():\n",
    "    print(f\"\\n{reason}:\")\n",
    "    display(example_df)\n",
    "\n",
    "# Save both matched and unmatched datasets for further analysis\n",
    "matches.to_csv(INTERIM_DATA_DIR / \"congress_fjc_nominee_matches.csv\", index=False)\n",
    "unmatched_df.to_csv(INTERIM_DATA_DIR / \"congress_fjc_nominee_unmatched.csv\", index=False)\n",
    "\n",
    "# Save the cleaned interim datasets for downstream notebooks\n",
    "cong_nominees.to_csv(INTERIM_DATA_DIR / \"congress_nominees_cleaned.csv\", index=False)\n",
    "fjc_judges.to_csv(INTERIM_DATA_DIR / \"fjc_judges_cleaned.csv\", index=False)\n",
    "fjc_service.to_csv(INTERIM_DATA_DIR / \"fjc_service_cleaned.csv\", index=False)"
   ]
  },
  {
   "cell_type": "markdown",
   "id": "2efd9fe3",
   "metadata": {},
   "source": [
    "### Build predecessor lookup table"
   ]
  },
  {
   "cell_type": "code",
   "execution_count": null,
   "id": "14ed8498",
   "metadata": {},
   "outputs": [],
   "source": [
    "# Create the predecessor lookup table\n",
    "predecessor_lookup = get_predecessor_info(seat_timeline_df)\n",
    "print(f\"Created predecessor lookup: {len(predecessor_lookup)} records\")\n",
    "\n",
    "# Preview the predecessor lookup\n",
    "print(predecessor_lookup.head())\n",
    "all_dataframes['predecessor_lookup'] = predecessor_lookup"
   ]
  }
 ],
 "metadata": {
  "kernelspec": {
   "display_name": "nomination_predictor",
   "language": "python",
   "name": "python3"
  },
  "language_info": {
   "codemirror_mode": {
    "name": "ipython",
    "version": 3
   },
   "file_extension": ".py",
   "mimetype": "text/x-python",
   "name": "python",
   "nbconvert_exporter": "python",
   "pygments_lexer": "ipython3",
   "version": "3.13.5"
  }
 },
 "nbformat": 4,
 "nbformat_minor": 5
}
