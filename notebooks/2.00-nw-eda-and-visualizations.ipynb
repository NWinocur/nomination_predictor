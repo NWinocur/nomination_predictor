{
 "cells": [
  {
   "cell_type": "code",
   "execution_count": null,
   "id": "91f67f2b",
   "metadata": {},
   "outputs": [],
   "source": [
    "import pandas as pd\n",
    "import xgboost as xgb\n",
    "from sklearn.compose import ColumnTransformer\n",
    "from sklearn.impute import SimpleImputer\n",
    "from sklearn.pipeline import Pipeline\n",
    "from sklearn.preprocessing import OneHotEncoder\n",
    "\n",
    "# ----------------------------------------------\n",
    "df = pd.read_csv(\"data/interim/feature_enriched.csv\")"
   ]
  },
  {
   "cell_type": "code",
   "execution_count": null,
   "id": "26108b39",
   "metadata": {},
   "outputs": [],
   "source": [
    "import matplotlib.pyplot as plt\n",
    "import seaborn as sns\n",
    "\n",
    "sns.boxplot(data=df, x=\"pres_term_idx\", y=\"days_vac_to_nom\")\n",
    "plt.title(\"Vacancy → Nomination days by presidential term\"); plt.show()\n",
    "\n",
    "sns.scatterplot(data=df, x=\"days_into_pres_term\", y=\"days_vac_to_nom\", alpha=0.3)\n",
    "plt.title(\"Lag vs. days into presidential term\"); plt.show()"
   ]
  },
  {
   "cell_type": "code",
   "execution_count": null,
   "id": "c16feb68",
   "metadata": {},
   "outputs": [],
   "source": [
    "\n",
    "# pick target and drop rows lacking it\n",
    "y = df[\"days_vac_to_nom\"]\n",
    "X = df.drop(columns=[\"days_vac_to_nom\",\n",
    "                     \"days_nom_to_conf\",     # other targets saved for later tasks\n",
    "                     \"days_vac_to_conf\"])\n",
    "\n",
    "# --------  column groups ------------\n",
    "num_cols = [\n",
    "    \"age_at_nom\", \"days_into_pres_term\",\n",
    "    \"days_to_next_pres_elec\", \"days_to_next_mid_elec\",\n",
    "    \"congress_num\", \"years_private_practice\",\n",
    "    \"highest_degree_level\"\n",
    "] + [c for c in df.columns if c.startswith(\"years_\")]\n",
    "\n",
    "bool_cols = [c for c in df.columns if c.startswith(\"has_\")] + [\"partisan_mismatch\"]\n",
    "\n",
    "cat_cols = [\n",
    "    \"pres_term_idx\", \"congress_session\",\n",
    "    \"seat_level\", \"vacancy_reason_cat\",\n",
    "    \"pres_party\", \"party_of_appointing_president\"\n",
    "]\n",
    "\n",
    "# --------  preprocessors -------------\n",
    "preprocessor = ColumnTransformer(\n",
    "    transformers=[\n",
    "        (\"num\",  SimpleImputer(strategy=\"median\"), num_cols + bool_cols),\n",
    "        (\"cat\",  OneHotEncoder(handle_unknown=\"ignore\"), cat_cols)\n",
    "    ],\n",
    "    remainder=\"drop\"\n",
    ")\n",
    "\n",
    "# --------  XGBoost regressor ----------\n",
    "xgb_reg = xgb.XGBRegressor(\n",
    "    n_estimators=600,\n",
    "    learning_rate=0.05,\n",
    "    max_depth=6,\n",
    "    subsample=0.8,\n",
    "    colsample_bytree=0.8,\n",
    "    objective=\"reg:squarederror\",\n",
    "    random_state=42\n",
    ")\n",
    "\n",
    "model = Pipeline(steps=[\n",
    "    (\"prep\", preprocessor),\n",
    "    (\"xgb\",  xgb_reg)\n",
    "])\n",
    "\n",
    "# --------  train / validate -----------\n",
    "from sklearn.model_selection import cross_val_score, train_test_split\n",
    "\n",
    "X_train, X_test, y_train, y_test = train_test_split(X, y, test_size=0.2, random_state=42)\n",
    "\n",
    "model.fit(X_train, y_train)\n",
    "print(\"Test MAE:\", abs(model.predict(X_test) - y_test).mean())"
   ]
  },
  {
   "cell_type": "code",
   "execution_count": null,
   "id": "ecfe8376",
   "metadata": {},
   "outputs": [],
   "source": [
    "# Visualization of seat level distribution\n",
    "print(\"\\nVisualizing seat level distribution:\")\n",
    "import matplotlib.pyplot as plt\n",
    "\n",
    "df[\"seat_level\"].value_counts().plot(\n",
    "    kind=\"bar\", \n",
    "    figsize=(10, 6), \n",
    "    title=\"Distribution of Judicial Seat Levels\"\n",
    ")\n",
    "plt.xticks(rotation=45, ha=\"right\")\n",
    "plt.ylabel(\"Number of Nominations\")\n",
    "plt.tight_layout()\n",
    "plt.show()"
   ]
  }
 ],
 "metadata": {
  "kernelspec": {
   "display_name": "nomination_predictor",
   "language": "python",
   "name": "python3"
  },
  "language_info": {
   "name": "python",
   "version": "3.13.5"
  }
 },
 "nbformat": 4,
 "nbformat_minor": 5
}
