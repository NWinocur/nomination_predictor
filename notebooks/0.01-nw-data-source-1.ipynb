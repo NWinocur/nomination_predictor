{
 "cells": [
  {
   "cell_type": "markdown",
   "id": "189edff8",
   "metadata": {},
   "source": [
    "Notebook naming scheme from https://cookiecutter-data-science.drivendata.org/using-the-template/#open-a-notebook\n",
    "\n",
    "0.01-pjb-data-source-1.ipynb\n",
    "\n",
    "0.01 - Helps keep work in chronological order. The structure is PHASE.NOTEBOOK. \n",
    "\n",
    "NOTEBOOK is just the Nth notebook in that phase to be created. \n",
    "\n",
    "For phases of the project, we generally use a scheme like the following, but you are welcome to design your own conventions:\n",
    "- 0 - Data exploration - often just for exploratory work\n",
    "- 1 - Data cleaning and feature creation - often writes data to data/processed or data/interim\n",
    "- 2 - Visualizations - often writes publication-ready viz to reports\n",
    "- 3 - Modeling - training machine learning models\n",
    "- 4 - Publication - Notebooks that get turned directly into reports\n",
    "- pjb - Your initials; this is helpful for knowing who created the notebook and prevents collisions from people working in the same notebook.\n",
    "- data-source-1 - A description of what the notebook covers\n",
    "Now that you have your notebook going, start your analysis!"
   ]
  },
  {
   "cell_type": "code",
   "execution_count": null,
   "id": "c2c06ef2",
   "metadata": {
    "vscode": {
     "languageId": "plaintext"
    }
   },
   "outputs": [],
   "source": [
    "# OPTIONAL: Load the \"autoreload\" extension so that code can change\n",
    "%load_ext autoreload\n",
    "\n",
    "# OPTIONAL: always reload modules so that as you change code\n",
    "# in {{ cookiecutter.module_name }}, it gets loaded\n",
    "%autoreload 2\n",
    "\n",
    "from nomination_predictor.data import make_dataset"
   ]
  }
 ],
 "metadata": {
  "language_info": {
   "name": "python"
  }
 },
 "nbformat": 4,
 "nbformat_minor": 5
}
