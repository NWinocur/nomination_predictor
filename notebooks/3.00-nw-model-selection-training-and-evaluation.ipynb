{
 "cells": [
  {
   "cell_type": "markdown",
   "id": "4b092c37",
   "metadata": {},
   "source": [
    "# Model training and evaluation"
   ]
  },
  {
   "cell_type": "code",
   "execution_count": null,
   "id": "2280e74d",
   "metadata": {},
   "outputs": [],
   "source": [
    "from pathlib import Path\n",
    "\n",
    "import matplotlib.pyplot as plt\n",
    "import numpy as np\n",
    "import pandas as pd\n",
    "import seaborn as sns\n",
    "\n",
    "from nomination_predictor.config import MODELS_DIR, PROCESSED_DATA_DIR\n",
    "\n",
    "sns.set_theme(style=\"whitegrid\")\n",
    "\n",
    "\n",
    "DATA_PATH  = Path(PROCESSED_DATA_DIR/\"processed.csv\")\n",
    "MODEL_PATH = Path(MODELS_DIR)"
   ]
  },
  {
   "cell_type": "code",
   "execution_count": null,
   "id": "ba41e7ff",
   "metadata": {},
   "outputs": [],
   "source": [
    "from sklearn.compose import ColumnTransformer\n",
    "from sklearn.metrics import mean_absolute_error\n",
    "from sklearn.model_selection import train_test_split\n",
    "from sklearn.pipeline import Pipeline\n",
    "from sklearn.preprocessing import OneHotEncoder\n",
    "from xgboost import XGBRegressor"
   ]
  },
  {
   "cell_type": "markdown",
   "id": "5d2a664c",
   "metadata": {},
   "source": [
    "# Choose features"
   ]
  },
  {
   "cell_type": "code",
   "execution_count": null,
   "id": "a6e52ab9",
   "metadata": {},
   "outputs": [],
   "source": [
    "\n",
    "## pick target and drop rows lacking it\n",
    "#y = df[\"days_vac_to_nom\"]\n",
    "#X = df.drop(columns=[\"days_vac_to_nom\",\n",
    "#                     \"days_nom_to_latest_action\",     # other targets saved for later tasks\n",
    "#                     \"days_vac_to_conf\"])\n",
    "#\n",
    "## --------  column groups ------------\n",
    "#num_cols = [\n",
    "#    \"age_at_nom_days\", \"days_into_pres_term\",\n",
    "#    \"days_to_next_pres_elec\", \"days_to_next_mid_elec\",\n",
    "#    \"congress_num\", \"years_private_practice\",\n",
    "#    \"highest_degree_level\"\n",
    "#] + [c for c in df.columns if c.startswith(\"years_\")]\n",
    "#\n",
    "#bool_cols = [c for c in df.columns if c.startswith(\"has_\")] + [\"partisan_mismatch\"]\n",
    "#\n",
    "#cat_cols = [\n",
    "#    \"pres_term_idx\", \"congress_session\",\n",
    "#    \"seat_level\", \"vacancy_reason_cat\",\n",
    "#    \"pres_party\", \"party_of_appointing_president\"\n",
    "#]\n",
    "#"
   ]
  },
  {
   "cell_type": "code",
   "execution_count": null,
   "id": "448b8daa",
   "metadata": {},
   "outputs": [],
   "source": [
    "cat_cols = df.select_dtypes(\"object\").columns.tolist()\n",
    "num_cols = [\n",
    "    c for c in df.select_dtypes(\"number\").columns\n",
    "    if c not in {TARGET}\n",
    "]\n",
    "\n",
    "df_model = df[df[TARGET].notna()].copy()\n",
    "X = df_model[cat_cols + num_cols]\n",
    "y = df_model[TARGET]\n",
    "\n",
    "X_train, X_test, y_train, y_test = train_test_split(\n",
    "    X, y, test_size=0.20, random_state=42, stratify=df_model[\"seat_level\"]\n",
    ")"
   ]
  },
  {
   "cell_type": "markdown",
   "id": "5f304ff9",
   "metadata": {},
   "source": [
    "#  Preprocessing & model"
   ]
  },
  {
   "cell_type": "code",
   "execution_count": null,
   "id": "acaf5b93",
   "metadata": {},
   "outputs": [],
   "source": [
    "\n",
    "pre = ColumnTransformer(\n",
    "    [(\"cat\", OneHotEncoder(handle_unknown=\"ignore\", sparse_output=True), cat_cols),\n",
    "     (\"num\", \"passthrough\", num_cols)]\n",
    ")\n",
    "\n",
    "xgb = XGBRegressor(\n",
    "    n_estimators=300,          # low at first to try a quick finish, can double to 600 if needing better performance via longer training time\n",
    "    learning_rate=0.05,\n",
    "    max_depth=6,\n",
    "    subsample=0.8,\n",
    "    colsample_bytree=0.8,\n",
    "    objective=\"reg:squarederror\",\n",
    "    n_jobs=-1,\n",
    "    random_state=42,\n",
    ")\n",
    "\n",
    "pipe = Pipeline([(\"prep\", pre), (\"model\", xgb)])\n",
    "pipe.fit(X_train, y_train)"
   ]
  },
  {
   "cell_type": "markdown",
   "id": "7109e563",
   "metadata": {},
   "source": [
    "# Prediction with trained model"
   ]
  },
  {
   "cell_type": "code",
   "execution_count": null,
   "id": "da833e97",
   "metadata": {},
   "outputs": [],
   "source": [
    "\n",
    "pred = pipe.predict(X_test)\n",
    "print(\"MAE on hold‑out:\", mean_absolute_error(y_test, pred).round(2))"
   ]
  },
  {
   "cell_type": "code",
   "execution_count": null,
   "id": "fc173c40",
   "metadata": {},
   "outputs": [],
   "source": []
  }
 ],
 "metadata": {
  "language_info": {
   "name": "python"
  }
 },
 "nbformat": 4,
 "nbformat_minor": 5
}
