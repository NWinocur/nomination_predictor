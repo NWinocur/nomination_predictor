{
 "cells": [
  {
   "cell_type": "markdown",
   "id": "4b092c37",
   "metadata": {},
   "source": [
    "# Model training and evaluation"
   ]
  },
  {
   "cell_type": "code",
   "execution_count": null,
   "id": "2280e74d",
   "metadata": {},
   "outputs": [
    {
     "name": "stdout",
     "output_type": "stream",
     "text": [
      "\u001b[32m2025-07-18 13:55:06.792\u001b[0m | \u001b[1mINFO    \u001b[0m | \u001b[36mnomination_predictor.config\u001b[0m:\u001b[36m<module>\u001b[0m:\u001b[36m103\u001b[0m - \u001b[1mProject root: /home/wsl2ubuntuuser/nomination_predictor\u001b[0m\n",
      "\u001b[32m2025-07-18 13:55:06.793\u001b[0m | \u001b[1mINFO    \u001b[0m | \u001b[36mnomination_predictor.config\u001b[0m:\u001b[36m<module>\u001b[0m:\u001b[36m127\u001b[0m - \u001b[1mConfiguration loaded\u001b[0m\n"
     ]
    }
   ],
   "source": [
    "# Import standard libraries\n",
    "import time\n",
    "from pathlib import Path\n",
    "\n",
    "import matplotlib.pyplot as plt\n",
    "import numpy as np\n",
    "import pandas as pd\n",
    "import seaborn as sns\n",
    "from loguru import logger\n",
    "from sklearn.compose import ColumnTransformer\n",
    "from sklearn.model_selection import RandomizedSearchCV, train_test_split\n",
    "from sklearn.pipeline import Pipeline\n",
    "from sklearn.preprocessing import OneHotEncoder, StandardScaler\n",
    "from tqdm.notebook import tqdm\n",
    "from xgboost import XGBRegressor\n",
    "\n",
    "from nomination_predictor.config import MODELS_DIR, PROCESSED_DATA_DIR\n",
    "from nomination_predictor.modeling.predict import (compare_models,\n",
    "                                                   evaluate_and_report_model,\n",
    "                                                   train_and_evaluate_model)\n",
    "from nomination_predictor.modeling.train import save_model_with_metadata"
   ]
  },
  {
   "cell_type": "code",
   "execution_count": null,
   "id": "ba41e7ff",
   "metadata": {},
   "outputs": [],
   "source": [
    "df = pd.read_csv(PROCESSED_DATA_DIR/\"processed.csv\")"
   ]
  },
  {
   "cell_type": "markdown",
   "id": "52963229",
   "metadata": {},
   "source": [
    "# Verify GPU availability"
   ]
  },
  {
   "cell_type": "code",
   "execution_count": null,
   "id": "cf384ea2",
   "metadata": {},
   "outputs": [
    {
     "name": "stdout",
     "output_type": "stream",
     "text": [
      "✅ GPU detected and available!\n",
      "🔍 GPU Status:\n",
      "['|   0  NVIDIA GeForce RTX 3070        On  |   00000000:01:00.0  On |                  N/A |', '| 30%   40C    P5             25W /  220W |    3562MiB /   8192MiB |     30%      Default |', '|                                         |                        |                  N/A |', '+-----------------------------------------+------------------------+----------------------+']\n",
      "✅ XGBoost version: 3.0.2\n",
      "✅ XGBoost GPU support confirmed!\n"
     ]
    }
   ],
   "source": [
    "import subprocess\n",
    "import sys\n",
    "\n",
    "try:\n",
    "    # Check if nvidia-smi is available\n",
    "    result = subprocess.run(['nvidia-smi'], capture_output=True, text=True)\n",
    "    if result.returncode == 0:\n",
    "        print(\"✅ GPU detected and available!\")\n",
    "        print(\"🔍 GPU Status:\")\n",
    "        print(result.stdout.split('\\n')[8:12])  # Show relevant GPU info\n",
    "    else:\n",
    "        print(\"❌ nvidia-smi not found\")\n",
    "except FileNotFoundError:\n",
    "    print(\"❌ nvidia-smi not available\")\n",
    "\n",
    "# Check XGBoost GPU support\n",
    "try:\n",
    "    import xgboost as xgb\n",
    "    print(f\"✅ XGBoost version: {xgb.__version__}\")\n",
    "    \n",
    "    # Test GPU availability in XGBoost\n",
    "    test_model = xgb.XGBRegressor(tree_method=\"gpu_hist\", gpu_id=0)\n",
    "    print(\"✅ XGBoost GPU support confirmed!\")\n",
    "except Exception as e:\n",
    "    print(f\"❌ XGBoost GPU issue: {e}\")"
   ]
  },
  {
   "cell_type": "markdown",
   "id": "5d2a664c",
   "metadata": {},
   "source": [
    "# Choose features"
   ]
  },
  {
   "cell_type": "markdown",
   "id": "ef5b090b",
   "metadata": {},
   "source": [
    "## target variable"
   ]
  },
  {
   "cell_type": "code",
   "execution_count": null,
   "id": "a4addbf7",
   "metadata": {},
   "outputs": [],
   "source": [
    "TARGET = \"days_nom_to_conf\"\n",
    "\n",
    "# pick target and drop Y label targets from features\n",
    "y = df[TARGET]\n",
    "X = df.drop(columns=[TARGET, \"days_nom_to_latest_action\"])  # other target saved for later tries at modeling"
   ]
  },
  {
   "cell_type": "markdown",
   "id": "fee2378c",
   "metadata": {},
   "source": [
    "## numeric features"
   ]
  },
  {
   "cell_type": "code",
   "execution_count": null,
   "id": "75663fb7",
   "metadata": {},
   "outputs": [],
   "source": [
    "NUMERIC_FEATURES = [\n",
    "    \"actions_count\",\n",
    "    \"age_at_nom_days\",\n",
    "    \"birth_year\", \n",
    "    \"committees_count\",\n",
    "    \"congress_num\", \n",
    "    \"days_into_pres_term\",\n",
    "    \"days_nom_to_deceased\",\n",
    "    \"days_to_next_midterm_election\",\n",
    "    \"days_to_next_pres_election\",\n",
    "    \"death_year\", \n",
    "    \"degree_year\", \n",
    "    \"education_sequence\", \n",
    "    \"fed_service_sequence\", \n",
    "    \"highest_degree_level\",\n",
    "    \"professional_career_sequence\",\n",
    "    \"record_vote_number\",   \n",
    "    \"service_as_chief_judge,_begin\", \n",
    "    \"service_as_chief_judge,_end\",\n",
    "]"
   ]
  },
  {
   "cell_type": "markdown",
   "id": "a6168585",
   "metadata": {},
   "source": [
    "# boolean features"
   ]
  },
  {
   "cell_type": "code",
   "execution_count": null,
   "id": "18da2afe",
   "metadata": {},
   "outputs": [],
   "source": [
    "BOOLEAN_FEATURES = [\n",
    "    \"pres_term_is_latter_term\", \n",
    "    \"statute_authorized_new_seat_bool\",\n",
    "]"
   ]
  },
  {
   "cell_type": "markdown",
   "id": "2f2bbf16",
   "metadata": {},
   "source": [
    "# categorical features"
   ]
  },
  {
   "cell_type": "code",
   "execution_count": null,
   "id": "69674cb3",
   "metadata": {},
   "outputs": [],
   "source": [
    "CATEGORICAL_FEATURES  = [\n",
    "    \"aba_rating\", \n",
    "    \"appointing_president\",\n",
    "    \"congress_session\",\n",
    "    \"court_type\",\n",
    "    \"birth_state\",\n",
    "    \"latestaction_is_div_opp_house\",\n",
    "    \"latestaction_is_div_opp_senate\",\n",
    "    \"latestaction_is_fully_div\",\n",
    "    \"latestaction_is_unified\",\n",
    "    \"nomination_vacancy_reason\",\n",
    "    \"nomination_of_or_from_location\",\n",
    "    \"nomination_to_position_title\",\n",
    "    \"nomination_to_court_name\",\n",
    "    \"nominees_0_organization\",\n",
    "    \"nominees_0_state\",\n",
    "    \"nomination_term_years\", # sounds numeric but only few options, including lifetime\n",
    "    \"party_of_appointing_president\",\n",
    "    \"race_or_ethnicity\",\n",
    "    \"received_in_senate_political_era\",\n",
    "    \"school\",\n",
    "    \"seat_level_cong_recategorized\",\n",
    "    \"seat_id_letters_only\",\n",
    "    \"senate_vote_type\"\n",
    "]"
   ]
  },
  {
   "cell_type": "code",
   "execution_count": null,
   "id": "22ec7c3b",
   "metadata": {},
   "outputs": [
    {
     "name": "stdout",
     "output_type": "stream",
     "text": [
      "✅ All features are unique across feature type lists\n",
      "ℹ️ Total unique features: 43\n"
     ]
    }
   ],
   "source": [
    "from nomination_predictor.modeling.train import validate_feature_lists\n",
    "\n",
    "are_features_unique = validate_feature_lists(NUMERIC_FEATURES, BOOLEAN_FEATURES, CATEGORICAL_FEATURES)\n",
    "\n",
    "if not are_features_unique:\n",
    "    raise ValueError(\"Feature lists contain duplicates. Please fix before continuing.\")"
   ]
  },
  {
   "cell_type": "code",
   "execution_count": null,
   "id": "0aa37ab1",
   "metadata": {},
   "outputs": [],
   "source": [
    "if len([col for col in NUMERIC_FEATURES if col not in df.columns]) > 0:\n",
    "    logger.warning(\"The following columns in NUMERIC_FEATURES are absent from the df: {}\".format(\n",
    "        [col for col in NUMERIC_FEATURES if col not in df.columns],\n",
    "    ))\n",
    "if len([col for col in BOOLEAN_FEATURES if col not in df.columns]) > 0:\n",
    "    logger.warning(\"The following columns in BOOLEAN_FEATURES are absent from the df: {}\".format(\n",
    "        [col for col in BOOLEAN_FEATURES if col not in df.columns],\n",
    "    ))\n",
    "if len([col for col in CATEGORICAL_FEATURES if col not in df.columns]) > 0:\n",
    "    logger.warning(\"The following columns in CATEGORICAL_FEATURES are absent from the df: {}\".format(\n",
    "        [col for col in CATEGORICAL_FEATURES if col not in df.columns],\n",
    "    ))"
   ]
  },
  {
   "cell_type": "code",
   "execution_count": null,
   "id": "448b8daa",
   "metadata": {},
   "outputs": [],
   "source": [
    "cat_cols = df.select_dtypes(\"object\").columns.tolist()\n",
    "num_cols = [\n",
    "    c for c in df.select_dtypes(\"number\").columns\n",
    "    if c not in {TARGET}\n",
    "]\n",
    "\n",
    "df_model = df[df[TARGET].notna()].copy()\n",
    "X = df_model[BOOLEAN_FEATURES + CATEGORICAL_FEATURES + NUMERIC_FEATURES]\n",
    "y = df_model[TARGET]"
   ]
  },
  {
   "cell_type": "markdown",
   "id": "45705d71",
   "metadata": {},
   "source": [
    "# splitting training and testing data"
   ]
  },
  {
   "cell_type": "code",
   "execution_count": null,
   "id": "49d60c7b",
   "metadata": {},
   "outputs": [],
   "source": [
    "from sklearn.model_selection import train_test_split\n",
    "\n",
    "# Create composite strata\n",
    "strata = (\n",
    "    df_model[\"seat_level_cong_recategorized\"].astype(str)\n",
    "    + \"__\"\n",
    "    + df_model[\"received_in_senate_political_era\"].astype(str)\n",
    ")\n",
    "\n",
    "# Optionally collapse very-rare strata to 'Other' (prevents ValueError)\n",
    "min_count = 3          # tweak as needed\n",
    "rare_mask = strata.map(strata.value_counts()) < min_count\n",
    "strata = strata.where(~rare_mask, other=\"Other\")\n",
    "\n",
    "# Train–test split\n",
    "X_train, X_test, y_train, y_test = train_test_split(\n",
    "    X,\n",
    "    y,\n",
    "    test_size=0.20,\n",
    "    random_state=42,\n",
    "    stratify=strata,\n",
    ")"
   ]
  },
  {
   "cell_type": "markdown",
   "id": "b65d6351",
   "metadata": {},
   "source": [
    "# Model Selection, Training, and Evaluation"
   ]
  },
  {
   "cell_type": "markdown",
   "id": "5f304ff9",
   "metadata": {},
   "source": [
    "##  Preprocessing pipeline setup"
   ]
  },
  {
   "cell_type": "code",
   "execution_count": null,
   "id": "9d0aecc3",
   "metadata": {},
   "outputs": [
    {
     "ename": "NameError",
     "evalue": "name 'numerical_features' is not defined",
     "output_type": "error",
     "traceback": [
      "\u001b[31m---------------------------------------------------------------------------\u001b[39m",
      "\u001b[31mNameError\u001b[39m                                 Traceback (most recent call last)",
      "\u001b[36mCell\u001b[39m\u001b[36m \u001b[39m\u001b[32mIn[12]\u001b[39m\u001b[32m, line 3\u001b[39m\n\u001b[32m      1\u001b[39m preprocessor = ColumnTransformer(\n\u001b[32m      2\u001b[39m     transformers=[\n\u001b[32m----> \u001b[39m\u001b[32m3\u001b[39m         (\u001b[33m'\u001b[39m\u001b[33mnum\u001b[39m\u001b[33m'\u001b[39m, StandardScaler(), \u001b[43mnumerical_features\u001b[49m),\n\u001b[32m      4\u001b[39m         (\u001b[33m'\u001b[39m\u001b[33mcat\u001b[39m\u001b[33m'\u001b[39m, OneHotEncoder(drop=\u001b[33m'\u001b[39m\u001b[33mfirst\u001b[39m\u001b[33m'\u001b[39m, sparse_output=\u001b[38;5;28;01mFalse\u001b[39;00m), categorical_features)\n\u001b[32m      5\u001b[39m     ]\n\u001b[32m      6\u001b[39m )\n",
      "\u001b[31mNameError\u001b[39m: name 'numerical_features' is not defined"
     ]
    }
   ],
   "source": [
    "\n",
    "preprocessor = ColumnTransformer(\n",
    "    transformers=[\n",
    "        ('num', StandardScaler(), NUMERIC_FEATURES),\n",
    "        ('cat', OneHotEncoder(drop='first', sparse_output=False), CATEGORICAL_FEATURES)\n",
    "    ]\n",
    ")"
   ]
  },
  {
   "cell_type": "markdown",
   "id": "16561816",
   "metadata": {},
   "source": [
    "## Untuned / naive pipeline"
   ]
  },
  {
   "cell_type": "code",
   "execution_count": null,
   "id": "f6589d8d",
   "metadata": {},
   "outputs": [],
   "source": [
    "# Create pipeline with GPU-accelerated XGBRegressor\n",
    "baseline_pipeline = Pipeline([\n",
    "    ('preprocessor', preprocessor),\n",
    "    ('model', XGBRegressor(\n",
    "        n_estimators=100,\n",
    "        max_depth=6,\n",
    "        learning_rate=0.1,\n",
    "        random_state=42,\n",
    "        n_jobs=-1,\n",
    "        # 🚀 GPU ACCELERATION PARAMETERS\n",
    "        tree_method=\"gpu_hist\",        # Use GPU for tree construction\n",
    "        predictor=\"gpu_predictor\",     # Use GPU for predictions\n",
    "        gpu_id=0                       # Use first GPU (adjust if needed)\n",
    "    ))\n",
    "])"
   ]
  },
  {
   "cell_type": "code",
   "execution_count": null,
   "id": "0de7672a",
   "metadata": {},
   "outputs": [],
   "source": [
    "baseline_results = train_and_evaluate_model(\n",
    "    model=baseline_pipeline,\n",
    "    X_train=X_train,\n",
    "    X_test=X_test,\n",
    "    y_train=y_train,\n",
    "    y_test=y_test,\n",
    "    model_name=\"XGBoost Baseline\",\n",
    "    show_progress=True\n",
    ")"
   ]
  },
  {
   "cell_type": "code",
   "execution_count": null,
   "id": "a282a0cc",
   "metadata": {},
   "outputs": [],
   "source": [
    "# Split data into train and test sets\n",
    "X_train, X_test, y_train, y_test = train_test_split(\n",
    "    X, y, test_size=0.2, random_state=42\n",
    ")"
   ]
  },
  {
   "cell_type": "markdown",
   "id": "a227ec69",
   "metadata": {},
   "source": [
    "## Training"
   ]
  },
  {
   "cell_type": "code",
   "execution_count": null,
   "id": "e0d7fba3",
   "metadata": {},
   "outputs": [
    {
     "name": "stdout",
     "output_type": "stream",
     "text": [
      "\u001b[32m2025-07-18 02:51:18.782\u001b[0m | \u001b[1mINFO    \u001b[0m | \u001b[36mnomination_predictor.modeling.train\u001b[0m:\u001b[36mtrain_model\u001b[0m:\u001b[36m84\u001b[0m - \u001b[1mTraining model on 1424 samples, 43 features\u001b[0m\n"
     ]
    },
    {
     "name": "stderr",
     "output_type": "stream",
     "text": [
      "Training Pipeline:   0%|          | 0/1 [00:00<?, ?it/s]"
     ]
    },
    {
     "name": "stdout",
     "output_type": "stream",
     "text": [
      "\u001b[32m2025-07-18 02:51:18.889\u001b[0m | \u001b[1mINFO    \u001b[0m | \u001b[36m__main__\u001b[0m:\u001b[36mfit\u001b[0m:\u001b[36m5\u001b[0m - \u001b[1mStarting XGBoost training with 1000 trees...\u001b[0m\n"
     ]
    },
    {
     "name": "stderr",
     "output_type": "stream",
     "text": [
      "Training Pipeline: 100%|██████████| 1/1 [01:00<00:00, 60.01s/it]"
     ]
    },
    {
     "name": "stdout",
     "output_type": "stream",
     "text": [
      "\u001b[32m2025-07-18 02:52:18.794\u001b[0m | \u001b[1mINFO    \u001b[0m | \u001b[36m__main__\u001b[0m:\u001b[36mfit\u001b[0m:\u001b[36m13\u001b[0m - \u001b[1mXGBoost training completed in 59.90 seconds\u001b[0m\n",
      "\u001b[32m2025-07-18 02:52:18.802\u001b[0m | \u001b[1mINFO    \u001b[0m | \u001b[36mnomination_predictor.modeling.train\u001b[0m:\u001b[36mtrain_model\u001b[0m:\u001b[36m88\u001b[0m - \u001b[1mModel training completed\u001b[0m\n"
     ]
    },
    {
     "name": "stderr",
     "output_type": "stream",
     "text": [
      "\n"
     ]
    }
   ],
   "source": [
    "baseline_results = train_and_evaluate_model(\n",
    "    model=baseline_pipeline,\n",
    "    X_train=X_train,\n",
    "    X_test=X_test,\n",
    "    y_train=y_train,\n",
    "    y_test=y_test,\n",
    "    model_name=\"XGBoost Baseline\",\n",
    "    show_progress=True\n",
    ")"
   ]
  },
  {
   "cell_type": "markdown",
   "id": "ae547f40",
   "metadata": {},
   "source": [
    "## Prediction"
   ]
  },
  {
   "cell_type": "code",
   "execution_count": null,
   "id": "3163d052",
   "metadata": {},
   "outputs": [
    {
     "name": "stdout",
     "output_type": "stream",
     "text": [
      "\u001b[32m2025-07-18 02:52:18.839\u001b[0m | \u001b[1mINFO    \u001b[0m | \u001b[36mnomination_predictor.modeling.predict\u001b[0m:\u001b[36mpredict_model\u001b[0m:\u001b[36m18\u001b[0m - \u001b[1mPredicting using model on 357 samples, 43 features\u001b[0m\n"
     ]
    },
    {
     "name": "stderr",
     "output_type": "stream",
     "text": [
      "Predicting: 100%|██████████| 1/1 [00:00<00:00, 16.41it/s]"
     ]
    },
    {
     "name": "stdout",
     "output_type": "stream",
     "text": [
      "\u001b[32m2025-07-18 02:52:18.904\u001b[0m | \u001b[1mINFO    \u001b[0m | \u001b[36mnomination_predictor.modeling.predict\u001b[0m:\u001b[36mpredict_model\u001b[0m:\u001b[36m22\u001b[0m - \u001b[1mPrediction completed\u001b[0m\n"
     ]
    },
    {
     "name": "stderr",
     "output_type": "stream",
     "text": [
      "\n"
     ]
    }
   ],
   "source": []
  },
  {
   "cell_type": "markdown",
   "id": "0fb3190f",
   "metadata": {},
   "source": [
    "## Evaluation"
   ]
  },
  {
   "cell_type": "markdown",
   "id": "501ff3cf",
   "metadata": {},
   "source": [
    "### Choice of metric: MAE\n",
    "\n",
    "Mean Squared Error (MSE) and Root Mean Squared Error (RMSE) are both sensitive to outliers, and MSE also doesn't use the same units as our target variable, making it less intuitive.\n",
    "\n",
    "After all our data cleaning, we have few-enough rows of data, with outliers occurring often-enough, that I'm selecting Mean Absolute Error (MAE) as our metric."
   ]
  },
  {
   "cell_type": "code",
   "execution_count": null,
   "id": "056f7bfe",
   "metadata": {},
   "outputs": [
    {
     "name": "stdout",
     "output_type": "stream",
     "text": [
      "\u001b[32m2025-07-18 02:52:18.927\u001b[0m | \u001b[1mINFO    \u001b[0m | \u001b[36m__main__\u001b[0m:\u001b[36m<module>\u001b[0m:\u001b[36m7\u001b[0m - \u001b[1mModel evaluation - MAE: 42.53, R²: 0.5109\u001b[0m\n",
      "\n",
      "===== Mean Absolute Error (MAE): 42.53 =====\n",
      "📊 GOOD: The model's predictions are typically within 60 days of the actual confirmation time.\n",
      "🔍 TAKEAWAY: The model provides valuable insights but has moderate error margins.\n",
      "\n",
      "===== R² Score: 0.5109 =====\n",
      "📊 MODERATE: The model explains between 50-70% of the variance in confirmation times.\n",
      "🔍 TAKEAWAY: The model captures significant patterns but misses some factors.\n",
      "\n",
      "===== Interpretation in Context =====\n",
      "• The average nomination takes 128 days to confirm\n",
      "• With a standard deviation of 85 days\n",
      "• Our model's error (MAE) is 43 days, which is 50% of the standard deviation\n",
      "• This means our model outperforms a baseline model that always predicts the average\n",
      "\n",
      "===== Recommended Next Steps =====\n",
      "1. Tune hyperparameters to optimize model performance\n",
      "2. Explore feature importance to understand key drivers\n",
      "3. Consider ensemble methods to improve predictions\n"
     ]
    }
   ],
   "source": [
    "baseline_final = evaluate_and_report_model(\n",
    "    results=baseline_results,\n",
    "    y_train=y_train,\n",
    "    y_test=y_test,\n",
    "    model_name=\"XGBoost Baseline\",\n",
    "    save_model=True,\n",
    "    hyperparameters={\n",
    "        \"n_estimators\": 100,\n",
    "        \"max_depth\": 6,\n",
    "        \"learning_rate\": 0.1,\n",
    "        \"random_state\": 42\n",
    "    }\n",
    ")"
   ]
  },
  {
   "cell_type": "markdown",
   "id": "7f6567dd",
   "metadata": {},
   "source": [
    "# Saving the trained model"
   ]
  },
  {
   "cell_type": "code",
   "execution_count": null,
   "id": "aa7b63db",
   "metadata": {},
   "outputs": [
    {
     "name": "stdout",
     "output_type": "stream",
     "text": [
      "\u001b[32m2025-07-18 02:52:18.976\u001b[0m | \u001b[1mINFO    \u001b[0m | \u001b[36mnomination_predictor.modeling.train\u001b[0m:\u001b[36msave_model_with_metadata\u001b[0m:\u001b[36m120\u001b[0m - \u001b[1mModel saved to /home/wsl2ubuntuuser/nomination_predictor/models/xgboost_regression_2025-07-18_025218.pkl with metadata\u001b[0m\n"
     ]
    }
   ],
   "source": [
    "from nomination_predictor.modeling.train import save_model_with_metadata\n",
    "\n",
    "model_file = save_model_with_metadata(\n",
    "    pipeline, \n",
    "    \"xgboost_regression\",\n",
    "    metadata={\n",
    "        'description': 'XGBoost regression model for nomination confirmation time prediction',\n",
    "        'parameters': {\n",
    "            'n_estimators': NUM_ESTIMATORS,\n",
    "            'learning_rate': LEARNING_RATE,\n",
    "            'max_depth': MAX_DEPTH\n",
    "        }\n",
    "    },\n",
    "    X_train=X_train,\n",
    "    y_train=y_train,\n",
    "    mae=mae,\n",
    "    r2=r2\n",
    ")"
   ]
  },
  {
   "cell_type": "markdown",
   "id": "52c68ac4",
   "metadata": {},
   "source": [
    "# Model tuning via randomized hyper-parameter search"
   ]
  },
  {
   "cell_type": "markdown",
   "id": "785e21ac",
   "metadata": {},
   "source": [
    "## Define hyperparameter search space"
   ]
  },
  {
   "cell_type": "code",
   "execution_count": null,
   "id": "60a5da38",
   "metadata": {},
   "outputs": [],
   "source": [
    "param_distributions = {\n",
    "    'model__n_estimators': [100, 500, 1000, 2000, 3000],\n",
    "    'model__max_depth': [3, 4, 5, 6, 7, 8, 9],\n",
    "    'model__learning_rate': [0.01, 0.05, 0.1, 0.2],\n",
    "    'model__subsample': [0.7, 0.8, 0.9, 1.0],\n",
    "    'model__colsample_bytree': [0.7, 0.8, 0.9, 1.0],\n",
    "    'model__reg_alpha': [0, 0.1, 0.5, 1.0],\n",
    "    'model__reg_lambda': [0, 0.1, 0.5, 1.0],\n",
    "    'model__min_child_weight': [1, 3, 5, 7],\n",
    "    'model__gamma': [0, 0.1, 0.2, 0.3]\n",
    "}"
   ]
  },
  {
   "cell_type": "markdown",
   "id": "9439246d",
   "metadata": {},
   "source": [
    "## Tuned pipeline"
   ]
  },
  {
   "cell_type": "code",
   "execution_count": null,
   "id": "9ac2577e",
   "metadata": {},
   "outputs": [],
   "source": [
    "tuned_pipeline = Pipeline([\n",
    "    ('preprocessor', preprocessor),\n",
    "    ('model', XGBRegressor(\n",
    "        random_state=42,\n",
    "        n_jobs=-1,\n",
    "        # 🚀 GPU ACCELERATION PARAMETERS\n",
    "        tree_method=\"gpu_hist\",        # Use GPU for tree construction\n",
    "        predictor=\"gpu_predictor\",     # Use GPU for predictions\n",
    "        gpu_id=0                       # Use first GPU\n",
    "    ))\n",
    "])"
   ]
  },
  {
   "cell_type": "markdown",
   "id": "e8bd0581",
   "metadata": {},
   "source": [
    "## Randomized search"
   ]
  },
  {
   "cell_type": "code",
   "execution_count": null,
   "id": "9446dc79",
   "metadata": {},
   "outputs": [],
   "source": [
    "print(\"🔍 Starting GPU-accelerated hyperparameter search...\")\n",
    "random_search = RandomizedSearchCV(\n",
    "    tuned_pipeline,\n",
    "    param_distributions=param_distributions,\n",
    "    n_iter=20,  # n_iter 120 took approximately 2 hours, 12 minutes.  Good-enough time estimate is 1 minute per n_iter.\n",
    "    cv=3,\n",
    "    scoring='neg_mean_absolute_error',\n",
    "    n_jobs=1,  # ⚠️ IMPORTANT: Set to 1 for GPU to avoid conflicts\n",
    "    random_state=42,\n",
    "    verbose=1\n",
    ")"
   ]
  },
  {
   "cell_type": "markdown",
   "id": "441de86b",
   "metadata": {},
   "source": [
    "## Search-fitting"
   ]
  },
  {
   "cell_type": "code",
   "execution_count": null,
   "id": "753453e2",
   "metadata": {},
   "outputs": [],
   "source": [
    "random_search.fit(X_train, y_train)\n",
    "\n",
    "print(f\"✅ Best cross-validation score: {-random_search.best_score_:.2f} MAE\")\n",
    "print(f\"🎯 Best parameters: {random_search.best_params_}\")"
   ]
  },
  {
   "cell_type": "markdown",
   "id": "9f70c6d7",
   "metadata": {},
   "source": [
    "## Evaluating best model found"
   ]
  },
  {
   "cell_type": "code",
   "execution_count": null,
   "id": "70afa213",
   "metadata": {},
   "outputs": [],
   "source": [
    "tuned_results = train_and_evaluate_model(\n",
    "    model=random_search.best_estimator_,\n",
    "    X_train=X_train,\n",
    "    X_test=X_test,\n",
    "    y_train=y_train,\n",
    "    y_test=y_test,\n",
    "    model_name=\"XGBoost Tuned\",\n",
    "    show_progress=True\n",
    ")"
   ]
  },
  {
   "cell_type": "markdown",
   "id": "57682a53",
   "metadata": {},
   "source": [
    "## Reporting"
   ]
  },
  {
   "cell_type": "code",
   "execution_count": null,
   "id": "d8e3a0c3",
   "metadata": {},
   "outputs": [],
   "source": [
    "tuned_final = evaluate_and_report_model(\n",
    "    results=tuned_results,\n",
    "    y_train=y_train,\n",
    "    y_test=y_test,\n",
    "    model_name=\"XGBoost Tuned\",\n",
    "    save_model=True,\n",
    "    hyperparameters=random_search.best_params_\n",
    ")"
   ]
  },
  {
   "cell_type": "markdown",
   "id": "70096f6a",
   "metadata": {},
   "source": [
    "# Model comparison"
   ]
  },
  {
   "cell_type": "code",
   "execution_count": null,
   "id": "d869b893",
   "metadata": {},
   "outputs": [],
   "source": [
    "# Compare both models using our comparison function\n",
    "compare_models(\n",
    "    results_list=[baseline_results, tuned_results],\n",
    "    model_names=[\"XGBoost Baseline\", \"XGBoost Tuned\"]\n",
    ")\n",
    "\n",
    "# Display model paths for reference\n",
    "print(f\"\\n📁 SAVED MODELS:\")\n",
    "print(f\"  • Baseline: {baseline_final['model_path']}\")\n",
    "print(f\"  • Tuned:    {tuned_final['model_path']}\")\n",
    "\n",
    "# Show interpretation categories\n",
    "print(f\"\\n🏷️ MODEL QUALITY ASSESSMENT:\")\n",
    "print(f\"  • Baseline: {baseline_final['interpretation']['overall_quality']}\")\n",
    "print(f\"  • Tuned:    {tuned_final['interpretation']['overall_quality']}\")\n",
    "\n",
    "# Feature importance analysis (if desired)\n",
    "best_model = tuned_final['model']\n",
    "if hasattr(best_model, 'feature_importances_') or hasattr(best_model[-1], 'feature_importances_'):\n",
    "    print(f\"\\n🔍 TOP 10 MOST IMPORTANT FEATURES:\")\n",
    "    \n",
    "    # Get feature names after preprocessing\n",
    "    feature_names = best_model[:-1].get_feature_names_out()\n",
    "    \n",
    "    # Get feature importances\n",
    "    if hasattr(best_model, 'feature_importances_'):\n",
    "        importances = best_model.feature_importances_\n",
    "    else:\n",
    "        importances = best_model[-1].feature_importances_\n",
    "    \n",
    "    # Create feature importance DataFrame\n",
    "    feature_importance_df = pd.DataFrame({\n",
    "        'feature': feature_names,\n",
    "        'importance': importances\n",
    "    }).sort_values('importance', ascending=False)\n",
    "    \n",
    "    # Display top 10\n",
    "    for i, (_, row) in enumerate(feature_importance_df.head(10).iterrows()):\n",
    "        print(f\"  {i+1:2d}. {row['feature']:<30} {row['importance']:.4f}\")"
   ]
  },
  {
   "cell_type": "markdown",
   "id": "e5324e6b",
   "metadata": {},
   "source": [
    "## Visualization"
   ]
  },
  {
   "cell_type": "code",
   "execution_count": null,
   "id": "81d085e3",
   "metadata": {},
   "outputs": [
    {
     "name": "stdout",
     "output_type": "stream",
     "text": [
      "Fitting 3 folds for each of 120 candidates, totalling 360 fits\n"
     ]
    },
    {
     "name": "stderr",
     "output_type": "stream",
     "text": [
      "/home/wsl2ubuntuuser/.virtualenvs/nomination_predictor/lib/python3.12/site-packages/xgboost/core.py:729: UserWarning: [02:52:10] WARNING: /workspace/src/common/error_msg.cc:58: Falling back to prediction using DMatrix due to mismatched devices. This might lead to higher memory usage and slower performance. XGBoost is running on: cuda:0, while the input data is on: cpu.\n",
      "Potential solutions:\n",
      "- Use a data structure that matches the device ordinal in the booster.\n",
      "- Set the device for booster before call to inplace_predict.\n",
      "\n",
      "This warning will only be shown once.\n",
      "\n",
      "  return func(**kwargs)\n"
     ]
    },
    {
     "name": "stdout",
     "output_type": "stream",
     "text": [
      "[CV] END model__colsample_bytree=0.8000461479455026, model__gamma=0.22648248189516848, model__learning_rate=0.032481928697702896, model__max_depth=8, model__min_child_weight=5, model__n_estimators=1966, model__reg_alpha=0.0019949166150633937, model__reg_lambda=1.4395239548966472, model__subsample=0.7884790488951874; total time=  -8.4s\n",
      "[CV] END model__colsample_bytree=0.8000461479455026, model__gamma=0.22648248189516848, model__learning_rate=0.032481928697702896, model__max_depth=8, model__min_child_weight=5, model__n_estimators=1966, model__reg_alpha=0.0019949166150633937, model__reg_lambda=1.4395239548966472, model__subsample=0.7884790488951874; total time=  21.8s\n",
      "[CV] END model__colsample_bytree=0.8000461479455026, model__gamma=0.22648248189516848, model__learning_rate=0.032481928697702896, model__max_depth=8, model__min_child_weight=5, model__n_estimators=1966, model__reg_alpha=0.0019949166150633937, model__reg_lambda=1.4395239548966472, model__subsample=0.7884790488951874; total time=  30.6s\n",
      "[CV] END model__colsample_bytree=0.7365943615735769, model__gamma=0.040957144541603416, model__learning_rate=0.010950400456684809, model__max_depth=7, model__min_child_weight=6, model__n_estimators=3933, model__reg_alpha=0.0035113563139704067, model__reg_lambda=0.7627364729026304, model__subsample=0.7802355958159147; total time=  39.3s\n",
      "[CV] END model__colsample_bytree=0.7365943615735769, model__gamma=0.040957144541603416, model__learning_rate=0.010950400456684809, model__max_depth=7, model__min_child_weight=6, model__n_estimators=3933, model__reg_alpha=0.0035113563139704067, model__reg_lambda=0.7627364729026304, model__subsample=0.7802355958159147; total time=  43.5s\n",
      "[CV] END model__colsample_bytree=0.7365943615735769, model__gamma=0.040957144541603416, model__learning_rate=0.010950400456684809, model__max_depth=7, model__min_child_weight=6, model__n_estimators=3933, model__reg_alpha=0.0035113563139704067, model__reg_lambda=0.7627364729026304, model__subsample=0.7802355958159147; total time= 1.3min\n",
      "[CV] END model__colsample_bytree=0.8440804465551435, model__gamma=0.01174843954800703, model__learning_rate=0.01597939871741036, model__max_depth=6, model__min_child_weight=3, model__n_estimators=3399, model__reg_alpha=0.034890188454913866, model__reg_lambda=1.9560708142748473, model__subsample=0.7116939926304295; total time=  -2.6s\n",
      "[CV] END model__colsample_bytree=0.8440804465551435, model__gamma=0.01174843954800703, model__learning_rate=0.01597939871741036, model__max_depth=6, model__min_child_weight=3, model__n_estimators=3399, model__reg_alpha=0.034890188454913866, model__reg_lambda=1.9560708142748473, model__subsample=0.7116939926304295; total time=  29.4s\n",
      "[CV] END model__colsample_bytree=0.8440804465551435, model__gamma=0.01174843954800703, model__learning_rate=0.01597939871741036, model__max_depth=6, model__min_child_weight=3, model__n_estimators=3399, model__reg_alpha=0.034890188454913866, model__reg_lambda=1.9560708142748473, model__subsample=0.7116939926304295; total time=  28.8s\n",
      "[CV] END model__colsample_bytree=0.8693765634488123, model__gamma=0.0026448980183927102, model__learning_rate=0.01110373560851683, model__max_depth=7, model__min_child_weight=9, model__n_estimators=3863, model__reg_alpha=0.04896262051737683, model__reg_lambda=1.2144692047053403, model__subsample=0.7039977056683855; total time=  34.5s\n",
      "[CV] END model__colsample_bytree=0.8693765634488123, model__gamma=0.0026448980183927102, model__learning_rate=0.01110373560851683, model__max_depth=7, model__min_child_weight=9, model__n_estimators=3863, model__reg_alpha=0.04896262051737683, model__reg_lambda=1.2144692047053403, model__subsample=0.7039977056683855; total time=  29.0s\n",
      "[CV] END model__colsample_bytree=0.8693765634488123, model__gamma=0.0026448980183927102, model__learning_rate=0.01110373560851683, model__max_depth=7, model__min_child_weight=9, model__n_estimators=3863, model__reg_alpha=0.04896262051737683, model__reg_lambda=1.2144692047053403, model__subsample=0.7039977056683855; total time=  27.4s\n",
      "[CV] END model__colsample_bytree=0.7600881226037296, model__gamma=0.00395411508014243, model__learning_rate=0.0300317544753101, model__max_depth=7, model__min_child_weight=8, model__n_estimators=5514, model__reg_alpha=0.0033120277014659465, model__reg_lambda=1.23035549124027, model__subsample=0.747010604715862; total time=  39.8s\n",
      "[CV] END model__colsample_bytree=0.7600881226037296, model__gamma=0.00395411508014243, model__learning_rate=0.0300317544753101, model__max_depth=7, model__min_child_weight=8, model__n_estimators=5514, model__reg_alpha=0.0033120277014659465, model__reg_lambda=1.23035549124027, model__subsample=0.747010604715862; total time=  42.5s\n",
      "[CV] END model__colsample_bytree=0.7600881226037296, model__gamma=0.00395411508014243, model__learning_rate=0.0300317544753101, model__max_depth=7, model__min_child_weight=8, model__n_estimators=5514, model__reg_alpha=0.0033120277014659465, model__reg_lambda=1.23035549124027, model__subsample=0.747010604715862; total time=  38.8s\n",
      "[CV] END model__colsample_bytree=0.9164420391120995, model__gamma=0.011302191284720996, model__learning_rate=0.013974780171450808, model__max_depth=7, model__min_child_weight=6, model__n_estimators=3000, model__reg_alpha=0.8105016126411579, model__reg_lambda=2.9792217348362575, model__subsample=0.9786519537864217; total time=  19.8s\n",
      "[CV] END model__colsample_bytree=0.9164420391120995, model__gamma=0.011302191284720996, model__learning_rate=0.013974780171450808, model__max_depth=7, model__min_child_weight=6, model__n_estimators=3000, model__reg_alpha=0.8105016126411579, model__reg_lambda=2.9792217348362575, model__subsample=0.9786519537864217; total time=  21.0s\n",
      "[CV] END model__colsample_bytree=0.9164420391120995, model__gamma=0.011302191284720996, model__learning_rate=0.013974780171450808, model__max_depth=7, model__min_child_weight=6, model__n_estimators=3000, model__reg_alpha=0.8105016126411579, model__reg_lambda=2.9792217348362575, model__subsample=0.9786519537864217; total time=  20.2s\n",
      "[CV] END model__colsample_bytree=0.9631824270939997, model__gamma=0.03027406546455652, model__learning_rate=0.04409226795827594, model__max_depth=9, model__min_child_weight=7, model__n_estimators=2775, model__reg_alpha=0.0013667272915456222, model__reg_lambda=1.0575486010842792, model__subsample=0.8040904682547375; total time=  20.5s\n",
      "[CV] END model__colsample_bytree=0.9631824270939997, model__gamma=0.03027406546455652, model__learning_rate=0.04409226795827594, model__max_depth=9, model__min_child_weight=7, model__n_estimators=2775, model__reg_alpha=0.0013667272915456222, model__reg_lambda=1.0575486010842792, model__subsample=0.8040904682547375; total time=  21.4s\n",
      "[CV] END model__colsample_bytree=0.9631824270939997, model__gamma=0.03027406546455652, model__learning_rate=0.04409226795827594, model__max_depth=9, model__min_child_weight=7, model__n_estimators=2775, model__reg_alpha=0.0013667272915456222, model__reg_lambda=1.0575486010842792, model__subsample=0.8040904682547375; total time=  21.1s\n",
      "[CV] END model__colsample_bytree=0.7711352160931347, model__gamma=0.11294923622078903, model__learning_rate=0.017756602567007333, model__max_depth=7, model__min_child_weight=9, model__n_estimators=3562, model__reg_alpha=0.0031318490181411187, model__reg_lambda=0.5183300779755377, model__subsample=0.814111255708802; total time=  23.8s\n",
      "[CV] END model__colsample_bytree=0.7711352160931347, model__gamma=0.11294923622078903, model__learning_rate=0.017756602567007333, model__max_depth=7, model__min_child_weight=9, model__n_estimators=3562, model__reg_alpha=0.0031318490181411187, model__reg_lambda=0.5183300779755377, model__subsample=0.814111255708802; total time=  25.0s\n",
      "[CV] END model__colsample_bytree=0.7711352160931347, model__gamma=0.11294923622078903, model__learning_rate=0.017756602567007333, model__max_depth=7, model__min_child_weight=9, model__n_estimators=3562, model__reg_alpha=0.0031318490181411187, model__reg_lambda=0.5183300779755377, model__subsample=0.814111255708802; total time=  25.2s\n",
      "[CV] END model__colsample_bytree=0.8058718045268777, model__gamma=0.0053334201281937735, model__learning_rate=0.010229193023022358, model__max_depth=6, model__min_child_weight=1, model__n_estimators=1891, model__reg_alpha=0.15382308040278994, model__reg_lambda=2.952842962530318, model__subsample=0.7187331921832603; total time=  13.4s\n",
      "[CV] END model__colsample_bytree=0.8058718045268777, model__gamma=0.0053334201281937735, model__learning_rate=0.010229193023022358, model__max_depth=6, model__min_child_weight=1, model__n_estimators=1891, model__reg_alpha=0.15382308040278994, model__reg_lambda=2.952842962530318, model__subsample=0.7187331921832603; total time=  11.7s\n",
      "[CV] END model__colsample_bytree=0.8058718045268777, model__gamma=0.0053334201281937735, model__learning_rate=0.010229193023022358, model__max_depth=6, model__min_child_weight=1, model__n_estimators=1891, model__reg_alpha=0.15382308040278994, model__reg_lambda=2.952842962530318, model__subsample=0.7187331921832603; total time=  48.4s\n",
      "[CV] END model__colsample_bytree=0.7954723416602281, model__gamma=0.0019365187669093031, model__learning_rate=0.040112839454029395, model__max_depth=7, model__min_child_weight=2, model__n_estimators=4604, model__reg_alpha=0.0015512259126484748, model__reg_lambda=1.0231806681740798, model__subsample=0.7860851172219772; total time=  -4.3s\n",
      "[CV] END model__colsample_bytree=0.7954723416602281, model__gamma=0.0019365187669093031, model__learning_rate=0.040112839454029395, model__max_depth=7, model__min_child_weight=2, model__n_estimators=4604, model__reg_alpha=0.0015512259126484748, model__reg_lambda=1.0231806681740798, model__subsample=0.7860851172219772; total time=  29.7s\n",
      "[CV] END model__colsample_bytree=0.7954723416602281, model__gamma=0.0019365187669093031, model__learning_rate=0.040112839454029395, model__max_depth=7, model__min_child_weight=2, model__n_estimators=4604, model__reg_alpha=0.0015512259126484748, model__reg_lambda=1.0231806681740798, model__subsample=0.7860851172219772; total time=  29.5s\n",
      "[CV] END model__colsample_bytree=0.9080619269836206, model__gamma=0.037958335792652884, model__learning_rate=0.04169990777997927, model__max_depth=4, model__min_child_weight=3, model__n_estimators=4190, model__reg_alpha=0.19158219548093164, model__reg_lambda=1.820736933407497, model__subsample=0.9215573500675949; total time=  20.7s\n",
      "[CV] END model__colsample_bytree=0.9080619269836206, model__gamma=0.037958335792652884, model__learning_rate=0.04169990777997927, model__max_depth=4, model__min_child_weight=3, model__n_estimators=4190, model__reg_alpha=0.19158219548093164, model__reg_lambda=1.820736933407497, model__subsample=0.9215573500675949; total time=  19.7s\n",
      "[CV] END model__colsample_bytree=0.9080619269836206, model__gamma=0.037958335792652884, model__learning_rate=0.04169990777997927, model__max_depth=4, model__min_child_weight=3, model__n_estimators=4190, model__reg_alpha=0.19158219548093164, model__reg_lambda=1.820736933407497, model__subsample=0.9215573500675949; total time=  19.2s\n",
      "[CV] END model__colsample_bytree=0.834810582401611, model__gamma=0.019718442220616167, model__learning_rate=0.019899325109522012, model__max_depth=5, model__min_child_weight=3, model__n_estimators=2363, model__reg_alpha=0.08113929572637839, model__reg_lambda=1.0311598280323555, model__subsample=0.8392215683225333; total time=  49.2s\n",
      "[CV] END model__colsample_bytree=0.834810582401611, model__gamma=0.019718442220616167, model__learning_rate=0.019899325109522012, model__max_depth=5, model__min_child_weight=3, model__n_estimators=2363, model__reg_alpha=0.08113929572637839, model__reg_lambda=1.0311598280323555, model__subsample=0.8392215683225333; total time= -23.3s\n",
      "[CV] END model__colsample_bytree=0.834810582401611, model__gamma=0.019718442220616167, model__learning_rate=0.019899325109522012, model__max_depth=5, model__min_child_weight=3, model__n_estimators=2363, model__reg_alpha=0.08113929572637839, model__reg_lambda=1.0311598280323555, model__subsample=0.8392215683225333; total time=  13.6s\n",
      "[CV] END model__colsample_bytree=0.9675688220266015, model__gamma=0.004145024286040948, model__learning_rate=0.019357325525141886, model__max_depth=6, model__min_child_weight=4, model__n_estimators=3222, model__reg_alpha=0.12143805397783973, model__reg_lambda=3.7969759239357197, model__subsample=0.8746044964881339; total time=  19.1s\n",
      "[CV] END model__colsample_bytree=0.9675688220266015, model__gamma=0.004145024286040948, model__learning_rate=0.019357325525141886, model__max_depth=6, model__min_child_weight=4, model__n_estimators=3222, model__reg_alpha=0.12143805397783973, model__reg_lambda=3.7969759239357197, model__subsample=0.8746044964881339; total time=  20.6s\n",
      "[CV] END model__colsample_bytree=0.9675688220266015, model__gamma=0.004145024286040948, model__learning_rate=0.019357325525141886, model__max_depth=6, model__min_child_weight=4, model__n_estimators=3222, model__reg_alpha=0.12143805397783973, model__reg_lambda=3.7969759239357197, model__subsample=0.8746044964881339; total time=  22.8s\n",
      "[CV] END model__colsample_bytree=0.7778435904123839, model__gamma=0.001825248807094868, model__learning_rate=0.020849899728864158, model__max_depth=7, model__min_child_weight=4, model__n_estimators=3481, model__reg_alpha=0.04149795789891589, model__reg_lambda=3.209298842662204, model__subsample=0.9636167460362013; total time=  57.8s\n",
      "[CV] END model__colsample_bytree=0.7778435904123839, model__gamma=0.001825248807094868, model__learning_rate=0.020849899728864158, model__max_depth=7, model__min_child_weight=4, model__n_estimators=3481, model__reg_alpha=0.04149795789891589, model__reg_lambda=3.209298842662204, model__subsample=0.9636167460362013; total time= -14.9s\n",
      "[CV] END model__colsample_bytree=0.7778435904123839, model__gamma=0.001825248807094868, model__learning_rate=0.020849899728864158, model__max_depth=7, model__min_child_weight=4, model__n_estimators=3481, model__reg_alpha=0.04149795789891589, model__reg_lambda=3.209298842662204, model__subsample=0.9636167460362013; total time=  21.6s\n",
      "[CV] END model__colsample_bytree=0.7840746296117141, model__gamma=0.001873319963748844, model__learning_rate=0.014431778064182298, model__max_depth=9, model__min_child_weight=9, model__n_estimators=4175, model__reg_alpha=0.011421064100297751, model__reg_lambda=1.0086750128133162, model__subsample=0.7423411825425508; total time= 1.1min\n",
      "[CV] END model__colsample_bytree=0.7840746296117141, model__gamma=0.001873319963748844, model__learning_rate=0.014431778064182298, model__max_depth=9, model__min_child_weight=9, model__n_estimators=4175, model__reg_alpha=0.011421064100297751, model__reg_lambda=1.0086750128133162, model__subsample=0.7423411825425508; total time=  30.6s\n",
      "[CV] END model__colsample_bytree=0.7840746296117141, model__gamma=0.001873319963748844, model__learning_rate=0.014431778064182298, model__max_depth=9, model__min_child_weight=9, model__n_estimators=4175, model__reg_alpha=0.011421064100297751, model__reg_lambda=1.0086750128133162, model__subsample=0.7423411825425508; total time=  -5.4s\n",
      "[CV] END model__colsample_bytree=0.8468949396435244, model__gamma=0.015884832034549382, model__learning_rate=0.030478389645295006, model__max_depth=5, model__min_child_weight=8, model__n_estimators=3498, model__reg_alpha=0.00319796073060383, model__reg_lambda=0.8274356412413112, model__subsample=0.8541794797295531; total time=  16.3s\n",
      "[CV] END model__colsample_bytree=0.8468949396435244, model__gamma=0.015884832034549382, model__learning_rate=0.030478389645295006, model__max_depth=5, model__min_child_weight=8, model__n_estimators=3498, model__reg_alpha=0.00319796073060383, model__reg_lambda=0.8274356412413112, model__subsample=0.8541794797295531; total time=  17.4s\n",
      "[CV] END model__colsample_bytree=0.8468949396435244, model__gamma=0.015884832034549382, model__learning_rate=0.030478389645295006, model__max_depth=5, model__min_child_weight=8, model__n_estimators=3498, model__reg_alpha=0.00319796073060383, model__reg_lambda=0.8274356412413112, model__subsample=0.8541794797295531; total time=  16.8s\n",
      "[CV] END model__colsample_bytree=0.8084497934654181, model__gamma=0.0014479246593891379, model__learning_rate=0.015048016473545919, model__max_depth=7, model__min_child_weight=7, model__n_estimators=4957, model__reg_alpha=0.13702877326581692, model__reg_lambda=0.7031644959269149, model__subsample=0.9991944122916537; total time= 1.1min\n",
      "[CV] END model__colsample_bytree=0.8084497934654181, model__gamma=0.0014479246593891379, model__learning_rate=0.015048016473545919, model__max_depth=7, model__min_child_weight=7, model__n_estimators=4957, model__reg_alpha=0.13702877326581692, model__reg_lambda=0.7031644959269149, model__subsample=0.9991944122916537; total time=  -7.3s\n",
      "[CV] END model__colsample_bytree=0.8084497934654181, model__gamma=0.0014479246593891379, model__learning_rate=0.015048016473545919, model__max_depth=7, model__min_child_weight=7, model__n_estimators=4957, model__reg_alpha=0.13702877326581692, model__reg_lambda=0.7031644959269149, model__subsample=0.9991944122916537; total time=  29.7s\n",
      "[CV] END model__colsample_bytree=0.7698798304778602, model__gamma=0.26253890210994124, model__learning_rate=0.019377714054126752, model__max_depth=8, model__min_child_weight=1, model__n_estimators=4974, model__reg_alpha=0.11018344696523026, model__reg_lambda=1.6978705977224349, model__subsample=0.8212219140303524; total time=  31.6s\n",
      "[CV] END model__colsample_bytree=0.7698798304778602, model__gamma=0.26253890210994124, model__learning_rate=0.019377714054126752, model__max_depth=8, model__min_child_weight=1, model__n_estimators=4974, model__reg_alpha=0.11018344696523026, model__reg_lambda=1.6978705977224349, model__subsample=0.8212219140303524; total time= 1.1min\n",
      "[CV] END model__colsample_bytree=0.7698798304778602, model__gamma=0.26253890210994124, model__learning_rate=0.019377714054126752, model__max_depth=8, model__min_child_weight=1, model__n_estimators=4974, model__reg_alpha=0.11018344696523026, model__reg_lambda=1.6978705977224349, model__subsample=0.8212219140303524; total time=  -6.6s\n",
      "[CV] END model__colsample_bytree=0.8525939825928978, model__gamma=0.029388786394944258, model__learning_rate=0.011389746282389137, model__max_depth=6, model__min_child_weight=1, model__n_estimators=2266, model__reg_alpha=0.2566960992206888, model__reg_lambda=1.476626434179517, model__subsample=0.9941048944355892; total time=  47.9s\n",
      "[CV] END model__colsample_bytree=0.8525939825928978, model__gamma=0.029388786394944258, model__learning_rate=0.011389746282389137, model__max_depth=6, model__min_child_weight=1, model__n_estimators=2266, model__reg_alpha=0.2566960992206888, model__reg_lambda=1.476626434179517, model__subsample=0.9941048944355892; total time= -23.7s\n",
      "[CV] END model__colsample_bytree=0.8525939825928978, model__gamma=0.029388786394944258, model__learning_rate=0.011389746282389137, model__max_depth=6, model__min_child_weight=1, model__n_estimators=2266, model__reg_alpha=0.2566960992206888, model__reg_lambda=1.476626434179517, model__subsample=0.9941048944355892; total time=  12.6s\n",
      "[CV] END model__colsample_bytree=0.8070059334277893, model__gamma=0.10529330219369645, model__learning_rate=0.03614259202436747, model__max_depth=4, model__min_child_weight=6, model__n_estimators=4011, model__reg_alpha=0.0013253342600066532, model__reg_lambda=1.9492293746525966, model__subsample=0.8913619427621313; total time=  17.1s\n",
      "[CV] END model__colsample_bytree=0.8070059334277893, model__gamma=0.10529330219369645, model__learning_rate=0.03614259202436747, model__max_depth=4, model__min_child_weight=6, model__n_estimators=4011, model__reg_alpha=0.0013253342600066532, model__reg_lambda=1.9492293746525966, model__subsample=0.8913619427621313; total time=  17.4s\n",
      "[CV] END model__colsample_bytree=0.8070059334277893, model__gamma=0.10529330219369645, model__learning_rate=0.03614259202436747, model__max_depth=4, model__min_child_weight=6, model__n_estimators=4011, model__reg_alpha=0.0013253342600066532, model__reg_lambda=1.9492293746525966, model__subsample=0.8913619427621313; total time=  52.5s\n",
      "[CV] END model__colsample_bytree=0.7041537998516921, model__gamma=0.018557377359658574, model__learning_rate=0.014398384036592202, model__max_depth=7, model__min_child_weight=9, model__n_estimators=4476, model__reg_alpha=0.015585332185715395, model__reg_lambda=1.6471052628810834, model__subsample=0.943758719857646; total time=  -9.7s\n",
      "[CV] END model__colsample_bytree=0.7041537998516921, model__gamma=0.018557377359658574, model__learning_rate=0.014398384036592202, model__max_depth=7, model__min_child_weight=9, model__n_estimators=4476, model__reg_alpha=0.015585332185715395, model__reg_lambda=1.6471052628810834, model__subsample=0.943758719857646; total time=  26.0s\n",
      "[CV] END model__colsample_bytree=0.7041537998516921, model__gamma=0.018557377359658574, model__learning_rate=0.014398384036592202, model__max_depth=7, model__min_child_weight=9, model__n_estimators=4476, model__reg_alpha=0.015585332185715395, model__reg_lambda=1.6471052628810834, model__subsample=0.943758719857646; total time=  26.2s\n",
      "[CV] END model__colsample_bytree=0.8907662698509008, model__gamma=0.06625512471148383, model__learning_rate=0.014000217788607477, model__max_depth=9, model__min_child_weight=3, model__n_estimators=1762, model__reg_alpha=0.09548873458201661, model__reg_lambda=3.2824052949793745, model__subsample=0.8532960473979849; total time=  13.8s\n",
      "[CV] END model__colsample_bytree=0.8907662698509008, model__gamma=0.06625512471148383, model__learning_rate=0.014000217788607477, model__max_depth=9, model__min_child_weight=3, model__n_estimators=1762, model__reg_alpha=0.09548873458201661, model__reg_lambda=3.2824052949793745, model__subsample=0.8532960473979849; total time=  49.6s\n",
      "[CV] END model__colsample_bytree=0.8907662698509008, model__gamma=0.06625512471148383, model__learning_rate=0.014000217788607477, model__max_depth=9, model__min_child_weight=3, model__n_estimators=1762, model__reg_alpha=0.09548873458201661, model__reg_lambda=3.2824052949793745, model__subsample=0.8532960473979849; total time=  13.8s\n",
      "[CV] END model__colsample_bytree=0.845555176633564, model__gamma=0.003972806843240043, model__learning_rate=0.011616519934165804, model__max_depth=7, model__min_child_weight=5, model__n_estimators=4608, model__reg_alpha=0.44453814157375454, model__reg_lambda=0.7721063294826943, model__subsample=0.7732069679251283; total time=  -8.8s\n",
      "[CV] END model__colsample_bytree=0.845555176633564, model__gamma=0.003972806843240043, model__learning_rate=0.011616519934165804, model__max_depth=7, model__min_child_weight=5, model__n_estimators=4608, model__reg_alpha=0.44453814157375454, model__reg_lambda=0.7721063294826943, model__subsample=0.7732069679251283; total time=  27.6s\n",
      "[CV] END model__colsample_bytree=0.845555176633564, model__gamma=0.003972806843240043, model__learning_rate=0.011616519934165804, model__max_depth=7, model__min_child_weight=5, model__n_estimators=4608, model__reg_alpha=0.44453814157375454, model__reg_lambda=0.7721063294826943, model__subsample=0.7732069679251283; total time=  28.8s\n",
      "[CV] END model__colsample_bytree=0.89863812674435, model__gamma=0.12510720191385438, model__learning_rate=0.03967756337618161, model__max_depth=9, model__min_child_weight=8, model__n_estimators=3196, model__reg_alpha=0.0843519134174305, model__reg_lambda=0.6068899830179313, model__subsample=0.7415401058565416; total time=  19.6s\n",
      "[CV] END model__colsample_bytree=0.89863812674435, model__gamma=0.12510720191385438, model__learning_rate=0.03967756337618161, model__max_depth=9, model__min_child_weight=8, model__n_estimators=3196, model__reg_alpha=0.0843519134174305, model__reg_lambda=0.6068899830179313, model__subsample=0.7415401058565416; total time=  20.1s\n",
      "[CV] END model__colsample_bytree=0.89863812674435, model__gamma=0.12510720191385438, model__learning_rate=0.03967756337618161, model__max_depth=9, model__min_child_weight=8, model__n_estimators=3196, model__reg_alpha=0.0843519134174305, model__reg_lambda=0.6068899830179313, model__subsample=0.7415401058565416; total time=  19.8s\n",
      "[CV] END model__colsample_bytree=0.9644636077061869, model__gamma=0.031783250672310234, model__learning_rate=0.010149121769262505, model__max_depth=9, model__min_child_weight=9, model__n_estimators=1598, model__reg_alpha=0.8336648876997917, model__reg_lambda=0.9613709151876401, model__subsample=0.7805477937082783; total time=  12.1s\n",
      "[CV] END model__colsample_bytree=0.9644636077061869, model__gamma=0.031783250672310234, model__learning_rate=0.010149121769262505, model__max_depth=9, model__min_child_weight=9, model__n_estimators=1598, model__reg_alpha=0.8336648876997917, model__reg_lambda=0.9613709151876401, model__subsample=0.7805477937082783; total time=  11.8s\n",
      "[CV] END model__colsample_bytree=0.9644636077061869, model__gamma=0.031783250672310234, model__learning_rate=0.010149121769262505, model__max_depth=9, model__min_child_weight=9, model__n_estimators=1598, model__reg_alpha=0.8336648876997917, model__reg_lambda=0.9613709151876401, model__subsample=0.7805477937082783; total time=  11.7s\n",
      "[CV] END model__colsample_bytree=0.8323779407435046, model__gamma=0.012906276816845487, model__learning_rate=0.04955596493267165, model__max_depth=7, model__min_child_weight=1, model__n_estimators=5993, model__reg_alpha=0.009466710461838312, model__reg_lambda=2.789082812963905, model__subsample=0.8825258788838958; total time=  27.9s\n",
      "[CV] END model__colsample_bytree=0.8323779407435046, model__gamma=0.012906276816845487, model__learning_rate=0.04955596493267165, model__max_depth=7, model__min_child_weight=1, model__n_estimators=5993, model__reg_alpha=0.009466710461838312, model__reg_lambda=2.789082812963905, model__subsample=0.8825258788838958; total time=  25.4s\n",
      "[CV] END model__colsample_bytree=0.8323779407435046, model__gamma=0.012906276816845487, model__learning_rate=0.04955596493267165, model__max_depth=7, model__min_child_weight=1, model__n_estimators=5993, model__reg_alpha=0.009466710461838312, model__reg_lambda=2.789082812963905, model__subsample=0.8825258788838958; total time=  25.8s\n",
      "[CV] END model__colsample_bytree=0.9476422402950457, model__gamma=0.04255855490727933, model__learning_rate=0.024959200335928477, model__max_depth=7, model__min_child_weight=3, model__n_estimators=4946, model__reg_alpha=0.005641381315708956, model__reg_lambda=1.9446473310341215, model__subsample=0.992499878745611; total time=  30.3s\n",
      "[CV] END model__colsample_bytree=0.9476422402950457, model__gamma=0.04255855490727933, model__learning_rate=0.024959200335928477, model__max_depth=7, model__min_child_weight=3, model__n_estimators=4946, model__reg_alpha=0.005641381315708956, model__reg_lambda=1.9446473310341215, model__subsample=0.992499878745611; total time=  29.1s\n",
      "[CV] END model__colsample_bytree=0.9476422402950457, model__gamma=0.04255855490727933, model__learning_rate=0.024959200335928477, model__max_depth=7, model__min_child_weight=3, model__n_estimators=4946, model__reg_alpha=0.005641381315708956, model__reg_lambda=1.9446473310341215, model__subsample=0.992499878745611; total time=  30.2s\n",
      "[CV] END model__colsample_bytree=0.8327130168024074, model__gamma=0.17559678733876366, model__learning_rate=0.020120030352305376, model__max_depth=8, model__min_child_weight=1, model__n_estimators=2459, model__reg_alpha=0.3912935554728464, model__reg_lambda=0.8494841353873835, model__subsample=0.836419353076193; total time=  17.7s\n",
      "[CV] END model__colsample_bytree=0.8327130168024074, model__gamma=0.17559678733876366, model__learning_rate=0.020120030352305376, model__max_depth=8, model__min_child_weight=1, model__n_estimators=2459, model__reg_alpha=0.3912935554728464, model__reg_lambda=0.8494841353873835, model__subsample=0.836419353076193; total time=  16.9s\n",
      "[CV] END model__colsample_bytree=0.8327130168024074, model__gamma=0.17559678733876366, model__learning_rate=0.020120030352305376, model__max_depth=8, model__min_child_weight=1, model__n_estimators=2459, model__reg_alpha=0.3912935554728464, model__reg_lambda=0.8494841353873835, model__subsample=0.836419353076193; total time=  17.4s\n",
      "[CV] END model__colsample_bytree=0.8584255029385875, model__gamma=0.08013117005374264, model__learning_rate=0.010726986363475789, model__max_depth=7, model__min_child_weight=5, model__n_estimators=4065, model__reg_alpha=0.012896625857891442, model__reg_lambda=0.5181155429269124, model__subsample=0.9747570946939424; total time=  24.6s\n",
      "[CV] END model__colsample_bytree=0.8584255029385875, model__gamma=0.08013117005374264, model__learning_rate=0.010726986363475789, model__max_depth=7, model__min_child_weight=5, model__n_estimators=4065, model__reg_alpha=0.012896625857891442, model__reg_lambda=0.5181155429269124, model__subsample=0.9747570946939424; total time=  24.7s\n",
      "[CV] END model__colsample_bytree=0.8584255029385875, model__gamma=0.08013117005374264, model__learning_rate=0.010726986363475789, model__max_depth=7, model__min_child_weight=5, model__n_estimators=4065, model__reg_alpha=0.012896625857891442, model__reg_lambda=0.5181155429269124, model__subsample=0.9747570946939424; total time=  24.0s\n",
      "[CV] END model__colsample_bytree=0.8155011988501981, model__gamma=0.24803970047242635, model__learning_rate=0.04715648867405273, model__max_depth=4, model__min_child_weight=4, model__n_estimators=1690, model__reg_alpha=0.00826211161851966, model__reg_lambda=0.7760345115468165, model__subsample=0.7703450948473326; total time=   6.5s\n",
      "[CV] END model__colsample_bytree=0.8155011988501981, model__gamma=0.24803970047242635, model__learning_rate=0.04715648867405273, model__max_depth=4, model__min_child_weight=4, model__n_estimators=1690, model__reg_alpha=0.00826211161851966, model__reg_lambda=0.7760345115468165, model__subsample=0.7703450948473326; total time=   7.3s\n",
      "[CV] END model__colsample_bytree=0.8155011988501981, model__gamma=0.24803970047242635, model__learning_rate=0.04715648867405273, model__max_depth=4, model__min_child_weight=4, model__n_estimators=1690, model__reg_alpha=0.00826211161851966, model__reg_lambda=0.7760345115468165, model__subsample=0.7703450948473326; total time=   7.3s\n",
      "[CV] END model__colsample_bytree=0.832278821766277, model__gamma=0.008378968540554012, model__learning_rate=0.01887458868532021, model__max_depth=9, model__min_child_weight=3, model__n_estimators=3395, model__reg_alpha=0.0016264787461268897, model__reg_lambda=0.8088886133783391, model__subsample=0.8893229218925164; total time=  25.4s\n",
      "[CV] END model__colsample_bytree=0.832278821766277, model__gamma=0.008378968540554012, model__learning_rate=0.01887458868532021, model__max_depth=9, model__min_child_weight=3, model__n_estimators=3395, model__reg_alpha=0.0016264787461268897, model__reg_lambda=0.8088886133783391, model__subsample=0.8893229218925164; total time=  25.6s\n",
      "[CV] END model__colsample_bytree=0.832278821766277, model__gamma=0.008378968540554012, model__learning_rate=0.01887458868532021, model__max_depth=9, model__min_child_weight=3, model__n_estimators=3395, model__reg_alpha=0.0016264787461268897, model__reg_lambda=0.8088886133783391, model__subsample=0.8893229218925164; total time= 1.0min\n",
      "[CV] END model__colsample_bytree=0.7955237125204997, model__gamma=0.004261810914521975, model__learning_rate=0.016084192561139812, model__max_depth=5, model__min_child_weight=1, model__n_estimators=4675, model__reg_alpha=0.12332389221028006, model__reg_lambda=2.520310729538701, model__subsample=0.7957633329737522; total time= -13.7s\n",
      "[CV] END model__colsample_bytree=0.7955237125204997, model__gamma=0.004261810914521975, model__learning_rate=0.016084192561139812, model__max_depth=5, model__min_child_weight=1, model__n_estimators=4675, model__reg_alpha=0.12332389221028006, model__reg_lambda=2.520310729538701, model__subsample=0.7957633329737522; total time=  22.7s\n",
      "[CV] END model__colsample_bytree=0.7955237125204997, model__gamma=0.004261810914521975, model__learning_rate=0.016084192561139812, model__max_depth=5, model__min_child_weight=1, model__n_estimators=4675, model__reg_alpha=0.12332389221028006, model__reg_lambda=2.520310729538701, model__subsample=0.7957633329737522; total time=  22.6s\n",
      "[CV] END model__colsample_bytree=0.7772773135877756, model__gamma=0.10113133051262838, model__learning_rate=0.03683366746739023, model__max_depth=4, model__min_child_weight=8, model__n_estimators=2024, model__reg_alpha=0.0017570436113703504, model__reg_lambda=0.5060050685602534, model__subsample=0.8757096097800288; total time=   8.2s\n",
      "[CV] END model__colsample_bytree=0.7772773135877756, model__gamma=0.10113133051262838, model__learning_rate=0.03683366746739023, model__max_depth=4, model__min_child_weight=8, model__n_estimators=2024, model__reg_alpha=0.0017570436113703504, model__reg_lambda=0.5060050685602534, model__subsample=0.8757096097800288; total time=   8.6s\n",
      "[CV] END model__colsample_bytree=0.7772773135877756, model__gamma=0.10113133051262838, model__learning_rate=0.03683366746739023, model__max_depth=4, model__min_child_weight=8, model__n_estimators=2024, model__reg_alpha=0.0017570436113703504, model__reg_lambda=0.5060050685602534, model__subsample=0.8757096097800288; total time=   8.9s\n",
      "[CV] END model__colsample_bytree=0.750224868696918, model__gamma=0.0014987501974762737, model__learning_rate=0.01893825645997096, model__max_depth=9, model__min_child_weight=3, model__n_estimators=2666, model__reg_alpha=0.013389022084892937, model__reg_lambda=0.6208003372443719, model__subsample=0.8603492159762478; total time=  20.3s\n",
      "[CV] END model__colsample_bytree=0.750224868696918, model__gamma=0.0014987501974762737, model__learning_rate=0.01893825645997096, model__max_depth=9, model__min_child_weight=3, model__n_estimators=2666, model__reg_alpha=0.013389022084892937, model__reg_lambda=0.6208003372443719, model__subsample=0.8603492159762478; total time=  20.0s\n",
      "[CV] END model__colsample_bytree=0.750224868696918, model__gamma=0.0014987501974762737, model__learning_rate=0.01893825645997096, model__max_depth=9, model__min_child_weight=3, model__n_estimators=2666, model__reg_alpha=0.013389022084892937, model__reg_lambda=0.6208003372443719, model__subsample=0.8603492159762478; total time=  56.1s\n",
      "[CV] END model__colsample_bytree=0.7090315632575029, model__gamma=0.014234517375184072, model__learning_rate=0.02394927234334023, model__max_depth=8, model__min_child_weight=6, model__n_estimators=3215, model__reg_alpha=0.0013076881952262095, model__reg_lambda=1.0051607437445493, model__subsample=0.84779950889988; total time= -14.5s\n",
      "[CV] END model__colsample_bytree=0.7090315632575029, model__gamma=0.014234517375184072, model__learning_rate=0.02394927234334023, model__max_depth=8, model__min_child_weight=6, model__n_estimators=3215, model__reg_alpha=0.0013076881952262095, model__reg_lambda=1.0051607437445493, model__subsample=0.84779950889988; total time=  21.5s\n",
      "[CV] END model__colsample_bytree=0.7090315632575029, model__gamma=0.014234517375184072, model__learning_rate=0.02394927234334023, model__max_depth=8, model__min_child_weight=6, model__n_estimators=3215, model__reg_alpha=0.0013076881952262095, model__reg_lambda=1.0051607437445493, model__subsample=0.84779950889988; total time=  21.3s\n",
      "[CV] END model__colsample_bytree=0.7864967957270285, model__gamma=0.11239109576115039, model__learning_rate=0.015481047851982921, model__max_depth=7, model__min_child_weight=5, model__n_estimators=2376, model__reg_alpha=0.0038294826125366997, model__reg_lambda=1.2892107238800377, model__subsample=0.8983671283062189; total time=  13.8s\n",
      "[CV] END model__colsample_bytree=0.7864967957270285, model__gamma=0.11239109576115039, model__learning_rate=0.015481047851982921, model__max_depth=7, model__min_child_weight=5, model__n_estimators=2376, model__reg_alpha=0.0038294826125366997, model__reg_lambda=1.2892107238800377, model__subsample=0.8983671283062189; total time=  14.5s\n",
      "[CV] END model__colsample_bytree=0.7864967957270285, model__gamma=0.11239109576115039, model__learning_rate=0.015481047851982921, model__max_depth=7, model__min_child_weight=5, model__n_estimators=2376, model__reg_alpha=0.0038294826125366997, model__reg_lambda=1.2892107238800377, model__subsample=0.8983671283062189; total time=  14.1s\n",
      "[CV] END model__colsample_bytree=0.7354094482284623, model__gamma=0.002132192968967062, model__learning_rate=0.047607698646484446, model__max_depth=5, model__min_child_weight=3, model__n_estimators=1619, model__reg_alpha=0.006493767776722163, model__reg_lambda=1.3738566652113888, model__subsample=0.719865047533058; total time=   7.7s\n",
      "[CV] END model__colsample_bytree=0.7354094482284623, model__gamma=0.002132192968967062, model__learning_rate=0.047607698646484446, model__max_depth=5, model__min_child_weight=3, model__n_estimators=1619, model__reg_alpha=0.006493767776722163, model__reg_lambda=1.3738566652113888, model__subsample=0.719865047533058; total time=   7.8s\n",
      "[CV] END model__colsample_bytree=0.7354094482284623, model__gamma=0.002132192968967062, model__learning_rate=0.047607698646484446, model__max_depth=5, model__min_child_weight=3, model__n_estimators=1619, model__reg_alpha=0.006493767776722163, model__reg_lambda=1.3738566652113888, model__subsample=0.719865047533058; total time=   7.8s\n",
      "[CV] END model__colsample_bytree=0.7063580839904994, model__gamma=0.24243585426597453, model__learning_rate=0.03839945216623505, model__max_depth=4, model__min_child_weight=5, model__n_estimators=3164, model__reg_alpha=0.0033104189563245147, model__reg_lambda=0.7168149376999295, model__subsample=0.7653518836661336; total time=  13.9s\n",
      "[CV] END model__colsample_bytree=0.7063580839904994, model__gamma=0.24243585426597453, model__learning_rate=0.03839945216623505, model__max_depth=4, model__min_child_weight=5, model__n_estimators=3164, model__reg_alpha=0.0033104189563245147, model__reg_lambda=0.7168149376999295, model__subsample=0.7653518836661336; total time=  13.1s\n",
      "[CV] END model__colsample_bytree=0.7063580839904994, model__gamma=0.24243585426597453, model__learning_rate=0.03839945216623505, model__max_depth=4, model__min_child_weight=5, model__n_estimators=3164, model__reg_alpha=0.0033104189563245147, model__reg_lambda=0.7168149376999295, model__subsample=0.7653518836661336; total time=  13.6s\n",
      "[CV] END model__colsample_bytree=0.8514797556445525, model__gamma=0.058903452212486884, model__learning_rate=0.028937310428935815, model__max_depth=8, model__min_child_weight=1, model__n_estimators=4843, model__reg_alpha=0.0354885922535532, model__reg_lambda=2.2702899823928444, model__subsample=0.8176823547044066; total time=  28.0s\n",
      "[CV] END model__colsample_bytree=0.8514797556445525, model__gamma=0.058903452212486884, model__learning_rate=0.028937310428935815, model__max_depth=8, model__min_child_weight=1, model__n_estimators=4843, model__reg_alpha=0.0354885922535532, model__reg_lambda=2.2702899823928444, model__subsample=0.8176823547044066; total time= 1.0min\n",
      "[CV] END model__colsample_bytree=0.8514797556445525, model__gamma=0.058903452212486884, model__learning_rate=0.028937310428935815, model__max_depth=8, model__min_child_weight=1, model__n_estimators=4843, model__reg_alpha=0.0354885922535532, model__reg_lambda=2.2702899823928444, model__subsample=0.8176823547044066; total time=  -9.3s\n",
      "[CV] END model__colsample_bytree=0.9082022239005387, model__gamma=0.0013128001996668395, model__learning_rate=0.024868124415028683, model__max_depth=6, model__min_child_weight=5, model__n_estimators=4244, model__reg_alpha=0.010608134076349768, model__reg_lambda=0.6176878661520399, model__subsample=0.7239076098624334; total time=  23.3s\n",
      "[CV] END model__colsample_bytree=0.9082022239005387, model__gamma=0.0013128001996668395, model__learning_rate=0.024868124415028683, model__max_depth=6, model__min_child_weight=5, model__n_estimators=4244, model__reg_alpha=0.010608134076349768, model__reg_lambda=0.6176878661520399, model__subsample=0.7239076098624334; total time=  22.4s\n",
      "[CV] END model__colsample_bytree=0.9082022239005387, model__gamma=0.0013128001996668395, model__learning_rate=0.024868124415028683, model__max_depth=6, model__min_child_weight=5, model__n_estimators=4244, model__reg_alpha=0.010608134076349768, model__reg_lambda=0.6176878661520399, model__subsample=0.7239076098624334; total time=  22.5s\n",
      "[CV] END model__colsample_bytree=0.7822337897289754, model__gamma=0.26691092456924853, model__learning_rate=0.013260216030942016, model__max_depth=5, model__min_child_weight=5, model__n_estimators=3135, model__reg_alpha=0.0033083055212689886, model__reg_lambda=1.35775575906291, model__subsample=0.8069139142950529; total time=  51.3s\n",
      "[CV] END model__colsample_bytree=0.7822337897289754, model__gamma=0.26691092456924853, model__learning_rate=0.013260216030942016, model__max_depth=5, model__min_child_weight=5, model__n_estimators=3135, model__reg_alpha=0.0033083055212689886, model__reg_lambda=1.35775575906291, model__subsample=0.8069139142950529; total time=  14.8s\n",
      "[CV] END model__colsample_bytree=0.7822337897289754, model__gamma=0.26691092456924853, model__learning_rate=0.013260216030942016, model__max_depth=5, model__min_child_weight=5, model__n_estimators=3135, model__reg_alpha=0.0033083055212689886, model__reg_lambda=1.35775575906291, model__subsample=0.8069139142950529; total time= -20.6s\n",
      "[CV] END model__colsample_bytree=0.8719557125340661, model__gamma=0.037428634341505576, model__learning_rate=0.010756380182915129, model__max_depth=5, model__min_child_weight=3, model__n_estimators=3989, model__reg_alpha=0.03185074915514654, model__reg_lambda=1.7312008343575431, model__subsample=0.8933988075187005; total time=  19.7s\n",
      "[CV] END model__colsample_bytree=0.8719557125340661, model__gamma=0.037428634341505576, model__learning_rate=0.010756380182915129, model__max_depth=5, model__min_child_weight=3, model__n_estimators=3989, model__reg_alpha=0.03185074915514654, model__reg_lambda=1.7312008343575431, model__subsample=0.8933988075187005; total time=  55.3s\n",
      "[CV] END model__colsample_bytree=0.8719557125340661, model__gamma=0.037428634341505576, model__learning_rate=0.010756380182915129, model__max_depth=5, model__min_child_weight=3, model__n_estimators=3989, model__reg_alpha=0.03185074915514654, model__reg_lambda=1.7312008343575431, model__subsample=0.8933988075187005; total time= -16.7s\n",
      "[CV] END model__colsample_bytree=0.8719560441702234, model__gamma=0.2178381578881078, model__learning_rate=0.04570919185160547, model__max_depth=7, model__min_child_weight=4, model__n_estimators=3187, model__reg_alpha=0.10752390466838488, model__reg_lambda=1.8721344974593457, model__subsample=0.7328295895732798; total time=  17.6s\n",
      "[CV] END model__colsample_bytree=0.8719560441702234, model__gamma=0.2178381578881078, model__learning_rate=0.04570919185160547, model__max_depth=7, model__min_child_weight=4, model__n_estimators=3187, model__reg_alpha=0.10752390466838488, model__reg_lambda=1.8721344974593457, model__subsample=0.7328295895732798; total time=  17.2s\n",
      "[CV] END model__colsample_bytree=0.8719560441702234, model__gamma=0.2178381578881078, model__learning_rate=0.04570919185160547, model__max_depth=7, model__min_child_weight=4, model__n_estimators=3187, model__reg_alpha=0.10752390466838488, model__reg_lambda=1.8721344974593457, model__subsample=0.7328295895732798; total time=  16.2s\n",
      "[CV] END model__colsample_bytree=0.9348784672631192, model__gamma=0.10785082903796775, model__learning_rate=0.027385019462973514, model__max_depth=4, model__min_child_weight=1, model__n_estimators=5413, model__reg_alpha=0.004169203365123614, model__reg_lambda=0.939574305548847, model__subsample=0.7556806734150436; total time=  22.6s\n",
      "[CV] END model__colsample_bytree=0.9348784672631192, model__gamma=0.10785082903796775, model__learning_rate=0.027385019462973514, model__max_depth=4, model__min_child_weight=1, model__n_estimators=5413, model__reg_alpha=0.004169203365123614, model__reg_lambda=0.939574305548847, model__subsample=0.7556806734150436; total time=  22.6s\n",
      "[CV] END model__colsample_bytree=0.9348784672631192, model__gamma=0.10785082903796775, model__learning_rate=0.027385019462973514, model__max_depth=4, model__min_child_weight=1, model__n_estimators=5413, model__reg_alpha=0.004169203365123614, model__reg_lambda=0.939574305548847, model__subsample=0.7556806734150436; total time=  22.9s\n",
      "[CV] END model__colsample_bytree=0.800822398211241, model__gamma=0.001248867613123264, model__learning_rate=0.027048358890162296, model__max_depth=4, model__min_child_weight=8, model__n_estimators=3125, model__reg_alpha=0.010516560107591673, model__reg_lambda=0.911306635619765, model__subsample=0.8354783760439289; total time=  13.0s\n",
      "[CV] END model__colsample_bytree=0.800822398211241, model__gamma=0.001248867613123264, model__learning_rate=0.027048358890162296, model__max_depth=4, model__min_child_weight=8, model__n_estimators=3125, model__reg_alpha=0.010516560107591673, model__reg_lambda=0.911306635619765, model__subsample=0.8354783760439289; total time=  13.4s\n",
      "[CV] END model__colsample_bytree=0.800822398211241, model__gamma=0.001248867613123264, model__learning_rate=0.027048358890162296, model__max_depth=4, model__min_child_weight=8, model__n_estimators=3125, model__reg_alpha=0.010516560107591673, model__reg_lambda=0.911306635619765, model__subsample=0.8354783760439289; total time=  13.2s\n",
      "[CV] END model__colsample_bytree=0.8962478247785349, model__gamma=0.00729242559501416, model__learning_rate=0.045153244565728785, model__max_depth=7, model__min_child_weight=9, model__n_estimators=4848, model__reg_alpha=0.7993586052037717, model__reg_lambda=1.765801525124995, model__subsample=0.8141314257383517; total time=  27.1s\n",
      "[CV] END model__colsample_bytree=0.8962478247785349, model__gamma=0.00729242559501416, model__learning_rate=0.045153244565728785, model__max_depth=7, model__min_child_weight=9, model__n_estimators=4848, model__reg_alpha=0.7993586052037717, model__reg_lambda=1.765801525124995, model__subsample=0.8141314257383517; total time=  27.0s\n",
      "[CV] END model__colsample_bytree=0.8962478247785349, model__gamma=0.00729242559501416, model__learning_rate=0.045153244565728785, model__max_depth=7, model__min_child_weight=9, model__n_estimators=4848, model__reg_alpha=0.7993586052037717, model__reg_lambda=1.765801525124995, model__subsample=0.8141314257383517; total time= 1.1min\n",
      "[CV] END model__colsample_bytree=0.8573594641272002, model__gamma=0.026707608813065897, model__learning_rate=0.03246383592207141, model__max_depth=7, model__min_child_weight=2, model__n_estimators=3643, model__reg_alpha=0.010529569628032455, model__reg_lambda=4.263117766092559, model__subsample=0.9507533355933205; total time= -13.3s\n",
      "[CV] END model__colsample_bytree=0.8573594641272002, model__gamma=0.026707608813065897, model__learning_rate=0.03246383592207141, model__max_depth=7, model__min_child_weight=2, model__n_estimators=3643, model__reg_alpha=0.010529569628032455, model__reg_lambda=4.263117766092559, model__subsample=0.9507533355933205; total time=  22.2s\n",
      "[CV] END model__colsample_bytree=0.8573594641272002, model__gamma=0.026707608813065897, model__learning_rate=0.03246383592207141, model__max_depth=7, model__min_child_weight=2, model__n_estimators=3643, model__reg_alpha=0.010529569628032455, model__reg_lambda=4.263117766092559, model__subsample=0.9507533355933205; total time=  22.3s\n",
      "[CV] END model__colsample_bytree=0.8157368014626688, model__gamma=0.07244337608549148, model__learning_rate=0.033682385023468715, model__max_depth=4, model__min_child_weight=1, model__n_estimators=5452, model__reg_alpha=0.032791185450045536, model__reg_lambda=3.3529530362302205, model__subsample=0.7846470576181419; total time=  22.5s\n",
      "[CV] END model__colsample_bytree=0.8157368014626688, model__gamma=0.07244337608549148, model__learning_rate=0.033682385023468715, model__max_depth=4, model__min_child_weight=1, model__n_estimators=5452, model__reg_alpha=0.032791185450045536, model__reg_lambda=3.3529530362302205, model__subsample=0.7846470576181419; total time=  23.1s\n",
      "[CV] END model__colsample_bytree=0.8157368014626688, model__gamma=0.07244337608549148, model__learning_rate=0.033682385023468715, model__max_depth=4, model__min_child_weight=1, model__n_estimators=5452, model__reg_alpha=0.032791185450045536, model__reg_lambda=3.3529530362302205, model__subsample=0.7846470576181419; total time=  22.7s\n",
      "[CV] END model__colsample_bytree=0.9634215208304541, model__gamma=0.009206610091483986, model__learning_rate=0.010175955363790488, model__max_depth=4, model__min_child_weight=3, model__n_estimators=5671, model__reg_alpha=0.011606882056887419, model__reg_lambda=4.526587183775228, model__subsample=0.891109399501307; total time=  23.7s\n",
      "[CV] END model__colsample_bytree=0.9634215208304541, model__gamma=0.009206610091483986, model__learning_rate=0.010175955363790488, model__max_depth=4, model__min_child_weight=3, model__n_estimators=5671, model__reg_alpha=0.011606882056887419, model__reg_lambda=4.526587183775228, model__subsample=0.891109399501307; total time=  24.2s\n",
      "[CV] END model__colsample_bytree=0.9634215208304541, model__gamma=0.009206610091483986, model__learning_rate=0.010175955363790488, model__max_depth=4, model__min_child_weight=3, model__n_estimators=5671, model__reg_alpha=0.011606882056887419, model__reg_lambda=4.526587183775228, model__subsample=0.891109399501307; total time=  25.1s\n",
      "[CV] END model__colsample_bytree=0.8314602295357317, model__gamma=0.01664502056204192, model__learning_rate=0.011434398013543933, model__max_depth=8, model__min_child_weight=3, model__n_estimators=5991, model__reg_alpha=0.009682636678035997, model__reg_lambda=2.352276990486875, model__subsample=0.9154662315236265; total time=  40.7s\n",
      "[CV] END model__colsample_bytree=0.8314602295357317, model__gamma=0.01664502056204192, model__learning_rate=0.011434398013543933, model__max_depth=8, model__min_child_weight=3, model__n_estimators=5991, model__reg_alpha=0.009682636678035997, model__reg_lambda=2.352276990486875, model__subsample=0.9154662315236265; total time= 1.3min\n",
      "[CV] END model__colsample_bytree=0.8314602295357317, model__gamma=0.01664502056204192, model__learning_rate=0.011434398013543933, model__max_depth=8, model__min_child_weight=3, model__n_estimators=5991, model__reg_alpha=0.009682636678035997, model__reg_lambda=2.352276990486875, model__subsample=0.9154662315236265; total time=   7.3s\n",
      "[CV] END model__colsample_bytree=0.9283573611334908, model__gamma=0.09036076200388386, model__learning_rate=0.011581113828861992, model__max_depth=5, model__min_child_weight=7, model__n_estimators=4794, model__reg_alpha=0.0014710026802320965, model__reg_lambda=2.729012727505484, model__subsample=0.8504748255099506; total time=  22.7s\n",
      "[CV] END model__colsample_bytree=0.9283573611334908, model__gamma=0.09036076200388386, model__learning_rate=0.011581113828861992, model__max_depth=5, model__min_child_weight=7, model__n_estimators=4794, model__reg_alpha=0.0014710026802320965, model__reg_lambda=2.729012727505484, model__subsample=0.8504748255099506; total time=  22.4s\n",
      "[CV] END model__colsample_bytree=0.9283573611334908, model__gamma=0.09036076200388386, model__learning_rate=0.011581113828861992, model__max_depth=5, model__min_child_weight=7, model__n_estimators=4794, model__reg_alpha=0.0014710026802320965, model__reg_lambda=2.729012727505484, model__subsample=0.8504748255099506; total time=  22.9s\n",
      "[CV] END model__colsample_bytree=0.9003942653287514, model__gamma=0.2508813158488018, model__learning_rate=0.030263025179921348, model__max_depth=5, model__min_child_weight=1, model__n_estimators=4824, model__reg_alpha=0.32767423281870794, model__reg_lambda=1.3337102208341411, model__subsample=0.7578365781595681; total time=  22.8s\n",
      "[CV] END model__colsample_bytree=0.9003942653287514, model__gamma=0.2508813158488018, model__learning_rate=0.030263025179921348, model__max_depth=5, model__min_child_weight=1, model__n_estimators=4824, model__reg_alpha=0.32767423281870794, model__reg_lambda=1.3337102208341411, model__subsample=0.7578365781595681; total time=  23.3s\n",
      "[CV] END model__colsample_bytree=0.9003942653287514, model__gamma=0.2508813158488018, model__learning_rate=0.030263025179921348, model__max_depth=5, model__min_child_weight=1, model__n_estimators=4824, model__reg_alpha=0.32767423281870794, model__reg_lambda=1.3337102208341411, model__subsample=0.7578365781595681; total time=  22.3s\n",
      "[CV] END model__colsample_bytree=0.8063807479269958, model__gamma=0.16193353244361483, model__learning_rate=0.012661127226378053, model__max_depth=8, model__min_child_weight=5, model__n_estimators=3886, model__reg_alpha=0.055451877056014835, model__reg_lambda=3.6484510707955695, model__subsample=0.9582250601844194; total time=  26.0s\n",
      "[CV] END model__colsample_bytree=0.8063807479269958, model__gamma=0.16193353244361483, model__learning_rate=0.012661127226378053, model__max_depth=8, model__min_child_weight=5, model__n_estimators=3886, model__reg_alpha=0.055451877056014835, model__reg_lambda=3.6484510707955695, model__subsample=0.9582250601844194; total time=  25.4s\n",
      "[CV] END model__colsample_bytree=0.8063807479269958, model__gamma=0.16193353244361483, model__learning_rate=0.012661127226378053, model__max_depth=8, model__min_child_weight=5, model__n_estimators=3886, model__reg_alpha=0.055451877056014835, model__reg_lambda=3.6484510707955695, model__subsample=0.9582250601844194; total time=  25.4s\n",
      "[CV] END model__colsample_bytree=0.7616598106090204, model__gamma=0.17720149140220662, model__learning_rate=0.02592462448117478, model__max_depth=7, model__min_child_weight=6, model__n_estimators=4986, model__reg_alpha=0.02786127352276954, model__reg_lambda=1.1938715263296777, model__subsample=0.9001543612799473; total time=  29.0s\n",
      "[CV] END model__colsample_bytree=0.7616598106090204, model__gamma=0.17720149140220662, model__learning_rate=0.02592462448117478, model__max_depth=7, model__min_child_weight=6, model__n_estimators=4986, model__reg_alpha=0.02786127352276954, model__reg_lambda=1.1938715263296777, model__subsample=0.9001543612799473; total time=  29.5s\n",
      "[CV] END model__colsample_bytree=0.7616598106090204, model__gamma=0.17720149140220662, model__learning_rate=0.02592462448117478, model__max_depth=7, model__min_child_weight=6, model__n_estimators=4986, model__reg_alpha=0.02786127352276954, model__reg_lambda=1.1938715263296777, model__subsample=0.9001543612799473; total time=  30.1s\n",
      "[CV] END model__colsample_bytree=0.7649374064775835, model__gamma=0.006577722673834799, model__learning_rate=0.02012189171919205, model__max_depth=8, model__min_child_weight=2, model__n_estimators=2743, model__reg_alpha=0.05181065414833563, model__reg_lambda=2.753872728386209, model__subsample=0.9203182335518343; total time=  19.5s\n",
      "[CV] END model__colsample_bytree=0.7649374064775835, model__gamma=0.006577722673834799, model__learning_rate=0.02012189171919205, model__max_depth=8, model__min_child_weight=2, model__n_estimators=2743, model__reg_alpha=0.05181065414833563, model__reg_lambda=2.753872728386209, model__subsample=0.9203182335518343; total time=  18.8s\n",
      "[CV] END model__colsample_bytree=0.7649374064775835, model__gamma=0.006577722673834799, model__learning_rate=0.02012189171919205, model__max_depth=8, model__min_child_weight=2, model__n_estimators=2743, model__reg_alpha=0.05181065414833563, model__reg_lambda=2.753872728386209, model__subsample=0.9203182335518343; total time=  19.6s\n",
      "[CV] END model__colsample_bytree=0.9387498447251393, model__gamma=0.06974330331755169, model__learning_rate=0.029924446852923923, model__max_depth=7, model__min_child_weight=9, model__n_estimators=2714, model__reg_alpha=0.027110946042069834, model__reg_lambda=0.6051476150524343, model__subsample=0.845169093878122; total time=  15.8s\n",
      "[CV] END model__colsample_bytree=0.9387498447251393, model__gamma=0.06974330331755169, model__learning_rate=0.029924446852923923, model__max_depth=7, model__min_child_weight=9, model__n_estimators=2714, model__reg_alpha=0.027110946042069834, model__reg_lambda=0.6051476150524343, model__subsample=0.845169093878122; total time=  16.0s\n",
      "[CV] END model__colsample_bytree=0.9387498447251393, model__gamma=0.06974330331755169, model__learning_rate=0.029924446852923923, model__max_depth=7, model__min_child_weight=9, model__n_estimators=2714, model__reg_alpha=0.027110946042069834, model__reg_lambda=0.6051476150524343, model__subsample=0.845169093878122; total time=  17.2s\n",
      "[CV] END model__colsample_bytree=0.8178757198368289, model__gamma=0.09703353858572143, model__learning_rate=0.04825287945758885, model__max_depth=8, model__min_child_weight=5, model__n_estimators=5675, model__reg_alpha=0.03829158357414171, model__reg_lambda=4.919656725608104, model__subsample=0.718669596872474; total time=  24.6s\n",
      "[CV] END model__colsample_bytree=0.8178757198368289, model__gamma=0.09703353858572143, model__learning_rate=0.04825287945758885, model__max_depth=8, model__min_child_weight=5, model__n_estimators=5675, model__reg_alpha=0.03829158357414171, model__reg_lambda=4.919656725608104, model__subsample=0.718669596872474; total time=  24.9s\n",
      "[CV] END model__colsample_bytree=0.8178757198368289, model__gamma=0.09703353858572143, model__learning_rate=0.04825287945758885, model__max_depth=8, model__min_child_weight=5, model__n_estimators=5675, model__reg_alpha=0.03829158357414171, model__reg_lambda=4.919656725608104, model__subsample=0.718669596872474; total time=  24.6s\n",
      "[CV] END model__colsample_bytree=0.8528863311566456, model__gamma=0.25181402406261805, model__learning_rate=0.023207571781420893, model__max_depth=4, model__min_child_weight=1, model__n_estimators=4986, model__reg_alpha=0.9716148079839165, model__reg_lambda=2.4882560013230606, model__subsample=0.8028079355482818; total time=  56.9s\n",
      "[CV] END model__colsample_bytree=0.8528863311566456, model__gamma=0.25181402406261805, model__learning_rate=0.023207571781420893, model__max_depth=4, model__min_child_weight=1, model__n_estimators=4986, model__reg_alpha=0.9716148079839165, model__reg_lambda=2.4882560013230606, model__subsample=0.8028079355482818; total time= -14.1s\n",
      "[CV] END model__colsample_bytree=0.8528863311566456, model__gamma=0.25181402406261805, model__learning_rate=0.023207571781420893, model__max_depth=4, model__min_child_weight=1, model__n_estimators=4986, model__reg_alpha=0.9716148079839165, model__reg_lambda=2.4882560013230606, model__subsample=0.8028079355482818; total time=  21.0s\n",
      "[CV] END model__colsample_bytree=0.9104925237417452, model__gamma=0.18501033231410166, model__learning_rate=0.04678474060082812, model__max_depth=9, model__min_child_weight=8, model__n_estimators=2167, model__reg_alpha=0.010162023488201286, model__reg_lambda=0.739009307589639, model__subsample=0.8816498116130377; total time=  14.7s\n",
      "[CV] END model__colsample_bytree=0.9104925237417452, model__gamma=0.18501033231410166, model__learning_rate=0.04678474060082812, model__max_depth=9, model__min_child_weight=8, model__n_estimators=2167, model__reg_alpha=0.010162023488201286, model__reg_lambda=0.739009307589639, model__subsample=0.8816498116130377; total time=  14.0s\n",
      "[CV] END model__colsample_bytree=0.9104925237417452, model__gamma=0.18501033231410166, model__learning_rate=0.04678474060082812, model__max_depth=9, model__min_child_weight=8, model__n_estimators=2167, model__reg_alpha=0.010162023488201286, model__reg_lambda=0.739009307589639, model__subsample=0.8816498116130377; total time=  50.7s\n",
      "[CV] END model__colsample_bytree=0.8039732030921689, model__gamma=0.0037003141828542896, model__learning_rate=0.015342023108881015, model__max_depth=8, model__min_child_weight=9, model__n_estimators=5275, model__reg_alpha=0.02289404544087836, model__reg_lambda=0.5386243158266764, model__subsample=0.77345304863368; total time=  -2.2s\n",
      "[CV] END model__colsample_bytree=0.8039732030921689, model__gamma=0.0037003141828542896, model__learning_rate=0.015342023108881015, model__max_depth=8, model__min_child_weight=9, model__n_estimators=5275, model__reg_alpha=0.02289404544087836, model__reg_lambda=0.5386243158266764, model__subsample=0.77345304863368; total time=  35.0s\n",
      "[CV] END model__colsample_bytree=0.8039732030921689, model__gamma=0.0037003141828542896, model__learning_rate=0.015342023108881015, model__max_depth=8, model__min_child_weight=9, model__n_estimators=5275, model__reg_alpha=0.02289404544087836, model__reg_lambda=0.5386243158266764, model__subsample=0.77345304863368; total time=  34.8s\n",
      "[CV] END model__colsample_bytree=0.8105779154742723, model__gamma=0.031128902695284136, model__learning_rate=0.015466472173899841, model__max_depth=8, model__min_child_weight=3, model__n_estimators=4824, model__reg_alpha=0.6631251223975759, model__reg_lambda=1.3049956441431723, model__subsample=0.8612342031356939; total time=  32.4s\n",
      "[CV] END model__colsample_bytree=0.8105779154742723, model__gamma=0.031128902695284136, model__learning_rate=0.015466472173899841, model__max_depth=8, model__min_child_weight=3, model__n_estimators=4824, model__reg_alpha=0.6631251223975759, model__reg_lambda=1.3049956441431723, model__subsample=0.8612342031356939; total time=  33.8s\n",
      "[CV] END model__colsample_bytree=0.8105779154742723, model__gamma=0.031128902695284136, model__learning_rate=0.015466472173899841, model__max_depth=8, model__min_child_weight=3, model__n_estimators=4824, model__reg_alpha=0.6631251223975759, model__reg_lambda=1.3049956441431723, model__subsample=0.8612342031356939; total time=  33.7s\n",
      "[CV] END model__colsample_bytree=0.971583855067757, model__gamma=0.0016031636977016535, model__learning_rate=0.04099775564392113, model__max_depth=6, model__min_child_weight=5, model__n_estimators=2515, model__reg_alpha=0.013470698026386344, model__reg_lambda=3.232386878415024, model__subsample=0.9954719965952196; total time=  12.9s\n",
      "[CV] END model__colsample_bytree=0.971583855067757, model__gamma=0.0016031636977016535, model__learning_rate=0.04099775564392113, model__max_depth=6, model__min_child_weight=5, model__n_estimators=2515, model__reg_alpha=0.013470698026386344, model__reg_lambda=3.232386878415024, model__subsample=0.9954719965952196; total time=  13.3s\n",
      "[CV] END model__colsample_bytree=0.971583855067757, model__gamma=0.0016031636977016535, model__learning_rate=0.04099775564392113, model__max_depth=6, model__min_child_weight=5, model__n_estimators=2515, model__reg_alpha=0.013470698026386344, model__reg_lambda=3.232386878415024, model__subsample=0.9954719965952196; total time=  13.3s\n",
      "[CV] END model__colsample_bytree=0.7385806259095272, model__gamma=0.029630148159110872, model__learning_rate=0.01845998244604005, model__max_depth=9, model__min_child_weight=1, model__n_estimators=5500, model__reg_alpha=0.025472963856670944, model__reg_lambda=1.2995395660975044, model__subsample=0.7717014767521417; total time=  37.9s\n",
      "[CV] END model__colsample_bytree=0.7385806259095272, model__gamma=0.029630148159110872, model__learning_rate=0.01845998244604005, model__max_depth=9, model__min_child_weight=1, model__n_estimators=5500, model__reg_alpha=0.025472963856670944, model__reg_lambda=1.2995395660975044, model__subsample=0.7717014767521417; total time=  34.2s\n",
      "[CV] END model__colsample_bytree=0.7385806259095272, model__gamma=0.029630148159110872, model__learning_rate=0.01845998244604005, model__max_depth=9, model__min_child_weight=1, model__n_estimators=5500, model__reg_alpha=0.025472963856670944, model__reg_lambda=1.2995395660975044, model__subsample=0.7717014767521417; total time=  35.1s\n",
      "[CV] END model__colsample_bytree=0.7142178745003182, model__gamma=0.13868266466608495, model__learning_rate=0.036999292696249755, model__max_depth=8, model__min_child_weight=6, model__n_estimators=2960, model__reg_alpha=0.05694408212169912, model__reg_lambda=2.661281704955055, model__subsample=0.9170043631720335; total time=  20.0s\n",
      "[CV] END model__colsample_bytree=0.7142178745003182, model__gamma=0.13868266466608495, model__learning_rate=0.036999292696249755, model__max_depth=8, model__min_child_weight=6, model__n_estimators=2960, model__reg_alpha=0.05694408212169912, model__reg_lambda=2.661281704955055, model__subsample=0.9170043631720335; total time=  55.7s\n",
      "[CV] END model__colsample_bytree=0.7142178745003182, model__gamma=0.13868266466608495, model__learning_rate=0.036999292696249755, model__max_depth=8, model__min_child_weight=6, model__n_estimators=2960, model__reg_alpha=0.05694408212169912, model__reg_lambda=2.661281704955055, model__subsample=0.9170043631720335; total time= -17.0s\n",
      "[CV] END model__colsample_bytree=0.8009913584222349, model__gamma=0.003955454219576386, model__learning_rate=0.013909788743821412, model__max_depth=4, model__min_child_weight=3, model__n_estimators=2216, model__reg_alpha=0.004184879400270116, model__reg_lambda=3.777379958896224, model__subsample=0.9169775207689302; total time=   9.2s\n",
      "[CV] END model__colsample_bytree=0.8009913584222349, model__gamma=0.003955454219576386, model__learning_rate=0.013909788743821412, model__max_depth=4, model__min_child_weight=3, model__n_estimators=2216, model__reg_alpha=0.004184879400270116, model__reg_lambda=3.777379958896224, model__subsample=0.9169775207689302; total time=   9.4s\n",
      "[CV] END model__colsample_bytree=0.8009913584222349, model__gamma=0.003955454219576386, model__learning_rate=0.013909788743821412, model__max_depth=4, model__min_child_weight=3, model__n_estimators=2216, model__reg_alpha=0.004184879400270116, model__reg_lambda=3.777379958896224, model__subsample=0.9169775207689302; total time=   9.6s\n",
      "[CV] END model__colsample_bytree=0.71180722978054, model__gamma=0.004629502423508547, model__learning_rate=0.010363500417445536, model__max_depth=5, model__min_child_weight=2, model__n_estimators=3665, model__reg_alpha=0.31197117610860076, model__reg_lambda=1.0156574163867624, model__subsample=0.9366078437145456; total time=  17.2s\n",
      "[CV] END model__colsample_bytree=0.71180722978054, model__gamma=0.004629502423508547, model__learning_rate=0.010363500417445536, model__max_depth=5, model__min_child_weight=2, model__n_estimators=3665, model__reg_alpha=0.31197117610860076, model__reg_lambda=1.0156574163867624, model__subsample=0.9366078437145456; total time=  18.1s\n",
      "[CV] END model__colsample_bytree=0.71180722978054, model__gamma=0.004629502423508547, model__learning_rate=0.010363500417445536, model__max_depth=5, model__min_child_weight=2, model__n_estimators=3665, model__reg_alpha=0.31197117610860076, model__reg_lambda=1.0156574163867624, model__subsample=0.9366078437145456; total time=  53.4s\n",
      "[CV] END model__colsample_bytree=0.9886420388280543, model__gamma=0.001655761915921802, model__learning_rate=0.03576489206202893, model__max_depth=4, model__min_child_weight=7, model__n_estimators=4778, model__reg_alpha=0.22594607000759603, model__reg_lambda=2.1793719719732723, model__subsample=0.9328268473990581; total time= -16.1s\n",
      "[CV] END model__colsample_bytree=0.9886420388280543, model__gamma=0.001655761915921802, model__learning_rate=0.03576489206202893, model__max_depth=4, model__min_child_weight=7, model__n_estimators=4778, model__reg_alpha=0.22594607000759603, model__reg_lambda=2.1793719719732723, model__subsample=0.9328268473990581; total time=  20.2s\n",
      "[CV] END model__colsample_bytree=0.9886420388280543, model__gamma=0.001655761915921802, model__learning_rate=0.03576489206202893, model__max_depth=4, model__min_child_weight=7, model__n_estimators=4778, model__reg_alpha=0.22594607000759603, model__reg_lambda=2.1793719719732723, model__subsample=0.9328268473990581; total time=  20.1s\n",
      "[CV] END model__colsample_bytree=0.966046228120884, model__gamma=0.03380936865763111, model__learning_rate=0.04845225957412677, model__max_depth=5, model__min_child_weight=2, model__n_estimators=2858, model__reg_alpha=0.020531693199466853, model__reg_lambda=4.009855280764487, model__subsample=0.7925807031704433; total time=  13.4s\n",
      "[CV] END model__colsample_bytree=0.966046228120884, model__gamma=0.03380936865763111, model__learning_rate=0.04845225957412677, model__max_depth=5, model__min_child_weight=2, model__n_estimators=2858, model__reg_alpha=0.020531693199466853, model__reg_lambda=4.009855280764487, model__subsample=0.7925807031704433; total time=  13.7s\n",
      "[CV] END model__colsample_bytree=0.966046228120884, model__gamma=0.03380936865763111, model__learning_rate=0.04845225957412677, model__max_depth=5, model__min_child_weight=2, model__n_estimators=2858, model__reg_alpha=0.020531693199466853, model__reg_lambda=4.009855280764487, model__subsample=0.7925807031704433; total time=  13.2s\n",
      "[CV] END model__colsample_bytree=0.8408451418398823, model__gamma=0.0873380586478866, model__learning_rate=0.018930910849137447, model__max_depth=5, model__min_child_weight=3, model__n_estimators=3628, model__reg_alpha=0.7056053596739236, model__reg_lambda=0.7015255376194268, model__subsample=0.9741554829313313; total time=  17.0s\n",
      "[CV] END model__colsample_bytree=0.8408451418398823, model__gamma=0.0873380586478866, model__learning_rate=0.018930910849137447, model__max_depth=5, model__min_child_weight=3, model__n_estimators=3628, model__reg_alpha=0.7056053596739236, model__reg_lambda=0.7015255376194268, model__subsample=0.9741554829313313; total time=  16.4s\n",
      "[CV] END model__colsample_bytree=0.8408451418398823, model__gamma=0.0873380586478866, model__learning_rate=0.018930910849137447, model__max_depth=5, model__min_child_weight=3, model__n_estimators=3628, model__reg_alpha=0.7056053596739236, model__reg_lambda=0.7015255376194268, model__subsample=0.9741554829313313; total time=  17.6s\n",
      "[CV] END model__colsample_bytree=0.834310709461284, model__gamma=0.00436217076856953, model__learning_rate=0.020937369694884304, model__max_depth=5, model__min_child_weight=6, model__n_estimators=5800, model__reg_alpha=0.004240258888847536, model__reg_lambda=1.8994153298969185, model__subsample=0.7906911006485564; total time=  27.4s\n",
      "[CV] END model__colsample_bytree=0.834310709461284, model__gamma=0.00436217076856953, model__learning_rate=0.020937369694884304, model__max_depth=5, model__min_child_weight=6, model__n_estimators=5800, model__reg_alpha=0.004240258888847536, model__reg_lambda=1.8994153298969185, model__subsample=0.7906911006485564; total time=  27.3s\n",
      "[CV] END model__colsample_bytree=0.834310709461284, model__gamma=0.00436217076856953, model__learning_rate=0.020937369694884304, model__max_depth=5, model__min_child_weight=6, model__n_estimators=5800, model__reg_alpha=0.004240258888847536, model__reg_lambda=1.8994153298969185, model__subsample=0.7906911006485564; total time=  27.7s\n",
      "[CV] END model__colsample_bytree=0.8478542398770653, model__gamma=0.013796564270553016, model__learning_rate=0.02562913611540325, model__max_depth=6, model__min_child_weight=6, model__n_estimators=2399, model__reg_alpha=0.0035126934685242132, model__reg_lambda=1.1082488457740802, model__subsample=0.9638563710964827; total time=  12.6s\n",
      "[CV] END model__colsample_bytree=0.8478542398770653, model__gamma=0.013796564270553016, model__learning_rate=0.02562913611540325, model__max_depth=6, model__min_child_weight=6, model__n_estimators=2399, model__reg_alpha=0.0035126934685242132, model__reg_lambda=1.1082488457740802, model__subsample=0.9638563710964827; total time=  12.5s\n",
      "[CV] END model__colsample_bytree=0.8478542398770653, model__gamma=0.013796564270553016, model__learning_rate=0.02562913611540325, model__max_depth=6, model__min_child_weight=6, model__n_estimators=2399, model__reg_alpha=0.0035126934685242132, model__reg_lambda=1.1082488457740802, model__subsample=0.9638563710964827; total time=  13.1s\n",
      "[CV] END model__colsample_bytree=0.8289257426483301, model__gamma=0.04504239375791406, model__learning_rate=0.01319612501164947, model__max_depth=5, model__min_child_weight=3, model__n_estimators=5400, model__reg_alpha=0.001245701663652875, model__reg_lambda=1.7688268154899423, model__subsample=0.8469958612502232; total time=  26.2s\n",
      "[CV] END model__colsample_bytree=0.8289257426483301, model__gamma=0.04504239375791406, model__learning_rate=0.01319612501164947, model__max_depth=5, model__min_child_weight=3, model__n_estimators=5400, model__reg_alpha=0.001245701663652875, model__reg_lambda=1.7688268154899423, model__subsample=0.8469958612502232; total time=  26.8s\n",
      "[CV] END model__colsample_bytree=0.8289257426483301, model__gamma=0.04504239375791406, model__learning_rate=0.01319612501164947, model__max_depth=5, model__min_child_weight=3, model__n_estimators=5400, model__reg_alpha=0.001245701663652875, model__reg_lambda=1.7688268154899423, model__subsample=0.8469958612502232; total time= 1.0min\n",
      "[CV] END model__colsample_bytree=0.7947706462422415, model__gamma=0.16409093447121417, model__learning_rate=0.012302440365309456, model__max_depth=5, model__min_child_weight=9, model__n_estimators=3796, model__reg_alpha=0.0277610687836747, model__reg_lambda=2.4364343930363144, model__subsample=0.8401459037261545; total time=  18.3s\n",
      "[CV] END model__colsample_bytree=0.7947706462422415, model__gamma=0.16409093447121417, model__learning_rate=0.012302440365309456, model__max_depth=5, model__min_child_weight=9, model__n_estimators=3796, model__reg_alpha=0.0277610687836747, model__reg_lambda=2.4364343930363144, model__subsample=0.8401459037261545; total time= -16.5s\n",
      "[CV] END model__colsample_bytree=0.7947706462422415, model__gamma=0.16409093447121417, model__learning_rate=0.012302440365309456, model__max_depth=5, model__min_child_weight=9, model__n_estimators=3796, model__reg_alpha=0.0277610687836747, model__reg_lambda=2.4364343930363144, model__subsample=0.8401459037261545; total time=  20.4s\n",
      "[CV] END model__colsample_bytree=0.7403109800457787, model__gamma=0.008601676073014944, model__learning_rate=0.010041852644856138, model__max_depth=7, model__min_child_weight=1, model__n_estimators=3555, model__reg_alpha=0.17570295724989551, model__reg_lambda=0.7646998829137885, model__subsample=0.7542696976233955; total time=  21.6s\n",
      "[CV] END model__colsample_bytree=0.7403109800457787, model__gamma=0.008601676073014944, model__learning_rate=0.010041852644856138, model__max_depth=7, model__min_child_weight=1, model__n_estimators=3555, model__reg_alpha=0.17570295724989551, model__reg_lambda=0.7646998829137885, model__subsample=0.7542696976233955; total time=  22.7s\n",
      "[CV] END model__colsample_bytree=0.7403109800457787, model__gamma=0.008601676073014944, model__learning_rate=0.010041852644856138, model__max_depth=7, model__min_child_weight=1, model__n_estimators=3555, model__reg_alpha=0.17570295724989551, model__reg_lambda=0.7646998829137885, model__subsample=0.7542696976233955; total time=  22.3s\n",
      "[CV] END model__colsample_bytree=0.7988861552224218, model__gamma=0.01585704231118209, model__learning_rate=0.027048397512030028, model__max_depth=9, model__min_child_weight=8, model__n_estimators=1864, model__reg_alpha=0.0015382399542566022, model__reg_lambda=0.7026015381801298, model__subsample=0.7340372730774166; total time=  13.5s\n",
      "[CV] END model__colsample_bytree=0.7988861552224218, model__gamma=0.01585704231118209, model__learning_rate=0.027048397512030028, model__max_depth=9, model__min_child_weight=8, model__n_estimators=1864, model__reg_alpha=0.0015382399542566022, model__reg_lambda=0.7026015381801298, model__subsample=0.7340372730774166; total time=  13.5s\n",
      "[CV] END model__colsample_bytree=0.7988861552224218, model__gamma=0.01585704231118209, model__learning_rate=0.027048397512030028, model__max_depth=9, model__min_child_weight=8, model__n_estimators=1864, model__reg_alpha=0.0015382399542566022, model__reg_lambda=0.7026015381801298, model__subsample=0.7340372730774166; total time=  13.0s\n",
      "[CV] END model__colsample_bytree=0.894419632974269, model__gamma=0.1235327013719479, model__learning_rate=0.03341636922778073, model__max_depth=7, model__min_child_weight=2, model__n_estimators=3406, model__reg_alpha=0.005338404905313886, model__reg_lambda=0.9294226141988411, model__subsample=0.8008295618908104; total time=  20.3s\n",
      "[CV] END model__colsample_bytree=0.894419632974269, model__gamma=0.1235327013719479, model__learning_rate=0.03341636922778073, model__max_depth=7, model__min_child_weight=2, model__n_estimators=3406, model__reg_alpha=0.005338404905313886, model__reg_lambda=0.9294226141988411, model__subsample=0.8008295618908104; total time=  20.0s\n",
      "[CV] END model__colsample_bytree=0.894419632974269, model__gamma=0.1235327013719479, model__learning_rate=0.03341636922778073, model__max_depth=7, model__min_child_weight=2, model__n_estimators=3406, model__reg_alpha=0.005338404905313886, model__reg_lambda=0.9294226141988411, model__subsample=0.8008295618908104; total time=  56.7s\n",
      "[CV] END model__colsample_bytree=0.7050292056340951, model__gamma=0.006278113266723094, model__learning_rate=0.014053866195214126, model__max_depth=5, model__min_child_weight=9, model__n_estimators=5096, model__reg_alpha=0.06036390968620547, model__reg_lambda=2.388208960549644, model__subsample=0.9275604265993214; total time= -11.5s\n",
      "[CV] END model__colsample_bytree=0.7050292056340951, model__gamma=0.006278113266723094, model__learning_rate=0.014053866195214126, model__max_depth=5, model__min_child_weight=9, model__n_estimators=5096, model__reg_alpha=0.06036390968620547, model__reg_lambda=2.388208960549644, model__subsample=0.9275604265993214; total time=  23.8s\n",
      "[CV] END model__colsample_bytree=0.7050292056340951, model__gamma=0.006278113266723094, model__learning_rate=0.014053866195214126, model__max_depth=5, model__min_child_weight=9, model__n_estimators=5096, model__reg_alpha=0.06036390968620547, model__reg_lambda=2.388208960549644, model__subsample=0.9275604265993214; total time=  25.0s\n",
      "[CV] END model__colsample_bytree=0.8361952834110299, model__gamma=0.0016417691589996541, model__learning_rate=0.023736755800088726, model__max_depth=5, model__min_child_weight=8, model__n_estimators=5507, model__reg_alpha=0.01972325722450182, model__reg_lambda=0.6707339776461749, model__subsample=0.7745607467876928; total time=  26.3s\n",
      "[CV] END model__colsample_bytree=0.8361952834110299, model__gamma=0.0016417691589996541, model__learning_rate=0.023736755800088726, model__max_depth=5, model__min_child_weight=8, model__n_estimators=5507, model__reg_alpha=0.01972325722450182, model__reg_lambda=0.6707339776461749, model__subsample=0.7745607467876928; total time=  26.2s\n",
      "[CV] END model__colsample_bytree=0.8361952834110299, model__gamma=0.0016417691589996541, model__learning_rate=0.023736755800088726, model__max_depth=5, model__min_child_weight=8, model__n_estimators=5507, model__reg_alpha=0.01972325722450182, model__reg_lambda=0.6707339776461749, model__subsample=0.7745607467876928; total time=  25.9s\n",
      "[CV] END model__colsample_bytree=0.7967832566080801, model__gamma=0.03981212209569451, model__learning_rate=0.025058606368330228, model__max_depth=6, model__min_child_weight=6, model__n_estimators=5312, model__reg_alpha=0.6325217608524988, model__reg_lambda=0.5087499358482119, model__subsample=0.7585819977103293; total time=  28.5s\n",
      "[CV] END model__colsample_bytree=0.7967832566080801, model__gamma=0.03981212209569451, model__learning_rate=0.025058606368330228, model__max_depth=6, model__min_child_weight=6, model__n_estimators=5312, model__reg_alpha=0.6325217608524988, model__reg_lambda=0.5087499358482119, model__subsample=0.7585819977103293; total time=  27.8s\n",
      "[CV] END model__colsample_bytree=0.7967832566080801, model__gamma=0.03981212209569451, model__learning_rate=0.025058606368330228, model__max_depth=6, model__min_child_weight=6, model__n_estimators=5312, model__reg_alpha=0.6325217608524988, model__reg_lambda=0.5087499358482119, model__subsample=0.7585819977103293; total time=  28.3s\n",
      "[CV] END model__colsample_bytree=0.7974299216176928, model__gamma=0.01615712280212839, model__learning_rate=0.0393274623654919, model__max_depth=9, model__min_child_weight=8, model__n_estimators=4370, model__reg_alpha=0.33646671331902095, model__reg_lambda=0.5631258737922048, model__subsample=0.7045694951280926; total time=  26.3s\n",
      "[CV] END model__colsample_bytree=0.7974299216176928, model__gamma=0.01615712280212839, model__learning_rate=0.0393274623654919, model__max_depth=9, model__min_child_weight=8, model__n_estimators=4370, model__reg_alpha=0.33646671331902095, model__reg_lambda=0.5631258737922048, model__subsample=0.7045694951280926; total time=  26.9s\n",
      "[CV] END model__colsample_bytree=0.7974299216176928, model__gamma=0.01615712280212839, model__learning_rate=0.0393274623654919, model__max_depth=9, model__min_child_weight=8, model__n_estimators=4370, model__reg_alpha=0.33646671331902095, model__reg_lambda=0.5631258737922048, model__subsample=0.7045694951280926; total time=  28.8s\n",
      "[CV] END model__colsample_bytree=0.8975501763177245, model__gamma=0.29534041552011525, model__learning_rate=0.04233540116021976, model__max_depth=7, model__min_child_weight=4, model__n_estimators=2145, model__reg_alpha=0.8417855934402041, model__reg_lambda=1.5478140465223003, model__subsample=0.9058912446132618; total time=  48.9s\n",
      "[CV] END model__colsample_bytree=0.8975501763177245, model__gamma=0.29534041552011525, model__learning_rate=0.04233540116021976, model__max_depth=7, model__min_child_weight=4, model__n_estimators=2145, model__reg_alpha=0.8417855934402041, model__reg_lambda=1.5478140465223003, model__subsample=0.9058912446132618; total time= -22.9s\n",
      "[CV] END model__colsample_bytree=0.8975501763177245, model__gamma=0.29534041552011525, model__learning_rate=0.04233540116021976, model__max_depth=7, model__min_child_weight=4, model__n_estimators=2145, model__reg_alpha=0.8417855934402041, model__reg_lambda=1.5478140465223003, model__subsample=0.9058912446132618; total time=  13.3s\n",
      "[CV] END model__colsample_bytree=0.9381042231761696, model__gamma=0.060215150506040024, model__learning_rate=0.023657814757838215, model__max_depth=5, model__min_child_weight=3, model__n_estimators=2641, model__reg_alpha=0.13578676335889983, model__reg_lambda=0.791547409055815, model__subsample=0.9102153847232352; total time=  12.3s\n",
      "[CV] END model__colsample_bytree=0.9381042231761696, model__gamma=0.060215150506040024, model__learning_rate=0.023657814757838215, model__max_depth=5, model__min_child_weight=3, model__n_estimators=2641, model__reg_alpha=0.13578676335889983, model__reg_lambda=0.791547409055815, model__subsample=0.9102153847232352; total time=  12.9s\n",
      "[CV] END model__colsample_bytree=0.9381042231761696, model__gamma=0.060215150506040024, model__learning_rate=0.023657814757838215, model__max_depth=5, model__min_child_weight=3, model__n_estimators=2641, model__reg_alpha=0.13578676335889983, model__reg_lambda=0.791547409055815, model__subsample=0.9102153847232352; total time=  12.5s\n",
      "[CV] END model__colsample_bytree=0.845612312915214, model__gamma=0.0564800018017812, model__learning_rate=0.034407636499445976, model__max_depth=9, model__min_child_weight=5, model__n_estimators=3417, model__reg_alpha=0.002904612124179546, model__reg_lambda=1.5139450285623646, model__subsample=0.846441965499049; total time=  22.5s\n",
      "[CV] END model__colsample_bytree=0.845612312915214, model__gamma=0.0564800018017812, model__learning_rate=0.034407636499445976, model__max_depth=9, model__min_child_weight=5, model__n_estimators=3417, model__reg_alpha=0.002904612124179546, model__reg_lambda=1.5139450285623646, model__subsample=0.846441965499049; total time=  22.5s\n",
      "[CV] END model__colsample_bytree=0.845612312915214, model__gamma=0.0564800018017812, model__learning_rate=0.034407636499445976, model__max_depth=9, model__min_child_weight=5, model__n_estimators=3417, model__reg_alpha=0.002904612124179546, model__reg_lambda=1.5139450285623646, model__subsample=0.846441965499049; total time=  21.4s\n",
      "[CV] END model__colsample_bytree=0.7130592325965704, model__gamma=0.0068203963285450595, model__learning_rate=0.012415145890603323, model__max_depth=5, model__min_child_weight=2, model__n_estimators=3560, model__reg_alpha=0.1131656555697091, model__reg_lambda=0.612122179026353, model__subsample=0.735533181570792; total time=  17.3s\n",
      "[CV] END model__colsample_bytree=0.7130592325965704, model__gamma=0.0068203963285450595, model__learning_rate=0.012415145890603323, model__max_depth=5, model__min_child_weight=2, model__n_estimators=3560, model__reg_alpha=0.1131656555697091, model__reg_lambda=0.612122179026353, model__subsample=0.735533181570792; total time=  17.7s\n",
      "[CV] END model__colsample_bytree=0.7130592325965704, model__gamma=0.0068203963285450595, model__learning_rate=0.012415145890603323, model__max_depth=5, model__min_child_weight=2, model__n_estimators=3560, model__reg_alpha=0.1131656555697091, model__reg_lambda=0.612122179026353, model__subsample=0.735533181570792; total time=  17.0s\n",
      "[CV] END model__colsample_bytree=0.7006771642532922, model__gamma=0.0019456750096237079, model__learning_rate=0.021415537625655907, model__max_depth=9, model__min_child_weight=7, model__n_estimators=4990, model__reg_alpha=0.011132810063011915, model__reg_lambda=4.2510787339760485, model__subsample=0.9413748995825929; total time=  36.3s\n",
      "[CV] END model__colsample_bytree=0.7006771642532922, model__gamma=0.0019456750096237079, model__learning_rate=0.021415537625655907, model__max_depth=9, model__min_child_weight=7, model__n_estimators=4990, model__reg_alpha=0.011132810063011915, model__reg_lambda=4.2510787339760485, model__subsample=0.9413748995825929; total time=  35.7s\n",
      "[CV] END model__colsample_bytree=0.7006771642532922, model__gamma=0.0019456750096237079, model__learning_rate=0.021415537625655907, model__max_depth=9, model__min_child_weight=7, model__n_estimators=4990, model__reg_alpha=0.011132810063011915, model__reg_lambda=4.2510787339760485, model__subsample=0.9413748995825929; total time=  36.2s\n",
      "[CV] END model__colsample_bytree=0.9876034534790267, model__gamma=0.0020318857951555063, model__learning_rate=0.03242309302345387, model__max_depth=4, model__min_child_weight=2, model__n_estimators=4135, model__reg_alpha=0.013730481106870187, model__reg_lambda=4.221039613470107, model__subsample=0.9054714473236865; total time=  16.5s\n",
      "[CV] END model__colsample_bytree=0.9876034534790267, model__gamma=0.0020318857951555063, model__learning_rate=0.03242309302345387, model__max_depth=4, model__min_child_weight=2, model__n_estimators=4135, model__reg_alpha=0.013730481106870187, model__reg_lambda=4.221039613470107, model__subsample=0.9054714473236865; total time=  16.8s\n",
      "[CV] END model__colsample_bytree=0.9876034534790267, model__gamma=0.0020318857951555063, model__learning_rate=0.03242309302345387, model__max_depth=4, model__min_child_weight=2, model__n_estimators=4135, model__reg_alpha=0.013730481106870187, model__reg_lambda=4.221039613470107, model__subsample=0.9054714473236865; total time=  17.8s\n",
      "[CV] END model__colsample_bytree=0.7121114923150021, model__gamma=0.08627920477667567, model__learning_rate=0.03790581559411604, model__max_depth=8, model__min_child_weight=3, model__n_estimators=4398, model__reg_alpha=0.09899007700402486, model__reg_lambda=1.6673832296746873, model__subsample=0.7955758386885214; total time=  21.8s\n",
      "[CV] END model__colsample_bytree=0.7121114923150021, model__gamma=0.08627920477667567, model__learning_rate=0.03790581559411604, model__max_depth=8, model__min_child_weight=3, model__n_estimators=4398, model__reg_alpha=0.09899007700402486, model__reg_lambda=1.6673832296746873, model__subsample=0.7955758386885214; total time=  21.3s\n",
      "[CV] END model__colsample_bytree=0.7121114923150021, model__gamma=0.08627920477667567, model__learning_rate=0.03790581559411604, model__max_depth=8, model__min_child_weight=3, model__n_estimators=4398, model__reg_alpha=0.09899007700402486, model__reg_lambda=1.6673832296746873, model__subsample=0.7955758386885214; total time=  57.4s\n",
      "[CV] END model__colsample_bytree=0.957145855337446, model__gamma=0.0093785158540257, model__learning_rate=0.03722018382772382, model__max_depth=9, model__min_child_weight=3, model__n_estimators=3690, model__reg_alpha=0.05400808925649914, model__reg_lambda=1.133267557315439, model__subsample=0.8048952902644613; total time= -14.9s\n",
      "[CV] END model__colsample_bytree=0.957145855337446, model__gamma=0.0093785158540257, model__learning_rate=0.03722018382772382, model__max_depth=9, model__min_child_weight=3, model__n_estimators=3690, model__reg_alpha=0.05400808925649914, model__reg_lambda=1.133267557315439, model__subsample=0.8048952902644613; total time=  20.6s\n",
      "[CV] END model__colsample_bytree=0.957145855337446, model__gamma=0.0093785158540257, model__learning_rate=0.03722018382772382, model__max_depth=9, model__min_child_weight=3, model__n_estimators=3690, model__reg_alpha=0.05400808925649914, model__reg_lambda=1.133267557315439, model__subsample=0.8048952902644613; total time=  20.9s\n",
      "[CV] END model__colsample_bytree=0.8462210143759171, model__gamma=0.0014622566976919263, model__learning_rate=0.014457123083549623, model__max_depth=6, model__min_child_weight=6, model__n_estimators=4126, model__reg_alpha=0.0764054185635115, model__reg_lambda=1.0811242752842407, model__subsample=0.7356505382082793; total time=  21.7s\n",
      "[CV] END model__colsample_bytree=0.8462210143759171, model__gamma=0.0014622566976919263, model__learning_rate=0.014457123083549623, model__max_depth=6, model__min_child_weight=6, model__n_estimators=4126, model__reg_alpha=0.0764054185635115, model__reg_lambda=1.0811242752842407, model__subsample=0.7356505382082793; total time=  22.2s\n",
      "[CV] END model__colsample_bytree=0.8462210143759171, model__gamma=0.0014622566976919263, model__learning_rate=0.014457123083549623, model__max_depth=6, model__min_child_weight=6, model__n_estimators=4126, model__reg_alpha=0.0764054185635115, model__reg_lambda=1.0811242752842407, model__subsample=0.7356505382082793; total time=  22.7s\n",
      "[CV] END model__colsample_bytree=0.929167686717603, model__gamma=0.03435543115087101, model__learning_rate=0.023597897031567065, model__max_depth=6, model__min_child_weight=4, model__n_estimators=3704, model__reg_alpha=0.002851180021336776, model__reg_lambda=1.0249249658923494, model__subsample=0.7648732891856616; total time=  55.9s\n",
      "[CV] END model__colsample_bytree=0.929167686717603, model__gamma=0.03435543115087101, model__learning_rate=0.023597897031567065, model__max_depth=6, model__min_child_weight=4, model__n_estimators=3704, model__reg_alpha=0.002851180021336776, model__reg_lambda=1.0249249658923494, model__subsample=0.7648732891856616; total time= -15.7s\n",
      "[CV] END model__colsample_bytree=0.929167686717603, model__gamma=0.03435543115087101, model__learning_rate=0.023597897031567065, model__max_depth=6, model__min_child_weight=4, model__n_estimators=3704, model__reg_alpha=0.002851180021336776, model__reg_lambda=1.0249249658923494, model__subsample=0.7648732891856616; total time=  19.8s\n",
      "[CV] END model__colsample_bytree=0.9127183433709641, model__gamma=0.0012107762872143424, model__learning_rate=0.02502279370632086, model__max_depth=5, model__min_child_weight=5, model__n_estimators=3365, model__reg_alpha=0.010622952661232919, model__reg_lambda=3.313044803236175, model__subsample=0.7281739075165389; total time=  16.1s\n",
      "[CV] END model__colsample_bytree=0.9127183433709641, model__gamma=0.0012107762872143424, model__learning_rate=0.02502279370632086, model__max_depth=5, model__min_child_weight=5, model__n_estimators=3365, model__reg_alpha=0.010622952661232919, model__reg_lambda=3.313044803236175, model__subsample=0.7281739075165389; total time=  16.0s\n",
      "[CV] END model__colsample_bytree=0.9127183433709641, model__gamma=0.0012107762872143424, model__learning_rate=0.02502279370632086, model__max_depth=5, model__min_child_weight=5, model__n_estimators=3365, model__reg_alpha=0.010622952661232919, model__reg_lambda=3.313044803236175, model__subsample=0.7281739075165389; total time=  16.4s\n",
      "[CV] END model__colsample_bytree=0.9467060642102012, model__gamma=0.0020692114608738678, model__learning_rate=0.01895360821543239, model__max_depth=8, model__min_child_weight=8, model__n_estimators=4728, model__reg_alpha=0.004872526229872035, model__reg_lambda=2.6376828325522426, model__subsample=0.904967766872182; total time=  31.1s\n",
      "[CV] END model__colsample_bytree=0.9467060642102012, model__gamma=0.0020692114608738678, model__learning_rate=0.01895360821543239, model__max_depth=8, model__min_child_weight=8, model__n_estimators=4728, model__reg_alpha=0.004872526229872035, model__reg_lambda=2.6376828325522426, model__subsample=0.904967766872182; total time=  30.8s\n",
      "[CV] END model__colsample_bytree=0.9467060642102012, model__gamma=0.0020692114608738678, model__learning_rate=0.01895360821543239, model__max_depth=8, model__min_child_weight=8, model__n_estimators=4728, model__reg_alpha=0.004872526229872035, model__reg_lambda=2.6376828325522426, model__subsample=0.904967766872182; total time=  31.0s\n",
      "[CV] END model__colsample_bytree=0.8798589680588796, model__gamma=0.05235937350716821, model__learning_rate=0.023952348754319744, model__max_depth=6, model__min_child_weight=5, model__n_estimators=5606, model__reg_alpha=0.7537448949039467, model__reg_lambda=1.1002573071136692, model__subsample=0.7591282490257437; total time=  30.4s\n",
      "[CV] END model__colsample_bytree=0.8798589680588796, model__gamma=0.05235937350716821, model__learning_rate=0.023952348754319744, model__max_depth=6, model__min_child_weight=5, model__n_estimators=5606, model__reg_alpha=0.7537448949039467, model__reg_lambda=1.1002573071136692, model__subsample=0.7591282490257437; total time=  30.0s\n",
      "[CV] END model__colsample_bytree=0.8798589680588796, model__gamma=0.05235937350716821, model__learning_rate=0.023952348754319744, model__max_depth=6, model__min_child_weight=5, model__n_estimators=5606, model__reg_alpha=0.7537448949039467, model__reg_lambda=1.1002573071136692, model__subsample=0.7591282490257437; total time=  30.5s\n",
      "[CV] END model__colsample_bytree=0.8141679912770372, model__gamma=0.005166977529198242, model__learning_rate=0.026904925145870635, model__max_depth=5, model__min_child_weight=8, model__n_estimators=4505, model__reg_alpha=0.00200624426851248, model__reg_lambda=0.9015411120419133, model__subsample=0.9069256176049701; total time=  20.1s\n",
      "[CV] END model__colsample_bytree=0.8141679912770372, model__gamma=0.005166977529198242, model__learning_rate=0.026904925145870635, model__max_depth=5, model__min_child_weight=8, model__n_estimators=4505, model__reg_alpha=0.00200624426851248, model__reg_lambda=0.9015411120419133, model__subsample=0.9069256176049701; total time=  21.2s\n",
      "[CV] END model__colsample_bytree=0.8141679912770372, model__gamma=0.005166977529198242, model__learning_rate=0.026904925145870635, model__max_depth=5, model__min_child_weight=8, model__n_estimators=4505, model__reg_alpha=0.00200624426851248, model__reg_lambda=0.9015411120419133, model__subsample=0.9069256176049701; total time=  57.7s\n",
      "[CV] END model__colsample_bytree=0.8648666611017171, model__gamma=0.0017914024467614537, model__learning_rate=0.04387115381420335, model__max_depth=8, model__min_child_weight=8, model__n_estimators=5376, model__reg_alpha=0.13234754903375762, model__reg_lambda=0.710409969154486, model__subsample=0.8597382251905821; total time=  -7.4s\n",
      "[CV] END model__colsample_bytree=0.8648666611017171, model__gamma=0.0017914024467614537, model__learning_rate=0.04387115381420335, model__max_depth=8, model__min_child_weight=8, model__n_estimators=5376, model__reg_alpha=0.13234754903375762, model__reg_lambda=0.710409969154486, model__subsample=0.8597382251905821; total time=  29.2s\n",
      "[CV] END model__colsample_bytree=0.8648666611017171, model__gamma=0.0017914024467614537, model__learning_rate=0.04387115381420335, model__max_depth=8, model__min_child_weight=8, model__n_estimators=5376, model__reg_alpha=0.13234754903375762, model__reg_lambda=0.710409969154486, model__subsample=0.8597382251905821; total time= 1.1min\n",
      "[CV] END model__colsample_bytree=0.8691192914142041, model__gamma=0.011236294170159138, model__learning_rate=0.032715414759483946, model__max_depth=4, model__min_child_weight=6, model__n_estimators=3292, model__reg_alpha=0.002186322063458161, model__reg_lambda=4.828488521279858, model__subsample=0.9441586967654833; total time=  13.3s\n",
      "[CV] END model__colsample_bytree=0.8691192914142041, model__gamma=0.011236294170159138, model__learning_rate=0.032715414759483946, model__max_depth=4, model__min_child_weight=6, model__n_estimators=3292, model__reg_alpha=0.002186322063458161, model__reg_lambda=4.828488521279858, model__subsample=0.9441586967654833; total time= -22.0s\n",
      "[CV] END model__colsample_bytree=0.8691192914142041, model__gamma=0.011236294170159138, model__learning_rate=0.032715414759483946, model__max_depth=4, model__min_child_weight=6, model__n_estimators=3292, model__reg_alpha=0.002186322063458161, model__reg_lambda=4.828488521279858, model__subsample=0.9441586967654833; total time=  13.8s\n",
      "[CV] END model__colsample_bytree=0.731827177571805, model__gamma=0.19100159752223117, model__learning_rate=0.040553791497784604, model__max_depth=6, model__min_child_weight=8, model__n_estimators=4208, model__reg_alpha=0.013737797016767143, model__reg_lambda=2.7747231410784963, model__subsample=0.7532562698232222; total time=  58.5s\n",
      "[CV] END model__colsample_bytree=0.731827177571805, model__gamma=0.19100159752223117, model__learning_rate=0.040553791497784604, model__max_depth=6, model__min_child_weight=8, model__n_estimators=4208, model__reg_alpha=0.013737797016767143, model__reg_lambda=2.7747231410784963, model__subsample=0.7532562698232222; total time= -13.5s\n",
      "[CV] END model__colsample_bytree=0.731827177571805, model__gamma=0.19100159752223117, model__learning_rate=0.040553791497784604, model__max_depth=6, model__min_child_weight=8, model__n_estimators=4208, model__reg_alpha=0.013737797016767143, model__reg_lambda=2.7747231410784963, model__subsample=0.7532562698232222; total time=  21.7s\n",
      "[CV] END model__colsample_bytree=0.9271035367293438, model__gamma=0.031296187726569474, model__learning_rate=0.012019029889901984, model__max_depth=7, model__min_child_weight=9, model__n_estimators=3125, model__reg_alpha=0.5748662989398113, model__reg_lambda=1.1099821599581572, model__subsample=0.7922126465371816; total time=  18.7s\n",
      "[CV] END model__colsample_bytree=0.9271035367293438, model__gamma=0.031296187726569474, model__learning_rate=0.012019029889901984, model__max_depth=7, model__min_child_weight=9, model__n_estimators=3125, model__reg_alpha=0.5748662989398113, model__reg_lambda=1.1099821599581572, model__subsample=0.7922126465371816; total time=  18.8s\n",
      "[CV] END model__colsample_bytree=0.9271035367293438, model__gamma=0.031296187726569474, model__learning_rate=0.012019029889901984, model__max_depth=7, model__min_child_weight=9, model__n_estimators=3125, model__reg_alpha=0.5748662989398113, model__reg_lambda=1.1099821599581572, model__subsample=0.7922126465371816; total time=  18.7s\n",
      "[CV] END model__colsample_bytree=0.910622609082735, model__gamma=0.013188599286397188, model__learning_rate=0.014354631034963799, model__max_depth=7, model__min_child_weight=3, model__n_estimators=2705, model__reg_alpha=0.0033819015402720195, model__reg_lambda=1.5752075222845061, model__subsample=0.8128125736546148; total time=  16.2s\n",
      "[CV] END model__colsample_bytree=0.910622609082735, model__gamma=0.013188599286397188, model__learning_rate=0.014354631034963799, model__max_depth=7, model__min_child_weight=3, model__n_estimators=2705, model__reg_alpha=0.0033819015402720195, model__reg_lambda=1.5752075222845061, model__subsample=0.8128125736546148; total time=  16.4s\n",
      "[CV] END model__colsample_bytree=0.910622609082735, model__gamma=0.013188599286397188, model__learning_rate=0.014354631034963799, model__max_depth=7, model__min_child_weight=3, model__n_estimators=2705, model__reg_alpha=0.0033819015402720195, model__reg_lambda=1.5752075222845061, model__subsample=0.8128125736546148; total time=  17.3s\n",
      "[CV] END model__colsample_bytree=0.9700842714618066, model__gamma=0.007901210461449124, model__learning_rate=0.025457387997058087, model__max_depth=9, model__min_child_weight=2, model__n_estimators=4620, model__reg_alpha=0.003420644179762113, model__reg_lambda=4.571306296583258, model__subsample=0.73811866557048; total time=  31.2s\n",
      "[CV] END model__colsample_bytree=0.9700842714618066, model__gamma=0.007901210461449124, model__learning_rate=0.025457387997058087, model__max_depth=9, model__min_child_weight=2, model__n_estimators=4620, model__reg_alpha=0.003420644179762113, model__reg_lambda=4.571306296583258, model__subsample=0.73811866557048; total time=  31.3s\n",
      "[CV] END model__colsample_bytree=0.9700842714618066, model__gamma=0.007901210461449124, model__learning_rate=0.025457387997058087, model__max_depth=9, model__min_child_weight=2, model__n_estimators=4620, model__reg_alpha=0.003420644179762113, model__reg_lambda=4.571306296583258, model__subsample=0.73811866557048; total time=  31.2s\n",
      "[CV] END model__colsample_bytree=0.8115665328850868, model__gamma=0.0016271270944369827, model__learning_rate=0.04974909675912419, model__max_depth=4, model__min_child_weight=7, model__n_estimators=3292, model__reg_alpha=0.008507672799208651, model__reg_lambda=1.2482113284043057, model__subsample=0.8150954671010224; total time=  13.5s\n",
      "[CV] END model__colsample_bytree=0.8115665328850868, model__gamma=0.0016271270944369827, model__learning_rate=0.04974909675912419, model__max_depth=4, model__min_child_weight=7, model__n_estimators=3292, model__reg_alpha=0.008507672799208651, model__reg_lambda=1.2482113284043057, model__subsample=0.8150954671010224; total time=  13.2s\n",
      "[CV] END model__colsample_bytree=0.8115665328850868, model__gamma=0.0016271270944369827, model__learning_rate=0.04974909675912419, model__max_depth=4, model__min_child_weight=7, model__n_estimators=3292, model__reg_alpha=0.008507672799208651, model__reg_lambda=1.2482113284043057, model__subsample=0.8150954671010224; total time=  13.3s\n",
      "[CV] END model__colsample_bytree=0.9310775235503144, model__gamma=0.007336247279424832, model__learning_rate=0.021246138251106297, model__max_depth=4, model__min_child_weight=8, model__n_estimators=3565, model__reg_alpha=0.007623142491508391, model__reg_lambda=2.588386965343241, model__subsample=0.8449513566556506; total time=  15.3s\n",
      "[CV] END model__colsample_bytree=0.9310775235503144, model__gamma=0.007336247279424832, model__learning_rate=0.021246138251106297, model__max_depth=4, model__min_child_weight=8, model__n_estimators=3565, model__reg_alpha=0.007623142491508391, model__reg_lambda=2.588386965343241, model__subsample=0.8449513566556506; total time=  15.4s\n",
      "[CV] END model__colsample_bytree=0.9310775235503144, model__gamma=0.007336247279424832, model__learning_rate=0.021246138251106297, model__max_depth=4, model__min_child_weight=8, model__n_estimators=3565, model__reg_alpha=0.007623142491508391, model__reg_lambda=2.588386965343241, model__subsample=0.8449513566556506; total time=  15.7s\n",
      "[CV] END model__colsample_bytree=0.8470056456492515, model__gamma=0.015549383768139222, model__learning_rate=0.022253403570175825, model__max_depth=6, model__min_child_weight=4, model__n_estimators=4835, model__reg_alpha=0.38490793387817623, model__reg_lambda=4.4165735423907995, model__subsample=0.7996950076175932; total time=  27.4s\n",
      "[CV] END model__colsample_bytree=0.8470056456492515, model__gamma=0.015549383768139222, model__learning_rate=0.022253403570175825, model__max_depth=6, model__min_child_weight=4, model__n_estimators=4835, model__reg_alpha=0.38490793387817623, model__reg_lambda=4.4165735423907995, model__subsample=0.7996950076175932; total time=  27.1s\n",
      "[CV] END model__colsample_bytree=0.8470056456492515, model__gamma=0.015549383768139222, model__learning_rate=0.022253403570175825, model__max_depth=6, model__min_child_weight=4, model__n_estimators=4835, model__reg_alpha=0.38490793387817623, model__reg_lambda=4.4165735423907995, model__subsample=0.7996950076175932; total time=  25.4s\n",
      "[CV] END model__colsample_bytree=0.7709690084238421, model__gamma=0.039379024774342936, model__learning_rate=0.019306027716490086, model__max_depth=7, model__min_child_weight=2, model__n_estimators=4962, model__reg_alpha=0.09479203039630413, model__reg_lambda=0.5321891263587486, model__subsample=0.7576732646630905; total time=  30.0s\n",
      "[CV] END model__colsample_bytree=0.7709690084238421, model__gamma=0.039379024774342936, model__learning_rate=0.019306027716490086, model__max_depth=7, model__min_child_weight=2, model__n_estimators=4962, model__reg_alpha=0.09479203039630413, model__reg_lambda=0.5321891263587486, model__subsample=0.7576732646630905; total time=  30.6s\n",
      "[CV] END model__colsample_bytree=0.7709690084238421, model__gamma=0.039379024774342936, model__learning_rate=0.019306027716490086, model__max_depth=7, model__min_child_weight=2, model__n_estimators=4962, model__reg_alpha=0.09479203039630413, model__reg_lambda=0.5321891263587486, model__subsample=0.7576732646630905; total time=  30.3s\n",
      "[CV] END model__colsample_bytree=0.7601371862102426, model__gamma=0.046169991655613654, model__learning_rate=0.010322314206501915, model__max_depth=9, model__min_child_weight=9, model__n_estimators=4810, model__reg_alpha=0.0510893707063908, model__reg_lambda=3.8586064581836363, model__subsample=0.8537590192338123; total time= 1.2min\n",
      "[CV] END model__colsample_bytree=0.7601371862102426, model__gamma=0.046169991655613654, model__learning_rate=0.010322314206501915, model__max_depth=9, model__min_child_weight=9, model__n_estimators=4810, model__reg_alpha=0.0510893707063908, model__reg_lambda=3.8586064581836363, model__subsample=0.8537590192338123; total time=   2.1s\n",
      "[CV] END model__colsample_bytree=0.7601371862102426, model__gamma=0.046169991655613654, model__learning_rate=0.010322314206501915, model__max_depth=9, model__min_child_weight=9, model__n_estimators=4810, model__reg_alpha=0.0510893707063908, model__reg_lambda=3.8586064581836363, model__subsample=0.8537590192338123; total time=  35.2s\n",
      "[CV] END model__colsample_bytree=0.905218459027401, model__gamma=0.09882408964920437, model__learning_rate=0.04910116098260943, model__max_depth=9, model__min_child_weight=4, model__n_estimators=1664, model__reg_alpha=0.0026499980010121563, model__reg_lambda=1.2745659514022534, model__subsample=0.7857506256518808; total time=  48.0s\n",
      "[CV] END model__colsample_bytree=0.905218459027401, model__gamma=0.09882408964920437, model__learning_rate=0.04910116098260943, model__max_depth=9, model__min_child_weight=4, model__n_estimators=1664, model__reg_alpha=0.0026499980010121563, model__reg_lambda=1.2745659514022534, model__subsample=0.7857506256518808; total time= -23.9s\n",
      "[CV] END model__colsample_bytree=0.905218459027401, model__gamma=0.09882408964920437, model__learning_rate=0.04910116098260943, model__max_depth=9, model__min_child_weight=4, model__n_estimators=1664, model__reg_alpha=0.0026499980010121563, model__reg_lambda=1.2745659514022534, model__subsample=0.7857506256518808; total time=  11.9s\n",
      "[CV] END model__colsample_bytree=0.7220427227150346, model__gamma=0.0370351563883801, model__learning_rate=0.03268701412293804, model__max_depth=8, model__min_child_weight=3, model__n_estimators=5195, model__reg_alpha=0.0035019206829526657, model__reg_lambda=1.9143069025275665, model__subsample=0.8135374107488301; total time=  28.3s\n",
      "[CV] END model__colsample_bytree=0.7220427227150346, model__gamma=0.0370351563883801, model__learning_rate=0.03268701412293804, model__max_depth=8, model__min_child_weight=3, model__n_estimators=5195, model__reg_alpha=0.0035019206829526657, model__reg_lambda=1.9143069025275665, model__subsample=0.8135374107488301; total time=  27.8s\n",
      "[CV] END model__colsample_bytree=0.7220427227150346, model__gamma=0.0370351563883801, model__learning_rate=0.03268701412293804, model__max_depth=8, model__min_child_weight=3, model__n_estimators=5195, model__reg_alpha=0.0035019206829526657, model__reg_lambda=1.9143069025275665, model__subsample=0.8135374107488301; total time=  26.7s\n",
      "[CV] END model__colsample_bytree=0.9624421568217448, model__gamma=0.10590264847106348, model__learning_rate=0.017334849512180197, model__max_depth=5, model__min_child_weight=2, model__n_estimators=4690, model__reg_alpha=0.006370755274604818, model__reg_lambda=2.104354544582801, model__subsample=0.8100591041870329; total time=  23.1s\n",
      "[CV] END model__colsample_bytree=0.9624421568217448, model__gamma=0.10590264847106348, model__learning_rate=0.017334849512180197, model__max_depth=5, model__min_child_weight=2, model__n_estimators=4690, model__reg_alpha=0.006370755274604818, model__reg_lambda=2.104354544582801, model__subsample=0.8100591041870329; total time=  21.9s\n",
      "[CV] END model__colsample_bytree=0.9624421568217448, model__gamma=0.10590264847106348, model__learning_rate=0.017334849512180197, model__max_depth=5, model__min_child_weight=2, model__n_estimators=4690, model__reg_alpha=0.006370755274604818, model__reg_lambda=2.104354544582801, model__subsample=0.8100591041870329; total time=  21.8s\n",
      "[CV] END model__colsample_bytree=0.8523367816271872, model__gamma=0.012032013071658198, model__learning_rate=0.016062854786942058, model__max_depth=7, model__min_child_weight=6, model__n_estimators=2887, model__reg_alpha=0.0026323251144337255, model__reg_lambda=3.693498952887895, model__subsample=0.8329176938255798; total time=  18.0s\n",
      "[CV] END model__colsample_bytree=0.8523367816271872, model__gamma=0.012032013071658198, model__learning_rate=0.016062854786942058, model__max_depth=7, model__min_child_weight=6, model__n_estimators=2887, model__reg_alpha=0.0026323251144337255, model__reg_lambda=3.693498952887895, model__subsample=0.8329176938255798; total time=  17.2s\n",
      "[CV] END model__colsample_bytree=0.8523367816271872, model__gamma=0.012032013071658198, model__learning_rate=0.016062854786942058, model__max_depth=7, model__min_child_weight=6, model__n_estimators=2887, model__reg_alpha=0.0026323251144337255, model__reg_lambda=3.693498952887895, model__subsample=0.8329176938255798; total time=  17.9s\n",
      "[CV] END model__colsample_bytree=0.9630879149567031, model__gamma=0.0957940324357264, model__learning_rate=0.019824921898473697, model__max_depth=6, model__min_child_weight=1, model__n_estimators=4073, model__reg_alpha=0.1679039188760927, model__reg_lambda=2.499285430528629, model__subsample=0.8080790187934663; total time=  23.3s\n",
      "[CV] END model__colsample_bytree=0.9630879149567031, model__gamma=0.0957940324357264, model__learning_rate=0.019824921898473697, model__max_depth=6, model__min_child_weight=1, model__n_estimators=4073, model__reg_alpha=0.1679039188760927, model__reg_lambda=2.499285430528629, model__subsample=0.8080790187934663; total time=  22.5s\n",
      "[CV] END model__colsample_bytree=0.9630879149567031, model__gamma=0.0957940324357264, model__learning_rate=0.019824921898473697, model__max_depth=6, model__min_child_weight=1, model__n_estimators=4073, model__reg_alpha=0.1679039188760927, model__reg_lambda=2.499285430528629, model__subsample=0.8080790187934663; total time=  23.0s\n",
      "[CV] END model__colsample_bytree=0.7566068113125334, model__gamma=0.0396166172325672, model__learning_rate=0.019713257778786804, model__max_depth=5, model__min_child_weight=2, model__n_estimators=5298, model__reg_alpha=0.11208605123342037, model__reg_lambda=3.323180113073051, model__subsample=0.8455585243610206; total time=  24.5s\n",
      "[CV] END model__colsample_bytree=0.7566068113125334, model__gamma=0.0396166172325672, model__learning_rate=0.019713257778786804, model__max_depth=5, model__min_child_weight=2, model__n_estimators=5298, model__reg_alpha=0.11208605123342037, model__reg_lambda=3.323180113073051, model__subsample=0.8455585243610206; total time=  25.0s\n",
      "[CV] END model__colsample_bytree=0.7566068113125334, model__gamma=0.0396166172325672, model__learning_rate=0.019713257778786804, model__max_depth=5, model__min_child_weight=2, model__n_estimators=5298, model__reg_alpha=0.11208605123342037, model__reg_lambda=3.323180113073051, model__subsample=0.8455585243610206; total time=  25.7s\n",
      "[CV] END model__colsample_bytree=0.9361632068786229, model__gamma=0.01713291231890226, model__learning_rate=0.011141754620237587, model__max_depth=8, model__min_child_weight=9, model__n_estimators=3122, model__reg_alpha=0.0020880273856634106, model__reg_lambda=0.6902215950535991, model__subsample=0.769029815523137; total time=  56.4s\n",
      "[CV] END model__colsample_bytree=0.9361632068786229, model__gamma=0.01713291231890226, model__learning_rate=0.011141754620237587, model__max_depth=8, model__min_child_weight=9, model__n_estimators=3122, model__reg_alpha=0.0020880273856634106, model__reg_lambda=0.6902215950535991, model__subsample=0.769029815523137; total time= -14.9s\n",
      "[CV] END model__colsample_bytree=0.9361632068786229, model__gamma=0.01713291231890226, model__learning_rate=0.011141754620237587, model__max_depth=8, model__min_child_weight=9, model__n_estimators=3122, model__reg_alpha=0.0020880273856634106, model__reg_lambda=0.6902215950535991, model__subsample=0.769029815523137; total time=  21.2s\n",
      "[CV] END model__colsample_bytree=0.7698022275804732, model__gamma=0.06511933871848717, model__learning_rate=0.014971082751590245, model__max_depth=8, model__min_child_weight=9, model__n_estimators=1954, model__reg_alpha=0.05246662574081186, model__reg_lambda=3.444109633300019, model__subsample=0.8086070568702594; total time=  12.8s\n",
      "[CV] END model__colsample_bytree=0.7698022275804732, model__gamma=0.06511933871848717, model__learning_rate=0.014971082751590245, model__max_depth=8, model__min_child_weight=9, model__n_estimators=1954, model__reg_alpha=0.05246662574081186, model__reg_lambda=3.444109633300019, model__subsample=0.8086070568702594; total time=  13.1s\n",
      "[CV] END model__colsample_bytree=0.7698022275804732, model__gamma=0.06511933871848717, model__learning_rate=0.014971082751590245, model__max_depth=8, model__min_child_weight=9, model__n_estimators=1954, model__reg_alpha=0.05246662574081186, model__reg_lambda=3.444109633300019, model__subsample=0.8086070568702594; total time=  13.2s\n",
      "[CV] END model__colsample_bytree=0.9215390080400802, model__gamma=0.01110285053315333, model__learning_rate=0.017674432478547636, model__max_depth=9, model__min_child_weight=1, model__n_estimators=4366, model__reg_alpha=0.0018664264556461736, model__reg_lambda=2.9509097672521913, model__subsample=0.717249167999761; total time=  36.8s\n",
      "[CV] END model__colsample_bytree=0.9215390080400802, model__gamma=0.01110285053315333, model__learning_rate=0.017674432478547636, model__max_depth=9, model__min_child_weight=1, model__n_estimators=4366, model__reg_alpha=0.0018664264556461736, model__reg_lambda=2.9509097672521913, model__subsample=0.717249167999761; total time=  34.3s\n",
      "[CV] END model__colsample_bytree=0.9215390080400802, model__gamma=0.01110285053315333, model__learning_rate=0.017674432478547636, model__max_depth=9, model__min_child_weight=1, model__n_estimators=4366, model__reg_alpha=0.0018664264556461736, model__reg_lambda=2.9509097672521913, model__subsample=0.717249167999761; total time=  36.5s\n",
      "[CV] END model__colsample_bytree=0.9435463008662702, model__gamma=0.0121054532413269, model__learning_rate=0.04364320126915817, model__max_depth=6, model__min_child_weight=7, model__n_estimators=2750, model__reg_alpha=0.7045639062691595, model__reg_lambda=1.2462907663532365, model__subsample=0.9837573190433542; total time=  13.5s\n",
      "[CV] END model__colsample_bytree=0.9435463008662702, model__gamma=0.0121054532413269, model__learning_rate=0.04364320126915817, model__max_depth=6, model__min_child_weight=7, model__n_estimators=2750, model__reg_alpha=0.7045639062691595, model__reg_lambda=1.2462907663532365, model__subsample=0.9837573190433542; total time=  15.0s\n",
      "[CV] END model__colsample_bytree=0.9435463008662702, model__gamma=0.0121054532413269, model__learning_rate=0.04364320126915817, model__max_depth=6, model__min_child_weight=7, model__n_estimators=2750, model__reg_alpha=0.7045639062691595, model__reg_lambda=1.2462907663532365, model__subsample=0.9837573190433542; total time=  14.3s\n",
      "[CV] END model__colsample_bytree=0.7345307853656224, model__gamma=0.01578772848065535, model__learning_rate=0.015440446264242803, model__max_depth=7, model__min_child_weight=3, model__n_estimators=3262, model__reg_alpha=0.33464857569250506, model__reg_lambda=3.5105717497003974, model__subsample=0.9841606966597852; total time=  18.9s\n",
      "[CV] END model__colsample_bytree=0.7345307853656224, model__gamma=0.01578772848065535, model__learning_rate=0.015440446264242803, model__max_depth=7, model__min_child_weight=3, model__n_estimators=3262, model__reg_alpha=0.33464857569250506, model__reg_lambda=3.5105717497003974, model__subsample=0.9841606966597852; total time=  19.3s\n",
      "[CV] END model__colsample_bytree=0.7345307853656224, model__gamma=0.01578772848065535, model__learning_rate=0.015440446264242803, model__max_depth=7, model__min_child_weight=3, model__n_estimators=3262, model__reg_alpha=0.33464857569250506, model__reg_lambda=3.5105717497003974, model__subsample=0.9841606966597852; total time=  55.0s\n",
      "[CV] END model__colsample_bytree=0.7397024510946886, model__gamma=0.035000182639059116, model__learning_rate=0.021452487308876285, model__max_depth=4, model__min_child_weight=9, model__n_estimators=3843, model__reg_alpha=0.15295591226864455, model__reg_lambda=1.5648089468416053, model__subsample=0.8948143093807192; total time= -20.9s\n",
      "[CV] END model__colsample_bytree=0.7397024510946886, model__gamma=0.035000182639059116, model__learning_rate=0.021452487308876285, model__max_depth=4, model__min_child_weight=9, model__n_estimators=3843, model__reg_alpha=0.15295591226864455, model__reg_lambda=1.5648089468416053, model__subsample=0.8948143093807192; total time=  16.0s\n",
      "[CV] END model__colsample_bytree=0.7397024510946886, model__gamma=0.035000182639059116, model__learning_rate=0.021452487308876285, model__max_depth=4, model__min_child_weight=9, model__n_estimators=3843, model__reg_alpha=0.15295591226864455, model__reg_lambda=1.5648089468416053, model__subsample=0.8948143093807192; total time=  15.9s\n",
      "[CV] END model__colsample_bytree=0.8174357869908485, model__gamma=0.004077253495648021, model__learning_rate=0.03737041756440439, model__max_depth=8, model__min_child_weight=3, model__n_estimators=5049, model__reg_alpha=0.001036958690511385, model__reg_lambda=0.6339627642048404, model__subsample=0.7831224303019989; total time= 1.1min\n",
      "[CV] END model__colsample_bytree=0.8174357869908485, model__gamma=0.004077253495648021, model__learning_rate=0.03737041756440439, model__max_depth=8, model__min_child_weight=3, model__n_estimators=5049, model__reg_alpha=0.001036958690511385, model__reg_lambda=0.6339627642048404, model__subsample=0.7831224303019989; total time=  -8.8s\n",
      "[CV] END model__colsample_bytree=0.8174357869908485, model__gamma=0.004077253495648021, model__learning_rate=0.03737041756440439, model__max_depth=8, model__min_child_weight=3, model__n_estimators=5049, model__reg_alpha=0.001036958690511385, model__reg_lambda=0.6339627642048404, model__subsample=0.7831224303019989; total time= 1.0min\n",
      "[CV] END model__colsample_bytree=0.9336209071532169, model__gamma=0.24167701673281086, model__learning_rate=0.03566118583651856, model__max_depth=4, model__min_child_weight=7, model__n_estimators=5607, model__reg_alpha=0.04223795101011905, model__reg_lambda=3.7317783449472235, model__subsample=0.9089104780680574; total time= -13.5s\n",
      "[CV] END model__colsample_bytree=0.9336209071532169, model__gamma=0.24167701673281086, model__learning_rate=0.03566118583651856, model__max_depth=4, model__min_child_weight=7, model__n_estimators=5607, model__reg_alpha=0.04223795101011905, model__reg_lambda=3.7317783449472235, model__subsample=0.9089104780680574; total time=  23.0s\n",
      "[CV] END model__colsample_bytree=0.9336209071532169, model__gamma=0.24167701673281086, model__learning_rate=0.03566118583651856, model__max_depth=4, model__min_child_weight=7, model__n_estimators=5607, model__reg_alpha=0.04223795101011905, model__reg_lambda=3.7317783449472235, model__subsample=0.9089104780680574; total time=  23.4s\n",
      "[CV] END model__colsample_bytree=0.9333315410969246, model__gamma=0.042843631960362054, model__learning_rate=0.030470568234877104, model__max_depth=9, model__min_child_weight=8, model__n_estimators=5226, model__reg_alpha=0.12009519574962733, model__reg_lambda=0.5630744366483044, model__subsample=0.888934104109602; total time=  29.8s\n",
      "[CV] END model__colsample_bytree=0.9333315410969246, model__gamma=0.042843631960362054, model__learning_rate=0.030470568234877104, model__max_depth=9, model__min_child_weight=8, model__n_estimators=5226, model__reg_alpha=0.12009519574962733, model__reg_lambda=0.5630744366483044, model__subsample=0.888934104109602; total time=  28.8s\n",
      "[CV] END model__colsample_bytree=0.9333315410969246, model__gamma=0.042843631960362054, model__learning_rate=0.030470568234877104, model__max_depth=9, model__min_child_weight=8, model__n_estimators=5226, model__reg_alpha=0.12009519574962733, model__reg_lambda=0.5630744366483044, model__subsample=0.888934104109602; total time= 1.1min\n",
      "\u001b[32m2025-07-18 05:04:24.270\u001b[0m | \u001b[1mINFO    \u001b[0m | \u001b[36m__main__\u001b[0m:\u001b[36m<module>\u001b[0m:\u001b[36m50\u001b[0m - \u001b[1mSearch finished in 2.20 hours\u001b[0m\n",
      "Best MAE (CV): 44.47163555022993\n",
      "Best params  : {'model__colsample_bytree': np.float64(0.7698798304778602), 'model__gamma': np.float64(0.26253890210994124), 'model__learning_rate': np.float64(0.019377714054126752), 'model__max_depth': 8, 'model__min_child_weight': 1, 'model__n_estimators': 4974, 'model__reg_alpha': np.float64(0.11018344696523026), 'model__reg_lambda': np.float64(1.6978705977224349), 'model__subsample': np.float64(0.8212219140303524)}\n",
      "\u001b[32m2025-07-18 05:04:24.340\u001b[0m | \u001b[1mINFO    \u001b[0m | \u001b[36m__main__\u001b[0m:\u001b[36m<module>\u001b[0m:\u001b[36m62\u001b[0m - \u001b[1mSaved model → ../models/xgb_randomsearch_best_2025-07-18_050424.pkl\u001b[0m\n"
     ]
    }
   ],
   "source": [
    "# Create visualizations\n",
    "fig, axes = plt.subplots(2, 2, figsize=(15, 12))\n",
    "\n",
    "# 1. Actual vs Predicted (Baseline)\n",
    "axes[0, 0].scatter(y_test, baseline_results['predictions']['y_test_pred'], alpha=0.6)\n",
    "axes[0, 0].plot([y_test.min(), y_test.max()], [y_test.min(), y_test.max()], 'r--', lw=2)\n",
    "axes[0, 0].set_xlabel('Actual Days')\n",
    "axes[0, 0].set_ylabel('Predicted Days')\n",
    "axes[0, 0].set_title(f'Baseline Model\\nMAE: {baseline_results[\"metrics\"][\"test_mae\"]:.2f} days')\n",
    "\n",
    "# 2. Actual vs Predicted (Tuned)\n",
    "axes[0, 1].scatter(y_test, tuned_results['predictions']['y_test_pred'], alpha=0.6)\n",
    "axes[0, 1].plot([y_test.min(), y_test.max()], [y_test.min(), y_test.max()], 'r--', lw=2)\n",
    "axes[0, 1].set_xlabel('Actual Days')\n",
    "axes[0, 1].set_ylabel('Predicted Days')\n",
    "axes[0, 1].set_title(f'Tuned Model\\nMAE: {tuned_results[\"metrics\"][\"test_mae\"]:.2f} days')\n",
    "\n",
    "# 3. Residuals (Baseline)\n",
    "baseline_residuals = y_test - baseline_results['predictions']['y_test_pred']\n",
    "axes[1, 0].scatter(baseline_results['predictions']['y_test_pred'], baseline_residuals, alpha=0.6)\n",
    "axes[1, 0].axhline(y=0, color='r', linestyle='--')\n",
    "axes[1, 0].set_xlabel('Predicted Days')\n",
    "axes[1, 0].set_ylabel('Residuals')\n",
    "axes[1, 0].set_title('Baseline Residuals')\n",
    "\n",
    "# 4. Residuals (Tuned)\n",
    "tuned_residuals = y_test - tuned_results['predictions']['y_test_pred']\n",
    "axes[1, 1].scatter(tuned_results['predictions']['y_test_pred'], tuned_residuals, alpha=0.6)\n",
    "axes[1, 1].axhline(y=0, color='r', linestyle='--')\n",
    "axes[1, 1].set_xlabel('Predicted Days')\n",
    "axes[1, 1].set_ylabel('Residuals')\n",
    "axes[1, 1].set_title('Tuned Residuals')\n",
    "\n",
    "plt.tight_layout()\n",
    "plt.show()"
   ]
  },
  {
   "cell_type": "code",
   "execution_count": null,
   "id": "284d6cc1",
   "metadata": {},
   "outputs": [],
   "source": [
    "\n",
    "# save the tuned pipeline\n",
    "best_model = search.best_estimator_\n",
    "pathlib.Path(\"../models\").mkdir(exist_ok=True)\n",
    "timestamp = datetime.now().strftime(\"%Y-%m-%d_%H%M%S\")\n",
    "with open(f\"../models/xgb_randomsearch_best_{timestamp}.pkl\", \"wb\") as f:\n",
    "    pickle.dump(best_model, f)\n",
    "\n",
    "logger.info(f\"Saved model → ../models/xgb_randomsearch_best_{timestamp}.pkl\")"
   ]
  },
  {
   "cell_type": "code",
   "execution_count": null,
   "id": "c4752336",
   "metadata": {},
   "outputs": [
    {
     "name": "stdout",
     "output_type": "stream",
     "text": [
      "\n",
      "===== Mean Absolute Error (MAE): 38.92 =====\n",
      "📊 GOOD: The model's predictions are typically within 60 days of the actual confirmation time.\n",
      "🔍 TAKEAWAY: The model provides valuable insights but has moderate error margins.\n",
      "\n",
      "===== R² Score: 0.5795 =====\n",
      "📊 MODERATE: The model explains between 50-70% of the variance in confirmation times.\n",
      "🔍 TAKEAWAY: The model captures significant patterns but misses some factors.\n",
      "\n",
      "===== Interpretation in Context =====\n",
      "• The average nomination takes 128 days to confirm\n",
      "• With a standard deviation of 85 days\n",
      "• Our model's error (MAE) is 39 days, which is 46% of the standard deviation\n",
      "• This means our model outperforms a baseline model that always predicts the average\n",
      "\n",
      "===== Recommended Next Steps =====\n",
      "1. Tune hyperparameters to optimize model performance\n",
      "2. Explore feature importance to understand key drivers\n",
      "3. Consider ensemble methods to improve predictions\n",
      "\u001b[32m2025-07-18 07:24:21.470\u001b[0m | \u001b[1mINFO    \u001b[0m | \u001b[36mnomination_predictor.modeling.train\u001b[0m:\u001b[36msave_model_with_metadata\u001b[0m:\u001b[36m120\u001b[0m - \u001b[1mModel saved to /home/wsl2ubuntuuser/nomination_predictor/models/xgboost_regression_randomsearch_2025-07-18_072421.pkl with metadata\u001b[0m\n"
     ]
    }
   ],
   "source": [
    "# Predict and evaluate directly from the search object\n",
    "y_pred = search.predict(X_test)\n",
    "mae = mean_absolute_error(y_test, y_pred)\n",
    "r2  = r2_score(y_test, y_pred)\n",
    "interpret_results(mae, r2, y_train)\n",
    "summarize_model_complexity(search.best_estimator_)\n",
    "\n",
    "model_file = save_model_with_metadata(\n",
    "    search.best_estimator_,                # <- fitted pipeline\n",
    "    \"xgboost_regression_randomsearch\",\n",
    "    metadata={\n",
    "        \"description\": \"XGBoost regression model for nomination confirmation time prediction, tuned with random search\",\n",
    "        \"parameters\": search.best_params_,\n",
    "    },\n",
    "    X_train=X_train,\n",
    "    y_train=y_train,\n",
    "    mae=mae,\n",
    "    r2=r2,\n",
    ")"
   ]
  }
 ],
 "metadata": {
  "kernelspec": {
   "display_name": "nomination_predictor",
   "language": "python",
   "name": "python3"
  },
  "language_info": {
   "codemirror_mode": {
    "name": "ipython",
    "version": 3
   },
   "file_extension": ".py",
   "mimetype": "text/x-python",
   "name": "python",
   "nbconvert_exporter": "python",
   "pygments_lexer": "ipython3",
   "version": "3.12.3"
  }
 },
 "nbformat": 4,
 "nbformat_minor": 5
}
