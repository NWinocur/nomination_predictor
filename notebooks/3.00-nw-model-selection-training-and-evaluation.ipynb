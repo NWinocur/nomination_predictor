{
 "cells": [
  {
   "cell_type": "markdown",
   "id": "4b092c37",
   "metadata": {},
   "source": [
    "# Model training and evaluation"
   ]
  },
  {
   "cell_type": "code",
   "execution_count": null,
   "id": "2280e74d",
   "metadata": {},
   "outputs": [],
   "source": [
    "import time\n",
    "from pathlib import Path\n",
    "\n",
    "import matplotlib.pyplot as plt\n",
    "import numpy as np\n",
    "import pandas as pd\n",
    "import seaborn as sns\n",
    "from loguru import logger\n",
    "from sklearn.compose import ColumnTransformer\n",
    "from sklearn.model_selection import train_test_split\n",
    "from sklearn.pipeline import Pipeline\n",
    "from sklearn.preprocessing import OneHotEncoder, StandardScaler\n",
    "from tqdm.notebook import tqdm\n",
    "from xgboost import XGBRegressor\n",
    "\n",
    "from nomination_predictor.config import MODELS_DIR, PROCESSED_DATA_DIR\n",
    "\n",
    "sns.set_theme(style=\"whitegrid\")"
   ]
  },
  {
   "cell_type": "code",
   "execution_count": null,
   "id": "ba41e7ff",
   "metadata": {},
   "outputs": [],
   "source": [
    "df = pd.read_csv(PROCESSED_DATA_DIR/\"processed.csv\")"
   ]
  },
  {
   "cell_type": "markdown",
   "id": "5d2a664c",
   "metadata": {},
   "source": [
    "# Choose features"
   ]
  },
  {
   "cell_type": "markdown",
   "id": "ef5b090b",
   "metadata": {},
   "source": [
    "## target variable"
   ]
  },
  {
   "cell_type": "code",
   "execution_count": null,
   "id": "a4addbf7",
   "metadata": {},
   "outputs": [],
   "source": [
    "TARGET = \"days_nom_to_conf\"\n",
    "\n",
    "# pick target and drop Y label targets from features\n",
    "y = df[TARGET]\n",
    "X = df.drop(columns=[TARGET, \"days_nom_to_latest_action\"])  # other target saved for later tries at modeling"
   ]
  },
  {
   "cell_type": "markdown",
   "id": "fee2378c",
   "metadata": {},
   "source": [
    "## numeric features"
   ]
  },
  {
   "cell_type": "code",
   "execution_count": null,
   "id": "75663fb7",
   "metadata": {},
   "outputs": [],
   "source": [
    "NUMERIC_FEATURES = [\n",
    "    \"actions_count\",\n",
    "    \"age_at_nom_days\",\n",
    "    \"birth_year\", \n",
    "    \"committees_count\",\n",
    "    \"congress_num\", \n",
    "    \"days_into_pres_term\",\n",
    "    \"days_nom_to_deceased\",\n",
    "    \"days_to_next_midterm_election\",\n",
    "    \"days_to_next_pres_election\",\n",
    "    \"death_year\", \n",
    "    \"degree_year\", \n",
    "    \"education_sequence\", \n",
    "    \"fed_service_sequence\", \n",
    "    \"highest_degree_level\",\n",
    "    \"professional_career_sequence\",\n",
    "    \"record_vote_number\",   \n",
    "    \"service_as_chief_judge,_begin\", \n",
    "    \"service_as_chief_judge,_end\",\n",
    "]"
   ]
  },
  {
   "cell_type": "markdown",
   "id": "a6168585",
   "metadata": {},
   "source": [
    "# boolean features"
   ]
  },
  {
   "cell_type": "code",
   "execution_count": null,
   "id": "18da2afe",
   "metadata": {},
   "outputs": [],
   "source": [
    "BOOLEAN_FEATURES = [\n",
    "    \"pres_term_is_latter_term\", \n",
    "    \"statute_authorized_new_seat_bool\",\n",
    "]"
   ]
  },
  {
   "cell_type": "markdown",
   "id": "2f2bbf16",
   "metadata": {},
   "source": [
    "# categorical features"
   ]
  },
  {
   "cell_type": "code",
   "execution_count": null,
   "id": "69674cb3",
   "metadata": {},
   "outputs": [],
   "source": [
    "CATEGORICAL_FEATURES  = [\n",
    "    \"aba_rating\", \n",
    "    \"appointing_president\",\n",
    "    \"congress_session\",\n",
    "    \"court_type\",\n",
    "    \"seat_level\", \n",
    "    \"birth_state\",\n",
    "    \"latestaction_is_div_opp_house\",\n",
    "    \"latestaction_is_div_opp_senate\",\n",
    "    \"latestaction_is_fully_div\",\n",
    "    \"latestaction_is_unified\",\n",
    "    \"nomination_vacancy_reason\",\n",
    "    \"nomination_of_or_from_location\",\n",
    "    \"nomination_to_position_title\",\n",
    "    \"nomination_to_court_name\",\n",
    "    \"nomination_term_info\",\n",
    "    \"nomination_predecessor_name\",\n",
    "    \"nomination_is_list_nomination\",\n",
    "    \"nomination_parsing_confidence\",\n",
    "    \"nomination_multiple_nominees_count\",\n",
    "    \"nominees_0_organization\",\n",
    "    \"nominees_0_state\",\n",
    "    \"party_of_appointing_president\",\n",
    "    \"race_or_ethnicity\",\n",
    "    \"school\",\n",
    "    \"seat_id_letters_only\",\n",
    "    \"senate_vote_type\",\n",
    "    \n",
    "]"
   ]
  },
  {
   "cell_type": "code",
   "execution_count": 23,
   "id": "3519f36d",
   "metadata": {},
   "outputs": [
    {
     "data": {
      "text/plain": [
       "42          expiring fifteen years after he takes office\n",
       "58          expiring fifteen years after he takes office\n",
       "59          expiring fifteen years after he takes office\n",
       "134    fifteen years after she takes office. (Reappoi...\n",
       "138                  fifteen years after he takes office\n",
       "168                                        fifteen years\n",
       "178                                        fifteen years\n",
       "202                 fifteen years after she takes office\n",
       "235    expiring fifteen years after he takes office. ...\n",
       "283         expiring fifteen years after he takes office\n",
       "292         expiring fifteen years after he takes office\n",
       "297                                        fifteen years\n",
       "309            ten years vice David V. O'Brien, deceased\n",
       "373                  fifteen years, vice Sarah L. Wilson\n",
       "374                                        fifteen years\n",
       "375                       fifteen years. (Reappointment)\n",
       "377                                        fifteen years\n",
       "378                                        fifteen years\n",
       "387                  fifteen years, vice Sarah L. Wilson\n",
       "424                       fifteen years. (Reappointment)\n",
       "425                                        fifteen years\n",
       "473    expiring fifteen years after he takes office. ...\n",
       "484         expiring fifteen years after he takes office\n",
       "496                           ten years. (Reappointment)\n",
       "501                                        fifteen years\n",
       "502                                        fifteen years\n",
       "504                                        fifteen years\n",
       "539    fifteen years (Reappointment), to which positi...\n",
       "548                       fifteen years. (Reappointment)\n",
       "565                                        fifteen years\n",
       "571                                           five years\n",
       "573                                        fifteen years\n",
       "608    fifteen years after he takes office.  (Reappoi...\n",
       "609    fifteen years after he takes office.  (Reappoi...\n",
       "628                                        fifteen years\n",
       "697                                        fifteen years\n",
       "698         expiring fifteen years after he takes office\n",
       "705                                        fifteen years\n",
       "723                                        fifteen years\n",
       "732         expiring fifteen years after he takes office\n",
       "742                                        fifteen years\n",
       "747       fifteen years vice Louis Spector, term expired\n",
       "752                                        fifteen years\n",
       "771    expiring fifteen years after he takes office, ...\n",
       "777                       fifteen years. (Reappointment)\n",
       "778                       fifteen years. (Reappointment)\n",
       "783         expiring fifteen years after he takes office\n",
       "814         expiring fifteen years after he takes office\n",
       "821         expiring fifteen years after he takes office\n",
       "833                                        fifteen years\n",
       "Name: nomination_term_info, dtype: object"
      ]
     },
     "execution_count": 23,
     "metadata": {},
     "output_type": "execute_result"
    }
   ],
   "source": [
    "df[\"nomination_term_info\"].dropna().head(50)"
   ]
  },
  {
   "cell_type": "code",
   "execution_count": null,
   "id": "22ec7c3b",
   "metadata": {},
   "outputs": [
    {
     "name": "stdout",
     "output_type": "stream",
     "text": [
      "✅ All features are unique across feature type lists\n",
      "ℹ️ Total unique features: 38\n"
     ]
    }
   ],
   "source": [
    "from nomination_predictor.modeling.train import validate_feature_lists\n",
    "\n",
    "are_features_unique = validate_feature_lists(NUMERIC_FEATURES, BOOLEAN_FEATURES, CATEGORICAL_FEATURES)\n",
    "\n",
    "if not are_features_unique:\n",
    "    raise ValueError(\"Feature lists contain duplicates. Please fix before continuing.\")"
   ]
  },
  {
   "cell_type": "code",
   "execution_count": null,
   "id": "0aa37ab1",
   "metadata": {},
   "outputs": [
    {
     "name": "stdout",
     "output_type": "stream",
     "text": [
      "\u001b[32m2025-07-17 21:42:39.476\u001b[0m | \u001b[33m\u001b[1mWARNING \u001b[0m | \u001b[36m__main__\u001b[0m:\u001b[36m<module>\u001b[0m:\u001b[36m10\u001b[0m - \u001b[33m\u001b[1mThe following columns in CATEGORICAL_FEATURES are absent from the df: ['vacancy_reason']\u001b[0m\n"
     ]
    }
   ],
   "source": [
    "if len([col for col in NUMERIC_FEATURES if col not in df.columns]) > 0:\n",
    "    logger.warning(\"The following columns in NUMERIC_FEATURES are absent from the df: {}\".format(\n",
    "        [col for col in NUMERIC_FEATURES if col not in df.columns],\n",
    "    ))\n",
    "if len([col for col in BOOLEAN_FEATURES if col not in df.columns]) > 0:\n",
    "    logger.warning(\"The following columns in BOOLEAN_FEATURES are absent from the df: {}\".format(\n",
    "        [col for col in BOOLEAN_FEATURES if col not in df.columns],\n",
    "    ))\n",
    "if len([col for col in CATEGORICAL_FEATURES if col not in df.columns]) > 0:\n",
    "    logger.warning(\"The following columns in CATEGORICAL_FEATURES are absent from the df: {}\".format(\n",
    "        [col for col in CATEGORICAL_FEATURES if col not in df.columns],\n",
    "    ))"
   ]
  },
  {
   "cell_type": "code",
   "execution_count": null,
   "id": "448b8daa",
   "metadata": {},
   "outputs": [],
   "source": [
    "cat_cols = df.select_dtypes(\"object\").columns.tolist()\n",
    "num_cols = [\n",
    "    c for c in df.select_dtypes(\"number\").columns\n",
    "    if c not in {TARGET}\n",
    "]\n",
    "\n",
    "df_model = df[df[TARGET].notna()].copy()\n",
    "X = df_model[BOOLEAN_FEATURES + CATEGORICAL_FEATURES + NUMERIC_FEATURES]\n",
    "y = df_model[TARGET]"
   ]
  },
  {
   "cell_type": "markdown",
   "id": "45705d71",
   "metadata": {},
   "source": [
    "# splitting training and testing data"
   ]
  },
  {
   "cell_type": "code",
   "execution_count": null,
   "id": "49d60c7b",
   "metadata": {},
   "outputs": [],
   "source": [
    "\n",
    "X_train, X_test, y_train, y_test = train_test_split(\n",
    "    X, y, test_size=0.20, random_state=42, stratify=df_model[\"seat_level\"]\n",
    ")"
   ]
  },
  {
   "cell_type": "markdown",
   "id": "b65d6351",
   "metadata": {},
   "source": [
    "# Model Selection, Training, and Evaluation"
   ]
  },
  {
   "cell_type": "markdown",
   "id": "5f304ff9",
   "metadata": {},
   "source": [
    "##  Preprocessing pipeline setup"
   ]
  },
  {
   "cell_type": "code",
   "execution_count": null,
   "id": "e6d7fa62",
   "metadata": {},
   "outputs": [],
   "source": [
    "preprocessor = ColumnTransformer(\n",
    "    transformers=[\n",
    "        ('num', StandardScaler(), NUMERIC_FEATURES),\n",
    "        ('cat', OneHotEncoder(handle_unknown='ignore'), CATEGORICAL_FEATURES)\n",
    "    ])"
   ]
  },
  {
   "cell_type": "code",
   "execution_count": null,
   "id": "29475c3d",
   "metadata": {},
   "outputs": [],
   "source": [
    "class ProgressXGBRegressor(XGBRegressor):\n",
    "    \"\"\"Wrapper to be able to get a progress bar\"\"\"\n",
    "    def fit(self, X, y, *args, **kwargs):\n",
    "        # Print start message\n",
    "        logger.info(f\"Starting XGBoost training with {self.n_estimators} trees...\")\n",
    "        start_time = time.time()\n",
    "        \n",
    "        # Fit the model\n",
    "        result = super().fit(X, y, *args, **kwargs)\n",
    "        \n",
    "        # Print completion message with timing\n",
    "        elapsed = time.time() - start_time\n",
    "        logger.info(f\"XGBoost training completed in {elapsed:.2f} seconds\")\n",
    "        return result"
   ]
  },
  {
   "cell_type": "code",
   "execution_count": null,
   "id": "9d0aecc3",
   "metadata": {},
   "outputs": [],
   "source": [
    "NUM_ESTIMATORS = 1000\n",
    "LEARNING_RATE = 0.1\n",
    "MAX_DEPTH = 6\n",
    "\n",
    "# Create the pipeline with preprocessing and model\n",
    "pipeline_speedy = Pipeline([\n",
    "    ('preprocessor', preprocessor),\n",
    "    ('model', ProgressXGBRegressor(\n",
    "        n_estimators=NUM_ESTIMATORS,\n",
    "        learning_rate=LEARNING_RATE,\n",
    "        max_depth=MAX_DEPTH,\n",
    "        verbosity=1,  # This provides some built-in progress logging\n",
    "        # Add other XGBoost parameters as needed\n",
    "    ))\n",
    "])"
   ]
  },
  {
   "cell_type": "code",
   "execution_count": null,
   "id": "a282a0cc",
   "metadata": {},
   "outputs": [],
   "source": [
    "# Split data into train and test sets\n",
    "X_train, X_test, y_train, y_test = train_test_split(\n",
    "    X, y, test_size=0.2, random_state=42\n",
    ")"
   ]
  },
  {
   "cell_type": "markdown",
   "id": "a227ec69",
   "metadata": {},
   "source": [
    "## Training"
   ]
  },
  {
   "cell_type": "code",
   "execution_count": null,
   "id": "e0d7fba3",
   "metadata": {},
   "outputs": [
    {
     "name": "stdout",
     "output_type": "stream",
     "text": [
      "\u001b[32m2025-07-17 10:22:19.784\u001b[0m | \u001b[1mINFO    \u001b[0m | \u001b[36mnomination_predictor.modeling.train\u001b[0m:\u001b[36mtrain_model\u001b[0m:\u001b[36m84\u001b[0m - \u001b[1mTraining model on 1129 samples, 38 features\u001b[0m\n"
     ]
    },
    {
     "name": "stderr",
     "output_type": "stream",
     "text": [
      "Training Pipeline:   0%|          | 0/1 [00:00<?, ?it/s]"
     ]
    },
    {
     "name": "stdout",
     "output_type": "stream",
     "text": [
      "\u001b[32m2025-07-17 10:22:19.811\u001b[0m | \u001b[1mINFO    \u001b[0m | \u001b[36m__main__\u001b[0m:\u001b[36mfit\u001b[0m:\u001b[36m5\u001b[0m - \u001b[1mStarting XGBoost training with 300 trees...\u001b[0m\n"
     ]
    },
    {
     "name": "stderr",
     "output_type": "stream",
     "text": [
      "Training Pipeline: 100%|██████████| 1/1 [00:01<00:00,  1.11s/it]"
     ]
    },
    {
     "name": "stdout",
     "output_type": "stream",
     "text": [
      "\u001b[32m2025-07-17 10:22:20.893\u001b[0m | \u001b[1mINFO    \u001b[0m | \u001b[36m__main__\u001b[0m:\u001b[36mfit\u001b[0m:\u001b[36m13\u001b[0m - \u001b[1mXGBoost training completed in 1.08 seconds\u001b[0m\n",
      "\u001b[32m2025-07-17 10:22:20.900\u001b[0m | \u001b[1mINFO    \u001b[0m | \u001b[36mnomination_predictor.modeling.train\u001b[0m:\u001b[36mtrain_model\u001b[0m:\u001b[36m88\u001b[0m - \u001b[1mModel training completed\u001b[0m\n"
     ]
    },
    {
     "name": "stderr",
     "output_type": "stream",
     "text": [
      "\n"
     ]
    }
   ],
   "source": [
    "from nomination_predictor.modeling.train import train_model\n",
    "\n",
    "pipeline = train_model(pipeline_speedy, X_train, y_train)"
   ]
  },
  {
   "cell_type": "markdown",
   "id": "ae547f40",
   "metadata": {},
   "source": [
    "## Prediction"
   ]
  },
  {
   "cell_type": "code",
   "execution_count": null,
   "id": "3163d052",
   "metadata": {},
   "outputs": [
    {
     "name": "stdout",
     "output_type": "stream",
     "text": [
      "\u001b[32m2025-07-17 10:22:20.911\u001b[0m | \u001b[1mINFO    \u001b[0m | \u001b[36mnomination_predictor.modeling.predict\u001b[0m:\u001b[36mpredict_model\u001b[0m:\u001b[36m18\u001b[0m - \u001b[1mPredicting using model on 283 samples, 38 features\u001b[0m\n"
     ]
    },
    {
     "name": "stderr",
     "output_type": "stream",
     "text": [
      "Predicting: 100%|██████████| 1/1 [00:00<00:00, 52.84it/s]"
     ]
    },
    {
     "name": "stdout",
     "output_type": "stream",
     "text": [
      "\u001b[32m2025-07-17 10:22:20.934\u001b[0m | \u001b[1mINFO    \u001b[0m | \u001b[36mnomination_predictor.modeling.predict\u001b[0m:\u001b[36mpredict_model\u001b[0m:\u001b[36m22\u001b[0m - \u001b[1mPrediction completed\u001b[0m\n"
     ]
    },
    {
     "name": "stderr",
     "output_type": "stream",
     "text": [
      "\n"
     ]
    }
   ],
   "source": [
    "from nomination_predictor.modeling.predict import predict_model\n",
    "\n",
    "y_pred = predict_model(pipeline, X_test)"
   ]
  },
  {
   "cell_type": "markdown",
   "id": "0fb3190f",
   "metadata": {},
   "source": [
    "## Evaluation"
   ]
  },
  {
   "cell_type": "markdown",
   "id": "501ff3cf",
   "metadata": {},
   "source": [
    "### Choice of metric: MAE\n",
    "\n",
    "Mean Squared Error (MSE) and Root Mean Squared Error (RMSE) are both sensitive to outliers, and MSE also doesn't use the same units as our target variable, making it less intuitive.\n",
    "\n",
    "After all our data cleaning, we have few-enough rows of data, with outliers occurring often-enough, that I'm selecting Mean Absolute Error (MAE) as our metric."
   ]
  },
  {
   "cell_type": "code",
   "execution_count": null,
   "id": "056f7bfe",
   "metadata": {},
   "outputs": [
    {
     "name": "stdout",
     "output_type": "stream",
     "text": [
      "\u001b[32m2025-07-17 10:22:20.945\u001b[0m | \u001b[1mINFO    \u001b[0m | \u001b[36m__main__\u001b[0m:\u001b[36m<module>\u001b[0m:\u001b[36m7\u001b[0m - \u001b[1mModel evaluation - MAE: 40.12, R²: 0.4474\u001b[0m\n",
      "\n",
      "===== Mean Absolute Error (MAE): 40.12 =====\n",
      "📊 GOOD: The model's predictions are typically within 60 days of the actual confirmation time.\n",
      "🔍 TAKEAWAY: The model provides valuable insights but has moderate error margins.\n",
      "\n",
      "===== R² Score: 0.4474 =====\n",
      "📊 FAIR: The model explains between 30-50% of the variance in confirmation times.\n",
      "🔍 TAKEAWAY: The model identifies some patterns but misses many important factors.\n",
      "\n",
      "===== Interpretation in Context =====\n",
      "• The average nomination takes 111 days to confirm\n",
      "• With a standard deviation of 85 days\n",
      "• Our model's error (MAE) is 40 days, which is 47% of the standard deviation\n",
      "• This means our model outperforms a baseline model that always predicts the average\n",
      "\n",
      "===== Recommended Next Steps =====\n",
      "1. Tune hyperparameters to optimize model performance\n",
      "2. Explore feature importance to understand key drivers\n",
      "3. Consider ensemble methods to improve predictions\n"
     ]
    }
   ],
   "source": [
    "from sklearn.metrics import mean_absolute_error, r2_score\n",
    "\n",
    "from nomination_predictor.modeling.predict import interpret_results\n",
    "\n",
    "mae = mean_absolute_error(y_test, y_pred)\n",
    "r2 = r2_score(y_test, y_pred)\n",
    "logger.info(f\"Model evaluation - MAE: {mae:.2f}, R²: {r2:.4f}\")\n",
    "\n",
    "interpret_results(mae, r2, y_train)"
   ]
  },
  {
   "cell_type": "markdown",
   "id": "7f6567dd",
   "metadata": {},
   "source": [
    "# Saving the trained model"
   ]
  },
  {
   "cell_type": "code",
   "execution_count": null,
   "id": "aa7b63db",
   "metadata": {},
   "outputs": [
    {
     "name": "stdout",
     "output_type": "stream",
     "text": [
      "\u001b[32m2025-07-17 10:22:20.968\u001b[0m | \u001b[1mINFO    \u001b[0m | \u001b[36mnomination_predictor.modeling.train\u001b[0m:\u001b[36msave_model_with_metadata\u001b[0m:\u001b[36m120\u001b[0m - \u001b[1mModel saved to /home/wsl2ubuntuuser/nomination_predictor/models/xgboost_regression_2025-07-17_102220.pkl with metadata\u001b[0m\n"
     ]
    }
   ],
   "source": [
    "from nomination_predictor.modeling.train import save_model_with_metadata\n",
    "\n",
    "model_file = save_model_with_metadata(\n",
    "    pipeline, \n",
    "    \"xgboost_regression\",\n",
    "    metadata={\n",
    "        'description': 'XGBoost regression model for nomination confirmation time prediction',\n",
    "        'parameters': {\n",
    "            'n_estimators': NUM_ESTIMATORS,\n",
    "            'learning_rate': LEARNING_RATE,\n",
    "            'max_depth': MAX_DEPTH\n",
    "        }\n",
    "    },\n",
    "    X_train=X_train,\n",
    "    y_train=y_train,\n",
    "    mae=mae,\n",
    "    r2=r2\n",
    ")"
   ]
  },
  {
   "cell_type": "markdown",
   "id": "52c68ac4",
   "metadata": {},
   "source": [
    "# Model tuning via randomized hyper-parameter search"
   ]
  },
  {
   "cell_type": "code",
   "execution_count": null,
   "id": "81d085e3",
   "metadata": {},
   "outputs": [
    {
     "name": "stdout",
     "output_type": "stream",
     "text": [
      "Fitting 3 folds for each of 120 candidates, totalling 360 fits\n"
     ]
    },
    {
     "name": "stderr",
     "output_type": "stream",
     "text": [
      "/home/wsl2ubuntuuser/.virtualenvs/nomination_predictor/lib/python3.12/site-packages/xgboost/core.py:729: UserWarning: [10:22:41] WARNING: /workspace/src/common/error_msg.cc:58: Falling back to prediction using DMatrix due to mismatched devices. This might lead to higher memory usage and slower performance. XGBoost is running on: cuda:0, while the input data is on: cpu.\n",
      "Potential solutions:\n",
      "- Use a data structure that matches the device ordinal in the booster.\n",
      "- Set the device for booster before call to inplace_predict.\n",
      "\n",
      "This warning will only be shown once.\n",
      "\n",
      "  return func(**kwargs)\n"
     ]
    },
    {
     "name": "stdout",
     "output_type": "stream",
     "text": [
      "[CV] END model__colsample_bytree=0.7265115238644736, model__gamma=0.22648248189516848, model__learning_rate=0.07259248719561363, model__max_depth=8, model__min_child_weight=5, model__n_estimators=2638, model__reg_alpha=0.02175195311877764, model__reg_lambda=0.6294263501482736, model__subsample=0.7586387864371679; total time=  15.4s\n",
      "[CV] END model__colsample_bytree=0.7265115238644736, model__gamma=0.22648248189516848, model__learning_rate=0.07259248719561363, model__max_depth=8, model__min_child_weight=5, model__n_estimators=2638, model__reg_alpha=0.02175195311877764, model__reg_lambda=0.6294263501482736, model__subsample=0.7586387864371679; total time=  13.8s\n",
      "[CV] END model__colsample_bytree=0.7265115238644736, model__gamma=0.22648248189516848, model__learning_rate=0.07259248719561363, model__max_depth=8, model__min_child_weight=5, model__n_estimators=2638, model__reg_alpha=0.02175195311877764, model__reg_lambda=0.6294263501482736, model__subsample=0.7586387864371679; total time=  29.0s\n",
      "[CV] END model__colsample_bytree=0.7115150463402469, model__gamma=0.0022589074163015753, model__learning_rate=0.058277946932662986, model__max_depth=8, model__min_child_weight=2, model__n_estimators=3391, model__reg_alpha=0.31428808908401085, model__reg_lambda=0.8152843673110735, model__subsample=0.6583985898029169; total time=  20.9s\n",
      "[CV] END model__colsample_bytree=0.7115150463402469, model__gamma=0.0022589074163015753, model__learning_rate=0.058277946932662986, model__max_depth=8, model__min_child_weight=2, model__n_estimators=3391, model__reg_alpha=0.31428808908401085, model__reg_lambda=0.8152843673110735, model__subsample=0.6583985898029169; total time=  20.1s\n",
      "[CV] END model__colsample_bytree=0.7115150463402469, model__gamma=0.0022589074163015753, model__learning_rate=0.058277946932662986, model__max_depth=8, model__min_child_weight=2, model__n_estimators=3391, model__reg_alpha=0.31428808908401085, model__reg_lambda=0.8152843673110735, model__subsample=0.6583985898029169; total time=  20.9s\n",
      "[CV] END model__colsample_bytree=0.6589300468174546, model__gamma=0.005670807781371429, model__learning_rate=0.04141536110538596, model__max_depth=7, model__min_child_weight=1, model__n_estimators=4632, model__reg_alpha=0.03752528339573976, model__reg_lambda=1.2555412219635882, model__subsample=0.6144746479303248; total time=  19.7s\n",
      "[CV] END model__colsample_bytree=0.6589300468174546, model__gamma=0.005670807781371429, model__learning_rate=0.04141536110538596, model__max_depth=7, model__min_child_weight=1, model__n_estimators=4632, model__reg_alpha=0.03752528339573976, model__reg_lambda=1.2555412219635882, model__subsample=0.6144746479303248; total time=  19.5s\n",
      "[CV] END model__colsample_bytree=0.6589300468174546, model__gamma=0.005670807781371429, model__learning_rate=0.04141536110538596, model__max_depth=7, model__min_child_weight=1, model__n_estimators=4632, model__reg_alpha=0.03752528339573976, model__reg_lambda=1.2555412219635882, model__subsample=0.6144746479303248; total time=  20.0s\n",
      "[CV] END model__colsample_bytree=0.9866831114526367, model__gamma=0.003772270565370873, model__learning_rate=0.012780899964811066, model__max_depth=9, model__min_child_weight=3, model__n_estimators=2899, model__reg_alpha=0.034890188454913866, model__reg_lambda=1.9560708142748473, model__subsample=0.6144070867974674; total time=  18.1s\n",
      "[CV] END model__colsample_bytree=0.9866831114526367, model__gamma=0.003772270565370873, model__learning_rate=0.012780899964811066, model__max_depth=9, model__min_child_weight=3, model__n_estimators=2899, model__reg_alpha=0.034890188454913866, model__reg_lambda=1.9560708142748473, model__subsample=0.6144070867974674; total time=  18.2s\n",
      "[CV] END model__colsample_bytree=0.9866831114526367, model__gamma=0.003772270565370873, model__learning_rate=0.012780899964811066, model__max_depth=9, model__min_child_weight=3, model__n_estimators=2899, model__reg_alpha=0.034890188454913866, model__reg_lambda=1.9560708142748473, model__subsample=0.6144070867974674; total time=  18.0s\n",
      "[CV] END model__colsample_bytree=0.8183410106404391, model__gamma=0.0026448980183927102, model__learning_rate=0.011926324174062874, model__max_depth=7, model__min_child_weight=1, model__n_estimators=3363, model__reg_alpha=0.04896262051737683, model__reg_lambda=1.2144692047053403, model__subsample=0.6049135927716234; total time=  16.7s\n",
      "[CV] END model__colsample_bytree=0.8183410106404391, model__gamma=0.0026448980183927102, model__learning_rate=0.011926324174062874, model__max_depth=7, model__min_child_weight=1, model__n_estimators=3363, model__reg_alpha=0.04896262051737683, model__reg_lambda=1.2144692047053403, model__subsample=0.6049135927716234; total time=  16.9s\n",
      "[CV] END model__colsample_bytree=0.8183410106404391, model__gamma=0.0026448980183927102, model__learning_rate=0.011926324174062874, model__max_depth=7, model__min_child_weight=1, model__n_estimators=3363, model__reg_alpha=0.04896262051737683, model__reg_lambda=1.2144692047053403, model__subsample=0.6049135927716234; total time=  15.9s\n",
      "[CV] END model__colsample_bytree=0.6751103356342772, model__gamma=0.00395411508014243, model__learning_rate=0.06361803520515587, model__max_depth=7, model__min_child_weight=5, model__n_estimators=1775, model__reg_alpha=0.00126813521690846, model__reg_lambda=4.057797837985249, model__subsample=0.6847960801527393; total time=   8.7s\n",
      "[CV] END model__colsample_bytree=0.6751103356342772, model__gamma=0.00395411508014243, model__learning_rate=0.06361803520515587, model__max_depth=7, model__min_child_weight=5, model__n_estimators=1775, model__reg_alpha=0.00126813521690846, model__reg_lambda=4.057797837985249, model__subsample=0.6847960801527393; total time=   9.1s\n",
      "[CV] END model__colsample_bytree=0.6751103356342772, model__gamma=0.00395411508014243, model__learning_rate=0.06361803520515587, model__max_depth=7, model__min_child_weight=5, model__n_estimators=1775, model__reg_alpha=0.00126813521690846, model__reg_lambda=4.057797837985249, model__subsample=0.6847960801527393; total time=   9.8s\n",
      "[CV] END model__colsample_bytree=0.8416489593130831, model__gamma=0.005917607170144194, model__learning_rate=0.04089285700048085, model__max_depth=5, model__min_child_weight=4, model__n_estimators=4893, model__reg_alpha=0.0012414804282743956, model__reg_lambda=3.4774010340634494, model__subsample=0.754968171144664; total time=  20.8s\n",
      "[CV] END model__colsample_bytree=0.8416489593130831, model__gamma=0.005917607170144194, model__learning_rate=0.04089285700048085, model__max_depth=5, model__min_child_weight=4, model__n_estimators=4893, model__reg_alpha=0.0012414804282743956, model__reg_lambda=3.4774010340634494, model__subsample=0.754968171144664; total time=  21.1s\n",
      "[CV] END model__colsample_bytree=0.8416489593130831, model__gamma=0.005917607170144194, model__learning_rate=0.04089285700048085, model__max_depth=5, model__min_child_weight=4, model__n_estimators=4893, model__reg_alpha=0.0012414804282743956, model__reg_lambda=3.4774010340634494, model__subsample=0.754968171144664; total time=  20.9s\n",
      "[CV] END model__colsample_bytree=0.734200770866586, model__gamma=0.1974451054660558, model__learning_rate=0.07167013743618683, model__max_depth=9, model__min_child_weight=7, model__n_estimators=2275, model__reg_alpha=0.0013667272915456222, model__reg_lambda=1.0575486010842792, model__subsample=0.7317771108104666; total time=  13.7s\n",
      "[CV] END model__colsample_bytree=0.734200770866586, model__gamma=0.1974451054660558, model__learning_rate=0.07167013743618683, model__max_depth=9, model__min_child_weight=7, model__n_estimators=2275, model__reg_alpha=0.0013667272915456222, model__reg_lambda=1.0575486010842792, model__subsample=0.7317771108104666; total time=  13.3s\n",
      "[CV] END model__colsample_bytree=0.734200770866586, model__gamma=0.1974451054660558, model__learning_rate=0.07167013743618683, model__max_depth=9, model__min_child_weight=7, model__n_estimators=2275, model__reg_alpha=0.0013667272915456222, model__reg_lambda=1.0575486010842792, model__subsample=0.7317771108104666; total time=  13.2s\n",
      "[CV] END model__colsample_bytree=0.6892070222784268, model__gamma=0.11294923622078903, model__learning_rate=0.026276920623647244, model__max_depth=7, model__min_child_weight=4, model__n_estimators=1379, model__reg_alpha=0.006729728537157748, model__reg_lambda=0.9891075343591783, model__subsample=0.6528531654141293; total time=   7.0s\n",
      "[CV] END model__colsample_bytree=0.6892070222784268, model__gamma=0.11294923622078903, model__learning_rate=0.026276920623647244, model__max_depth=7, model__min_child_weight=4, model__n_estimators=1379, model__reg_alpha=0.006729728537157748, model__reg_lambda=0.9891075343591783, model__subsample=0.6528531654141293; total time=   6.8s\n",
      "[CV] END model__colsample_bytree=0.6892070222784268, model__gamma=0.11294923622078903, model__learning_rate=0.026276920623647244, model__max_depth=7, model__min_child_weight=4, model__n_estimators=1379, model__reg_alpha=0.006729728537157748, model__reg_lambda=0.9891075343591783, model__subsample=0.6528531654141293; total time=   6.6s\n",
      "[CV] END model__colsample_bytree=0.6048116773358152, model__gamma=0.011189657849413852, model__learning_rate=0.02913511266834843, model__max_depth=6, model__min_child_weight=3, model__n_estimators=3640, model__reg_alpha=0.13615257464006505, model__reg_lambda=3.0842213904640188, model__subsample=0.8176787532761264; total time=  16.2s\n",
      "[CV] END model__colsample_bytree=0.6048116773358152, model__gamma=0.011189657849413852, model__learning_rate=0.02913511266834843, model__max_depth=6, model__min_child_weight=3, model__n_estimators=3640, model__reg_alpha=0.13615257464006505, model__reg_lambda=3.0842213904640188, model__subsample=0.8176787532761264; total time=  16.2s\n",
      "[CV] END model__colsample_bytree=0.6048116773358152, model__gamma=0.011189657849413852, model__learning_rate=0.02913511266834843, model__max_depth=6, model__min_child_weight=3, model__n_estimators=3640, model__reg_alpha=0.13615257464006505, model__reg_lambda=3.0842213904640188, model__subsample=0.8176787532761264; total time=  16.5s\n",
      "[CV] END model__colsample_bytree=0.9630524536113377, model__gamma=0.04100121611923941, model__learning_rate=0.11914507000933533, model__max_depth=4, model__min_child_weight=4, model__n_estimators=3977, model__reg_alpha=0.0019329933033819652, model__reg_lambda=1.1743248646248612, model__subsample=0.8443700997632752; total time=  14.3s\n",
      "[CV] END model__colsample_bytree=0.9630524536113377, model__gamma=0.04100121611923941, model__learning_rate=0.11914507000933533, model__max_depth=4, model__min_child_weight=4, model__n_estimators=3977, model__reg_alpha=0.0019329933033819652, model__reg_lambda=1.1743248646248612, model__subsample=0.8443700997632752; total time=  14.7s\n",
      "[CV] END model__colsample_bytree=0.9630524536113377, model__gamma=0.04100121611923941, model__learning_rate=0.11914507000933533, model__max_depth=4, model__min_child_weight=4, model__n_estimators=3977, model__reg_alpha=0.0019329933033819652, model__reg_lambda=1.1743248646248612, model__subsample=0.8443700997632752; total time=  14.9s\n",
      "[CV] END model__colsample_bytree=0.8431120424933607, model__gamma=0.02915521965915142, model__learning_rate=0.021042527305699055, model__max_depth=6, model__min_child_weight=1, model__n_estimators=4810, model__reg_alpha=0.0022844556850020537, model__reg_lambda=2.583537630011637, model__subsample=0.8849738992744014; total time=  21.6s\n",
      "[CV] END model__colsample_bytree=0.8431120424933607, model__gamma=0.02915521965915142, model__learning_rate=0.021042527305699055, model__max_depth=6, model__min_child_weight=1, model__n_estimators=4810, model__reg_alpha=0.0022844556850020537, model__reg_lambda=2.583537630011637, model__subsample=0.8849738992744014; total time=  20.8s\n",
      "[CV] END model__colsample_bytree=0.8431120424933607, model__gamma=0.02915521965915142, model__learning_rate=0.021042527305699055, model__max_depth=6, model__min_child_weight=1, model__n_estimators=4810, model__reg_alpha=0.0022844556850020537, model__reg_lambda=2.583537630011637, model__subsample=0.8849738992744014; total time=  20.8s\n",
      "[CV] END model__colsample_bytree=0.7992265358272701, model__gamma=0.08124173472387221, model__learning_rate=0.038084537392208434, model__max_depth=4, model__min_child_weight=7, model__n_estimators=2038, model__reg_alpha=0.0021511587551819597, model__reg_lambda=1.3750120565008228, model__subsample=0.665123669523971; total time=   6.5s\n",
      "[CV] END model__colsample_bytree=0.7992265358272701, model__gamma=0.08124173472387221, model__learning_rate=0.038084537392208434, model__max_depth=4, model__min_child_weight=7, model__n_estimators=2038, model__reg_alpha=0.0021511587551819597, model__reg_lambda=1.3750120565008228, model__subsample=0.665123669523971; total time=   7.6s\n",
      "[CV] END model__colsample_bytree=0.7992265358272701, model__gamma=0.08124173472387221, model__learning_rate=0.038084537392208434, model__max_depth=4, model__min_child_weight=7, model__n_estimators=2038, model__reg_alpha=0.0021511587551819597, model__reg_lambda=1.3750120565008228, model__subsample=0.665123669523971; total time=   7.4s\n",
      "[CV] END model__colsample_bytree=0.9481461459075258, model__gamma=0.015050456876242605, model__learning_rate=0.045968832797099735, model__max_depth=7, model__min_child_weight=6, model__n_estimators=3532, model__reg_alpha=0.005595986878006083, model__reg_lambda=1.2863315666249775, model__subsample=0.8826109796246998; total time=  17.5s\n",
      "[CV] END model__colsample_bytree=0.9481461459075258, model__gamma=0.015050456876242605, model__learning_rate=0.045968832797099735, model__max_depth=7, model__min_child_weight=6, model__n_estimators=3532, model__reg_alpha=0.005595986878006083, model__reg_lambda=1.2863315666249775, model__subsample=0.8826109796246998; total time=  16.8s\n",
      "[CV] END model__colsample_bytree=0.9481461459075258, model__gamma=0.015050456876242605, model__learning_rate=0.045968832797099735, model__max_depth=7, model__min_child_weight=6, model__n_estimators=3532, model__reg_alpha=0.005595986878006083, model__reg_lambda=1.2863315666249775, model__subsample=0.8826109796246998; total time=  17.3s\n",
      "[CV] END model__colsample_bytree=0.6743880053174732, model__gamma=0.0015512742044130146, model__learning_rate=0.02191664893471126, model__max_depth=9, model__min_child_weight=4, model__n_estimators=3625, model__reg_alpha=0.07465555774745708, model__reg_lambda=0.9876514147553049, model__subsample=0.6332205782521236; total time=  21.0s\n",
      "[CV] END model__colsample_bytree=0.6743880053174732, model__gamma=0.0015512742044130146, model__learning_rate=0.02191664893471126, model__max_depth=9, model__min_child_weight=4, model__n_estimators=3625, model__reg_alpha=0.07465555774745708, model__reg_lambda=0.9876514147553049, model__subsample=0.6332205782521236; total time=  20.5s\n",
      "[CV] END model__colsample_bytree=0.6743880053174732, model__gamma=0.0015512742044130146, model__learning_rate=0.02191664893471126, model__max_depth=9, model__min_child_weight=4, model__n_estimators=3625, model__reg_alpha=0.07465555774745708, model__reg_lambda=0.9876514147553049, model__subsample=0.6332205782521236; total time=  21.7s\n",
      "[CV] END model__colsample_bytree=0.7575876285550973, model__gamma=0.003476189551971128, model__learning_rate=0.030892546496004765, model__max_depth=9, model__min_child_weight=3, model__n_estimators=2663, model__reg_alpha=0.26443593078398636, model__reg_lambda=3.9360563222625315, model__subsample=0.7058296918217232; total time=  16.0s\n",
      "[CV] END model__colsample_bytree=0.7575876285550973, model__gamma=0.003476189551971128, model__learning_rate=0.030892546496004765, model__max_depth=9, model__min_child_weight=3, model__n_estimators=2663, model__reg_alpha=0.26443593078398636, model__reg_lambda=3.9360563222625315, model__subsample=0.7058296918217232; total time=  16.7s\n",
      "[CV] END model__colsample_bytree=0.7575876285550973, model__gamma=0.003476189551971128, model__learning_rate=0.030892546496004765, model__max_depth=9, model__min_child_weight=3, model__n_estimators=2663, model__reg_alpha=0.26443593078398636, model__reg_lambda=3.9360563222625315, model__subsample=0.7058296918217232; total time=  16.4s\n",
      "[CV] END model__colsample_bytree=0.6346965420985852, model__gamma=0.0036696364068833334, model__learning_rate=0.03179199173618693, model__max_depth=7, model__min_child_weight=5, model__n_estimators=2768, model__reg_alpha=0.008210011670618585, model__reg_lambda=0.7305094820630076, model__subsample=0.7882034296662735; total time=  14.6s\n",
      "[CV] END model__colsample_bytree=0.6346965420985852, model__gamma=0.0036696364068833334, model__learning_rate=0.03179199173618693, model__max_depth=7, model__min_child_weight=5, model__n_estimators=2768, model__reg_alpha=0.008210011670618585, model__reg_lambda=0.7305094820630076, model__subsample=0.7882034296662735; total time=  14.3s\n",
      "[CV] END model__colsample_bytree=0.6346965420985852, model__gamma=0.0036696364068833334, model__learning_rate=0.03179199173618693, model__max_depth=7, model__min_child_weight=5, model__n_estimators=2768, model__reg_alpha=0.008210011670618585, model__reg_lambda=0.7305094820630076, model__subsample=0.7882034296662735; total time=  13.9s\n",
      "[CV] END model__colsample_bytree=0.7686173318374202, model__gamma=0.051909639713710286, model__learning_rate=0.02074213663939153, model__max_depth=6, model__min_child_weight=6, model__n_estimators=4743, model__reg_alpha=0.03600575029200901, model__reg_lambda=2.5234166438279253, model__subsample=0.7224736680170802; total time=  22.4s\n",
      "[CV] END model__colsample_bytree=0.7686173318374202, model__gamma=0.051909639713710286, model__learning_rate=0.02074213663939153, model__max_depth=6, model__min_child_weight=6, model__n_estimators=4743, model__reg_alpha=0.03600575029200901, model__reg_lambda=2.5234166438279253, model__subsample=0.7224736680170802; total time=  21.0s\n",
      "[CV] END model__colsample_bytree=0.7686173318374202, model__gamma=0.051909639713710286, model__learning_rate=0.02074213663939153, model__max_depth=6, model__min_child_weight=6, model__n_estimators=4743, model__reg_alpha=0.03600575029200901, model__reg_lambda=2.5234166438279253, model__subsample=0.7224736680170802; total time=  21.8s\n",
      "[CV] END model__colsample_bytree=0.9856889554070294, model__gamma=0.24215790507263865, model__learning_rate=0.019775112246860765, model__max_depth=5, model__min_child_weight=3, model__n_estimators=4184, model__reg_alpha=0.0027813829613946117, model__reg_lambda=4.974053926456404, model__subsample=0.6876006599131045; total time=  16.7s\n",
      "[CV] END model__colsample_bytree=0.9856889554070294, model__gamma=0.24215790507263865, model__learning_rate=0.019775112246860765, model__max_depth=5, model__min_child_weight=3, model__n_estimators=4184, model__reg_alpha=0.0027813829613946117, model__reg_lambda=4.974053926456404, model__subsample=0.6876006599131045; total time=  16.1s\n",
      "[CV] END model__colsample_bytree=0.9856889554070294, model__gamma=0.24215790507263865, model__learning_rate=0.019775112246860765, model__max_depth=5, model__min_child_weight=3, model__n_estimators=4184, model__reg_alpha=0.0027813829613946117, model__reg_lambda=4.974053926456404, model__subsample=0.6876006599131045; total time=  16.6s\n",
      "[CV] END model__colsample_bytree=0.9881253865988636, model__gamma=0.010427699854447888, model__learning_rate=0.010936306621854942, model__max_depth=4, model__min_child_weight=1, model__n_estimators=4474, model__reg_alpha=0.11018344696523026, model__reg_lambda=1.6978705977224349, model__subsample=0.7542084355832479; total time=  16.0s\n",
      "[CV] END model__colsample_bytree=0.9881253865988636, model__gamma=0.010427699854447888, model__learning_rate=0.010936306621854942, model__max_depth=4, model__min_child_weight=1, model__n_estimators=4474, model__reg_alpha=0.11018344696523026, model__reg_lambda=1.6978705977224349, model__subsample=0.7542084355832479; total time=  17.6s\n",
      "[CV] END model__colsample_bytree=0.9881253865988636, model__gamma=0.010427699854447888, model__learning_rate=0.010936306621854942, model__max_depth=4, model__min_child_weight=1, model__n_estimators=4474, model__reg_alpha=0.11018344696523026, model__reg_lambda=1.6978705977224349, model__subsample=0.7542084355832479; total time=  16.7s\n",
      "[CV] END model__colsample_bytree=0.795810913933945, model__gamma=0.029388786394944258, model__learning_rate=0.012447750945311262, model__max_depth=6, model__min_child_weight=1, model__n_estimators=1766, model__reg_alpha=0.2566960992206888, model__reg_lambda=1.476626434179517, model__subsample=0.9915678671560727; total time=   8.0s\n",
      "[CV] END model__colsample_bytree=0.795810913933945, model__gamma=0.029388786394944258, model__learning_rate=0.012447750945311262, model__max_depth=6, model__min_child_weight=1, model__n_estimators=1766, model__reg_alpha=0.2566960992206888, model__reg_lambda=1.476626434179517, model__subsample=0.9915678671560727; total time=   8.6s\n",
      "[CV] END model__colsample_bytree=0.795810913933945, model__gamma=0.029388786394944258, model__learning_rate=0.012447750945311262, model__max_depth=6, model__min_child_weight=1, model__n_estimators=1766, model__reg_alpha=0.2566960992206888, model__reg_lambda=1.476626434179517, model__subsample=0.9915678671560727; total time=   8.4s\n",
      "[CV] END model__colsample_bytree=0.7355800707112844, model__gamma=0.10529330219369645, model__learning_rate=0.08688138253867846, model__max_depth=4, model__min_child_weight=4, model__n_estimators=1186, model__reg_alpha=0.003627066608804411, model__reg_lambda=0.5492184850853742, model__subsample=0.8114095427098849; total time=   4.3s\n",
      "[CV] END model__colsample_bytree=0.7355800707112844, model__gamma=0.10529330219369645, model__learning_rate=0.08688138253867846, model__max_depth=4, model__min_child_weight=4, model__n_estimators=1186, model__reg_alpha=0.003627066608804411, model__reg_lambda=0.5492184850853742, model__subsample=0.8114095427098849; total time=   4.3s\n",
      "[CV] END model__colsample_bytree=0.7355800707112844, model__gamma=0.10529330219369645, model__learning_rate=0.08688138253867846, model__max_depth=4, model__min_child_weight=4, model__n_estimators=1186, model__reg_alpha=0.003627066608804411, model__reg_lambda=0.5492184850853742, model__subsample=0.8114095427098849; total time=   4.5s\n",
      "[CV] END model__colsample_bytree=0.8481409978295625, model__gamma=0.0010992337739283895, model__learning_rate=0.040019178531852884, model__max_depth=6, model__min_child_weight=4, model__n_estimators=3911, model__reg_alpha=0.0019432543711278849, model__reg_lambda=4.360068062341631, model__subsample=0.7351096199491276; total time=  18.0s\n",
      "[CV] END model__colsample_bytree=0.8481409978295625, model__gamma=0.0010992337739283895, model__learning_rate=0.040019178531852884, model__max_depth=6, model__min_child_weight=4, model__n_estimators=3911, model__reg_alpha=0.0019432543711278849, model__reg_lambda=4.360068062341631, model__subsample=0.7351096199491276; total time=  17.5s\n",
      "[CV] END model__colsample_bytree=0.8481409978295625, model__gamma=0.0010992337739283895, model__learning_rate=0.040019178531852884, model__max_depth=6, model__min_child_weight=4, model__n_estimators=3911, model__reg_alpha=0.0019432543711278849, model__reg_lambda=4.360068062341631, model__subsample=0.7351096199491276; total time=  18.1s\n",
      "[CV] END model__colsample_bytree=0.7816525339427708, model__gamma=0.11888019495707808, model__learning_rate=0.062326571913376275, model__max_depth=4, model__min_child_weight=1, model__n_estimators=2969, model__reg_alpha=0.5944028113410929, model__reg_lambda=3.769722291566139, model__subsample=0.6845028772062764; total time=  12.9s\n",
      "[CV] END model__colsample_bytree=0.7816525339427708, model__gamma=0.11888019495707808, model__learning_rate=0.062326571913376275, model__max_depth=4, model__min_child_weight=1, model__n_estimators=2969, model__reg_alpha=0.5944028113410929, model__reg_lambda=3.769722291566139, model__subsample=0.6845028772062764; total time=  10.7s\n",
      "[CV] END model__colsample_bytree=0.7816525339427708, model__gamma=0.11888019495707808, model__learning_rate=0.062326571913376275, model__max_depth=4, model__min_child_weight=1, model__n_estimators=2969, model__reg_alpha=0.5944028113410929, model__reg_lambda=3.769722291566139, model__subsample=0.6845028772062764; total time=  10.3s\n",
      "[CV] END model__colsample_bytree=0.8405583868211871, model__gamma=0.10576902036995886, model__learning_rate=0.044974549472456764, model__max_depth=7, model__min_child_weight=1, model__n_estimators=3049, model__reg_alpha=0.9744534538859257, model__reg_lambda=4.617313424975016, model__subsample=0.798009304295064; total time=  15.2s\n",
      "[CV] END model__colsample_bytree=0.8405583868211871, model__gamma=0.10576902036995886, model__learning_rate=0.044974549472456764, model__max_depth=7, model__min_child_weight=1, model__n_estimators=3049, model__reg_alpha=0.9744534538859257, model__reg_lambda=4.617313424975016, model__subsample=0.798009304295064; total time=  15.5s\n",
      "[CV] END model__colsample_bytree=0.8405583868211871, model__gamma=0.10576902036995886, model__learning_rate=0.044974549472456764, model__max_depth=7, model__min_child_weight=1, model__n_estimators=3049, model__reg_alpha=0.9744534538859257, model__reg_lambda=4.617313424975016, model__subsample=0.798009304295064; total time=  27.1s\n",
      "[CV] END model__colsample_bytree=0.9418093973036623, model__gamma=0.002933934331007504, model__learning_rate=0.021280320287467003, model__max_depth=6, model__min_child_weight=3, model__n_estimators=1403, model__reg_alpha=0.45841547801363786, model__reg_lambda=3.01193468785184, model__subsample=0.8328852448067272; total time=   8.3s\n",
      "[CV] END model__colsample_bytree=0.9418093973036623, model__gamma=0.002933934331007504, model__learning_rate=0.021280320287467003, model__max_depth=6, model__min_child_weight=3, model__n_estimators=1403, model__reg_alpha=0.45841547801363786, model__reg_lambda=3.01193468785184, model__subsample=0.8328852448067272; total time=   6.8s\n",
      "[CV] END model__colsample_bytree=0.9418093973036623, model__gamma=0.002933934331007504, model__learning_rate=0.021280320287467003, model__max_depth=6, model__min_child_weight=3, model__n_estimators=1403, model__reg_alpha=0.45841547801363786, model__reg_lambda=3.01193468785184, model__subsample=0.8328852448067272; total time=   8.1s\n",
      "[CV] END model__colsample_bytree=0.6263507422428465, model__gamma=0.0025140500710472773, model__learning_rate=0.11396768507266505, model__max_depth=7, model__min_child_weight=6, model__n_estimators=4298, model__reg_alpha=0.013087247018378012, model__reg_lambda=4.356156228118298, model__subsample=0.9866369026531481; total time=  25.7s\n",
      "[CV] END model__colsample_bytree=0.6263507422428465, model__gamma=0.0025140500710472773, model__learning_rate=0.11396768507266505, model__max_depth=7, model__min_child_weight=6, model__n_estimators=4298, model__reg_alpha=0.013087247018378012, model__reg_lambda=4.356156228118298, model__subsample=0.9866369026531481; total time=  21.4s\n",
      "[CV] END model__colsample_bytree=0.6263507422428465, model__gamma=0.0025140500710472773, model__learning_rate=0.11396768507266505, model__max_depth=7, model__min_child_weight=6, model__n_estimators=4298, model__reg_alpha=0.013087247018378012, model__reg_lambda=4.356156228118298, model__subsample=0.9866369026531481; total time=  25.7s\n",
      "[CV] END model__colsample_bytree=0.6936474013907576, model__gamma=0.005707202850194799, model__learning_rate=0.03724998402815916, model__max_depth=6, model__min_child_weight=5, model__n_estimators=2704, model__reg_alpha=0.003371131999605198, model__reg_lambda=0.5212491598086055, model__subsample=0.7721842754798366; total time=  15.1s\n",
      "[CV] END model__colsample_bytree=0.6936474013907576, model__gamma=0.005707202850194799, model__learning_rate=0.03724998402815916, model__max_depth=6, model__min_child_weight=5, model__n_estimators=2704, model__reg_alpha=0.003371131999605198, model__reg_lambda=0.5212491598086055, model__subsample=0.7721842754798366; total time=  15.0s\n",
      "[CV] END model__colsample_bytree=0.6936474013907576, model__gamma=0.005707202850194799, model__learning_rate=0.03724998402815916, model__max_depth=6, model__min_child_weight=5, model__n_estimators=2704, model__reg_alpha=0.003371131999605198, model__reg_lambda=0.5212491598086055, model__subsample=0.7721842754798366; total time=  14.2s\n",
      "[CV] END model__colsample_bytree=0.6573896236589493, model__gamma=0.008087003209719532, model__learning_rate=0.07502611310055989, model__max_depth=6, model__min_child_weight=1, model__n_estimators=1639, model__reg_alpha=0.05069041070711456, model__reg_lambda=0.6203614068053567, model__subsample=0.7239832883158153; total time=   8.7s\n",
      "[CV] END model__colsample_bytree=0.6573896236589493, model__gamma=0.008087003209719532, model__learning_rate=0.07502611310055989, model__max_depth=6, model__min_child_weight=1, model__n_estimators=1639, model__reg_alpha=0.05069041070711456, model__reg_lambda=0.6203614068053567, model__subsample=0.7239832883158153; total time=   8.2s\n",
      "[CV] END model__colsample_bytree=0.6573896236589493, model__gamma=0.008087003209719532, model__learning_rate=0.07502611310055989, model__max_depth=6, model__min_child_weight=1, model__n_estimators=1639, model__reg_alpha=0.05069041070711456, model__reg_lambda=0.6203614068053567, model__subsample=0.7239832883158153; total time=   8.8s\n",
      "[CV] END model__colsample_bytree=0.6870463932261657, model__gamma=0.004021535729341345, model__learning_rate=0.13942774658666882, model__max_depth=8, model__min_child_weight=3, model__n_estimators=3485, model__reg_alpha=0.5227527945418862, model__reg_lambda=1.3594535396837082, model__subsample=0.7174897603148732; total time=  19.7s\n",
      "[CV] END model__colsample_bytree=0.6870463932261657, model__gamma=0.004021535729341345, model__learning_rate=0.13942774658666882, model__max_depth=8, model__min_child_weight=3, model__n_estimators=3485, model__reg_alpha=0.5227527945418862, model__reg_lambda=1.3594535396837082, model__subsample=0.7174897603148732; total time=  17.7s\n",
      "[CV] END model__colsample_bytree=0.6870463932261657, model__gamma=0.004021535729341345, model__learning_rate=0.13942774658666882, model__max_depth=8, model__min_child_weight=3, model__n_estimators=3485, model__reg_alpha=0.5227527945418862, model__reg_lambda=1.3594535396837082, model__subsample=0.7174897603148732; total time=  17.4s\n",
      "[CV] END model__colsample_bytree=0.8341931602187812, model__gamma=0.045394789438438554, model__learning_rate=0.10383408008599965, model__max_depth=7, model__min_child_weight=5, model__n_estimators=1815, model__reg_alpha=0.0069553195441582885, model__reg_lambda=0.5287933327790854, model__subsample=0.8343503878090403; total time=   9.5s\n",
      "[CV] END model__colsample_bytree=0.8341931602187812, model__gamma=0.045394789438438554, model__learning_rate=0.10383408008599965, model__max_depth=7, model__min_child_weight=5, model__n_estimators=1815, model__reg_alpha=0.0069553195441582885, model__reg_lambda=0.5287933327790854, model__subsample=0.8343503878090403; total time=   9.8s\n",
      "[CV] END model__colsample_bytree=0.8341931602187812, model__gamma=0.045394789438438554, model__learning_rate=0.10383408008599965, model__max_depth=7, model__min_child_weight=5, model__n_estimators=1815, model__reg_alpha=0.0069553195441582885, model__reg_lambda=0.5287933327790854, model__subsample=0.8343503878090403; total time=  10.9s\n",
      "[CV] END model__colsample_bytree=0.6568149557438063, model__gamma=0.21361411611265246, model__learning_rate=0.1324058157024148, model__max_depth=8, model__min_child_weight=6, model__n_estimators=3146, model__reg_alpha=0.17504766488065068, model__reg_lambda=4.487886359575934, model__subsample=0.7104406319445661; total time=  18.4s\n",
      "[CV] END model__colsample_bytree=0.6568149557438063, model__gamma=0.21361411611265246, model__learning_rate=0.1324058157024148, model__max_depth=8, model__min_child_weight=6, model__n_estimators=3146, model__reg_alpha=0.17504766488065068, model__reg_lambda=4.487886359575934, model__subsample=0.7104406319445661; total time=  16.7s\n",
      "[CV] END model__colsample_bytree=0.6568149557438063, model__gamma=0.21361411611265246, model__learning_rate=0.1324058157024148, model__max_depth=8, model__min_child_weight=6, model__n_estimators=3146, model__reg_alpha=0.17504766488065068, model__reg_lambda=4.487886359575934, model__subsample=0.7104406319445661; total time=  19.5s\n",
      "[CV] END model__colsample_bytree=0.7957588313092983, model__gamma=0.02616000600229115, model__learning_rate=0.14221958485584066, model__max_depth=7, model__min_child_weight=7, model__n_estimators=3300, model__reg_alpha=0.01429858909444398, model__reg_lambda=3.5490055283205724, model__subsample=0.7054398691942537; total time=  17.0s\n",
      "[CV] END model__colsample_bytree=0.7957588313092983, model__gamma=0.02616000600229115, model__learning_rate=0.14221958485584066, model__max_depth=7, model__min_child_weight=7, model__n_estimators=3300, model__reg_alpha=0.01429858909444398, model__reg_lambda=3.5490055283205724, model__subsample=0.7054398691942537; total time=  17.4s\n",
      "[CV] END model__colsample_bytree=0.7957588313092983, model__gamma=0.02616000600229115, model__learning_rate=0.14221958485584066, model__max_depth=7, model__min_child_weight=7, model__n_estimators=3300, model__reg_alpha=0.01429858909444398, model__reg_lambda=3.5490055283205724, model__subsample=0.7054398691942537; total time=  18.2s\n",
      "[CV] END model__colsample_bytree=0.6542639696006808, model__gamma=0.023947723871890758, model__learning_rate=0.1261837549809126, model__max_depth=5, model__min_child_weight=3, model__n_estimators=2895, model__reg_alpha=0.0016264787461268897, model__reg_lambda=0.8088886133783391, model__subsample=0.8453637100408559; total time=  12.6s\n",
      "[CV] END model__colsample_bytree=0.6542639696006808, model__gamma=0.023947723871890758, model__learning_rate=0.1261837549809126, model__max_depth=5, model__min_child_weight=3, model__n_estimators=2895, model__reg_alpha=0.0016264787461268897, model__reg_lambda=0.8088886133783391, model__subsample=0.8453637100408559; total time=  14.4s\n",
      "[CV] END model__colsample_bytree=0.6542639696006808, model__gamma=0.023947723871890758, model__learning_rate=0.1261837549809126, model__max_depth=5, model__min_child_weight=3, model__n_estimators=2895, model__reg_alpha=0.0016264787461268897, model__reg_lambda=0.8088886133783391, model__subsample=0.8453637100408559; total time=  16.6s\n",
      "[CV] END model__colsample_bytree=0.7206370561283465, model__gamma=0.004261810914521975, model__learning_rate=0.022247882384342877, model__max_depth=5, model__min_child_weight=1, model__n_estimators=4175, model__reg_alpha=0.12332389221028006, model__reg_lambda=2.520310729538701, model__subsample=0.7209479525219765; total time=  19.6s\n",
      "[CV] END model__colsample_bytree=0.7206370561283465, model__gamma=0.004261810914521975, model__learning_rate=0.022247882384342877, model__max_depth=5, model__min_child_weight=1, model__n_estimators=4175, model__reg_alpha=0.12332389221028006, model__reg_lambda=2.520310729538701, model__subsample=0.7209479525219765; total time=  17.4s\n",
      "[CV] END model__colsample_bytree=0.7206370561283465, model__gamma=0.004261810914521975, model__learning_rate=0.022247882384342877, model__max_depth=5, model__min_child_weight=1, model__n_estimators=4175, model__reg_alpha=0.12332389221028006, model__reg_lambda=2.520310729538701, model__subsample=0.7209479525219765; total time= -17.3s\n",
      "[CV] END model__colsample_bytree=0.6970825864523281, model__gamma=0.10113133051262838, model__learning_rate=0.08969480340846722, model__max_depth=4, model__min_child_weight=5, model__n_estimators=3875, model__reg_alpha=0.03420008587735001, model__reg_lambda=1.5866688624644216, model__subsample=0.902094505595035; total time=  15.2s\n",
      "[CV] END model__colsample_bytree=0.6970825864523281, model__gamma=0.10113133051262838, model__learning_rate=0.08969480340846722, model__max_depth=4, model__min_child_weight=5, model__n_estimators=3875, model__reg_alpha=0.03420008587735001, model__reg_lambda=1.5866688624644216, model__subsample=0.902094505595035; total time=  15.1s\n",
      "[CV] END model__colsample_bytree=0.6970825864523281, model__gamma=0.10113133051262838, model__learning_rate=0.08969480340846722, model__max_depth=4, model__min_child_weight=5, model__n_estimators=3875, model__reg_alpha=0.03420008587735001, model__reg_lambda=1.5866688624644216, model__subsample=0.902094505595035; total time=  15.6s\n",
      "[CV] END model__colsample_bytree=0.836266954420318, model__gamma=0.05480965542341698, model__learning_rate=0.08628291372265715, model__max_depth=7, model__min_child_weight=3, model__n_estimators=3518, model__reg_alpha=0.0012101809594595495, model__reg_lambda=1.8959850119147212, model__subsample=0.7506304644031447; total time=  17.1s\n",
      "[CV] END model__colsample_bytree=0.836266954420318, model__gamma=0.05480965542341698, model__learning_rate=0.08628291372265715, model__max_depth=7, model__min_child_weight=3, model__n_estimators=3518, model__reg_alpha=0.0012101809594595495, model__reg_lambda=1.8959850119147212, model__subsample=0.7506304644031447; total time=  16.7s\n",
      "[CV] END model__colsample_bytree=0.836266954420318, model__gamma=0.05480965542341698, model__learning_rate=0.08628291372265715, model__max_depth=7, model__min_child_weight=3, model__n_estimators=3518, model__reg_alpha=0.0012101809594595495, model__reg_lambda=1.8959850119147212, model__subsample=0.7506304644031447; total time=  14.2s\n",
      "[CV] END model__colsample_bytree=0.8457449401504562, model__gamma=0.006499410196301772, model__learning_rate=0.0152174922842255, model__max_depth=9, model__min_child_weight=5, model__n_estimators=3197, model__reg_alpha=0.05922427891922456, model__reg_lambda=0.5363771326058963, model__subsample=0.6115569405797293; total time=  20.0s\n",
      "[CV] END model__colsample_bytree=0.8457449401504562, model__gamma=0.006499410196301772, model__learning_rate=0.0152174922842255, model__max_depth=9, model__min_child_weight=5, model__n_estimators=3197, model__reg_alpha=0.05922427891922456, model__reg_lambda=0.5363771326058963, model__subsample=0.6115569405797293; total time=  22.4s\n",
      "[CV] END model__colsample_bytree=0.8457449401504562, model__gamma=0.006499410196301772, model__learning_rate=0.0152174922842255, model__max_depth=9, model__min_child_weight=5, model__n_estimators=3197, model__reg_alpha=0.05922427891922456, model__reg_lambda=0.5363771326058963, model__subsample=0.6115569405797293; total time=  21.6s\n",
      "[CV] END model__colsample_bytree=0.913364559830844, model__gamma=0.0078025380205355, model__learning_rate=0.014107002987027327, model__max_depth=4, model__min_child_weight=5, model__n_estimators=2595, model__reg_alpha=0.004440819102643444, model__reg_lambda=2.09826569423022, model__subsample=0.6267372083009428; total time=   8.9s\n",
      "[CV] END model__colsample_bytree=0.913364559830844, model__gamma=0.0078025380205355, model__learning_rate=0.014107002987027327, model__max_depth=4, model__min_child_weight=5, model__n_estimators=2595, model__reg_alpha=0.004440819102643444, model__reg_lambda=2.09826569423022, model__subsample=0.6267372083009428; total time=  10.0s\n",
      "[CV] END model__colsample_bytree=0.913364559830844, model__gamma=0.0078025380205355, model__learning_rate=0.014107002987027327, model__max_depth=4, model__min_child_weight=5, model__n_estimators=2595, model__reg_alpha=0.004440819102643444, model__reg_lambda=2.09826569423022, model__subsample=0.6267372083009428; total time=   9.8s\n",
      "[CV] END model__colsample_bytree=0.6160511542315746, model__gamma=0.020712372672640693, model__learning_rate=0.04323507740718401, model__max_depth=7, model__min_child_weight=5, model__n_estimators=1369, model__reg_alpha=0.035391669108220086, model__reg_lambda=1.0517837998251123, model__subsample=0.9006629823323259; total time=   7.0s\n",
      "[CV] END model__colsample_bytree=0.6160511542315746, model__gamma=0.020712372672640693, model__learning_rate=0.04323507740718401, model__max_depth=7, model__min_child_weight=5, model__n_estimators=1369, model__reg_alpha=0.035391669108220086, model__reg_lambda=1.0517837998251123, model__subsample=0.9006629823323259; total time=   7.3s\n",
      "[CV] END model__colsample_bytree=0.6160511542315746, model__gamma=0.020712372672640693, model__learning_rate=0.04323507740718401, model__max_depth=7, model__min_child_weight=5, model__n_estimators=1369, model__reg_alpha=0.035391669108220086, model__reg_lambda=1.0517837998251123, model__subsample=0.9006629823323259; total time=  42.0s\n",
      "[CV] END model__colsample_bytree=0.6890251061631909, model__gamma=0.012228844889430076, model__learning_rate=0.012367213672760103, model__max_depth=8, model__min_child_weight=2, model__n_estimators=1116, model__reg_alpha=0.0017483118445198655, model__reg_lambda=1.3405545136895116, model__subsample=0.852892101468162; total time= -28.7s\n",
      "[CV] END model__colsample_bytree=0.6890251061631909, model__gamma=0.012228844889430076, model__learning_rate=0.012367213672760103, model__max_depth=8, model__min_child_weight=2, model__n_estimators=1116, model__reg_alpha=0.0017483118445198655, model__reg_lambda=1.3405545136895116, model__subsample=0.852892101468162; total time=   6.0s\n",
      "[CV] END model__colsample_bytree=0.6890251061631909, model__gamma=0.012228844889430076, model__learning_rate=0.012367213672760103, model__max_depth=8, model__min_child_weight=2, model__n_estimators=1116, model__reg_alpha=0.0017483118445198655, model__reg_lambda=1.3405545136895116, model__subsample=0.852892101468162; total time=   6.0s\n",
      "[CV] END model__colsample_bytree=0.6181038188040101, model__gamma=0.18496747895640092, model__learning_rate=0.03313191899034981, model__max_depth=9, model__min_child_weight=6, model__n_estimators=1559, model__reg_alpha=0.003536698118052688, model__reg_lambda=4.301144187491169, model__subsample=0.8312866069592891; total time=  11.1s\n",
      "[CV] END model__colsample_bytree=0.6181038188040101, model__gamma=0.18496747895640092, model__learning_rate=0.03313191899034981, model__max_depth=9, model__min_child_weight=6, model__n_estimators=1559, model__reg_alpha=0.003536698118052688, model__reg_lambda=4.301144187491169, model__subsample=0.8312866069592891; total time=  10.7s\n",
      "[CV] END model__colsample_bytree=0.6181038188040101, model__gamma=0.18496747895640092, model__learning_rate=0.03313191899034981, model__max_depth=9, model__min_child_weight=6, model__n_estimators=1559, model__reg_alpha=0.003536698118052688, model__reg_lambda=4.301144187491169, model__subsample=0.8312866069592891; total time=  10.3s\n",
      "[CV] END model__colsample_bytree=0.7812313612871952, model__gamma=0.042436976921925426, model__learning_rate=0.03253801746596424, model__max_depth=8, model__min_child_weight=7, model__n_estimators=4147, model__reg_alpha=0.04990127377030911, model__reg_lambda=0.7204709128354284, model__subsample=0.6379837650469117; total time=  28.4s\n",
      "[CV] END model__colsample_bytree=0.7812313612871952, model__gamma=0.042436976921925426, model__learning_rate=0.03253801746596424, model__max_depth=8, model__min_child_weight=7, model__n_estimators=4147, model__reg_alpha=0.04990127377030911, model__reg_lambda=0.7204709128354284, model__subsample=0.6379837650469117; total time=  28.0s\n",
      "[CV] END model__colsample_bytree=0.7812313612871952, model__gamma=0.042436976921925426, model__learning_rate=0.03253801746596424, model__max_depth=8, model__min_child_weight=7, model__n_estimators=4147, model__reg_alpha=0.04990127377030911, model__reg_lambda=0.7204709128354284, model__subsample=0.6379837650469117; total time=  26.2s\n",
      "[CV] END model__colsample_bytree=0.7144911058518536, model__gamma=0.0016880970739366217, model__learning_rate=0.012904382005179186, model__max_depth=9, model__min_child_weight=6, model__n_estimators=1957, model__reg_alpha=0.12911407200549918, model__reg_lambda=1.489854418954822, model__subsample=0.6307476434184226; total time=  14.3s\n",
      "[CV] END model__colsample_bytree=0.7144911058518536, model__gamma=0.0016880970739366217, model__learning_rate=0.012904382005179186, model__max_depth=9, model__min_child_weight=6, model__n_estimators=1957, model__reg_alpha=0.12911407200549918, model__reg_lambda=1.489854418954822, model__subsample=0.6307476434184226; total time=  11.5s\n",
      "[CV] END model__colsample_bytree=0.7144911058518536, model__gamma=0.0016880970739366217, model__learning_rate=0.012904382005179186, model__max_depth=9, model__min_child_weight=6, model__n_estimators=1957, model__reg_alpha=0.12911407200549918, model__reg_lambda=1.489854418954822, model__subsample=0.6307476434184226; total time=  46.5s\n",
      "[CV] END model__colsample_bytree=0.7712863005502291, model__gamma=0.014888364300159954, model__learning_rate=0.015984579106477804, model__max_depth=9, model__min_child_weight=5, model__n_estimators=3070, model__reg_alpha=0.0013937239804606748, model__reg_lambda=4.447497738551138, model__subsample=0.9437569994190907; total time= -14.7s\n",
      "[CV] END model__colsample_bytree=0.7712863005502291, model__gamma=0.014888364300159954, model__learning_rate=0.015984579106477804, model__max_depth=9, model__min_child_weight=5, model__n_estimators=3070, model__reg_alpha=0.0013937239804606748, model__reg_lambda=4.447497738551138, model__subsample=0.9437569994190907; total time=  23.8s\n",
      "[CV] END model__colsample_bytree=0.7712863005502291, model__gamma=0.014888364300159954, model__learning_rate=0.015984579106477804, model__max_depth=9, model__min_child_weight=5, model__n_estimators=3070, model__reg_alpha=0.0013937239804606748, model__reg_lambda=4.447497738551138, model__subsample=0.9437569994190907; total time=  56.0s\n",
      "[CV] END model__colsample_bytree=0.6855358553940369, model__gamma=0.0010912171980846832, model__learning_rate=0.12525823355930035, model__max_depth=4, model__min_child_weight=5, model__n_estimators=1515, model__reg_alpha=0.07039689322628143, model__reg_lambda=4.394015746109416, model__subsample=0.9719239554922557; total time= -29.0s\n",
      "[CV] END model__colsample_bytree=0.6855358553940369, model__gamma=0.0010912171980846832, model__learning_rate=0.12525823355930035, model__max_depth=4, model__min_child_weight=5, model__n_estimators=1515, model__reg_alpha=0.07039689322628143, model__reg_lambda=4.394015746109416, model__subsample=0.9719239554922557; total time=   6.1s\n",
      "[CV] END model__colsample_bytree=0.6855358553940369, model__gamma=0.0010912171980846832, model__learning_rate=0.12525823355930035, model__max_depth=4, model__min_child_weight=5, model__n_estimators=1515, model__reg_alpha=0.07039689322628143, model__reg_lambda=4.394015746109416, model__subsample=0.9719239554922557; total time=   6.4s\n",
      "[CV] END model__colsample_bytree=0.9344116607349962, model__gamma=0.03770933535392591, model__learning_rate=0.08749625491983322, model__max_depth=7, model__min_child_weight=2, model__n_estimators=4746, model__reg_alpha=0.08508728286362323, model__reg_lambda=1.436226364871552, model__subsample=0.7928584386012323; total time=  19.2s\n",
      "[CV] END model__colsample_bytree=0.9344116607349962, model__gamma=0.03770933535392591, model__learning_rate=0.08749625491983322, model__max_depth=7, model__min_child_weight=2, model__n_estimators=4746, model__reg_alpha=0.08508728286362323, model__reg_lambda=1.436226364871552, model__subsample=0.7928584386012323; total time=  16.0s\n",
      "[CV] END model__colsample_bytree=0.9344116607349962, model__gamma=0.03770933535392591, model__learning_rate=0.08749625491983322, model__max_depth=7, model__min_child_weight=2, model__n_estimators=4746, model__reg_alpha=0.08508728286362323, model__reg_lambda=1.436226364871552, model__subsample=0.7928584386012323; total time=  16.6s\n",
      "[CV] END model__colsample_bytree=0.9705413449610167, model__gamma=0.009045301565863712, model__learning_rate=0.13503545757485722, model__max_depth=5, model__min_child_weight=3, model__n_estimators=4627, model__reg_alpha=0.00663564864080161, model__reg_lambda=0.8195191834062968, model__subsample=0.7275212889125044; total time=  19.6s\n",
      "[CV] END model__colsample_bytree=0.9705413449610167, model__gamma=0.009045301565863712, model__learning_rate=0.13503545757485722, model__max_depth=5, model__min_child_weight=3, model__n_estimators=4627, model__reg_alpha=0.00663564864080161, model__reg_lambda=0.8195191834062968, model__subsample=0.7275212889125044; total time= -16.4s\n",
      "[CV] END model__colsample_bytree=0.9705413449610167, model__gamma=0.009045301565863712, model__learning_rate=0.13503545757485722, model__max_depth=5, model__min_child_weight=3, model__n_estimators=4627, model__reg_alpha=0.00663564864080161, model__reg_lambda=0.8195191834062968, model__subsample=0.7275212889125044; total time=  16.7s\n",
      "[CV] END model__colsample_bytree=0.6120616554163867, model__gamma=0.034000854966536105, model__learning_rate=0.02487817224386427, model__max_depth=5, model__min_child_weight=5, model__n_estimators=4993, model__reg_alpha=0.11087688261177286, model__reg_lambda=1.0954550803187217, model__subsample=0.685466137967385; total time=  21.4s\n",
      "[CV] END model__colsample_bytree=0.6120616554163867, model__gamma=0.034000854966536105, model__learning_rate=0.02487817224386427, model__max_depth=5, model__min_child_weight=5, model__n_estimators=4993, model__reg_alpha=0.11087688261177286, model__reg_lambda=1.0954550803187217, model__subsample=0.685466137967385; total time=  20.2s\n",
      "[CV] END model__colsample_bytree=0.6120616554163867, model__gamma=0.034000854966536105, model__learning_rate=0.02487817224386427, model__max_depth=5, model__min_child_weight=5, model__n_estimators=4993, model__reg_alpha=0.11087688261177286, model__reg_lambda=1.0954550803187217, model__subsample=0.685466137967385; total time=  20.7s\n",
      "[CV] END model__colsample_bytree=0.7730303397859567, model__gamma=0.052044331527794765, model__learning_rate=0.025684767315901545, model__max_depth=6, model__min_child_weight=5, model__n_estimators=4447, model__reg_alpha=0.16040323816074398, model__reg_lambda=3.180174381534705, model__subsample=0.6929793090499956; total time=  19.6s\n",
      "[CV] END model__colsample_bytree=0.7730303397859567, model__gamma=0.052044331527794765, model__learning_rate=0.025684767315901545, model__max_depth=6, model__min_child_weight=5, model__n_estimators=4447, model__reg_alpha=0.16040323816074398, model__reg_lambda=3.180174381534705, model__subsample=0.6929793090499956; total time=  23.2s\n",
      "[CV] END model__colsample_bytree=0.7730303397859567, model__gamma=0.052044331527794765, model__learning_rate=0.025684767315901545, model__max_depth=6, model__min_child_weight=5, model__n_estimators=4447, model__reg_alpha=0.16040323816074398, model__reg_lambda=3.180174381534705, model__subsample=0.6929793090499956; total time=  20.4s\n",
      "[CV] END model__colsample_bytree=0.6569253048992713, model__gamma=0.07233754331046983, model__learning_rate=0.08890194945641422, model__max_depth=4, model__min_child_weight=3, model__n_estimators=2571, model__reg_alpha=0.013063340811682273, model__reg_lambda=2.9880163192497187, model__subsample=0.7140984487568904; total time=  10.4s\n",
      "[CV] END model__colsample_bytree=0.6569253048992713, model__gamma=0.07233754331046983, model__learning_rate=0.08890194945641422, model__max_depth=4, model__min_child_weight=3, model__n_estimators=2571, model__reg_alpha=0.013063340811682273, model__reg_lambda=2.9880163192497187, model__subsample=0.7140984487568904; total time=  10.8s\n",
      "[CV] END model__colsample_bytree=0.6569253048992713, model__gamma=0.07233754331046983, model__learning_rate=0.08890194945641422, model__max_depth=4, model__min_child_weight=3, model__n_estimators=2571, model__reg_alpha=0.013063340811682273, model__reg_lambda=2.9880163192497187, model__subsample=0.7140984487568904; total time=  10.0s\n",
      "[CV] END model__colsample_bytree=0.9652473084022039, model__gamma=0.13378039469082142, model__learning_rate=0.03195480162385965, model__max_depth=8, model__min_child_weight=7, model__n_estimators=3264, model__reg_alpha=0.005184518842564381, model__reg_lambda=1.1931605633446498, model__subsample=0.7882992843120882; total time=  18.0s\n",
      "[CV] END model__colsample_bytree=0.9652473084022039, model__gamma=0.13378039469082142, model__learning_rate=0.03195480162385965, model__max_depth=8, model__min_child_weight=7, model__n_estimators=3264, model__reg_alpha=0.005184518842564381, model__reg_lambda=1.1931605633446498, model__subsample=0.7882992843120882; total time=  19.2s\n",
      "[CV] END model__colsample_bytree=0.9652473084022039, model__gamma=0.13378039469082142, model__learning_rate=0.03195480162385965, model__max_depth=8, model__min_child_weight=7, model__n_estimators=3264, model__reg_alpha=0.005184518842564381, model__reg_lambda=1.1931605633446498, model__subsample=0.7882992843120882; total time=  15.6s\n",
      "[CV] END model__colsample_bytree=0.7732371824201165, model__gamma=0.009228502678304636, model__learning_rate=0.022389589294333656, model__max_depth=6, model__min_child_weight=1, model__n_estimators=2635, model__reg_alpha=0.00107773740072316, model__reg_lambda=4.02116580490373, model__subsample=0.628641554639202; total time=  10.8s\n",
      "[CV] END model__colsample_bytree=0.7732371824201165, model__gamma=0.009228502678304636, model__learning_rate=0.022389589294333656, model__max_depth=6, model__min_child_weight=1, model__n_estimators=2635, model__reg_alpha=0.00107773740072316, model__reg_lambda=4.02116580490373, model__subsample=0.628641554639202; total time=  11.3s\n",
      "[CV] END model__colsample_bytree=0.7732371824201165, model__gamma=0.009228502678304636, model__learning_rate=0.022389589294333656, model__max_depth=6, model__min_child_weight=1, model__n_estimators=2635, model__reg_alpha=0.00107773740072316, model__reg_lambda=4.02116580490373, model__subsample=0.628641554639202; total time=  11.2s\n",
      "[CV] END model__colsample_bytree=0.7063022367852808, model__gamma=0.22564135127852009, model__learning_rate=0.1312202184172839, model__max_depth=6, model__min_child_weight=2, model__n_estimators=2390, model__reg_alpha=0.0017776785559910652, model__reg_lambda=0.6175528802483548, model__subsample=0.8162101976665382; total time=   8.8s\n",
      "[CV] END model__colsample_bytree=0.7063022367852808, model__gamma=0.22564135127852009, model__learning_rate=0.1312202184172839, model__max_depth=6, model__min_child_weight=2, model__n_estimators=2390, model__reg_alpha=0.0017776785559910652, model__reg_lambda=0.6175528802483548, model__subsample=0.8162101976665382; total time=   8.3s\n",
      "[CV] END model__colsample_bytree=0.7063022367852808, model__gamma=0.22564135127852009, model__learning_rate=0.1312202184172839, model__max_depth=6, model__min_child_weight=2, model__n_estimators=2390, model__reg_alpha=0.0017776785559910652, model__reg_lambda=0.6175528802483548, model__subsample=0.8162101976665382; total time=   8.1s\n",
      "[CV] END model__colsample_bytree=0.7961402488219905, model__gamma=0.003364749910423671, model__learning_rate=0.12966152680473045, model__max_depth=4, model__min_child_weight=7, model__n_estimators=3156, model__reg_alpha=0.6205650563353498, model__reg_lambda=4.712140301597788, model__subsample=0.9979237326035122; total time=  12.9s\n",
      "[CV] END model__colsample_bytree=0.7961402488219905, model__gamma=0.003364749910423671, model__learning_rate=0.12966152680473045, model__max_depth=4, model__min_child_weight=7, model__n_estimators=3156, model__reg_alpha=0.6205650563353498, model__reg_lambda=4.712140301597788, model__subsample=0.9979237326035122; total time=  13.1s\n",
      "[CV] END model__colsample_bytree=0.7961402488219905, model__gamma=0.003364749910423671, model__learning_rate=0.12966152680473045, model__max_depth=4, model__min_child_weight=7, model__n_estimators=3156, model__reg_alpha=0.6205650563353498, model__reg_lambda=4.712140301597788, model__subsample=0.9979237326035122; total time=  13.4s\n",
      "[CV] END model__colsample_bytree=0.6173709585492624, model__gamma=0.06694627901476502, model__learning_rate=0.04385779219512045, model__max_depth=6, model__min_child_weight=2, model__n_estimators=1750, model__reg_alpha=0.0026851901546478068, model__reg_lambda=2.8872250432273776, model__subsample=0.8228149135943742; total time=  10.2s\n",
      "[CV] END model__colsample_bytree=0.6173709585492624, model__gamma=0.06694627901476502, model__learning_rate=0.04385779219512045, model__max_depth=6, model__min_child_weight=2, model__n_estimators=1750, model__reg_alpha=0.0026851901546478068, model__reg_lambda=2.8872250432273776, model__subsample=0.8228149135943742; total time=   9.6s\n",
      "[CV] END model__colsample_bytree=0.6173709585492624, model__gamma=0.06694627901476502, model__learning_rate=0.04385779219512045, model__max_depth=6, model__min_child_weight=2, model__n_estimators=1750, model__reg_alpha=0.0026851901546478068, model__reg_lambda=2.8872250432273776, model__subsample=0.8228149135943742; total time=   8.4s\n",
      "[CV] END model__colsample_bytree=0.6318081003315942, model__gamma=0.0016156331557010345, model__learning_rate=0.06674268414223537, model__max_depth=5, model__min_child_weight=1, model__n_estimators=3993, model__reg_alpha=0.4739043840393632, model__reg_lambda=0.7007689102506551, model__subsample=0.7798876068615146; total time=  18.5s\n",
      "[CV] END model__colsample_bytree=0.6318081003315942, model__gamma=0.0016156331557010345, model__learning_rate=0.06674268414223537, model__max_depth=5, model__min_child_weight=1, model__n_estimators=3993, model__reg_alpha=0.4739043840393632, model__reg_lambda=0.7007689102506551, model__subsample=0.7798876068615146; total time=  18.8s\n",
      "[CV] END model__colsample_bytree=0.6318081003315942, model__gamma=0.0016156331557010345, model__learning_rate=0.06674268414223537, model__max_depth=5, model__min_child_weight=1, model__n_estimators=3993, model__reg_alpha=0.4739043840393632, model__reg_lambda=0.7007689102506551, model__subsample=0.7798876068615146; total time=  17.8s\n",
      "[CV] END model__colsample_bytree=0.6759158126531225, model__gamma=0.02754000434857525, model__learning_rate=0.10354512841885455, model__max_depth=9, model__min_child_weight=4, model__n_estimators=2680, model__reg_alpha=0.6946175184647424, model__reg_lambda=4.841401140510464, model__subsample=0.8816318247775752; total time=  13.8s\n",
      "[CV] END model__colsample_bytree=0.6759158126531225, model__gamma=0.02754000434857525, model__learning_rate=0.10354512841885455, model__max_depth=9, model__min_child_weight=4, model__n_estimators=2680, model__reg_alpha=0.6946175184647424, model__reg_lambda=4.841401140510464, model__subsample=0.8816318247775752; total time=  14.7s\n",
      "[CV] END model__colsample_bytree=0.6759158126531225, model__gamma=0.02754000434857525, model__learning_rate=0.10354512841885455, model__max_depth=9, model__min_child_weight=4, model__n_estimators=2680, model__reg_alpha=0.6946175184647424, model__reg_lambda=4.841401140510464, model__subsample=0.8816318247775752; total time=  13.5s\n",
      "[CV] END model__colsample_bytree=0.7271499338796648, model__gamma=0.0016100575513330678, model__learning_rate=0.08203434121979486, model__max_depth=9, model__min_child_weight=7, model__n_estimators=1090, model__reg_alpha=0.00557407057685421, model__reg_lambda=1.0696028054333655, model__subsample=0.7490897401864001; total time=  42.8s\n",
      "[CV] END model__colsample_bytree=0.7271499338796648, model__gamma=0.0016100575513330678, model__learning_rate=0.08203434121979486, model__max_depth=9, model__min_child_weight=7, model__n_estimators=1090, model__reg_alpha=0.00557407057685421, model__reg_lambda=1.0696028054333655, model__subsample=0.7490897401864001; total time= -28.2s\n",
      "[CV] END model__colsample_bytree=0.7271499338796648, model__gamma=0.0016100575513330678, model__learning_rate=0.08203434121979486, model__max_depth=9, model__min_child_weight=7, model__n_estimators=1090, model__reg_alpha=0.00557407057685421, model__reg_lambda=1.0696028054333655, model__subsample=0.7490897401864001; total time=   6.6s\n",
      "[CV] END model__colsample_bytree=0.6830151288582536, model__gamma=0.010086365499292335, model__learning_rate=0.0470007112147816, model__max_depth=7, model__min_child_weight=4, model__n_estimators=1455, model__reg_alpha=0.0022520536912838, model__reg_lambda=2.229360522886251, model__subsample=0.8783353743337823; total time=   7.4s\n",
      "[CV] END model__colsample_bytree=0.6830151288582536, model__gamma=0.010086365499292335, model__learning_rate=0.0470007112147816, model__max_depth=7, model__min_child_weight=4, model__n_estimators=1455, model__reg_alpha=0.0022520536912838, model__reg_lambda=2.229360522886251, model__subsample=0.8783353743337823; total time=   7.1s\n",
      "[CV] END model__colsample_bytree=0.6830151288582536, model__gamma=0.010086365499292335, model__learning_rate=0.0470007112147816, model__max_depth=7, model__min_child_weight=4, model__n_estimators=1455, model__reg_alpha=0.0022520536912838, model__reg_lambda=2.229360522886251, model__subsample=0.8783353743337823; total time=   7.2s\n",
      "[CV] END model__colsample_bytree=0.8082968410022123, model__gamma=0.24177871804003115, model__learning_rate=0.02759827970524733, model__max_depth=4, model__min_child_weight=1, model__n_estimators=1823, model__reg_alpha=0.03846895277941381, model__reg_lambda=1.36554443259746, model__subsample=0.903853791891748; total time=   6.5s\n",
      "[CV] END model__colsample_bytree=0.8082968410022123, model__gamma=0.24177871804003115, model__learning_rate=0.02759827970524733, model__max_depth=4, model__min_child_weight=1, model__n_estimators=1823, model__reg_alpha=0.03846895277941381, model__reg_lambda=1.36554443259746, model__subsample=0.903853791891748; total time=   7.2s\n",
      "[CV] END model__colsample_bytree=0.8082968410022123, model__gamma=0.24177871804003115, model__learning_rate=0.02759827970524733, model__max_depth=4, model__min_child_weight=1, model__n_estimators=1823, model__reg_alpha=0.03846895277941381, model__reg_lambda=1.36554443259746, model__subsample=0.903853791891748; total time=   7.2s\n",
      "[CV] END model__colsample_bytree=0.9887745759159229, model__gamma=0.02383921217332369, model__learning_rate=0.023961204221880784, model__max_depth=9, model__min_child_weight=5, model__n_estimators=1202, model__reg_alpha=0.5719356209230234, model__reg_lambda=0.8952826584470415, model__subsample=0.855908498327506; total time=   6.5s\n",
      "[CV] END model__colsample_bytree=0.9887745759159229, model__gamma=0.02383921217332369, model__learning_rate=0.023961204221880784, model__max_depth=9, model__min_child_weight=5, model__n_estimators=1202, model__reg_alpha=0.5719356209230234, model__reg_lambda=0.8952826584470415, model__subsample=0.855908498327506; total time=   7.1s\n",
      "[CV] END model__colsample_bytree=0.9887745759159229, model__gamma=0.02383921217332369, model__learning_rate=0.023961204221880784, model__max_depth=9, model__min_child_weight=5, model__n_estimators=1202, model__reg_alpha=0.5719356209230234, model__reg_lambda=0.8952826584470415, model__subsample=0.855908498327506; total time=   6.8s\n",
      "[CV] END model__colsample_bytree=0.6235715754651655, model__gamma=0.0025806896451644828, model__learning_rate=0.017988182916907295, model__max_depth=4, model__min_child_weight=5, model__n_estimators=4637, model__reg_alpha=0.05661648927748013, model__reg_lambda=3.98224535923258, model__subsample=0.6140920471289512; total time=  17.1s\n",
      "[CV] END model__colsample_bytree=0.6235715754651655, model__gamma=0.0025806896451644828, model__learning_rate=0.017988182916907295, model__max_depth=4, model__min_child_weight=5, model__n_estimators=4637, model__reg_alpha=0.05661648927748013, model__reg_lambda=3.98224535923258, model__subsample=0.6140920471289512; total time=  18.5s\n",
      "[CV] END model__colsample_bytree=0.6235715754651655, model__gamma=0.0025806896451644828, model__learning_rate=0.017988182916907295, model__max_depth=4, model__min_child_weight=5, model__n_estimators=4637, model__reg_alpha=0.05661648927748013, model__reg_lambda=3.98224535923258, model__subsample=0.6140920471289512; total time=  17.4s\n",
      "[CV] END model__colsample_bytree=0.6926001522518909, model__gamma=0.2260916315842912, model__learning_rate=0.11143752411178988, model__max_depth=7, model__min_child_weight=4, model__n_estimators=1372, model__reg_alpha=0.006794281693842807, model__reg_lambda=0.7710653087137669, model__subsample=0.7603650768045297; total time=   7.8s\n",
      "[CV] END model__colsample_bytree=0.6926001522518909, model__gamma=0.2260916315842912, model__learning_rate=0.11143752411178988, model__max_depth=7, model__min_child_weight=4, model__n_estimators=1372, model__reg_alpha=0.006794281693842807, model__reg_lambda=0.7710653087137669, model__subsample=0.7603650768045297; total time=   8.9s\n",
      "[CV] END model__colsample_bytree=0.6926001522518909, model__gamma=0.2260916315842912, model__learning_rate=0.11143752411178988, model__max_depth=7, model__min_child_weight=4, model__n_estimators=1372, model__reg_alpha=0.006794281693842807, model__reg_lambda=0.7710653087137669, model__subsample=0.7603650768045297; total time=   7.4s\n",
      "[CV] END model__colsample_bytree=0.7186906591399871, model__gamma=0.027911743158209764, model__learning_rate=0.012343065313131247, model__max_depth=4, model__min_child_weight=4, model__n_estimators=4775, model__reg_alpha=0.02289404544087836, model__reg_lambda=0.5386243158266764, model__subsample=0.6921758371535909; total time=  18.7s\n",
      "[CV] END model__colsample_bytree=0.7186906591399871, model__gamma=0.027911743158209764, model__learning_rate=0.012343065313131247, model__max_depth=4, model__min_child_weight=4, model__n_estimators=4775, model__reg_alpha=0.02289404544087836, model__reg_lambda=0.5386243158266764, model__subsample=0.6921758371535909; total time=  19.9s\n",
      "[CV] END model__colsample_bytree=0.7186906591399871, model__gamma=0.027911743158209764, model__learning_rate=0.012343065313131247, model__max_depth=4, model__min_child_weight=4, model__n_estimators=4775, model__reg_alpha=0.02289404544087836, model__reg_lambda=0.5386243158266764, model__subsample=0.6921758371535909; total time=  18.9s\n",
      "[CV] END model__colsample_bytree=0.7402474964200673, model__gamma=0.031128902695284136, model__learning_rate=0.020829119659992627, model__max_depth=8, model__min_child_weight=6, model__n_estimators=4618, model__reg_alpha=0.2935024485908388, model__reg_lambda=4.454202092710434, model__subsample=0.8692630430896275; total time=  29.9s\n",
      "[CV] END model__colsample_bytree=0.7402474964200673, model__gamma=0.031128902695284136, model__learning_rate=0.020829119659992627, model__max_depth=8, model__min_child_weight=6, model__n_estimators=4618, model__reg_alpha=0.2935024485908388, model__reg_lambda=4.454202092710434, model__subsample=0.8692630430896275; total time=  27.4s\n",
      "[CV] END model__colsample_bytree=0.7402474964200673, model__gamma=0.031128902695284136, model__learning_rate=0.020829119659992627, model__max_depth=8, model__min_child_weight=6, model__n_estimators=4618, model__reg_alpha=0.2935024485908388, model__reg_lambda=4.454202092710434, model__subsample=0.8692630430896275; total time=  26.9s\n",
      "[CV] END model__colsample_bytree=0.8207986710364731, model__gamma=0.010865224764765776, model__learning_rate=0.12501836542556574, model__max_depth=5, model__min_child_weight=3, model__n_estimators=1876, model__reg_alpha=0.0031225024184041755, model__reg_lambda=1.2889175019352712, model__subsample=0.8926091712013855; total time=   7.5s\n",
      "[CV] END model__colsample_bytree=0.8207986710364731, model__gamma=0.010865224764765776, model__learning_rate=0.12501836542556574, model__max_depth=5, model__min_child_weight=3, model__n_estimators=1876, model__reg_alpha=0.0031225024184041755, model__reg_lambda=1.2889175019352712, model__subsample=0.8926091712013855; total time=   8.2s\n",
      "[CV] END model__colsample_bytree=0.8207986710364731, model__gamma=0.010865224764765776, model__learning_rate=0.12501836542556574, model__max_depth=5, model__min_child_weight=3, model__n_estimators=1876, model__reg_alpha=0.0031225024184041755, model__reg_lambda=1.2889175019352712, model__subsample=0.8926091712013855; total time=   7.6s\n",
      "[CV] END model__colsample_bytree=0.7668682411454316, model__gamma=0.27585001892074135, model__learning_rate=0.027738272445732095, model__max_depth=5, model__min_child_weight=7, model__n_estimators=2240, model__reg_alpha=0.8123500161567047, model__reg_lambda=3.476073313010528, model__subsample=0.9207323985550833; total time=  10.9s\n",
      "[CV] END model__colsample_bytree=0.7668682411454316, model__gamma=0.27585001892074135, model__learning_rate=0.027738272445732095, model__max_depth=5, model__min_child_weight=7, model__n_estimators=2240, model__reg_alpha=0.8123500161567047, model__reg_lambda=3.476073313010528, model__subsample=0.9207323985550833; total time=  10.0s\n",
      "[CV] END model__colsample_bytree=0.7668682411454316, model__gamma=0.27585001892074135, model__learning_rate=0.027738272445732095, model__max_depth=5, model__min_child_weight=7, model__n_estimators=2240, model__reg_alpha=0.8123500161567047, model__reg_lambda=3.476073313010528, model__subsample=0.9207323985550833; total time=  10.0s\n",
      "[CV] END model__colsample_bytree=0.7623075863932546, model__gamma=0.010655116587952608, model__learning_rate=0.02096774216013698, model__max_depth=9, model__min_child_weight=4, model__n_estimators=3000, model__reg_alpha=0.040090255594000354, model__reg_lambda=2.81112886009639, model__subsample=0.9566122340056887; total time=  19.5s\n",
      "[CV] END model__colsample_bytree=0.7623075863932546, model__gamma=0.010655116587952608, model__learning_rate=0.02096774216013698, model__max_depth=9, model__min_child_weight=4, model__n_estimators=3000, model__reg_alpha=0.040090255594000354, model__reg_lambda=2.81112886009639, model__subsample=0.9566122340056887; total time=  19.9s\n",
      "[CV] END model__colsample_bytree=0.7623075863932546, model__gamma=0.010655116587952608, model__learning_rate=0.02096774216013698, model__max_depth=9, model__min_child_weight=4, model__n_estimators=3000, model__reg_alpha=0.040090255594000354, model__reg_lambda=2.81112886009639, model__subsample=0.9566122340056887; total time=  20.4s\n",
      "[CV] END model__colsample_bytree=0.8090324520712617, model__gamma=0.06290560974718928, model__learning_rate=0.07769562849271254, model__max_depth=6, model__min_child_weight=1, model__n_estimators=4156, model__reg_alpha=0.022471517740342374, model__reg_lambda=0.6731772327968109, model__subsample=0.976801410034941; total time=  13.3s\n",
      "[CV] END model__colsample_bytree=0.8090324520712617, model__gamma=0.06290560974718928, model__learning_rate=0.07769562849271254, model__max_depth=6, model__min_child_weight=1, model__n_estimators=4156, model__reg_alpha=0.022471517740342374, model__reg_lambda=0.6731772327968109, model__subsample=0.976801410034941; total time=  15.7s\n",
      "[CV] END model__colsample_bytree=0.8090324520712617, model__gamma=0.06290560974718928, model__learning_rate=0.07769562849271254, model__max_depth=6, model__min_child_weight=1, model__n_estimators=4156, model__reg_alpha=0.022471517740342374, model__reg_lambda=0.6731772327968109, model__subsample=0.976801410034941; total time=  15.7s\n",
      "[CV] END model__colsample_bytree=0.8177684196599633, model__gamma=0.003684477877451356, model__learning_rate=0.061656845803063756, model__max_depth=5, model__min_child_weight=4, model__n_estimators=3142, model__reg_alpha=0.00219115336741892, model__reg_lambda=2.347162726900379, model__subsample=0.7826739210816326; total time=  13.8s\n",
      "[CV] END model__colsample_bytree=0.8177684196599633, model__gamma=0.003684477877451356, model__learning_rate=0.061656845803063756, model__max_depth=5, model__min_child_weight=4, model__n_estimators=3142, model__reg_alpha=0.00219115336741892, model__reg_lambda=2.347162726900379, model__subsample=0.7826739210816326; total time=  13.1s\n",
      "[CV] END model__colsample_bytree=0.8177684196599633, model__gamma=0.003684477877451356, model__learning_rate=0.061656845803063756, model__max_depth=5, model__min_child_weight=4, model__n_estimators=3142, model__reg_alpha=0.00219115336741892, model__reg_lambda=2.347162726900379, model__subsample=0.7826739210816326; total time=  13.1s\n",
      "[CV] END model__colsample_bytree=0.890203136036532, model__gamma=0.019431577745256032, model__learning_rate=0.1005178552911548, model__max_depth=9, model__min_child_weight=4, model__n_estimators=1388, model__reg_alpha=0.0018417245197099395, model__reg_lambda=3.095906555591762, model__subsample=0.811021240571295; total time=   9.7s\n",
      "[CV] END model__colsample_bytree=0.890203136036532, model__gamma=0.019431577745256032, model__learning_rate=0.1005178552911548, model__max_depth=9, model__min_child_weight=4, model__n_estimators=1388, model__reg_alpha=0.0018417245197099395, model__reg_lambda=3.095906555591762, model__subsample=0.811021240571295; total time=   9.3s\n",
      "[CV] END model__colsample_bytree=0.890203136036532, model__gamma=0.019431577745256032, model__learning_rate=0.1005178552911548, model__max_depth=9, model__min_child_weight=4, model__n_estimators=1388, model__reg_alpha=0.0018417245197099395, model__reg_lambda=3.095906555591762, model__subsample=0.811021240571295; total time=   7.9s\n",
      "[CV] END model__colsample_bytree=0.7667412842185327, model__gamma=0.01100824573570021, model__learning_rate=0.08372236473737646, model__max_depth=9, model__min_child_weight=2, model__n_estimators=3122, model__reg_alpha=0.004354040701751577, model__reg_lambda=0.6844496092998766, model__subsample=0.6044744743619069; total time=  14.3s\n",
      "[CV] END model__colsample_bytree=0.7667412842185327, model__gamma=0.01100824573570021, model__learning_rate=0.08372236473737646, model__max_depth=9, model__min_child_weight=2, model__n_estimators=3122, model__reg_alpha=0.004354040701751577, model__reg_lambda=0.6844496092998766, model__subsample=0.6044744743619069; total time=  12.7s\n",
      "[CV] END model__colsample_bytree=0.7667412842185327, model__gamma=0.01100824573570021, model__learning_rate=0.08372236473737646, model__max_depth=9, model__min_child_weight=2, model__n_estimators=3122, model__reg_alpha=0.004354040701751577, model__reg_lambda=0.6844496092998766, model__subsample=0.6044744743619069; total time=  14.6s\n",
      "[CV] END model__colsample_bytree=0.7176763946553689, model__gamma=0.02892661668342828, model__learning_rate=0.028927759146409722, model__max_depth=6, model__min_child_weight=3, model__n_estimators=1446, model__reg_alpha=0.1510744764775297, model__reg_lambda=1.7636658724290282, model__subsample=0.7554142435802863; total time=   7.7s\n",
      "[CV] END model__colsample_bytree=0.7176763946553689, model__gamma=0.02892661668342828, model__learning_rate=0.028927759146409722, model__max_depth=6, model__min_child_weight=3, model__n_estimators=1446, model__reg_alpha=0.1510744764775297, model__reg_lambda=1.7636658724290282, model__subsample=0.7554142435802863; total time=   7.7s\n",
      "[CV] END model__colsample_bytree=0.7176763946553689, model__gamma=0.02892661668342828, model__learning_rate=0.028927759146409722, model__max_depth=6, model__min_child_weight=3, model__n_estimators=1446, model__reg_alpha=0.1510744764775297, model__reg_lambda=1.7636658724290282, model__subsample=0.7554142435802863; total time=   7.5s\n",
      "[CV] END model__colsample_bytree=0.9552964526448163, model__gamma=0.005471188658550096, model__learning_rate=0.041286119003172174, model__max_depth=4, model__min_child_weight=5, model__n_estimators=1796, model__reg_alpha=0.0027619794488595788, model__reg_lambda=4.222383050149732, model__subsample=0.771483486829246; total time=   7.5s\n",
      "[CV] END model__colsample_bytree=0.9552964526448163, model__gamma=0.005471188658550096, model__learning_rate=0.041286119003172174, model__max_depth=4, model__min_child_weight=5, model__n_estimators=1796, model__reg_alpha=0.0027619794488595788, model__reg_lambda=4.222383050149732, model__subsample=0.771483486829246; total time=   8.6s\n",
      "[CV] END model__colsample_bytree=0.9552964526448163, model__gamma=0.005471188658550096, model__learning_rate=0.041286119003172174, model__max_depth=4, model__min_child_weight=5, model__n_estimators=1796, model__reg_alpha=0.0027619794488595788, model__reg_lambda=4.222383050149732, model__subsample=0.771483486829246; total time=   7.6s\n",
      "[CV] END model__colsample_bytree=0.6846087491459698, model__gamma=0.013719394379941748, model__learning_rate=0.14210447202551119, model__max_depth=8, model__min_child_weight=2, model__n_estimators=1204, model__reg_alpha=0.004240258888847536, model__reg_lambda=1.8994153298969185, model__subsample=0.7143756148657205; total time=   6.4s\n",
      "[CV] END model__colsample_bytree=0.6846087491459698, model__gamma=0.013719394379941748, model__learning_rate=0.14210447202551119, model__max_depth=8, model__min_child_weight=2, model__n_estimators=1204, model__reg_alpha=0.004240258888847536, model__reg_lambda=1.8994153298969185, model__subsample=0.7143756148657205; total time=   6.0s\n",
      "[CV] END model__colsample_bytree=0.6846087491459698, model__gamma=0.013719394379941748, model__learning_rate=0.14210447202551119, model__max_depth=8, model__min_child_weight=2, model__n_estimators=1204, model__reg_alpha=0.004240258888847536, model__reg_lambda=1.8994153298969185, model__subsample=0.7143756148657205; total time=   6.6s\n",
      "[CV] END model__colsample_bytree=0.7894824271019778, model__gamma=0.013796564270553016, model__learning_rate=0.048723480700898804, model__max_depth=6, model__min_child_weight=6, model__n_estimators=2935, model__reg_alpha=0.08368049381923891, model__reg_lambda=0.7600638701894226, model__subsample=0.7158748497532681; total time=  16.0s\n",
      "[CV] END model__colsample_bytree=0.7894824271019778, model__gamma=0.013796564270553016, model__learning_rate=0.048723480700898804, model__max_depth=6, model__min_child_weight=6, model__n_estimators=2935, model__reg_alpha=0.08368049381923891, model__reg_lambda=0.7600638701894226, model__subsample=0.7158748497532681; total time=  49.9s\n",
      "[CV] END model__colsample_bytree=0.7894824271019778, model__gamma=0.013796564270553016, model__learning_rate=0.048723480700898804, model__max_depth=6, model__min_child_weight=6, model__n_estimators=2935, model__reg_alpha=0.08368049381923891, model__reg_lambda=0.7600638701894226, model__subsample=0.7158748497532681; total time=  12.9s\n",
      "[CV] END model__colsample_bytree=0.9486426316575951, model__gamma=0.01493002218360141, model__learning_rate=0.060968964806689584, model__max_depth=5, model__min_child_weight=5, model__n_estimators=3681, model__reg_alpha=0.0046940444490144095, model__reg_lambda=3.31711586296023, model__subsample=0.7156610806336382; total time= -20.6s\n",
      "[CV] END model__colsample_bytree=0.9486426316575951, model__gamma=0.01493002218360141, model__learning_rate=0.060968964806689584, model__max_depth=5, model__min_child_weight=5, model__n_estimators=3681, model__reg_alpha=0.0046940444490144095, model__reg_lambda=3.31711586296023, model__subsample=0.7156610806336382; total time=  15.1s\n",
      "[CV] END model__colsample_bytree=0.9486426316575951, model__gamma=0.01493002218360141, model__learning_rate=0.060968964806689584, model__max_depth=5, model__min_child_weight=5, model__n_estimators=3681, model__reg_alpha=0.0046940444490144095, model__reg_lambda=3.31711586296023, model__subsample=0.7156610806336382; total time=  14.9s\n",
      "[CV] END model__colsample_bytree=0.716589002006027, model__gamma=0.0011989030153999076, model__learning_rate=0.04419155451215709, model__max_depth=8, model__min_child_weight=1, model__n_estimators=1523, model__reg_alpha=0.004159117168120247, model__reg_lambda=1.156750951440446, model__subsample=0.7759500089214988; total time=   9.6s\n",
      "[CV] END model__colsample_bytree=0.716589002006027, model__gamma=0.0011989030153999076, model__learning_rate=0.04419155451215709, model__max_depth=8, model__min_child_weight=1, model__n_estimators=1523, model__reg_alpha=0.004159117168120247, model__reg_lambda=1.156750951440446, model__subsample=0.7759500089214988; total time=  10.0s\n",
      "[CV] END model__colsample_bytree=0.716589002006027, model__gamma=0.0011989030153999076, model__learning_rate=0.04419155451215709, model__max_depth=8, model__min_child_weight=1, model__n_estimators=1523, model__reg_alpha=0.004159117168120247, model__reg_lambda=1.156750951440446, model__subsample=0.7759500089214988; total time=   9.7s\n",
      "[CV] END model__colsample_bytree=0.8537180817105507, model__gamma=0.001251356163831321, model__learning_rate=0.08713238114554477, model__max_depth=4, model__min_child_weight=6, model__n_estimators=3286, model__reg_alpha=0.034274493107721085, model__reg_lambda=0.7177078345573167, model__subsample=0.7275312793191662; total time=  13.9s\n",
      "[CV] END model__colsample_bytree=0.8537180817105507, model__gamma=0.001251356163831321, model__learning_rate=0.08713238114554477, model__max_depth=4, model__min_child_weight=6, model__n_estimators=3286, model__reg_alpha=0.034274493107721085, model__reg_lambda=0.7177078345573167, model__subsample=0.7275312793191662; total time=  14.2s\n",
      "[CV] END model__colsample_bytree=0.8537180817105507, model__gamma=0.001251356163831321, model__learning_rate=0.08713238114554477, model__max_depth=4, model__min_child_weight=6, model__n_estimators=3286, model__reg_alpha=0.034274493107721085, model__reg_lambda=0.7177078345573167, model__subsample=0.7275312793191662; total time=  13.4s\n",
      "[CV] END model__colsample_bytree=0.6007958903712394, model__gamma=0.14154258658030203, model__learning_rate=0.012571865149741885, model__max_depth=6, model__min_child_weight=5, model__n_estimators=2715, model__reg_alpha=0.004246664679034297, model__reg_lambda=1.1733892554460228, model__subsample=0.7684968094840855; total time=  12.9s\n",
      "[CV] END model__colsample_bytree=0.6007958903712394, model__gamma=0.14154258658030203, model__learning_rate=0.012571865149741885, model__max_depth=6, model__min_child_weight=5, model__n_estimators=2715, model__reg_alpha=0.004246664679034297, model__reg_lambda=1.1733892554460228, model__subsample=0.7684968094840855; total time=  11.6s\n",
      "[CV] END model__colsample_bytree=0.6007958903712394, model__gamma=0.14154258658030203, model__learning_rate=0.012571865149741885, model__max_depth=6, model__min_child_weight=5, model__n_estimators=2715, model__reg_alpha=0.004246664679034297, model__reg_lambda=1.1733892554460228, model__subsample=0.7684968094840855; total time=  13.0s\n",
      "[CV] END model__colsample_bytree=0.8228303427498677, model__gamma=0.008200565801229142, model__learning_rate=0.03499314985953791, model__max_depth=8, model__min_child_weight=2, model__n_estimators=1525, model__reg_alpha=0.0027747079322711947, model__reg_lambda=0.6793396027246489, model__subsample=0.8523109313426371; total time=   8.2s\n",
      "[CV] END model__colsample_bytree=0.8228303427498677, model__gamma=0.008200565801229142, model__learning_rate=0.03499314985953791, model__max_depth=8, model__min_child_weight=2, model__n_estimators=1525, model__reg_alpha=0.0027747079322711947, model__reg_lambda=0.6793396027246489, model__subsample=0.8523109313426371; total time=   7.9s\n",
      "[CV] END model__colsample_bytree=0.8228303427498677, model__gamma=0.008200565801229142, model__learning_rate=0.03499314985953791, model__max_depth=8, model__min_child_weight=2, model__n_estimators=1525, model__reg_alpha=0.0027747079322711947, model__reg_lambda=0.6793396027246489, model__subsample=0.8523109313426371; total time=   8.1s\n",
      "[CV] END model__colsample_bytree=0.9236115552939985, model__gamma=0.07192672747301541, model__learning_rate=0.01086020523233483, model__max_depth=5, model__min_child_weight=2, model__n_estimators=3853, model__reg_alpha=0.03961428295971845, model__reg_lambda=0.8738572786502079, model__subsample=0.6884660429446797; total time=  15.0s\n",
      "[CV] END model__colsample_bytree=0.9236115552939985, model__gamma=0.07192672747301541, model__learning_rate=0.01086020523233483, model__max_depth=5, model__min_child_weight=2, model__n_estimators=3853, model__reg_alpha=0.03961428295971845, model__reg_lambda=0.8738572786502079, model__subsample=0.6884660429446797; total time=  16.3s\n",
      "[CV] END model__colsample_bytree=0.9236115552939985, model__gamma=0.07192672747301541, model__learning_rate=0.01086020523233483, model__max_depth=5, model__min_child_weight=2, model__n_estimators=3853, model__reg_alpha=0.03961428295971845, model__reg_lambda=0.8738572786502079, model__subsample=0.6884660429446797; total time=  15.5s\n",
      "[CV] END model__colsample_bytree=0.7275306095701939, model__gamma=0.0011212921729555434, model__learning_rate=0.02392183504630124, model__max_depth=9, model__min_child_weight=2, model__n_estimators=1125, model__reg_alpha=0.002287106538387776, model__reg_lambda=3.885950687054542, model__subsample=0.8125292313197658; total time=   7.0s\n",
      "[CV] END model__colsample_bytree=0.7275306095701939, model__gamma=0.0011212921729555434, model__learning_rate=0.02392183504630124, model__max_depth=9, model__min_child_weight=2, model__n_estimators=1125, model__reg_alpha=0.002287106538387776, model__reg_lambda=3.885950687054542, model__subsample=0.8125292313197658; total time=   6.6s\n",
      "[CV] END model__colsample_bytree=0.7275306095701939, model__gamma=0.0011212921729555434, model__learning_rate=0.02392183504630124, model__max_depth=9, model__min_child_weight=2, model__n_estimators=1125, model__reg_alpha=0.002287106538387776, model__reg_lambda=3.885950687054542, model__subsample=0.8125292313197658; total time=   6.7s\n",
      "[CV] END model__colsample_bytree=0.8488075829535833, model__gamma=0.09013072173715614, model__learning_rate=0.038566791796812494, model__max_depth=7, model__min_child_weight=7, model__n_estimators=2493, model__reg_alpha=0.05761337991585722, model__reg_lambda=2.782335381759456, model__subsample=0.7480220171048705; total time=  12.1s\n",
      "[CV] END model__colsample_bytree=0.8488075829535833, model__gamma=0.09013072173715614, model__learning_rate=0.038566791796812494, model__max_depth=7, model__min_child_weight=7, model__n_estimators=2493, model__reg_alpha=0.05761337991585722, model__reg_lambda=2.782335381759456, model__subsample=0.7480220171048705; total time=  11.3s\n",
      "[CV] END model__colsample_bytree=0.8488075829535833, model__gamma=0.09013072173715614, model__learning_rate=0.038566791796812494, model__max_depth=7, model__min_child_weight=7, model__n_estimators=2493, model__reg_alpha=0.05761337991585722, model__reg_lambda=2.782335381759456, model__subsample=0.7480220171048705; total time=  46.9s\n",
      "[CV] END model__colsample_bytree=0.6404050987886437, model__gamma=0.005046000948676283, model__learning_rate=0.02673116675313466, model__max_depth=5, model__min_child_weight=2, model__n_estimators=4514, model__reg_alpha=0.01170281063477968, model__reg_lambda=4.847136534442983, model__subsample=0.8176014191311514; total time= -16.2s\n",
      "[CV] END model__colsample_bytree=0.6404050987886437, model__gamma=0.005046000948676283, model__learning_rate=0.02673116675313466, model__max_depth=5, model__min_child_weight=2, model__n_estimators=4514, model__reg_alpha=0.01170281063477968, model__reg_lambda=4.847136534442983, model__subsample=0.8176014191311514; total time=  17.6s\n",
      "[CV] END model__colsample_bytree=0.6404050987886437, model__gamma=0.005046000948676283, model__learning_rate=0.02673116675313466, model__max_depth=5, model__min_child_weight=2, model__n_estimators=4514, model__reg_alpha=0.01170281063477968, model__reg_lambda=4.847136534442983, model__subsample=0.8176014191311514; total time=  17.8s\n",
      "[CV] END model__colsample_bytree=0.6772978819899216, model__gamma=0.0017870122363137831, model__learning_rate=0.015127818226770562, model__max_depth=7, model__min_child_weight=6, model__n_estimators=3890, model__reg_alpha=0.0018351132612877525, model__reg_lambda=3.197679193389992, model__subsample=0.617302317491657; total time=  19.0s\n",
      "[CV] END model__colsample_bytree=0.6772978819899216, model__gamma=0.0017870122363137831, model__learning_rate=0.015127818226770562, model__max_depth=7, model__min_child_weight=6, model__n_estimators=3890, model__reg_alpha=0.0018351132612877525, model__reg_lambda=3.197679193389992, model__subsample=0.617302317491657; total time=  18.9s\n",
      "[CV] END model__colsample_bytree=0.6772978819899216, model__gamma=0.0017870122363137831, model__learning_rate=0.015127818226770562, model__max_depth=7, model__min_child_weight=6, model__n_estimators=3890, model__reg_alpha=0.0018351132612877525, model__reg_lambda=3.197679193389992, model__subsample=0.617302317491657; total time=  18.9s\n",
      "[CV] END model__colsample_bytree=0.9226087431345678, model__gamma=0.0013424785018742089, model__learning_rate=0.01050642157182471, model__max_depth=8, model__min_child_weight=4, model__n_estimators=1919, model__reg_alpha=0.002168286702972878, model__reg_lambda=1.2497570731744179, model__subsample=0.984525691785734; total time=   9.8s\n",
      "[CV] END model__colsample_bytree=0.9226087431345678, model__gamma=0.0013424785018742089, model__learning_rate=0.01050642157182471, model__max_depth=8, model__min_child_weight=4, model__n_estimators=1919, model__reg_alpha=0.002168286702972878, model__reg_lambda=1.2497570731744179, model__subsample=0.984525691785734; total time=  10.5s\n",
      "[CV] END model__colsample_bytree=0.9226087431345678, model__gamma=0.0013424785018742089, model__learning_rate=0.01050642157182471, model__max_depth=8, model__min_child_weight=4, model__n_estimators=1919, model__reg_alpha=0.002168286702972878, model__reg_lambda=1.2497570731744179, model__subsample=0.984525691785734; total time=  10.2s\n",
      "[CV] END model__colsample_bytree=0.9336044735441742, model__gamma=0.1056784886385891, model__learning_rate=0.020105610302341943, model__max_depth=9, model__min_child_weight=3, model__n_estimators=3621, model__reg_alpha=0.6139428803386755, model__reg_lambda=1.8019091779569432, model__subsample=0.8034573181607583; total time=  19.8s\n",
      "[CV] END model__colsample_bytree=0.9336044735441742, model__gamma=0.1056784886385891, model__learning_rate=0.020105610302341943, model__max_depth=9, model__min_child_weight=3, model__n_estimators=3621, model__reg_alpha=0.6139428803386755, model__reg_lambda=1.8019091779569432, model__subsample=0.8034573181607583; total time=  20.2s\n",
      "[CV] END model__colsample_bytree=0.9336044735441742, model__gamma=0.1056784886385891, model__learning_rate=0.020105610302341943, model__max_depth=9, model__min_child_weight=3, model__n_estimators=3621, model__reg_alpha=0.6139428803386755, model__reg_lambda=1.8019091779569432, model__subsample=0.8034573181607583; total time=  19.8s\n",
      "[CV] END model__colsample_bytree=0.6922520686714366, model__gamma=0.08056145478991705, model__learning_rate=0.01659512460764669, model__max_depth=9, model__min_child_weight=4, model__n_estimators=2810, model__reg_alpha=0.003967535140685417, model__reg_lambda=2.7240632549993165, model__subsample=0.786494331758572; total time=  15.3s\n",
      "[CV] END model__colsample_bytree=0.6922520686714366, model__gamma=0.08056145478991705, model__learning_rate=0.01659512460764669, model__max_depth=9, model__min_child_weight=4, model__n_estimators=2810, model__reg_alpha=0.003967535140685417, model__reg_lambda=2.7240632549993165, model__subsample=0.786494331758572; total time=  15.7s\n",
      "[CV] END model__colsample_bytree=0.6922520686714366, model__gamma=0.08056145478991705, model__learning_rate=0.01659512460764669, model__max_depth=9, model__min_child_weight=4, model__n_estimators=2810, model__reg_alpha=0.003967535140685417, model__reg_lambda=2.7240632549993165, model__subsample=0.786494331758572; total time=  17.6s\n",
      "[CV] END model__colsample_bytree=0.8610916200460763, model__gamma=0.07977795911430358, model__learning_rate=0.012666633864195097, model__max_depth=9, model__min_child_weight=3, model__n_estimators=4582, model__reg_alpha=0.027760053934373842, model__reg_lambda=1.7043525584747132, model__subsample=0.6160957844849113; total time=  26.6s\n",
      "[CV] END model__colsample_bytree=0.8610916200460763, model__gamma=0.07977795911430358, model__learning_rate=0.012666633864195097, model__max_depth=9, model__min_child_weight=3, model__n_estimators=4582, model__reg_alpha=0.027760053934373842, model__reg_lambda=1.7043525584747132, model__subsample=0.6160957844849113; total time=  27.5s\n",
      "[CV] END model__colsample_bytree=0.8610916200460763, model__gamma=0.07977795911430358, model__learning_rate=0.012666633864195097, model__max_depth=9, model__min_child_weight=3, model__n_estimators=4582, model__reg_alpha=0.027760053934373842, model__reg_lambda=1.7043525584747132, model__subsample=0.6160957844849113; total time=  26.3s\n",
      "[CV] END model__colsample_bytree=0.7125682846008085, model__gamma=0.0021525906680967682, model__learning_rate=0.011872296899907054, model__max_depth=7, model__min_child_weight=2, model__n_estimators=3060, model__reg_alpha=0.1131656555697091, model__reg_lambda=0.612122179026353, model__subsample=0.6440941471871469; total time=  17.4s\n",
      "[CV] END model__colsample_bytree=0.7125682846008085, model__gamma=0.0021525906680967682, model__learning_rate=0.011872296899907054, model__max_depth=7, model__min_child_weight=2, model__n_estimators=3060, model__reg_alpha=0.1131656555697091, model__reg_lambda=0.612122179026353, model__subsample=0.6440941471871469; total time=  15.7s\n",
      "[CV] END model__colsample_bytree=0.7125682846008085, model__gamma=0.0021525906680967682, model__learning_rate=0.011872296899907054, model__max_depth=7, model__min_child_weight=2, model__n_estimators=3060, model__reg_alpha=0.1131656555697091, model__reg_lambda=0.612122179026353, model__subsample=0.6440941471871469; total time=  15.8s\n",
      "[CV] END model__colsample_bytree=0.6008314536949475, model__gamma=0.0019456750096237079, model__learning_rate=0.036015266532373094, model__max_depth=9, model__min_child_weight=7, model__n_estimators=4490, model__reg_alpha=0.011132810063011915, model__reg_lambda=4.2510787339760485, model__subsample=0.9171135867047047; total time=  28.1s\n",
      "[CV] END model__colsample_bytree=0.6008314536949475, model__gamma=0.0019456750096237079, model__learning_rate=0.036015266532373094, model__max_depth=9, model__min_child_weight=7, model__n_estimators=4490, model__reg_alpha=0.011132810063011915, model__reg_lambda=4.2510787339760485, model__subsample=0.9171135867047047; total time=  27.6s\n",
      "[CV] END model__colsample_bytree=0.6008314536949475, model__gamma=0.0019456750096237079, model__learning_rate=0.036015266532373094, model__max_depth=9, model__min_child_weight=7, model__n_estimators=4490, model__reg_alpha=0.011132810063011915, model__reg_lambda=4.2510787339760485, model__subsample=0.9171135867047047; total time=  26.8s\n",
      "[CV] END model__colsample_bytree=0.9822934855332554, model__gamma=0.0020318857951555063, model__learning_rate=0.07237137919141211, model__max_depth=4, model__min_child_weight=2, model__n_estimators=3635, model__reg_alpha=0.013730481106870187, model__reg_lambda=4.221039613470107, model__subsample=0.867434203956281; total time=  12.4s\n",
      "[CV] END model__colsample_bytree=0.9822934855332554, model__gamma=0.0020318857951555063, model__learning_rate=0.07237137919141211, model__max_depth=4, model__min_child_weight=2, model__n_estimators=3635, model__reg_alpha=0.013730481106870187, model__reg_lambda=4.221039613470107, model__subsample=0.867434203956281; total time=  12.8s\n",
      "[CV] END model__colsample_bytree=0.9822934855332554, model__gamma=0.0020318857951555063, model__learning_rate=0.07237137919141211, model__max_depth=4, model__min_child_weight=2, model__n_estimators=3635, model__reg_alpha=0.013730481106870187, model__reg_lambda=4.221039613470107, model__subsample=0.867434203956281; total time=  13.3s\n",
      "[CV] END model__colsample_bytree=0.6149233535826719, model__gamma=0.08627920477667567, model__learning_rate=0.09413129650440462, model__max_depth=8, model__min_child_weight=6, model__n_estimators=2851, model__reg_alpha=0.003097189858969046, model__reg_lambda=0.7298536802416165, model__subsample=0.9096276089129383; total time=  13.6s\n",
      "[CV] END model__colsample_bytree=0.6149233535826719, model__gamma=0.08627920477667567, model__learning_rate=0.09413129650440462, model__max_depth=8, model__min_child_weight=6, model__n_estimators=2851, model__reg_alpha=0.003097189858969046, model__reg_lambda=0.7298536802416165, model__subsample=0.9096276089129383; total time=  12.9s\n",
      "[CV] END model__colsample_bytree=0.6149233535826719, model__gamma=0.08627920477667567, model__learning_rate=0.09413129650440462, model__max_depth=8, model__min_child_weight=6, model__n_estimators=2851, model__reg_alpha=0.003097189858969046, model__reg_lambda=0.7298536802416165, model__subsample=0.9096276089129383; total time=  13.7s\n",
      "[CV] END model__colsample_bytree=0.8427997964433043, model__gamma=0.019755884629610126, model__learning_rate=0.026425146023103675, model__max_depth=8, model__min_child_weight=2, model__n_estimators=3136, model__reg_alpha=0.11192991919984774, model__reg_lambda=1.415528460358716, model__subsample=0.8639786198473565; total time=  16.7s\n",
      "[CV] END model__colsample_bytree=0.8427997964433043, model__gamma=0.019755884629610126, model__learning_rate=0.026425146023103675, model__max_depth=8, model__min_child_weight=2, model__n_estimators=3136, model__reg_alpha=0.11192991919984774, model__reg_lambda=1.415528460358716, model__subsample=0.8639786198473565; total time=  17.1s\n",
      "[CV] END model__colsample_bytree=0.8427997964433043, model__gamma=0.019755884629610126, model__learning_rate=0.026425146023103675, model__max_depth=8, model__min_child_weight=2, model__n_estimators=3136, model__reg_alpha=0.11192991919984774, model__reg_lambda=1.415528460358716, model__subsample=0.8639786198473565; total time=  16.3s\n",
      "[CV] END model__colsample_bytree=0.9500388126104754, model__gamma=0.035154036571411834, model__learning_rate=0.04313519728849271, model__max_depth=4, model__min_child_weight=1, model__n_estimators=3192, model__reg_alpha=0.4997165348595244, model__reg_lambda=1.2102113612889462, model__subsample=0.7920229625750819; total time=  10.6s\n",
      "[CV] END model__colsample_bytree=0.9500388126104754, model__gamma=0.035154036571411834, model__learning_rate=0.04313519728849271, model__max_depth=4, model__min_child_weight=1, model__n_estimators=3192, model__reg_alpha=0.4997165348595244, model__reg_lambda=1.2102113612889462, model__subsample=0.7920229625750819; total time=  11.0s\n",
      "[CV] END model__colsample_bytree=0.9500388126104754, model__gamma=0.035154036571411834, model__learning_rate=0.04313519728849271, model__max_depth=4, model__min_child_weight=1, model__n_estimators=3192, model__reg_alpha=0.4997165348595244, model__reg_lambda=1.2102113612889462, model__subsample=0.7920229625750819; total time=  11.5s\n",
      "[CV] END model__colsample_bytree=0.9533468913362908, model__gamma=0.03518140729144718, model__learning_rate=0.01372406492354726, model__max_depth=9, model__min_child_weight=3, model__n_estimators=3438, model__reg_alpha=0.15547029063412454, model__reg_lambda=2.469946871747228, model__subsample=0.653341523659074; total time=  21.6s\n",
      "[CV] END model__colsample_bytree=0.9533468913362908, model__gamma=0.03518140729144718, model__learning_rate=0.01372406492354726, model__max_depth=9, model__min_child_weight=3, model__n_estimators=3438, model__reg_alpha=0.15547029063412454, model__reg_lambda=2.469946871747228, model__subsample=0.653341523659074; total time=  21.5s\n",
      "[CV] END model__colsample_bytree=0.9533468913362908, model__gamma=0.03518140729144718, model__learning_rate=0.01372406492354726, model__max_depth=9, model__min_child_weight=3, model__n_estimators=3438, model__reg_alpha=0.15547029063412454, model__reg_lambda=2.469946871747228, model__subsample=0.653341523659074; total time=  22.3s\n",
      "[CV] END model__colsample_bytree=0.9398834903404681, model__gamma=0.01687424673461517, model__learning_rate=0.07447760398303398, model__max_depth=6, model__min_child_weight=4, model__n_estimators=3204, model__reg_alpha=0.002851180021336776, model__reg_lambda=1.0249249658923494, model__subsample=0.6812056718803798; total time=  18.1s\n",
      "[CV] END model__colsample_bytree=0.9398834903404681, model__gamma=0.01687424673461517, model__learning_rate=0.07447760398303398, model__max_depth=6, model__min_child_weight=4, model__n_estimators=3204, model__reg_alpha=0.002851180021336776, model__reg_lambda=1.0249249658923494, model__subsample=0.6812056718803798; total time=  18.3s\n",
      "[CV] END model__colsample_bytree=0.9398834903404681, model__gamma=0.01687424673461517, model__learning_rate=0.07447760398303398, model__max_depth=6, model__min_child_weight=4, model__n_estimators=3204, model__reg_alpha=0.002851180021336776, model__reg_lambda=1.0249249658923494, model__subsample=0.6812056718803798; total time=  15.6s\n",
      "[CV] END model__colsample_bytree=0.8773942929139905, model__gamma=0.0012107762872143424, model__learning_rate=0.04679961464066568, model__max_depth=5, model__min_child_weight=5, model__n_estimators=2658, model__reg_alpha=0.18361403544674776, model__reg_lambda=0.6337033968402795, model__subsample=0.7891670926865396; total time=  11.4s\n",
      "[CV] END model__colsample_bytree=0.8773942929139905, model__gamma=0.0012107762872143424, model__learning_rate=0.04679961464066568, model__max_depth=5, model__min_child_weight=5, model__n_estimators=2658, model__reg_alpha=0.18361403544674776, model__reg_lambda=0.6337033968402795, model__subsample=0.7891670926865396; total time=  12.0s\n",
      "[CV] END model__colsample_bytree=0.8773942929139905, model__gamma=0.0012107762872143424, model__learning_rate=0.04679961464066568, model__max_depth=5, model__min_child_weight=5, model__n_estimators=2658, model__reg_alpha=0.18361403544674776, model__reg_lambda=0.6337033968402795, model__subsample=0.7891670926865396; total time=  12.5s\n",
      "[CV] END model__colsample_bytree=0.7281021961983559, model__gamma=0.013553297039192332, model__learning_rate=0.05132270926302683, model__max_depth=8, model__min_child_weight=5, model__n_estimators=4228, model__reg_alpha=0.004872526229872035, model__reg_lambda=2.6376828325522426, model__subsample=0.8667432251327116; total time=  24.7s\n",
      "[CV] END model__colsample_bytree=0.7281021961983559, model__gamma=0.013553297039192332, model__learning_rate=0.05132270926302683, model__max_depth=8, model__min_child_weight=5, model__n_estimators=4228, model__reg_alpha=0.004872526229872035, model__reg_lambda=2.6376828325522426, model__subsample=0.8667432251327116; total time=  26.8s\n",
      "[CV] END model__colsample_bytree=0.7281021961983559, model__gamma=0.013553297039192332, model__learning_rate=0.05132270926302683, model__max_depth=8, model__min_child_weight=5, model__n_estimators=4228, model__reg_alpha=0.004872526229872035, model__reg_lambda=2.6376828325522426, model__subsample=0.8667432251327116; total time=  29.1s\n",
      "[CV] END model__colsample_bytree=0.8325092182038788, model__gamma=0.05235937350716821, model__learning_rate=0.04348039430849783, model__max_depth=6, model__min_child_weight=3, model__n_estimators=3116, model__reg_alpha=0.302271000442785, model__reg_lambda=4.5503499608131035, model__subsample=0.7147264074510309; total time=  15.9s\n",
      "[CV] END model__colsample_bytree=0.8325092182038788, model__gamma=0.05235937350716821, model__learning_rate=0.04348039430849783, model__max_depth=6, model__min_child_weight=3, model__n_estimators=3116, model__reg_alpha=0.302271000442785, model__reg_lambda=4.5503499608131035, model__subsample=0.7147264074510309; total time=  16.5s\n",
      "[CV] END model__colsample_bytree=0.8325092182038788, model__gamma=0.05235937350716821, model__learning_rate=0.04348039430849783, model__max_depth=6, model__min_child_weight=3, model__n_estimators=3116, model__reg_alpha=0.302271000442785, model__reg_lambda=4.5503499608131035, model__subsample=0.7147264074510309; total time=  14.1s\n",
      "[CV] END model__colsample_bytree=0.6738896428997605, model__gamma=0.01120213472060635, model__learning_rate=0.021808786712497773, model__max_depth=6, model__min_child_weight=4, model__n_estimators=3265, model__reg_alpha=0.05737061375884855, model__reg_lambda=1.6027237892713977, model__subsample=0.8199768813919515; total time=  17.1s\n",
      "[CV] END model__colsample_bytree=0.6738896428997605, model__gamma=0.01120213472060635, model__learning_rate=0.021808786712497773, model__max_depth=6, model__min_child_weight=4, model__n_estimators=3265, model__reg_alpha=0.05737061375884855, model__reg_lambda=1.6027237892713977, model__subsample=0.8199768813919515; total time=  22.4s\n",
      "[CV] END model__colsample_bytree=0.6738896428997605, model__gamma=0.01120213472060635, model__learning_rate=0.021808786712497773, model__max_depth=6, model__min_child_weight=4, model__n_estimators=3265, model__reg_alpha=0.05737061375884855, model__reg_lambda=1.6027237892713977, model__subsample=0.8199768813919515; total time=  18.4s\n",
      "[CV] END model__colsample_bytree=0.6055764420366619, model__gamma=0.14466273498852594, model__learning_rate=0.12481194884778962, model__max_depth=7, model__min_child_weight=4, model__n_estimators=4204, model__reg_alpha=0.5854612336582595, model__reg_lambda=2.548054064775573, model__subsample=0.6486222558508855; total time=  23.2s\n",
      "[CV] END model__colsample_bytree=0.6055764420366619, model__gamma=0.14466273498852594, model__learning_rate=0.12481194884778962, model__max_depth=7, model__min_child_weight=4, model__n_estimators=4204, model__reg_alpha=0.5854612336582595, model__reg_lambda=2.548054064775573, model__subsample=0.6486222558508855; total time=  21.5s\n",
      "[CV] END model__colsample_bytree=0.6055764420366619, model__gamma=0.14466273498852594, model__learning_rate=0.12481194884778962, model__max_depth=7, model__min_child_weight=4, model__n_estimators=4204, model__reg_alpha=0.5854612336582595, model__reg_lambda=2.548054064775573, model__subsample=0.6486222558508855; total time=  21.8s\n",
      "[CV] END model__colsample_bytree=0.8053786312899385, model__gamma=0.0318351380113838, model__learning_rate=0.03153670932507816, model__max_depth=8, model__min_child_weight=6, model__n_estimators=4367, model__reg_alpha=0.3321382521842648, model__reg_lambda=4.070579139052497, model__subsample=0.6388467191433652; total time=  28.3s\n",
      "[CV] END model__colsample_bytree=0.8053786312899385, model__gamma=0.0318351380113838, model__learning_rate=0.03153670932507816, model__max_depth=8, model__min_child_weight=6, model__n_estimators=4367, model__reg_alpha=0.3321382521842648, model__reg_lambda=4.070579139052497, model__subsample=0.6388467191433652; total time=  27.2s\n",
      "[CV] END model__colsample_bytree=0.8053786312899385, model__gamma=0.0318351380113838, model__learning_rate=0.03153670932507816, model__max_depth=8, model__min_child_weight=6, model__n_estimators=4367, model__reg_alpha=0.3321382521842648, model__reg_lambda=4.070579139052497, model__subsample=0.6388467191433652; total time=  33.9s\n",
      "[CV] END model__colsample_bytree=0.6768410790786921, model__gamma=0.0025704808593974057, model__learning_rate=0.016562670336767654, model__max_depth=4, model__min_child_weight=1, model__n_estimators=2854, model__reg_alpha=0.00859672020553953, model__reg_lambda=0.8440450460475379, model__subsample=0.8184871425290206; total time=  10.6s\n",
      "[CV] END model__colsample_bytree=0.6768410790786921, model__gamma=0.0025704808593974057, model__learning_rate=0.016562670336767654, model__max_depth=4, model__min_child_weight=1, model__n_estimators=2854, model__reg_alpha=0.00859672020553953, model__reg_lambda=0.8440450460475379, model__subsample=0.8184871425290206; total time=  13.9s\n",
      "[CV] END model__colsample_bytree=0.6768410790786921, model__gamma=0.0025704808593974057, model__learning_rate=0.016562670336767654, model__max_depth=4, model__min_child_weight=1, model__n_estimators=2854, model__reg_alpha=0.00859672020553953, model__reg_lambda=0.8440450460475379, model__subsample=0.8184871425290206; total time=  11.7s\n",
      "[CV] END model__colsample_bytree=0.7282822835664312, model__gamma=0.06975841935062367, model__learning_rate=0.01744940471666254, model__max_depth=4, model__min_child_weight=5, model__n_estimators=4737, model__reg_alpha=0.01001146227208479, model__reg_lambda=1.2506583814321668, model__subsample=0.7895357380002933; total time=  23.1s\n",
      "[CV] END model__colsample_bytree=0.7282822835664312, model__gamma=0.06975841935062367, model__learning_rate=0.01744940471666254, model__max_depth=4, model__min_child_weight=5, model__n_estimators=4737, model__reg_alpha=0.01001146227208479, model__reg_lambda=1.2506583814321668, model__subsample=0.7895357380002933; total time=  19.5s\n",
      "[CV] END model__colsample_bytree=0.7282822835664312, model__gamma=0.06975841935062367, model__learning_rate=0.01744940471666254, model__max_depth=4, model__min_child_weight=5, model__n_estimators=4737, model__reg_alpha=0.01001146227208479, model__reg_lambda=1.2506583814321668, model__subsample=0.7895357380002933; total time=  20.0s\n",
      "[CV] END model__colsample_bytree=0.9598869088534212, model__gamma=0.007210095616301992, model__learning_rate=0.025588723883866068, model__max_depth=5, model__min_child_weight=3, model__n_estimators=4600, model__reg_alpha=0.057703834343633215, model__reg_lambda=0.5392829310670508, model__subsample=0.9564088308160209; total time=  21.4s\n",
      "[CV] END model__colsample_bytree=0.9598869088534212, model__gamma=0.007210095616301992, model__learning_rate=0.025588723883866068, model__max_depth=5, model__min_child_weight=3, model__n_estimators=4600, model__reg_alpha=0.057703834343633215, model__reg_lambda=0.5392829310670508, model__subsample=0.9564088308160209; total time=  23.8s\n",
      "[CV] END model__colsample_bytree=0.9598869088534212, model__gamma=0.007210095616301992, model__learning_rate=0.025588723883866068, model__max_depth=5, model__min_child_weight=3, model__n_estimators=4600, model__reg_alpha=0.057703834343633215, model__reg_lambda=0.5392829310670508, model__subsample=0.9564088308160209; total time=  22.0s\n",
      "[CV] END model__colsample_bytree=0.6811142653976038, model__gamma=0.026968971906936853, model__learning_rate=0.015655205250318268, model__max_depth=8, model__min_child_weight=1, model__n_estimators=3224, model__reg_alpha=0.21952658558613827, model__reg_lambda=0.9474519129124166, model__subsample=0.6713972253393837; total time=  19.6s\n",
      "[CV] END model__colsample_bytree=0.6811142653976038, model__gamma=0.026968971906936853, model__learning_rate=0.015655205250318268, model__max_depth=8, model__min_child_weight=1, model__n_estimators=3224, model__reg_alpha=0.21952658558613827, model__reg_lambda=0.9474519129124166, model__subsample=0.6713972253393837; total time=  19.6s\n",
      "[CV] END model__colsample_bytree=0.6811142653976038, model__gamma=0.026968971906936853, model__learning_rate=0.015655205250318268, model__max_depth=8, model__min_child_weight=1, model__n_estimators=3224, model__reg_alpha=0.21952658558613827, model__reg_lambda=0.9474519129124166, model__subsample=0.6713972253393837; total time=  25.6s\n",
      "[CV] END model__colsample_bytree=0.6688584474942042, model__gamma=0.018886334554764617, model__learning_rate=0.14038658647667432, model__max_depth=4, model__min_child_weight=1, model__n_estimators=1147, model__reg_alpha=0.017533651538047108, model__reg_lambda=0.6085827977802097, model__subsample=0.9984045618162799; total time=   3.9s\n",
      "[CV] END model__colsample_bytree=0.6688584474942042, model__gamma=0.018886334554764617, model__learning_rate=0.14038658647667432, model__max_depth=4, model__min_child_weight=1, model__n_estimators=1147, model__reg_alpha=0.017533651538047108, model__reg_lambda=0.6085827977802097, model__subsample=0.9984045618162799; total time=   4.3s\n",
      "[CV] END model__colsample_bytree=0.6688584474942042, model__gamma=0.018886334554764617, model__learning_rate=0.14038658647667432, model__max_depth=4, model__min_child_weight=1, model__n_estimators=1147, model__reg_alpha=0.017533651538047108, model__reg_lambda=0.6085827977802097, model__subsample=0.9984045618162799; total time=   4.9s\n",
      "[CV] END model__colsample_bytree=0.7754656864383987, model__gamma=0.02984289020744026, model__learning_rate=0.011991901669297443, model__max_depth=6, model__min_child_weight=3, model__n_estimators=1951, model__reg_alpha=0.49449609724035243, model__reg_lambda=0.8018804858126851, model__subsample=0.6613861296092222; total time=  45.5s\n",
      "[CV] END model__colsample_bytree=0.7754656864383987, model__gamma=0.02984289020744026, model__learning_rate=0.011991901669297443, model__max_depth=6, model__min_child_weight=3, model__n_estimators=1951, model__reg_alpha=0.49449609724035243, model__reg_lambda=0.8018804858126851, model__subsample=0.6613861296092222; total time= -25.3s\n",
      "[CV] END model__colsample_bytree=0.7754656864383987, model__gamma=0.02984289020744026, model__learning_rate=0.011991901669297443, model__max_depth=6, model__min_child_weight=3, model__n_estimators=1951, model__reg_alpha=0.49449609724035243, model__reg_lambda=0.8018804858126851, model__subsample=0.6613861296092222; total time=   9.5s\n",
      "[CV] END model__colsample_bytree=0.6113075343546363, model__gamma=0.014769543198135188, model__learning_rate=0.04616413682838373, model__max_depth=5, model__min_child_weight=1, model__n_estimators=3637, model__reg_alpha=0.13873230415259144, model__reg_lambda=1.6850691764314052, model__subsample=0.7883509977045003; total time=  16.9s\n",
      "[CV] END model__colsample_bytree=0.6113075343546363, model__gamma=0.014769543198135188, model__learning_rate=0.04616413682838373, model__max_depth=5, model__min_child_weight=1, model__n_estimators=3637, model__reg_alpha=0.13873230415259144, model__reg_lambda=1.6850691764314052, model__subsample=0.7883509977045003; total time=  15.3s\n",
      "[CV] END model__colsample_bytree=0.6113075343546363, model__gamma=0.014769543198135188, model__learning_rate=0.04616413682838373, model__max_depth=5, model__min_child_weight=1, model__n_estimators=3637, model__reg_alpha=0.13873230415259144, model__reg_lambda=1.6850691764314052, model__subsample=0.7883509977045003; total time=  14.9s\n",
      "[CV] END model__colsample_bytree=0.7671495068349586, model__gamma=0.017027812614965495, model__learning_rate=0.07945639048942317, model__max_depth=7, model__min_child_weight=1, model__n_estimators=4335, model__reg_alpha=0.38490793387817623, model__reg_lambda=4.4165735423907995, model__subsample=0.7260548911144933; total time=  19.3s\n",
      "[CV] END model__colsample_bytree=0.7671495068349586, model__gamma=0.017027812614965495, model__learning_rate=0.07945639048942317, model__max_depth=7, model__min_child_weight=1, model__n_estimators=4335, model__reg_alpha=0.38490793387817623, model__reg_lambda=4.4165735423907995, model__subsample=0.7260548911144933; total time=  17.4s\n",
      "[CV] END model__colsample_bytree=0.7671495068349586, model__gamma=0.017027812614965495, model__learning_rate=0.07945639048942317, model__max_depth=7, model__min_child_weight=1, model__n_estimators=4335, model__reg_alpha=0.38490793387817623, model__reg_lambda=4.4165735423907995, model__subsample=0.7260548911144933; total time=  16.5s\n",
      "[CV] END model__colsample_bytree=0.6889942818352164, model__gamma=0.039379024774342936, model__learning_rate=0.030248837295737116, model__max_depth=7, model__min_child_weight=2, model__n_estimators=4462, model__reg_alpha=0.09479203039630413, model__reg_lambda=0.5321891263587486, model__subsample=0.6720405784472738; total time=  24.4s\n",
      "[CV] END model__colsample_bytree=0.6889942818352164, model__gamma=0.039379024774342936, model__learning_rate=0.030248837295737116, model__max_depth=7, model__min_child_weight=2, model__n_estimators=4462, model__reg_alpha=0.09479203039630413, model__reg_lambda=0.5321891263587486, model__subsample=0.6720405784472738; total time=  19.7s\n",
      "[CV] END model__colsample_bytree=0.6889942818352164, model__gamma=0.039379024774342936, model__learning_rate=0.030248837295737116, model__max_depth=7, model__min_child_weight=2, model__n_estimators=4462, model__reg_alpha=0.09479203039630413, model__reg_lambda=0.5321891263587486, model__subsample=0.6720405784472738; total time=  21.3s\n",
      "[CV] END model__colsample_bytree=0.6751727488284706, model__gamma=0.046169991655613654, model__learning_rate=0.010548273726604494, model__max_depth=9, model__min_child_weight=1, model__n_estimators=4310, model__reg_alpha=0.0510893707063908, model__reg_lambda=3.8586064581836363, model__subsample=0.7973687992094994; total time=  25.3s\n",
      "[CV] END model__colsample_bytree=0.6751727488284706, model__gamma=0.046169991655613654, model__learning_rate=0.010548273726604494, model__max_depth=9, model__min_child_weight=1, model__n_estimators=4310, model__reg_alpha=0.0510893707063908, model__reg_lambda=3.8586064581836363, model__subsample=0.7973687992094994; total time=  29.5s\n",
      "[CV] END model__colsample_bytree=0.6751727488284706, model__gamma=0.046169991655613654, model__learning_rate=0.010548273726604494, model__max_depth=9, model__min_child_weight=1, model__n_estimators=4310, model__reg_alpha=0.0510893707063908, model__reg_lambda=3.8586064581836363, model__subsample=0.7973687992094994; total time=  35.4s\n",
      "[CV] END model__colsample_bytree=0.8670871187828442, model__gamma=0.09882408964920437, model__learning_rate=0.14549071495077986, model__max_depth=9, model__min_child_weight=3, model__n_estimators=4983, model__reg_alpha=0.015543563396490429, model__reg_lambda=2.3283868663314506, model__subsample=0.6662339504334293; total time=  15.4s\n",
      "[CV] END model__colsample_bytree=0.8670871187828442, model__gamma=0.09882408964920437, model__learning_rate=0.14549071495077986, model__max_depth=9, model__min_child_weight=3, model__n_estimators=4983, model__reg_alpha=0.015543563396490429, model__reg_lambda=2.3283868663314506, model__subsample=0.6662339504334293; total time=  15.9s\n",
      "[CV] END model__colsample_bytree=0.8670871187828442, model__gamma=0.09882408964920437, model__learning_rate=0.14549071495077986, model__max_depth=9, model__min_child_weight=3, model__n_estimators=4983, model__reg_alpha=0.015543563396490429, model__reg_lambda=2.3283868663314506, model__subsample=0.6662339504334293; total time=  16.4s\n",
      "[CV] END model__colsample_bytree=0.6969244608790535, model__gamma=0.16608580179222227, model__learning_rate=0.010358370683927995, model__max_depth=4, model__min_child_weight=7, model__n_estimators=4156, model__reg_alpha=0.0012011482465064665, model__reg_lambda=0.7592860824483464, model__subsample=0.8081617501210616; total time=  16.4s\n",
      "[CV] END model__colsample_bytree=0.6969244608790535, model__gamma=0.16608580179222227, model__learning_rate=0.010358370683927995, model__max_depth=4, model__min_child_weight=7, model__n_estimators=4156, model__reg_alpha=0.0012011482465064665, model__reg_lambda=0.7592860824483464, model__subsample=0.8081617501210616; total time=  17.8s\n",
      "[CV] END model__colsample_bytree=0.6969244608790535, model__gamma=0.16608580179222227, model__learning_rate=0.010358370683927995, model__max_depth=4, model__min_child_weight=7, model__n_estimators=4156, model__reg_alpha=0.0012011482465064665, model__reg_lambda=0.7592860824483464, model__subsample=0.8081617501210616; total time=  19.6s\n",
      "[CV] END model__colsample_bytree=0.7441213409002947, model__gamma=0.1626507495486921, model__learning_rate=0.09149307576783536, model__max_depth=7, model__min_child_weight=3, model__n_estimators=1745, model__reg_alpha=0.29875968596542557, model__reg_lambda=1.1535308573255207, model__subsample=0.6105830078341383; total time=  11.0s\n",
      "[CV] END model__colsample_bytree=0.7441213409002947, model__gamma=0.1626507495486921, model__learning_rate=0.09149307576783536, model__max_depth=7, model__min_child_weight=3, model__n_estimators=1745, model__reg_alpha=0.29875968596542557, model__reg_lambda=1.1535308573255207, model__subsample=0.6105830078341383; total time=  10.3s\n",
      "[CV] END model__colsample_bytree=0.7441213409002947, model__gamma=0.1626507495486921, model__learning_rate=0.09149307576783536, model__max_depth=7, model__min_child_weight=3, model__n_estimators=1745, model__reg_alpha=0.29875968596542557, model__reg_lambda=1.1535308573255207, model__subsample=0.6105830078341383; total time=  12.0s\n",
      "[CV] END model__colsample_bytree=0.9171300301071124, model__gamma=0.007162799572970615, model__learning_rate=0.08130177338498142, model__max_depth=4, model__min_child_weight=2, model__n_estimators=2076, model__reg_alpha=0.007645348356750785, model__reg_lambda=4.440412446350595, model__subsample=0.8862499853616259; total time=   8.7s\n",
      "[CV] END model__colsample_bytree=0.9171300301071124, model__gamma=0.007162799572970615, model__learning_rate=0.08130177338498142, model__max_depth=4, model__min_child_weight=2, model__n_estimators=2076, model__reg_alpha=0.007645348356750785, model__reg_lambda=4.440412446350595, model__subsample=0.8862499853616259; total time=   7.7s\n",
      "[CV] END model__colsample_bytree=0.9171300301071124, model__gamma=0.007162799572970615, model__learning_rate=0.08130177338498142, model__max_depth=4, model__min_child_weight=2, model__n_estimators=2076, model__reg_alpha=0.007645348356750785, model__reg_lambda=4.440412446350595, model__subsample=0.8862499853616259; total time=  44.2s\n",
      "[CV] END model__colsample_bytree=0.6445181965836857, model__gamma=0.14167736863751074, model__learning_rate=0.0374337703461252, model__max_depth=9, model__min_child_weight=7, model__n_estimators=1127, model__reg_alpha=0.0035182072276302365, model__reg_lambda=1.5266812488280115, model__subsample=0.7795416797615741; total time= -27.6s\n",
      "[CV] END model__colsample_bytree=0.6445181965836857, model__gamma=0.14167736863751074, model__learning_rate=0.0374337703461252, model__max_depth=9, model__min_child_weight=7, model__n_estimators=1127, model__reg_alpha=0.0035182072276302365, model__reg_lambda=1.5266812488280115, model__subsample=0.7795416797615741; total time=   9.6s\n",
      "[CV] END model__colsample_bytree=0.6445181965836857, model__gamma=0.14167736863751074, model__learning_rate=0.0374337703461252, model__max_depth=9, model__min_child_weight=7, model__n_estimators=1127, model__reg_alpha=0.0035182072276302365, model__reg_lambda=1.5266812488280115, model__subsample=0.7795416797615741; total time=  43.0s\n",
      "\u001b[32m2025-07-17 11:52:30.123\u001b[0m | \u001b[1mINFO    \u001b[0m | \u001b[36m__main__\u001b[0m:\u001b[36m<module>\u001b[0m:\u001b[36m50\u001b[0m - \u001b[1mSearch finished in 1.50 hours\u001b[0m\n",
      "Best MAE (CV): 42.33407440389533\n",
      "Best params  : {'model__colsample_bytree': np.float64(0.7712863005502291), 'model__gamma': np.float64(0.014888364300159954), 'model__learning_rate': np.float64(0.015984579106477804), 'model__max_depth': 9, 'model__min_child_weight': 5, 'model__n_estimators': 3070, 'model__reg_alpha': np.float64(0.0013937239804606748), 'model__reg_lambda': np.float64(4.447497738551138), 'model__subsample': np.float64(0.9437569994190907)}\n",
      "\u001b[32m2025-07-17 11:52:30.163\u001b[0m | \u001b[1mINFO    \u001b[0m | \u001b[36m__main__\u001b[0m:\u001b[36m<module>\u001b[0m:\u001b[36m62\u001b[0m - \u001b[1mSaved model → ../models/xgb_randomsearch_best_2025-07-17_115230.pkl\u001b[0m\n"
     ]
    }
   ],
   "source": [
    "import pathlib\n",
    "import pickle\n",
    "import time\n",
    "from datetime import datetime\n",
    "\n",
    "from scipy.stats import loguniform, randint\n",
    "from sklearn.model_selection import RandomizedSearchCV\n",
    "from xgboost import XGBRegressor\n",
    "\n",
    "# --- reuse the `preprocessor`, `cat_cols`, `num_cols`, X_train, y_train\n",
    "#     created in earlier notebook cells ---------------------------------\n",
    "\n",
    "RANDOMIZED_SEARCH_N_ITER = 120\n",
    "\n",
    "base_xgb = XGBRegressor(\n",
    "    objective=\"reg:squarederror\",\n",
    "    tree_method=\"hist\",   # leave algorithm choice to 'hist'\n",
    "    device=\"cuda\",        # run on GPU\n",
    "    n_jobs=-1,\n",
    "    random_state=42,\n",
    ")\n",
    "\n",
    "pipeline = Pipeline([(\"preprocessor\", preprocessor), (\"model\", base_xgb)])\n",
    "\n",
    "param_dist = {\n",
    "    \"model__n_estimators\"     : randint(1500, 6000),\n",
    "    \"model__learning_rate\"    : loguniform(0.01, 0.05),\n",
    "    \"model__max_depth\"        : randint(4, 10),\n",
    "    \"model__min_child_weight\" : randint(1, 10),\n",
    "    \"model__subsample\"        : loguniform(0.7, 1.0),\n",
    "    \"model__colsample_bytree\" : loguniform(0.7, 1.0),\n",
    "    \"model__gamma\"            : loguniform(1e-3, 0.3),\n",
    "    \"model__reg_alpha\"        : loguniform(1e-3, 1.0),\n",
    "    \"model__reg_lambda\"       : loguniform(0.5, 5.0),\n",
    "}\n",
    "\n",
    "search = RandomizedSearchCV(\n",
    "    pipeline,\n",
    "    param_distributions=param_dist,\n",
    "    n_iter=RANDOMIZED_SEARCH_N_ITER,                 # was told n_iter=80 would take ≈5–6 h on 8‑core CPU\n",
    "    cv=3,\n",
    "    scoring=\"neg_mean_absolute_error\",\n",
    "    verbose=2,\n",
    "    n_jobs=1,                  # let each trial use all cores\n",
    "    random_state=42,\n",
    ")\n",
    "\n",
    "start = time.time()\n",
    "search.fit(X_train, y_train)   # ← no eval_set passed through pipeline\n",
    "logger.info(f\"Search finished in {(time.time()-start)/3600:.2f} hours\")\n",
    "\n",
    "print(\"Best MAE (CV):\", -search.best_score_)\n",
    "print(\"Best params  :\", search.best_params_)\n",
    "\n",
    "# save the tuned pipeline\n",
    "best_model = search.best_estimator_\n",
    "pathlib.Path(\"../models\").mkdir(exist_ok=True)\n",
    "timestamp = datetime.now().strftime(\"%Y-%m-%d_%H%M%S\")\n",
    "with open(f\"../models/xgb_randomsearch_best_{timestamp}.pkl\", \"wb\") as f:\n",
    "    pickle.dump(best_model, f)\n",
    "\n",
    "logger.info(f\"Saved model → ../models/xgb_randomsearch_best_{timestamp}.pkl\")"
   ]
  },
  {
   "cell_type": "code",
   "execution_count": null,
   "id": "c4752336",
   "metadata": {},
   "outputs": [
    {
     "name": "stdout",
     "output_type": "stream",
     "text": [
      "\u001b[32m2025-07-17 11:52:30.218\u001b[0m | \u001b[1mINFO    \u001b[0m | \u001b[36mnomination_predictor.modeling.predict\u001b[0m:\u001b[36mpredict_model\u001b[0m:\u001b[36m18\u001b[0m - \u001b[1mPredicting using model on 283 samples, 38 features\u001b[0m\n"
     ]
    },
    {
     "name": "stderr",
     "output_type": "stream",
     "text": [
      "Predicting:   0%|          | 0/1 [00:00<?, ?it/s]\n"
     ]
    },
    {
     "ename": "NotFittedError",
     "evalue": "Pipeline is not fitted yet.",
     "output_type": "error",
     "traceback": [
      "\u001b[31m---------------------------------------------------------------------------\u001b[39m",
      "\u001b[31mNotFittedError\u001b[39m                            Traceback (most recent call last)",
      "\u001b[36mFile \u001b[39m\u001b[32m~/.virtualenvs/nomination_predictor/lib/python3.12/site-packages/sklearn/pipeline.py:53\u001b[39m, in \u001b[36m_raise_or_warn_if_not_fitted\u001b[39m\u001b[34m(estimator)\u001b[39m\n\u001b[32m     52\u001b[39m \u001b[38;5;28;01mtry\u001b[39;00m:\n\u001b[32m---> \u001b[39m\u001b[32m53\u001b[39m     \u001b[38;5;28;01myield\u001b[39;00m\n\u001b[32m     54\u001b[39m \u001b[38;5;28;01mexcept\u001b[39;00m NotFittedError \u001b[38;5;28;01mas\u001b[39;00m exc:\n",
      "\u001b[36mFile \u001b[39m\u001b[32m~/.virtualenvs/nomination_predictor/lib/python3.12/site-packages/sklearn/pipeline.py:787\u001b[39m, in \u001b[36mPipeline.predict\u001b[39m\u001b[34m(self, X, **params)\u001b[39m\n\u001b[32m    786\u001b[39m         Xt = transform.transform(Xt)\n\u001b[32m--> \u001b[39m\u001b[32m787\u001b[39m     \u001b[38;5;28;01mreturn\u001b[39;00m \u001b[38;5;28;43mself\u001b[39;49m\u001b[43m.\u001b[49m\u001b[43msteps\u001b[49m\u001b[43m[\u001b[49m\u001b[43m-\u001b[49m\u001b[32;43m1\u001b[39;49m\u001b[43m]\u001b[49m\u001b[43m[\u001b[49m\u001b[32;43m1\u001b[39;49m\u001b[43m]\u001b[49m\u001b[43m.\u001b[49m\u001b[43mpredict\u001b[49m\u001b[43m(\u001b[49m\u001b[43mXt\u001b[49m\u001b[43m,\u001b[49m\u001b[43m \u001b[49m\u001b[43m*\u001b[49m\u001b[43m*\u001b[49m\u001b[43mparams\u001b[49m\u001b[43m)\u001b[49m\n\u001b[32m    789\u001b[39m \u001b[38;5;66;03m# metadata routing enabled\u001b[39;00m\n",
      "\u001b[36mFile \u001b[39m\u001b[32m~/.virtualenvs/nomination_predictor/lib/python3.12/site-packages/xgboost/core.py:729\u001b[39m, in \u001b[36mrequire_keyword_args.<locals>.throw_if.<locals>.inner_f\u001b[39m\u001b[34m(*args, **kwargs)\u001b[39m\n\u001b[32m    728\u001b[39m     kwargs[k] = arg\n\u001b[32m--> \u001b[39m\u001b[32m729\u001b[39m \u001b[38;5;28;01mreturn\u001b[39;00m \u001b[43mfunc\u001b[49m\u001b[43m(\u001b[49m\u001b[43m*\u001b[49m\u001b[43m*\u001b[49m\u001b[43mkwargs\u001b[49m\u001b[43m)\u001b[49m\n",
      "\u001b[36mFile \u001b[39m\u001b[32m~/.virtualenvs/nomination_predictor/lib/python3.12/site-packages/xgboost/sklearn.py:1327\u001b[39m, in \u001b[36mXGBModel.predict\u001b[39m\u001b[34m(self, X, output_margin, validate_features, base_margin, iteration_range)\u001b[39m\n\u001b[32m   1326\u001b[39m \u001b[38;5;28;01mtry\u001b[39;00m:\n\u001b[32m-> \u001b[39m\u001b[32m1327\u001b[39m     predts = \u001b[38;5;28;43mself\u001b[39;49m\u001b[43m.\u001b[49m\u001b[43mget_booster\u001b[49m\u001b[43m(\u001b[49m\u001b[43m)\u001b[49m.inplace_predict(\n\u001b[32m   1328\u001b[39m         data=X,\n\u001b[32m   1329\u001b[39m         iteration_range=iteration_range,\n\u001b[32m   1330\u001b[39m         predict_type=\u001b[33m\"\u001b[39m\u001b[33mmargin\u001b[39m\u001b[33m\"\u001b[39m \u001b[38;5;28;01mif\u001b[39;00m output_margin \u001b[38;5;28;01melse\u001b[39;00m \u001b[33m\"\u001b[39m\u001b[33mvalue\u001b[39m\u001b[33m\"\u001b[39m,\n\u001b[32m   1331\u001b[39m         missing=\u001b[38;5;28mself\u001b[39m.missing,\n\u001b[32m   1332\u001b[39m         base_margin=base_margin,\n\u001b[32m   1333\u001b[39m         validate_features=validate_features,\n\u001b[32m   1334\u001b[39m     )\n\u001b[32m   1335\u001b[39m     \u001b[38;5;28;01mif\u001b[39;00m _is_cupy_alike(predts):\n",
      "\u001b[36mFile \u001b[39m\u001b[32m~/.virtualenvs/nomination_predictor/lib/python3.12/site-packages/xgboost/sklearn.py:922\u001b[39m, in \u001b[36mXGBModel.get_booster\u001b[39m\u001b[34m(self)\u001b[39m\n\u001b[32m    920\u001b[39m     \u001b[38;5;28;01mfrom\u001b[39;00m\u001b[38;5;250m \u001b[39m\u001b[34;01msklearn\u001b[39;00m\u001b[34;01m.\u001b[39;00m\u001b[34;01mexceptions\u001b[39;00m\u001b[38;5;250m \u001b[39m\u001b[38;5;28;01mimport\u001b[39;00m NotFittedError\n\u001b[32m--> \u001b[39m\u001b[32m922\u001b[39m     \u001b[38;5;28;01mraise\u001b[39;00m NotFittedError(\u001b[33m\"\u001b[39m\u001b[33mneed to call fit or load_model beforehand\u001b[39m\u001b[33m\"\u001b[39m)\n\u001b[32m    923\u001b[39m \u001b[38;5;28;01mreturn\u001b[39;00m \u001b[38;5;28mself\u001b[39m._Booster\n",
      "\u001b[31mNotFittedError\u001b[39m: need to call fit or load_model beforehand",
      "\nThe above exception was the direct cause of the following exception:\n",
      "\u001b[31mNotFittedError\u001b[39m                            Traceback (most recent call last)",
      "\u001b[36mCell\u001b[39m\u001b[36m \u001b[39m\u001b[32mIn[23]\u001b[39m\u001b[32m, line 1\u001b[39m\n\u001b[32m----> \u001b[39m\u001b[32m1\u001b[39m y_pred = \u001b[43mpredict_model\u001b[49m\u001b[43m(\u001b[49m\u001b[43mpipeline\u001b[49m\u001b[43m,\u001b[49m\u001b[43m \u001b[49m\u001b[43mX_test\u001b[49m\u001b[43m)\u001b[49m\n\u001b[32m      2\u001b[39m mae = mean_absolute_error(y_test, y_pred)\n\u001b[32m      3\u001b[39m r2 = r2_score(y_test, y_pred)\n",
      "\u001b[36mFile \u001b[39m\u001b[32m~/nomination_predictor/nomination_predictor/modeling/predict.py:20\u001b[39m, in \u001b[36mpredict_model\u001b[39m\u001b[34m(pipeline, X_test)\u001b[39m\n\u001b[32m     18\u001b[39m logger.info(\u001b[33mf\u001b[39m\u001b[33m\"\u001b[39m\u001b[33mPredicting using model on \u001b[39m\u001b[38;5;132;01m{\u001b[39;00mX_test.shape[\u001b[32m0\u001b[39m]\u001b[38;5;132;01m}\u001b[39;00m\u001b[33m samples, \u001b[39m\u001b[38;5;132;01m{\u001b[39;00mX_test.shape[\u001b[32m1\u001b[39m]\u001b[38;5;132;01m}\u001b[39;00m\u001b[33m features\u001b[39m\u001b[33m\"\u001b[39m)\n\u001b[32m     19\u001b[39m \u001b[38;5;28;01mwith\u001b[39;00m tqdm(total=\u001b[32m1\u001b[39m, desc=\u001b[33m\"\u001b[39m\u001b[33mPredicting\u001b[39m\u001b[33m\"\u001b[39m) \u001b[38;5;28;01mas\u001b[39;00m progress_bar:\n\u001b[32m---> \u001b[39m\u001b[32m20\u001b[39m     predictions = \u001b[43mpipeline\u001b[49m\u001b[43m.\u001b[49m\u001b[43mpredict\u001b[49m\u001b[43m(\u001b[49m\u001b[43mX_test\u001b[49m\u001b[43m)\u001b[49m\n\u001b[32m     21\u001b[39m     progress_bar.update(\u001b[32m1\u001b[39m)\n\u001b[32m     22\u001b[39m logger.info(\u001b[33m\"\u001b[39m\u001b[33mPrediction completed\u001b[39m\u001b[33m\"\u001b[39m)\n",
      "\u001b[36mFile \u001b[39m\u001b[32m~/.virtualenvs/nomination_predictor/lib/python3.12/site-packages/sklearn/pipeline.py:781\u001b[39m, in \u001b[36mPipeline.predict\u001b[39m\u001b[34m(self, X, **params)\u001b[39m\n\u001b[32m    739\u001b[39m \u001b[38;5;250m\u001b[39m\u001b[33;03m\"\"\"Transform the data, and apply `predict` with the final estimator.\u001b[39;00m\n\u001b[32m    740\u001b[39m \n\u001b[32m    741\u001b[39m \u001b[33;03mCall `transform` of each transformer in the pipeline. The transformed\u001b[39;00m\n\u001b[32m   (...)\u001b[39m\u001b[32m    778\u001b[39m \u001b[33;03m    Result of calling `predict` on the final estimator.\u001b[39;00m\n\u001b[32m    779\u001b[39m \u001b[33;03m\"\"\"\u001b[39;00m\n\u001b[32m    780\u001b[39m \u001b[38;5;66;03m# TODO(1.8): Remove the context manager and use check_is_fitted(self)\u001b[39;00m\n\u001b[32m--> \u001b[39m\u001b[32m781\u001b[39m \u001b[43m\u001b[49m\u001b[38;5;28;43;01mwith\u001b[39;49;00m\u001b[43m \u001b[49m\u001b[43m_raise_or_warn_if_not_fitted\u001b[49m\u001b[43m(\u001b[49m\u001b[38;5;28;43mself\u001b[39;49m\u001b[43m)\u001b[49m\u001b[43m:\u001b[49m\n\u001b[32m    782\u001b[39m \u001b[43m    \u001b[49m\u001b[43mXt\u001b[49m\u001b[43m \u001b[49m\u001b[43m=\u001b[49m\u001b[43m \u001b[49m\u001b[43mX\u001b[49m\n\u001b[32m    784\u001b[39m \u001b[43m    \u001b[49m\u001b[38;5;28;43;01mif\u001b[39;49;00m\u001b[43m \u001b[49m\u001b[38;5;129;43;01mnot\u001b[39;49;00m\u001b[43m \u001b[49m\u001b[43m_routing_enabled\u001b[49m\u001b[43m(\u001b[49m\u001b[43m)\u001b[49m\u001b[43m:\u001b[49m\n",
      "\u001b[36mFile \u001b[39m\u001b[32m/usr/lib/python3.12/contextlib.py:158\u001b[39m, in \u001b[36m_GeneratorContextManager.__exit__\u001b[39m\u001b[34m(self, typ, value, traceback)\u001b[39m\n\u001b[32m    156\u001b[39m     value = typ()\n\u001b[32m    157\u001b[39m \u001b[38;5;28;01mtry\u001b[39;00m:\n\u001b[32m--> \u001b[39m\u001b[32m158\u001b[39m     \u001b[38;5;28;43mself\u001b[39;49m\u001b[43m.\u001b[49m\u001b[43mgen\u001b[49m\u001b[43m.\u001b[49m\u001b[43mthrow\u001b[49m\u001b[43m(\u001b[49m\u001b[43mvalue\u001b[49m\u001b[43m)\u001b[49m\n\u001b[32m    159\u001b[39m \u001b[38;5;28;01mexcept\u001b[39;00m \u001b[38;5;167;01mStopIteration\u001b[39;00m \u001b[38;5;28;01mas\u001b[39;00m exc:\n\u001b[32m    160\u001b[39m     \u001b[38;5;66;03m# Suppress StopIteration *unless* it's the same exception that\u001b[39;00m\n\u001b[32m    161\u001b[39m     \u001b[38;5;66;03m# was passed to throw().  This prevents a StopIteration\u001b[39;00m\n\u001b[32m    162\u001b[39m     \u001b[38;5;66;03m# raised inside the \"with\" statement from being suppressed.\u001b[39;00m\n\u001b[32m    163\u001b[39m     \u001b[38;5;28;01mreturn\u001b[39;00m exc \u001b[38;5;129;01mis\u001b[39;00m \u001b[38;5;129;01mnot\u001b[39;00m value\n",
      "\u001b[36mFile \u001b[39m\u001b[32m~/.virtualenvs/nomination_predictor/lib/python3.12/site-packages/sklearn/pipeline.py:55\u001b[39m, in \u001b[36m_raise_or_warn_if_not_fitted\u001b[39m\u001b[34m(estimator)\u001b[39m\n\u001b[32m     53\u001b[39m     \u001b[38;5;28;01myield\u001b[39;00m\n\u001b[32m     54\u001b[39m \u001b[38;5;28;01mexcept\u001b[39;00m NotFittedError \u001b[38;5;28;01mas\u001b[39;00m exc:\n\u001b[32m---> \u001b[39m\u001b[32m55\u001b[39m     \u001b[38;5;28;01mraise\u001b[39;00m NotFittedError(\u001b[33m\"\u001b[39m\u001b[33mPipeline is not fitted yet.\u001b[39m\u001b[33m\"\u001b[39m) \u001b[38;5;28;01mfrom\u001b[39;00m\u001b[38;5;250m \u001b[39m\u001b[34;01mexc\u001b[39;00m\n\u001b[32m     57\u001b[39m \u001b[38;5;66;03m# we only get here if the above didn't raise\u001b[39;00m\n\u001b[32m     58\u001b[39m \u001b[38;5;28;01mtry\u001b[39;00m:\n",
      "\u001b[31mNotFittedError\u001b[39m: Pipeline is not fitted yet."
     ]
    }
   ],
   "source": [
    "y_pred = predict_model(pipeline, X_test)\n",
    "mae = mean_absolute_error(y_test, y_pred)\n",
    "r2 = r2_score(y_test, y_pred)\n",
    "interpret_results(mae, r2, y_train)\n",
    "\n",
    "model_file = save_model_with_metadata(\n",
    "    pipeline, \n",
    "    \"xgboost_regression_randomsearch\",\n",
    "    metadata={\n",
    "        'description': 'XGBoost regression model for nomination confirmation time prediction, tuned with random search',\n",
    "        'parameters': search.best_params_,\n",
    "        },\n",
    "    X_train=X_train,\n",
    "    y_train=y_train,\n",
    "    mae=mae,\n",
    "    r2=r2\n",
    ")"
   ]
  }
 ],
 "metadata": {
  "kernelspec": {
   "display_name": "nomination_predictor",
   "language": "python",
   "name": "python3"
  },
  "language_info": {
   "codemirror_mode": {
    "name": "ipython",
    "version": 3
   },
   "file_extension": ".py",
   "mimetype": "text/x-python",
   "name": "python",
   "nbconvert_exporter": "python",
   "pygments_lexer": "ipython3",
   "version": "3.12.3"
  }
 },
 "nbformat": 4,
 "nbformat_minor": 5
}
