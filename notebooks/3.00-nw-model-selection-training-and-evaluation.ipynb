{
 "cells": [
  {
   "cell_type": "markdown",
   "id": "4b092c37",
   "metadata": {},
   "source": [
    "# Model training and evaluation"
   ]
  },
  {
   "cell_type": "code",
   "execution_count": null,
   "id": "2280e74d",
   "metadata": {},
   "outputs": [
    {
     "name": "stdout",
     "output_type": "stream",
     "text": [
      "\u001b[32m2025-07-18 15:30:50.003\u001b[0m | \u001b[1mINFO    \u001b[0m | \u001b[36mnomination_predictor.config\u001b[0m:\u001b[36m<module>\u001b[0m:\u001b[36m103\u001b[0m - \u001b[1mProject root: /home/wsl2ubuntuuser/nomination_predictor\u001b[0m\n",
      "\u001b[32m2025-07-18 15:30:50.004\u001b[0m | \u001b[1mINFO    \u001b[0m | \u001b[36mnomination_predictor.config\u001b[0m:\u001b[36m<module>\u001b[0m:\u001b[36m127\u001b[0m - \u001b[1mConfiguration loaded\u001b[0m\n"
     ]
    }
   ],
   "source": [
    "# Import standard libraries\n",
    "import itertools\n",
    "import time\n",
    "from pathlib import Path\n",
    "\n",
    "import matplotlib.pyplot as plt\n",
    "import numpy as np\n",
    "import pandas as pd\n",
    "import seaborn as sns\n",
    "from loguru import logger\n",
    "from sklearn.compose import ColumnTransformer\n",
    "from sklearn.model_selection import RandomizedSearchCV, train_test_split\n",
    "from sklearn.pipeline import Pipeline\n",
    "from sklearn.preprocessing import OneHotEncoder, StandardScaler\n",
    "from tqdm.notebook import tqdm\n",
    "from xgboost import XGBRegressor\n",
    "\n",
    "from nomination_predictor.config import MODELS_DIR, PROCESSED_DATA_DIR\n",
    "from nomination_predictor.modeling.predict import (compare_models,\n",
    "                                                   evaluate_and_report_model,\n",
    "                                                   train_and_evaluate_model)\n",
    "from nomination_predictor.modeling.train import save_model_with_metadata"
   ]
  },
  {
   "cell_type": "code",
   "execution_count": null,
   "id": "ba41e7ff",
   "metadata": {},
   "outputs": [],
   "source": [
    "df = pd.read_csv(PROCESSED_DATA_DIR/\"processed.csv\")"
   ]
  },
  {
   "cell_type": "markdown",
   "id": "52963229",
   "metadata": {},
   "source": [
    "# Verify GPU availability"
   ]
  },
  {
   "cell_type": "code",
   "execution_count": null,
   "id": "cf384ea2",
   "metadata": {},
   "outputs": [
    {
     "name": "stdout",
     "output_type": "stream",
     "text": [
      "📦 XGBoost version: 3.0.2\n",
      "✅ GPU detected:\n",
      "  🔹 NVIDIA GeForce RTX 3070, 8192 MiB\n",
      "  🔹 NVIDIA GeForce RTX 2060, 6144 MiB\n",
      "✅ XGBoost GPU support confirmed with current syntax!\n"
     ]
    }
   ],
   "source": [
    "# Verify current GPU setup\n",
    "import subprocess\n",
    "\n",
    "import xgboost as xgb\n",
    "\n",
    "print(f\"📦 XGBoost version: {xgb.__version__}\")\n",
    "\n",
    "# Test GPU availability\n",
    "try:\n",
    "    result = subprocess.run(['nvidia-smi', '--query-gpu=name,memory.total', '--format=csv,noheader'], \n",
    "                          capture_output=True, text=True)\n",
    "    if result.returncode == 0:\n",
    "        print(\"✅ GPU detected:\")\n",
    "        for line in result.stdout.strip().split('\\n'):\n",
    "            print(f\"  🔹 {line}\")\n",
    "    else:\n",
    "        print(\"❌ nvidia-smi failed\")\n",
    "except FileNotFoundError:\n",
    "    print(\"❌ nvidia-smi not found\")\n",
    "\n",
    "# Test XGBoost GPU support\n",
    "try:\n",
    "    test_model = xgb.XGBRegressor(tree_method=\"hist\", device=\"cuda\")\n",
    "    print(\"✅ XGBoost GPU support confirmed with current syntax!\")\n",
    "except Exception as e:\n",
    "    print(f\"❌ XGBoost GPU issue: {e}\")"
   ]
  },
  {
   "cell_type": "markdown",
   "id": "5d2a664c",
   "metadata": {},
   "source": [
    "# Choose features"
   ]
  },
  {
   "cell_type": "markdown",
   "id": "ef5b090b",
   "metadata": {},
   "source": [
    "## target variable"
   ]
  },
  {
   "cell_type": "code",
   "execution_count": null,
   "id": "a4addbf7",
   "metadata": {},
   "outputs": [],
   "source": [
    "TARGET = \"days_nom_to_conf\"\n",
    "\n",
    "# pick target and drop Y label targets from features\n",
    "y = df[TARGET]\n",
    "X = df.drop(columns=[TARGET, \"days_nom_to_latest_action\"])  # other target saved for later tries at modeling"
   ]
  },
  {
   "cell_type": "markdown",
   "id": "fee2378c",
   "metadata": {},
   "source": [
    "## numeric features"
   ]
  },
  {
   "cell_type": "code",
   "execution_count": null,
   "id": "75663fb7",
   "metadata": {},
   "outputs": [],
   "source": [
    "NUMERIC_FEATURES = [\n",
    "    \"actions_count\",\n",
    "    \"age_at_nom_days\",\n",
    "    \"birth_year\", \n",
    "    \"committees_count\",\n",
    "    \"congress_num\", \n",
    "    \"days_into_pres_term\",\n",
    "    \"days_nom_to_deceased\",\n",
    "    \"days_to_next_midterm_election\",\n",
    "    \"days_to_next_pres_election\",\n",
    "    \"death_year\", \n",
    "    \"degree_year\", \n",
    "    \"education_sequence\", \n",
    "    \"fed_service_sequence\", \n",
    "    \"highest_degree_level\",\n",
    "    \"professional_career_sequence\",\n",
    "    \"record_vote_number\",   \n",
    "    \"service_as_chief_judge,_begin\", \n",
    "    \"service_as_chief_judge,_end\",\n",
    "]"
   ]
  },
  {
   "cell_type": "markdown",
   "id": "a6168585",
   "metadata": {},
   "source": [
    "# boolean features"
   ]
  },
  {
   "cell_type": "code",
   "execution_count": null,
   "id": "18da2afe",
   "metadata": {},
   "outputs": [],
   "source": [
    "BOOLEAN_FEATURES = [\n",
    "    \"pres_term_is_latter_term\", \n",
    "    \"statute_authorized_new_seat_bool\",\n",
    "]"
   ]
  },
  {
   "cell_type": "markdown",
   "id": "2f2bbf16",
   "metadata": {},
   "source": [
    "# categorical features"
   ]
  },
  {
   "cell_type": "code",
   "execution_count": null,
   "id": "69674cb3",
   "metadata": {},
   "outputs": [],
   "source": [
    "CATEGORICAL_FEATURES  = [\n",
    "    \"aba_rating\", \n",
    "    \"appointing_president\",\n",
    "    \"congress_session\",\n",
    "    \"court_type\",\n",
    "    \"birth_state\",\n",
    "    \"latestaction_is_div_opp_house\",\n",
    "    \"latestaction_is_div_opp_senate\",\n",
    "    \"latestaction_is_fully_div\",\n",
    "    \"latestaction_is_unified\",\n",
    "    \"nomination_vacancy_reason\",\n",
    "    \"nomination_of_or_from_location\",\n",
    "    \"nomination_to_position_title\",\n",
    "    \"nomination_to_court_name\",\n",
    "    \"nominees_0_organization\",\n",
    "    \"nominees_0_state\",\n",
    "    \"nomination_term_years\", # sounds numeric but only few options, including lifetime\n",
    "    \"party_of_appointing_president\",\n",
    "    \"race_or_ethnicity\",\n",
    "    \"received_in_senate_political_era\",\n",
    "    \"school\",\n",
    "    \"seat_level_cong_recategorized\",\n",
    "    \"seat_id_letters_only\",\n",
    "    \"senate_vote_type\"\n",
    "]"
   ]
  },
  {
   "cell_type": "code",
   "execution_count": null,
   "id": "22ec7c3b",
   "metadata": {},
   "outputs": [
    {
     "name": "stdout",
     "output_type": "stream",
     "text": [
      "✅ All features are unique across feature type lists\n",
      "ℹ️ Total unique features: 43\n"
     ]
    }
   ],
   "source": [
    "from nomination_predictor.modeling.train import validate_feature_lists\n",
    "\n",
    "are_features_unique = validate_feature_lists(NUMERIC_FEATURES, BOOLEAN_FEATURES, CATEGORICAL_FEATURES)\n",
    "\n",
    "if not are_features_unique:\n",
    "    raise ValueError(\"Feature lists contain duplicates. Please fix before continuing.\")"
   ]
  },
  {
   "cell_type": "code",
   "execution_count": null,
   "id": "0aa37ab1",
   "metadata": {},
   "outputs": [],
   "source": [
    "if len([col for col in NUMERIC_FEATURES if col not in df.columns]) > 0:\n",
    "    logger.warning(\"The following columns in NUMERIC_FEATURES are absent from the df: {}\".format(\n",
    "        [col for col in NUMERIC_FEATURES if col not in df.columns],\n",
    "    ))\n",
    "if len([col for col in BOOLEAN_FEATURES if col not in df.columns]) > 0:\n",
    "    logger.warning(\"The following columns in BOOLEAN_FEATURES are absent from the df: {}\".format(\n",
    "        [col for col in BOOLEAN_FEATURES if col not in df.columns],\n",
    "    ))\n",
    "if len([col for col in CATEGORICAL_FEATURES if col not in df.columns]) > 0:\n",
    "    logger.warning(\"The following columns in CATEGORICAL_FEATURES are absent from the df: {}\".format(\n",
    "        [col for col in CATEGORICAL_FEATURES if col not in df.columns],\n",
    "    ))"
   ]
  },
  {
   "cell_type": "code",
   "execution_count": null,
   "id": "448b8daa",
   "metadata": {},
   "outputs": [],
   "source": [
    "cat_cols = df.select_dtypes(\"object\").columns.tolist()\n",
    "num_cols = [\n",
    "    c for c in df.select_dtypes(\"number\").columns\n",
    "    if c not in {TARGET}\n",
    "]\n",
    "\n",
    "df_model = df[df[TARGET].notna()].copy()\n",
    "X = df_model[BOOLEAN_FEATURES + CATEGORICAL_FEATURES + NUMERIC_FEATURES]\n",
    "y = df_model[TARGET]"
   ]
  },
  {
   "cell_type": "markdown",
   "id": "45705d71",
   "metadata": {},
   "source": [
    "# splitting training and testing data"
   ]
  },
  {
   "cell_type": "code",
   "execution_count": null,
   "id": "49d60c7b",
   "metadata": {},
   "outputs": [],
   "source": [
    "from sklearn.model_selection import train_test_split\n",
    "\n",
    "# Create composite strata\n",
    "strata = (\n",
    "    df_model[\"seat_level_cong_recategorized\"].astype(str)\n",
    "    + \"__\"\n",
    "    + df_model[\"received_in_senate_political_era\"].astype(str)\n",
    ")\n",
    "\n",
    "# Optionally collapse very-rare strata to 'Other' (prevents ValueError)\n",
    "min_count = 3          # tweak as needed\n",
    "rare_mask = strata.map(strata.value_counts()) < min_count\n",
    "strata = strata.where(~rare_mask, other=\"Other\")\n",
    "\n",
    "# Train–test split\n",
    "X_train, X_test, y_train, y_test = train_test_split(\n",
    "    X,\n",
    "    y,\n",
    "    test_size=0.20,\n",
    "    random_state=42,\n",
    "    stratify=strata,\n",
    ")"
   ]
  },
  {
   "cell_type": "code",
   "execution_count": null,
   "id": "03e8956b",
   "metadata": {},
   "outputs": [],
   "source": [
    "# I'm normally accustomed to naming python constants with all-caps, but my code assist tools are insisting on making these lowercase, so we'll alias them just to appease it\n",
    "numerical_features = NUMERIC_FEATURES\n",
    "categorical_features = CATEGORICAL_FEATURES"
   ]
  },
  {
   "cell_type": "markdown",
   "id": "b65d6351",
   "metadata": {},
   "source": [
    "# Model Selection, Training, and Evaluation"
   ]
  },
  {
   "cell_type": "markdown",
   "id": "5f304ff9",
   "metadata": {},
   "source": [
    "##  Preprocessing pipeline setup"
   ]
  },
  {
   "cell_type": "markdown",
   "id": "188d6e32",
   "metadata": {},
   "source": [
    "Given how much data cleaning is(n't) happening so far, it's entirely possible the test data will contain something the training pipeline has never seen in the training data.\n",
    "\n",
    "An example of an error message it threw when this occurred was `ValueError: Found unknown categories ['Syria', 'Russia', 'Trinidad and Tobago', 'Panama'] in column 4 during transform`, presumably because all of those were locations nominees have been appointed to work at or work with.\n",
    "\n",
    "The simplest workaround is to ignore them until/unless enough feature-engineering can be done to re-bin them (e.g. by continent, or job type, etc.)"
   ]
  },
  {
   "cell_type": "code",
   "execution_count": null,
   "id": "9d0aecc3",
   "metadata": {},
   "outputs": [],
   "source": [
    "# Fixed preprocessing pipeline\n",
    "preprocessor = ColumnTransformer(\n",
    "    transformers=[\n",
    "        ('num', StandardScaler(), numerical_features),\n",
    "        ('cat', OneHotEncoder(\n",
    "            drop='first', \n",
    "            sparse_output=False,\n",
    "            handle_unknown='ignore'  # 🔧 workaround for error described in a markdown cell above\n",
    "        ), categorical_features)\n",
    "    ]\n",
    ")"
   ]
  },
  {
   "cell_type": "markdown",
   "id": "16561816",
   "metadata": {},
   "source": [
    "## Untuned / naive pipeline"
   ]
  },
  {
   "cell_type": "code",
   "execution_count": null,
   "id": "f6589d8d",
   "metadata": {},
   "outputs": [],
   "source": [
    "baseline_pipeline = Pipeline([\n",
    "    ('preprocessor', preprocessor),\n",
    "    ('model', XGBRegressor(\n",
    "        tree_method=\"hist\",      # ✅ Current way\n",
    "        device=\"cuda\",           # ✅ Current way (replaces gpu_id, predictor, etc.)\n",
    "        n_estimators=500,\n",
    "        max_depth=6,\n",
    "        learning_rate=0.1,\n",
    "        random_state=42,\n",
    "        n_jobs=-1\n",
    "    ))\n",
    "])"
   ]
  },
  {
   "cell_type": "markdown",
   "id": "a227ec69",
   "metadata": {},
   "source": [
    "## Training & Evaluation"
   ]
  },
  {
   "cell_type": "markdown",
   "id": "501ff3cf",
   "metadata": {},
   "source": [
    "### Choice of metric: MAE\n",
    "\n",
    "Mean Squared Error (MSE) and Root Mean Squared Error (RMSE) are both sensitive to outliers, and MSE also doesn't use the same units as our target variable, making it less intuitive.\n",
    "\n",
    "After all our data cleaning, we have few-enough rows of data, with outliers occurring often-enough, that I'm selecting Mean Absolute Error (MAE) as our metric."
   ]
  },
  {
   "cell_type": "code",
   "execution_count": null,
   "id": "e0d7fba3",
   "metadata": {},
   "outputs": [
    {
     "name": "stdout",
     "output_type": "stream",
     "text": [
      "\u001b[32m2025-07-18 15:30:50.619\u001b[0m | \u001b[1mINFO    \u001b[0m | \u001b[36mnomination_predictor.modeling.predict\u001b[0m:\u001b[36mtrain_and_evaluate_model\u001b[0m:\u001b[36m46\u001b[0m - \u001b[1mTraining XGBoost Baseline on 1424 samples, 43 features\u001b[0m\n"
     ]
    },
    {
     "name": "stderr",
     "output_type": "stream",
     "text": [
      "Training XGBoost Baseline: 100%|██████████| 1/1 [00:03<00:00,  3.31s/it]\n"
     ]
    },
    {
     "name": "stdout",
     "output_type": "stream",
     "text": [
      "\u001b[32m2025-07-18 15:30:53.933\u001b[0m | \u001b[1mINFO    \u001b[0m | \u001b[36mnomination_predictor.modeling.predict\u001b[0m:\u001b[36mtrain_and_evaluate_model\u001b[0m:\u001b[36m58\u001b[0m - \u001b[1mTraining completed in 3.31 seconds\u001b[0m\n"
     ]
    },
    {
     "name": "stderr",
     "output_type": "stream",
     "text": [
      "Making predictions:   0%|          | 0/2 [00:00<?, ?it/s]/home/wsl2ubuntuuser/.virtualenvs/nomination_predictor/lib/python3.12/site-packages/xgboost/core.py:729: UserWarning: [15:30:53] WARNING: /workspace/src/common/error_msg.cc:58: Falling back to prediction using DMatrix due to mismatched devices. This might lead to higher memory usage and slower performance. XGBoost is running on: cuda:0, while the input data is on: cpu.\n",
      "Potential solutions:\n",
      "- Use a data structure that matches the device ordinal in the booster.\n",
      "- Set the device for booster before call to inplace_predict.\n",
      "\n",
      "This warning will only be shown once.\n",
      "\n",
      "  return func(**kwargs)\n",
      "Making predictions:  50%|█████     | 1/2 [00:00<00:00,  9.20it/s]/home/wsl2ubuntuuser/.virtualenvs/nomination_predictor/lib/python3.12/site-packages/sklearn/preprocessing/_encoders.py:246: UserWarning: Found unknown categories in columns [4, 9, 11, 12, 17, 19] during transform. These unknown categories will be encoded as all zeros\n",
      "  warnings.warn(\n",
      "Making predictions: 100%|██████████| 2/2 [00:00<00:00, 12.27it/s]\n"
     ]
    }
   ],
   "source": [
    "# Train and evaluate baseline model\n",
    "baseline_results = train_and_evaluate_model(\n",
    "    model=baseline_pipeline,  # ✅ Use the actual pipeline variable name\n",
    "    X_train=X_train,\n",
    "    X_test=X_test,\n",
    "    y_train=y_train,\n",
    "    y_test=y_test,\n",
    "    model_name=\"XGBoost Baseline\",\n",
    "    show_progress=True\n",
    ")"
   ]
  },
  {
   "cell_type": "markdown",
   "id": "0fb3190f",
   "metadata": {},
   "source": [
    "## Saving with evaluation metadata"
   ]
  },
  {
   "cell_type": "code",
   "execution_count": null,
   "id": "056f7bfe",
   "metadata": {},
   "outputs": [
    {
     "name": "stdout",
     "output_type": "stream",
     "text": [
      "\n",
      "============================================================\n",
      "📊 XGBOOST BASELINE EVALUATION RESULTS\n",
      "============================================================\n",
      "\n",
      "🎯 PERFORMANCE METRICS:\n",
      "  • Training MAE: 10.46 days\n",
      "  • Test MAE:     47.05 days\n",
      "  • Training R²:  0.9693\n",
      "  • Test R²:      0.3599\n",
      "  • Training time: 3.31 seconds\n",
      "\n",
      "===== Mean Absolute Error (MAE): 47.05 =====\n",
      "📊 GOOD: The model's predictions are typically within 60 days of the actual confirmation time.\n",
      "🔍 TAKEAWAY: The model provides valuable insights but has moderate error margins.\n",
      "\n",
      "===== R² Score: 0.3599 =====\n",
      "📊 FAIR: The model explains between 30-50% of the variance in confirmation times.\n",
      "🔍 TAKEAWAY: The model identifies some patterns but misses many important factors.\n",
      "\n",
      "===== Interpretation in Context =====\n",
      "• The average nomination takes 126 days to confirm\n",
      "• With a standard deviation of 85 days\n",
      "• Our model's error (MAE) is 47 days, which is 55% of the standard deviation\n",
      "• This means our model outperforms a baseline model that always predicts the average\n",
      "\n",
      "===== Recommended Next Steps =====\n",
      "1. Tune hyperparameters to optimize model performance\n",
      "2. Explore feature importance to understand key drivers\n",
      "3. Consider ensemble methods to improve predictions\n",
      "\n",
      "🔧 MODEL COMPLEXITY:\n",
      "Model complexity:\n",
      "  • Trees      : 500\n",
      "  • Leaf nodes : 0\n",
      "  • ‘Parameters’ (leaf weights) ≈ 0.000000 B\n"
     ]
    },
    {
     "name": "stdout",
     "output_type": "stream",
     "text": [
      "\u001b[32m2025-07-18 15:30:54.142\u001b[0m | \u001b[1mINFO    \u001b[0m | \u001b[36mnomination_predictor.modeling.train\u001b[0m:\u001b[36msave_model_with_metadata\u001b[0m:\u001b[36m249\u001b[0m - \u001b[1mModel saved successfully to /home/wsl2ubuntuuser/nomination_predictor/models/xgboost_baseline_2025-07-18_153054.pkl\u001b[0m\n",
      "\u001b[32m2025-07-18 15:30:54.144\u001b[0m | \u001b[1mINFO    \u001b[0m | \u001b[36mnomination_predictor.modeling.train\u001b[0m:\u001b[36msave_model_with_metadata\u001b[0m:\u001b[36m250\u001b[0m - \u001b[1mModel metadata: xgboost_baseline with 43 features\u001b[0m\n",
      "\n",
      "💾 Model saved to: /home/wsl2ubuntuuser/nomination_predictor/models/xgboost_baseline_2025-07-18_153054.pkl\n"
     ]
    }
   ],
   "source": [
    "baseline_final = evaluate_and_report_model(\n",
    "    results=baseline_results,\n",
    "    y_train=y_train,\n",
    "    y_test=y_test,\n",
    "    model_name=\"XGBoost Baseline\",\n",
    "    save_model=True,\n",
    "    hyperparameters={\n",
    "        \"n_estimators\": 500,\n",
    "        \"max_depth\": 6,\n",
    "        \"learning_rate\": 0.1,\n",
    "        \"random_state\": 42,\n",
    "        \"tree_method\": \"hist\",\n",
    "        \"device\": \"cuda\"\n",
    "    }\n",
    ")"
   ]
  },
  {
   "cell_type": "markdown",
   "id": "52c68ac4",
   "metadata": {},
   "source": [
    "# Model tuning via randomized hyper-parameter search"
   ]
  },
  {
   "cell_type": "markdown",
   "id": "785e21ac",
   "metadata": {},
   "source": [
    "## Define hyperparameter search space"
   ]
  },
  {
   "cell_type": "code",
   "execution_count": null,
   "id": "60a5da38",
   "metadata": {},
   "outputs": [],
   "source": [
    "\n",
    "from nomination_predictor.modeling.train import (PARAMETER_REFINEMENT_CONFIG,\n",
    "                                                 create_refined_param_grid,\n",
    "                                                 create_refined_range)\n",
    "\n",
    "# Choose your initial parameter distribution based on time budget\n",
    "# Option 1: Quick search (similar to your original - 11-12 minutes)\n",
    "param_distributions_quick = {\n",
    "    'model__n_estimators': [100, 500, 1000, 2000, 3000],\n",
    "    'model__max_depth': [3, 4, 5, 6, 7, 8, 9],\n",
    "    'model__learning_rate': [0.01, 0.05, 0.1, 0.2],\n",
    "    'model__subsample': [0.7, 0.8, 0.9, 1.0],\n",
    "    'model__colsample_bytree': [0.7, 0.8, 0.9, 1.0],\n",
    "    'model__reg_alpha': [0, 0.1, 0.5, 1.0],\n",
    "    'model__reg_lambda': [0, 0.1, 0.5, 1.0],\n",
    "    'model__min_child_weight': [1, 3, 5, 7],\n",
    "    'model__gamma': [0, 0.1, 0.2, 0.3]\n",
    "}\n",
    "\n",
    "# Option 2: Moderate search (1-2 hours)\n",
    "param_distributions_moderate = {\n",
    "    'model__n_estimators': [100, 500, 1000, 2000, 3000, 5000],\n",
    "    'model__max_depth': [3, 4, 5, 6, 7, 8, 9, 10],\n",
    "    'model__learning_rate': [0.01, 0.05, 0.1, 0.15, 0.2, 0.3],\n",
    "    'model__subsample': [0.6, 0.7, 0.8, 0.9, 1.0],\n",
    "    'model__colsample_bytree': [0.6, 0.7, 0.8, 0.9, 1.0],\n",
    "    'model__reg_alpha': [0, 0.1, 0.5, 1.0, 2.0],\n",
    "    'model__reg_lambda': [0, 0.1, 0.5, 1.0, 2.0],\n",
    "    'model__min_child_weight': [1, 3, 5, 7, 10],\n",
    "    'model__gamma': [0, 0.1, 0.2, 0.3, 0.5]\n",
    "}\n",
    "\n",
    "# Option 3: Comprehensive search (5-6 hours) - CLEANED UP VERSION\n",
    "param_distributions_comprehensive = {\n",
    "    'model__n_estimators': [100, 300, 500, 1000, 1500, 2000, 3000, 5000, 7000],\n",
    "    'model__max_depth': [3, 4, 5, 6, 7, 8, 9, 10, 12],\n",
    "    'model__learning_rate': [0.005, 0.01, 0.03, 0.05, 0.1, 0.15, 0.2, 0.3],\n",
    "    'model__subsample': [0.5, 0.6, 0.7, 0.8, 0.9, 1.0],\n",
    "    'model__colsample_bytree': [0.5, 0.6, 0.7, 0.8, 0.9, 1.0],\n",
    "    'model__reg_alpha': [0, 0.01, 0.1, 0.5, 1.0, 2.0, 5.0],\n",
    "    'model__reg_lambda': [0, 0.01, 0.1, 0.5, 1.0, 2.0, 5.0],\n",
    "    'model__min_child_weight': [1, 3, 5, 7, 10, 15],\n",
    "    'model__gamma': [0, 0.05, 0.1, 0.2, 0.3, 0.5, 1.0],\n",
    "    # Note: Removed max_delta_step and scale_pos_weight as they're not typically used in regression\n",
    "}"
   ]
  },
  {
   "cell_type": "markdown",
   "id": "ade3b54b",
   "metadata": {},
   "source": [
    "## Configurability based on available time budget"
   ]
  },
  {
   "cell_type": "code",
   "execution_count": null,
   "id": "a6b1ecc0",
   "metadata": {},
   "outputs": [],
   "source": [
    "# 🎯 CHOOSE YOUR TIME BUDGET - uncomment one of these:\n",
    "# chosen_params = param_distributions_quick      # ~15 minutes\n",
    "chosen_params = param_distributions_moderate   # ~1-2 hours  \n",
    "# chosen_params = param_distributions_comprehensive  # ~5-6 hours"
   ]
  },
  {
   "cell_type": "code",
   "execution_count": null,
   "id": "a1d9a216",
   "metadata": {},
   "outputs": [
    {
     "name": "stdout",
     "output_type": "stream",
     "text": [
      "📊 Selected parameter space with 9 parameters\n",
      "  model__n_estimators: 6 values\n",
      "  model__max_depth: 8 values\n",
      "  model__learning_rate: 6 values\n",
      "  model__subsample: 5 values\n",
      "  model__colsample_bytree: 5 values\n",
      "  model__reg_alpha: 5 values\n",
      "  model__reg_lambda: 5 values\n",
      "  model__min_child_weight: 5 values\n",
      "  model__gamma: 5 values\n"
     ]
    }
   ],
   "source": [
    "print(f\"📊 Selected parameter space with {len(chosen_params)} parameters\")\n",
    "for param, values in chosen_params.items():\n",
    "    print(f\"  {param}: {len(values)} values\")"
   ]
  },
  {
   "cell_type": "markdown",
   "id": "9439246d",
   "metadata": {},
   "source": [
    "## Tuned pipeline"
   ]
  },
  {
   "cell_type": "code",
   "execution_count": null,
   "id": "9ac2577e",
   "metadata": {},
   "outputs": [],
   "source": [
    "tuned_pipeline = Pipeline([\n",
    "    ('preprocessor', preprocessor),\n",
    "    ('model', XGBRegressor(\n",
    "        tree_method=\"hist\",        # GPU acceleration\n",
    "        device=\"cuda\",             # GPU acceleration  \n",
    "        random_state=42,\n",
    "        n_jobs=-1,\n",
    "        # No early stopping - let RandomizedSearchCV handle optimization; early stopping option may as well be mutually exclusive with multi-stage search\n",
    "        eval_metric='mae'          # Still monitor MAE for logging\n",
    "    ))\n",
    "])"
   ]
  },
  {
   "cell_type": "markdown",
   "id": "e8bd0581",
   "metadata": {},
   "source": [
    "## Multi-stage randomized search"
   ]
  },
  {
   "cell_type": "code",
   "execution_count": null,
   "id": "9446dc79",
   "metadata": {},
   "outputs": [
    {
     "name": "stdout",
     "output_type": "stream",
     "text": [
      "🚀 Starting GPU-accelerated hyperparameter search...\n"
     ]
    }
   ],
   "source": [
    "print(\"🚀 Starting GPU-accelerated hyperparameter search...\")"
   ]
  },
  {
   "cell_type": "code",
   "execution_count": null,
   "id": "753453e2",
   "metadata": {},
   "outputs": [
    {
     "name": "stdout",
     "output_type": "stream",
     "text": [
      "\n",
      "🔍 STAGE 1: Coarse hyperparameter search...\n"
     ]
    }
   ],
   "source": [
    "# 🚀 STAGE 1: Coarse Search\n",
    "print(\"\\n🔍 STAGE 1: Coarse hyperparameter search...\")\n",
    "coarse_search = RandomizedSearchCV(\n",
    "    tuned_pipeline,\n",
    "    param_distributions=chosen_params,\n",
    "    n_iter=60,  # Adjust based on your time budget\n",
    "    cv=3,       # Faster CV for initial search\n",
    "    scoring='neg_mean_absolute_error',\n",
    "    n_jobs=1,   # Important for GPU\n",
    "    random_state=42,\n",
    "    verbose=2\n",
    ")"
   ]
  },
  {
   "cell_type": "code",
   "execution_count": null,
   "id": "a6187e08",
   "metadata": {},
   "outputs": [
    {
     "name": "stdout",
     "output_type": "stream",
     "text": [
      "⏱️  Starting coarse search with 60 iterations...\n",
      "Fitting 3 folds for each of 60 candidates, totalling 180 fits\n"
     ]
    },
    {
     "name": "stderr",
     "output_type": "stream",
     "text": [
      "/home/wsl2ubuntuuser/.virtualenvs/nomination_predictor/lib/python3.12/site-packages/sklearn/preprocessing/_encoders.py:246: UserWarning: Found unknown categories in columns [1, 4, 9, 11, 12, 13, 17, 19, 21] during transform. These unknown categories will be encoded as all zeros\n",
      "  warnings.warn(\n"
     ]
    },
    {
     "name": "stdout",
     "output_type": "stream",
     "text": [
      "[CV] END model__colsample_bytree=0.7, model__gamma=0.5, model__learning_rate=0.1, model__max_depth=6, model__min_child_weight=3, model__n_estimators=5000, model__reg_alpha=2.0, model__reg_lambda=1.0, model__subsample=0.9; total time=  16.5s\n"
     ]
    },
    {
     "name": "stderr",
     "output_type": "stream",
     "text": [
      "/home/wsl2ubuntuuser/.virtualenvs/nomination_predictor/lib/python3.12/site-packages/sklearn/preprocessing/_encoders.py:246: UserWarning: Found unknown categories in columns [0, 4, 9, 12, 17, 19, 21] during transform. These unknown categories will be encoded as all zeros\n",
      "  warnings.warn(\n"
     ]
    },
    {
     "name": "stdout",
     "output_type": "stream",
     "text": [
      "[CV] END model__colsample_bytree=0.7, model__gamma=0.5, model__learning_rate=0.1, model__max_depth=6, model__min_child_weight=3, model__n_estimators=5000, model__reg_alpha=2.0, model__reg_lambda=1.0, model__subsample=0.9; total time=  19.5s\n"
     ]
    },
    {
     "name": "stderr",
     "output_type": "stream",
     "text": [
      "/home/wsl2ubuntuuser/.virtualenvs/nomination_predictor/lib/python3.12/site-packages/sklearn/preprocessing/_encoders.py:246: UserWarning: Found unknown categories in columns [1, 4, 9, 10, 11, 12, 14, 17, 19, 21] during transform. These unknown categories will be encoded as all zeros\n",
      "  warnings.warn(\n"
     ]
    },
    {
     "name": "stdout",
     "output_type": "stream",
     "text": [
      "[CV] END model__colsample_bytree=0.7, model__gamma=0.5, model__learning_rate=0.1, model__max_depth=6, model__min_child_weight=3, model__n_estimators=5000, model__reg_alpha=2.0, model__reg_lambda=1.0, model__subsample=0.9; total time=  20.5s\n"
     ]
    },
    {
     "name": "stderr",
     "output_type": "stream",
     "text": [
      "/home/wsl2ubuntuuser/.virtualenvs/nomination_predictor/lib/python3.12/site-packages/sklearn/preprocessing/_encoders.py:246: UserWarning: Found unknown categories in columns [1, 4, 9, 11, 12, 13, 17, 19, 21] during transform. These unknown categories will be encoded as all zeros\n",
      "  warnings.warn(\n"
     ]
    },
    {
     "name": "stdout",
     "output_type": "stream",
     "text": [
      "[CV] END model__colsample_bytree=1.0, model__gamma=0.3, model__learning_rate=0.3, model__max_depth=6, model__min_child_weight=10, model__n_estimators=1000, model__reg_alpha=0.5, model__reg_lambda=2.0, model__subsample=0.8; total time=   5.4s\n"
     ]
    },
    {
     "name": "stderr",
     "output_type": "stream",
     "text": [
      "/home/wsl2ubuntuuser/.virtualenvs/nomination_predictor/lib/python3.12/site-packages/sklearn/preprocessing/_encoders.py:246: UserWarning: Found unknown categories in columns [0, 4, 9, 12, 17, 19, 21] during transform. These unknown categories will be encoded as all zeros\n",
      "  warnings.warn(\n"
     ]
    },
    {
     "name": "stdout",
     "output_type": "stream",
     "text": [
      "[CV] END model__colsample_bytree=1.0, model__gamma=0.3, model__learning_rate=0.3, model__max_depth=6, model__min_child_weight=10, model__n_estimators=1000, model__reg_alpha=0.5, model__reg_lambda=2.0, model__subsample=0.8; total time=   5.7s\n"
     ]
    },
    {
     "name": "stderr",
     "output_type": "stream",
     "text": [
      "/home/wsl2ubuntuuser/.virtualenvs/nomination_predictor/lib/python3.12/site-packages/sklearn/preprocessing/_encoders.py:246: UserWarning: Found unknown categories in columns [1, 4, 9, 10, 11, 12, 14, 17, 19, 21] during transform. These unknown categories will be encoded as all zeros\n",
      "  warnings.warn(\n"
     ]
    },
    {
     "name": "stdout",
     "output_type": "stream",
     "text": [
      "[CV] END model__colsample_bytree=1.0, model__gamma=0.3, model__learning_rate=0.3, model__max_depth=6, model__min_child_weight=10, model__n_estimators=1000, model__reg_alpha=0.5, model__reg_lambda=2.0, model__subsample=0.8; total time=   5.4s\n"
     ]
    },
    {
     "name": "stderr",
     "output_type": "stream",
     "text": [
      "/home/wsl2ubuntuuser/.virtualenvs/nomination_predictor/lib/python3.12/site-packages/sklearn/preprocessing/_encoders.py:246: UserWarning: Found unknown categories in columns [1, 4, 9, 11, 12, 13, 17, 19, 21] during transform. These unknown categories will be encoded as all zeros\n",
      "  warnings.warn(\n"
     ]
    },
    {
     "name": "stdout",
     "output_type": "stream",
     "text": [
      "[CV] END model__colsample_bytree=0.8, model__gamma=0.2, model__learning_rate=0.1, model__max_depth=6, model__min_child_weight=10, model__n_estimators=500, model__reg_alpha=2.0, model__reg_lambda=0.5, model__subsample=1.0; total time=   4.7s\n"
     ]
    },
    {
     "name": "stderr",
     "output_type": "stream",
     "text": [
      "/home/wsl2ubuntuuser/.virtualenvs/nomination_predictor/lib/python3.12/site-packages/sklearn/preprocessing/_encoders.py:246: UserWarning: Found unknown categories in columns [0, 4, 9, 12, 17, 19, 21] during transform. These unknown categories will be encoded as all zeros\n",
      "  warnings.warn(\n"
     ]
    },
    {
     "name": "stdout",
     "output_type": "stream",
     "text": [
      "[CV] END model__colsample_bytree=0.8, model__gamma=0.2, model__learning_rate=0.1, model__max_depth=6, model__min_child_weight=10, model__n_estimators=500, model__reg_alpha=2.0, model__reg_lambda=0.5, model__subsample=1.0; total time=   4.7s\n"
     ]
    },
    {
     "name": "stderr",
     "output_type": "stream",
     "text": [
      "/home/wsl2ubuntuuser/.virtualenvs/nomination_predictor/lib/python3.12/site-packages/sklearn/preprocessing/_encoders.py:246: UserWarning: Found unknown categories in columns [1, 4, 9, 10, 11, 12, 14, 17, 19, 21] during transform. These unknown categories will be encoded as all zeros\n",
      "  warnings.warn(\n"
     ]
    },
    {
     "name": "stdout",
     "output_type": "stream",
     "text": [
      "[CV] END model__colsample_bytree=0.8, model__gamma=0.2, model__learning_rate=0.1, model__max_depth=6, model__min_child_weight=10, model__n_estimators=500, model__reg_alpha=2.0, model__reg_lambda=0.5, model__subsample=1.0; total time=   4.1s\n"
     ]
    },
    {
     "name": "stderr",
     "output_type": "stream",
     "text": [
      "/home/wsl2ubuntuuser/.virtualenvs/nomination_predictor/lib/python3.12/site-packages/sklearn/preprocessing/_encoders.py:246: UserWarning: Found unknown categories in columns [1, 4, 9, 11, 12, 13, 17, 19, 21] during transform. These unknown categories will be encoded as all zeros\n",
      "  warnings.warn(\n"
     ]
    },
    {
     "name": "stdout",
     "output_type": "stream",
     "text": [
      "[CV] END model__colsample_bytree=0.7, model__gamma=0.3, model__learning_rate=0.2, model__max_depth=5, model__min_child_weight=7, model__n_estimators=1000, model__reg_alpha=0, model__reg_lambda=0.1, model__subsample=0.7; total time=   6.2s\n"
     ]
    },
    {
     "name": "stderr",
     "output_type": "stream",
     "text": [
      "/home/wsl2ubuntuuser/.virtualenvs/nomination_predictor/lib/python3.12/site-packages/sklearn/preprocessing/_encoders.py:246: UserWarning: Found unknown categories in columns [0, 4, 9, 12, 17, 19, 21] during transform. These unknown categories will be encoded as all zeros\n",
      "  warnings.warn(\n"
     ]
    },
    {
     "name": "stdout",
     "output_type": "stream",
     "text": [
      "[CV] END model__colsample_bytree=0.7, model__gamma=0.3, model__learning_rate=0.2, model__max_depth=5, model__min_child_weight=7, model__n_estimators=1000, model__reg_alpha=0, model__reg_lambda=0.1, model__subsample=0.7; total time=   5.9s\n"
     ]
    },
    {
     "name": "stderr",
     "output_type": "stream",
     "text": [
      "/home/wsl2ubuntuuser/.virtualenvs/nomination_predictor/lib/python3.12/site-packages/sklearn/preprocessing/_encoders.py:246: UserWarning: Found unknown categories in columns [1, 4, 9, 10, 11, 12, 14, 17, 19, 21] during transform. These unknown categories will be encoded as all zeros\n",
      "  warnings.warn(\n"
     ]
    },
    {
     "name": "stdout",
     "output_type": "stream",
     "text": [
      "[CV] END model__colsample_bytree=0.7, model__gamma=0.3, model__learning_rate=0.2, model__max_depth=5, model__min_child_weight=7, model__n_estimators=1000, model__reg_alpha=0, model__reg_lambda=0.1, model__subsample=0.7; total time=   6.2s\n"
     ]
    },
    {
     "name": "stderr",
     "output_type": "stream",
     "text": [
      "/home/wsl2ubuntuuser/.virtualenvs/nomination_predictor/lib/python3.12/site-packages/sklearn/preprocessing/_encoders.py:246: UserWarning: Found unknown categories in columns [1, 4, 9, 11, 12, 13, 17, 19, 21] during transform. These unknown categories will be encoded as all zeros\n",
      "  warnings.warn(\n"
     ]
    },
    {
     "name": "stdout",
     "output_type": "stream",
     "text": [
      "[CV] END model__colsample_bytree=0.7, model__gamma=0.1, model__learning_rate=0.05, model__max_depth=9, model__min_child_weight=10, model__n_estimators=3000, model__reg_alpha=0.5, model__reg_lambda=2.0, model__subsample=1.0; total time=  18.6s\n"
     ]
    },
    {
     "name": "stderr",
     "output_type": "stream",
     "text": [
      "/home/wsl2ubuntuuser/.virtualenvs/nomination_predictor/lib/python3.12/site-packages/sklearn/preprocessing/_encoders.py:246: UserWarning: Found unknown categories in columns [0, 4, 9, 12, 17, 19, 21] during transform. These unknown categories will be encoded as all zeros\n",
      "  warnings.warn(\n"
     ]
    },
    {
     "name": "stdout",
     "output_type": "stream",
     "text": [
      "[CV] END model__colsample_bytree=0.7, model__gamma=0.1, model__learning_rate=0.05, model__max_depth=9, model__min_child_weight=10, model__n_estimators=3000, model__reg_alpha=0.5, model__reg_lambda=2.0, model__subsample=1.0; total time=  18.2s\n"
     ]
    },
    {
     "name": "stderr",
     "output_type": "stream",
     "text": [
      "/home/wsl2ubuntuuser/.virtualenvs/nomination_predictor/lib/python3.12/site-packages/sklearn/preprocessing/_encoders.py:246: UserWarning: Found unknown categories in columns [1, 4, 9, 10, 11, 12, 14, 17, 19, 21] during transform. These unknown categories will be encoded as all zeros\n",
      "  warnings.warn(\n"
     ]
    },
    {
     "name": "stdout",
     "output_type": "stream",
     "text": [
      "[CV] END model__colsample_bytree=0.7, model__gamma=0.1, model__learning_rate=0.05, model__max_depth=9, model__min_child_weight=10, model__n_estimators=3000, model__reg_alpha=0.5, model__reg_lambda=2.0, model__subsample=1.0; total time=  17.8s\n"
     ]
    },
    {
     "name": "stderr",
     "output_type": "stream",
     "text": [
      "/home/wsl2ubuntuuser/.virtualenvs/nomination_predictor/lib/python3.12/site-packages/sklearn/preprocessing/_encoders.py:246: UserWarning: Found unknown categories in columns [1, 4, 9, 11, 12, 13, 17, 19, 21] during transform. These unknown categories will be encoded as all zeros\n",
      "  warnings.warn(\n"
     ]
    },
    {
     "name": "stdout",
     "output_type": "stream",
     "text": [
      "[CV] END model__colsample_bytree=1.0, model__gamma=0.2, model__learning_rate=0.1, model__max_depth=9, model__min_child_weight=7, model__n_estimators=500, model__reg_alpha=0, model__reg_lambda=0.5, model__subsample=0.8; total time=   4.1s\n"
     ]
    },
    {
     "name": "stderr",
     "output_type": "stream",
     "text": [
      "/home/wsl2ubuntuuser/.virtualenvs/nomination_predictor/lib/python3.12/site-packages/sklearn/preprocessing/_encoders.py:246: UserWarning: Found unknown categories in columns [0, 4, 9, 12, 17, 19, 21] during transform. These unknown categories will be encoded as all zeros\n",
      "  warnings.warn(\n"
     ]
    },
    {
     "name": "stdout",
     "output_type": "stream",
     "text": [
      "[CV] END model__colsample_bytree=1.0, model__gamma=0.2, model__learning_rate=0.1, model__max_depth=9, model__min_child_weight=7, model__n_estimators=500, model__reg_alpha=0, model__reg_lambda=0.5, model__subsample=0.8; total time=   5.2s\n"
     ]
    },
    {
     "name": "stderr",
     "output_type": "stream",
     "text": [
      "/home/wsl2ubuntuuser/.virtualenvs/nomination_predictor/lib/python3.12/site-packages/sklearn/preprocessing/_encoders.py:246: UserWarning: Found unknown categories in columns [1, 4, 9, 10, 11, 12, 14, 17, 19, 21] during transform. These unknown categories will be encoded as all zeros\n",
      "  warnings.warn(\n"
     ]
    },
    {
     "name": "stdout",
     "output_type": "stream",
     "text": [
      "[CV] END model__colsample_bytree=1.0, model__gamma=0.2, model__learning_rate=0.1, model__max_depth=9, model__min_child_weight=7, model__n_estimators=500, model__reg_alpha=0, model__reg_lambda=0.5, model__subsample=0.8; total time=   5.1s\n"
     ]
    },
    {
     "name": "stderr",
     "output_type": "stream",
     "text": [
      "/home/wsl2ubuntuuser/.virtualenvs/nomination_predictor/lib/python3.12/site-packages/sklearn/preprocessing/_encoders.py:246: UserWarning: Found unknown categories in columns [1, 4, 9, 11, 12, 13, 17, 19, 21] during transform. These unknown categories will be encoded as all zeros\n",
      "  warnings.warn(\n"
     ]
    },
    {
     "name": "stdout",
     "output_type": "stream",
     "text": [
      "[CV] END model__colsample_bytree=0.7, model__gamma=0.1, model__learning_rate=0.3, model__max_depth=5, model__min_child_weight=7, model__n_estimators=500, model__reg_alpha=0.1, model__reg_lambda=0.5, model__subsample=0.7; total time=   2.5s\n"
     ]
    },
    {
     "name": "stderr",
     "output_type": "stream",
     "text": [
      "/home/wsl2ubuntuuser/.virtualenvs/nomination_predictor/lib/python3.12/site-packages/sklearn/preprocessing/_encoders.py:246: UserWarning: Found unknown categories in columns [0, 4, 9, 12, 17, 19, 21] during transform. These unknown categories will be encoded as all zeros\n",
      "  warnings.warn(\n"
     ]
    },
    {
     "name": "stdout",
     "output_type": "stream",
     "text": [
      "[CV] END model__colsample_bytree=0.7, model__gamma=0.1, model__learning_rate=0.3, model__max_depth=5, model__min_child_weight=7, model__n_estimators=500, model__reg_alpha=0.1, model__reg_lambda=0.5, model__subsample=0.7; total time=   2.7s\n"
     ]
    },
    {
     "name": "stderr",
     "output_type": "stream",
     "text": [
      "/home/wsl2ubuntuuser/.virtualenvs/nomination_predictor/lib/python3.12/site-packages/sklearn/preprocessing/_encoders.py:246: UserWarning: Found unknown categories in columns [1, 4, 9, 10, 11, 12, 14, 17, 19, 21] during transform. These unknown categories will be encoded as all zeros\n",
      "  warnings.warn(\n"
     ]
    },
    {
     "name": "stdout",
     "output_type": "stream",
     "text": [
      "[CV] END model__colsample_bytree=0.7, model__gamma=0.1, model__learning_rate=0.3, model__max_depth=5, model__min_child_weight=7, model__n_estimators=500, model__reg_alpha=0.1, model__reg_lambda=0.5, model__subsample=0.7; total time=   3.0s\n"
     ]
    },
    {
     "name": "stderr",
     "output_type": "stream",
     "text": [
      "/home/wsl2ubuntuuser/.virtualenvs/nomination_predictor/lib/python3.12/site-packages/sklearn/preprocessing/_encoders.py:246: UserWarning: Found unknown categories in columns [1, 4, 9, 11, 12, 13, 17, 19, 21] during transform. These unknown categories will be encoded as all zeros\n",
      "  warnings.warn(\n"
     ]
    },
    {
     "name": "stdout",
     "output_type": "stream",
     "text": [
      "[CV] END model__colsample_bytree=1.0, model__gamma=0.5, model__learning_rate=0.3, model__max_depth=3, model__min_child_weight=7, model__n_estimators=500, model__reg_alpha=1.0, model__reg_lambda=2.0, model__subsample=0.7; total time=   1.9s\n"
     ]
    },
    {
     "name": "stderr",
     "output_type": "stream",
     "text": [
      "/home/wsl2ubuntuuser/.virtualenvs/nomination_predictor/lib/python3.12/site-packages/sklearn/preprocessing/_encoders.py:246: UserWarning: Found unknown categories in columns [0, 4, 9, 12, 17, 19, 21] during transform. These unknown categories will be encoded as all zeros\n",
      "  warnings.warn(\n"
     ]
    },
    {
     "name": "stdout",
     "output_type": "stream",
     "text": [
      "[CV] END model__colsample_bytree=1.0, model__gamma=0.5, model__learning_rate=0.3, model__max_depth=3, model__min_child_weight=7, model__n_estimators=500, model__reg_alpha=1.0, model__reg_lambda=2.0, model__subsample=0.7; total time=   1.9s\n"
     ]
    },
    {
     "name": "stderr",
     "output_type": "stream",
     "text": [
      "/home/wsl2ubuntuuser/.virtualenvs/nomination_predictor/lib/python3.12/site-packages/sklearn/preprocessing/_encoders.py:246: UserWarning: Found unknown categories in columns [1, 4, 9, 10, 11, 12, 14, 17, 19, 21] during transform. These unknown categories will be encoded as all zeros\n",
      "  warnings.warn(\n"
     ]
    },
    {
     "name": "stdout",
     "output_type": "stream",
     "text": [
      "[CV] END model__colsample_bytree=1.0, model__gamma=0.5, model__learning_rate=0.3, model__max_depth=3, model__min_child_weight=7, model__n_estimators=500, model__reg_alpha=1.0, model__reg_lambda=2.0, model__subsample=0.7; total time=   2.2s\n"
     ]
    },
    {
     "name": "stderr",
     "output_type": "stream",
     "text": [
      "/home/wsl2ubuntuuser/.virtualenvs/nomination_predictor/lib/python3.12/site-packages/sklearn/preprocessing/_encoders.py:246: UserWarning: Found unknown categories in columns [1, 4, 9, 11, 12, 13, 17, 19, 21] during transform. These unknown categories will be encoded as all zeros\n",
      "  warnings.warn(\n"
     ]
    },
    {
     "name": "stdout",
     "output_type": "stream",
     "text": [
      "[CV] END model__colsample_bytree=0.8, model__gamma=0.1, model__learning_rate=0.3, model__max_depth=5, model__min_child_weight=1, model__n_estimators=5000, model__reg_alpha=2.0, model__reg_lambda=1.0, model__subsample=0.8; total time=  16.2s\n"
     ]
    },
    {
     "name": "stderr",
     "output_type": "stream",
     "text": [
      "/home/wsl2ubuntuuser/.virtualenvs/nomination_predictor/lib/python3.12/site-packages/sklearn/preprocessing/_encoders.py:246: UserWarning: Found unknown categories in columns [0, 4, 9, 12, 17, 19, 21] during transform. These unknown categories will be encoded as all zeros\n",
      "  warnings.warn(\n"
     ]
    },
    {
     "name": "stdout",
     "output_type": "stream",
     "text": [
      "[CV] END model__colsample_bytree=0.8, model__gamma=0.1, model__learning_rate=0.3, model__max_depth=5, model__min_child_weight=1, model__n_estimators=5000, model__reg_alpha=2.0, model__reg_lambda=1.0, model__subsample=0.8; total time=  17.2s\n"
     ]
    },
    {
     "name": "stderr",
     "output_type": "stream",
     "text": [
      "/home/wsl2ubuntuuser/.virtualenvs/nomination_predictor/lib/python3.12/site-packages/sklearn/preprocessing/_encoders.py:246: UserWarning: Found unknown categories in columns [1, 4, 9, 10, 11, 12, 14, 17, 19, 21] during transform. These unknown categories will be encoded as all zeros\n",
      "  warnings.warn(\n"
     ]
    },
    {
     "name": "stdout",
     "output_type": "stream",
     "text": [
      "[CV] END model__colsample_bytree=0.8, model__gamma=0.1, model__learning_rate=0.3, model__max_depth=5, model__min_child_weight=1, model__n_estimators=5000, model__reg_alpha=2.0, model__reg_lambda=1.0, model__subsample=0.8; total time=  17.8s\n"
     ]
    },
    {
     "name": "stderr",
     "output_type": "stream",
     "text": [
      "/home/wsl2ubuntuuser/.virtualenvs/nomination_predictor/lib/python3.12/site-packages/sklearn/preprocessing/_encoders.py:246: UserWarning: Found unknown categories in columns [1, 4, 9, 11, 12, 13, 17, 19, 21] during transform. These unknown categories will be encoded as all zeros\n",
      "  warnings.warn(\n"
     ]
    },
    {
     "name": "stdout",
     "output_type": "stream",
     "text": [
      "[CV] END model__colsample_bytree=0.7, model__gamma=0.5, model__learning_rate=0.2, model__max_depth=10, model__min_child_weight=1, model__n_estimators=5000, model__reg_alpha=0, model__reg_lambda=1.0, model__subsample=0.7; total time=  17.2s\n"
     ]
    },
    {
     "name": "stderr",
     "output_type": "stream",
     "text": [
      "/home/wsl2ubuntuuser/.virtualenvs/nomination_predictor/lib/python3.12/site-packages/sklearn/preprocessing/_encoders.py:246: UserWarning: Found unknown categories in columns [0, 4, 9, 12, 17, 19, 21] during transform. These unknown categories will be encoded as all zeros\n",
      "  warnings.warn(\n"
     ]
    },
    {
     "name": "stdout",
     "output_type": "stream",
     "text": [
      "[CV] END model__colsample_bytree=0.7, model__gamma=0.5, model__learning_rate=0.2, model__max_depth=10, model__min_child_weight=1, model__n_estimators=5000, model__reg_alpha=0, model__reg_lambda=1.0, model__subsample=0.7; total time=  16.9s\n"
     ]
    },
    {
     "name": "stderr",
     "output_type": "stream",
     "text": [
      "/home/wsl2ubuntuuser/.virtualenvs/nomination_predictor/lib/python3.12/site-packages/sklearn/preprocessing/_encoders.py:246: UserWarning: Found unknown categories in columns [1, 4, 9, 10, 11, 12, 14, 17, 19, 21] during transform. These unknown categories will be encoded as all zeros\n",
      "  warnings.warn(\n"
     ]
    },
    {
     "name": "stdout",
     "output_type": "stream",
     "text": [
      "[CV] END model__colsample_bytree=0.7, model__gamma=0.5, model__learning_rate=0.2, model__max_depth=10, model__min_child_weight=1, model__n_estimators=5000, model__reg_alpha=0, model__reg_lambda=1.0, model__subsample=0.7; total time=  17.2s\n"
     ]
    },
    {
     "name": "stderr",
     "output_type": "stream",
     "text": [
      "/home/wsl2ubuntuuser/.virtualenvs/nomination_predictor/lib/python3.12/site-packages/sklearn/preprocessing/_encoders.py:246: UserWarning: Found unknown categories in columns [1, 4, 9, 11, 12, 13, 17, 19, 21] during transform. These unknown categories will be encoded as all zeros\n",
      "  warnings.warn(\n"
     ]
    },
    {
     "name": "stdout",
     "output_type": "stream",
     "text": [
      "[CV] END model__colsample_bytree=0.9, model__gamma=0.3, model__learning_rate=0.15, model__max_depth=6, model__min_child_weight=10, model__n_estimators=3000, model__reg_alpha=0, model__reg_lambda=1.0, model__subsample=1.0; total time=  12.9s\n"
     ]
    },
    {
     "name": "stderr",
     "output_type": "stream",
     "text": [
      "/home/wsl2ubuntuuser/.virtualenvs/nomination_predictor/lib/python3.12/site-packages/sklearn/preprocessing/_encoders.py:246: UserWarning: Found unknown categories in columns [0, 4, 9, 12, 17, 19, 21] during transform. These unknown categories will be encoded as all zeros\n",
      "  warnings.warn(\n"
     ]
    },
    {
     "name": "stdout",
     "output_type": "stream",
     "text": [
      "[CV] END model__colsample_bytree=0.9, model__gamma=0.3, model__learning_rate=0.15, model__max_depth=6, model__min_child_weight=10, model__n_estimators=3000, model__reg_alpha=0, model__reg_lambda=1.0, model__subsample=1.0; total time=  15.2s\n"
     ]
    },
    {
     "name": "stderr",
     "output_type": "stream",
     "text": [
      "/home/wsl2ubuntuuser/.virtualenvs/nomination_predictor/lib/python3.12/site-packages/sklearn/preprocessing/_encoders.py:246: UserWarning: Found unknown categories in columns [1, 4, 9, 10, 11, 12, 14, 17, 19, 21] during transform. These unknown categories will be encoded as all zeros\n",
      "  warnings.warn(\n"
     ]
    },
    {
     "name": "stdout",
     "output_type": "stream",
     "text": [
      "[CV] END model__colsample_bytree=0.9, model__gamma=0.3, model__learning_rate=0.15, model__max_depth=6, model__min_child_weight=10, model__n_estimators=3000, model__reg_alpha=0, model__reg_lambda=1.0, model__subsample=1.0; total time=  12.9s\n"
     ]
    },
    {
     "name": "stderr",
     "output_type": "stream",
     "text": [
      "/home/wsl2ubuntuuser/.virtualenvs/nomination_predictor/lib/python3.12/site-packages/sklearn/preprocessing/_encoders.py:246: UserWarning: Found unknown categories in columns [1, 4, 9, 11, 12, 13, 17, 19, 21] during transform. These unknown categories will be encoded as all zeros\n",
      "  warnings.warn(\n"
     ]
    },
    {
     "name": "stdout",
     "output_type": "stream",
     "text": [
      "[CV] END model__colsample_bytree=0.6, model__gamma=0.5, model__learning_rate=0.1, model__max_depth=6, model__min_child_weight=1, model__n_estimators=2000, model__reg_alpha=2.0, model__reg_lambda=1.0, model__subsample=0.9; total time=  10.0s\n"
     ]
    },
    {
     "name": "stderr",
     "output_type": "stream",
     "text": [
      "/home/wsl2ubuntuuser/.virtualenvs/nomination_predictor/lib/python3.12/site-packages/sklearn/preprocessing/_encoders.py:246: UserWarning: Found unknown categories in columns [0, 4, 9, 12, 17, 19, 21] during transform. These unknown categories will be encoded as all zeros\n",
      "  warnings.warn(\n"
     ]
    },
    {
     "name": "stdout",
     "output_type": "stream",
     "text": [
      "[CV] END model__colsample_bytree=0.6, model__gamma=0.5, model__learning_rate=0.1, model__max_depth=6, model__min_child_weight=1, model__n_estimators=2000, model__reg_alpha=2.0, model__reg_lambda=1.0, model__subsample=0.9; total time=  10.5s\n"
     ]
    },
    {
     "name": "stderr",
     "output_type": "stream",
     "text": [
      "/home/wsl2ubuntuuser/.virtualenvs/nomination_predictor/lib/python3.12/site-packages/sklearn/preprocessing/_encoders.py:246: UserWarning: Found unknown categories in columns [1, 4, 9, 10, 11, 12, 14, 17, 19, 21] during transform. These unknown categories will be encoded as all zeros\n",
      "  warnings.warn(\n"
     ]
    },
    {
     "name": "stdout",
     "output_type": "stream",
     "text": [
      "[CV] END model__colsample_bytree=0.6, model__gamma=0.5, model__learning_rate=0.1, model__max_depth=6, model__min_child_weight=1, model__n_estimators=2000, model__reg_alpha=2.0, model__reg_lambda=1.0, model__subsample=0.9; total time=  12.8s\n"
     ]
    },
    {
     "name": "stderr",
     "output_type": "stream",
     "text": [
      "/home/wsl2ubuntuuser/.virtualenvs/nomination_predictor/lib/python3.12/site-packages/sklearn/preprocessing/_encoders.py:246: UserWarning: Found unknown categories in columns [1, 4, 9, 11, 12, 13, 17, 19, 21] during transform. These unknown categories will be encoded as all zeros\n",
      "  warnings.warn(\n"
     ]
    },
    {
     "name": "stdout",
     "output_type": "stream",
     "text": [
      "[CV] END model__colsample_bytree=0.6, model__gamma=0, model__learning_rate=0.15, model__max_depth=6, model__min_child_weight=5, model__n_estimators=3000, model__reg_alpha=2.0, model__reg_lambda=0.1, model__subsample=0.6; total time=  21.4s\n"
     ]
    },
    {
     "name": "stderr",
     "output_type": "stream",
     "text": [
      "/home/wsl2ubuntuuser/.virtualenvs/nomination_predictor/lib/python3.12/site-packages/sklearn/preprocessing/_encoders.py:246: UserWarning: Found unknown categories in columns [0, 4, 9, 12, 17, 19, 21] during transform. These unknown categories will be encoded as all zeros\n",
      "  warnings.warn(\n"
     ]
    },
    {
     "name": "stdout",
     "output_type": "stream",
     "text": [
      "[CV] END model__colsample_bytree=0.6, model__gamma=0, model__learning_rate=0.15, model__max_depth=6, model__min_child_weight=5, model__n_estimators=3000, model__reg_alpha=2.0, model__reg_lambda=0.1, model__subsample=0.6; total time=  18.3s\n"
     ]
    },
    {
     "name": "stderr",
     "output_type": "stream",
     "text": [
      "/home/wsl2ubuntuuser/.virtualenvs/nomination_predictor/lib/python3.12/site-packages/sklearn/preprocessing/_encoders.py:246: UserWarning: Found unknown categories in columns [1, 4, 9, 10, 11, 12, 14, 17, 19, 21] during transform. These unknown categories will be encoded as all zeros\n",
      "  warnings.warn(\n"
     ]
    },
    {
     "name": "stdout",
     "output_type": "stream",
     "text": [
      "[CV] END model__colsample_bytree=0.6, model__gamma=0, model__learning_rate=0.15, model__max_depth=6, model__min_child_weight=5, model__n_estimators=3000, model__reg_alpha=2.0, model__reg_lambda=0.1, model__subsample=0.6; total time=  18.2s\n"
     ]
    },
    {
     "name": "stderr",
     "output_type": "stream",
     "text": [
      "/home/wsl2ubuntuuser/.virtualenvs/nomination_predictor/lib/python3.12/site-packages/sklearn/preprocessing/_encoders.py:246: UserWarning: Found unknown categories in columns [1, 4, 9, 11, 12, 13, 17, 19, 21] during transform. These unknown categories will be encoded as all zeros\n",
      "  warnings.warn(\n"
     ]
    },
    {
     "name": "stdout",
     "output_type": "stream",
     "text": [
      "[CV] END model__colsample_bytree=0.7, model__gamma=0.2, model__learning_rate=0.01, model__max_depth=3, model__min_child_weight=7, model__n_estimators=3000, model__reg_alpha=0, model__reg_lambda=0, model__subsample=0.8; total time=  12.9s\n"
     ]
    },
    {
     "name": "stderr",
     "output_type": "stream",
     "text": [
      "/home/wsl2ubuntuuser/.virtualenvs/nomination_predictor/lib/python3.12/site-packages/sklearn/preprocessing/_encoders.py:246: UserWarning: Found unknown categories in columns [0, 4, 9, 12, 17, 19, 21] during transform. These unknown categories will be encoded as all zeros\n",
      "  warnings.warn(\n"
     ]
    },
    {
     "name": "stdout",
     "output_type": "stream",
     "text": [
      "[CV] END model__colsample_bytree=0.7, model__gamma=0.2, model__learning_rate=0.01, model__max_depth=3, model__min_child_weight=7, model__n_estimators=3000, model__reg_alpha=0, model__reg_lambda=0, model__subsample=0.8; total time=  12.2s\n"
     ]
    },
    {
     "name": "stderr",
     "output_type": "stream",
     "text": [
      "/home/wsl2ubuntuuser/.virtualenvs/nomination_predictor/lib/python3.12/site-packages/sklearn/preprocessing/_encoders.py:246: UserWarning: Found unknown categories in columns [1, 4, 9, 10, 11, 12, 14, 17, 19, 21] during transform. These unknown categories will be encoded as all zeros\n",
      "  warnings.warn(\n"
     ]
    },
    {
     "name": "stdout",
     "output_type": "stream",
     "text": [
      "[CV] END model__colsample_bytree=0.7, model__gamma=0.2, model__learning_rate=0.01, model__max_depth=3, model__min_child_weight=7, model__n_estimators=3000, model__reg_alpha=0, model__reg_lambda=0, model__subsample=0.8; total time=  13.0s\n"
     ]
    },
    {
     "name": "stderr",
     "output_type": "stream",
     "text": [
      "/home/wsl2ubuntuuser/.virtualenvs/nomination_predictor/lib/python3.12/site-packages/sklearn/preprocessing/_encoders.py:246: UserWarning: Found unknown categories in columns [1, 4, 9, 11, 12, 13, 17, 19, 21] during transform. These unknown categories will be encoded as all zeros\n",
      "  warnings.warn(\n"
     ]
    },
    {
     "name": "stdout",
     "output_type": "stream",
     "text": [
      "[CV] END model__colsample_bytree=0.7, model__gamma=0.2, model__learning_rate=0.2, model__max_depth=7, model__min_child_weight=3, model__n_estimators=1000, model__reg_alpha=0.1, model__reg_lambda=0, model__subsample=0.6; total time=   5.8s\n"
     ]
    },
    {
     "name": "stderr",
     "output_type": "stream",
     "text": [
      "/home/wsl2ubuntuuser/.virtualenvs/nomination_predictor/lib/python3.12/site-packages/sklearn/preprocessing/_encoders.py:246: UserWarning: Found unknown categories in columns [0, 4, 9, 12, 17, 19, 21] during transform. These unknown categories will be encoded as all zeros\n",
      "  warnings.warn(\n"
     ]
    },
    {
     "name": "stdout",
     "output_type": "stream",
     "text": [
      "[CV] END model__colsample_bytree=0.7, model__gamma=0.2, model__learning_rate=0.2, model__max_depth=7, model__min_child_weight=3, model__n_estimators=1000, model__reg_alpha=0.1, model__reg_lambda=0, model__subsample=0.6; total time=   6.2s\n"
     ]
    },
    {
     "name": "stderr",
     "output_type": "stream",
     "text": [
      "/home/wsl2ubuntuuser/.virtualenvs/nomination_predictor/lib/python3.12/site-packages/sklearn/preprocessing/_encoders.py:246: UserWarning: Found unknown categories in columns [1, 4, 9, 10, 11, 12, 14, 17, 19, 21] during transform. These unknown categories will be encoded as all zeros\n",
      "  warnings.warn(\n"
     ]
    },
    {
     "name": "stdout",
     "output_type": "stream",
     "text": [
      "[CV] END model__colsample_bytree=0.7, model__gamma=0.2, model__learning_rate=0.2, model__max_depth=7, model__min_child_weight=3, model__n_estimators=1000, model__reg_alpha=0.1, model__reg_lambda=0, model__subsample=0.6; total time=   5.9s\n"
     ]
    },
    {
     "name": "stderr",
     "output_type": "stream",
     "text": [
      "/home/wsl2ubuntuuser/.virtualenvs/nomination_predictor/lib/python3.12/site-packages/sklearn/preprocessing/_encoders.py:246: UserWarning: Found unknown categories in columns [1, 4, 9, 11, 12, 13, 17, 19, 21] during transform. These unknown categories will be encoded as all zeros\n",
      "  warnings.warn(\n"
     ]
    },
    {
     "name": "stdout",
     "output_type": "stream",
     "text": [
      "[CV] END model__colsample_bytree=0.7, model__gamma=0.2, model__learning_rate=0.05, model__max_depth=7, model__min_child_weight=7, model__n_estimators=100, model__reg_alpha=2.0, model__reg_lambda=2.0, model__subsample=0.7; total time=   0.8s\n"
     ]
    },
    {
     "name": "stderr",
     "output_type": "stream",
     "text": [
      "/home/wsl2ubuntuuser/.virtualenvs/nomination_predictor/lib/python3.12/site-packages/sklearn/preprocessing/_encoders.py:246: UserWarning: Found unknown categories in columns [0, 4, 9, 12, 17, 19, 21] during transform. These unknown categories will be encoded as all zeros\n",
      "  warnings.warn(\n"
     ]
    },
    {
     "name": "stdout",
     "output_type": "stream",
     "text": [
      "[CV] END model__colsample_bytree=0.7, model__gamma=0.2, model__learning_rate=0.05, model__max_depth=7, model__min_child_weight=7, model__n_estimators=100, model__reg_alpha=2.0, model__reg_lambda=2.0, model__subsample=0.7; total time=   1.0s\n"
     ]
    },
    {
     "name": "stderr",
     "output_type": "stream",
     "text": [
      "/home/wsl2ubuntuuser/.virtualenvs/nomination_predictor/lib/python3.12/site-packages/sklearn/preprocessing/_encoders.py:246: UserWarning: Found unknown categories in columns [1, 4, 9, 10, 11, 12, 14, 17, 19, 21] during transform. These unknown categories will be encoded as all zeros\n",
      "  warnings.warn(\n"
     ]
    },
    {
     "name": "stdout",
     "output_type": "stream",
     "text": [
      "[CV] END model__colsample_bytree=0.7, model__gamma=0.2, model__learning_rate=0.05, model__max_depth=7, model__min_child_weight=7, model__n_estimators=100, model__reg_alpha=2.0, model__reg_lambda=2.0, model__subsample=0.7; total time=   0.9s\n"
     ]
    },
    {
     "name": "stderr",
     "output_type": "stream",
     "text": [
      "/home/wsl2ubuntuuser/.virtualenvs/nomination_predictor/lib/python3.12/site-packages/sklearn/preprocessing/_encoders.py:246: UserWarning: Found unknown categories in columns [1, 4, 9, 11, 12, 13, 17, 19, 21] during transform. These unknown categories will be encoded as all zeros\n",
      "  warnings.warn(\n"
     ]
    },
    {
     "name": "stdout",
     "output_type": "stream",
     "text": [
      "[CV] END model__colsample_bytree=0.7, model__gamma=0, model__learning_rate=0.01, model__max_depth=7, model__min_child_weight=5, model__n_estimators=3000, model__reg_alpha=0.1, model__reg_lambda=1.0, model__subsample=0.6; total time=  22.0s\n"
     ]
    },
    {
     "name": "stderr",
     "output_type": "stream",
     "text": [
      "/home/wsl2ubuntuuser/.virtualenvs/nomination_predictor/lib/python3.12/site-packages/sklearn/preprocessing/_encoders.py:246: UserWarning: Found unknown categories in columns [0, 4, 9, 12, 17, 19, 21] during transform. These unknown categories will be encoded as all zeros\n",
      "  warnings.warn(\n"
     ]
    },
    {
     "name": "stdout",
     "output_type": "stream",
     "text": [
      "[CV] END model__colsample_bytree=0.7, model__gamma=0, model__learning_rate=0.01, model__max_depth=7, model__min_child_weight=5, model__n_estimators=3000, model__reg_alpha=0.1, model__reg_lambda=1.0, model__subsample=0.6; total time=  20.5s\n"
     ]
    },
    {
     "name": "stderr",
     "output_type": "stream",
     "text": [
      "/home/wsl2ubuntuuser/.virtualenvs/nomination_predictor/lib/python3.12/site-packages/sklearn/preprocessing/_encoders.py:246: UserWarning: Found unknown categories in columns [1, 4, 9, 10, 11, 12, 14, 17, 19, 21] during transform. These unknown categories will be encoded as all zeros\n",
      "  warnings.warn(\n"
     ]
    },
    {
     "name": "stdout",
     "output_type": "stream",
     "text": [
      "[CV] END model__colsample_bytree=0.7, model__gamma=0, model__learning_rate=0.01, model__max_depth=7, model__min_child_weight=5, model__n_estimators=3000, model__reg_alpha=0.1, model__reg_lambda=1.0, model__subsample=0.6; total time=  22.5s\n"
     ]
    },
    {
     "name": "stderr",
     "output_type": "stream",
     "text": [
      "/home/wsl2ubuntuuser/.virtualenvs/nomination_predictor/lib/python3.12/site-packages/sklearn/preprocessing/_encoders.py:246: UserWarning: Found unknown categories in columns [1, 4, 9, 11, 12, 13, 17, 19, 21] during transform. These unknown categories will be encoded as all zeros\n",
      "  warnings.warn(\n"
     ]
    },
    {
     "name": "stdout",
     "output_type": "stream",
     "text": [
      "[CV] END model__colsample_bytree=0.8, model__gamma=0.2, model__learning_rate=0.15, model__max_depth=4, model__min_child_weight=1, model__n_estimators=500, model__reg_alpha=0, model__reg_lambda=0.1, model__subsample=0.8; total time=   2.4s\n"
     ]
    },
    {
     "name": "stderr",
     "output_type": "stream",
     "text": [
      "/home/wsl2ubuntuuser/.virtualenvs/nomination_predictor/lib/python3.12/site-packages/sklearn/preprocessing/_encoders.py:246: UserWarning: Found unknown categories in columns [0, 4, 9, 12, 17, 19, 21] during transform. These unknown categories will be encoded as all zeros\n",
      "  warnings.warn(\n"
     ]
    },
    {
     "name": "stdout",
     "output_type": "stream",
     "text": [
      "[CV] END model__colsample_bytree=0.8, model__gamma=0.2, model__learning_rate=0.15, model__max_depth=4, model__min_child_weight=1, model__n_estimators=500, model__reg_alpha=0, model__reg_lambda=0.1, model__subsample=0.8; total time=   3.3s\n"
     ]
    },
    {
     "name": "stderr",
     "output_type": "stream",
     "text": [
      "/home/wsl2ubuntuuser/.virtualenvs/nomination_predictor/lib/python3.12/site-packages/sklearn/preprocessing/_encoders.py:246: UserWarning: Found unknown categories in columns [1, 4, 9, 10, 11, 12, 14, 17, 19, 21] during transform. These unknown categories will be encoded as all zeros\n",
      "  warnings.warn(\n"
     ]
    },
    {
     "name": "stdout",
     "output_type": "stream",
     "text": [
      "[CV] END model__colsample_bytree=0.8, model__gamma=0.2, model__learning_rate=0.15, model__max_depth=4, model__min_child_weight=1, model__n_estimators=500, model__reg_alpha=0, model__reg_lambda=0.1, model__subsample=0.8; total time=   4.0s\n"
     ]
    },
    {
     "name": "stderr",
     "output_type": "stream",
     "text": [
      "/home/wsl2ubuntuuser/.virtualenvs/nomination_predictor/lib/python3.12/site-packages/sklearn/preprocessing/_encoders.py:246: UserWarning: Found unknown categories in columns [1, 4, 9, 11, 12, 13, 17, 19, 21] during transform. These unknown categories will be encoded as all zeros\n",
      "  warnings.warn(\n"
     ]
    },
    {
     "name": "stdout",
     "output_type": "stream",
     "text": [
      "[CV] END model__colsample_bytree=0.9, model__gamma=0.5, model__learning_rate=0.15, model__max_depth=8, model__min_child_weight=5, model__n_estimators=500, model__reg_alpha=0.1, model__reg_lambda=0.1, model__subsample=1.0; total time=   6.1s\n"
     ]
    },
    {
     "name": "stderr",
     "output_type": "stream",
     "text": [
      "/home/wsl2ubuntuuser/.virtualenvs/nomination_predictor/lib/python3.12/site-packages/sklearn/preprocessing/_encoders.py:246: UserWarning: Found unknown categories in columns [0, 4, 9, 12, 17, 19, 21] during transform. These unknown categories will be encoded as all zeros\n",
      "  warnings.warn(\n"
     ]
    },
    {
     "name": "stdout",
     "output_type": "stream",
     "text": [
      "[CV] END model__colsample_bytree=0.9, model__gamma=0.5, model__learning_rate=0.15, model__max_depth=8, model__min_child_weight=5, model__n_estimators=500, model__reg_alpha=0.1, model__reg_lambda=0.1, model__subsample=1.0; total time=   4.8s\n"
     ]
    },
    {
     "name": "stderr",
     "output_type": "stream",
     "text": [
      "/home/wsl2ubuntuuser/.virtualenvs/nomination_predictor/lib/python3.12/site-packages/sklearn/preprocessing/_encoders.py:246: UserWarning: Found unknown categories in columns [1, 4, 9, 10, 11, 12, 14, 17, 19, 21] during transform. These unknown categories will be encoded as all zeros\n",
      "  warnings.warn(\n"
     ]
    },
    {
     "name": "stdout",
     "output_type": "stream",
     "text": [
      "[CV] END model__colsample_bytree=0.9, model__gamma=0.5, model__learning_rate=0.15, model__max_depth=8, model__min_child_weight=5, model__n_estimators=500, model__reg_alpha=0.1, model__reg_lambda=0.1, model__subsample=1.0; total time=   4.0s\n"
     ]
    },
    {
     "name": "stderr",
     "output_type": "stream",
     "text": [
      "/home/wsl2ubuntuuser/.virtualenvs/nomination_predictor/lib/python3.12/site-packages/sklearn/preprocessing/_encoders.py:246: UserWarning: Found unknown categories in columns [1, 4, 9, 11, 12, 13, 17, 19, 21] during transform. These unknown categories will be encoded as all zeros\n",
      "  warnings.warn(\n"
     ]
    },
    {
     "name": "stdout",
     "output_type": "stream",
     "text": [
      "[CV] END model__colsample_bytree=0.7, model__gamma=0.3, model__learning_rate=0.1, model__max_depth=3, model__min_child_weight=3, model__n_estimators=500, model__reg_alpha=0.5, model__reg_lambda=1.0, model__subsample=0.8; total time=   2.2s\n"
     ]
    },
    {
     "name": "stderr",
     "output_type": "stream",
     "text": [
      "/home/wsl2ubuntuuser/.virtualenvs/nomination_predictor/lib/python3.12/site-packages/sklearn/preprocessing/_encoders.py:246: UserWarning: Found unknown categories in columns [0, 4, 9, 12, 17, 19, 21] during transform. These unknown categories will be encoded as all zeros\n",
      "  warnings.warn(\n"
     ]
    },
    {
     "name": "stdout",
     "output_type": "stream",
     "text": [
      "[CV] END model__colsample_bytree=0.7, model__gamma=0.3, model__learning_rate=0.1, model__max_depth=3, model__min_child_weight=3, model__n_estimators=500, model__reg_alpha=0.5, model__reg_lambda=1.0, model__subsample=0.8; total time=   2.5s\n"
     ]
    },
    {
     "name": "stderr",
     "output_type": "stream",
     "text": [
      "/home/wsl2ubuntuuser/.virtualenvs/nomination_predictor/lib/python3.12/site-packages/sklearn/preprocessing/_encoders.py:246: UserWarning: Found unknown categories in columns [1, 4, 9, 10, 11, 12, 14, 17, 19, 21] during transform. These unknown categories will be encoded as all zeros\n",
      "  warnings.warn(\n"
     ]
    },
    {
     "name": "stdout",
     "output_type": "stream",
     "text": [
      "[CV] END model__colsample_bytree=0.7, model__gamma=0.3, model__learning_rate=0.1, model__max_depth=3, model__min_child_weight=3, model__n_estimators=500, model__reg_alpha=0.5, model__reg_lambda=1.0, model__subsample=0.8; total time=   2.1s\n"
     ]
    },
    {
     "name": "stderr",
     "output_type": "stream",
     "text": [
      "/home/wsl2ubuntuuser/.virtualenvs/nomination_predictor/lib/python3.12/site-packages/sklearn/preprocessing/_encoders.py:246: UserWarning: Found unknown categories in columns [1, 4, 9, 11, 12, 13, 17, 19, 21] during transform. These unknown categories will be encoded as all zeros\n",
      "  warnings.warn(\n"
     ]
    },
    {
     "name": "stdout",
     "output_type": "stream",
     "text": [
      "[CV] END model__colsample_bytree=1.0, model__gamma=0.3, model__learning_rate=0.2, model__max_depth=3, model__min_child_weight=1, model__n_estimators=100, model__reg_alpha=0.1, model__reg_lambda=0, model__subsample=1.0; total time=   0.6s\n"
     ]
    },
    {
     "name": "stderr",
     "output_type": "stream",
     "text": [
      "/home/wsl2ubuntuuser/.virtualenvs/nomination_predictor/lib/python3.12/site-packages/sklearn/preprocessing/_encoders.py:246: UserWarning: Found unknown categories in columns [0, 4, 9, 12, 17, 19, 21] during transform. These unknown categories will be encoded as all zeros\n",
      "  warnings.warn(\n"
     ]
    },
    {
     "name": "stdout",
     "output_type": "stream",
     "text": [
      "[CV] END model__colsample_bytree=1.0, model__gamma=0.3, model__learning_rate=0.2, model__max_depth=3, model__min_child_weight=1, model__n_estimators=100, model__reg_alpha=0.1, model__reg_lambda=0, model__subsample=1.0; total time=   0.6s\n"
     ]
    },
    {
     "name": "stderr",
     "output_type": "stream",
     "text": [
      "/home/wsl2ubuntuuser/.virtualenvs/nomination_predictor/lib/python3.12/site-packages/sklearn/preprocessing/_encoders.py:246: UserWarning: Found unknown categories in columns [1, 4, 9, 10, 11, 12, 14, 17, 19, 21] during transform. These unknown categories will be encoded as all zeros\n",
      "  warnings.warn(\n"
     ]
    },
    {
     "name": "stdout",
     "output_type": "stream",
     "text": [
      "[CV] END model__colsample_bytree=1.0, model__gamma=0.3, model__learning_rate=0.2, model__max_depth=3, model__min_child_weight=1, model__n_estimators=100, model__reg_alpha=0.1, model__reg_lambda=0, model__subsample=1.0; total time=   0.6s\n"
     ]
    },
    {
     "name": "stderr",
     "output_type": "stream",
     "text": [
      "/home/wsl2ubuntuuser/.virtualenvs/nomination_predictor/lib/python3.12/site-packages/sklearn/preprocessing/_encoders.py:246: UserWarning: Found unknown categories in columns [1, 4, 9, 11, 12, 13, 17, 19, 21] during transform. These unknown categories will be encoded as all zeros\n",
      "  warnings.warn(\n"
     ]
    },
    {
     "name": "stdout",
     "output_type": "stream",
     "text": [
      "[CV] END model__colsample_bytree=0.9, model__gamma=0.3, model__learning_rate=0.05, model__max_depth=4, model__min_child_weight=5, model__n_estimators=2000, model__reg_alpha=1.0, model__reg_lambda=0.1, model__subsample=1.0; total time=   9.8s\n"
     ]
    },
    {
     "name": "stderr",
     "output_type": "stream",
     "text": [
      "/home/wsl2ubuntuuser/.virtualenvs/nomination_predictor/lib/python3.12/site-packages/sklearn/preprocessing/_encoders.py:246: UserWarning: Found unknown categories in columns [0, 4, 9, 12, 17, 19, 21] during transform. These unknown categories will be encoded as all zeros\n",
      "  warnings.warn(\n"
     ]
    },
    {
     "name": "stdout",
     "output_type": "stream",
     "text": [
      "[CV] END model__colsample_bytree=0.9, model__gamma=0.3, model__learning_rate=0.05, model__max_depth=4, model__min_child_weight=5, model__n_estimators=2000, model__reg_alpha=1.0, model__reg_lambda=0.1, model__subsample=1.0; total time=  10.1s\n"
     ]
    },
    {
     "name": "stderr",
     "output_type": "stream",
     "text": [
      "/home/wsl2ubuntuuser/.virtualenvs/nomination_predictor/lib/python3.12/site-packages/sklearn/preprocessing/_encoders.py:246: UserWarning: Found unknown categories in columns [1, 4, 9, 10, 11, 12, 14, 17, 19, 21] during transform. These unknown categories will be encoded as all zeros\n",
      "  warnings.warn(\n"
     ]
    },
    {
     "name": "stdout",
     "output_type": "stream",
     "text": [
      "[CV] END model__colsample_bytree=0.9, model__gamma=0.3, model__learning_rate=0.05, model__max_depth=4, model__min_child_weight=5, model__n_estimators=2000, model__reg_alpha=1.0, model__reg_lambda=0.1, model__subsample=1.0; total time=  10.1s\n"
     ]
    },
    {
     "name": "stderr",
     "output_type": "stream",
     "text": [
      "/home/wsl2ubuntuuser/.virtualenvs/nomination_predictor/lib/python3.12/site-packages/sklearn/preprocessing/_encoders.py:246: UserWarning: Found unknown categories in columns [1, 4, 9, 11, 12, 13, 17, 19, 21] during transform. These unknown categories will be encoded as all zeros\n",
      "  warnings.warn(\n"
     ]
    },
    {
     "name": "stdout",
     "output_type": "stream",
     "text": [
      "[CV] END model__colsample_bytree=0.6, model__gamma=0, model__learning_rate=0.1, model__max_depth=9, model__min_child_weight=5, model__n_estimators=5000, model__reg_alpha=0.1, model__reg_lambda=0, model__subsample=1.0; total time=  39.6s\n"
     ]
    },
    {
     "name": "stderr",
     "output_type": "stream",
     "text": [
      "/home/wsl2ubuntuuser/.virtualenvs/nomination_predictor/lib/python3.12/site-packages/sklearn/preprocessing/_encoders.py:246: UserWarning: Found unknown categories in columns [0, 4, 9, 12, 17, 19, 21] during transform. These unknown categories will be encoded as all zeros\n",
      "  warnings.warn(\n"
     ]
    },
    {
     "name": "stdout",
     "output_type": "stream",
     "text": [
      "[CV] END model__colsample_bytree=0.6, model__gamma=0, model__learning_rate=0.1, model__max_depth=9, model__min_child_weight=5, model__n_estimators=5000, model__reg_alpha=0.1, model__reg_lambda=0, model__subsample=1.0; total time=  22.8s\n"
     ]
    },
    {
     "name": "stderr",
     "output_type": "stream",
     "text": [
      "/home/wsl2ubuntuuser/.virtualenvs/nomination_predictor/lib/python3.12/site-packages/sklearn/preprocessing/_encoders.py:246: UserWarning: Found unknown categories in columns [1, 4, 9, 10, 11, 12, 14, 17, 19, 21] during transform. These unknown categories will be encoded as all zeros\n",
      "  warnings.warn(\n"
     ]
    },
    {
     "name": "stdout",
     "output_type": "stream",
     "text": [
      "[CV] END model__colsample_bytree=0.6, model__gamma=0, model__learning_rate=0.1, model__max_depth=9, model__min_child_weight=5, model__n_estimators=5000, model__reg_alpha=0.1, model__reg_lambda=0, model__subsample=1.0; total time=  23.2s\n"
     ]
    },
    {
     "name": "stderr",
     "output_type": "stream",
     "text": [
      "/home/wsl2ubuntuuser/.virtualenvs/nomination_predictor/lib/python3.12/site-packages/sklearn/preprocessing/_encoders.py:246: UserWarning: Found unknown categories in columns [1, 4, 9, 11, 12, 13, 17, 19, 21] during transform. These unknown categories will be encoded as all zeros\n",
      "  warnings.warn(\n"
     ]
    },
    {
     "name": "stdout",
     "output_type": "stream",
     "text": [
      "[CV] END model__colsample_bytree=0.8, model__gamma=0, model__learning_rate=0.3, model__max_depth=4, model__min_child_weight=1, model__n_estimators=3000, model__reg_alpha=2.0, model__reg_lambda=0, model__subsample=1.0; total time=  10.9s\n"
     ]
    },
    {
     "name": "stderr",
     "output_type": "stream",
     "text": [
      "/home/wsl2ubuntuuser/.virtualenvs/nomination_predictor/lib/python3.12/site-packages/sklearn/preprocessing/_encoders.py:246: UserWarning: Found unknown categories in columns [0, 4, 9, 12, 17, 19, 21] during transform. These unknown categories will be encoded as all zeros\n",
      "  warnings.warn(\n"
     ]
    },
    {
     "name": "stdout",
     "output_type": "stream",
     "text": [
      "[CV] END model__colsample_bytree=0.8, model__gamma=0, model__learning_rate=0.3, model__max_depth=4, model__min_child_weight=1, model__n_estimators=3000, model__reg_alpha=2.0, model__reg_lambda=0, model__subsample=1.0; total time=  10.5s\n"
     ]
    },
    {
     "name": "stderr",
     "output_type": "stream",
     "text": [
      "/home/wsl2ubuntuuser/.virtualenvs/nomination_predictor/lib/python3.12/site-packages/sklearn/preprocessing/_encoders.py:246: UserWarning: Found unknown categories in columns [1, 4, 9, 10, 11, 12, 14, 17, 19, 21] during transform. These unknown categories will be encoded as all zeros\n",
      "  warnings.warn(\n"
     ]
    },
    {
     "name": "stdout",
     "output_type": "stream",
     "text": [
      "[CV] END model__colsample_bytree=0.8, model__gamma=0, model__learning_rate=0.3, model__max_depth=4, model__min_child_weight=1, model__n_estimators=3000, model__reg_alpha=2.0, model__reg_lambda=0, model__subsample=1.0; total time=  11.3s\n"
     ]
    },
    {
     "name": "stderr",
     "output_type": "stream",
     "text": [
      "/home/wsl2ubuntuuser/.virtualenvs/nomination_predictor/lib/python3.12/site-packages/sklearn/preprocessing/_encoders.py:246: UserWarning: Found unknown categories in columns [1, 4, 9, 11, 12, 13, 17, 19, 21] during transform. These unknown categories will be encoded as all zeros\n",
      "  warnings.warn(\n"
     ]
    },
    {
     "name": "stdout",
     "output_type": "stream",
     "text": [
      "[CV] END model__colsample_bytree=0.8, model__gamma=0.3, model__learning_rate=0.1, model__max_depth=7, model__min_child_weight=3, model__n_estimators=2000, model__reg_alpha=0.5, model__reg_lambda=0.1, model__subsample=0.8; total time=  10.5s\n"
     ]
    },
    {
     "name": "stderr",
     "output_type": "stream",
     "text": [
      "/home/wsl2ubuntuuser/.virtualenvs/nomination_predictor/lib/python3.12/site-packages/sklearn/preprocessing/_encoders.py:246: UserWarning: Found unknown categories in columns [0, 4, 9, 12, 17, 19, 21] during transform. These unknown categories will be encoded as all zeros\n",
      "  warnings.warn(\n"
     ]
    },
    {
     "name": "stdout",
     "output_type": "stream",
     "text": [
      "[CV] END model__colsample_bytree=0.8, model__gamma=0.3, model__learning_rate=0.1, model__max_depth=7, model__min_child_weight=3, model__n_estimators=2000, model__reg_alpha=0.5, model__reg_lambda=0.1, model__subsample=0.8; total time=  10.8s\n"
     ]
    },
    {
     "name": "stderr",
     "output_type": "stream",
     "text": [
      "/home/wsl2ubuntuuser/.virtualenvs/nomination_predictor/lib/python3.12/site-packages/sklearn/preprocessing/_encoders.py:246: UserWarning: Found unknown categories in columns [1, 4, 9, 10, 11, 12, 14, 17, 19, 21] during transform. These unknown categories will be encoded as all zeros\n",
      "  warnings.warn(\n"
     ]
    },
    {
     "name": "stdout",
     "output_type": "stream",
     "text": [
      "[CV] END model__colsample_bytree=0.8, model__gamma=0.3, model__learning_rate=0.1, model__max_depth=7, model__min_child_weight=3, model__n_estimators=2000, model__reg_alpha=0.5, model__reg_lambda=0.1, model__subsample=0.8; total time=  10.0s\n"
     ]
    },
    {
     "name": "stderr",
     "output_type": "stream",
     "text": [
      "/home/wsl2ubuntuuser/.virtualenvs/nomination_predictor/lib/python3.12/site-packages/sklearn/preprocessing/_encoders.py:246: UserWarning: Found unknown categories in columns [1, 4, 9, 11, 12, 13, 17, 19, 21] during transform. These unknown categories will be encoded as all zeros\n",
      "  warnings.warn(\n"
     ]
    },
    {
     "name": "stdout",
     "output_type": "stream",
     "text": [
      "[CV] END model__colsample_bytree=0.9, model__gamma=0.5, model__learning_rate=0.05, model__max_depth=9, model__min_child_weight=5, model__n_estimators=5000, model__reg_alpha=0.5, model__reg_lambda=0, model__subsample=0.6; total time=  27.1s\n"
     ]
    },
    {
     "name": "stderr",
     "output_type": "stream",
     "text": [
      "/home/wsl2ubuntuuser/.virtualenvs/nomination_predictor/lib/python3.12/site-packages/sklearn/preprocessing/_encoders.py:246: UserWarning: Found unknown categories in columns [0, 4, 9, 12, 17, 19, 21] during transform. These unknown categories will be encoded as all zeros\n",
      "  warnings.warn(\n"
     ]
    },
    {
     "name": "stdout",
     "output_type": "stream",
     "text": [
      "[CV] END model__colsample_bytree=0.9, model__gamma=0.5, model__learning_rate=0.05, model__max_depth=9, model__min_child_weight=5, model__n_estimators=5000, model__reg_alpha=0.5, model__reg_lambda=0, model__subsample=0.6; total time=  24.9s\n"
     ]
    },
    {
     "name": "stderr",
     "output_type": "stream",
     "text": [
      "/home/wsl2ubuntuuser/.virtualenvs/nomination_predictor/lib/python3.12/site-packages/sklearn/preprocessing/_encoders.py:246: UserWarning: Found unknown categories in columns [1, 4, 9, 10, 11, 12, 14, 17, 19, 21] during transform. These unknown categories will be encoded as all zeros\n",
      "  warnings.warn(\n"
     ]
    },
    {
     "name": "stdout",
     "output_type": "stream",
     "text": [
      "[CV] END model__colsample_bytree=0.9, model__gamma=0.5, model__learning_rate=0.05, model__max_depth=9, model__min_child_weight=5, model__n_estimators=5000, model__reg_alpha=0.5, model__reg_lambda=0, model__subsample=0.6; total time=  24.6s\n"
     ]
    },
    {
     "name": "stderr",
     "output_type": "stream",
     "text": [
      "/home/wsl2ubuntuuser/.virtualenvs/nomination_predictor/lib/python3.12/site-packages/sklearn/preprocessing/_encoders.py:246: UserWarning: Found unknown categories in columns [1, 4, 9, 11, 12, 13, 17, 19, 21] during transform. These unknown categories will be encoded as all zeros\n",
      "  warnings.warn(\n"
     ]
    },
    {
     "name": "stdout",
     "output_type": "stream",
     "text": [
      "[CV] END model__colsample_bytree=0.8, model__gamma=0.5, model__learning_rate=0.2, model__max_depth=6, model__min_child_weight=5, model__n_estimators=500, model__reg_alpha=2.0, model__reg_lambda=1.0, model__subsample=0.7; total time=   3.6s\n"
     ]
    },
    {
     "name": "stderr",
     "output_type": "stream",
     "text": [
      "/home/wsl2ubuntuuser/.virtualenvs/nomination_predictor/lib/python3.12/site-packages/sklearn/preprocessing/_encoders.py:246: UserWarning: Found unknown categories in columns [0, 4, 9, 12, 17, 19, 21] during transform. These unknown categories will be encoded as all zeros\n",
      "  warnings.warn(\n"
     ]
    },
    {
     "name": "stdout",
     "output_type": "stream",
     "text": [
      "[CV] END model__colsample_bytree=0.8, model__gamma=0.5, model__learning_rate=0.2, model__max_depth=6, model__min_child_weight=5, model__n_estimators=500, model__reg_alpha=2.0, model__reg_lambda=1.0, model__subsample=0.7; total time=   4.2s\n"
     ]
    },
    {
     "name": "stderr",
     "output_type": "stream",
     "text": [
      "/home/wsl2ubuntuuser/.virtualenvs/nomination_predictor/lib/python3.12/site-packages/sklearn/preprocessing/_encoders.py:246: UserWarning: Found unknown categories in columns [1, 4, 9, 10, 11, 12, 14, 17, 19, 21] during transform. These unknown categories will be encoded as all zeros\n",
      "  warnings.warn(\n"
     ]
    },
    {
     "name": "stdout",
     "output_type": "stream",
     "text": [
      "[CV] END model__colsample_bytree=0.8, model__gamma=0.5, model__learning_rate=0.2, model__max_depth=6, model__min_child_weight=5, model__n_estimators=500, model__reg_alpha=2.0, model__reg_lambda=1.0, model__subsample=0.7; total time=   3.4s\n"
     ]
    },
    {
     "name": "stderr",
     "output_type": "stream",
     "text": [
      "/home/wsl2ubuntuuser/.virtualenvs/nomination_predictor/lib/python3.12/site-packages/sklearn/preprocessing/_encoders.py:246: UserWarning: Found unknown categories in columns [1, 4, 9, 11, 12, 13, 17, 19, 21] during transform. These unknown categories will be encoded as all zeros\n",
      "  warnings.warn(\n"
     ]
    },
    {
     "name": "stdout",
     "output_type": "stream",
     "text": [
      "[CV] END model__colsample_bytree=0.8, model__gamma=0.3, model__learning_rate=0.1, model__max_depth=10, model__min_child_weight=5, model__n_estimators=5000, model__reg_alpha=0, model__reg_lambda=0.5, model__subsample=0.9; total time=  21.6s\n"
     ]
    },
    {
     "name": "stderr",
     "output_type": "stream",
     "text": [
      "/home/wsl2ubuntuuser/.virtualenvs/nomination_predictor/lib/python3.12/site-packages/sklearn/preprocessing/_encoders.py:246: UserWarning: Found unknown categories in columns [0, 4, 9, 12, 17, 19, 21] during transform. These unknown categories will be encoded as all zeros\n",
      "  warnings.warn(\n"
     ]
    },
    {
     "name": "stdout",
     "output_type": "stream",
     "text": [
      "[CV] END model__colsample_bytree=0.8, model__gamma=0.3, model__learning_rate=0.1, model__max_depth=10, model__min_child_weight=5, model__n_estimators=5000, model__reg_alpha=0, model__reg_lambda=0.5, model__subsample=0.9; total time=  22.2s\n"
     ]
    },
    {
     "name": "stderr",
     "output_type": "stream",
     "text": [
      "/home/wsl2ubuntuuser/.virtualenvs/nomination_predictor/lib/python3.12/site-packages/sklearn/preprocessing/_encoders.py:246: UserWarning: Found unknown categories in columns [1, 4, 9, 10, 11, 12, 14, 17, 19, 21] during transform. These unknown categories will be encoded as all zeros\n",
      "  warnings.warn(\n"
     ]
    },
    {
     "name": "stdout",
     "output_type": "stream",
     "text": [
      "[CV] END model__colsample_bytree=0.8, model__gamma=0.3, model__learning_rate=0.1, model__max_depth=10, model__min_child_weight=5, model__n_estimators=5000, model__reg_alpha=0, model__reg_lambda=0.5, model__subsample=0.9; total time=  20.2s\n"
     ]
    },
    {
     "name": "stderr",
     "output_type": "stream",
     "text": [
      "/home/wsl2ubuntuuser/.virtualenvs/nomination_predictor/lib/python3.12/site-packages/sklearn/preprocessing/_encoders.py:246: UserWarning: Found unknown categories in columns [1, 4, 9, 11, 12, 13, 17, 19, 21] during transform. These unknown categories will be encoded as all zeros\n",
      "  warnings.warn(\n"
     ]
    },
    {
     "name": "stdout",
     "output_type": "stream",
     "text": [
      "[CV] END model__colsample_bytree=0.6, model__gamma=0.2, model__learning_rate=0.3, model__max_depth=7, model__min_child_weight=10, model__n_estimators=500, model__reg_alpha=0.5, model__reg_lambda=0, model__subsample=0.9; total time=   3.4s\n"
     ]
    },
    {
     "name": "stderr",
     "output_type": "stream",
     "text": [
      "/home/wsl2ubuntuuser/.virtualenvs/nomination_predictor/lib/python3.12/site-packages/sklearn/preprocessing/_encoders.py:246: UserWarning: Found unknown categories in columns [0, 4, 9, 12, 17, 19, 21] during transform. These unknown categories will be encoded as all zeros\n",
      "  warnings.warn(\n"
     ]
    },
    {
     "name": "stdout",
     "output_type": "stream",
     "text": [
      "[CV] END model__colsample_bytree=0.6, model__gamma=0.2, model__learning_rate=0.3, model__max_depth=7, model__min_child_weight=10, model__n_estimators=500, model__reg_alpha=0.5, model__reg_lambda=0, model__subsample=0.9; total time=   3.5s\n"
     ]
    },
    {
     "name": "stderr",
     "output_type": "stream",
     "text": [
      "/home/wsl2ubuntuuser/.virtualenvs/nomination_predictor/lib/python3.12/site-packages/sklearn/preprocessing/_encoders.py:246: UserWarning: Found unknown categories in columns [1, 4, 9, 10, 11, 12, 14, 17, 19, 21] during transform. These unknown categories will be encoded as all zeros\n",
      "  warnings.warn(\n"
     ]
    },
    {
     "name": "stdout",
     "output_type": "stream",
     "text": [
      "[CV] END model__colsample_bytree=0.6, model__gamma=0.2, model__learning_rate=0.3, model__max_depth=7, model__min_child_weight=10, model__n_estimators=500, model__reg_alpha=0.5, model__reg_lambda=0, model__subsample=0.9; total time=   3.5s\n"
     ]
    },
    {
     "name": "stderr",
     "output_type": "stream",
     "text": [
      "/home/wsl2ubuntuuser/.virtualenvs/nomination_predictor/lib/python3.12/site-packages/sklearn/preprocessing/_encoders.py:246: UserWarning: Found unknown categories in columns [1, 4, 9, 11, 12, 13, 17, 19, 21] during transform. These unknown categories will be encoded as all zeros\n",
      "  warnings.warn(\n"
     ]
    },
    {
     "name": "stdout",
     "output_type": "stream",
     "text": [
      "[CV] END model__colsample_bytree=0.8, model__gamma=0.5, model__learning_rate=0.2, model__max_depth=9, model__min_child_weight=1, model__n_estimators=3000, model__reg_alpha=0.1, model__reg_lambda=2.0, model__subsample=0.7; total time=  12.7s\n"
     ]
    },
    {
     "name": "stderr",
     "output_type": "stream",
     "text": [
      "/home/wsl2ubuntuuser/.virtualenvs/nomination_predictor/lib/python3.12/site-packages/sklearn/preprocessing/_encoders.py:246: UserWarning: Found unknown categories in columns [0, 4, 9, 12, 17, 19, 21] during transform. These unknown categories will be encoded as all zeros\n",
      "  warnings.warn(\n"
     ]
    },
    {
     "name": "stdout",
     "output_type": "stream",
     "text": [
      "[CV] END model__colsample_bytree=0.8, model__gamma=0.5, model__learning_rate=0.2, model__max_depth=9, model__min_child_weight=1, model__n_estimators=3000, model__reg_alpha=0.1, model__reg_lambda=2.0, model__subsample=0.7; total time=  11.0s\n"
     ]
    },
    {
     "name": "stderr",
     "output_type": "stream",
     "text": [
      "/home/wsl2ubuntuuser/.virtualenvs/nomination_predictor/lib/python3.12/site-packages/sklearn/preprocessing/_encoders.py:246: UserWarning: Found unknown categories in columns [1, 4, 9, 10, 11, 12, 14, 17, 19, 21] during transform. These unknown categories will be encoded as all zeros\n",
      "  warnings.warn(\n"
     ]
    },
    {
     "name": "stdout",
     "output_type": "stream",
     "text": [
      "[CV] END model__colsample_bytree=0.8, model__gamma=0.5, model__learning_rate=0.2, model__max_depth=9, model__min_child_weight=1, model__n_estimators=3000, model__reg_alpha=0.1, model__reg_lambda=2.0, model__subsample=0.7; total time=  13.4s\n"
     ]
    },
    {
     "name": "stderr",
     "output_type": "stream",
     "text": [
      "/home/wsl2ubuntuuser/.virtualenvs/nomination_predictor/lib/python3.12/site-packages/sklearn/preprocessing/_encoders.py:246: UserWarning: Found unknown categories in columns [1, 4, 9, 11, 12, 13, 17, 19, 21] during transform. These unknown categories will be encoded as all zeros\n",
      "  warnings.warn(\n"
     ]
    },
    {
     "name": "stdout",
     "output_type": "stream",
     "text": [
      "[CV] END model__colsample_bytree=0.8, model__gamma=0.5, model__learning_rate=0.1, model__max_depth=4, model__min_child_weight=7, model__n_estimators=5000, model__reg_alpha=0, model__reg_lambda=1.0, model__subsample=1.0; total time=  21.8s\n"
     ]
    },
    {
     "name": "stderr",
     "output_type": "stream",
     "text": [
      "/home/wsl2ubuntuuser/.virtualenvs/nomination_predictor/lib/python3.12/site-packages/sklearn/preprocessing/_encoders.py:246: UserWarning: Found unknown categories in columns [0, 4, 9, 12, 17, 19, 21] during transform. These unknown categories will be encoded as all zeros\n",
      "  warnings.warn(\n"
     ]
    },
    {
     "name": "stdout",
     "output_type": "stream",
     "text": [
      "[CV] END model__colsample_bytree=0.8, model__gamma=0.5, model__learning_rate=0.1, model__max_depth=4, model__min_child_weight=7, model__n_estimators=5000, model__reg_alpha=0, model__reg_lambda=1.0, model__subsample=1.0; total time=  19.1s\n"
     ]
    },
    {
     "name": "stderr",
     "output_type": "stream",
     "text": [
      "/home/wsl2ubuntuuser/.virtualenvs/nomination_predictor/lib/python3.12/site-packages/sklearn/preprocessing/_encoders.py:246: UserWarning: Found unknown categories in columns [1, 4, 9, 10, 11, 12, 14, 17, 19, 21] during transform. These unknown categories will be encoded as all zeros\n",
      "  warnings.warn(\n"
     ]
    },
    {
     "name": "stdout",
     "output_type": "stream",
     "text": [
      "[CV] END model__colsample_bytree=0.8, model__gamma=0.5, model__learning_rate=0.1, model__max_depth=4, model__min_child_weight=7, model__n_estimators=5000, model__reg_alpha=0, model__reg_lambda=1.0, model__subsample=1.0; total time=  19.3s\n"
     ]
    },
    {
     "name": "stderr",
     "output_type": "stream",
     "text": [
      "/home/wsl2ubuntuuser/.virtualenvs/nomination_predictor/lib/python3.12/site-packages/sklearn/preprocessing/_encoders.py:246: UserWarning: Found unknown categories in columns [1, 4, 9, 11, 12, 13, 17, 19, 21] during transform. These unknown categories will be encoded as all zeros\n",
      "  warnings.warn(\n"
     ]
    },
    {
     "name": "stdout",
     "output_type": "stream",
     "text": [
      "[CV] END model__colsample_bytree=0.8, model__gamma=0.5, model__learning_rate=0.05, model__max_depth=8, model__min_child_weight=5, model__n_estimators=500, model__reg_alpha=0.1, model__reg_lambda=0.1, model__subsample=0.7; total time=   4.0s\n"
     ]
    },
    {
     "name": "stderr",
     "output_type": "stream",
     "text": [
      "/home/wsl2ubuntuuser/.virtualenvs/nomination_predictor/lib/python3.12/site-packages/sklearn/preprocessing/_encoders.py:246: UserWarning: Found unknown categories in columns [0, 4, 9, 12, 17, 19, 21] during transform. These unknown categories will be encoded as all zeros\n",
      "  warnings.warn(\n"
     ]
    },
    {
     "name": "stdout",
     "output_type": "stream",
     "text": [
      "[CV] END model__colsample_bytree=0.8, model__gamma=0.5, model__learning_rate=0.05, model__max_depth=8, model__min_child_weight=5, model__n_estimators=500, model__reg_alpha=0.1, model__reg_lambda=0.1, model__subsample=0.7; total time=   4.5s\n"
     ]
    },
    {
     "name": "stderr",
     "output_type": "stream",
     "text": [
      "/home/wsl2ubuntuuser/.virtualenvs/nomination_predictor/lib/python3.12/site-packages/sklearn/preprocessing/_encoders.py:246: UserWarning: Found unknown categories in columns [1, 4, 9, 10, 11, 12, 14, 17, 19, 21] during transform. These unknown categories will be encoded as all zeros\n",
      "  warnings.warn(\n"
     ]
    },
    {
     "name": "stdout",
     "output_type": "stream",
     "text": [
      "[CV] END model__colsample_bytree=0.8, model__gamma=0.5, model__learning_rate=0.05, model__max_depth=8, model__min_child_weight=5, model__n_estimators=500, model__reg_alpha=0.1, model__reg_lambda=0.1, model__subsample=0.7; total time=   4.5s\n"
     ]
    },
    {
     "name": "stderr",
     "output_type": "stream",
     "text": [
      "/home/wsl2ubuntuuser/.virtualenvs/nomination_predictor/lib/python3.12/site-packages/sklearn/preprocessing/_encoders.py:246: UserWarning: Found unknown categories in columns [1, 4, 9, 11, 12, 13, 17, 19, 21] during transform. These unknown categories will be encoded as all zeros\n",
      "  warnings.warn(\n"
     ]
    },
    {
     "name": "stdout",
     "output_type": "stream",
     "text": [
      "[CV] END model__colsample_bytree=0.9, model__gamma=0.3, model__learning_rate=0.3, model__max_depth=10, model__min_child_weight=1, model__n_estimators=2000, model__reg_alpha=0.1, model__reg_lambda=0.5, model__subsample=1.0; total time=   6.4s\n"
     ]
    },
    {
     "name": "stderr",
     "output_type": "stream",
     "text": [
      "/home/wsl2ubuntuuser/.virtualenvs/nomination_predictor/lib/python3.12/site-packages/sklearn/preprocessing/_encoders.py:246: UserWarning: Found unknown categories in columns [0, 4, 9, 12, 17, 19, 21] during transform. These unknown categories will be encoded as all zeros\n",
      "  warnings.warn(\n"
     ]
    },
    {
     "name": "stdout",
     "output_type": "stream",
     "text": [
      "[CV] END model__colsample_bytree=0.9, model__gamma=0.3, model__learning_rate=0.3, model__max_depth=10, model__min_child_weight=1, model__n_estimators=2000, model__reg_alpha=0.1, model__reg_lambda=0.5, model__subsample=1.0; total time=   6.5s\n"
     ]
    },
    {
     "name": "stderr",
     "output_type": "stream",
     "text": [
      "/home/wsl2ubuntuuser/.virtualenvs/nomination_predictor/lib/python3.12/site-packages/sklearn/preprocessing/_encoders.py:246: UserWarning: Found unknown categories in columns [1, 4, 9, 10, 11, 12, 14, 17, 19, 21] during transform. These unknown categories will be encoded as all zeros\n",
      "  warnings.warn(\n"
     ]
    },
    {
     "name": "stdout",
     "output_type": "stream",
     "text": [
      "[CV] END model__colsample_bytree=0.9, model__gamma=0.3, model__learning_rate=0.3, model__max_depth=10, model__min_child_weight=1, model__n_estimators=2000, model__reg_alpha=0.1, model__reg_lambda=0.5, model__subsample=1.0; total time=   6.5s\n"
     ]
    },
    {
     "name": "stderr",
     "output_type": "stream",
     "text": [
      "/home/wsl2ubuntuuser/.virtualenvs/nomination_predictor/lib/python3.12/site-packages/sklearn/preprocessing/_encoders.py:246: UserWarning: Found unknown categories in columns [1, 4, 9, 11, 12, 13, 17, 19, 21] during transform. These unknown categories will be encoded as all zeros\n",
      "  warnings.warn(\n"
     ]
    },
    {
     "name": "stdout",
     "output_type": "stream",
     "text": [
      "[CV] END model__colsample_bytree=0.9, model__gamma=0.3, model__learning_rate=0.2, model__max_depth=9, model__min_child_weight=10, model__n_estimators=500, model__reg_alpha=0.1, model__reg_lambda=0.1, model__subsample=1.0; total time=   4.5s\n"
     ]
    },
    {
     "name": "stderr",
     "output_type": "stream",
     "text": [
      "/home/wsl2ubuntuuser/.virtualenvs/nomination_predictor/lib/python3.12/site-packages/sklearn/preprocessing/_encoders.py:246: UserWarning: Found unknown categories in columns [0, 4, 9, 12, 17, 19, 21] during transform. These unknown categories will be encoded as all zeros\n",
      "  warnings.warn(\n"
     ]
    },
    {
     "name": "stdout",
     "output_type": "stream",
     "text": [
      "[CV] END model__colsample_bytree=0.9, model__gamma=0.3, model__learning_rate=0.2, model__max_depth=9, model__min_child_weight=10, model__n_estimators=500, model__reg_alpha=0.1, model__reg_lambda=0.1, model__subsample=1.0; total time=   4.4s\n"
     ]
    },
    {
     "name": "stderr",
     "output_type": "stream",
     "text": [
      "/home/wsl2ubuntuuser/.virtualenvs/nomination_predictor/lib/python3.12/site-packages/sklearn/preprocessing/_encoders.py:246: UserWarning: Found unknown categories in columns [1, 4, 9, 10, 11, 12, 14, 17, 19, 21] during transform. These unknown categories will be encoded as all zeros\n",
      "  warnings.warn(\n"
     ]
    },
    {
     "name": "stdout",
     "output_type": "stream",
     "text": [
      "[CV] END model__colsample_bytree=0.9, model__gamma=0.3, model__learning_rate=0.2, model__max_depth=9, model__min_child_weight=10, model__n_estimators=500, model__reg_alpha=0.1, model__reg_lambda=0.1, model__subsample=1.0; total time=   3.6s\n"
     ]
    },
    {
     "name": "stderr",
     "output_type": "stream",
     "text": [
      "/home/wsl2ubuntuuser/.virtualenvs/nomination_predictor/lib/python3.12/site-packages/sklearn/preprocessing/_encoders.py:246: UserWarning: Found unknown categories in columns [1, 4, 9, 11, 12, 13, 17, 19, 21] during transform. These unknown categories will be encoded as all zeros\n",
      "  warnings.warn(\n"
     ]
    },
    {
     "name": "stdout",
     "output_type": "stream",
     "text": [
      "[CV] END model__colsample_bytree=0.9, model__gamma=0.3, model__learning_rate=0.2, model__max_depth=9, model__min_child_weight=7, model__n_estimators=3000, model__reg_alpha=2.0, model__reg_lambda=0.1, model__subsample=0.8; total time=  10.7s\n"
     ]
    },
    {
     "name": "stderr",
     "output_type": "stream",
     "text": [
      "/home/wsl2ubuntuuser/.virtualenvs/nomination_predictor/lib/python3.12/site-packages/sklearn/preprocessing/_encoders.py:246: UserWarning: Found unknown categories in columns [0, 4, 9, 12, 17, 19, 21] during transform. These unknown categories will be encoded as all zeros\n",
      "  warnings.warn(\n"
     ]
    },
    {
     "name": "stdout",
     "output_type": "stream",
     "text": [
      "[CV] END model__colsample_bytree=0.9, model__gamma=0.3, model__learning_rate=0.2, model__max_depth=9, model__min_child_weight=7, model__n_estimators=3000, model__reg_alpha=2.0, model__reg_lambda=0.1, model__subsample=0.8; total time=  13.7s\n"
     ]
    },
    {
     "name": "stderr",
     "output_type": "stream",
     "text": [
      "/home/wsl2ubuntuuser/.virtualenvs/nomination_predictor/lib/python3.12/site-packages/sklearn/preprocessing/_encoders.py:246: UserWarning: Found unknown categories in columns [1, 4, 9, 10, 11, 12, 14, 17, 19, 21] during transform. These unknown categories will be encoded as all zeros\n",
      "  warnings.warn(\n"
     ]
    },
    {
     "name": "stdout",
     "output_type": "stream",
     "text": [
      "[CV] END model__colsample_bytree=0.9, model__gamma=0.3, model__learning_rate=0.2, model__max_depth=9, model__min_child_weight=7, model__n_estimators=3000, model__reg_alpha=2.0, model__reg_lambda=0.1, model__subsample=0.8; total time=  12.0s\n"
     ]
    },
    {
     "name": "stderr",
     "output_type": "stream",
     "text": [
      "/home/wsl2ubuntuuser/.virtualenvs/nomination_predictor/lib/python3.12/site-packages/sklearn/preprocessing/_encoders.py:246: UserWarning: Found unknown categories in columns [1, 4, 9, 11, 12, 13, 17, 19, 21] during transform. These unknown categories will be encoded as all zeros\n",
      "  warnings.warn(\n"
     ]
    },
    {
     "name": "stdout",
     "output_type": "stream",
     "text": [
      "[CV] END model__colsample_bytree=0.9, model__gamma=0, model__learning_rate=0.15, model__max_depth=4, model__min_child_weight=5, model__n_estimators=1000, model__reg_alpha=0, model__reg_lambda=0.5, model__subsample=0.9; total time=   6.3s\n"
     ]
    },
    {
     "name": "stderr",
     "output_type": "stream",
     "text": [
      "/home/wsl2ubuntuuser/.virtualenvs/nomination_predictor/lib/python3.12/site-packages/sklearn/preprocessing/_encoders.py:246: UserWarning: Found unknown categories in columns [0, 4, 9, 12, 17, 19, 21] during transform. These unknown categories will be encoded as all zeros\n",
      "  warnings.warn(\n"
     ]
    },
    {
     "name": "stdout",
     "output_type": "stream",
     "text": [
      "[CV] END model__colsample_bytree=0.9, model__gamma=0, model__learning_rate=0.15, model__max_depth=4, model__min_child_weight=5, model__n_estimators=1000, model__reg_alpha=0, model__reg_lambda=0.5, model__subsample=0.9; total time=   5.5s\n"
     ]
    },
    {
     "name": "stderr",
     "output_type": "stream",
     "text": [
      "/home/wsl2ubuntuuser/.virtualenvs/nomination_predictor/lib/python3.12/site-packages/sklearn/preprocessing/_encoders.py:246: UserWarning: Found unknown categories in columns [1, 4, 9, 10, 11, 12, 14, 17, 19, 21] during transform. These unknown categories will be encoded as all zeros\n",
      "  warnings.warn(\n"
     ]
    },
    {
     "name": "stdout",
     "output_type": "stream",
     "text": [
      "[CV] END model__colsample_bytree=0.9, model__gamma=0, model__learning_rate=0.15, model__max_depth=4, model__min_child_weight=5, model__n_estimators=1000, model__reg_alpha=0, model__reg_lambda=0.5, model__subsample=0.9; total time=   5.2s\n"
     ]
    },
    {
     "name": "stderr",
     "output_type": "stream",
     "text": [
      "/home/wsl2ubuntuuser/.virtualenvs/nomination_predictor/lib/python3.12/site-packages/sklearn/preprocessing/_encoders.py:246: UserWarning: Found unknown categories in columns [1, 4, 9, 11, 12, 13, 17, 19, 21] during transform. These unknown categories will be encoded as all zeros\n",
      "  warnings.warn(\n"
     ]
    },
    {
     "name": "stdout",
     "output_type": "stream",
     "text": [
      "[CV] END model__colsample_bytree=0.7, model__gamma=0.3, model__learning_rate=0.01, model__max_depth=9, model__min_child_weight=10, model__n_estimators=500, model__reg_alpha=0.5, model__reg_lambda=0.5, model__subsample=1.0; total time=   4.5s\n"
     ]
    },
    {
     "name": "stderr",
     "output_type": "stream",
     "text": [
      "/home/wsl2ubuntuuser/.virtualenvs/nomination_predictor/lib/python3.12/site-packages/sklearn/preprocessing/_encoders.py:246: UserWarning: Found unknown categories in columns [0, 4, 9, 12, 17, 19, 21] during transform. These unknown categories will be encoded as all zeros\n",
      "  warnings.warn(\n"
     ]
    },
    {
     "name": "stdout",
     "output_type": "stream",
     "text": [
      "[CV] END model__colsample_bytree=0.7, model__gamma=0.3, model__learning_rate=0.01, model__max_depth=9, model__min_child_weight=10, model__n_estimators=500, model__reg_alpha=0.5, model__reg_lambda=0.5, model__subsample=1.0; total time=   4.2s\n"
     ]
    },
    {
     "name": "stderr",
     "output_type": "stream",
     "text": [
      "/home/wsl2ubuntuuser/.virtualenvs/nomination_predictor/lib/python3.12/site-packages/sklearn/preprocessing/_encoders.py:246: UserWarning: Found unknown categories in columns [1, 4, 9, 10, 11, 12, 14, 17, 19, 21] during transform. These unknown categories will be encoded as all zeros\n",
      "  warnings.warn(\n"
     ]
    },
    {
     "name": "stdout",
     "output_type": "stream",
     "text": [
      "[CV] END model__colsample_bytree=0.7, model__gamma=0.3, model__learning_rate=0.01, model__max_depth=9, model__min_child_weight=10, model__n_estimators=500, model__reg_alpha=0.5, model__reg_lambda=0.5, model__subsample=1.0; total time=   5.6s\n"
     ]
    },
    {
     "name": "stderr",
     "output_type": "stream",
     "text": [
      "/home/wsl2ubuntuuser/.virtualenvs/nomination_predictor/lib/python3.12/site-packages/sklearn/preprocessing/_encoders.py:246: UserWarning: Found unknown categories in columns [1, 4, 9, 11, 12, 13, 17, 19, 21] during transform. These unknown categories will be encoded as all zeros\n",
      "  warnings.warn(\n"
     ]
    },
    {
     "name": "stdout",
     "output_type": "stream",
     "text": [
      "[CV] END model__colsample_bytree=0.6, model__gamma=0, model__learning_rate=0.1, model__max_depth=5, model__min_child_weight=1, model__n_estimators=5000, model__reg_alpha=0, model__reg_lambda=2.0, model__subsample=0.9; total time=  31.7s\n"
     ]
    },
    {
     "name": "stderr",
     "output_type": "stream",
     "text": [
      "/home/wsl2ubuntuuser/.virtualenvs/nomination_predictor/lib/python3.12/site-packages/sklearn/preprocessing/_encoders.py:246: UserWarning: Found unknown categories in columns [0, 4, 9, 12, 17, 19, 21] during transform. These unknown categories will be encoded as all zeros\n",
      "  warnings.warn(\n"
     ]
    },
    {
     "name": "stdout",
     "output_type": "stream",
     "text": [
      "[CV] END model__colsample_bytree=0.6, model__gamma=0, model__learning_rate=0.1, model__max_depth=5, model__min_child_weight=1, model__n_estimators=5000, model__reg_alpha=0, model__reg_lambda=2.0, model__subsample=0.9; total time=  28.5s\n"
     ]
    },
    {
     "name": "stderr",
     "output_type": "stream",
     "text": [
      "/home/wsl2ubuntuuser/.virtualenvs/nomination_predictor/lib/python3.12/site-packages/sklearn/preprocessing/_encoders.py:246: UserWarning: Found unknown categories in columns [1, 4, 9, 10, 11, 12, 14, 17, 19, 21] during transform. These unknown categories will be encoded as all zeros\n",
      "  warnings.warn(\n"
     ]
    },
    {
     "name": "stdout",
     "output_type": "stream",
     "text": [
      "[CV] END model__colsample_bytree=0.6, model__gamma=0, model__learning_rate=0.1, model__max_depth=5, model__min_child_weight=1, model__n_estimators=5000, model__reg_alpha=0, model__reg_lambda=2.0, model__subsample=0.9; total time=  28.4s\n"
     ]
    },
    {
     "name": "stderr",
     "output_type": "stream",
     "text": [
      "/home/wsl2ubuntuuser/.virtualenvs/nomination_predictor/lib/python3.12/site-packages/sklearn/preprocessing/_encoders.py:246: UserWarning: Found unknown categories in columns [1, 4, 9, 11, 12, 13, 17, 19, 21] during transform. These unknown categories will be encoded as all zeros\n",
      "  warnings.warn(\n"
     ]
    },
    {
     "name": "stdout",
     "output_type": "stream",
     "text": [
      "[CV] END model__colsample_bytree=0.8, model__gamma=0, model__learning_rate=0.01, model__max_depth=9, model__min_child_weight=10, model__n_estimators=500, model__reg_alpha=0.1, model__reg_lambda=1.0, model__subsample=0.6; total time=   4.4s\n"
     ]
    },
    {
     "name": "stderr",
     "output_type": "stream",
     "text": [
      "/home/wsl2ubuntuuser/.virtualenvs/nomination_predictor/lib/python3.12/site-packages/sklearn/preprocessing/_encoders.py:246: UserWarning: Found unknown categories in columns [0, 4, 9, 12, 17, 19, 21] during transform. These unknown categories will be encoded as all zeros\n",
      "  warnings.warn(\n"
     ]
    },
    {
     "name": "stdout",
     "output_type": "stream",
     "text": [
      "[CV] END model__colsample_bytree=0.8, model__gamma=0, model__learning_rate=0.01, model__max_depth=9, model__min_child_weight=10, model__n_estimators=500, model__reg_alpha=0.1, model__reg_lambda=1.0, model__subsample=0.6; total time=   4.3s\n"
     ]
    },
    {
     "name": "stderr",
     "output_type": "stream",
     "text": [
      "/home/wsl2ubuntuuser/.virtualenvs/nomination_predictor/lib/python3.12/site-packages/sklearn/preprocessing/_encoders.py:246: UserWarning: Found unknown categories in columns [1, 4, 9, 10, 11, 12, 14, 17, 19, 21] during transform. These unknown categories will be encoded as all zeros\n",
      "  warnings.warn(\n"
     ]
    },
    {
     "name": "stdout",
     "output_type": "stream",
     "text": [
      "[CV] END model__colsample_bytree=0.8, model__gamma=0, model__learning_rate=0.01, model__max_depth=9, model__min_child_weight=10, model__n_estimators=500, model__reg_alpha=0.1, model__reg_lambda=1.0, model__subsample=0.6; total time=   4.4s\n"
     ]
    },
    {
     "name": "stderr",
     "output_type": "stream",
     "text": [
      "/home/wsl2ubuntuuser/.virtualenvs/nomination_predictor/lib/python3.12/site-packages/sklearn/preprocessing/_encoders.py:246: UserWarning: Found unknown categories in columns [1, 4, 9, 11, 12, 13, 17, 19, 21] during transform. These unknown categories will be encoded as all zeros\n",
      "  warnings.warn(\n"
     ]
    },
    {
     "name": "stdout",
     "output_type": "stream",
     "text": [
      "[CV] END model__colsample_bytree=0.9, model__gamma=0, model__learning_rate=0.05, model__max_depth=7, model__min_child_weight=1, model__n_estimators=5000, model__reg_alpha=0.5, model__reg_lambda=0.1, model__subsample=0.9; total time=  31.9s\n"
     ]
    },
    {
     "name": "stderr",
     "output_type": "stream",
     "text": [
      "/home/wsl2ubuntuuser/.virtualenvs/nomination_predictor/lib/python3.12/site-packages/sklearn/preprocessing/_encoders.py:246: UserWarning: Found unknown categories in columns [0, 4, 9, 12, 17, 19, 21] during transform. These unknown categories will be encoded as all zeros\n",
      "  warnings.warn(\n"
     ]
    },
    {
     "name": "stdout",
     "output_type": "stream",
     "text": [
      "[CV] END model__colsample_bytree=0.9, model__gamma=0, model__learning_rate=0.05, model__max_depth=7, model__min_child_weight=1, model__n_estimators=5000, model__reg_alpha=0.5, model__reg_lambda=0.1, model__subsample=0.9; total time=  31.6s\n"
     ]
    },
    {
     "name": "stderr",
     "output_type": "stream",
     "text": [
      "/home/wsl2ubuntuuser/.virtualenvs/nomination_predictor/lib/python3.12/site-packages/sklearn/preprocessing/_encoders.py:246: UserWarning: Found unknown categories in columns [1, 4, 9, 10, 11, 12, 14, 17, 19, 21] during transform. These unknown categories will be encoded as all zeros\n",
      "  warnings.warn(\n"
     ]
    },
    {
     "name": "stdout",
     "output_type": "stream",
     "text": [
      "[CV] END model__colsample_bytree=0.9, model__gamma=0, model__learning_rate=0.05, model__max_depth=7, model__min_child_weight=1, model__n_estimators=5000, model__reg_alpha=0.5, model__reg_lambda=0.1, model__subsample=0.9; total time=  31.9s\n"
     ]
    },
    {
     "name": "stderr",
     "output_type": "stream",
     "text": [
      "/home/wsl2ubuntuuser/.virtualenvs/nomination_predictor/lib/python3.12/site-packages/sklearn/preprocessing/_encoders.py:246: UserWarning: Found unknown categories in columns [1, 4, 9, 11, 12, 13, 17, 19, 21] during transform. These unknown categories will be encoded as all zeros\n",
      "  warnings.warn(\n"
     ]
    },
    {
     "name": "stdout",
     "output_type": "stream",
     "text": [
      "[CV] END model__colsample_bytree=0.9, model__gamma=0.3, model__learning_rate=0.3, model__max_depth=5, model__min_child_weight=1, model__n_estimators=500, model__reg_alpha=1.0, model__reg_lambda=2.0, model__subsample=0.9; total time=   2.9s\n"
     ]
    },
    {
     "name": "stderr",
     "output_type": "stream",
     "text": [
      "/home/wsl2ubuntuuser/.virtualenvs/nomination_predictor/lib/python3.12/site-packages/sklearn/preprocessing/_encoders.py:246: UserWarning: Found unknown categories in columns [0, 4, 9, 12, 17, 19, 21] during transform. These unknown categories will be encoded as all zeros\n",
      "  warnings.warn(\n"
     ]
    },
    {
     "name": "stdout",
     "output_type": "stream",
     "text": [
      "[CV] END model__colsample_bytree=0.9, model__gamma=0.3, model__learning_rate=0.3, model__max_depth=5, model__min_child_weight=1, model__n_estimators=500, model__reg_alpha=1.0, model__reg_lambda=2.0, model__subsample=0.9; total time=  39.9s\n"
     ]
    },
    {
     "name": "stderr",
     "output_type": "stream",
     "text": [
      "/home/wsl2ubuntuuser/.virtualenvs/nomination_predictor/lib/python3.12/site-packages/sklearn/preprocessing/_encoders.py:246: UserWarning: Found unknown categories in columns [1, 4, 9, 10, 11, 12, 14, 17, 19, 21] during transform. These unknown categories will be encoded as all zeros\n",
      "  warnings.warn(\n"
     ]
    },
    {
     "name": "stdout",
     "output_type": "stream",
     "text": [
      "[CV] END model__colsample_bytree=0.9, model__gamma=0.3, model__learning_rate=0.3, model__max_depth=5, model__min_child_weight=1, model__n_estimators=500, model__reg_alpha=1.0, model__reg_lambda=2.0, model__subsample=0.9; total time= -33.7s\n"
     ]
    },
    {
     "name": "stderr",
     "output_type": "stream",
     "text": [
      "/home/wsl2ubuntuuser/.virtualenvs/nomination_predictor/lib/python3.12/site-packages/sklearn/preprocessing/_encoders.py:246: UserWarning: Found unknown categories in columns [1, 4, 9, 11, 12, 13, 17, 19, 21] during transform. These unknown categories will be encoded as all zeros\n",
      "  warnings.warn(\n"
     ]
    },
    {
     "name": "stdout",
     "output_type": "stream",
     "text": [
      "[CV] END model__colsample_bytree=0.9, model__gamma=0.1, model__learning_rate=0.2, model__max_depth=4, model__min_child_weight=1, model__n_estimators=100, model__reg_alpha=0, model__reg_lambda=0.1, model__subsample=0.9; total time=   0.6s\n"
     ]
    },
    {
     "name": "stderr",
     "output_type": "stream",
     "text": [
      "/home/wsl2ubuntuuser/.virtualenvs/nomination_predictor/lib/python3.12/site-packages/sklearn/preprocessing/_encoders.py:246: UserWarning: Found unknown categories in columns [0, 4, 9, 12, 17, 19, 21] during transform. These unknown categories will be encoded as all zeros\n",
      "  warnings.warn(\n"
     ]
    },
    {
     "name": "stdout",
     "output_type": "stream",
     "text": [
      "[CV] END model__colsample_bytree=0.9, model__gamma=0.1, model__learning_rate=0.2, model__max_depth=4, model__min_child_weight=1, model__n_estimators=100, model__reg_alpha=0, model__reg_lambda=0.1, model__subsample=0.9; total time=   0.7s\n"
     ]
    },
    {
     "name": "stderr",
     "output_type": "stream",
     "text": [
      "/home/wsl2ubuntuuser/.virtualenvs/nomination_predictor/lib/python3.12/site-packages/sklearn/preprocessing/_encoders.py:246: UserWarning: Found unknown categories in columns [1, 4, 9, 10, 11, 12, 14, 17, 19, 21] during transform. These unknown categories will be encoded as all zeros\n",
      "  warnings.warn(\n"
     ]
    },
    {
     "name": "stdout",
     "output_type": "stream",
     "text": [
      "[CV] END model__colsample_bytree=0.9, model__gamma=0.1, model__learning_rate=0.2, model__max_depth=4, model__min_child_weight=1, model__n_estimators=100, model__reg_alpha=0, model__reg_lambda=0.1, model__subsample=0.9; total time=  37.3s\n"
     ]
    },
    {
     "name": "stderr",
     "output_type": "stream",
     "text": [
      "/home/wsl2ubuntuuser/.virtualenvs/nomination_predictor/lib/python3.12/site-packages/sklearn/preprocessing/_encoders.py:246: UserWarning: Found unknown categories in columns [1, 4, 9, 11, 12, 13, 17, 19, 21] during transform. These unknown categories will be encoded as all zeros\n",
      "  warnings.warn(\n"
     ]
    },
    {
     "name": "stdout",
     "output_type": "stream",
     "text": [
      "[CV] END model__colsample_bytree=1.0, model__gamma=0.2, model__learning_rate=0.15, model__max_depth=4, model__min_child_weight=7, model__n_estimators=3000, model__reg_alpha=0, model__reg_lambda=1.0, model__subsample=0.9; total time= -23.8s\n"
     ]
    },
    {
     "name": "stderr",
     "output_type": "stream",
     "text": [
      "/home/wsl2ubuntuuser/.virtualenvs/nomination_predictor/lib/python3.12/site-packages/sklearn/preprocessing/_encoders.py:246: UserWarning: Found unknown categories in columns [0, 4, 9, 12, 17, 19, 21] during transform. These unknown categories will be encoded as all zeros\n",
      "  warnings.warn(\n"
     ]
    },
    {
     "name": "stdout",
     "output_type": "stream",
     "text": [
      "[CV] END model__colsample_bytree=1.0, model__gamma=0.2, model__learning_rate=0.15, model__max_depth=4, model__min_child_weight=7, model__n_estimators=3000, model__reg_alpha=0, model__reg_lambda=1.0, model__subsample=0.9; total time=  13.5s\n"
     ]
    },
    {
     "name": "stderr",
     "output_type": "stream",
     "text": [
      "/home/wsl2ubuntuuser/.virtualenvs/nomination_predictor/lib/python3.12/site-packages/sklearn/preprocessing/_encoders.py:246: UserWarning: Found unknown categories in columns [1, 4, 9, 10, 11, 12, 14, 17, 19, 21] during transform. These unknown categories will be encoded as all zeros\n",
      "  warnings.warn(\n"
     ]
    },
    {
     "name": "stdout",
     "output_type": "stream",
     "text": [
      "[CV] END model__colsample_bytree=1.0, model__gamma=0.2, model__learning_rate=0.15, model__max_depth=4, model__min_child_weight=7, model__n_estimators=3000, model__reg_alpha=0, model__reg_lambda=1.0, model__subsample=0.9; total time=  50.3s\n"
     ]
    },
    {
     "name": "stderr",
     "output_type": "stream",
     "text": [
      "/home/wsl2ubuntuuser/.virtualenvs/nomination_predictor/lib/python3.12/site-packages/sklearn/preprocessing/_encoders.py:246: UserWarning: Found unknown categories in columns [1, 4, 9, 11, 12, 13, 17, 19, 21] during transform. These unknown categories will be encoded as all zeros\n",
      "  warnings.warn(\n"
     ]
    },
    {
     "name": "stdout",
     "output_type": "stream",
     "text": [
      "[CV] END model__colsample_bytree=0.8, model__gamma=0.5, model__learning_rate=0.2, model__max_depth=10, model__min_child_weight=10, model__n_estimators=5000, model__reg_alpha=2.0, model__reg_lambda=2.0, model__subsample=0.6; total time= -16.2s\n"
     ]
    },
    {
     "name": "stderr",
     "output_type": "stream",
     "text": [
      "/home/wsl2ubuntuuser/.virtualenvs/nomination_predictor/lib/python3.12/site-packages/sklearn/preprocessing/_encoders.py:246: UserWarning: Found unknown categories in columns [0, 4, 9, 12, 17, 19, 21] during transform. These unknown categories will be encoded as all zeros\n",
      "  warnings.warn(\n"
     ]
    },
    {
     "name": "stdout",
     "output_type": "stream",
     "text": [
      "[CV] END model__colsample_bytree=0.8, model__gamma=0.5, model__learning_rate=0.2, model__max_depth=10, model__min_child_weight=10, model__n_estimators=5000, model__reg_alpha=2.0, model__reg_lambda=2.0, model__subsample=0.6; total time=  20.0s\n"
     ]
    },
    {
     "name": "stderr",
     "output_type": "stream",
     "text": [
      "/home/wsl2ubuntuuser/.virtualenvs/nomination_predictor/lib/python3.12/site-packages/sklearn/preprocessing/_encoders.py:246: UserWarning: Found unknown categories in columns [1, 4, 9, 10, 11, 12, 14, 17, 19, 21] during transform. These unknown categories will be encoded as all zeros\n",
      "  warnings.warn(\n"
     ]
    },
    {
     "name": "stdout",
     "output_type": "stream",
     "text": [
      "[CV] END model__colsample_bytree=0.8, model__gamma=0.5, model__learning_rate=0.2, model__max_depth=10, model__min_child_weight=10, model__n_estimators=5000, model__reg_alpha=2.0, model__reg_lambda=2.0, model__subsample=0.6; total time=  19.0s\n"
     ]
    },
    {
     "name": "stderr",
     "output_type": "stream",
     "text": [
      "/home/wsl2ubuntuuser/.virtualenvs/nomination_predictor/lib/python3.12/site-packages/sklearn/preprocessing/_encoders.py:246: UserWarning: Found unknown categories in columns [1, 4, 9, 11, 12, 13, 17, 19, 21] during transform. These unknown categories will be encoded as all zeros\n",
      "  warnings.warn(\n"
     ]
    },
    {
     "name": "stdout",
     "output_type": "stream",
     "text": [
      "[CV] END model__colsample_bytree=1.0, model__gamma=0.5, model__learning_rate=0.2, model__max_depth=5, model__min_child_weight=10, model__n_estimators=1000, model__reg_alpha=0.5, model__reg_lambda=0.5, model__subsample=0.8; total time=  42.3s\n"
     ]
    },
    {
     "name": "stderr",
     "output_type": "stream",
     "text": [
      "/home/wsl2ubuntuuser/.virtualenvs/nomination_predictor/lib/python3.12/site-packages/sklearn/preprocessing/_encoders.py:246: UserWarning: Found unknown categories in columns [0, 4, 9, 12, 17, 19, 21] during transform. These unknown categories will be encoded as all zeros\n",
      "  warnings.warn(\n"
     ]
    },
    {
     "name": "stdout",
     "output_type": "stream",
     "text": [
      "[CV] END model__colsample_bytree=1.0, model__gamma=0.5, model__learning_rate=0.2, model__max_depth=5, model__min_child_weight=10, model__n_estimators=1000, model__reg_alpha=0.5, model__reg_lambda=0.5, model__subsample=0.8; total time= -31.3s\n"
     ]
    },
    {
     "name": "stderr",
     "output_type": "stream",
     "text": [
      "/home/wsl2ubuntuuser/.virtualenvs/nomination_predictor/lib/python3.12/site-packages/sklearn/preprocessing/_encoders.py:246: UserWarning: Found unknown categories in columns [1, 4, 9, 10, 11, 12, 14, 17, 19, 21] during transform. These unknown categories will be encoded as all zeros\n",
      "  warnings.warn(\n"
     ]
    },
    {
     "name": "stdout",
     "output_type": "stream",
     "text": [
      "[CV] END model__colsample_bytree=1.0, model__gamma=0.5, model__learning_rate=0.2, model__max_depth=5, model__min_child_weight=10, model__n_estimators=1000, model__reg_alpha=0.5, model__reg_lambda=0.5, model__subsample=0.8; total time=   5.0s\n"
     ]
    },
    {
     "name": "stderr",
     "output_type": "stream",
     "text": [
      "/home/wsl2ubuntuuser/.virtualenvs/nomination_predictor/lib/python3.12/site-packages/sklearn/preprocessing/_encoders.py:246: UserWarning: Found unknown categories in columns [1, 4, 9, 11, 12, 13, 17, 19, 21] during transform. These unknown categories will be encoded as all zeros\n",
      "  warnings.warn(\n"
     ]
    },
    {
     "name": "stdout",
     "output_type": "stream",
     "text": [
      "[CV] END model__colsample_bytree=0.8, model__gamma=0, model__learning_rate=0.1, model__max_depth=5, model__min_child_weight=10, model__n_estimators=2000, model__reg_alpha=0.5, model__reg_lambda=0, model__subsample=0.9; total time=  12.2s\n"
     ]
    },
    {
     "name": "stderr",
     "output_type": "stream",
     "text": [
      "/home/wsl2ubuntuuser/.virtualenvs/nomination_predictor/lib/python3.12/site-packages/sklearn/preprocessing/_encoders.py:246: UserWarning: Found unknown categories in columns [0, 4, 9, 12, 17, 19, 21] during transform. These unknown categories will be encoded as all zeros\n",
      "  warnings.warn(\n"
     ]
    },
    {
     "name": "stdout",
     "output_type": "stream",
     "text": [
      "[CV] END model__colsample_bytree=0.8, model__gamma=0, model__learning_rate=0.1, model__max_depth=5, model__min_child_weight=10, model__n_estimators=2000, model__reg_alpha=0.5, model__reg_lambda=0, model__subsample=0.9; total time=  12.1s\n"
     ]
    },
    {
     "name": "stderr",
     "output_type": "stream",
     "text": [
      "/home/wsl2ubuntuuser/.virtualenvs/nomination_predictor/lib/python3.12/site-packages/sklearn/preprocessing/_encoders.py:246: UserWarning: Found unknown categories in columns [1, 4, 9, 10, 11, 12, 14, 17, 19, 21] during transform. These unknown categories will be encoded as all zeros\n",
      "  warnings.warn(\n"
     ]
    },
    {
     "name": "stdout",
     "output_type": "stream",
     "text": [
      "[CV] END model__colsample_bytree=0.8, model__gamma=0, model__learning_rate=0.1, model__max_depth=5, model__min_child_weight=10, model__n_estimators=2000, model__reg_alpha=0.5, model__reg_lambda=0, model__subsample=0.9; total time=  12.1s\n"
     ]
    },
    {
     "name": "stderr",
     "output_type": "stream",
     "text": [
      "/home/wsl2ubuntuuser/.virtualenvs/nomination_predictor/lib/python3.12/site-packages/sklearn/preprocessing/_encoders.py:246: UserWarning: Found unknown categories in columns [1, 4, 9, 11, 12, 13, 17, 19, 21] during transform. These unknown categories will be encoded as all zeros\n",
      "  warnings.warn(\n"
     ]
    },
    {
     "name": "stdout",
     "output_type": "stream",
     "text": [
      "[CV] END model__colsample_bytree=1.0, model__gamma=0.3, model__learning_rate=0.01, model__max_depth=7, model__min_child_weight=1, model__n_estimators=1000, model__reg_alpha=0.1, model__reg_lambda=2.0, model__subsample=1.0; total time=   8.6s\n"
     ]
    },
    {
     "name": "stderr",
     "output_type": "stream",
     "text": [
      "/home/wsl2ubuntuuser/.virtualenvs/nomination_predictor/lib/python3.12/site-packages/sklearn/preprocessing/_encoders.py:246: UserWarning: Found unknown categories in columns [0, 4, 9, 12, 17, 19, 21] during transform. These unknown categories will be encoded as all zeros\n",
      "  warnings.warn(\n"
     ]
    },
    {
     "name": "stdout",
     "output_type": "stream",
     "text": [
      "[CV] END model__colsample_bytree=1.0, model__gamma=0.3, model__learning_rate=0.01, model__max_depth=7, model__min_child_weight=1, model__n_estimators=1000, model__reg_alpha=0.1, model__reg_lambda=2.0, model__subsample=1.0; total time=   6.9s\n"
     ]
    },
    {
     "name": "stderr",
     "output_type": "stream",
     "text": [
      "/home/wsl2ubuntuuser/.virtualenvs/nomination_predictor/lib/python3.12/site-packages/sklearn/preprocessing/_encoders.py:246: UserWarning: Found unknown categories in columns [1, 4, 9, 10, 11, 12, 14, 17, 19, 21] during transform. These unknown categories will be encoded as all zeros\n",
      "  warnings.warn(\n"
     ]
    },
    {
     "name": "stdout",
     "output_type": "stream",
     "text": [
      "[CV] END model__colsample_bytree=1.0, model__gamma=0.3, model__learning_rate=0.01, model__max_depth=7, model__min_child_weight=1, model__n_estimators=1000, model__reg_alpha=0.1, model__reg_lambda=2.0, model__subsample=1.0; total time=   7.1s\n"
     ]
    },
    {
     "name": "stderr",
     "output_type": "stream",
     "text": [
      "/home/wsl2ubuntuuser/.virtualenvs/nomination_predictor/lib/python3.12/site-packages/sklearn/preprocessing/_encoders.py:246: UserWarning: Found unknown categories in columns [1, 4, 9, 11, 12, 13, 17, 19, 21] during transform. These unknown categories will be encoded as all zeros\n",
      "  warnings.warn(\n"
     ]
    },
    {
     "name": "stdout",
     "output_type": "stream",
     "text": [
      "[CV] END model__colsample_bytree=0.8, model__gamma=0.5, model__learning_rate=0.05, model__max_depth=4, model__min_child_weight=10, model__n_estimators=5000, model__reg_alpha=2.0, model__reg_lambda=0.5, model__subsample=1.0; total time=  25.2s\n"
     ]
    },
    {
     "name": "stderr",
     "output_type": "stream",
     "text": [
      "/home/wsl2ubuntuuser/.virtualenvs/nomination_predictor/lib/python3.12/site-packages/sklearn/preprocessing/_encoders.py:246: UserWarning: Found unknown categories in columns [0, 4, 9, 12, 17, 19, 21] during transform. These unknown categories will be encoded as all zeros\n",
      "  warnings.warn(\n"
     ]
    },
    {
     "name": "stdout",
     "output_type": "stream",
     "text": [
      "[CV] END model__colsample_bytree=0.8, model__gamma=0.5, model__learning_rate=0.05, model__max_depth=4, model__min_child_weight=10, model__n_estimators=5000, model__reg_alpha=2.0, model__reg_lambda=0.5, model__subsample=1.0; total time=  23.4s\n"
     ]
    },
    {
     "name": "stderr",
     "output_type": "stream",
     "text": [
      "/home/wsl2ubuntuuser/.virtualenvs/nomination_predictor/lib/python3.12/site-packages/sklearn/preprocessing/_encoders.py:246: UserWarning: Found unknown categories in columns [1, 4, 9, 10, 11, 12, 14, 17, 19, 21] during transform. These unknown categories will be encoded as all zeros\n",
      "  warnings.warn(\n"
     ]
    },
    {
     "name": "stdout",
     "output_type": "stream",
     "text": [
      "[CV] END model__colsample_bytree=0.8, model__gamma=0.5, model__learning_rate=0.05, model__max_depth=4, model__min_child_weight=10, model__n_estimators=5000, model__reg_alpha=2.0, model__reg_lambda=0.5, model__subsample=1.0; total time=  21.8s\n"
     ]
    },
    {
     "name": "stderr",
     "output_type": "stream",
     "text": [
      "/home/wsl2ubuntuuser/.virtualenvs/nomination_predictor/lib/python3.12/site-packages/sklearn/preprocessing/_encoders.py:246: UserWarning: Found unknown categories in columns [1, 4, 9, 11, 12, 13, 17, 19, 21] during transform. These unknown categories will be encoded as all zeros\n",
      "  warnings.warn(\n"
     ]
    },
    {
     "name": "stdout",
     "output_type": "stream",
     "text": [
      "[CV] END model__colsample_bytree=0.7, model__gamma=0.5, model__learning_rate=0.3, model__max_depth=3, model__min_child_weight=10, model__n_estimators=2000, model__reg_alpha=0.1, model__reg_lambda=1.0, model__subsample=0.6; total time=   7.5s\n"
     ]
    },
    {
     "name": "stderr",
     "output_type": "stream",
     "text": [
      "/home/wsl2ubuntuuser/.virtualenvs/nomination_predictor/lib/python3.12/site-packages/sklearn/preprocessing/_encoders.py:246: UserWarning: Found unknown categories in columns [0, 4, 9, 12, 17, 19, 21] during transform. These unknown categories will be encoded as all zeros\n",
      "  warnings.warn(\n"
     ]
    },
    {
     "name": "stdout",
     "output_type": "stream",
     "text": [
      "[CV] END model__colsample_bytree=0.7, model__gamma=0.5, model__learning_rate=0.3, model__max_depth=3, model__min_child_weight=10, model__n_estimators=2000, model__reg_alpha=0.1, model__reg_lambda=1.0, model__subsample=0.6; total time=   8.3s\n"
     ]
    },
    {
     "name": "stderr",
     "output_type": "stream",
     "text": [
      "/home/wsl2ubuntuuser/.virtualenvs/nomination_predictor/lib/python3.12/site-packages/sklearn/preprocessing/_encoders.py:246: UserWarning: Found unknown categories in columns [1, 4, 9, 10, 11, 12, 14, 17, 19, 21] during transform. These unknown categories will be encoded as all zeros\n",
      "  warnings.warn(\n"
     ]
    },
    {
     "name": "stdout",
     "output_type": "stream",
     "text": [
      "[CV] END model__colsample_bytree=0.7, model__gamma=0.5, model__learning_rate=0.3, model__max_depth=3, model__min_child_weight=10, model__n_estimators=2000, model__reg_alpha=0.1, model__reg_lambda=1.0, model__subsample=0.6; total time=   7.9s\n"
     ]
    },
    {
     "name": "stderr",
     "output_type": "stream",
     "text": [
      "/home/wsl2ubuntuuser/.virtualenvs/nomination_predictor/lib/python3.12/site-packages/sklearn/preprocessing/_encoders.py:246: UserWarning: Found unknown categories in columns [1, 4, 9, 11, 12, 13, 17, 19, 21] during transform. These unknown categories will be encoded as all zeros\n",
      "  warnings.warn(\n"
     ]
    },
    {
     "name": "stdout",
     "output_type": "stream",
     "text": [
      "[CV] END model__colsample_bytree=0.8, model__gamma=0.2, model__learning_rate=0.2, model__max_depth=9, model__min_child_weight=7, model__n_estimators=5000, model__reg_alpha=0.1, model__reg_lambda=0.5, model__subsample=0.9; total time=  23.0s\n"
     ]
    },
    {
     "name": "stderr",
     "output_type": "stream",
     "text": [
      "/home/wsl2ubuntuuser/.virtualenvs/nomination_predictor/lib/python3.12/site-packages/sklearn/preprocessing/_encoders.py:246: UserWarning: Found unknown categories in columns [0, 4, 9, 12, 17, 19, 21] during transform. These unknown categories will be encoded as all zeros\n",
      "  warnings.warn(\n"
     ]
    },
    {
     "name": "stdout",
     "output_type": "stream",
     "text": [
      "[CV] END model__colsample_bytree=0.8, model__gamma=0.2, model__learning_rate=0.2, model__max_depth=9, model__min_child_weight=7, model__n_estimators=5000, model__reg_alpha=0.1, model__reg_lambda=0.5, model__subsample=0.9; total time=  28.8s\n"
     ]
    },
    {
     "name": "stderr",
     "output_type": "stream",
     "text": [
      "/home/wsl2ubuntuuser/.virtualenvs/nomination_predictor/lib/python3.12/site-packages/sklearn/preprocessing/_encoders.py:246: UserWarning: Found unknown categories in columns [1, 4, 9, 10, 11, 12, 14, 17, 19, 21] during transform. These unknown categories will be encoded as all zeros\n",
      "  warnings.warn(\n"
     ]
    },
    {
     "name": "stdout",
     "output_type": "stream",
     "text": [
      "[CV] END model__colsample_bytree=0.8, model__gamma=0.2, model__learning_rate=0.2, model__max_depth=9, model__min_child_weight=7, model__n_estimators=5000, model__reg_alpha=0.1, model__reg_lambda=0.5, model__subsample=0.9; total time=  24.6s\n"
     ]
    },
    {
     "name": "stderr",
     "output_type": "stream",
     "text": [
      "/home/wsl2ubuntuuser/.virtualenvs/nomination_predictor/lib/python3.12/site-packages/sklearn/preprocessing/_encoders.py:246: UserWarning: Found unknown categories in columns [1, 4, 9, 11, 12, 13, 17, 19, 21] during transform. These unknown categories will be encoded as all zeros\n",
      "  warnings.warn(\n"
     ]
    },
    {
     "name": "stdout",
     "output_type": "stream",
     "text": [
      "[CV] END model__colsample_bytree=1.0, model__gamma=0.1, model__learning_rate=0.2, model__max_depth=5, model__min_child_weight=7, model__n_estimators=2000, model__reg_alpha=0.5, model__reg_lambda=2.0, model__subsample=0.8; total time=   9.7s\n"
     ]
    },
    {
     "name": "stderr",
     "output_type": "stream",
     "text": [
      "/home/wsl2ubuntuuser/.virtualenvs/nomination_predictor/lib/python3.12/site-packages/sklearn/preprocessing/_encoders.py:246: UserWarning: Found unknown categories in columns [0, 4, 9, 12, 17, 19, 21] during transform. These unknown categories will be encoded as all zeros\n",
      "  warnings.warn(\n"
     ]
    },
    {
     "name": "stdout",
     "output_type": "stream",
     "text": [
      "[CV] END model__colsample_bytree=1.0, model__gamma=0.1, model__learning_rate=0.2, model__max_depth=5, model__min_child_weight=7, model__n_estimators=2000, model__reg_alpha=0.5, model__reg_lambda=2.0, model__subsample=0.8; total time=   9.4s\n"
     ]
    },
    {
     "name": "stderr",
     "output_type": "stream",
     "text": [
      "/home/wsl2ubuntuuser/.virtualenvs/nomination_predictor/lib/python3.12/site-packages/sklearn/preprocessing/_encoders.py:246: UserWarning: Found unknown categories in columns [1, 4, 9, 10, 11, 12, 14, 17, 19, 21] during transform. These unknown categories will be encoded as all zeros\n",
      "  warnings.warn(\n"
     ]
    },
    {
     "name": "stdout",
     "output_type": "stream",
     "text": [
      "[CV] END model__colsample_bytree=1.0, model__gamma=0.1, model__learning_rate=0.2, model__max_depth=5, model__min_child_weight=7, model__n_estimators=2000, model__reg_alpha=0.5, model__reg_lambda=2.0, model__subsample=0.8; total time=  10.0s\n"
     ]
    },
    {
     "name": "stderr",
     "output_type": "stream",
     "text": [
      "/home/wsl2ubuntuuser/.virtualenvs/nomination_predictor/lib/python3.12/site-packages/sklearn/preprocessing/_encoders.py:246: UserWarning: Found unknown categories in columns [1, 4, 9, 11, 12, 13, 17, 19, 21] during transform. These unknown categories will be encoded as all zeros\n",
      "  warnings.warn(\n"
     ]
    },
    {
     "name": "stdout",
     "output_type": "stream",
     "text": [
      "[CV] END model__colsample_bytree=0.6, model__gamma=0.1, model__learning_rate=0.15, model__max_depth=3, model__min_child_weight=5, model__n_estimators=1000, model__reg_alpha=1.0, model__reg_lambda=0.5, model__subsample=0.7; total time=   4.9s\n"
     ]
    },
    {
     "name": "stderr",
     "output_type": "stream",
     "text": [
      "/home/wsl2ubuntuuser/.virtualenvs/nomination_predictor/lib/python3.12/site-packages/sklearn/preprocessing/_encoders.py:246: UserWarning: Found unknown categories in columns [0, 4, 9, 12, 17, 19, 21] during transform. These unknown categories will be encoded as all zeros\n",
      "  warnings.warn(\n"
     ]
    },
    {
     "name": "stdout",
     "output_type": "stream",
     "text": [
      "[CV] END model__colsample_bytree=0.6, model__gamma=0.1, model__learning_rate=0.15, model__max_depth=3, model__min_child_weight=5, model__n_estimators=1000, model__reg_alpha=1.0, model__reg_lambda=0.5, model__subsample=0.7; total time=   5.4s\n"
     ]
    },
    {
     "name": "stderr",
     "output_type": "stream",
     "text": [
      "/home/wsl2ubuntuuser/.virtualenvs/nomination_predictor/lib/python3.12/site-packages/sklearn/preprocessing/_encoders.py:246: UserWarning: Found unknown categories in columns [1, 4, 9, 10, 11, 12, 14, 17, 19, 21] during transform. These unknown categories will be encoded as all zeros\n",
      "  warnings.warn(\n"
     ]
    },
    {
     "name": "stdout",
     "output_type": "stream",
     "text": [
      "[CV] END model__colsample_bytree=0.6, model__gamma=0.1, model__learning_rate=0.15, model__max_depth=3, model__min_child_weight=5, model__n_estimators=1000, model__reg_alpha=1.0, model__reg_lambda=0.5, model__subsample=0.7; total time=   4.8s\n"
     ]
    },
    {
     "name": "stderr",
     "output_type": "stream",
     "text": [
      "/home/wsl2ubuntuuser/.virtualenvs/nomination_predictor/lib/python3.12/site-packages/sklearn/preprocessing/_encoders.py:246: UserWarning: Found unknown categories in columns [1, 4, 9, 11, 12, 13, 17, 19, 21] during transform. These unknown categories will be encoded as all zeros\n",
      "  warnings.warn(\n"
     ]
    },
    {
     "name": "stdout",
     "output_type": "stream",
     "text": [
      "[CV] END model__colsample_bytree=0.9, model__gamma=0.5, model__learning_rate=0.3, model__max_depth=6, model__min_child_weight=10, model__n_estimators=2000, model__reg_alpha=1.0, model__reg_lambda=0, model__subsample=0.8; total time=   8.9s\n"
     ]
    },
    {
     "name": "stderr",
     "output_type": "stream",
     "text": [
      "/home/wsl2ubuntuuser/.virtualenvs/nomination_predictor/lib/python3.12/site-packages/sklearn/preprocessing/_encoders.py:246: UserWarning: Found unknown categories in columns [0, 4, 9, 12, 17, 19, 21] during transform. These unknown categories will be encoded as all zeros\n",
      "  warnings.warn(\n"
     ]
    },
    {
     "name": "stdout",
     "output_type": "stream",
     "text": [
      "[CV] END model__colsample_bytree=0.9, model__gamma=0.5, model__learning_rate=0.3, model__max_depth=6, model__min_child_weight=10, model__n_estimators=2000, model__reg_alpha=1.0, model__reg_lambda=0, model__subsample=0.8; total time=   8.6s\n"
     ]
    },
    {
     "name": "stderr",
     "output_type": "stream",
     "text": [
      "/home/wsl2ubuntuuser/.virtualenvs/nomination_predictor/lib/python3.12/site-packages/sklearn/preprocessing/_encoders.py:246: UserWarning: Found unknown categories in columns [1, 4, 9, 10, 11, 12, 14, 17, 19, 21] during transform. These unknown categories will be encoded as all zeros\n",
      "  warnings.warn(\n"
     ]
    },
    {
     "name": "stdout",
     "output_type": "stream",
     "text": [
      "[CV] END model__colsample_bytree=0.9, model__gamma=0.5, model__learning_rate=0.3, model__max_depth=6, model__min_child_weight=10, model__n_estimators=2000, model__reg_alpha=1.0, model__reg_lambda=0, model__subsample=0.8; total time=   8.1s\n"
     ]
    },
    {
     "name": "stderr",
     "output_type": "stream",
     "text": [
      "/home/wsl2ubuntuuser/.virtualenvs/nomination_predictor/lib/python3.12/site-packages/sklearn/preprocessing/_encoders.py:246: UserWarning: Found unknown categories in columns [1, 4, 9, 11, 12, 13, 17, 19, 21] during transform. These unknown categories will be encoded as all zeros\n",
      "  warnings.warn(\n"
     ]
    },
    {
     "name": "stdout",
     "output_type": "stream",
     "text": [
      "[CV] END model__colsample_bytree=0.8, model__gamma=0.1, model__learning_rate=0.15, model__max_depth=9, model__min_child_weight=10, model__n_estimators=100, model__reg_alpha=0, model__reg_lambda=0.1, model__subsample=0.6; total time=   0.9s\n"
     ]
    },
    {
     "name": "stderr",
     "output_type": "stream",
     "text": [
      "/home/wsl2ubuntuuser/.virtualenvs/nomination_predictor/lib/python3.12/site-packages/sklearn/preprocessing/_encoders.py:246: UserWarning: Found unknown categories in columns [0, 4, 9, 12, 17, 19, 21] during transform. These unknown categories will be encoded as all zeros\n",
      "  warnings.warn(\n"
     ]
    },
    {
     "name": "stdout",
     "output_type": "stream",
     "text": [
      "[CV] END model__colsample_bytree=0.8, model__gamma=0.1, model__learning_rate=0.15, model__max_depth=9, model__min_child_weight=10, model__n_estimators=100, model__reg_alpha=0, model__reg_lambda=0.1, model__subsample=0.6; total time=   1.0s\n"
     ]
    },
    {
     "name": "stderr",
     "output_type": "stream",
     "text": [
      "/home/wsl2ubuntuuser/.virtualenvs/nomination_predictor/lib/python3.12/site-packages/sklearn/preprocessing/_encoders.py:246: UserWarning: Found unknown categories in columns [1, 4, 9, 10, 11, 12, 14, 17, 19, 21] during transform. These unknown categories will be encoded as all zeros\n",
      "  warnings.warn(\n"
     ]
    },
    {
     "name": "stdout",
     "output_type": "stream",
     "text": [
      "[CV] END model__colsample_bytree=0.8, model__gamma=0.1, model__learning_rate=0.15, model__max_depth=9, model__min_child_weight=10, model__n_estimators=100, model__reg_alpha=0, model__reg_lambda=0.1, model__subsample=0.6; total time=   1.2s\n"
     ]
    },
    {
     "name": "stderr",
     "output_type": "stream",
     "text": [
      "/home/wsl2ubuntuuser/.virtualenvs/nomination_predictor/lib/python3.12/site-packages/sklearn/preprocessing/_encoders.py:246: UserWarning: Found unknown categories in columns [1, 4, 9, 11, 12, 13, 17, 19, 21] during transform. These unknown categories will be encoded as all zeros\n",
      "  warnings.warn(\n"
     ]
    },
    {
     "name": "stdout",
     "output_type": "stream",
     "text": [
      "[CV] END model__colsample_bytree=0.8, model__gamma=0.2, model__learning_rate=0.2, model__max_depth=8, model__min_child_weight=1, model__n_estimators=5000, model__reg_alpha=0.5, model__reg_lambda=0.5, model__subsample=0.6; total time=  17.1s\n"
     ]
    },
    {
     "name": "stderr",
     "output_type": "stream",
     "text": [
      "/home/wsl2ubuntuuser/.virtualenvs/nomination_predictor/lib/python3.12/site-packages/sklearn/preprocessing/_encoders.py:246: UserWarning: Found unknown categories in columns [0, 4, 9, 12, 17, 19, 21] during transform. These unknown categories will be encoded as all zeros\n",
      "  warnings.warn(\n"
     ]
    },
    {
     "name": "stdout",
     "output_type": "stream",
     "text": [
      "[CV] END model__colsample_bytree=0.8, model__gamma=0.2, model__learning_rate=0.2, model__max_depth=8, model__min_child_weight=1, model__n_estimators=5000, model__reg_alpha=0.5, model__reg_lambda=0.5, model__subsample=0.6; total time=  17.8s\n"
     ]
    },
    {
     "name": "stderr",
     "output_type": "stream",
     "text": [
      "/home/wsl2ubuntuuser/.virtualenvs/nomination_predictor/lib/python3.12/site-packages/sklearn/preprocessing/_encoders.py:246: UserWarning: Found unknown categories in columns [1, 4, 9, 10, 11, 12, 14, 17, 19, 21] during transform. These unknown categories will be encoded as all zeros\n",
      "  warnings.warn(\n"
     ]
    },
    {
     "name": "stdout",
     "output_type": "stream",
     "text": [
      "[CV] END model__colsample_bytree=0.8, model__gamma=0.2, model__learning_rate=0.2, model__max_depth=8, model__min_child_weight=1, model__n_estimators=5000, model__reg_alpha=0.5, model__reg_lambda=0.5, model__subsample=0.6; total time=  19.7s\n"
     ]
    },
    {
     "name": "stderr",
     "output_type": "stream",
     "text": [
      "/home/wsl2ubuntuuser/.virtualenvs/nomination_predictor/lib/python3.12/site-packages/sklearn/preprocessing/_encoders.py:246: UserWarning: Found unknown categories in columns [1, 4, 9, 11, 12, 13, 17, 19, 21] during transform. These unknown categories will be encoded as all zeros\n",
      "  warnings.warn(\n"
     ]
    },
    {
     "name": "stdout",
     "output_type": "stream",
     "text": [
      "[CV] END model__colsample_bytree=0.6, model__gamma=0.1, model__learning_rate=0.01, model__max_depth=7, model__min_child_weight=5, model__n_estimators=1000, model__reg_alpha=0, model__reg_lambda=1.0, model__subsample=1.0; total time=   8.4s\n"
     ]
    },
    {
     "name": "stderr",
     "output_type": "stream",
     "text": [
      "/home/wsl2ubuntuuser/.virtualenvs/nomination_predictor/lib/python3.12/site-packages/sklearn/preprocessing/_encoders.py:246: UserWarning: Found unknown categories in columns [0, 4, 9, 12, 17, 19, 21] during transform. These unknown categories will be encoded as all zeros\n",
      "  warnings.warn(\n"
     ]
    },
    {
     "name": "stdout",
     "output_type": "stream",
     "text": [
      "[CV] END model__colsample_bytree=0.6, model__gamma=0.1, model__learning_rate=0.01, model__max_depth=7, model__min_child_weight=5, model__n_estimators=1000, model__reg_alpha=0, model__reg_lambda=1.0, model__subsample=1.0; total time=   7.8s\n"
     ]
    },
    {
     "name": "stderr",
     "output_type": "stream",
     "text": [
      "/home/wsl2ubuntuuser/.virtualenvs/nomination_predictor/lib/python3.12/site-packages/sklearn/preprocessing/_encoders.py:246: UserWarning: Found unknown categories in columns [1, 4, 9, 10, 11, 12, 14, 17, 19, 21] during transform. These unknown categories will be encoded as all zeros\n",
      "  warnings.warn(\n"
     ]
    },
    {
     "name": "stdout",
     "output_type": "stream",
     "text": [
      "[CV] END model__colsample_bytree=0.6, model__gamma=0.1, model__learning_rate=0.01, model__max_depth=7, model__min_child_weight=5, model__n_estimators=1000, model__reg_alpha=0, model__reg_lambda=1.0, model__subsample=1.0; total time=   7.4s\n"
     ]
    },
    {
     "name": "stderr",
     "output_type": "stream",
     "text": [
      "/home/wsl2ubuntuuser/.virtualenvs/nomination_predictor/lib/python3.12/site-packages/sklearn/preprocessing/_encoders.py:246: UserWarning: Found unknown categories in columns [1, 4, 9, 11, 12, 13, 17, 19, 21] during transform. These unknown categories will be encoded as all zeros\n",
      "  warnings.warn(\n"
     ]
    },
    {
     "name": "stdout",
     "output_type": "stream",
     "text": [
      "[CV] END model__colsample_bytree=0.8, model__gamma=0.5, model__learning_rate=0.2, model__max_depth=7, model__min_child_weight=10, model__n_estimators=3000, model__reg_alpha=0, model__reg_lambda=0.1, model__subsample=0.6; total time=  14.1s\n"
     ]
    },
    {
     "name": "stderr",
     "output_type": "stream",
     "text": [
      "/home/wsl2ubuntuuser/.virtualenvs/nomination_predictor/lib/python3.12/site-packages/sklearn/preprocessing/_encoders.py:246: UserWarning: Found unknown categories in columns [0, 4, 9, 12, 17, 19, 21] during transform. These unknown categories will be encoded as all zeros\n",
      "  warnings.warn(\n"
     ]
    },
    {
     "name": "stdout",
     "output_type": "stream",
     "text": [
      "[CV] END model__colsample_bytree=0.8, model__gamma=0.5, model__learning_rate=0.2, model__max_depth=7, model__min_child_weight=10, model__n_estimators=3000, model__reg_alpha=0, model__reg_lambda=0.1, model__subsample=0.6; total time=  14.1s\n"
     ]
    },
    {
     "name": "stderr",
     "output_type": "stream",
     "text": [
      "/home/wsl2ubuntuuser/.virtualenvs/nomination_predictor/lib/python3.12/site-packages/sklearn/preprocessing/_encoders.py:246: UserWarning: Found unknown categories in columns [1, 4, 9, 10, 11, 12, 14, 17, 19, 21] during transform. These unknown categories will be encoded as all zeros\n",
      "  warnings.warn(\n"
     ]
    },
    {
     "name": "stdout",
     "output_type": "stream",
     "text": [
      "[CV] END model__colsample_bytree=0.8, model__gamma=0.5, model__learning_rate=0.2, model__max_depth=7, model__min_child_weight=10, model__n_estimators=3000, model__reg_alpha=0, model__reg_lambda=0.1, model__subsample=0.6; total time=  13.7s\n"
     ]
    },
    {
     "name": "stderr",
     "output_type": "stream",
     "text": [
      "/home/wsl2ubuntuuser/.virtualenvs/nomination_predictor/lib/python3.12/site-packages/sklearn/preprocessing/_encoders.py:246: UserWarning: Found unknown categories in columns [1, 4, 9, 11, 12, 13, 17, 19, 21] during transform. These unknown categories will be encoded as all zeros\n",
      "  warnings.warn(\n"
     ]
    },
    {
     "name": "stdout",
     "output_type": "stream",
     "text": [
      "[CV] END model__colsample_bytree=0.7, model__gamma=0.2, model__learning_rate=0.01, model__max_depth=6, model__min_child_weight=1, model__n_estimators=2000, model__reg_alpha=2.0, model__reg_lambda=1.0, model__subsample=0.7; total time=  13.3s\n"
     ]
    },
    {
     "name": "stderr",
     "output_type": "stream",
     "text": [
      "/home/wsl2ubuntuuser/.virtualenvs/nomination_predictor/lib/python3.12/site-packages/sklearn/preprocessing/_encoders.py:246: UserWarning: Found unknown categories in columns [0, 4, 9, 12, 17, 19, 21] during transform. These unknown categories will be encoded as all zeros\n",
      "  warnings.warn(\n"
     ]
    },
    {
     "name": "stdout",
     "output_type": "stream",
     "text": [
      "[CV] END model__colsample_bytree=0.7, model__gamma=0.2, model__learning_rate=0.01, model__max_depth=6, model__min_child_weight=1, model__n_estimators=2000, model__reg_alpha=2.0, model__reg_lambda=1.0, model__subsample=0.7; total time=  14.8s\n"
     ]
    },
    {
     "name": "stderr",
     "output_type": "stream",
     "text": [
      "/home/wsl2ubuntuuser/.virtualenvs/nomination_predictor/lib/python3.12/site-packages/sklearn/preprocessing/_encoders.py:246: UserWarning: Found unknown categories in columns [1, 4, 9, 10, 11, 12, 14, 17, 19, 21] during transform. These unknown categories will be encoded as all zeros\n",
      "  warnings.warn(\n"
     ]
    },
    {
     "name": "stdout",
     "output_type": "stream",
     "text": [
      "[CV] END model__colsample_bytree=0.7, model__gamma=0.2, model__learning_rate=0.01, model__max_depth=6, model__min_child_weight=1, model__n_estimators=2000, model__reg_alpha=2.0, model__reg_lambda=1.0, model__subsample=0.7; total time=  14.9s\n"
     ]
    },
    {
     "name": "stderr",
     "output_type": "stream",
     "text": [
      "/home/wsl2ubuntuuser/.virtualenvs/nomination_predictor/lib/python3.12/site-packages/sklearn/preprocessing/_encoders.py:246: UserWarning: Found unknown categories in columns [1, 4, 9, 11, 12, 13, 17, 19, 21] during transform. These unknown categories will be encoded as all zeros\n",
      "  warnings.warn(\n"
     ]
    },
    {
     "name": "stdout",
     "output_type": "stream",
     "text": [
      "[CV] END model__colsample_bytree=1.0, model__gamma=0, model__learning_rate=0.3, model__max_depth=8, model__min_child_weight=1, model__n_estimators=3000, model__reg_alpha=0.5, model__reg_lambda=1.0, model__subsample=0.6; total time=  14.1s\n"
     ]
    },
    {
     "name": "stderr",
     "output_type": "stream",
     "text": [
      "/home/wsl2ubuntuuser/.virtualenvs/nomination_predictor/lib/python3.12/site-packages/sklearn/preprocessing/_encoders.py:246: UserWarning: Found unknown categories in columns [0, 4, 9, 12, 17, 19, 21] during transform. These unknown categories will be encoded as all zeros\n",
      "  warnings.warn(\n"
     ]
    },
    {
     "name": "stdout",
     "output_type": "stream",
     "text": [
      "[CV] END model__colsample_bytree=1.0, model__gamma=0, model__learning_rate=0.3, model__max_depth=8, model__min_child_weight=1, model__n_estimators=3000, model__reg_alpha=0.5, model__reg_lambda=1.0, model__subsample=0.6; total time=  14.5s\n"
     ]
    },
    {
     "name": "stderr",
     "output_type": "stream",
     "text": [
      "/home/wsl2ubuntuuser/.virtualenvs/nomination_predictor/lib/python3.12/site-packages/sklearn/preprocessing/_encoders.py:246: UserWarning: Found unknown categories in columns [1, 4, 9, 10, 11, 12, 14, 17, 19, 21] during transform. These unknown categories will be encoded as all zeros\n",
      "  warnings.warn(\n"
     ]
    },
    {
     "name": "stdout",
     "output_type": "stream",
     "text": [
      "[CV] END model__colsample_bytree=1.0, model__gamma=0, model__learning_rate=0.3, model__max_depth=8, model__min_child_weight=1, model__n_estimators=3000, model__reg_alpha=0.5, model__reg_lambda=1.0, model__subsample=0.6; total time=  14.2s\n"
     ]
    },
    {
     "name": "stderr",
     "output_type": "stream",
     "text": [
      "/home/wsl2ubuntuuser/.virtualenvs/nomination_predictor/lib/python3.12/site-packages/sklearn/preprocessing/_encoders.py:246: UserWarning: Found unknown categories in columns [1, 4, 9, 11, 12, 13, 17, 19, 21] during transform. These unknown categories will be encoded as all zeros\n",
      "  warnings.warn(\n"
     ]
    },
    {
     "name": "stdout",
     "output_type": "stream",
     "text": [
      "[CV] END model__colsample_bytree=0.7, model__gamma=0, model__learning_rate=0.2, model__max_depth=10, model__min_child_weight=1, model__n_estimators=3000, model__reg_alpha=0.1, model__reg_lambda=2.0, model__subsample=0.8; total time=  16.9s\n"
     ]
    },
    {
     "name": "stderr",
     "output_type": "stream",
     "text": [
      "/home/wsl2ubuntuuser/.virtualenvs/nomination_predictor/lib/python3.12/site-packages/sklearn/preprocessing/_encoders.py:246: UserWarning: Found unknown categories in columns [0, 4, 9, 12, 17, 19, 21] during transform. These unknown categories will be encoded as all zeros\n",
      "  warnings.warn(\n"
     ]
    },
    {
     "name": "stdout",
     "output_type": "stream",
     "text": [
      "[CV] END model__colsample_bytree=0.7, model__gamma=0, model__learning_rate=0.2, model__max_depth=10, model__min_child_weight=1, model__n_estimators=3000, model__reg_alpha=0.1, model__reg_lambda=2.0, model__subsample=0.8; total time=  18.3s\n"
     ]
    },
    {
     "name": "stderr",
     "output_type": "stream",
     "text": [
      "/home/wsl2ubuntuuser/.virtualenvs/nomination_predictor/lib/python3.12/site-packages/sklearn/preprocessing/_encoders.py:246: UserWarning: Found unknown categories in columns [1, 4, 9, 10, 11, 12, 14, 17, 19, 21] during transform. These unknown categories will be encoded as all zeros\n",
      "  warnings.warn(\n"
     ]
    },
    {
     "name": "stdout",
     "output_type": "stream",
     "text": [
      "[CV] END model__colsample_bytree=0.7, model__gamma=0, model__learning_rate=0.2, model__max_depth=10, model__min_child_weight=1, model__n_estimators=3000, model__reg_alpha=0.1, model__reg_lambda=2.0, model__subsample=0.8; total time=  18.0s\n",
      "✅ Stage 1 complete!\n",
      "📈 Best coarse score: 44.08 MAE\n",
      "🎯 Best parameters from coarse search:\n",
      "  model__subsample: 1.0\n",
      "  model__reg_lambda: 0.5\n",
      "  model__reg_alpha: 0.5\n",
      "  model__n_estimators: 500\n",
      "  model__min_child_weight: 10\n",
      "  model__max_depth: 9\n",
      "  model__learning_rate: 0.01\n",
      "  model__gamma: 0.3\n",
      "  model__colsample_bytree: 0.7\n"
     ]
    }
   ],
   "source": [
    "print(f\"⏱️  Starting coarse search with {coarse_search.n_iter} iterations...\")\n",
    "coarse_search.fit(X_train, y_train)\n",
    "\n",
    "print(f\"✅ Stage 1 complete!\")\n",
    "print(f\"📈 Best coarse score: {-coarse_search.best_score_:.2f} MAE\")\n",
    "print(f\"🎯 Best parameters from coarse search:\")\n",
    "for param, value in coarse_search.best_params_.items():\n",
    "    print(f\"  {param}: {value}\")"
   ]
  },
  {
   "cell_type": "code",
   "execution_count": null,
   "id": "650a9748",
   "metadata": {},
   "outputs": [
    {
     "name": "stdout",
     "output_type": "stream",
     "text": [
      "Fitting 3 folds for each of 60 candidates, totalling 180 fits\n"
     ]
    },
    {
     "name": "stderr",
     "output_type": "stream",
     "text": [
      "/home/wsl2ubuntuuser/.virtualenvs/nomination_predictor/lib/python3.12/site-packages/sklearn/preprocessing/_encoders.py:246: UserWarning: Found unknown categories in columns [1, 4, 9, 11, 12, 13, 17, 19, 21] during transform. These unknown categories will be encoded as all zeros\n",
      "  warnings.warn(\n"
     ]
    },
    {
     "name": "stdout",
     "output_type": "stream",
     "text": [
      "[CV] END model__colsample_bytree=0.7, model__gamma=0.5, model__learning_rate=0.1, model__max_depth=6, model__min_child_weight=3, model__n_estimators=5000, model__reg_alpha=2.0, model__reg_lambda=1.0, model__subsample=0.9; total time=  20.8s\n"
     ]
    },
    {
     "name": "stderr",
     "output_type": "stream",
     "text": [
      "/home/wsl2ubuntuuser/.virtualenvs/nomination_predictor/lib/python3.12/site-packages/sklearn/preprocessing/_encoders.py:246: UserWarning: Found unknown categories in columns [0, 4, 9, 12, 17, 19, 21] during transform. These unknown categories will be encoded as all zeros\n",
      "  warnings.warn(\n"
     ]
    },
    {
     "name": "stdout",
     "output_type": "stream",
     "text": [
      "[CV] END model__colsample_bytree=0.7, model__gamma=0.5, model__learning_rate=0.1, model__max_depth=6, model__min_child_weight=3, model__n_estimators=5000, model__reg_alpha=2.0, model__reg_lambda=1.0, model__subsample=0.9; total time=  20.2s\n"
     ]
    },
    {
     "name": "stderr",
     "output_type": "stream",
     "text": [
      "/home/wsl2ubuntuuser/.virtualenvs/nomination_predictor/lib/python3.12/site-packages/sklearn/preprocessing/_encoders.py:246: UserWarning: Found unknown categories in columns [1, 4, 9, 10, 11, 12, 14, 17, 19, 21] during transform. These unknown categories will be encoded as all zeros\n",
      "  warnings.warn(\n"
     ]
    },
    {
     "name": "stdout",
     "output_type": "stream",
     "text": [
      "[CV] END model__colsample_bytree=0.7, model__gamma=0.5, model__learning_rate=0.1, model__max_depth=6, model__min_child_weight=3, model__n_estimators=5000, model__reg_alpha=2.0, model__reg_lambda=1.0, model__subsample=0.9; total time=  20.9s\n"
     ]
    },
    {
     "name": "stderr",
     "output_type": "stream",
     "text": [
      "/home/wsl2ubuntuuser/.virtualenvs/nomination_predictor/lib/python3.12/site-packages/sklearn/preprocessing/_encoders.py:246: UserWarning: Found unknown categories in columns [1, 4, 9, 11, 12, 13, 17, 19, 21] during transform. These unknown categories will be encoded as all zeros\n",
      "  warnings.warn(\n"
     ]
    },
    {
     "name": "stdout",
     "output_type": "stream",
     "text": [
      "[CV] END model__colsample_bytree=1.0, model__gamma=0.3, model__learning_rate=0.3, model__max_depth=6, model__min_child_weight=10, model__n_estimators=1000, model__reg_alpha=0.5, model__reg_lambda=2.0, model__subsample=0.8; total time=   5.0s\n"
     ]
    },
    {
     "name": "stderr",
     "output_type": "stream",
     "text": [
      "/home/wsl2ubuntuuser/.virtualenvs/nomination_predictor/lib/python3.12/site-packages/sklearn/preprocessing/_encoders.py:246: UserWarning: Found unknown categories in columns [0, 4, 9, 12, 17, 19, 21] during transform. These unknown categories will be encoded as all zeros\n",
      "  warnings.warn(\n"
     ]
    },
    {
     "name": "stdout",
     "output_type": "stream",
     "text": [
      "[CV] END model__colsample_bytree=1.0, model__gamma=0.3, model__learning_rate=0.3, model__max_depth=6, model__min_child_weight=10, model__n_estimators=1000, model__reg_alpha=0.5, model__reg_lambda=2.0, model__subsample=0.8; total time=   5.1s\n"
     ]
    },
    {
     "name": "stderr",
     "output_type": "stream",
     "text": [
      "/home/wsl2ubuntuuser/.virtualenvs/nomination_predictor/lib/python3.12/site-packages/sklearn/preprocessing/_encoders.py:246: UserWarning: Found unknown categories in columns [1, 4, 9, 10, 11, 12, 14, 17, 19, 21] during transform. These unknown categories will be encoded as all zeros\n",
      "  warnings.warn(\n"
     ]
    },
    {
     "name": "stdout",
     "output_type": "stream",
     "text": [
      "[CV] END model__colsample_bytree=1.0, model__gamma=0.3, model__learning_rate=0.3, model__max_depth=6, model__min_child_weight=10, model__n_estimators=1000, model__reg_alpha=0.5, model__reg_lambda=2.0, model__subsample=0.8; total time=   4.5s\n"
     ]
    },
    {
     "name": "stderr",
     "output_type": "stream",
     "text": [
      "/home/wsl2ubuntuuser/.virtualenvs/nomination_predictor/lib/python3.12/site-packages/sklearn/preprocessing/_encoders.py:246: UserWarning: Found unknown categories in columns [1, 4, 9, 11, 12, 13, 17, 19, 21] during transform. These unknown categories will be encoded as all zeros\n",
      "  warnings.warn(\n"
     ]
    },
    {
     "name": "stdout",
     "output_type": "stream",
     "text": [
      "[CV] END model__colsample_bytree=0.8, model__gamma=0.2, model__learning_rate=0.1, model__max_depth=6, model__min_child_weight=10, model__n_estimators=500, model__reg_alpha=2.0, model__reg_lambda=0.5, model__subsample=1.0; total time=   3.8s\n"
     ]
    },
    {
     "name": "stderr",
     "output_type": "stream",
     "text": [
      "/home/wsl2ubuntuuser/.virtualenvs/nomination_predictor/lib/python3.12/site-packages/sklearn/preprocessing/_encoders.py:246: UserWarning: Found unknown categories in columns [0, 4, 9, 12, 17, 19, 21] during transform. These unknown categories will be encoded as all zeros\n",
      "  warnings.warn(\n"
     ]
    },
    {
     "name": "stdout",
     "output_type": "stream",
     "text": [
      "[CV] END model__colsample_bytree=0.8, model__gamma=0.2, model__learning_rate=0.1, model__max_depth=6, model__min_child_weight=10, model__n_estimators=500, model__reg_alpha=2.0, model__reg_lambda=0.5, model__subsample=1.0; total time=   3.9s\n"
     ]
    },
    {
     "name": "stderr",
     "output_type": "stream",
     "text": [
      "/home/wsl2ubuntuuser/.virtualenvs/nomination_predictor/lib/python3.12/site-packages/sklearn/preprocessing/_encoders.py:246: UserWarning: Found unknown categories in columns [1, 4, 9, 10, 11, 12, 14, 17, 19, 21] during transform. These unknown categories will be encoded as all zeros\n",
      "  warnings.warn(\n"
     ]
    },
    {
     "name": "stdout",
     "output_type": "stream",
     "text": [
      "[CV] END model__colsample_bytree=0.8, model__gamma=0.2, model__learning_rate=0.1, model__max_depth=6, model__min_child_weight=10, model__n_estimators=500, model__reg_alpha=2.0, model__reg_lambda=0.5, model__subsample=1.0; total time=   4.5s\n"
     ]
    },
    {
     "name": "stderr",
     "output_type": "stream",
     "text": [
      "/home/wsl2ubuntuuser/.virtualenvs/nomination_predictor/lib/python3.12/site-packages/sklearn/preprocessing/_encoders.py:246: UserWarning: Found unknown categories in columns [1, 4, 9, 11, 12, 13, 17, 19, 21] during transform. These unknown categories will be encoded as all zeros\n",
      "  warnings.warn(\n"
     ]
    },
    {
     "name": "stdout",
     "output_type": "stream",
     "text": [
      "[CV] END model__colsample_bytree=0.7, model__gamma=0.3, model__learning_rate=0.2, model__max_depth=5, model__min_child_weight=7, model__n_estimators=1000, model__reg_alpha=0, model__reg_lambda=0.1, model__subsample=0.7; total time=   8.5s\n"
     ]
    },
    {
     "name": "stderr",
     "output_type": "stream",
     "text": [
      "/home/wsl2ubuntuuser/.virtualenvs/nomination_predictor/lib/python3.12/site-packages/sklearn/preprocessing/_encoders.py:246: UserWarning: Found unknown categories in columns [0, 4, 9, 12, 17, 19, 21] during transform. These unknown categories will be encoded as all zeros\n",
      "  warnings.warn(\n"
     ]
    },
    {
     "name": "stdout",
     "output_type": "stream",
     "text": [
      "[CV] END model__colsample_bytree=0.7, model__gamma=0.3, model__learning_rate=0.2, model__max_depth=5, model__min_child_weight=7, model__n_estimators=1000, model__reg_alpha=0, model__reg_lambda=0.1, model__subsample=0.7; total time=   6.6s\n"
     ]
    },
    {
     "name": "stderr",
     "output_type": "stream",
     "text": [
      "/home/wsl2ubuntuuser/.virtualenvs/nomination_predictor/lib/python3.12/site-packages/sklearn/preprocessing/_encoders.py:246: UserWarning: Found unknown categories in columns [1, 4, 9, 10, 11, 12, 14, 17, 19, 21] during transform. These unknown categories will be encoded as all zeros\n",
      "  warnings.warn(\n"
     ]
    },
    {
     "name": "stdout",
     "output_type": "stream",
     "text": [
      "[CV] END model__colsample_bytree=0.7, model__gamma=0.3, model__learning_rate=0.2, model__max_depth=5, model__min_child_weight=7, model__n_estimators=1000, model__reg_alpha=0, model__reg_lambda=0.1, model__subsample=0.7; total time=   7.4s\n"
     ]
    },
    {
     "name": "stderr",
     "output_type": "stream",
     "text": [
      "/home/wsl2ubuntuuser/.virtualenvs/nomination_predictor/lib/python3.12/site-packages/sklearn/preprocessing/_encoders.py:246: UserWarning: Found unknown categories in columns [1, 4, 9, 11, 12, 13, 17, 19, 21] during transform. These unknown categories will be encoded as all zeros\n",
      "  warnings.warn(\n"
     ]
    },
    {
     "name": "stdout",
     "output_type": "stream",
     "text": [
      "[CV] END model__colsample_bytree=0.7, model__gamma=0.1, model__learning_rate=0.05, model__max_depth=9, model__min_child_weight=10, model__n_estimators=3000, model__reg_alpha=0.5, model__reg_lambda=2.0, model__subsample=1.0; total time=  23.2s\n"
     ]
    },
    {
     "name": "stderr",
     "output_type": "stream",
     "text": [
      "/home/wsl2ubuntuuser/.virtualenvs/nomination_predictor/lib/python3.12/site-packages/sklearn/preprocessing/_encoders.py:246: UserWarning: Found unknown categories in columns [0, 4, 9, 12, 17, 19, 21] during transform. These unknown categories will be encoded as all zeros\n",
      "  warnings.warn(\n"
     ]
    },
    {
     "name": "stdout",
     "output_type": "stream",
     "text": [
      "[CV] END model__colsample_bytree=0.7, model__gamma=0.1, model__learning_rate=0.05, model__max_depth=9, model__min_child_weight=10, model__n_estimators=3000, model__reg_alpha=0.5, model__reg_lambda=2.0, model__subsample=1.0; total time=  21.5s\n"
     ]
    },
    {
     "name": "stderr",
     "output_type": "stream",
     "text": [
      "/home/wsl2ubuntuuser/.virtualenvs/nomination_predictor/lib/python3.12/site-packages/sklearn/preprocessing/_encoders.py:246: UserWarning: Found unknown categories in columns [1, 4, 9, 10, 11, 12, 14, 17, 19, 21] during transform. These unknown categories will be encoded as all zeros\n",
      "  warnings.warn(\n"
     ]
    },
    {
     "name": "stdout",
     "output_type": "stream",
     "text": [
      "[CV] END model__colsample_bytree=0.7, model__gamma=0.1, model__learning_rate=0.05, model__max_depth=9, model__min_child_weight=10, model__n_estimators=3000, model__reg_alpha=0.5, model__reg_lambda=2.0, model__subsample=1.0; total time=  21.3s\n"
     ]
    },
    {
     "name": "stderr",
     "output_type": "stream",
     "text": [
      "/home/wsl2ubuntuuser/.virtualenvs/nomination_predictor/lib/python3.12/site-packages/sklearn/preprocessing/_encoders.py:246: UserWarning: Found unknown categories in columns [1, 4, 9, 11, 12, 13, 17, 19, 21] during transform. These unknown categories will be encoded as all zeros\n",
      "  warnings.warn(\n"
     ]
    },
    {
     "name": "stdout",
     "output_type": "stream",
     "text": [
      "[CV] END model__colsample_bytree=1.0, model__gamma=0.2, model__learning_rate=0.1, model__max_depth=9, model__min_child_weight=7, model__n_estimators=500, model__reg_alpha=0, model__reg_lambda=0.5, model__subsample=0.8; total time=   4.5s\n"
     ]
    },
    {
     "name": "stderr",
     "output_type": "stream",
     "text": [
      "/home/wsl2ubuntuuser/.virtualenvs/nomination_predictor/lib/python3.12/site-packages/sklearn/preprocessing/_encoders.py:246: UserWarning: Found unknown categories in columns [0, 4, 9, 12, 17, 19, 21] during transform. These unknown categories will be encoded as all zeros\n",
      "  warnings.warn(\n"
     ]
    },
    {
     "name": "stdout",
     "output_type": "stream",
     "text": [
      "[CV] END model__colsample_bytree=1.0, model__gamma=0.2, model__learning_rate=0.1, model__max_depth=9, model__min_child_weight=7, model__n_estimators=500, model__reg_alpha=0, model__reg_lambda=0.5, model__subsample=0.8; total time=   4.5s\n"
     ]
    },
    {
     "name": "stderr",
     "output_type": "stream",
     "text": [
      "/home/wsl2ubuntuuser/.virtualenvs/nomination_predictor/lib/python3.12/site-packages/sklearn/preprocessing/_encoders.py:246: UserWarning: Found unknown categories in columns [1, 4, 9, 10, 11, 12, 14, 17, 19, 21] during transform. These unknown categories will be encoded as all zeros\n",
      "  warnings.warn(\n"
     ]
    },
    {
     "name": "stdout",
     "output_type": "stream",
     "text": [
      "[CV] END model__colsample_bytree=1.0, model__gamma=0.2, model__learning_rate=0.1, model__max_depth=9, model__min_child_weight=7, model__n_estimators=500, model__reg_alpha=0, model__reg_lambda=0.5, model__subsample=0.8; total time=   4.4s\n"
     ]
    },
    {
     "name": "stderr",
     "output_type": "stream",
     "text": [
      "/home/wsl2ubuntuuser/.virtualenvs/nomination_predictor/lib/python3.12/site-packages/sklearn/preprocessing/_encoders.py:246: UserWarning: Found unknown categories in columns [1, 4, 9, 11, 12, 13, 17, 19, 21] during transform. These unknown categories will be encoded as all zeros\n",
      "  warnings.warn(\n"
     ]
    },
    {
     "name": "stdout",
     "output_type": "stream",
     "text": [
      "[CV] END model__colsample_bytree=0.7, model__gamma=0.1, model__learning_rate=0.3, model__max_depth=5, model__min_child_weight=7, model__n_estimators=500, model__reg_alpha=0.1, model__reg_lambda=0.5, model__subsample=0.7; total time=   2.8s\n"
     ]
    },
    {
     "name": "stderr",
     "output_type": "stream",
     "text": [
      "/home/wsl2ubuntuuser/.virtualenvs/nomination_predictor/lib/python3.12/site-packages/sklearn/preprocessing/_encoders.py:246: UserWarning: Found unknown categories in columns [0, 4, 9, 12, 17, 19, 21] during transform. These unknown categories will be encoded as all zeros\n",
      "  warnings.warn(\n"
     ]
    },
    {
     "name": "stdout",
     "output_type": "stream",
     "text": [
      "[CV] END model__colsample_bytree=0.7, model__gamma=0.1, model__learning_rate=0.3, model__max_depth=5, model__min_child_weight=7, model__n_estimators=500, model__reg_alpha=0.1, model__reg_lambda=0.5, model__subsample=0.7; total time=   3.5s\n"
     ]
    },
    {
     "name": "stderr",
     "output_type": "stream",
     "text": [
      "/home/wsl2ubuntuuser/.virtualenvs/nomination_predictor/lib/python3.12/site-packages/sklearn/preprocessing/_encoders.py:246: UserWarning: Found unknown categories in columns [1, 4, 9, 10, 11, 12, 14, 17, 19, 21] during transform. These unknown categories will be encoded as all zeros\n",
      "  warnings.warn(\n"
     ]
    },
    {
     "name": "stdout",
     "output_type": "stream",
     "text": [
      "[CV] END model__colsample_bytree=0.7, model__gamma=0.1, model__learning_rate=0.3, model__max_depth=5, model__min_child_weight=7, model__n_estimators=500, model__reg_alpha=0.1, model__reg_lambda=0.5, model__subsample=0.7; total time=   3.1s\n"
     ]
    },
    {
     "name": "stderr",
     "output_type": "stream",
     "text": [
      "/home/wsl2ubuntuuser/.virtualenvs/nomination_predictor/lib/python3.12/site-packages/sklearn/preprocessing/_encoders.py:246: UserWarning: Found unknown categories in columns [1, 4, 9, 11, 12, 13, 17, 19, 21] during transform. These unknown categories will be encoded as all zeros\n",
      "  warnings.warn(\n"
     ]
    },
    {
     "name": "stdout",
     "output_type": "stream",
     "text": [
      "[CV] END model__colsample_bytree=1.0, model__gamma=0.5, model__learning_rate=0.3, model__max_depth=3, model__min_child_weight=7, model__n_estimators=500, model__reg_alpha=1.0, model__reg_lambda=2.0, model__subsample=0.7; total time=   1.8s\n"
     ]
    },
    {
     "name": "stderr",
     "output_type": "stream",
     "text": [
      "/home/wsl2ubuntuuser/.virtualenvs/nomination_predictor/lib/python3.12/site-packages/sklearn/preprocessing/_encoders.py:246: UserWarning: Found unknown categories in columns [0, 4, 9, 12, 17, 19, 21] during transform. These unknown categories will be encoded as all zeros\n",
      "  warnings.warn(\n"
     ]
    },
    {
     "name": "stdout",
     "output_type": "stream",
     "text": [
      "[CV] END model__colsample_bytree=1.0, model__gamma=0.5, model__learning_rate=0.3, model__max_depth=3, model__min_child_weight=7, model__n_estimators=500, model__reg_alpha=1.0, model__reg_lambda=2.0, model__subsample=0.7; total time=   2.2s\n"
     ]
    },
    {
     "name": "stderr",
     "output_type": "stream",
     "text": [
      "/home/wsl2ubuntuuser/.virtualenvs/nomination_predictor/lib/python3.12/site-packages/sklearn/preprocessing/_encoders.py:246: UserWarning: Found unknown categories in columns [1, 4, 9, 10, 11, 12, 14, 17, 19, 21] during transform. These unknown categories will be encoded as all zeros\n",
      "  warnings.warn(\n"
     ]
    },
    {
     "name": "stdout",
     "output_type": "stream",
     "text": [
      "[CV] END model__colsample_bytree=1.0, model__gamma=0.5, model__learning_rate=0.3, model__max_depth=3, model__min_child_weight=7, model__n_estimators=500, model__reg_alpha=1.0, model__reg_lambda=2.0, model__subsample=0.7; total time=   2.4s\n"
     ]
    },
    {
     "name": "stderr",
     "output_type": "stream",
     "text": [
      "/home/wsl2ubuntuuser/.virtualenvs/nomination_predictor/lib/python3.12/site-packages/sklearn/preprocessing/_encoders.py:246: UserWarning: Found unknown categories in columns [1, 4, 9, 11, 12, 13, 17, 19, 21] during transform. These unknown categories will be encoded as all zeros\n",
      "  warnings.warn(\n"
     ]
    },
    {
     "name": "stdout",
     "output_type": "stream",
     "text": [
      "[CV] END model__colsample_bytree=0.8, model__gamma=0.1, model__learning_rate=0.3, model__max_depth=5, model__min_child_weight=1, model__n_estimators=5000, model__reg_alpha=2.0, model__reg_lambda=1.0, model__subsample=0.8; total time=  17.9s\n"
     ]
    },
    {
     "name": "stderr",
     "output_type": "stream",
     "text": [
      "/home/wsl2ubuntuuser/.virtualenvs/nomination_predictor/lib/python3.12/site-packages/sklearn/preprocessing/_encoders.py:246: UserWarning: Found unknown categories in columns [0, 4, 9, 12, 17, 19, 21] during transform. These unknown categories will be encoded as all zeros\n",
      "  warnings.warn(\n"
     ]
    },
    {
     "name": "stdout",
     "output_type": "stream",
     "text": [
      "[CV] END model__colsample_bytree=0.8, model__gamma=0.1, model__learning_rate=0.3, model__max_depth=5, model__min_child_weight=1, model__n_estimators=5000, model__reg_alpha=2.0, model__reg_lambda=1.0, model__subsample=0.8; total time=  17.8s\n"
     ]
    },
    {
     "name": "stderr",
     "output_type": "stream",
     "text": [
      "/home/wsl2ubuntuuser/.virtualenvs/nomination_predictor/lib/python3.12/site-packages/sklearn/preprocessing/_encoders.py:246: UserWarning: Found unknown categories in columns [1, 4, 9, 10, 11, 12, 14, 17, 19, 21] during transform. These unknown categories will be encoded as all zeros\n",
      "  warnings.warn(\n"
     ]
    },
    {
     "name": "stdout",
     "output_type": "stream",
     "text": [
      "[CV] END model__colsample_bytree=0.8, model__gamma=0.1, model__learning_rate=0.3, model__max_depth=5, model__min_child_weight=1, model__n_estimators=5000, model__reg_alpha=2.0, model__reg_lambda=1.0, model__subsample=0.8; total time=  17.7s\n"
     ]
    },
    {
     "name": "stderr",
     "output_type": "stream",
     "text": [
      "/home/wsl2ubuntuuser/.virtualenvs/nomination_predictor/lib/python3.12/site-packages/sklearn/preprocessing/_encoders.py:246: UserWarning: Found unknown categories in columns [1, 4, 9, 11, 12, 13, 17, 19, 21] during transform. These unknown categories will be encoded as all zeros\n",
      "  warnings.warn(\n"
     ]
    },
    {
     "name": "stdout",
     "output_type": "stream",
     "text": [
      "[CV] END model__colsample_bytree=0.7, model__gamma=0.5, model__learning_rate=0.2, model__max_depth=10, model__min_child_weight=1, model__n_estimators=5000, model__reg_alpha=0, model__reg_lambda=1.0, model__subsample=0.7; total time=  15.3s\n"
     ]
    },
    {
     "name": "stderr",
     "output_type": "stream",
     "text": [
      "/home/wsl2ubuntuuser/.virtualenvs/nomination_predictor/lib/python3.12/site-packages/sklearn/preprocessing/_encoders.py:246: UserWarning: Found unknown categories in columns [0, 4, 9, 12, 17, 19, 21] during transform. These unknown categories will be encoded as all zeros\n",
      "  warnings.warn(\n"
     ]
    },
    {
     "name": "stdout",
     "output_type": "stream",
     "text": [
      "[CV] END model__colsample_bytree=0.7, model__gamma=0.5, model__learning_rate=0.2, model__max_depth=10, model__min_child_weight=1, model__n_estimators=5000, model__reg_alpha=0, model__reg_lambda=1.0, model__subsample=0.7; total time=  16.7s\n"
     ]
    },
    {
     "name": "stderr",
     "output_type": "stream",
     "text": [
      "/home/wsl2ubuntuuser/.virtualenvs/nomination_predictor/lib/python3.12/site-packages/sklearn/preprocessing/_encoders.py:246: UserWarning: Found unknown categories in columns [1, 4, 9, 10, 11, 12, 14, 17, 19, 21] during transform. These unknown categories will be encoded as all zeros\n",
      "  warnings.warn(\n"
     ]
    },
    {
     "name": "stdout",
     "output_type": "stream",
     "text": [
      "[CV] END model__colsample_bytree=0.7, model__gamma=0.5, model__learning_rate=0.2, model__max_depth=10, model__min_child_weight=1, model__n_estimators=5000, model__reg_alpha=0, model__reg_lambda=1.0, model__subsample=0.7; total time=  16.1s\n"
     ]
    },
    {
     "name": "stderr",
     "output_type": "stream",
     "text": [
      "/home/wsl2ubuntuuser/.virtualenvs/nomination_predictor/lib/python3.12/site-packages/sklearn/preprocessing/_encoders.py:246: UserWarning: Found unknown categories in columns [1, 4, 9, 11, 12, 13, 17, 19, 21] during transform. These unknown categories will be encoded as all zeros\n",
      "  warnings.warn(\n"
     ]
    },
    {
     "name": "stdout",
     "output_type": "stream",
     "text": [
      "[CV] END model__colsample_bytree=0.9, model__gamma=0.3, model__learning_rate=0.15, model__max_depth=6, model__min_child_weight=10, model__n_estimators=3000, model__reg_alpha=0, model__reg_lambda=1.0, model__subsample=1.0; total time=  12.9s\n"
     ]
    },
    {
     "name": "stderr",
     "output_type": "stream",
     "text": [
      "/home/wsl2ubuntuuser/.virtualenvs/nomination_predictor/lib/python3.12/site-packages/sklearn/preprocessing/_encoders.py:246: UserWarning: Found unknown categories in columns [0, 4, 9, 12, 17, 19, 21] during transform. These unknown categories will be encoded as all zeros\n",
      "  warnings.warn(\n"
     ]
    },
    {
     "name": "stdout",
     "output_type": "stream",
     "text": [
      "[CV] END model__colsample_bytree=0.9, model__gamma=0.3, model__learning_rate=0.15, model__max_depth=6, model__min_child_weight=10, model__n_estimators=3000, model__reg_alpha=0, model__reg_lambda=1.0, model__subsample=1.0; total time=  12.7s\n"
     ]
    },
    {
     "name": "stderr",
     "output_type": "stream",
     "text": [
      "/home/wsl2ubuntuuser/.virtualenvs/nomination_predictor/lib/python3.12/site-packages/sklearn/preprocessing/_encoders.py:246: UserWarning: Found unknown categories in columns [1, 4, 9, 10, 11, 12, 14, 17, 19, 21] during transform. These unknown categories will be encoded as all zeros\n",
      "  warnings.warn(\n"
     ]
    },
    {
     "name": "stdout",
     "output_type": "stream",
     "text": [
      "[CV] END model__colsample_bytree=0.9, model__gamma=0.3, model__learning_rate=0.15, model__max_depth=6, model__min_child_weight=10, model__n_estimators=3000, model__reg_alpha=0, model__reg_lambda=1.0, model__subsample=1.0; total time=  12.6s\n"
     ]
    },
    {
     "name": "stderr",
     "output_type": "stream",
     "text": [
      "/home/wsl2ubuntuuser/.virtualenvs/nomination_predictor/lib/python3.12/site-packages/sklearn/preprocessing/_encoders.py:246: UserWarning: Found unknown categories in columns [1, 4, 9, 11, 12, 13, 17, 19, 21] during transform. These unknown categories will be encoded as all zeros\n",
      "  warnings.warn(\n"
     ]
    },
    {
     "name": "stdout",
     "output_type": "stream",
     "text": [
      "[CV] END model__colsample_bytree=0.6, model__gamma=0.5, model__learning_rate=0.1, model__max_depth=6, model__min_child_weight=1, model__n_estimators=2000, model__reg_alpha=2.0, model__reg_lambda=1.0, model__subsample=0.9; total time=  11.1s\n"
     ]
    },
    {
     "name": "stderr",
     "output_type": "stream",
     "text": [
      "/home/wsl2ubuntuuser/.virtualenvs/nomination_predictor/lib/python3.12/site-packages/sklearn/preprocessing/_encoders.py:246: UserWarning: Found unknown categories in columns [0, 4, 9, 12, 17, 19, 21] during transform. These unknown categories will be encoded as all zeros\n",
      "  warnings.warn(\n"
     ]
    },
    {
     "name": "stdout",
     "output_type": "stream",
     "text": [
      "[CV] END model__colsample_bytree=0.6, model__gamma=0.5, model__learning_rate=0.1, model__max_depth=6, model__min_child_weight=1, model__n_estimators=2000, model__reg_alpha=2.0, model__reg_lambda=1.0, model__subsample=0.9; total time=   9.7s\n"
     ]
    },
    {
     "name": "stderr",
     "output_type": "stream",
     "text": [
      "/home/wsl2ubuntuuser/.virtualenvs/nomination_predictor/lib/python3.12/site-packages/sklearn/preprocessing/_encoders.py:246: UserWarning: Found unknown categories in columns [1, 4, 9, 10, 11, 12, 14, 17, 19, 21] during transform. These unknown categories will be encoded as all zeros\n",
      "  warnings.warn(\n"
     ]
    },
    {
     "name": "stdout",
     "output_type": "stream",
     "text": [
      "[CV] END model__colsample_bytree=0.6, model__gamma=0.5, model__learning_rate=0.1, model__max_depth=6, model__min_child_weight=1, model__n_estimators=2000, model__reg_alpha=2.0, model__reg_lambda=1.0, model__subsample=0.9; total time=   9.2s\n"
     ]
    },
    {
     "name": "stderr",
     "output_type": "stream",
     "text": [
      "/home/wsl2ubuntuuser/.virtualenvs/nomination_predictor/lib/python3.12/site-packages/sklearn/preprocessing/_encoders.py:246: UserWarning: Found unknown categories in columns [1, 4, 9, 11, 12, 13, 17, 19, 21] during transform. These unknown categories will be encoded as all zeros\n",
      "  warnings.warn(\n"
     ]
    },
    {
     "name": "stdout",
     "output_type": "stream",
     "text": [
      "[CV] END model__colsample_bytree=0.6, model__gamma=0, model__learning_rate=0.15, model__max_depth=6, model__min_child_weight=5, model__n_estimators=3000, model__reg_alpha=2.0, model__reg_lambda=0.1, model__subsample=0.6; total time=  20.3s\n"
     ]
    },
    {
     "name": "stderr",
     "output_type": "stream",
     "text": [
      "/home/wsl2ubuntuuser/.virtualenvs/nomination_predictor/lib/python3.12/site-packages/sklearn/preprocessing/_encoders.py:246: UserWarning: Found unknown categories in columns [0, 4, 9, 12, 17, 19, 21] during transform. These unknown categories will be encoded as all zeros\n",
      "  warnings.warn(\n"
     ]
    },
    {
     "name": "stdout",
     "output_type": "stream",
     "text": [
      "[CV] END model__colsample_bytree=0.6, model__gamma=0, model__learning_rate=0.15, model__max_depth=6, model__min_child_weight=5, model__n_estimators=3000, model__reg_alpha=2.0, model__reg_lambda=0.1, model__subsample=0.6; total time=  18.8s\n"
     ]
    },
    {
     "name": "stderr",
     "output_type": "stream",
     "text": [
      "/home/wsl2ubuntuuser/.virtualenvs/nomination_predictor/lib/python3.12/site-packages/sklearn/preprocessing/_encoders.py:246: UserWarning: Found unknown categories in columns [1, 4, 9, 10, 11, 12, 14, 17, 19, 21] during transform. These unknown categories will be encoded as all zeros\n",
      "  warnings.warn(\n"
     ]
    },
    {
     "name": "stdout",
     "output_type": "stream",
     "text": [
      "[CV] END model__colsample_bytree=0.6, model__gamma=0, model__learning_rate=0.15, model__max_depth=6, model__min_child_weight=5, model__n_estimators=3000, model__reg_alpha=2.0, model__reg_lambda=0.1, model__subsample=0.6; total time=  17.5s\n"
     ]
    },
    {
     "name": "stderr",
     "output_type": "stream",
     "text": [
      "/home/wsl2ubuntuuser/.virtualenvs/nomination_predictor/lib/python3.12/site-packages/sklearn/preprocessing/_encoders.py:246: UserWarning: Found unknown categories in columns [1, 4, 9, 11, 12, 13, 17, 19, 21] during transform. These unknown categories will be encoded as all zeros\n",
      "  warnings.warn(\n"
     ]
    },
    {
     "name": "stdout",
     "output_type": "stream",
     "text": [
      "[CV] END model__colsample_bytree=0.7, model__gamma=0.2, model__learning_rate=0.01, model__max_depth=3, model__min_child_weight=7, model__n_estimators=3000, model__reg_alpha=0, model__reg_lambda=0, model__subsample=0.8; total time=  12.2s\n"
     ]
    },
    {
     "name": "stderr",
     "output_type": "stream",
     "text": [
      "/home/wsl2ubuntuuser/.virtualenvs/nomination_predictor/lib/python3.12/site-packages/sklearn/preprocessing/_encoders.py:246: UserWarning: Found unknown categories in columns [0, 4, 9, 12, 17, 19, 21] during transform. These unknown categories will be encoded as all zeros\n",
      "  warnings.warn(\n"
     ]
    },
    {
     "name": "stdout",
     "output_type": "stream",
     "text": [
      "[CV] END model__colsample_bytree=0.7, model__gamma=0.2, model__learning_rate=0.01, model__max_depth=3, model__min_child_weight=7, model__n_estimators=3000, model__reg_alpha=0, model__reg_lambda=0, model__subsample=0.8; total time=  13.2s\n"
     ]
    },
    {
     "name": "stderr",
     "output_type": "stream",
     "text": [
      "/home/wsl2ubuntuuser/.virtualenvs/nomination_predictor/lib/python3.12/site-packages/sklearn/preprocessing/_encoders.py:246: UserWarning: Found unknown categories in columns [1, 4, 9, 10, 11, 12, 14, 17, 19, 21] during transform. These unknown categories will be encoded as all zeros\n",
      "  warnings.warn(\n"
     ]
    },
    {
     "name": "stdout",
     "output_type": "stream",
     "text": [
      "[CV] END model__colsample_bytree=0.7, model__gamma=0.2, model__learning_rate=0.01, model__max_depth=3, model__min_child_weight=7, model__n_estimators=3000, model__reg_alpha=0, model__reg_lambda=0, model__subsample=0.8; total time=  13.0s\n"
     ]
    },
    {
     "name": "stderr",
     "output_type": "stream",
     "text": [
      "/home/wsl2ubuntuuser/.virtualenvs/nomination_predictor/lib/python3.12/site-packages/sklearn/preprocessing/_encoders.py:246: UserWarning: Found unknown categories in columns [1, 4, 9, 11, 12, 13, 17, 19, 21] during transform. These unknown categories will be encoded as all zeros\n",
      "  warnings.warn(\n"
     ]
    },
    {
     "name": "stdout",
     "output_type": "stream",
     "text": [
      "[CV] END model__colsample_bytree=0.7, model__gamma=0.2, model__learning_rate=0.2, model__max_depth=7, model__min_child_weight=3, model__n_estimators=1000, model__reg_alpha=0.1, model__reg_lambda=0, model__subsample=0.6; total time=   5.5s\n"
     ]
    },
    {
     "name": "stderr",
     "output_type": "stream",
     "text": [
      "/home/wsl2ubuntuuser/.virtualenvs/nomination_predictor/lib/python3.12/site-packages/sklearn/preprocessing/_encoders.py:246: UserWarning: Found unknown categories in columns [0, 4, 9, 12, 17, 19, 21] during transform. These unknown categories will be encoded as all zeros\n",
      "  warnings.warn(\n"
     ]
    },
    {
     "name": "stdout",
     "output_type": "stream",
     "text": [
      "[CV] END model__colsample_bytree=0.7, model__gamma=0.2, model__learning_rate=0.2, model__max_depth=7, model__min_child_weight=3, model__n_estimators=1000, model__reg_alpha=0.1, model__reg_lambda=0, model__subsample=0.6; total time=   5.7s\n"
     ]
    },
    {
     "name": "stderr",
     "output_type": "stream",
     "text": [
      "/home/wsl2ubuntuuser/.virtualenvs/nomination_predictor/lib/python3.12/site-packages/sklearn/preprocessing/_encoders.py:246: UserWarning: Found unknown categories in columns [1, 4, 9, 10, 11, 12, 14, 17, 19, 21] during transform. These unknown categories will be encoded as all zeros\n",
      "  warnings.warn(\n"
     ]
    },
    {
     "name": "stdout",
     "output_type": "stream",
     "text": [
      "[CV] END model__colsample_bytree=0.7, model__gamma=0.2, model__learning_rate=0.2, model__max_depth=7, model__min_child_weight=3, model__n_estimators=1000, model__reg_alpha=0.1, model__reg_lambda=0, model__subsample=0.6; total time=   5.7s\n"
     ]
    },
    {
     "name": "stderr",
     "output_type": "stream",
     "text": [
      "/home/wsl2ubuntuuser/.virtualenvs/nomination_predictor/lib/python3.12/site-packages/sklearn/preprocessing/_encoders.py:246: UserWarning: Found unknown categories in columns [1, 4, 9, 11, 12, 13, 17, 19, 21] during transform. These unknown categories will be encoded as all zeros\n",
      "  warnings.warn(\n"
     ]
    },
    {
     "name": "stdout",
     "output_type": "stream",
     "text": [
      "[CV] END model__colsample_bytree=0.7, model__gamma=0.2, model__learning_rate=0.05, model__max_depth=7, model__min_child_weight=7, model__n_estimators=100, model__reg_alpha=2.0, model__reg_lambda=2.0, model__subsample=0.7; total time=  37.6s\n"
     ]
    },
    {
     "name": "stderr",
     "output_type": "stream",
     "text": [
      "/home/wsl2ubuntuuser/.virtualenvs/nomination_predictor/lib/python3.12/site-packages/sklearn/preprocessing/_encoders.py:246: UserWarning: Found unknown categories in columns [0, 4, 9, 12, 17, 19, 21] during transform. These unknown categories will be encoded as all zeros\n",
      "  warnings.warn(\n"
     ]
    },
    {
     "name": "stdout",
     "output_type": "stream",
     "text": [
      "[CV] END model__colsample_bytree=0.7, model__gamma=0.2, model__learning_rate=0.05, model__max_depth=7, model__min_child_weight=7, model__n_estimators=100, model__reg_alpha=2.0, model__reg_lambda=2.0, model__subsample=0.7; total time= -35.8s\n"
     ]
    },
    {
     "name": "stderr",
     "output_type": "stream",
     "text": [
      "/home/wsl2ubuntuuser/.virtualenvs/nomination_predictor/lib/python3.12/site-packages/sklearn/preprocessing/_encoders.py:246: UserWarning: Found unknown categories in columns [1, 4, 9, 10, 11, 12, 14, 17, 19, 21] during transform. These unknown categories will be encoded as all zeros\n",
      "  warnings.warn(\n"
     ]
    },
    {
     "name": "stdout",
     "output_type": "stream",
     "text": [
      "[CV] END model__colsample_bytree=0.7, model__gamma=0.2, model__learning_rate=0.05, model__max_depth=7, model__min_child_weight=7, model__n_estimators=100, model__reg_alpha=2.0, model__reg_lambda=2.0, model__subsample=0.7; total time=   0.8s\n"
     ]
    },
    {
     "name": "stderr",
     "output_type": "stream",
     "text": [
      "/home/wsl2ubuntuuser/.virtualenvs/nomination_predictor/lib/python3.12/site-packages/sklearn/preprocessing/_encoders.py:246: UserWarning: Found unknown categories in columns [1, 4, 9, 11, 12, 13, 17, 19, 21] during transform. These unknown categories will be encoded as all zeros\n",
      "  warnings.warn(\n"
     ]
    },
    {
     "name": "stdout",
     "output_type": "stream",
     "text": [
      "[CV] END model__colsample_bytree=0.7, model__gamma=0, model__learning_rate=0.01, model__max_depth=7, model__min_child_weight=5, model__n_estimators=3000, model__reg_alpha=0.1, model__reg_lambda=1.0, model__subsample=0.6; total time=  20.5s\n"
     ]
    },
    {
     "name": "stderr",
     "output_type": "stream",
     "text": [
      "/home/wsl2ubuntuuser/.virtualenvs/nomination_predictor/lib/python3.12/site-packages/sklearn/preprocessing/_encoders.py:246: UserWarning: Found unknown categories in columns [0, 4, 9, 12, 17, 19, 21] during transform. These unknown categories will be encoded as all zeros\n",
      "  warnings.warn(\n"
     ]
    },
    {
     "name": "stdout",
     "output_type": "stream",
     "text": [
      "[CV] END model__colsample_bytree=0.7, model__gamma=0, model__learning_rate=0.01, model__max_depth=7, model__min_child_weight=5, model__n_estimators=3000, model__reg_alpha=0.1, model__reg_lambda=1.0, model__subsample=0.6; total time=  21.0s\n"
     ]
    },
    {
     "name": "stderr",
     "output_type": "stream",
     "text": [
      "/home/wsl2ubuntuuser/.virtualenvs/nomination_predictor/lib/python3.12/site-packages/sklearn/preprocessing/_encoders.py:246: UserWarning: Found unknown categories in columns [1, 4, 9, 10, 11, 12, 14, 17, 19, 21] during transform. These unknown categories will be encoded as all zeros\n",
      "  warnings.warn(\n"
     ]
    },
    {
     "name": "stdout",
     "output_type": "stream",
     "text": [
      "[CV] END model__colsample_bytree=0.7, model__gamma=0, model__learning_rate=0.01, model__max_depth=7, model__min_child_weight=5, model__n_estimators=3000, model__reg_alpha=0.1, model__reg_lambda=1.0, model__subsample=0.6; total time=  21.5s\n"
     ]
    },
    {
     "name": "stderr",
     "output_type": "stream",
     "text": [
      "/home/wsl2ubuntuuser/.virtualenvs/nomination_predictor/lib/python3.12/site-packages/sklearn/preprocessing/_encoders.py:246: UserWarning: Found unknown categories in columns [1, 4, 9, 11, 12, 13, 17, 19, 21] during transform. These unknown categories will be encoded as all zeros\n",
      "  warnings.warn(\n"
     ]
    },
    {
     "name": "stdout",
     "output_type": "stream",
     "text": [
      "[CV] END model__colsample_bytree=0.8, model__gamma=0.2, model__learning_rate=0.15, model__max_depth=4, model__min_child_weight=1, model__n_estimators=500, model__reg_alpha=0, model__reg_lambda=0.1, model__subsample=0.8; total time=   2.2s\n"
     ]
    },
    {
     "name": "stderr",
     "output_type": "stream",
     "text": [
      "/home/wsl2ubuntuuser/.virtualenvs/nomination_predictor/lib/python3.12/site-packages/sklearn/preprocessing/_encoders.py:246: UserWarning: Found unknown categories in columns [0, 4, 9, 12, 17, 19, 21] during transform. These unknown categories will be encoded as all zeros\n",
      "  warnings.warn(\n"
     ]
    },
    {
     "name": "stdout",
     "output_type": "stream",
     "text": [
      "[CV] END model__colsample_bytree=0.8, model__gamma=0.2, model__learning_rate=0.15, model__max_depth=4, model__min_child_weight=1, model__n_estimators=500, model__reg_alpha=0, model__reg_lambda=0.1, model__subsample=0.8; total time=   2.6s\n"
     ]
    },
    {
     "name": "stderr",
     "output_type": "stream",
     "text": [
      "/home/wsl2ubuntuuser/.virtualenvs/nomination_predictor/lib/python3.12/site-packages/sklearn/preprocessing/_encoders.py:246: UserWarning: Found unknown categories in columns [1, 4, 9, 10, 11, 12, 14, 17, 19, 21] during transform. These unknown categories will be encoded as all zeros\n",
      "  warnings.warn(\n"
     ]
    },
    {
     "name": "stdout",
     "output_type": "stream",
     "text": [
      "[CV] END model__colsample_bytree=0.8, model__gamma=0.2, model__learning_rate=0.15, model__max_depth=4, model__min_child_weight=1, model__n_estimators=500, model__reg_alpha=0, model__reg_lambda=0.1, model__subsample=0.8; total time=   2.7s\n"
     ]
    },
    {
     "name": "stderr",
     "output_type": "stream",
     "text": [
      "/home/wsl2ubuntuuser/.virtualenvs/nomination_predictor/lib/python3.12/site-packages/sklearn/preprocessing/_encoders.py:246: UserWarning: Found unknown categories in columns [1, 4, 9, 11, 12, 13, 17, 19, 21] during transform. These unknown categories will be encoded as all zeros\n",
      "  warnings.warn(\n"
     ]
    },
    {
     "name": "stdout",
     "output_type": "stream",
     "text": [
      "[CV] END model__colsample_bytree=0.9, model__gamma=0.5, model__learning_rate=0.15, model__max_depth=8, model__min_child_weight=5, model__n_estimators=500, model__reg_alpha=0.1, model__reg_lambda=0.1, model__subsample=1.0; total time=   3.8s\n"
     ]
    },
    {
     "name": "stderr",
     "output_type": "stream",
     "text": [
      "/home/wsl2ubuntuuser/.virtualenvs/nomination_predictor/lib/python3.12/site-packages/sklearn/preprocessing/_encoders.py:246: UserWarning: Found unknown categories in columns [0, 4, 9, 12, 17, 19, 21] during transform. These unknown categories will be encoded as all zeros\n",
      "  warnings.warn(\n"
     ]
    },
    {
     "name": "stdout",
     "output_type": "stream",
     "text": [
      "[CV] END model__colsample_bytree=0.9, model__gamma=0.5, model__learning_rate=0.15, model__max_depth=8, model__min_child_weight=5, model__n_estimators=500, model__reg_alpha=0.1, model__reg_lambda=0.1, model__subsample=1.0; total time=   3.5s\n"
     ]
    },
    {
     "name": "stderr",
     "output_type": "stream",
     "text": [
      "/home/wsl2ubuntuuser/.virtualenvs/nomination_predictor/lib/python3.12/site-packages/sklearn/preprocessing/_encoders.py:246: UserWarning: Found unknown categories in columns [1, 4, 9, 10, 11, 12, 14, 17, 19, 21] during transform. These unknown categories will be encoded as all zeros\n",
      "  warnings.warn(\n"
     ]
    },
    {
     "name": "stdout",
     "output_type": "stream",
     "text": [
      "[CV] END model__colsample_bytree=0.9, model__gamma=0.5, model__learning_rate=0.15, model__max_depth=8, model__min_child_weight=5, model__n_estimators=500, model__reg_alpha=0.1, model__reg_lambda=0.1, model__subsample=1.0; total time=   3.7s\n"
     ]
    },
    {
     "name": "stderr",
     "output_type": "stream",
     "text": [
      "/home/wsl2ubuntuuser/.virtualenvs/nomination_predictor/lib/python3.12/site-packages/sklearn/preprocessing/_encoders.py:246: UserWarning: Found unknown categories in columns [1, 4, 9, 11, 12, 13, 17, 19, 21] during transform. These unknown categories will be encoded as all zeros\n",
      "  warnings.warn(\n"
     ]
    },
    {
     "name": "stdout",
     "output_type": "stream",
     "text": [
      "[CV] END model__colsample_bytree=0.7, model__gamma=0.3, model__learning_rate=0.1, model__max_depth=3, model__min_child_weight=3, model__n_estimators=500, model__reg_alpha=0.5, model__reg_lambda=1.0, model__subsample=0.8; total time=   2.0s\n"
     ]
    },
    {
     "name": "stderr",
     "output_type": "stream",
     "text": [
      "/home/wsl2ubuntuuser/.virtualenvs/nomination_predictor/lib/python3.12/site-packages/sklearn/preprocessing/_encoders.py:246: UserWarning: Found unknown categories in columns [0, 4, 9, 12, 17, 19, 21] during transform. These unknown categories will be encoded as all zeros\n",
      "  warnings.warn(\n"
     ]
    },
    {
     "name": "stdout",
     "output_type": "stream",
     "text": [
      "[CV] END model__colsample_bytree=0.7, model__gamma=0.3, model__learning_rate=0.1, model__max_depth=3, model__min_child_weight=3, model__n_estimators=500, model__reg_alpha=0.5, model__reg_lambda=1.0, model__subsample=0.8; total time=   2.3s\n"
     ]
    },
    {
     "name": "stderr",
     "output_type": "stream",
     "text": [
      "/home/wsl2ubuntuuser/.virtualenvs/nomination_predictor/lib/python3.12/site-packages/sklearn/preprocessing/_encoders.py:246: UserWarning: Found unknown categories in columns [1, 4, 9, 10, 11, 12, 14, 17, 19, 21] during transform. These unknown categories will be encoded as all zeros\n",
      "  warnings.warn(\n"
     ]
    },
    {
     "name": "stdout",
     "output_type": "stream",
     "text": [
      "[CV] END model__colsample_bytree=0.7, model__gamma=0.3, model__learning_rate=0.1, model__max_depth=3, model__min_child_weight=3, model__n_estimators=500, model__reg_alpha=0.5, model__reg_lambda=1.0, model__subsample=0.8; total time=   2.3s\n"
     ]
    },
    {
     "name": "stderr",
     "output_type": "stream",
     "text": [
      "/home/wsl2ubuntuuser/.virtualenvs/nomination_predictor/lib/python3.12/site-packages/sklearn/preprocessing/_encoders.py:246: UserWarning: Found unknown categories in columns [1, 4, 9, 11, 12, 13, 17, 19, 21] during transform. These unknown categories will be encoded as all zeros\n",
      "  warnings.warn(\n"
     ]
    },
    {
     "name": "stdout",
     "output_type": "stream",
     "text": [
      "[CV] END model__colsample_bytree=1.0, model__gamma=0.3, model__learning_rate=0.2, model__max_depth=3, model__min_child_weight=1, model__n_estimators=100, model__reg_alpha=0.1, model__reg_lambda=0, model__subsample=1.0; total time=   0.6s\n"
     ]
    },
    {
     "name": "stderr",
     "output_type": "stream",
     "text": [
      "/home/wsl2ubuntuuser/.virtualenvs/nomination_predictor/lib/python3.12/site-packages/sklearn/preprocessing/_encoders.py:246: UserWarning: Found unknown categories in columns [0, 4, 9, 12, 17, 19, 21] during transform. These unknown categories will be encoded as all zeros\n",
      "  warnings.warn(\n"
     ]
    },
    {
     "name": "stdout",
     "output_type": "stream",
     "text": [
      "[CV] END model__colsample_bytree=1.0, model__gamma=0.3, model__learning_rate=0.2, model__max_depth=3, model__min_child_weight=1, model__n_estimators=100, model__reg_alpha=0.1, model__reg_lambda=0, model__subsample=1.0; total time=   0.6s\n"
     ]
    },
    {
     "name": "stderr",
     "output_type": "stream",
     "text": [
      "/home/wsl2ubuntuuser/.virtualenvs/nomination_predictor/lib/python3.12/site-packages/sklearn/preprocessing/_encoders.py:246: UserWarning: Found unknown categories in columns [1, 4, 9, 10, 11, 12, 14, 17, 19, 21] during transform. These unknown categories will be encoded as all zeros\n",
      "  warnings.warn(\n"
     ]
    },
    {
     "name": "stdout",
     "output_type": "stream",
     "text": [
      "[CV] END model__colsample_bytree=1.0, model__gamma=0.3, model__learning_rate=0.2, model__max_depth=3, model__min_child_weight=1, model__n_estimators=100, model__reg_alpha=0.1, model__reg_lambda=0, model__subsample=1.0; total time=   0.5s\n"
     ]
    },
    {
     "name": "stderr",
     "output_type": "stream",
     "text": [
      "/home/wsl2ubuntuuser/.virtualenvs/nomination_predictor/lib/python3.12/site-packages/sklearn/preprocessing/_encoders.py:246: UserWarning: Found unknown categories in columns [1, 4, 9, 11, 12, 13, 17, 19, 21] during transform. These unknown categories will be encoded as all zeros\n",
      "  warnings.warn(\n"
     ]
    },
    {
     "name": "stdout",
     "output_type": "stream",
     "text": [
      "[CV] END model__colsample_bytree=0.9, model__gamma=0.3, model__learning_rate=0.05, model__max_depth=4, model__min_child_weight=5, model__n_estimators=2000, model__reg_alpha=1.0, model__reg_lambda=0.1, model__subsample=1.0; total time=  10.2s\n"
     ]
    },
    {
     "name": "stderr",
     "output_type": "stream",
     "text": [
      "/home/wsl2ubuntuuser/.virtualenvs/nomination_predictor/lib/python3.12/site-packages/sklearn/preprocessing/_encoders.py:246: UserWarning: Found unknown categories in columns [0, 4, 9, 12, 17, 19, 21] during transform. These unknown categories will be encoded as all zeros\n",
      "  warnings.warn(\n"
     ]
    },
    {
     "name": "stdout",
     "output_type": "stream",
     "text": [
      "[CV] END model__colsample_bytree=0.9, model__gamma=0.3, model__learning_rate=0.05, model__max_depth=4, model__min_child_weight=5, model__n_estimators=2000, model__reg_alpha=1.0, model__reg_lambda=0.1, model__subsample=1.0; total time=  10.1s\n"
     ]
    },
    {
     "name": "stderr",
     "output_type": "stream",
     "text": [
      "/home/wsl2ubuntuuser/.virtualenvs/nomination_predictor/lib/python3.12/site-packages/sklearn/preprocessing/_encoders.py:246: UserWarning: Found unknown categories in columns [1, 4, 9, 10, 11, 12, 14, 17, 19, 21] during transform. These unknown categories will be encoded as all zeros\n",
      "  warnings.warn(\n"
     ]
    },
    {
     "name": "stdout",
     "output_type": "stream",
     "text": [
      "[CV] END model__colsample_bytree=0.9, model__gamma=0.3, model__learning_rate=0.05, model__max_depth=4, model__min_child_weight=5, model__n_estimators=2000, model__reg_alpha=1.0, model__reg_lambda=0.1, model__subsample=1.0; total time=  10.5s\n"
     ]
    },
    {
     "name": "stderr",
     "output_type": "stream",
     "text": [
      "/home/wsl2ubuntuuser/.virtualenvs/nomination_predictor/lib/python3.12/site-packages/sklearn/preprocessing/_encoders.py:246: UserWarning: Found unknown categories in columns [1, 4, 9, 11, 12, 13, 17, 19, 21] during transform. These unknown categories will be encoded as all zeros\n",
      "  warnings.warn(\n"
     ]
    },
    {
     "name": "stdout",
     "output_type": "stream",
     "text": [
      "[CV] END model__colsample_bytree=0.6, model__gamma=0, model__learning_rate=0.1, model__max_depth=9, model__min_child_weight=5, model__n_estimators=5000, model__reg_alpha=0.1, model__reg_lambda=0, model__subsample=1.0; total time=  20.4s\n"
     ]
    },
    {
     "name": "stderr",
     "output_type": "stream",
     "text": [
      "/home/wsl2ubuntuuser/.virtualenvs/nomination_predictor/lib/python3.12/site-packages/sklearn/preprocessing/_encoders.py:246: UserWarning: Found unknown categories in columns [0, 4, 9, 12, 17, 19, 21] during transform. These unknown categories will be encoded as all zeros\n",
      "  warnings.warn(\n"
     ]
    },
    {
     "name": "stdout",
     "output_type": "stream",
     "text": [
      "[CV] END model__colsample_bytree=0.6, model__gamma=0, model__learning_rate=0.1, model__max_depth=9, model__min_child_weight=5, model__n_estimators=5000, model__reg_alpha=0.1, model__reg_lambda=0, model__subsample=1.0; total time=  21.3s\n"
     ]
    },
    {
     "name": "stderr",
     "output_type": "stream",
     "text": [
      "/home/wsl2ubuntuuser/.virtualenvs/nomination_predictor/lib/python3.12/site-packages/sklearn/preprocessing/_encoders.py:246: UserWarning: Found unknown categories in columns [1, 4, 9, 10, 11, 12, 14, 17, 19, 21] during transform. These unknown categories will be encoded as all zeros\n",
      "  warnings.warn(\n"
     ]
    },
    {
     "name": "stdout",
     "output_type": "stream",
     "text": [
      "[CV] END model__colsample_bytree=0.6, model__gamma=0, model__learning_rate=0.1, model__max_depth=9, model__min_child_weight=5, model__n_estimators=5000, model__reg_alpha=0.1, model__reg_lambda=0, model__subsample=1.0; total time=  21.4s\n"
     ]
    },
    {
     "name": "stderr",
     "output_type": "stream",
     "text": [
      "/home/wsl2ubuntuuser/.virtualenvs/nomination_predictor/lib/python3.12/site-packages/sklearn/preprocessing/_encoders.py:246: UserWarning: Found unknown categories in columns [1, 4, 9, 11, 12, 13, 17, 19, 21] during transform. These unknown categories will be encoded as all zeros\n",
      "  warnings.warn(\n"
     ]
    },
    {
     "name": "stdout",
     "output_type": "stream",
     "text": [
      "[CV] END model__colsample_bytree=0.8, model__gamma=0, model__learning_rate=0.3, model__max_depth=4, model__min_child_weight=1, model__n_estimators=3000, model__reg_alpha=2.0, model__reg_lambda=0, model__subsample=1.0; total time=  10.0s\n"
     ]
    },
    {
     "name": "stderr",
     "output_type": "stream",
     "text": [
      "/home/wsl2ubuntuuser/.virtualenvs/nomination_predictor/lib/python3.12/site-packages/sklearn/preprocessing/_encoders.py:246: UserWarning: Found unknown categories in columns [0, 4, 9, 12, 17, 19, 21] during transform. These unknown categories will be encoded as all zeros\n",
      "  warnings.warn(\n"
     ]
    },
    {
     "name": "stdout",
     "output_type": "stream",
     "text": [
      "[CV] END model__colsample_bytree=0.8, model__gamma=0, model__learning_rate=0.3, model__max_depth=4, model__min_child_weight=1, model__n_estimators=3000, model__reg_alpha=2.0, model__reg_lambda=0, model__subsample=1.0; total time=  11.5s\n"
     ]
    },
    {
     "name": "stderr",
     "output_type": "stream",
     "text": [
      "/home/wsl2ubuntuuser/.virtualenvs/nomination_predictor/lib/python3.12/site-packages/sklearn/preprocessing/_encoders.py:246: UserWarning: Found unknown categories in columns [1, 4, 9, 10, 11, 12, 14, 17, 19, 21] during transform. These unknown categories will be encoded as all zeros\n",
      "  warnings.warn(\n"
     ]
    },
    {
     "name": "stdout",
     "output_type": "stream",
     "text": [
      "[CV] END model__colsample_bytree=0.8, model__gamma=0, model__learning_rate=0.3, model__max_depth=4, model__min_child_weight=1, model__n_estimators=3000, model__reg_alpha=2.0, model__reg_lambda=0, model__subsample=1.0; total time=  10.9s\n"
     ]
    },
    {
     "name": "stderr",
     "output_type": "stream",
     "text": [
      "/home/wsl2ubuntuuser/.virtualenvs/nomination_predictor/lib/python3.12/site-packages/sklearn/preprocessing/_encoders.py:246: UserWarning: Found unknown categories in columns [1, 4, 9, 11, 12, 13, 17, 19, 21] during transform. These unknown categories will be encoded as all zeros\n",
      "  warnings.warn(\n"
     ]
    },
    {
     "name": "stdout",
     "output_type": "stream",
     "text": [
      "[CV] END model__colsample_bytree=0.8, model__gamma=0.3, model__learning_rate=0.1, model__max_depth=7, model__min_child_weight=3, model__n_estimators=2000, model__reg_alpha=0.5, model__reg_lambda=0.1, model__subsample=0.8; total time=   9.7s\n"
     ]
    },
    {
     "name": "stderr",
     "output_type": "stream",
     "text": [
      "/home/wsl2ubuntuuser/.virtualenvs/nomination_predictor/lib/python3.12/site-packages/sklearn/preprocessing/_encoders.py:246: UserWarning: Found unknown categories in columns [0, 4, 9, 12, 17, 19, 21] during transform. These unknown categories will be encoded as all zeros\n",
      "  warnings.warn(\n"
     ]
    },
    {
     "name": "stdout",
     "output_type": "stream",
     "text": [
      "[CV] END model__colsample_bytree=0.8, model__gamma=0.3, model__learning_rate=0.1, model__max_depth=7, model__min_child_weight=3, model__n_estimators=2000, model__reg_alpha=0.5, model__reg_lambda=0.1, model__subsample=0.8; total time=   9.2s\n"
     ]
    },
    {
     "name": "stderr",
     "output_type": "stream",
     "text": [
      "/home/wsl2ubuntuuser/.virtualenvs/nomination_predictor/lib/python3.12/site-packages/sklearn/preprocessing/_encoders.py:246: UserWarning: Found unknown categories in columns [1, 4, 9, 10, 11, 12, 14, 17, 19, 21] during transform. These unknown categories will be encoded as all zeros\n",
      "  warnings.warn(\n"
     ]
    },
    {
     "name": "stdout",
     "output_type": "stream",
     "text": [
      "[CV] END model__colsample_bytree=0.8, model__gamma=0.3, model__learning_rate=0.1, model__max_depth=7, model__min_child_weight=3, model__n_estimators=2000, model__reg_alpha=0.5, model__reg_lambda=0.1, model__subsample=0.8; total time=   9.9s\n"
     ]
    },
    {
     "name": "stderr",
     "output_type": "stream",
     "text": [
      "/home/wsl2ubuntuuser/.virtualenvs/nomination_predictor/lib/python3.12/site-packages/sklearn/preprocessing/_encoders.py:246: UserWarning: Found unknown categories in columns [1, 4, 9, 11, 12, 13, 17, 19, 21] during transform. These unknown categories will be encoded as all zeros\n",
      "  warnings.warn(\n"
     ]
    },
    {
     "name": "stdout",
     "output_type": "stream",
     "text": [
      "[CV] END model__colsample_bytree=0.9, model__gamma=0.5, model__learning_rate=0.05, model__max_depth=9, model__min_child_weight=5, model__n_estimators=5000, model__reg_alpha=0.5, model__reg_lambda=0, model__subsample=0.6; total time=  24.0s\n"
     ]
    },
    {
     "name": "stderr",
     "output_type": "stream",
     "text": [
      "/home/wsl2ubuntuuser/.virtualenvs/nomination_predictor/lib/python3.12/site-packages/sklearn/preprocessing/_encoders.py:246: UserWarning: Found unknown categories in columns [0, 4, 9, 12, 17, 19, 21] during transform. These unknown categories will be encoded as all zeros\n",
      "  warnings.warn(\n"
     ]
    },
    {
     "name": "stdout",
     "output_type": "stream",
     "text": [
      "[CV] END model__colsample_bytree=0.9, model__gamma=0.5, model__learning_rate=0.05, model__max_depth=9, model__min_child_weight=5, model__n_estimators=5000, model__reg_alpha=0.5, model__reg_lambda=0, model__subsample=0.6; total time= 1.0min\n"
     ]
    },
    {
     "name": "stderr",
     "output_type": "stream",
     "text": [
      "/home/wsl2ubuntuuser/.virtualenvs/nomination_predictor/lib/python3.12/site-packages/sklearn/preprocessing/_encoders.py:246: UserWarning: Found unknown categories in columns [1, 4, 9, 10, 11, 12, 14, 17, 19, 21] during transform. These unknown categories will be encoded as all zeros\n",
      "  warnings.warn(\n"
     ]
    },
    {
     "name": "stdout",
     "output_type": "stream",
     "text": [
      "[CV] END model__colsample_bytree=0.9, model__gamma=0.5, model__learning_rate=0.05, model__max_depth=9, model__min_child_weight=5, model__n_estimators=5000, model__reg_alpha=0.5, model__reg_lambda=0, model__subsample=0.6; total time= -15.6s\n"
     ]
    },
    {
     "name": "stderr",
     "output_type": "stream",
     "text": [
      "/home/wsl2ubuntuuser/.virtualenvs/nomination_predictor/lib/python3.12/site-packages/sklearn/preprocessing/_encoders.py:246: UserWarning: Found unknown categories in columns [1, 4, 9, 11, 12, 13, 17, 19, 21] during transform. These unknown categories will be encoded as all zeros\n",
      "  warnings.warn(\n"
     ]
    },
    {
     "name": "stdout",
     "output_type": "stream",
     "text": [
      "[CV] END model__colsample_bytree=0.8, model__gamma=0.5, model__learning_rate=0.2, model__max_depth=6, model__min_child_weight=5, model__n_estimators=500, model__reg_alpha=2.0, model__reg_lambda=1.0, model__subsample=0.7; total time=   2.9s\n"
     ]
    },
    {
     "name": "stderr",
     "output_type": "stream",
     "text": [
      "/home/wsl2ubuntuuser/.virtualenvs/nomination_predictor/lib/python3.12/site-packages/sklearn/preprocessing/_encoders.py:246: UserWarning: Found unknown categories in columns [0, 4, 9, 12, 17, 19, 21] during transform. These unknown categories will be encoded as all zeros\n",
      "  warnings.warn(\n"
     ]
    },
    {
     "name": "stdout",
     "output_type": "stream",
     "text": [
      "[CV] END model__colsample_bytree=0.8, model__gamma=0.5, model__learning_rate=0.2, model__max_depth=6, model__min_child_weight=5, model__n_estimators=500, model__reg_alpha=2.0, model__reg_lambda=1.0, model__subsample=0.7; total time=   3.0s\n"
     ]
    },
    {
     "name": "stderr",
     "output_type": "stream",
     "text": [
      "/home/wsl2ubuntuuser/.virtualenvs/nomination_predictor/lib/python3.12/site-packages/sklearn/preprocessing/_encoders.py:246: UserWarning: Found unknown categories in columns [1, 4, 9, 10, 11, 12, 14, 17, 19, 21] during transform. These unknown categories will be encoded as all zeros\n",
      "  warnings.warn(\n"
     ]
    },
    {
     "name": "stdout",
     "output_type": "stream",
     "text": [
      "[CV] END model__colsample_bytree=0.8, model__gamma=0.5, model__learning_rate=0.2, model__max_depth=6, model__min_child_weight=5, model__n_estimators=500, model__reg_alpha=2.0, model__reg_lambda=1.0, model__subsample=0.7; total time=   2.7s\n"
     ]
    },
    {
     "name": "stderr",
     "output_type": "stream",
     "text": [
      "/home/wsl2ubuntuuser/.virtualenvs/nomination_predictor/lib/python3.12/site-packages/sklearn/preprocessing/_encoders.py:246: UserWarning: Found unknown categories in columns [1, 4, 9, 11, 12, 13, 17, 19, 21] during transform. These unknown categories will be encoded as all zeros\n",
      "  warnings.warn(\n"
     ]
    },
    {
     "name": "stdout",
     "output_type": "stream",
     "text": [
      "[CV] END model__colsample_bytree=0.8, model__gamma=0.3, model__learning_rate=0.1, model__max_depth=10, model__min_child_weight=5, model__n_estimators=5000, model__reg_alpha=0, model__reg_lambda=0.5, model__subsample=0.9; total time=  16.0s\n"
     ]
    },
    {
     "name": "stderr",
     "output_type": "stream",
     "text": [
      "/home/wsl2ubuntuuser/.virtualenvs/nomination_predictor/lib/python3.12/site-packages/sklearn/preprocessing/_encoders.py:246: UserWarning: Found unknown categories in columns [0, 4, 9, 12, 17, 19, 21] during transform. These unknown categories will be encoded as all zeros\n",
      "  warnings.warn(\n"
     ]
    },
    {
     "name": "stdout",
     "output_type": "stream",
     "text": [
      "[CV] END model__colsample_bytree=0.8, model__gamma=0.3, model__learning_rate=0.1, model__max_depth=10, model__min_child_weight=5, model__n_estimators=5000, model__reg_alpha=0, model__reg_lambda=0.5, model__subsample=0.9; total time=  17.6s\n"
     ]
    },
    {
     "name": "stderr",
     "output_type": "stream",
     "text": [
      "/home/wsl2ubuntuuser/.virtualenvs/nomination_predictor/lib/python3.12/site-packages/sklearn/preprocessing/_encoders.py:246: UserWarning: Found unknown categories in columns [1, 4, 9, 10, 11, 12, 14, 17, 19, 21] during transform. These unknown categories will be encoded as all zeros\n",
      "  warnings.warn(\n"
     ]
    },
    {
     "name": "stdout",
     "output_type": "stream",
     "text": [
      "[CV] END model__colsample_bytree=0.8, model__gamma=0.3, model__learning_rate=0.1, model__max_depth=10, model__min_child_weight=5, model__n_estimators=5000, model__reg_alpha=0, model__reg_lambda=0.5, model__subsample=0.9; total time=  16.8s\n"
     ]
    },
    {
     "name": "stderr",
     "output_type": "stream",
     "text": [
      "/home/wsl2ubuntuuser/.virtualenvs/nomination_predictor/lib/python3.12/site-packages/sklearn/preprocessing/_encoders.py:246: UserWarning: Found unknown categories in columns [1, 4, 9, 11, 12, 13, 17, 19, 21] during transform. These unknown categories will be encoded as all zeros\n",
      "  warnings.warn(\n"
     ]
    },
    {
     "name": "stdout",
     "output_type": "stream",
     "text": [
      "[CV] END model__colsample_bytree=0.6, model__gamma=0.2, model__learning_rate=0.3, model__max_depth=7, model__min_child_weight=10, model__n_estimators=500, model__reg_alpha=0.5, model__reg_lambda=0, model__subsample=0.9; total time=   3.3s\n"
     ]
    },
    {
     "name": "stderr",
     "output_type": "stream",
     "text": [
      "/home/wsl2ubuntuuser/.virtualenvs/nomination_predictor/lib/python3.12/site-packages/sklearn/preprocessing/_encoders.py:246: UserWarning: Found unknown categories in columns [0, 4, 9, 12, 17, 19, 21] during transform. These unknown categories will be encoded as all zeros\n",
      "  warnings.warn(\n"
     ]
    },
    {
     "name": "stdout",
     "output_type": "stream",
     "text": [
      "[CV] END model__colsample_bytree=0.6, model__gamma=0.2, model__learning_rate=0.3, model__max_depth=7, model__min_child_weight=10, model__n_estimators=500, model__reg_alpha=0.5, model__reg_lambda=0, model__subsample=0.9; total time=   3.6s\n"
     ]
    },
    {
     "name": "stderr",
     "output_type": "stream",
     "text": [
      "/home/wsl2ubuntuuser/.virtualenvs/nomination_predictor/lib/python3.12/site-packages/sklearn/preprocessing/_encoders.py:246: UserWarning: Found unknown categories in columns [1, 4, 9, 10, 11, 12, 14, 17, 19, 21] during transform. These unknown categories will be encoded as all zeros\n",
      "  warnings.warn(\n"
     ]
    },
    {
     "name": "stdout",
     "output_type": "stream",
     "text": [
      "[CV] END model__colsample_bytree=0.6, model__gamma=0.2, model__learning_rate=0.3, model__max_depth=7, model__min_child_weight=10, model__n_estimators=500, model__reg_alpha=0.5, model__reg_lambda=0, model__subsample=0.9; total time=   3.1s\n"
     ]
    },
    {
     "name": "stderr",
     "output_type": "stream",
     "text": [
      "/home/wsl2ubuntuuser/.virtualenvs/nomination_predictor/lib/python3.12/site-packages/sklearn/preprocessing/_encoders.py:246: UserWarning: Found unknown categories in columns [1, 4, 9, 11, 12, 13, 17, 19, 21] during transform. These unknown categories will be encoded as all zeros\n",
      "  warnings.warn(\n"
     ]
    },
    {
     "name": "stdout",
     "output_type": "stream",
     "text": [
      "[CV] END model__colsample_bytree=0.8, model__gamma=0.5, model__learning_rate=0.2, model__max_depth=9, model__min_child_weight=1, model__n_estimators=3000, model__reg_alpha=0.1, model__reg_lambda=2.0, model__subsample=0.7; total time=   8.7s\n"
     ]
    },
    {
     "name": "stderr",
     "output_type": "stream",
     "text": [
      "/home/wsl2ubuntuuser/.virtualenvs/nomination_predictor/lib/python3.12/site-packages/sklearn/preprocessing/_encoders.py:246: UserWarning: Found unknown categories in columns [0, 4, 9, 12, 17, 19, 21] during transform. These unknown categories will be encoded as all zeros\n",
      "  warnings.warn(\n"
     ]
    },
    {
     "name": "stdout",
     "output_type": "stream",
     "text": [
      "[CV] END model__colsample_bytree=0.8, model__gamma=0.5, model__learning_rate=0.2, model__max_depth=9, model__min_child_weight=1, model__n_estimators=3000, model__reg_alpha=0.1, model__reg_lambda=2.0, model__subsample=0.7; total time=   9.0s\n"
     ]
    },
    {
     "name": "stderr",
     "output_type": "stream",
     "text": [
      "/home/wsl2ubuntuuser/.virtualenvs/nomination_predictor/lib/python3.12/site-packages/sklearn/preprocessing/_encoders.py:246: UserWarning: Found unknown categories in columns [1, 4, 9, 10, 11, 12, 14, 17, 19, 21] during transform. These unknown categories will be encoded as all zeros\n",
      "  warnings.warn(\n"
     ]
    },
    {
     "name": "stdout",
     "output_type": "stream",
     "text": [
      "[CV] END model__colsample_bytree=0.8, model__gamma=0.5, model__learning_rate=0.2, model__max_depth=9, model__min_child_weight=1, model__n_estimators=3000, model__reg_alpha=0.1, model__reg_lambda=2.0, model__subsample=0.7; total time=   9.7s\n"
     ]
    },
    {
     "name": "stderr",
     "output_type": "stream",
     "text": [
      "/home/wsl2ubuntuuser/.virtualenvs/nomination_predictor/lib/python3.12/site-packages/sklearn/preprocessing/_encoders.py:246: UserWarning: Found unknown categories in columns [1, 4, 9, 11, 12, 13, 17, 19, 21] during transform. These unknown categories will be encoded as all zeros\n",
      "  warnings.warn(\n"
     ]
    },
    {
     "name": "stdout",
     "output_type": "stream",
     "text": [
      "[CV] END model__colsample_bytree=0.8, model__gamma=0.5, model__learning_rate=0.1, model__max_depth=4, model__min_child_weight=7, model__n_estimators=5000, model__reg_alpha=0, model__reg_lambda=1.0, model__subsample=1.0; total time=  18.6s\n"
     ]
    },
    {
     "name": "stderr",
     "output_type": "stream",
     "text": [
      "/home/wsl2ubuntuuser/.virtualenvs/nomination_predictor/lib/python3.12/site-packages/sklearn/preprocessing/_encoders.py:246: UserWarning: Found unknown categories in columns [0, 4, 9, 12, 17, 19, 21] during transform. These unknown categories will be encoded as all zeros\n",
      "  warnings.warn(\n"
     ]
    },
    {
     "name": "stdout",
     "output_type": "stream",
     "text": [
      "[CV] END model__colsample_bytree=0.8, model__gamma=0.5, model__learning_rate=0.1, model__max_depth=4, model__min_child_weight=7, model__n_estimators=5000, model__reg_alpha=0, model__reg_lambda=1.0, model__subsample=1.0; total time=  20.4s\n"
     ]
    },
    {
     "name": "stderr",
     "output_type": "stream",
     "text": [
      "/home/wsl2ubuntuuser/.virtualenvs/nomination_predictor/lib/python3.12/site-packages/sklearn/preprocessing/_encoders.py:246: UserWarning: Found unknown categories in columns [1, 4, 9, 10, 11, 12, 14, 17, 19, 21] during transform. These unknown categories will be encoded as all zeros\n",
      "  warnings.warn(\n"
     ]
    },
    {
     "name": "stdout",
     "output_type": "stream",
     "text": [
      "[CV] END model__colsample_bytree=0.8, model__gamma=0.5, model__learning_rate=0.1, model__max_depth=4, model__min_child_weight=7, model__n_estimators=5000, model__reg_alpha=0, model__reg_lambda=1.0, model__subsample=1.0; total time=  19.6s\n"
     ]
    },
    {
     "name": "stderr",
     "output_type": "stream",
     "text": [
      "/home/wsl2ubuntuuser/.virtualenvs/nomination_predictor/lib/python3.12/site-packages/sklearn/preprocessing/_encoders.py:246: UserWarning: Found unknown categories in columns [1, 4, 9, 11, 12, 13, 17, 19, 21] during transform. These unknown categories will be encoded as all zeros\n",
      "  warnings.warn(\n"
     ]
    },
    {
     "name": "stdout",
     "output_type": "stream",
     "text": [
      "[CV] END model__colsample_bytree=0.8, model__gamma=0.5, model__learning_rate=0.05, model__max_depth=8, model__min_child_weight=5, model__n_estimators=500, model__reg_alpha=0.1, model__reg_lambda=0.1, model__subsample=0.7; total time=   3.8s\n"
     ]
    },
    {
     "name": "stderr",
     "output_type": "stream",
     "text": [
      "/home/wsl2ubuntuuser/.virtualenvs/nomination_predictor/lib/python3.12/site-packages/sklearn/preprocessing/_encoders.py:246: UserWarning: Found unknown categories in columns [0, 4, 9, 12, 17, 19, 21] during transform. These unknown categories will be encoded as all zeros\n",
      "  warnings.warn(\n"
     ]
    },
    {
     "name": "stdout",
     "output_type": "stream",
     "text": [
      "[CV] END model__colsample_bytree=0.8, model__gamma=0.5, model__learning_rate=0.05, model__max_depth=8, model__min_child_weight=5, model__n_estimators=500, model__reg_alpha=0.1, model__reg_lambda=0.1, model__subsample=0.7; total time=   3.4s\n"
     ]
    },
    {
     "name": "stderr",
     "output_type": "stream",
     "text": [
      "/home/wsl2ubuntuuser/.virtualenvs/nomination_predictor/lib/python3.12/site-packages/sklearn/preprocessing/_encoders.py:246: UserWarning: Found unknown categories in columns [1, 4, 9, 10, 11, 12, 14, 17, 19, 21] during transform. These unknown categories will be encoded as all zeros\n",
      "  warnings.warn(\n"
     ]
    },
    {
     "name": "stdout",
     "output_type": "stream",
     "text": [
      "[CV] END model__colsample_bytree=0.8, model__gamma=0.5, model__learning_rate=0.05, model__max_depth=8, model__min_child_weight=5, model__n_estimators=500, model__reg_alpha=0.1, model__reg_lambda=0.1, model__subsample=0.7; total time=   3.5s\n"
     ]
    },
    {
     "name": "stderr",
     "output_type": "stream",
     "text": [
      "/home/wsl2ubuntuuser/.virtualenvs/nomination_predictor/lib/python3.12/site-packages/sklearn/preprocessing/_encoders.py:246: UserWarning: Found unknown categories in columns [1, 4, 9, 11, 12, 13, 17, 19, 21] during transform. These unknown categories will be encoded as all zeros\n",
      "  warnings.warn(\n"
     ]
    },
    {
     "name": "stdout",
     "output_type": "stream",
     "text": [
      "[CV] END model__colsample_bytree=0.9, model__gamma=0.3, model__learning_rate=0.3, model__max_depth=10, model__min_child_weight=1, model__n_estimators=2000, model__reg_alpha=0.1, model__reg_lambda=0.5, model__subsample=1.0; total time=   5.2s\n"
     ]
    },
    {
     "name": "stderr",
     "output_type": "stream",
     "text": [
      "/home/wsl2ubuntuuser/.virtualenvs/nomination_predictor/lib/python3.12/site-packages/sklearn/preprocessing/_encoders.py:246: UserWarning: Found unknown categories in columns [0, 4, 9, 12, 17, 19, 21] during transform. These unknown categories will be encoded as all zeros\n",
      "  warnings.warn(\n"
     ]
    },
    {
     "name": "stdout",
     "output_type": "stream",
     "text": [
      "[CV] END model__colsample_bytree=0.9, model__gamma=0.3, model__learning_rate=0.3, model__max_depth=10, model__min_child_weight=1, model__n_estimators=2000, model__reg_alpha=0.1, model__reg_lambda=0.5, model__subsample=1.0; total time=   5.9s\n"
     ]
    },
    {
     "name": "stderr",
     "output_type": "stream",
     "text": [
      "/home/wsl2ubuntuuser/.virtualenvs/nomination_predictor/lib/python3.12/site-packages/sklearn/preprocessing/_encoders.py:246: UserWarning: Found unknown categories in columns [1, 4, 9, 10, 11, 12, 14, 17, 19, 21] during transform. These unknown categories will be encoded as all zeros\n",
      "  warnings.warn(\n"
     ]
    },
    {
     "name": "stdout",
     "output_type": "stream",
     "text": [
      "[CV] END model__colsample_bytree=0.9, model__gamma=0.3, model__learning_rate=0.3, model__max_depth=10, model__min_child_weight=1, model__n_estimators=2000, model__reg_alpha=0.1, model__reg_lambda=0.5, model__subsample=1.0; total time=   6.0s\n"
     ]
    },
    {
     "name": "stderr",
     "output_type": "stream",
     "text": [
      "/home/wsl2ubuntuuser/.virtualenvs/nomination_predictor/lib/python3.12/site-packages/sklearn/preprocessing/_encoders.py:246: UserWarning: Found unknown categories in columns [1, 4, 9, 11, 12, 13, 17, 19, 21] during transform. These unknown categories will be encoded as all zeros\n",
      "  warnings.warn(\n"
     ]
    },
    {
     "name": "stdout",
     "output_type": "stream",
     "text": [
      "[CV] END model__colsample_bytree=0.9, model__gamma=0.3, model__learning_rate=0.2, model__max_depth=9, model__min_child_weight=10, model__n_estimators=500, model__reg_alpha=0.1, model__reg_lambda=0.1, model__subsample=1.0; total time=   4.2s\n"
     ]
    },
    {
     "name": "stderr",
     "output_type": "stream",
     "text": [
      "/home/wsl2ubuntuuser/.virtualenvs/nomination_predictor/lib/python3.12/site-packages/sklearn/preprocessing/_encoders.py:246: UserWarning: Found unknown categories in columns [0, 4, 9, 12, 17, 19, 21] during transform. These unknown categories will be encoded as all zeros\n",
      "  warnings.warn(\n"
     ]
    },
    {
     "name": "stdout",
     "output_type": "stream",
     "text": [
      "[CV] END model__colsample_bytree=0.9, model__gamma=0.3, model__learning_rate=0.2, model__max_depth=9, model__min_child_weight=10, model__n_estimators=500, model__reg_alpha=0.1, model__reg_lambda=0.1, model__subsample=1.0; total time=   3.6s\n"
     ]
    },
    {
     "name": "stderr",
     "output_type": "stream",
     "text": [
      "/home/wsl2ubuntuuser/.virtualenvs/nomination_predictor/lib/python3.12/site-packages/sklearn/preprocessing/_encoders.py:246: UserWarning: Found unknown categories in columns [1, 4, 9, 10, 11, 12, 14, 17, 19, 21] during transform. These unknown categories will be encoded as all zeros\n",
      "  warnings.warn(\n"
     ]
    },
    {
     "name": "stdout",
     "output_type": "stream",
     "text": [
      "[CV] END model__colsample_bytree=0.9, model__gamma=0.3, model__learning_rate=0.2, model__max_depth=9, model__min_child_weight=10, model__n_estimators=500, model__reg_alpha=0.1, model__reg_lambda=0.1, model__subsample=1.0; total time=   3.4s\n"
     ]
    },
    {
     "name": "stderr",
     "output_type": "stream",
     "text": [
      "/home/wsl2ubuntuuser/.virtualenvs/nomination_predictor/lib/python3.12/site-packages/sklearn/preprocessing/_encoders.py:246: UserWarning: Found unknown categories in columns [1, 4, 9, 11, 12, 13, 17, 19, 21] during transform. These unknown categories will be encoded as all zeros\n",
      "  warnings.warn(\n"
     ]
    },
    {
     "name": "stdout",
     "output_type": "stream",
     "text": [
      "[CV] END model__colsample_bytree=0.9, model__gamma=0.3, model__learning_rate=0.2, model__max_depth=9, model__min_child_weight=7, model__n_estimators=3000, model__reg_alpha=2.0, model__reg_lambda=0.1, model__subsample=0.8; total time=   9.8s\n"
     ]
    },
    {
     "name": "stderr",
     "output_type": "stream",
     "text": [
      "/home/wsl2ubuntuuser/.virtualenvs/nomination_predictor/lib/python3.12/site-packages/sklearn/preprocessing/_encoders.py:246: UserWarning: Found unknown categories in columns [0, 4, 9, 12, 17, 19, 21] during transform. These unknown categories will be encoded as all zeros\n",
      "  warnings.warn(\n"
     ]
    },
    {
     "name": "stdout",
     "output_type": "stream",
     "text": [
      "[CV] END model__colsample_bytree=0.9, model__gamma=0.3, model__learning_rate=0.2, model__max_depth=9, model__min_child_weight=7, model__n_estimators=3000, model__reg_alpha=2.0, model__reg_lambda=0.1, model__subsample=0.8; total time=  10.7s\n"
     ]
    },
    {
     "name": "stderr",
     "output_type": "stream",
     "text": [
      "/home/wsl2ubuntuuser/.virtualenvs/nomination_predictor/lib/python3.12/site-packages/sklearn/preprocessing/_encoders.py:246: UserWarning: Found unknown categories in columns [1, 4, 9, 10, 11, 12, 14, 17, 19, 21] during transform. These unknown categories will be encoded as all zeros\n",
      "  warnings.warn(\n"
     ]
    },
    {
     "name": "stdout",
     "output_type": "stream",
     "text": [
      "[CV] END model__colsample_bytree=0.9, model__gamma=0.3, model__learning_rate=0.2, model__max_depth=9, model__min_child_weight=7, model__n_estimators=3000, model__reg_alpha=2.0, model__reg_lambda=0.1, model__subsample=0.8; total time=  10.4s\n"
     ]
    },
    {
     "name": "stderr",
     "output_type": "stream",
     "text": [
      "/home/wsl2ubuntuuser/.virtualenvs/nomination_predictor/lib/python3.12/site-packages/sklearn/preprocessing/_encoders.py:246: UserWarning: Found unknown categories in columns [1, 4, 9, 11, 12, 13, 17, 19, 21] during transform. These unknown categories will be encoded as all zeros\n",
      "  warnings.warn(\n"
     ]
    },
    {
     "name": "stdout",
     "output_type": "stream",
     "text": [
      "[CV] END model__colsample_bytree=0.9, model__gamma=0, model__learning_rate=0.15, model__max_depth=4, model__min_child_weight=5, model__n_estimators=1000, model__reg_alpha=0, model__reg_lambda=0.5, model__subsample=0.9; total time=   4.7s\n"
     ]
    },
    {
     "name": "stderr",
     "output_type": "stream",
     "text": [
      "/home/wsl2ubuntuuser/.virtualenvs/nomination_predictor/lib/python3.12/site-packages/sklearn/preprocessing/_encoders.py:246: UserWarning: Found unknown categories in columns [0, 4, 9, 12, 17, 19, 21] during transform. These unknown categories will be encoded as all zeros\n",
      "  warnings.warn(\n"
     ]
    },
    {
     "name": "stdout",
     "output_type": "stream",
     "text": [
      "[CV] END model__colsample_bytree=0.9, model__gamma=0, model__learning_rate=0.15, model__max_depth=4, model__min_child_weight=5, model__n_estimators=1000, model__reg_alpha=0, model__reg_lambda=0.5, model__subsample=0.9; total time=  41.3s\n"
     ]
    },
    {
     "name": "stderr",
     "output_type": "stream",
     "text": [
      "/home/wsl2ubuntuuser/.virtualenvs/nomination_predictor/lib/python3.12/site-packages/sklearn/preprocessing/_encoders.py:246: UserWarning: Found unknown categories in columns [1, 4, 9, 10, 11, 12, 14, 17, 19, 21] during transform. These unknown categories will be encoded as all zeros\n",
      "  warnings.warn(\n"
     ]
    },
    {
     "name": "stdout",
     "output_type": "stream",
     "text": [
      "[CV] END model__colsample_bytree=0.9, model__gamma=0, model__learning_rate=0.15, model__max_depth=4, model__min_child_weight=5, model__n_estimators=1000, model__reg_alpha=0, model__reg_lambda=0.5, model__subsample=0.9; total time= -31.7s\n"
     ]
    },
    {
     "name": "stderr",
     "output_type": "stream",
     "text": [
      "/home/wsl2ubuntuuser/.virtualenvs/nomination_predictor/lib/python3.12/site-packages/sklearn/preprocessing/_encoders.py:246: UserWarning: Found unknown categories in columns [1, 4, 9, 11, 12, 13, 17, 19, 21] during transform. These unknown categories will be encoded as all zeros\n",
      "  warnings.warn(\n"
     ]
    },
    {
     "name": "stdout",
     "output_type": "stream",
     "text": [
      "[CV] END model__colsample_bytree=0.7, model__gamma=0.3, model__learning_rate=0.01, model__max_depth=9, model__min_child_weight=10, model__n_estimators=500, model__reg_alpha=0.5, model__reg_lambda=0.5, model__subsample=1.0; total time= -32.3s\n"
     ]
    },
    {
     "name": "stderr",
     "output_type": "stream",
     "text": [
      "/home/wsl2ubuntuuser/.virtualenvs/nomination_predictor/lib/python3.12/site-packages/sklearn/preprocessing/_encoders.py:246: UserWarning: Found unknown categories in columns [0, 4, 9, 12, 17, 19, 21] during transform. These unknown categories will be encoded as all zeros\n",
      "  warnings.warn(\n"
     ]
    },
    {
     "name": "stdout",
     "output_type": "stream",
     "text": [
      "[CV] END model__colsample_bytree=0.7, model__gamma=0.3, model__learning_rate=0.01, model__max_depth=9, model__min_child_weight=10, model__n_estimators=500, model__reg_alpha=0.5, model__reg_lambda=0.5, model__subsample=1.0; total time=   4.4s\n"
     ]
    },
    {
     "name": "stderr",
     "output_type": "stream",
     "text": [
      "/home/wsl2ubuntuuser/.virtualenvs/nomination_predictor/lib/python3.12/site-packages/sklearn/preprocessing/_encoders.py:246: UserWarning: Found unknown categories in columns [1, 4, 9, 10, 11, 12, 14, 17, 19, 21] during transform. These unknown categories will be encoded as all zeros\n",
      "  warnings.warn(\n"
     ]
    },
    {
     "name": "stdout",
     "output_type": "stream",
     "text": [
      "[CV] END model__colsample_bytree=0.7, model__gamma=0.3, model__learning_rate=0.01, model__max_depth=9, model__min_child_weight=10, model__n_estimators=500, model__reg_alpha=0.5, model__reg_lambda=0.5, model__subsample=1.0; total time=   3.9s\n"
     ]
    },
    {
     "name": "stderr",
     "output_type": "stream",
     "text": [
      "/home/wsl2ubuntuuser/.virtualenvs/nomination_predictor/lib/python3.12/site-packages/sklearn/preprocessing/_encoders.py:246: UserWarning: Found unknown categories in columns [1, 4, 9, 11, 12, 13, 17, 19, 21] during transform. These unknown categories will be encoded as all zeros\n",
      "  warnings.warn(\n"
     ]
    },
    {
     "name": "stdout",
     "output_type": "stream",
     "text": [
      "[CV] END model__colsample_bytree=0.6, model__gamma=0, model__learning_rate=0.1, model__max_depth=5, model__min_child_weight=1, model__n_estimators=5000, model__reg_alpha=0, model__reg_lambda=2.0, model__subsample=0.9; total time=  28.2s\n"
     ]
    },
    {
     "name": "stderr",
     "output_type": "stream",
     "text": [
      "/home/wsl2ubuntuuser/.virtualenvs/nomination_predictor/lib/python3.12/site-packages/sklearn/preprocessing/_encoders.py:246: UserWarning: Found unknown categories in columns [0, 4, 9, 12, 17, 19, 21] during transform. These unknown categories will be encoded as all zeros\n",
      "  warnings.warn(\n"
     ]
    },
    {
     "name": "stdout",
     "output_type": "stream",
     "text": [
      "[CV] END model__colsample_bytree=0.6, model__gamma=0, model__learning_rate=0.1, model__max_depth=5, model__min_child_weight=1, model__n_estimators=5000, model__reg_alpha=0, model__reg_lambda=2.0, model__subsample=0.9; total time=  26.2s\n"
     ]
    },
    {
     "name": "stderr",
     "output_type": "stream",
     "text": [
      "/home/wsl2ubuntuuser/.virtualenvs/nomination_predictor/lib/python3.12/site-packages/sklearn/preprocessing/_encoders.py:246: UserWarning: Found unknown categories in columns [1, 4, 9, 10, 11, 12, 14, 17, 19, 21] during transform. These unknown categories will be encoded as all zeros\n",
      "  warnings.warn(\n"
     ]
    },
    {
     "name": "stdout",
     "output_type": "stream",
     "text": [
      "[CV] END model__colsample_bytree=0.6, model__gamma=0, model__learning_rate=0.1, model__max_depth=5, model__min_child_weight=1, model__n_estimators=5000, model__reg_alpha=0, model__reg_lambda=2.0, model__subsample=0.9; total time=  30.8s\n"
     ]
    },
    {
     "name": "stderr",
     "output_type": "stream",
     "text": [
      "/home/wsl2ubuntuuser/.virtualenvs/nomination_predictor/lib/python3.12/site-packages/sklearn/preprocessing/_encoders.py:246: UserWarning: Found unknown categories in columns [1, 4, 9, 11, 12, 13, 17, 19, 21] during transform. These unknown categories will be encoded as all zeros\n",
      "  warnings.warn(\n"
     ]
    },
    {
     "name": "stdout",
     "output_type": "stream",
     "text": [
      "[CV] END model__colsample_bytree=0.8, model__gamma=0, model__learning_rate=0.01, model__max_depth=9, model__min_child_weight=10, model__n_estimators=500, model__reg_alpha=0.1, model__reg_lambda=1.0, model__subsample=0.6; total time=   4.7s\n"
     ]
    },
    {
     "name": "stderr",
     "output_type": "stream",
     "text": [
      "/home/wsl2ubuntuuser/.virtualenvs/nomination_predictor/lib/python3.12/site-packages/sklearn/preprocessing/_encoders.py:246: UserWarning: Found unknown categories in columns [0, 4, 9, 12, 17, 19, 21] during transform. These unknown categories will be encoded as all zeros\n",
      "  warnings.warn(\n"
     ]
    },
    {
     "name": "stdout",
     "output_type": "stream",
     "text": [
      "[CV] END model__colsample_bytree=0.8, model__gamma=0, model__learning_rate=0.01, model__max_depth=9, model__min_child_weight=10, model__n_estimators=500, model__reg_alpha=0.1, model__reg_lambda=1.0, model__subsample=0.6; total time=   4.6s\n"
     ]
    },
    {
     "name": "stderr",
     "output_type": "stream",
     "text": [
      "/home/wsl2ubuntuuser/.virtualenvs/nomination_predictor/lib/python3.12/site-packages/sklearn/preprocessing/_encoders.py:246: UserWarning: Found unknown categories in columns [1, 4, 9, 10, 11, 12, 14, 17, 19, 21] during transform. These unknown categories will be encoded as all zeros\n",
      "  warnings.warn(\n"
     ]
    },
    {
     "name": "stdout",
     "output_type": "stream",
     "text": [
      "[CV] END model__colsample_bytree=0.8, model__gamma=0, model__learning_rate=0.01, model__max_depth=9, model__min_child_weight=10, model__n_estimators=500, model__reg_alpha=0.1, model__reg_lambda=1.0, model__subsample=0.6; total time=   5.3s\n"
     ]
    },
    {
     "name": "stderr",
     "output_type": "stream",
     "text": [
      "/home/wsl2ubuntuuser/.virtualenvs/nomination_predictor/lib/python3.12/site-packages/sklearn/preprocessing/_encoders.py:246: UserWarning: Found unknown categories in columns [1, 4, 9, 11, 12, 13, 17, 19, 21] during transform. These unknown categories will be encoded as all zeros\n",
      "  warnings.warn(\n"
     ]
    },
    {
     "name": "stdout",
     "output_type": "stream",
     "text": [
      "[CV] END model__colsample_bytree=0.9, model__gamma=0, model__learning_rate=0.05, model__max_depth=7, model__min_child_weight=1, model__n_estimators=5000, model__reg_alpha=0.5, model__reg_lambda=0.1, model__subsample=0.9; total time=  35.3s\n"
     ]
    },
    {
     "name": "stderr",
     "output_type": "stream",
     "text": [
      "/home/wsl2ubuntuuser/.virtualenvs/nomination_predictor/lib/python3.12/site-packages/sklearn/preprocessing/_encoders.py:246: UserWarning: Found unknown categories in columns [0, 4, 9, 12, 17, 19, 21] during transform. These unknown categories will be encoded as all zeros\n",
      "  warnings.warn(\n"
     ]
    },
    {
     "name": "stdout",
     "output_type": "stream",
     "text": [
      "[CV] END model__colsample_bytree=0.9, model__gamma=0, model__learning_rate=0.05, model__max_depth=7, model__min_child_weight=1, model__n_estimators=5000, model__reg_alpha=0.5, model__reg_lambda=0.1, model__subsample=0.9; total time=  34.3s\n"
     ]
    },
    {
     "name": "stderr",
     "output_type": "stream",
     "text": [
      "/home/wsl2ubuntuuser/.virtualenvs/nomination_predictor/lib/python3.12/site-packages/sklearn/preprocessing/_encoders.py:246: UserWarning: Found unknown categories in columns [1, 4, 9, 10, 11, 12, 14, 17, 19, 21] during transform. These unknown categories will be encoded as all zeros\n",
      "  warnings.warn(\n"
     ]
    },
    {
     "name": "stdout",
     "output_type": "stream",
     "text": [
      "[CV] END model__colsample_bytree=0.9, model__gamma=0, model__learning_rate=0.05, model__max_depth=7, model__min_child_weight=1, model__n_estimators=5000, model__reg_alpha=0.5, model__reg_lambda=0.1, model__subsample=0.9; total time= 1.2min\n"
     ]
    },
    {
     "name": "stderr",
     "output_type": "stream",
     "text": [
      "/home/wsl2ubuntuuser/.virtualenvs/nomination_predictor/lib/python3.12/site-packages/sklearn/preprocessing/_encoders.py:246: UserWarning: Found unknown categories in columns [1, 4, 9, 11, 12, 13, 17, 19, 21] during transform. These unknown categories will be encoded as all zeros\n",
      "  warnings.warn(\n"
     ]
    },
    {
     "name": "stdout",
     "output_type": "stream",
     "text": [
      "[CV] END model__colsample_bytree=0.9, model__gamma=0.3, model__learning_rate=0.3, model__max_depth=5, model__min_child_weight=1, model__n_estimators=500, model__reg_alpha=1.0, model__reg_lambda=2.0, model__subsample=0.9; total time= -33.6s\n"
     ]
    },
    {
     "name": "stderr",
     "output_type": "stream",
     "text": [
      "/home/wsl2ubuntuuser/.virtualenvs/nomination_predictor/lib/python3.12/site-packages/sklearn/preprocessing/_encoders.py:246: UserWarning: Found unknown categories in columns [0, 4, 9, 12, 17, 19, 21] during transform. These unknown categories will be encoded as all zeros\n",
      "  warnings.warn(\n"
     ]
    },
    {
     "name": "stdout",
     "output_type": "stream",
     "text": [
      "[CV] END model__colsample_bytree=0.9, model__gamma=0.3, model__learning_rate=0.3, model__max_depth=5, model__min_child_weight=1, model__n_estimators=500, model__reg_alpha=1.0, model__reg_lambda=2.0, model__subsample=0.9; total time=   3.4s\n"
     ]
    },
    {
     "name": "stderr",
     "output_type": "stream",
     "text": [
      "/home/wsl2ubuntuuser/.virtualenvs/nomination_predictor/lib/python3.12/site-packages/sklearn/preprocessing/_encoders.py:246: UserWarning: Found unknown categories in columns [1, 4, 9, 10, 11, 12, 14, 17, 19, 21] during transform. These unknown categories will be encoded as all zeros\n",
      "  warnings.warn(\n"
     ]
    },
    {
     "name": "stdout",
     "output_type": "stream",
     "text": [
      "[CV] END model__colsample_bytree=0.9, model__gamma=0.3, model__learning_rate=0.3, model__max_depth=5, model__min_child_weight=1, model__n_estimators=500, model__reg_alpha=1.0, model__reg_lambda=2.0, model__subsample=0.9; total time=   3.4s\n"
     ]
    },
    {
     "name": "stderr",
     "output_type": "stream",
     "text": [
      "/home/wsl2ubuntuuser/.virtualenvs/nomination_predictor/lib/python3.12/site-packages/sklearn/preprocessing/_encoders.py:246: UserWarning: Found unknown categories in columns [1, 4, 9, 11, 12, 13, 17, 19, 21] during transform. These unknown categories will be encoded as all zeros\n",
      "  warnings.warn(\n"
     ]
    },
    {
     "name": "stdout",
     "output_type": "stream",
     "text": [
      "[CV] END model__colsample_bytree=0.9, model__gamma=0.1, model__learning_rate=0.2, model__max_depth=4, model__min_child_weight=1, model__n_estimators=100, model__reg_alpha=0, model__reg_lambda=0.1, model__subsample=0.9; total time=   0.9s\n"
     ]
    },
    {
     "name": "stderr",
     "output_type": "stream",
     "text": [
      "/home/wsl2ubuntuuser/.virtualenvs/nomination_predictor/lib/python3.12/site-packages/sklearn/preprocessing/_encoders.py:246: UserWarning: Found unknown categories in columns [0, 4, 9, 12, 17, 19, 21] during transform. These unknown categories will be encoded as all zeros\n",
      "  warnings.warn(\n"
     ]
    },
    {
     "name": "stdout",
     "output_type": "stream",
     "text": [
      "[CV] END model__colsample_bytree=0.9, model__gamma=0.1, model__learning_rate=0.2, model__max_depth=4, model__min_child_weight=1, model__n_estimators=100, model__reg_alpha=0, model__reg_lambda=0.1, model__subsample=0.9; total time=   0.6s\n"
     ]
    },
    {
     "name": "stderr",
     "output_type": "stream",
     "text": [
      "/home/wsl2ubuntuuser/.virtualenvs/nomination_predictor/lib/python3.12/site-packages/sklearn/preprocessing/_encoders.py:246: UserWarning: Found unknown categories in columns [1, 4, 9, 10, 11, 12, 14, 17, 19, 21] during transform. These unknown categories will be encoded as all zeros\n",
      "  warnings.warn(\n"
     ]
    },
    {
     "name": "stdout",
     "output_type": "stream",
     "text": [
      "[CV] END model__colsample_bytree=0.9, model__gamma=0.1, model__learning_rate=0.2, model__max_depth=4, model__min_child_weight=1, model__n_estimators=100, model__reg_alpha=0, model__reg_lambda=0.1, model__subsample=0.9; total time=   0.6s\n"
     ]
    },
    {
     "name": "stderr",
     "output_type": "stream",
     "text": [
      "/home/wsl2ubuntuuser/.virtualenvs/nomination_predictor/lib/python3.12/site-packages/sklearn/preprocessing/_encoders.py:246: UserWarning: Found unknown categories in columns [1, 4, 9, 11, 12, 13, 17, 19, 21] during transform. These unknown categories will be encoded as all zeros\n",
      "  warnings.warn(\n"
     ]
    },
    {
     "name": "stdout",
     "output_type": "stream",
     "text": [
      "[CV] END model__colsample_bytree=1.0, model__gamma=0.2, model__learning_rate=0.15, model__max_depth=4, model__min_child_weight=7, model__n_estimators=3000, model__reg_alpha=0, model__reg_lambda=1.0, model__subsample=0.9; total time=  15.6s\n"
     ]
    },
    {
     "name": "stderr",
     "output_type": "stream",
     "text": [
      "/home/wsl2ubuntuuser/.virtualenvs/nomination_predictor/lib/python3.12/site-packages/sklearn/preprocessing/_encoders.py:246: UserWarning: Found unknown categories in columns [0, 4, 9, 12, 17, 19, 21] during transform. These unknown categories will be encoded as all zeros\n",
      "  warnings.warn(\n"
     ]
    },
    {
     "name": "stdout",
     "output_type": "stream",
     "text": [
      "[CV] END model__colsample_bytree=1.0, model__gamma=0.2, model__learning_rate=0.15, model__max_depth=4, model__min_child_weight=7, model__n_estimators=3000, model__reg_alpha=0, model__reg_lambda=1.0, model__subsample=0.9; total time=  15.9s\n"
     ]
    },
    {
     "name": "stderr",
     "output_type": "stream",
     "text": [
      "/home/wsl2ubuntuuser/.virtualenvs/nomination_predictor/lib/python3.12/site-packages/sklearn/preprocessing/_encoders.py:246: UserWarning: Found unknown categories in columns [1, 4, 9, 10, 11, 12, 14, 17, 19, 21] during transform. These unknown categories will be encoded as all zeros\n",
      "  warnings.warn(\n"
     ]
    },
    {
     "name": "stdout",
     "output_type": "stream",
     "text": [
      "[CV] END model__colsample_bytree=1.0, model__gamma=0.2, model__learning_rate=0.15, model__max_depth=4, model__min_child_weight=7, model__n_estimators=3000, model__reg_alpha=0, model__reg_lambda=1.0, model__subsample=0.9; total time=  15.0s\n"
     ]
    },
    {
     "name": "stderr",
     "output_type": "stream",
     "text": [
      "/home/wsl2ubuntuuser/.virtualenvs/nomination_predictor/lib/python3.12/site-packages/sklearn/preprocessing/_encoders.py:246: UserWarning: Found unknown categories in columns [1, 4, 9, 11, 12, 13, 17, 19, 21] during transform. These unknown categories will be encoded as all zeros\n",
      "  warnings.warn(\n"
     ]
    },
    {
     "name": "stdout",
     "output_type": "stream",
     "text": [
      "[CV] END model__colsample_bytree=0.8, model__gamma=0.5, model__learning_rate=0.2, model__max_depth=10, model__min_child_weight=10, model__n_estimators=5000, model__reg_alpha=2.0, model__reg_lambda=2.0, model__subsample=0.6; total time=  22.6s\n"
     ]
    },
    {
     "name": "stderr",
     "output_type": "stream",
     "text": [
      "/home/wsl2ubuntuuser/.virtualenvs/nomination_predictor/lib/python3.12/site-packages/sklearn/preprocessing/_encoders.py:246: UserWarning: Found unknown categories in columns [0, 4, 9, 12, 17, 19, 21] during transform. These unknown categories will be encoded as all zeros\n",
      "  warnings.warn(\n"
     ]
    },
    {
     "name": "stdout",
     "output_type": "stream",
     "text": [
      "[CV] END model__colsample_bytree=0.8, model__gamma=0.5, model__learning_rate=0.2, model__max_depth=10, model__min_child_weight=10, model__n_estimators=5000, model__reg_alpha=2.0, model__reg_lambda=2.0, model__subsample=0.6; total time=  23.3s\n"
     ]
    },
    {
     "name": "stderr",
     "output_type": "stream",
     "text": [
      "/home/wsl2ubuntuuser/.virtualenvs/nomination_predictor/lib/python3.12/site-packages/sklearn/preprocessing/_encoders.py:246: UserWarning: Found unknown categories in columns [1, 4, 9, 10, 11, 12, 14, 17, 19, 21] during transform. These unknown categories will be encoded as all zeros\n",
      "  warnings.warn(\n"
     ]
    },
    {
     "name": "stdout",
     "output_type": "stream",
     "text": [
      "[CV] END model__colsample_bytree=0.8, model__gamma=0.5, model__learning_rate=0.2, model__max_depth=10, model__min_child_weight=10, model__n_estimators=5000, model__reg_alpha=2.0, model__reg_lambda=2.0, model__subsample=0.6; total time=  17.1s\n"
     ]
    },
    {
     "name": "stderr",
     "output_type": "stream",
     "text": [
      "/home/wsl2ubuntuuser/.virtualenvs/nomination_predictor/lib/python3.12/site-packages/sklearn/preprocessing/_encoders.py:246: UserWarning: Found unknown categories in columns [1, 4, 9, 11, 12, 13, 17, 19, 21] during transform. These unknown categories will be encoded as all zeros\n",
      "  warnings.warn(\n"
     ]
    },
    {
     "name": "stdout",
     "output_type": "stream",
     "text": [
      "[CV] END model__colsample_bytree=1.0, model__gamma=0.5, model__learning_rate=0.2, model__max_depth=5, model__min_child_weight=10, model__n_estimators=1000, model__reg_alpha=0.5, model__reg_lambda=0.5, model__subsample=0.8; total time=   4.6s\n"
     ]
    },
    {
     "name": "stderr",
     "output_type": "stream",
     "text": [
      "/home/wsl2ubuntuuser/.virtualenvs/nomination_predictor/lib/python3.12/site-packages/sklearn/preprocessing/_encoders.py:246: UserWarning: Found unknown categories in columns [0, 4, 9, 12, 17, 19, 21] during transform. These unknown categories will be encoded as all zeros\n",
      "  warnings.warn(\n"
     ]
    },
    {
     "name": "stdout",
     "output_type": "stream",
     "text": [
      "[CV] END model__colsample_bytree=1.0, model__gamma=0.5, model__learning_rate=0.2, model__max_depth=5, model__min_child_weight=10, model__n_estimators=1000, model__reg_alpha=0.5, model__reg_lambda=0.5, model__subsample=0.8; total time=  40.9s\n"
     ]
    },
    {
     "name": "stderr",
     "output_type": "stream",
     "text": [
      "/home/wsl2ubuntuuser/.virtualenvs/nomination_predictor/lib/python3.12/site-packages/sklearn/preprocessing/_encoders.py:246: UserWarning: Found unknown categories in columns [1, 4, 9, 10, 11, 12, 14, 17, 19, 21] during transform. These unknown categories will be encoded as all zeros\n",
      "  warnings.warn(\n"
     ]
    },
    {
     "name": "stdout",
     "output_type": "stream",
     "text": [
      "[CV] END model__colsample_bytree=1.0, model__gamma=0.5, model__learning_rate=0.2, model__max_depth=5, model__min_child_weight=10, model__n_estimators=1000, model__reg_alpha=0.5, model__reg_lambda=0.5, model__subsample=0.8; total time= -32.5s\n"
     ]
    },
    {
     "name": "stderr",
     "output_type": "stream",
     "text": [
      "/home/wsl2ubuntuuser/.virtualenvs/nomination_predictor/lib/python3.12/site-packages/sklearn/preprocessing/_encoders.py:246: UserWarning: Found unknown categories in columns [1, 4, 9, 11, 12, 13, 17, 19, 21] during transform. These unknown categories will be encoded as all zeros\n",
      "  warnings.warn(\n"
     ]
    },
    {
     "name": "stdout",
     "output_type": "stream",
     "text": [
      "[CV] END model__colsample_bytree=0.8, model__gamma=0, model__learning_rate=0.1, model__max_depth=5, model__min_child_weight=10, model__n_estimators=2000, model__reg_alpha=0.5, model__reg_lambda=0, model__subsample=0.9; total time=   8.3s\n"
     ]
    },
    {
     "name": "stderr",
     "output_type": "stream",
     "text": [
      "/home/wsl2ubuntuuser/.virtualenvs/nomination_predictor/lib/python3.12/site-packages/sklearn/preprocessing/_encoders.py:246: UserWarning: Found unknown categories in columns [0, 4, 9, 12, 17, 19, 21] during transform. These unknown categories will be encoded as all zeros\n",
      "  warnings.warn(\n"
     ]
    },
    {
     "name": "stdout",
     "output_type": "stream",
     "text": [
      "[CV] END model__colsample_bytree=0.8, model__gamma=0, model__learning_rate=0.1, model__max_depth=5, model__min_child_weight=10, model__n_estimators=2000, model__reg_alpha=0.5, model__reg_lambda=0, model__subsample=0.9; total time=   8.9s\n"
     ]
    },
    {
     "name": "stderr",
     "output_type": "stream",
     "text": [
      "/home/wsl2ubuntuuser/.virtualenvs/nomination_predictor/lib/python3.12/site-packages/sklearn/preprocessing/_encoders.py:246: UserWarning: Found unknown categories in columns [1, 4, 9, 10, 11, 12, 14, 17, 19, 21] during transform. These unknown categories will be encoded as all zeros\n",
      "  warnings.warn(\n"
     ]
    },
    {
     "name": "stdout",
     "output_type": "stream",
     "text": [
      "[CV] END model__colsample_bytree=0.8, model__gamma=0, model__learning_rate=0.1, model__max_depth=5, model__min_child_weight=10, model__n_estimators=2000, model__reg_alpha=0.5, model__reg_lambda=0, model__subsample=0.9; total time=   8.8s\n"
     ]
    },
    {
     "name": "stderr",
     "output_type": "stream",
     "text": [
      "/home/wsl2ubuntuuser/.virtualenvs/nomination_predictor/lib/python3.12/site-packages/sklearn/preprocessing/_encoders.py:246: UserWarning: Found unknown categories in columns [1, 4, 9, 11, 12, 13, 17, 19, 21] during transform. These unknown categories will be encoded as all zeros\n",
      "  warnings.warn(\n"
     ]
    },
    {
     "name": "stdout",
     "output_type": "stream",
     "text": [
      "[CV] END model__colsample_bytree=1.0, model__gamma=0.3, model__learning_rate=0.01, model__max_depth=7, model__min_child_weight=1, model__n_estimators=1000, model__reg_alpha=0.1, model__reg_lambda=2.0, model__subsample=1.0; total time=   6.1s\n"
     ]
    },
    {
     "name": "stderr",
     "output_type": "stream",
     "text": [
      "/home/wsl2ubuntuuser/.virtualenvs/nomination_predictor/lib/python3.12/site-packages/sklearn/preprocessing/_encoders.py:246: UserWarning: Found unknown categories in columns [0, 4, 9, 12, 17, 19, 21] during transform. These unknown categories will be encoded as all zeros\n",
      "  warnings.warn(\n"
     ]
    },
    {
     "name": "stdout",
     "output_type": "stream",
     "text": [
      "[CV] END model__colsample_bytree=1.0, model__gamma=0.3, model__learning_rate=0.01, model__max_depth=7, model__min_child_weight=1, model__n_estimators=1000, model__reg_alpha=0.1, model__reg_lambda=2.0, model__subsample=1.0; total time=   5.9s\n"
     ]
    },
    {
     "name": "stderr",
     "output_type": "stream",
     "text": [
      "/home/wsl2ubuntuuser/.virtualenvs/nomination_predictor/lib/python3.12/site-packages/sklearn/preprocessing/_encoders.py:246: UserWarning: Found unknown categories in columns [1, 4, 9, 10, 11, 12, 14, 17, 19, 21] during transform. These unknown categories will be encoded as all zeros\n",
      "  warnings.warn(\n"
     ]
    },
    {
     "name": "stdout",
     "output_type": "stream",
     "text": [
      "[CV] END model__colsample_bytree=1.0, model__gamma=0.3, model__learning_rate=0.01, model__max_depth=7, model__min_child_weight=1, model__n_estimators=1000, model__reg_alpha=0.1, model__reg_lambda=2.0, model__subsample=1.0; total time=   6.6s\n"
     ]
    },
    {
     "name": "stderr",
     "output_type": "stream",
     "text": [
      "/home/wsl2ubuntuuser/.virtualenvs/nomination_predictor/lib/python3.12/site-packages/sklearn/preprocessing/_encoders.py:246: UserWarning: Found unknown categories in columns [1, 4, 9, 11, 12, 13, 17, 19, 21] during transform. These unknown categories will be encoded as all zeros\n",
      "  warnings.warn(\n"
     ]
    },
    {
     "name": "stdout",
     "output_type": "stream",
     "text": [
      "[CV] END model__colsample_bytree=0.8, model__gamma=0.5, model__learning_rate=0.05, model__max_depth=4, model__min_child_weight=10, model__n_estimators=5000, model__reg_alpha=2.0, model__reg_lambda=0.5, model__subsample=1.0; total time=  18.9s\n"
     ]
    },
    {
     "name": "stderr",
     "output_type": "stream",
     "text": [
      "/home/wsl2ubuntuuser/.virtualenvs/nomination_predictor/lib/python3.12/site-packages/sklearn/preprocessing/_encoders.py:246: UserWarning: Found unknown categories in columns [0, 4, 9, 12, 17, 19, 21] during transform. These unknown categories will be encoded as all zeros\n",
      "  warnings.warn(\n"
     ]
    },
    {
     "name": "stdout",
     "output_type": "stream",
     "text": [
      "[CV] END model__colsample_bytree=0.8, model__gamma=0.5, model__learning_rate=0.05, model__max_depth=4, model__min_child_weight=10, model__n_estimators=5000, model__reg_alpha=2.0, model__reg_lambda=0.5, model__subsample=1.0; total time=  19.3s\n"
     ]
    },
    {
     "name": "stderr",
     "output_type": "stream",
     "text": [
      "/home/wsl2ubuntuuser/.virtualenvs/nomination_predictor/lib/python3.12/site-packages/sklearn/preprocessing/_encoders.py:246: UserWarning: Found unknown categories in columns [1, 4, 9, 10, 11, 12, 14, 17, 19, 21] during transform. These unknown categories will be encoded as all zeros\n",
      "  warnings.warn(\n"
     ]
    },
    {
     "name": "stdout",
     "output_type": "stream",
     "text": [
      "[CV] END model__colsample_bytree=0.8, model__gamma=0.5, model__learning_rate=0.05, model__max_depth=4, model__min_child_weight=10, model__n_estimators=5000, model__reg_alpha=2.0, model__reg_lambda=0.5, model__subsample=1.0; total time=  18.9s\n"
     ]
    },
    {
     "name": "stderr",
     "output_type": "stream",
     "text": [
      "/home/wsl2ubuntuuser/.virtualenvs/nomination_predictor/lib/python3.12/site-packages/sklearn/preprocessing/_encoders.py:246: UserWarning: Found unknown categories in columns [1, 4, 9, 11, 12, 13, 17, 19, 21] during transform. These unknown categories will be encoded as all zeros\n",
      "  warnings.warn(\n"
     ]
    },
    {
     "name": "stdout",
     "output_type": "stream",
     "text": [
      "[CV] END model__colsample_bytree=0.7, model__gamma=0.5, model__learning_rate=0.3, model__max_depth=3, model__min_child_weight=10, model__n_estimators=2000, model__reg_alpha=0.1, model__reg_lambda=1.0, model__subsample=0.6; total time=   7.4s\n"
     ]
    },
    {
     "name": "stderr",
     "output_type": "stream",
     "text": [
      "/home/wsl2ubuntuuser/.virtualenvs/nomination_predictor/lib/python3.12/site-packages/sklearn/preprocessing/_encoders.py:246: UserWarning: Found unknown categories in columns [0, 4, 9, 12, 17, 19, 21] during transform. These unknown categories will be encoded as all zeros\n",
      "  warnings.warn(\n"
     ]
    },
    {
     "name": "stdout",
     "output_type": "stream",
     "text": [
      "[CV] END model__colsample_bytree=0.7, model__gamma=0.5, model__learning_rate=0.3, model__max_depth=3, model__min_child_weight=10, model__n_estimators=2000, model__reg_alpha=0.1, model__reg_lambda=1.0, model__subsample=0.6; total time=   6.4s\n"
     ]
    },
    {
     "name": "stderr",
     "output_type": "stream",
     "text": [
      "/home/wsl2ubuntuuser/.virtualenvs/nomination_predictor/lib/python3.12/site-packages/sklearn/preprocessing/_encoders.py:246: UserWarning: Found unknown categories in columns [1, 4, 9, 10, 11, 12, 14, 17, 19, 21] during transform. These unknown categories will be encoded as all zeros\n",
      "  warnings.warn(\n"
     ]
    },
    {
     "name": "stdout",
     "output_type": "stream",
     "text": [
      "[CV] END model__colsample_bytree=0.7, model__gamma=0.5, model__learning_rate=0.3, model__max_depth=3, model__min_child_weight=10, model__n_estimators=2000, model__reg_alpha=0.1, model__reg_lambda=1.0, model__subsample=0.6; total time=   6.7s\n"
     ]
    },
    {
     "name": "stderr",
     "output_type": "stream",
     "text": [
      "/home/wsl2ubuntuuser/.virtualenvs/nomination_predictor/lib/python3.12/site-packages/sklearn/preprocessing/_encoders.py:246: UserWarning: Found unknown categories in columns [1, 4, 9, 11, 12, 13, 17, 19, 21] during transform. These unknown categories will be encoded as all zeros\n",
      "  warnings.warn(\n"
     ]
    },
    {
     "name": "stdout",
     "output_type": "stream",
     "text": [
      "[CV] END model__colsample_bytree=0.8, model__gamma=0.2, model__learning_rate=0.2, model__max_depth=9, model__min_child_weight=7, model__n_estimators=5000, model__reg_alpha=0.1, model__reg_lambda=0.5, model__subsample=0.9; total time=  13.1s\n"
     ]
    },
    {
     "name": "stderr",
     "output_type": "stream",
     "text": [
      "/home/wsl2ubuntuuser/.virtualenvs/nomination_predictor/lib/python3.12/site-packages/sklearn/preprocessing/_encoders.py:246: UserWarning: Found unknown categories in columns [0, 4, 9, 12, 17, 19, 21] during transform. These unknown categories will be encoded as all zeros\n",
      "  warnings.warn(\n"
     ]
    },
    {
     "name": "stdout",
     "output_type": "stream",
     "text": [
      "[CV] END model__colsample_bytree=0.8, model__gamma=0.2, model__learning_rate=0.2, model__max_depth=9, model__min_child_weight=7, model__n_estimators=5000, model__reg_alpha=0.1, model__reg_lambda=0.5, model__subsample=0.9; total time=  13.0s\n"
     ]
    },
    {
     "name": "stderr",
     "output_type": "stream",
     "text": [
      "/home/wsl2ubuntuuser/.virtualenvs/nomination_predictor/lib/python3.12/site-packages/sklearn/preprocessing/_encoders.py:246: UserWarning: Found unknown categories in columns [1, 4, 9, 10, 11, 12, 14, 17, 19, 21] during transform. These unknown categories will be encoded as all zeros\n",
      "  warnings.warn(\n"
     ]
    },
    {
     "name": "stdout",
     "output_type": "stream",
     "text": [
      "[CV] END model__colsample_bytree=0.8, model__gamma=0.2, model__learning_rate=0.2, model__max_depth=9, model__min_child_weight=7, model__n_estimators=5000, model__reg_alpha=0.1, model__reg_lambda=0.5, model__subsample=0.9; total time=  12.9s\n"
     ]
    },
    {
     "name": "stderr",
     "output_type": "stream",
     "text": [
      "/home/wsl2ubuntuuser/.virtualenvs/nomination_predictor/lib/python3.12/site-packages/sklearn/preprocessing/_encoders.py:246: UserWarning: Found unknown categories in columns [1, 4, 9, 11, 12, 13, 17, 19, 21] during transform. These unknown categories will be encoded as all zeros\n",
      "  warnings.warn(\n"
     ]
    },
    {
     "name": "stdout",
     "output_type": "stream",
     "text": [
      "[CV] END model__colsample_bytree=1.0, model__gamma=0.1, model__learning_rate=0.2, model__max_depth=5, model__min_child_weight=7, model__n_estimators=2000, model__reg_alpha=0.5, model__reg_lambda=2.0, model__subsample=0.8; total time=   7.4s\n"
     ]
    },
    {
     "name": "stderr",
     "output_type": "stream",
     "text": [
      "/home/wsl2ubuntuuser/.virtualenvs/nomination_predictor/lib/python3.12/site-packages/sklearn/preprocessing/_encoders.py:246: UserWarning: Found unknown categories in columns [0, 4, 9, 12, 17, 19, 21] during transform. These unknown categories will be encoded as all zeros\n",
      "  warnings.warn(\n"
     ]
    },
    {
     "name": "stdout",
     "output_type": "stream",
     "text": [
      "[CV] END model__colsample_bytree=1.0, model__gamma=0.1, model__learning_rate=0.2, model__max_depth=5, model__min_child_weight=7, model__n_estimators=2000, model__reg_alpha=0.5, model__reg_lambda=2.0, model__subsample=0.8; total time=   7.6s\n"
     ]
    },
    {
     "name": "stderr",
     "output_type": "stream",
     "text": [
      "/home/wsl2ubuntuuser/.virtualenvs/nomination_predictor/lib/python3.12/site-packages/sklearn/preprocessing/_encoders.py:246: UserWarning: Found unknown categories in columns [1, 4, 9, 10, 11, 12, 14, 17, 19, 21] during transform. These unknown categories will be encoded as all zeros\n",
      "  warnings.warn(\n"
     ]
    },
    {
     "name": "stdout",
     "output_type": "stream",
     "text": [
      "[CV] END model__colsample_bytree=1.0, model__gamma=0.1, model__learning_rate=0.2, model__max_depth=5, model__min_child_weight=7, model__n_estimators=2000, model__reg_alpha=0.5, model__reg_lambda=2.0, model__subsample=0.8; total time=   9.0s\n"
     ]
    },
    {
     "name": "stderr",
     "output_type": "stream",
     "text": [
      "/home/wsl2ubuntuuser/.virtualenvs/nomination_predictor/lib/python3.12/site-packages/sklearn/preprocessing/_encoders.py:246: UserWarning: Found unknown categories in columns [1, 4, 9, 11, 12, 13, 17, 19, 21] during transform. These unknown categories will be encoded as all zeros\n",
      "  warnings.warn(\n"
     ]
    },
    {
     "name": "stdout",
     "output_type": "stream",
     "text": [
      "[CV] END model__colsample_bytree=0.6, model__gamma=0.1, model__learning_rate=0.15, model__max_depth=3, model__min_child_weight=5, model__n_estimators=1000, model__reg_alpha=1.0, model__reg_lambda=0.5, model__subsample=0.7; total time=   4.6s\n"
     ]
    },
    {
     "name": "stderr",
     "output_type": "stream",
     "text": [
      "/home/wsl2ubuntuuser/.virtualenvs/nomination_predictor/lib/python3.12/site-packages/sklearn/preprocessing/_encoders.py:246: UserWarning: Found unknown categories in columns [0, 4, 9, 12, 17, 19, 21] during transform. These unknown categories will be encoded as all zeros\n",
      "  warnings.warn(\n"
     ]
    },
    {
     "name": "stdout",
     "output_type": "stream",
     "text": [
      "[CV] END model__colsample_bytree=0.6, model__gamma=0.1, model__learning_rate=0.15, model__max_depth=3, model__min_child_weight=5, model__n_estimators=1000, model__reg_alpha=1.0, model__reg_lambda=0.5, model__subsample=0.7; total time=   4.5s\n"
     ]
    },
    {
     "name": "stderr",
     "output_type": "stream",
     "text": [
      "/home/wsl2ubuntuuser/.virtualenvs/nomination_predictor/lib/python3.12/site-packages/sklearn/preprocessing/_encoders.py:246: UserWarning: Found unknown categories in columns [1, 4, 9, 10, 11, 12, 14, 17, 19, 21] during transform. These unknown categories will be encoded as all zeros\n",
      "  warnings.warn(\n"
     ]
    },
    {
     "name": "stdout",
     "output_type": "stream",
     "text": [
      "[CV] END model__colsample_bytree=0.6, model__gamma=0.1, model__learning_rate=0.15, model__max_depth=3, model__min_child_weight=5, model__n_estimators=1000, model__reg_alpha=1.0, model__reg_lambda=0.5, model__subsample=0.7; total time=   5.6s\n"
     ]
    },
    {
     "name": "stderr",
     "output_type": "stream",
     "text": [
      "/home/wsl2ubuntuuser/.virtualenvs/nomination_predictor/lib/python3.12/site-packages/sklearn/preprocessing/_encoders.py:246: UserWarning: Found unknown categories in columns [1, 4, 9, 11, 12, 13, 17, 19, 21] during transform. These unknown categories will be encoded as all zeros\n",
      "  warnings.warn(\n"
     ]
    },
    {
     "name": "stdout",
     "output_type": "stream",
     "text": [
      "[CV] END model__colsample_bytree=0.9, model__gamma=0.5, model__learning_rate=0.3, model__max_depth=6, model__min_child_weight=10, model__n_estimators=2000, model__reg_alpha=1.0, model__reg_lambda=0, model__subsample=0.8; total time=   9.2s\n"
     ]
    },
    {
     "name": "stderr",
     "output_type": "stream",
     "text": [
      "/home/wsl2ubuntuuser/.virtualenvs/nomination_predictor/lib/python3.12/site-packages/sklearn/preprocessing/_encoders.py:246: UserWarning: Found unknown categories in columns [0, 4, 9, 12, 17, 19, 21] during transform. These unknown categories will be encoded as all zeros\n",
      "  warnings.warn(\n"
     ]
    },
    {
     "name": "stdout",
     "output_type": "stream",
     "text": [
      "[CV] END model__colsample_bytree=0.9, model__gamma=0.5, model__learning_rate=0.3, model__max_depth=6, model__min_child_weight=10, model__n_estimators=2000, model__reg_alpha=1.0, model__reg_lambda=0, model__subsample=0.8; total time=   9.6s\n"
     ]
    },
    {
     "name": "stderr",
     "output_type": "stream",
     "text": [
      "/home/wsl2ubuntuuser/.virtualenvs/nomination_predictor/lib/python3.12/site-packages/sklearn/preprocessing/_encoders.py:246: UserWarning: Found unknown categories in columns [1, 4, 9, 10, 11, 12, 14, 17, 19, 21] during transform. These unknown categories will be encoded as all zeros\n",
      "  warnings.warn(\n"
     ]
    },
    {
     "name": "stdout",
     "output_type": "stream",
     "text": [
      "[CV] END model__colsample_bytree=0.9, model__gamma=0.5, model__learning_rate=0.3, model__max_depth=6, model__min_child_weight=10, model__n_estimators=2000, model__reg_alpha=1.0, model__reg_lambda=0, model__subsample=0.8; total time=   8.2s\n"
     ]
    },
    {
     "name": "stderr",
     "output_type": "stream",
     "text": [
      "/home/wsl2ubuntuuser/.virtualenvs/nomination_predictor/lib/python3.12/site-packages/sklearn/preprocessing/_encoders.py:246: UserWarning: Found unknown categories in columns [1, 4, 9, 11, 12, 13, 17, 19, 21] during transform. These unknown categories will be encoded as all zeros\n",
      "  warnings.warn(\n"
     ]
    },
    {
     "name": "stdout",
     "output_type": "stream",
     "text": [
      "[CV] END model__colsample_bytree=0.8, model__gamma=0.1, model__learning_rate=0.15, model__max_depth=9, model__min_child_weight=10, model__n_estimators=100, model__reg_alpha=0, model__reg_lambda=0.1, model__subsample=0.6; total time=   1.2s\n"
     ]
    },
    {
     "name": "stderr",
     "output_type": "stream",
     "text": [
      "/home/wsl2ubuntuuser/.virtualenvs/nomination_predictor/lib/python3.12/site-packages/sklearn/preprocessing/_encoders.py:246: UserWarning: Found unknown categories in columns [0, 4, 9, 12, 17, 19, 21] during transform. These unknown categories will be encoded as all zeros\n",
      "  warnings.warn(\n"
     ]
    },
    {
     "name": "stdout",
     "output_type": "stream",
     "text": [
      "[CV] END model__colsample_bytree=0.8, model__gamma=0.1, model__learning_rate=0.15, model__max_depth=9, model__min_child_weight=10, model__n_estimators=100, model__reg_alpha=0, model__reg_lambda=0.1, model__subsample=0.6; total time=   1.2s\n"
     ]
    },
    {
     "name": "stderr",
     "output_type": "stream",
     "text": [
      "/home/wsl2ubuntuuser/.virtualenvs/nomination_predictor/lib/python3.12/site-packages/sklearn/preprocessing/_encoders.py:246: UserWarning: Found unknown categories in columns [1, 4, 9, 10, 11, 12, 14, 17, 19, 21] during transform. These unknown categories will be encoded as all zeros\n",
      "  warnings.warn(\n"
     ]
    },
    {
     "name": "stdout",
     "output_type": "stream",
     "text": [
      "[CV] END model__colsample_bytree=0.8, model__gamma=0.1, model__learning_rate=0.15, model__max_depth=9, model__min_child_weight=10, model__n_estimators=100, model__reg_alpha=0, model__reg_lambda=0.1, model__subsample=0.6; total time=   0.9s\n"
     ]
    },
    {
     "name": "stderr",
     "output_type": "stream",
     "text": [
      "/home/wsl2ubuntuuser/.virtualenvs/nomination_predictor/lib/python3.12/site-packages/sklearn/preprocessing/_encoders.py:246: UserWarning: Found unknown categories in columns [1, 4, 9, 11, 12, 13, 17, 19, 21] during transform. These unknown categories will be encoded as all zeros\n",
      "  warnings.warn(\n"
     ]
    },
    {
     "name": "stdout",
     "output_type": "stream",
     "text": [
      "[CV] END model__colsample_bytree=0.8, model__gamma=0.2, model__learning_rate=0.2, model__max_depth=8, model__min_child_weight=1, model__n_estimators=5000, model__reg_alpha=0.5, model__reg_lambda=0.5, model__subsample=0.6; total time=  18.7s\n"
     ]
    },
    {
     "name": "stderr",
     "output_type": "stream",
     "text": [
      "/home/wsl2ubuntuuser/.virtualenvs/nomination_predictor/lib/python3.12/site-packages/sklearn/preprocessing/_encoders.py:246: UserWarning: Found unknown categories in columns [0, 4, 9, 12, 17, 19, 21] during transform. These unknown categories will be encoded as all zeros\n",
      "  warnings.warn(\n"
     ]
    },
    {
     "name": "stdout",
     "output_type": "stream",
     "text": [
      "[CV] END model__colsample_bytree=0.8, model__gamma=0.2, model__learning_rate=0.2, model__max_depth=8, model__min_child_weight=1, model__n_estimators=5000, model__reg_alpha=0.5, model__reg_lambda=0.5, model__subsample=0.6; total time=  17.6s\n"
     ]
    },
    {
     "name": "stderr",
     "output_type": "stream",
     "text": [
      "/home/wsl2ubuntuuser/.virtualenvs/nomination_predictor/lib/python3.12/site-packages/sklearn/preprocessing/_encoders.py:246: UserWarning: Found unknown categories in columns [1, 4, 9, 10, 11, 12, 14, 17, 19, 21] during transform. These unknown categories will be encoded as all zeros\n",
      "  warnings.warn(\n"
     ]
    },
    {
     "name": "stdout",
     "output_type": "stream",
     "text": [
      "[CV] END model__colsample_bytree=0.8, model__gamma=0.2, model__learning_rate=0.2, model__max_depth=8, model__min_child_weight=1, model__n_estimators=5000, model__reg_alpha=0.5, model__reg_lambda=0.5, model__subsample=0.6; total time=  17.9s\n"
     ]
    },
    {
     "name": "stderr",
     "output_type": "stream",
     "text": [
      "/home/wsl2ubuntuuser/.virtualenvs/nomination_predictor/lib/python3.12/site-packages/sklearn/preprocessing/_encoders.py:246: UserWarning: Found unknown categories in columns [1, 4, 9, 11, 12, 13, 17, 19, 21] during transform. These unknown categories will be encoded as all zeros\n",
      "  warnings.warn(\n"
     ]
    },
    {
     "name": "stdout",
     "output_type": "stream",
     "text": [
      "[CV] END model__colsample_bytree=0.6, model__gamma=0.1, model__learning_rate=0.01, model__max_depth=7, model__min_child_weight=5, model__n_estimators=1000, model__reg_alpha=0, model__reg_lambda=1.0, model__subsample=1.0; total time=   7.6s\n"
     ]
    },
    {
     "name": "stderr",
     "output_type": "stream",
     "text": [
      "/home/wsl2ubuntuuser/.virtualenvs/nomination_predictor/lib/python3.12/site-packages/sklearn/preprocessing/_encoders.py:246: UserWarning: Found unknown categories in columns [0, 4, 9, 12, 17, 19, 21] during transform. These unknown categories will be encoded as all zeros\n",
      "  warnings.warn(\n"
     ]
    },
    {
     "name": "stdout",
     "output_type": "stream",
     "text": [
      "[CV] END model__colsample_bytree=0.6, model__gamma=0.1, model__learning_rate=0.01, model__max_depth=7, model__min_child_weight=5, model__n_estimators=1000, model__reg_alpha=0, model__reg_lambda=1.0, model__subsample=1.0; total time=   7.1s\n"
     ]
    },
    {
     "name": "stderr",
     "output_type": "stream",
     "text": [
      "/home/wsl2ubuntuuser/.virtualenvs/nomination_predictor/lib/python3.12/site-packages/sklearn/preprocessing/_encoders.py:246: UserWarning: Found unknown categories in columns [1, 4, 9, 10, 11, 12, 14, 17, 19, 21] during transform. These unknown categories will be encoded as all zeros\n",
      "  warnings.warn(\n"
     ]
    },
    {
     "name": "stdout",
     "output_type": "stream",
     "text": [
      "[CV] END model__colsample_bytree=0.6, model__gamma=0.1, model__learning_rate=0.01, model__max_depth=7, model__min_child_weight=5, model__n_estimators=1000, model__reg_alpha=0, model__reg_lambda=1.0, model__subsample=1.0; total time=   8.0s\n"
     ]
    },
    {
     "name": "stderr",
     "output_type": "stream",
     "text": [
      "/home/wsl2ubuntuuser/.virtualenvs/nomination_predictor/lib/python3.12/site-packages/sklearn/preprocessing/_encoders.py:246: UserWarning: Found unknown categories in columns [1, 4, 9, 11, 12, 13, 17, 19, 21] during transform. These unknown categories will be encoded as all zeros\n",
      "  warnings.warn(\n"
     ]
    },
    {
     "name": "stdout",
     "output_type": "stream",
     "text": [
      "[CV] END model__colsample_bytree=0.8, model__gamma=0.5, model__learning_rate=0.2, model__max_depth=7, model__min_child_weight=10, model__n_estimators=3000, model__reg_alpha=0, model__reg_lambda=0.1, model__subsample=0.6; total time=  12.6s\n"
     ]
    },
    {
     "name": "stderr",
     "output_type": "stream",
     "text": [
      "/home/wsl2ubuntuuser/.virtualenvs/nomination_predictor/lib/python3.12/site-packages/sklearn/preprocessing/_encoders.py:246: UserWarning: Found unknown categories in columns [0, 4, 9, 12, 17, 19, 21] during transform. These unknown categories will be encoded as all zeros\n",
      "  warnings.warn(\n"
     ]
    },
    {
     "name": "stdout",
     "output_type": "stream",
     "text": [
      "[CV] END model__colsample_bytree=0.8, model__gamma=0.5, model__learning_rate=0.2, model__max_depth=7, model__min_child_weight=10, model__n_estimators=3000, model__reg_alpha=0, model__reg_lambda=0.1, model__subsample=0.6; total time=  11.9s\n"
     ]
    },
    {
     "name": "stderr",
     "output_type": "stream",
     "text": [
      "/home/wsl2ubuntuuser/.virtualenvs/nomination_predictor/lib/python3.12/site-packages/sklearn/preprocessing/_encoders.py:246: UserWarning: Found unknown categories in columns [1, 4, 9, 10, 11, 12, 14, 17, 19, 21] during transform. These unknown categories will be encoded as all zeros\n",
      "  warnings.warn(\n"
     ]
    },
    {
     "name": "stdout",
     "output_type": "stream",
     "text": [
      "[CV] END model__colsample_bytree=0.8, model__gamma=0.5, model__learning_rate=0.2, model__max_depth=7, model__min_child_weight=10, model__n_estimators=3000, model__reg_alpha=0, model__reg_lambda=0.1, model__subsample=0.6; total time=  11.7s\n"
     ]
    },
    {
     "name": "stderr",
     "output_type": "stream",
     "text": [
      "/home/wsl2ubuntuuser/.virtualenvs/nomination_predictor/lib/python3.12/site-packages/sklearn/preprocessing/_encoders.py:246: UserWarning: Found unknown categories in columns [1, 4, 9, 11, 12, 13, 17, 19, 21] during transform. These unknown categories will be encoded as all zeros\n",
      "  warnings.warn(\n"
     ]
    },
    {
     "name": "stdout",
     "output_type": "stream",
     "text": [
      "[CV] END model__colsample_bytree=0.7, model__gamma=0.2, model__learning_rate=0.01, model__max_depth=6, model__min_child_weight=1, model__n_estimators=2000, model__reg_alpha=2.0, model__reg_lambda=1.0, model__subsample=0.7; total time=  13.7s\n"
     ]
    },
    {
     "name": "stderr",
     "output_type": "stream",
     "text": [
      "/home/wsl2ubuntuuser/.virtualenvs/nomination_predictor/lib/python3.12/site-packages/sklearn/preprocessing/_encoders.py:246: UserWarning: Found unknown categories in columns [0, 4, 9, 12, 17, 19, 21] during transform. These unknown categories will be encoded as all zeros\n",
      "  warnings.warn(\n"
     ]
    },
    {
     "name": "stdout",
     "output_type": "stream",
     "text": [
      "[CV] END model__colsample_bytree=0.7, model__gamma=0.2, model__learning_rate=0.01, model__max_depth=6, model__min_child_weight=1, model__n_estimators=2000, model__reg_alpha=2.0, model__reg_lambda=1.0, model__subsample=0.7; total time=  13.4s\n"
     ]
    },
    {
     "name": "stderr",
     "output_type": "stream",
     "text": [
      "/home/wsl2ubuntuuser/.virtualenvs/nomination_predictor/lib/python3.12/site-packages/sklearn/preprocessing/_encoders.py:246: UserWarning: Found unknown categories in columns [1, 4, 9, 10, 11, 12, 14, 17, 19, 21] during transform. These unknown categories will be encoded as all zeros\n",
      "  warnings.warn(\n"
     ]
    },
    {
     "name": "stdout",
     "output_type": "stream",
     "text": [
      "[CV] END model__colsample_bytree=0.7, model__gamma=0.2, model__learning_rate=0.01, model__max_depth=6, model__min_child_weight=1, model__n_estimators=2000, model__reg_alpha=2.0, model__reg_lambda=1.0, model__subsample=0.7; total time=  12.0s\n"
     ]
    },
    {
     "name": "stderr",
     "output_type": "stream",
     "text": [
      "/home/wsl2ubuntuuser/.virtualenvs/nomination_predictor/lib/python3.12/site-packages/sklearn/preprocessing/_encoders.py:246: UserWarning: Found unknown categories in columns [1, 4, 9, 11, 12, 13, 17, 19, 21] during transform. These unknown categories will be encoded as all zeros\n",
      "  warnings.warn(\n"
     ]
    },
    {
     "name": "stdout",
     "output_type": "stream",
     "text": [
      "[CV] END model__colsample_bytree=1.0, model__gamma=0, model__learning_rate=0.3, model__max_depth=8, model__min_child_weight=1, model__n_estimators=3000, model__reg_alpha=0.5, model__reg_lambda=1.0, model__subsample=0.6; total time=  11.4s\n"
     ]
    },
    {
     "name": "stderr",
     "output_type": "stream",
     "text": [
      "/home/wsl2ubuntuuser/.virtualenvs/nomination_predictor/lib/python3.12/site-packages/sklearn/preprocessing/_encoders.py:246: UserWarning: Found unknown categories in columns [0, 4, 9, 12, 17, 19, 21] during transform. These unknown categories will be encoded as all zeros\n",
      "  warnings.warn(\n"
     ]
    },
    {
     "name": "stdout",
     "output_type": "stream",
     "text": [
      "[CV] END model__colsample_bytree=1.0, model__gamma=0, model__learning_rate=0.3, model__max_depth=8, model__min_child_weight=1, model__n_estimators=3000, model__reg_alpha=0.5, model__reg_lambda=1.0, model__subsample=0.6; total time=  12.4s\n"
     ]
    },
    {
     "name": "stderr",
     "output_type": "stream",
     "text": [
      "/home/wsl2ubuntuuser/.virtualenvs/nomination_predictor/lib/python3.12/site-packages/sklearn/preprocessing/_encoders.py:246: UserWarning: Found unknown categories in columns [1, 4, 9, 10, 11, 12, 14, 17, 19, 21] during transform. These unknown categories will be encoded as all zeros\n",
      "  warnings.warn(\n"
     ]
    },
    {
     "name": "stdout",
     "output_type": "stream",
     "text": [
      "[CV] END model__colsample_bytree=1.0, model__gamma=0, model__learning_rate=0.3, model__max_depth=8, model__min_child_weight=1, model__n_estimators=3000, model__reg_alpha=0.5, model__reg_lambda=1.0, model__subsample=0.6; total time=  12.8s\n"
     ]
    },
    {
     "name": "stderr",
     "output_type": "stream",
     "text": [
      "/home/wsl2ubuntuuser/.virtualenvs/nomination_predictor/lib/python3.12/site-packages/sklearn/preprocessing/_encoders.py:246: UserWarning: Found unknown categories in columns [1, 4, 9, 11, 12, 13, 17, 19, 21] during transform. These unknown categories will be encoded as all zeros\n",
      "  warnings.warn(\n"
     ]
    },
    {
     "name": "stdout",
     "output_type": "stream",
     "text": [
      "[CV] END model__colsample_bytree=0.7, model__gamma=0, model__learning_rate=0.2, model__max_depth=10, model__min_child_weight=1, model__n_estimators=3000, model__reg_alpha=0.1, model__reg_lambda=2.0, model__subsample=0.8; total time=  16.6s\n"
     ]
    },
    {
     "name": "stderr",
     "output_type": "stream",
     "text": [
      "/home/wsl2ubuntuuser/.virtualenvs/nomination_predictor/lib/python3.12/site-packages/sklearn/preprocessing/_encoders.py:246: UserWarning: Found unknown categories in columns [0, 4, 9, 12, 17, 19, 21] during transform. These unknown categories will be encoded as all zeros\n",
      "  warnings.warn(\n"
     ]
    },
    {
     "name": "stdout",
     "output_type": "stream",
     "text": [
      "[CV] END model__colsample_bytree=0.7, model__gamma=0, model__learning_rate=0.2, model__max_depth=10, model__min_child_weight=1, model__n_estimators=3000, model__reg_alpha=0.1, model__reg_lambda=2.0, model__subsample=0.8; total time=  15.0s\n"
     ]
    },
    {
     "name": "stderr",
     "output_type": "stream",
     "text": [
      "/home/wsl2ubuntuuser/.virtualenvs/nomination_predictor/lib/python3.12/site-packages/sklearn/preprocessing/_encoders.py:246: UserWarning: Found unknown categories in columns [1, 4, 9, 10, 11, 12, 14, 17, 19, 21] during transform. These unknown categories will be encoded as all zeros\n",
      "  warnings.warn(\n"
     ]
    },
    {
     "name": "stdout",
     "output_type": "stream",
     "text": [
      "[CV] END model__colsample_bytree=0.7, model__gamma=0, model__learning_rate=0.2, model__max_depth=10, model__min_child_weight=1, model__n_estimators=3000, model__reg_alpha=0.1, model__reg_lambda=2.0, model__subsample=0.8; total time=  14.8s\n",
      "✅ Stage 1 complete! Best score: 44.08 MAE\n",
      "📊 Best parameters from coarse search:\n",
      "  model__subsample: 1.0\n",
      "  model__reg_lambda: 0.5\n",
      "  model__reg_alpha: 0.5\n",
      "  model__n_estimators: 500\n",
      "  model__min_child_weight: 10\n",
      "  model__max_depth: 9\n",
      "  model__learning_rate: 0.01\n",
      "  model__gamma: 0.3\n",
      "  model__colsample_bytree: 0.7\n"
     ]
    }
   ],
   "source": [
    "coarse_search.fit(X_train, y_train)\n",
    "print(f\"✅ Stage 1 complete! Best score: {-coarse_search.best_score_:.2f} MAE\")\n",
    "print(f\"📊 Best parameters from coarse search:\")\n",
    "for param, value in coarse_search.best_params_.items():\n",
    "    print(f\"  {param}: {value}\")"
   ]
  },
  {
   "cell_type": "code",
   "execution_count": null,
   "id": "9904f898",
   "metadata": {},
   "outputs": [
    {
     "name": "stdout",
     "output_type": "stream",
     "text": [
      "\n",
      "🔧 STAGE 2: Fine-tuned search around best parameters...\n",
      "\u001b[32m2025-07-18 16:35:42.925\u001b[0m | \u001b[1mINFO    \u001b[0m | \u001b[36mnomination_predictor.modeling.train\u001b[0m:\u001b[36mcreate_refined_param_grid\u001b[0m:\u001b[36m143\u001b[0m - \u001b[1mRefined model__subsample: 1.0 -> [0.95, 0.975, 1.0]\u001b[0m\n",
      "\u001b[32m2025-07-18 16:35:42.931\u001b[0m | \u001b[1mINFO    \u001b[0m | \u001b[36mnomination_predictor.modeling.train\u001b[0m:\u001b[36mcreate_refined_param_grid\u001b[0m:\u001b[36m143\u001b[0m - \u001b[1mRefined model__reg_lambda: 0.5 -> [0.25, 0.4, 0.5, 0.6, 1.0]\u001b[0m\n",
      "\u001b[32m2025-07-18 16:35:42.931\u001b[0m | \u001b[1mINFO    \u001b[0m | \u001b[36mnomination_predictor.modeling.train\u001b[0m:\u001b[36mcreate_refined_param_grid\u001b[0m:\u001b[36m143\u001b[0m - \u001b[1mRefined model__reg_alpha: 0.5 -> [0.25, 0.4, 0.5, 0.6, 1.0]\u001b[0m\n",
      "\u001b[32m2025-07-18 16:35:42.931\u001b[0m | \u001b[1mINFO    \u001b[0m | \u001b[36mnomination_predictor.modeling.train\u001b[0m:\u001b[36mcreate_refined_param_grid\u001b[0m:\u001b[36m143\u001b[0m - \u001b[1mRefined model__n_estimators: 500 -> [100, 500, 1000, 1500]\u001b[0m\n",
      "\u001b[32m2025-07-18 16:35:42.931\u001b[0m | \u001b[1mINFO    \u001b[0m | \u001b[36mnomination_predictor.modeling.train\u001b[0m:\u001b[36mcreate_refined_param_grid\u001b[0m:\u001b[36m143\u001b[0m - \u001b[1mRefined model__min_child_weight: 10 -> [8, 9, 10, 11, 12]\u001b[0m\n",
      "\u001b[32m2025-07-18 16:35:42.931\u001b[0m | \u001b[1mINFO    \u001b[0m | \u001b[36mnomination_predictor.modeling.train\u001b[0m:\u001b[36mcreate_refined_param_grid\u001b[0m:\u001b[36m143\u001b[0m - \u001b[1mRefined model__max_depth: 9 -> [7, 8, 9, 10, 11]\u001b[0m\n",
      "\u001b[32m2025-07-18 16:35:42.932\u001b[0m | \u001b[1mINFO    \u001b[0m | \u001b[36mnomination_predictor.modeling.train\u001b[0m:\u001b[36mcreate_refined_param_grid\u001b[0m:\u001b[36m143\u001b[0m - \u001b[1mRefined model__learning_rate: 0.01 -> [0.001, 0.01, 0.02, 0.03]\u001b[0m\n",
      "\u001b[32m2025-07-18 16:35:42.932\u001b[0m | \u001b[1mINFO    \u001b[0m | \u001b[36mnomination_predictor.modeling.train\u001b[0m:\u001b[36mcreate_refined_param_grid\u001b[0m:\u001b[36m143\u001b[0m - \u001b[1mRefined model__gamma: 0.3 -> [0.2, 0.25, 0.3, 0.35, 0.4]\u001b[0m\n",
      "\u001b[32m2025-07-18 16:35:42.932\u001b[0m | \u001b[1mINFO    \u001b[0m | \u001b[36mnomination_predictor.modeling.train\u001b[0m:\u001b[36mcreate_refined_param_grid\u001b[0m:\u001b[36m143\u001b[0m - \u001b[1mRefined model__colsample_bytree: 0.7 -> [0.65, 0.675, 0.7, 0.725, 0.75]\u001b[0m\n",
      "🔍 Refined parameter space:\n",
      "  model__subsample: [0.95, 0.975, 1.0]\n",
      "  model__reg_lambda: [0.25, 0.4, 0.5, 0.6, 1.0]\n",
      "  model__reg_alpha: [0.25, 0.4, 0.5, 0.6, 1.0]\n",
      "  model__n_estimators: [100, 500, 1000, 1500]\n",
      "  model__min_child_weight: [8, 9, 10, 11, 12]\n",
      "  model__max_depth: [7, 8, 9, 10, 11]\n",
      "  model__learning_rate: [0.001, 0.01, 0.02, 0.03]\n",
      "  model__gamma: [0.2, 0.25, 0.3, 0.35, 0.4]\n",
      "  model__colsample_bytree: [0.65, 0.675, 0.7, 0.725, 0.75]\n",
      "📊 Fine search: 100 iterations out of 750000 possible combinations\n"
     ]
    }
   ],
   "source": [
    "# 🎯 STAGE 2: Refined Search using helper functions\n",
    "print(\"\\n🔧 STAGE 2: Fine-tuned search around best parameters...\")\n",
    "\n",
    "# Use your helper function to create refined parameter grid\n",
    "refined_params = create_refined_param_grid(\n",
    "    best_params=coarse_search.best_params_,\n",
    "    num_points=5  # Number of values to try around each best parameter\n",
    ")\n",
    "\n",
    "print(f\"🔍 Refined parameter space:\")\n",
    "for param, values in refined_params.items():\n",
    "    print(f\"  {param}: {values}\")\n",
    "\n",
    "# Calculate smart n_iter for refined search\n",
    "total_combinations = len(list(itertools.product(*refined_params.values())))\n",
    "n_iter_fine = min(100, total_combinations)  # Don't exceed total combinations\n",
    "\n",
    "print(f\"📊 Fine search: {n_iter_fine} iterations out of {total_combinations} possible combinations\")"
   ]
  },
  {
   "cell_type": "code",
   "execution_count": null,
   "id": "5a497bb2",
   "metadata": {},
   "outputs": [],
   "source": [
    "# Stage 2: Fine search\n",
    "fine_search = RandomizedSearchCV(\n",
    "    tuned_pipeline,\n",
    "    param_distributions=refined_params,\n",
    "    n_iter=n_iter_fine,\n",
    "    cv=5,       # More thorough CV for final search\n",
    "    scoring='neg_mean_absolute_error',\n",
    "    n_jobs=1,\n",
    "    random_state=43,  # Different seed for diversity\n",
    "    verbose=2\n",
    ")"
   ]
  },
  {
   "cell_type": "code",
   "execution_count": null,
   "id": "cf7559e2",
   "metadata": {},
   "outputs": [
    {
     "name": "stdout",
     "output_type": "stream",
     "text": [
      "⏱️  Starting fine search...\n",
      "Fitting 5 folds for each of 100 candidates, totalling 500 fits\n"
     ]
    },
    {
     "name": "stderr",
     "output_type": "stream",
     "text": [
      "/home/wsl2ubuntuuser/.virtualenvs/nomination_predictor/lib/python3.12/site-packages/sklearn/preprocessing/_encoders.py:246: UserWarning: Found unknown categories in columns [1, 4, 9, 12, 13, 17, 19, 21] during transform. These unknown categories will be encoded as all zeros\n",
      "  warnings.warn(\n"
     ]
    },
    {
     "name": "stdout",
     "output_type": "stream",
     "text": [
      "[CV] END model__colsample_bytree=0.675, model__gamma=0.4, model__learning_rate=0.001, model__max_depth=11, model__min_child_weight=8, model__n_estimators=1500, model__reg_alpha=1.0, model__reg_lambda=0.5, model__subsample=0.975; total time=  19.8s\n"
     ]
    },
    {
     "name": "stderr",
     "output_type": "stream",
     "text": [
      "/home/wsl2ubuntuuser/.virtualenvs/nomination_predictor/lib/python3.12/site-packages/sklearn/preprocessing/_encoders.py:246: UserWarning: Found unknown categories in columns [4, 9, 11, 12, 13, 17, 19] during transform. These unknown categories will be encoded as all zeros\n",
      "  warnings.warn(\n"
     ]
    },
    {
     "name": "stdout",
     "output_type": "stream",
     "text": [
      "[CV] END model__colsample_bytree=0.675, model__gamma=0.4, model__learning_rate=0.001, model__max_depth=11, model__min_child_weight=8, model__n_estimators=1500, model__reg_alpha=1.0, model__reg_lambda=0.5, model__subsample=0.975; total time=  18.0s\n"
     ]
    },
    {
     "name": "stderr",
     "output_type": "stream",
     "text": [
      "/home/wsl2ubuntuuser/.virtualenvs/nomination_predictor/lib/python3.12/site-packages/sklearn/preprocessing/_encoders.py:246: UserWarning: Found unknown categories in columns [0, 4, 9, 12, 17, 19, 21] during transform. These unknown categories will be encoded as all zeros\n",
      "  warnings.warn(\n"
     ]
    },
    {
     "name": "stdout",
     "output_type": "stream",
     "text": [
      "[CV] END model__colsample_bytree=0.675, model__gamma=0.4, model__learning_rate=0.001, model__max_depth=11, model__min_child_weight=8, model__n_estimators=1500, model__reg_alpha=1.0, model__reg_lambda=0.5, model__subsample=0.975; total time=  18.1s\n"
     ]
    },
    {
     "name": "stderr",
     "output_type": "stream",
     "text": [
      "/home/wsl2ubuntuuser/.virtualenvs/nomination_predictor/lib/python3.12/site-packages/sklearn/preprocessing/_encoders.py:246: UserWarning: Found unknown categories in columns [4, 9, 11, 12, 17, 19, 21] during transform. These unknown categories will be encoded as all zeros\n",
      "  warnings.warn(\n"
     ]
    },
    {
     "name": "stdout",
     "output_type": "stream",
     "text": [
      "[CV] END model__colsample_bytree=0.675, model__gamma=0.4, model__learning_rate=0.001, model__max_depth=11, model__min_child_weight=8, model__n_estimators=1500, model__reg_alpha=1.0, model__reg_lambda=0.5, model__subsample=0.975; total time=  17.5s\n"
     ]
    },
    {
     "name": "stderr",
     "output_type": "stream",
     "text": [
      "/home/wsl2ubuntuuser/.virtualenvs/nomination_predictor/lib/python3.12/site-packages/sklearn/preprocessing/_encoders.py:246: UserWarning: Found unknown categories in columns [1, 4, 9, 12, 17, 19] during transform. These unknown categories will be encoded as all zeros\n",
      "  warnings.warn(\n"
     ]
    },
    {
     "name": "stdout",
     "output_type": "stream",
     "text": [
      "[CV] END model__colsample_bytree=0.675, model__gamma=0.4, model__learning_rate=0.001, model__max_depth=11, model__min_child_weight=8, model__n_estimators=1500, model__reg_alpha=1.0, model__reg_lambda=0.5, model__subsample=0.975; total time=  18.4s\n"
     ]
    },
    {
     "name": "stderr",
     "output_type": "stream",
     "text": [
      "/home/wsl2ubuntuuser/.virtualenvs/nomination_predictor/lib/python3.12/site-packages/sklearn/preprocessing/_encoders.py:246: UserWarning: Found unknown categories in columns [1, 4, 9, 12, 13, 17, 19, 21] during transform. These unknown categories will be encoded as all zeros\n",
      "  warnings.warn(\n"
     ]
    },
    {
     "name": "stdout",
     "output_type": "stream",
     "text": [
      "[CV] END model__colsample_bytree=0.675, model__gamma=0.2, model__learning_rate=0.001, model__max_depth=7, model__min_child_weight=10, model__n_estimators=1500, model__reg_alpha=0.4, model__reg_lambda=0.5, model__subsample=1.0; total time=  10.6s\n"
     ]
    },
    {
     "name": "stderr",
     "output_type": "stream",
     "text": [
      "/home/wsl2ubuntuuser/.virtualenvs/nomination_predictor/lib/python3.12/site-packages/sklearn/preprocessing/_encoders.py:246: UserWarning: Found unknown categories in columns [4, 9, 11, 12, 13, 17, 19] during transform. These unknown categories will be encoded as all zeros\n",
      "  warnings.warn(\n"
     ]
    },
    {
     "name": "stdout",
     "output_type": "stream",
     "text": [
      "[CV] END model__colsample_bytree=0.675, model__gamma=0.2, model__learning_rate=0.001, model__max_depth=7, model__min_child_weight=10, model__n_estimators=1500, model__reg_alpha=0.4, model__reg_lambda=0.5, model__subsample=1.0; total time=  11.2s\n"
     ]
    },
    {
     "name": "stderr",
     "output_type": "stream",
     "text": [
      "/home/wsl2ubuntuuser/.virtualenvs/nomination_predictor/lib/python3.12/site-packages/sklearn/preprocessing/_encoders.py:246: UserWarning: Found unknown categories in columns [0, 4, 9, 12, 17, 19, 21] during transform. These unknown categories will be encoded as all zeros\n",
      "  warnings.warn(\n"
     ]
    },
    {
     "name": "stdout",
     "output_type": "stream",
     "text": [
      "[CV] END model__colsample_bytree=0.675, model__gamma=0.2, model__learning_rate=0.001, model__max_depth=7, model__min_child_weight=10, model__n_estimators=1500, model__reg_alpha=0.4, model__reg_lambda=0.5, model__subsample=1.0; total time=  49.3s\n"
     ]
    },
    {
     "name": "stderr",
     "output_type": "stream",
     "text": [
      "/home/wsl2ubuntuuser/.virtualenvs/nomination_predictor/lib/python3.12/site-packages/sklearn/preprocessing/_encoders.py:246: UserWarning: Found unknown categories in columns [4, 9, 11, 12, 17, 19, 21] during transform. These unknown categories will be encoded as all zeros\n",
      "  warnings.warn(\n"
     ]
    },
    {
     "name": "stdout",
     "output_type": "stream",
     "text": [
      "[CV] END model__colsample_bytree=0.675, model__gamma=0.2, model__learning_rate=0.001, model__max_depth=7, model__min_child_weight=10, model__n_estimators=1500, model__reg_alpha=0.4, model__reg_lambda=0.5, model__subsample=1.0; total time= -24.7s\n"
     ]
    },
    {
     "name": "stderr",
     "output_type": "stream",
     "text": [
      "/home/wsl2ubuntuuser/.virtualenvs/nomination_predictor/lib/python3.12/site-packages/sklearn/preprocessing/_encoders.py:246: UserWarning: Found unknown categories in columns [1, 4, 9, 12, 17, 19] during transform. These unknown categories will be encoded as all zeros\n",
      "  warnings.warn(\n"
     ]
    },
    {
     "name": "stdout",
     "output_type": "stream",
     "text": [
      "[CV] END model__colsample_bytree=0.675, model__gamma=0.2, model__learning_rate=0.001, model__max_depth=7, model__min_child_weight=10, model__n_estimators=1500, model__reg_alpha=0.4, model__reg_lambda=0.5, model__subsample=1.0; total time=  11.0s\n"
     ]
    },
    {
     "name": "stderr",
     "output_type": "stream",
     "text": [
      "/home/wsl2ubuntuuser/.virtualenvs/nomination_predictor/lib/python3.12/site-packages/sklearn/preprocessing/_encoders.py:246: UserWarning: Found unknown categories in columns [1, 4, 9, 12, 13, 17, 19, 21] during transform. These unknown categories will be encoded as all zeros\n",
      "  warnings.warn(\n"
     ]
    },
    {
     "name": "stdout",
     "output_type": "stream",
     "text": [
      "[CV] END model__colsample_bytree=0.725, model__gamma=0.35, model__learning_rate=0.03, model__max_depth=8, model__min_child_weight=11, model__n_estimators=500, model__reg_alpha=1.0, model__reg_lambda=0.5, model__subsample=0.95; total time=   3.5s\n"
     ]
    },
    {
     "name": "stderr",
     "output_type": "stream",
     "text": [
      "/home/wsl2ubuntuuser/.virtualenvs/nomination_predictor/lib/python3.12/site-packages/sklearn/preprocessing/_encoders.py:246: UserWarning: Found unknown categories in columns [4, 9, 11, 12, 13, 17, 19] during transform. These unknown categories will be encoded as all zeros\n",
      "  warnings.warn(\n"
     ]
    },
    {
     "name": "stdout",
     "output_type": "stream",
     "text": [
      "[CV] END model__colsample_bytree=0.725, model__gamma=0.35, model__learning_rate=0.03, model__max_depth=8, model__min_child_weight=11, model__n_estimators=500, model__reg_alpha=1.0, model__reg_lambda=0.5, model__subsample=0.95; total time=   3.8s\n"
     ]
    },
    {
     "name": "stderr",
     "output_type": "stream",
     "text": [
      "/home/wsl2ubuntuuser/.virtualenvs/nomination_predictor/lib/python3.12/site-packages/sklearn/preprocessing/_encoders.py:246: UserWarning: Found unknown categories in columns [0, 4, 9, 12, 17, 19, 21] during transform. These unknown categories will be encoded as all zeros\n",
      "  warnings.warn(\n"
     ]
    },
    {
     "name": "stdout",
     "output_type": "stream",
     "text": [
      "[CV] END model__colsample_bytree=0.725, model__gamma=0.35, model__learning_rate=0.03, model__max_depth=8, model__min_child_weight=11, model__n_estimators=500, model__reg_alpha=1.0, model__reg_lambda=0.5, model__subsample=0.95; total time=   3.9s\n"
     ]
    },
    {
     "name": "stderr",
     "output_type": "stream",
     "text": [
      "/home/wsl2ubuntuuser/.virtualenvs/nomination_predictor/lib/python3.12/site-packages/sklearn/preprocessing/_encoders.py:246: UserWarning: Found unknown categories in columns [4, 9, 11, 12, 17, 19, 21] during transform. These unknown categories will be encoded as all zeros\n",
      "  warnings.warn(\n"
     ]
    },
    {
     "name": "stdout",
     "output_type": "stream",
     "text": [
      "[CV] END model__colsample_bytree=0.725, model__gamma=0.35, model__learning_rate=0.03, model__max_depth=8, model__min_child_weight=11, model__n_estimators=500, model__reg_alpha=1.0, model__reg_lambda=0.5, model__subsample=0.95; total time=   3.4s\n"
     ]
    },
    {
     "name": "stderr",
     "output_type": "stream",
     "text": [
      "/home/wsl2ubuntuuser/.virtualenvs/nomination_predictor/lib/python3.12/site-packages/sklearn/preprocessing/_encoders.py:246: UserWarning: Found unknown categories in columns [1, 4, 9, 12, 17, 19] during transform. These unknown categories will be encoded as all zeros\n",
      "  warnings.warn(\n"
     ]
    },
    {
     "name": "stdout",
     "output_type": "stream",
     "text": [
      "[CV] END model__colsample_bytree=0.725, model__gamma=0.35, model__learning_rate=0.03, model__max_depth=8, model__min_child_weight=11, model__n_estimators=500, model__reg_alpha=1.0, model__reg_lambda=0.5, model__subsample=0.95; total time=   3.6s\n"
     ]
    },
    {
     "name": "stderr",
     "output_type": "stream",
     "text": [
      "/home/wsl2ubuntuuser/.virtualenvs/nomination_predictor/lib/python3.12/site-packages/sklearn/preprocessing/_encoders.py:246: UserWarning: Found unknown categories in columns [1, 4, 9, 12, 13, 17, 19, 21] during transform. These unknown categories will be encoded as all zeros\n",
      "  warnings.warn(\n"
     ]
    },
    {
     "name": "stdout",
     "output_type": "stream",
     "text": [
      "[CV] END model__colsample_bytree=0.7, model__gamma=0.3, model__learning_rate=0.03, model__max_depth=10, model__min_child_weight=9, model__n_estimators=100, model__reg_alpha=0.6, model__reg_lambda=0.4, model__subsample=0.975; total time=   1.3s\n"
     ]
    },
    {
     "name": "stderr",
     "output_type": "stream",
     "text": [
      "/home/wsl2ubuntuuser/.virtualenvs/nomination_predictor/lib/python3.12/site-packages/sklearn/preprocessing/_encoders.py:246: UserWarning: Found unknown categories in columns [4, 9, 11, 12, 13, 17, 19] during transform. These unknown categories will be encoded as all zeros\n",
      "  warnings.warn(\n"
     ]
    },
    {
     "name": "stdout",
     "output_type": "stream",
     "text": [
      "[CV] END model__colsample_bytree=0.7, model__gamma=0.3, model__learning_rate=0.03, model__max_depth=10, model__min_child_weight=9, model__n_estimators=100, model__reg_alpha=0.6, model__reg_lambda=0.4, model__subsample=0.975; total time=   1.0s\n"
     ]
    },
    {
     "name": "stderr",
     "output_type": "stream",
     "text": [
      "/home/wsl2ubuntuuser/.virtualenvs/nomination_predictor/lib/python3.12/site-packages/sklearn/preprocessing/_encoders.py:246: UserWarning: Found unknown categories in columns [0, 4, 9, 12, 17, 19, 21] during transform. These unknown categories will be encoded as all zeros\n",
      "  warnings.warn(\n"
     ]
    },
    {
     "name": "stdout",
     "output_type": "stream",
     "text": [
      "[CV] END model__colsample_bytree=0.7, model__gamma=0.3, model__learning_rate=0.03, model__max_depth=10, model__min_child_weight=9, model__n_estimators=100, model__reg_alpha=0.6, model__reg_lambda=0.4, model__subsample=0.975; total time=   1.2s\n"
     ]
    },
    {
     "name": "stderr",
     "output_type": "stream",
     "text": [
      "/home/wsl2ubuntuuser/.virtualenvs/nomination_predictor/lib/python3.12/site-packages/sklearn/preprocessing/_encoders.py:246: UserWarning: Found unknown categories in columns [4, 9, 11, 12, 17, 19, 21] during transform. These unknown categories will be encoded as all zeros\n",
      "  warnings.warn(\n"
     ]
    },
    {
     "name": "stdout",
     "output_type": "stream",
     "text": [
      "[CV] END model__colsample_bytree=0.7, model__gamma=0.3, model__learning_rate=0.03, model__max_depth=10, model__min_child_weight=9, model__n_estimators=100, model__reg_alpha=0.6, model__reg_lambda=0.4, model__subsample=0.975; total time=   1.4s\n"
     ]
    },
    {
     "name": "stderr",
     "output_type": "stream",
     "text": [
      "/home/wsl2ubuntuuser/.virtualenvs/nomination_predictor/lib/python3.12/site-packages/sklearn/preprocessing/_encoders.py:246: UserWarning: Found unknown categories in columns [1, 4, 9, 12, 17, 19] during transform. These unknown categories will be encoded as all zeros\n",
      "  warnings.warn(\n"
     ]
    },
    {
     "name": "stdout",
     "output_type": "stream",
     "text": [
      "[CV] END model__colsample_bytree=0.7, model__gamma=0.3, model__learning_rate=0.03, model__max_depth=10, model__min_child_weight=9, model__n_estimators=100, model__reg_alpha=0.6, model__reg_lambda=0.4, model__subsample=0.975; total time=   1.2s\n"
     ]
    },
    {
     "name": "stderr",
     "output_type": "stream",
     "text": [
      "/home/wsl2ubuntuuser/.virtualenvs/nomination_predictor/lib/python3.12/site-packages/sklearn/preprocessing/_encoders.py:246: UserWarning: Found unknown categories in columns [1, 4, 9, 12, 13, 17, 19, 21] during transform. These unknown categories will be encoded as all zeros\n",
      "  warnings.warn(\n"
     ]
    },
    {
     "name": "stdout",
     "output_type": "stream",
     "text": [
      "[CV] END model__colsample_bytree=0.7, model__gamma=0.35, model__learning_rate=0.001, model__max_depth=7, model__min_child_weight=12, model__n_estimators=100, model__reg_alpha=0.4, model__reg_lambda=0.6, model__subsample=1.0; total time=   1.0s\n"
     ]
    },
    {
     "name": "stderr",
     "output_type": "stream",
     "text": [
      "/home/wsl2ubuntuuser/.virtualenvs/nomination_predictor/lib/python3.12/site-packages/sklearn/preprocessing/_encoders.py:246: UserWarning: Found unknown categories in columns [4, 9, 11, 12, 13, 17, 19] during transform. These unknown categories will be encoded as all zeros\n",
      "  warnings.warn(\n"
     ]
    },
    {
     "name": "stdout",
     "output_type": "stream",
     "text": [
      "[CV] END model__colsample_bytree=0.7, model__gamma=0.35, model__learning_rate=0.001, model__max_depth=7, model__min_child_weight=12, model__n_estimators=100, model__reg_alpha=0.4, model__reg_lambda=0.6, model__subsample=1.0; total time=   0.8s\n"
     ]
    },
    {
     "name": "stderr",
     "output_type": "stream",
     "text": [
      "/home/wsl2ubuntuuser/.virtualenvs/nomination_predictor/lib/python3.12/site-packages/sklearn/preprocessing/_encoders.py:246: UserWarning: Found unknown categories in columns [0, 4, 9, 12, 17, 19, 21] during transform. These unknown categories will be encoded as all zeros\n",
      "  warnings.warn(\n"
     ]
    },
    {
     "name": "stdout",
     "output_type": "stream",
     "text": [
      "[CV] END model__colsample_bytree=0.7, model__gamma=0.35, model__learning_rate=0.001, model__max_depth=7, model__min_child_weight=12, model__n_estimators=100, model__reg_alpha=0.4, model__reg_lambda=0.6, model__subsample=1.0; total time=   1.1s\n"
     ]
    },
    {
     "name": "stderr",
     "output_type": "stream",
     "text": [
      "/home/wsl2ubuntuuser/.virtualenvs/nomination_predictor/lib/python3.12/site-packages/sklearn/preprocessing/_encoders.py:246: UserWarning: Found unknown categories in columns [4, 9, 11, 12, 17, 19, 21] during transform. These unknown categories will be encoded as all zeros\n",
      "  warnings.warn(\n"
     ]
    },
    {
     "name": "stdout",
     "output_type": "stream",
     "text": [
      "[CV] END model__colsample_bytree=0.7, model__gamma=0.35, model__learning_rate=0.001, model__max_depth=7, model__min_child_weight=12, model__n_estimators=100, model__reg_alpha=0.4, model__reg_lambda=0.6, model__subsample=1.0; total time=   1.0s\n"
     ]
    },
    {
     "name": "stderr",
     "output_type": "stream",
     "text": [
      "/home/wsl2ubuntuuser/.virtualenvs/nomination_predictor/lib/python3.12/site-packages/sklearn/preprocessing/_encoders.py:246: UserWarning: Found unknown categories in columns [1, 4, 9, 12, 17, 19] during transform. These unknown categories will be encoded as all zeros\n",
      "  warnings.warn(\n"
     ]
    },
    {
     "name": "stdout",
     "output_type": "stream",
     "text": [
      "[CV] END model__colsample_bytree=0.7, model__gamma=0.35, model__learning_rate=0.001, model__max_depth=7, model__min_child_weight=12, model__n_estimators=100, model__reg_alpha=0.4, model__reg_lambda=0.6, model__subsample=1.0; total time=   0.9s\n"
     ]
    },
    {
     "name": "stderr",
     "output_type": "stream",
     "text": [
      "/home/wsl2ubuntuuser/.virtualenvs/nomination_predictor/lib/python3.12/site-packages/sklearn/preprocessing/_encoders.py:246: UserWarning: Found unknown categories in columns [1, 4, 9, 12, 13, 17, 19, 21] during transform. These unknown categories will be encoded as all zeros\n",
      "  warnings.warn(\n"
     ]
    },
    {
     "name": "stdout",
     "output_type": "stream",
     "text": [
      "[CV] END model__colsample_bytree=0.725, model__gamma=0.2, model__learning_rate=0.03, model__max_depth=10, model__min_child_weight=8, model__n_estimators=1000, model__reg_alpha=0.6, model__reg_lambda=0.4, model__subsample=1.0; total time=  10.0s\n"
     ]
    },
    {
     "name": "stderr",
     "output_type": "stream",
     "text": [
      "/home/wsl2ubuntuuser/.virtualenvs/nomination_predictor/lib/python3.12/site-packages/sklearn/preprocessing/_encoders.py:246: UserWarning: Found unknown categories in columns [4, 9, 11, 12, 13, 17, 19] during transform. These unknown categories will be encoded as all zeros\n",
      "  warnings.warn(\n"
     ]
    },
    {
     "name": "stdout",
     "output_type": "stream",
     "text": [
      "[CV] END model__colsample_bytree=0.725, model__gamma=0.2, model__learning_rate=0.03, model__max_depth=10, model__min_child_weight=8, model__n_estimators=1000, model__reg_alpha=0.6, model__reg_lambda=0.4, model__subsample=1.0; total time=  10.4s\n"
     ]
    },
    {
     "name": "stderr",
     "output_type": "stream",
     "text": [
      "/home/wsl2ubuntuuser/.virtualenvs/nomination_predictor/lib/python3.12/site-packages/sklearn/preprocessing/_encoders.py:246: UserWarning: Found unknown categories in columns [0, 4, 9, 12, 17, 19, 21] during transform. These unknown categories will be encoded as all zeros\n",
      "  warnings.warn(\n"
     ]
    },
    {
     "name": "stdout",
     "output_type": "stream",
     "text": [
      "[CV] END model__colsample_bytree=0.725, model__gamma=0.2, model__learning_rate=0.03, model__max_depth=10, model__min_child_weight=8, model__n_estimators=1000, model__reg_alpha=0.6, model__reg_lambda=0.4, model__subsample=1.0; total time=  10.1s\n"
     ]
    },
    {
     "name": "stderr",
     "output_type": "stream",
     "text": [
      "/home/wsl2ubuntuuser/.virtualenvs/nomination_predictor/lib/python3.12/site-packages/sklearn/preprocessing/_encoders.py:246: UserWarning: Found unknown categories in columns [4, 9, 11, 12, 17, 19, 21] during transform. These unknown categories will be encoded as all zeros\n",
      "  warnings.warn(\n"
     ]
    },
    {
     "name": "stdout",
     "output_type": "stream",
     "text": [
      "[CV] END model__colsample_bytree=0.725, model__gamma=0.2, model__learning_rate=0.03, model__max_depth=10, model__min_child_weight=8, model__n_estimators=1000, model__reg_alpha=0.6, model__reg_lambda=0.4, model__subsample=1.0; total time=   9.3s\n"
     ]
    },
    {
     "name": "stderr",
     "output_type": "stream",
     "text": [
      "/home/wsl2ubuntuuser/.virtualenvs/nomination_predictor/lib/python3.12/site-packages/sklearn/preprocessing/_encoders.py:246: UserWarning: Found unknown categories in columns [1, 4, 9, 12, 17, 19] during transform. These unknown categories will be encoded as all zeros\n",
      "  warnings.warn(\n"
     ]
    },
    {
     "name": "stdout",
     "output_type": "stream",
     "text": [
      "[CV] END model__colsample_bytree=0.725, model__gamma=0.2, model__learning_rate=0.03, model__max_depth=10, model__min_child_weight=8, model__n_estimators=1000, model__reg_alpha=0.6, model__reg_lambda=0.4, model__subsample=1.0; total time=   8.7s\n"
     ]
    },
    {
     "name": "stderr",
     "output_type": "stream",
     "text": [
      "/home/wsl2ubuntuuser/.virtualenvs/nomination_predictor/lib/python3.12/site-packages/sklearn/preprocessing/_encoders.py:246: UserWarning: Found unknown categories in columns [1, 4, 9, 12, 13, 17, 19, 21] during transform. These unknown categories will be encoded as all zeros\n",
      "  warnings.warn(\n"
     ]
    },
    {
     "name": "stdout",
     "output_type": "stream",
     "text": [
      "[CV] END model__colsample_bytree=0.65, model__gamma=0.25, model__learning_rate=0.03, model__max_depth=10, model__min_child_weight=10, model__n_estimators=100, model__reg_alpha=0.6, model__reg_lambda=0.5, model__subsample=0.95; total time=   1.0s\n"
     ]
    },
    {
     "name": "stderr",
     "output_type": "stream",
     "text": [
      "/home/wsl2ubuntuuser/.virtualenvs/nomination_predictor/lib/python3.12/site-packages/sklearn/preprocessing/_encoders.py:246: UserWarning: Found unknown categories in columns [4, 9, 11, 12, 13, 17, 19] during transform. These unknown categories will be encoded as all zeros\n",
      "  warnings.warn(\n"
     ]
    },
    {
     "name": "stdout",
     "output_type": "stream",
     "text": [
      "[CV] END model__colsample_bytree=0.65, model__gamma=0.25, model__learning_rate=0.03, model__max_depth=10, model__min_child_weight=10, model__n_estimators=100, model__reg_alpha=0.6, model__reg_lambda=0.5, model__subsample=0.95; total time=   1.0s\n"
     ]
    },
    {
     "name": "stderr",
     "output_type": "stream",
     "text": [
      "/home/wsl2ubuntuuser/.virtualenvs/nomination_predictor/lib/python3.12/site-packages/sklearn/preprocessing/_encoders.py:246: UserWarning: Found unknown categories in columns [0, 4, 9, 12, 17, 19, 21] during transform. These unknown categories will be encoded as all zeros\n",
      "  warnings.warn(\n"
     ]
    },
    {
     "name": "stdout",
     "output_type": "stream",
     "text": [
      "[CV] END model__colsample_bytree=0.65, model__gamma=0.25, model__learning_rate=0.03, model__max_depth=10, model__min_child_weight=10, model__n_estimators=100, model__reg_alpha=0.6, model__reg_lambda=0.5, model__subsample=0.95; total time=   1.1s\n"
     ]
    },
    {
     "name": "stderr",
     "output_type": "stream",
     "text": [
      "/home/wsl2ubuntuuser/.virtualenvs/nomination_predictor/lib/python3.12/site-packages/sklearn/preprocessing/_encoders.py:246: UserWarning: Found unknown categories in columns [4, 9, 11, 12, 17, 19, 21] during transform. These unknown categories will be encoded as all zeros\n",
      "  warnings.warn(\n"
     ]
    },
    {
     "name": "stdout",
     "output_type": "stream",
     "text": [
      "[CV] END model__colsample_bytree=0.65, model__gamma=0.25, model__learning_rate=0.03, model__max_depth=10, model__min_child_weight=10, model__n_estimators=100, model__reg_alpha=0.6, model__reg_lambda=0.5, model__subsample=0.95; total time=   1.1s\n"
     ]
    },
    {
     "name": "stderr",
     "output_type": "stream",
     "text": [
      "/home/wsl2ubuntuuser/.virtualenvs/nomination_predictor/lib/python3.12/site-packages/sklearn/preprocessing/_encoders.py:246: UserWarning: Found unknown categories in columns [1, 4, 9, 12, 17, 19] during transform. These unknown categories will be encoded as all zeros\n",
      "  warnings.warn(\n"
     ]
    },
    {
     "name": "stdout",
     "output_type": "stream",
     "text": [
      "[CV] END model__colsample_bytree=0.65, model__gamma=0.25, model__learning_rate=0.03, model__max_depth=10, model__min_child_weight=10, model__n_estimators=100, model__reg_alpha=0.6, model__reg_lambda=0.5, model__subsample=0.95; total time=   1.1s\n"
     ]
    },
    {
     "name": "stderr",
     "output_type": "stream",
     "text": [
      "/home/wsl2ubuntuuser/.virtualenvs/nomination_predictor/lib/python3.12/site-packages/sklearn/preprocessing/_encoders.py:246: UserWarning: Found unknown categories in columns [1, 4, 9, 12, 13, 17, 19, 21] during transform. These unknown categories will be encoded as all zeros\n",
      "  warnings.warn(\n"
     ]
    },
    {
     "name": "stdout",
     "output_type": "stream",
     "text": [
      "[CV] END model__colsample_bytree=0.65, model__gamma=0.2, model__learning_rate=0.001, model__max_depth=10, model__min_child_weight=10, model__n_estimators=1000, model__reg_alpha=0.6, model__reg_lambda=1.0, model__subsample=0.95; total time=  11.6s\n"
     ]
    },
    {
     "name": "stderr",
     "output_type": "stream",
     "text": [
      "/home/wsl2ubuntuuser/.virtualenvs/nomination_predictor/lib/python3.12/site-packages/sklearn/preprocessing/_encoders.py:246: UserWarning: Found unknown categories in columns [4, 9, 11, 12, 13, 17, 19] during transform. These unknown categories will be encoded as all zeros\n",
      "  warnings.warn(\n"
     ]
    },
    {
     "name": "stdout",
     "output_type": "stream",
     "text": [
      "[CV] END model__colsample_bytree=0.65, model__gamma=0.2, model__learning_rate=0.001, model__max_depth=10, model__min_child_weight=10, model__n_estimators=1000, model__reg_alpha=0.6, model__reg_lambda=1.0, model__subsample=0.95; total time=  11.9s\n"
     ]
    },
    {
     "name": "stderr",
     "output_type": "stream",
     "text": [
      "/home/wsl2ubuntuuser/.virtualenvs/nomination_predictor/lib/python3.12/site-packages/sklearn/preprocessing/_encoders.py:246: UserWarning: Found unknown categories in columns [0, 4, 9, 12, 17, 19, 21] during transform. These unknown categories will be encoded as all zeros\n",
      "  warnings.warn(\n"
     ]
    },
    {
     "name": "stdout",
     "output_type": "stream",
     "text": [
      "[CV] END model__colsample_bytree=0.65, model__gamma=0.2, model__learning_rate=0.001, model__max_depth=10, model__min_child_weight=10, model__n_estimators=1000, model__reg_alpha=0.6, model__reg_lambda=1.0, model__subsample=0.95; total time=  11.6s\n"
     ]
    },
    {
     "name": "stderr",
     "output_type": "stream",
     "text": [
      "/home/wsl2ubuntuuser/.virtualenvs/nomination_predictor/lib/python3.12/site-packages/sklearn/preprocessing/_encoders.py:246: UserWarning: Found unknown categories in columns [4, 9, 11, 12, 17, 19, 21] during transform. These unknown categories will be encoded as all zeros\n",
      "  warnings.warn(\n"
     ]
    },
    {
     "name": "stdout",
     "output_type": "stream",
     "text": [
      "[CV] END model__colsample_bytree=0.65, model__gamma=0.2, model__learning_rate=0.001, model__max_depth=10, model__min_child_weight=10, model__n_estimators=1000, model__reg_alpha=0.6, model__reg_lambda=1.0, model__subsample=0.95; total time=  10.8s\n"
     ]
    },
    {
     "name": "stderr",
     "output_type": "stream",
     "text": [
      "/home/wsl2ubuntuuser/.virtualenvs/nomination_predictor/lib/python3.12/site-packages/sklearn/preprocessing/_encoders.py:246: UserWarning: Found unknown categories in columns [1, 4, 9, 12, 17, 19] during transform. These unknown categories will be encoded as all zeros\n",
      "  warnings.warn(\n"
     ]
    },
    {
     "name": "stdout",
     "output_type": "stream",
     "text": [
      "[CV] END model__colsample_bytree=0.65, model__gamma=0.2, model__learning_rate=0.001, model__max_depth=10, model__min_child_weight=10, model__n_estimators=1000, model__reg_alpha=0.6, model__reg_lambda=1.0, model__subsample=0.95; total time=  12.2s\n"
     ]
    },
    {
     "name": "stderr",
     "output_type": "stream",
     "text": [
      "/home/wsl2ubuntuuser/.virtualenvs/nomination_predictor/lib/python3.12/site-packages/sklearn/preprocessing/_encoders.py:246: UserWarning: Found unknown categories in columns [1, 4, 9, 12, 13, 17, 19, 21] during transform. These unknown categories will be encoded as all zeros\n",
      "  warnings.warn(\n"
     ]
    },
    {
     "name": "stdout",
     "output_type": "stream",
     "text": [
      "[CV] END model__colsample_bytree=0.65, model__gamma=0.2, model__learning_rate=0.03, model__max_depth=11, model__min_child_weight=8, model__n_estimators=100, model__reg_alpha=0.25, model__reg_lambda=0.5, model__subsample=0.975; total time=   1.3s\n"
     ]
    },
    {
     "name": "stderr",
     "output_type": "stream",
     "text": [
      "/home/wsl2ubuntuuser/.virtualenvs/nomination_predictor/lib/python3.12/site-packages/sklearn/preprocessing/_encoders.py:246: UserWarning: Found unknown categories in columns [4, 9, 11, 12, 13, 17, 19] during transform. These unknown categories will be encoded as all zeros\n",
      "  warnings.warn(\n"
     ]
    },
    {
     "name": "stdout",
     "output_type": "stream",
     "text": [
      "[CV] END model__colsample_bytree=0.65, model__gamma=0.2, model__learning_rate=0.03, model__max_depth=11, model__min_child_weight=8, model__n_estimators=100, model__reg_alpha=0.25, model__reg_lambda=0.5, model__subsample=0.975; total time=   1.2s\n"
     ]
    },
    {
     "name": "stderr",
     "output_type": "stream",
     "text": [
      "/home/wsl2ubuntuuser/.virtualenvs/nomination_predictor/lib/python3.12/site-packages/sklearn/preprocessing/_encoders.py:246: UserWarning: Found unknown categories in columns [0, 4, 9, 12, 17, 19, 21] during transform. These unknown categories will be encoded as all zeros\n",
      "  warnings.warn(\n"
     ]
    },
    {
     "name": "stdout",
     "output_type": "stream",
     "text": [
      "[CV] END model__colsample_bytree=0.65, model__gamma=0.2, model__learning_rate=0.03, model__max_depth=11, model__min_child_weight=8, model__n_estimators=100, model__reg_alpha=0.25, model__reg_lambda=0.5, model__subsample=0.975; total time=   1.5s\n"
     ]
    },
    {
     "name": "stderr",
     "output_type": "stream",
     "text": [
      "/home/wsl2ubuntuuser/.virtualenvs/nomination_predictor/lib/python3.12/site-packages/sklearn/preprocessing/_encoders.py:246: UserWarning: Found unknown categories in columns [4, 9, 11, 12, 17, 19, 21] during transform. These unknown categories will be encoded as all zeros\n",
      "  warnings.warn(\n"
     ]
    },
    {
     "name": "stdout",
     "output_type": "stream",
     "text": [
      "[CV] END model__colsample_bytree=0.65, model__gamma=0.2, model__learning_rate=0.03, model__max_depth=11, model__min_child_weight=8, model__n_estimators=100, model__reg_alpha=0.25, model__reg_lambda=0.5, model__subsample=0.975; total time=   1.3s\n"
     ]
    },
    {
     "name": "stderr",
     "output_type": "stream",
     "text": [
      "/home/wsl2ubuntuuser/.virtualenvs/nomination_predictor/lib/python3.12/site-packages/sklearn/preprocessing/_encoders.py:246: UserWarning: Found unknown categories in columns [1, 4, 9, 12, 17, 19] during transform. These unknown categories will be encoded as all zeros\n",
      "  warnings.warn(\n"
     ]
    },
    {
     "name": "stdout",
     "output_type": "stream",
     "text": [
      "[CV] END model__colsample_bytree=0.65, model__gamma=0.2, model__learning_rate=0.03, model__max_depth=11, model__min_child_weight=8, model__n_estimators=100, model__reg_alpha=0.25, model__reg_lambda=0.5, model__subsample=0.975; total time=   1.2s\n"
     ]
    },
    {
     "name": "stderr",
     "output_type": "stream",
     "text": [
      "/home/wsl2ubuntuuser/.virtualenvs/nomination_predictor/lib/python3.12/site-packages/sklearn/preprocessing/_encoders.py:246: UserWarning: Found unknown categories in columns [1, 4, 9, 12, 13, 17, 19, 21] during transform. These unknown categories will be encoded as all zeros\n",
      "  warnings.warn(\n"
     ]
    },
    {
     "name": "stdout",
     "output_type": "stream",
     "text": [
      "[CV] END model__colsample_bytree=0.65, model__gamma=0.4, model__learning_rate=0.03, model__max_depth=10, model__min_child_weight=9, model__n_estimators=500, model__reg_alpha=0.4, model__reg_lambda=0.4, model__subsample=0.975; total time=   5.0s\n"
     ]
    },
    {
     "name": "stderr",
     "output_type": "stream",
     "text": [
      "/home/wsl2ubuntuuser/.virtualenvs/nomination_predictor/lib/python3.12/site-packages/sklearn/preprocessing/_encoders.py:246: UserWarning: Found unknown categories in columns [4, 9, 11, 12, 13, 17, 19] during transform. These unknown categories will be encoded as all zeros\n",
      "  warnings.warn(\n"
     ]
    },
    {
     "name": "stdout",
     "output_type": "stream",
     "text": [
      "[CV] END model__colsample_bytree=0.65, model__gamma=0.4, model__learning_rate=0.03, model__max_depth=10, model__min_child_weight=9, model__n_estimators=500, model__reg_alpha=0.4, model__reg_lambda=0.4, model__subsample=0.975; total time=   5.0s\n"
     ]
    },
    {
     "name": "stderr",
     "output_type": "stream",
     "text": [
      "/home/wsl2ubuntuuser/.virtualenvs/nomination_predictor/lib/python3.12/site-packages/sklearn/preprocessing/_encoders.py:246: UserWarning: Found unknown categories in columns [0, 4, 9, 12, 17, 19, 21] during transform. These unknown categories will be encoded as all zeros\n",
      "  warnings.warn(\n"
     ]
    },
    {
     "name": "stdout",
     "output_type": "stream",
     "text": [
      "[CV] END model__colsample_bytree=0.65, model__gamma=0.4, model__learning_rate=0.03, model__max_depth=10, model__min_child_weight=9, model__n_estimators=500, model__reg_alpha=0.4, model__reg_lambda=0.4, model__subsample=0.975; total time=   4.9s\n"
     ]
    },
    {
     "name": "stderr",
     "output_type": "stream",
     "text": [
      "/home/wsl2ubuntuuser/.virtualenvs/nomination_predictor/lib/python3.12/site-packages/sklearn/preprocessing/_encoders.py:246: UserWarning: Found unknown categories in columns [4, 9, 11, 12, 17, 19, 21] during transform. These unknown categories will be encoded as all zeros\n",
      "  warnings.warn(\n"
     ]
    },
    {
     "name": "stdout",
     "output_type": "stream",
     "text": [
      "[CV] END model__colsample_bytree=0.65, model__gamma=0.4, model__learning_rate=0.03, model__max_depth=10, model__min_child_weight=9, model__n_estimators=500, model__reg_alpha=0.4, model__reg_lambda=0.4, model__subsample=0.975; total time=   5.0s\n"
     ]
    },
    {
     "name": "stderr",
     "output_type": "stream",
     "text": [
      "/home/wsl2ubuntuuser/.virtualenvs/nomination_predictor/lib/python3.12/site-packages/sklearn/preprocessing/_encoders.py:246: UserWarning: Found unknown categories in columns [1, 4, 9, 12, 17, 19] during transform. These unknown categories will be encoded as all zeros\n",
      "  warnings.warn(\n"
     ]
    },
    {
     "name": "stdout",
     "output_type": "stream",
     "text": [
      "[CV] END model__colsample_bytree=0.65, model__gamma=0.4, model__learning_rate=0.03, model__max_depth=10, model__min_child_weight=9, model__n_estimators=500, model__reg_alpha=0.4, model__reg_lambda=0.4, model__subsample=0.975; total time=   4.6s\n"
     ]
    },
    {
     "name": "stderr",
     "output_type": "stream",
     "text": [
      "/home/wsl2ubuntuuser/.virtualenvs/nomination_predictor/lib/python3.12/site-packages/sklearn/preprocessing/_encoders.py:246: UserWarning: Found unknown categories in columns [1, 4, 9, 12, 13, 17, 19, 21] during transform. These unknown categories will be encoded as all zeros\n",
      "  warnings.warn(\n"
     ]
    },
    {
     "name": "stdout",
     "output_type": "stream",
     "text": [
      "[CV] END model__colsample_bytree=0.7, model__gamma=0.2, model__learning_rate=0.02, model__max_depth=10, model__min_child_weight=10, model__n_estimators=1500, model__reg_alpha=0.5, model__reg_lambda=0.6, model__subsample=1.0; total time=  12.6s\n"
     ]
    },
    {
     "name": "stderr",
     "output_type": "stream",
     "text": [
      "/home/wsl2ubuntuuser/.virtualenvs/nomination_predictor/lib/python3.12/site-packages/sklearn/preprocessing/_encoders.py:246: UserWarning: Found unknown categories in columns [4, 9, 11, 12, 13, 17, 19] during transform. These unknown categories will be encoded as all zeros\n",
      "  warnings.warn(\n"
     ]
    },
    {
     "name": "stdout",
     "output_type": "stream",
     "text": [
      "[CV] END model__colsample_bytree=0.7, model__gamma=0.2, model__learning_rate=0.02, model__max_depth=10, model__min_child_weight=10, model__n_estimators=1500, model__reg_alpha=0.5, model__reg_lambda=0.6, model__subsample=1.0; total time=  49.4s\n"
     ]
    },
    {
     "name": "stderr",
     "output_type": "stream",
     "text": [
      "/home/wsl2ubuntuuser/.virtualenvs/nomination_predictor/lib/python3.12/site-packages/sklearn/preprocessing/_encoders.py:246: UserWarning: Found unknown categories in columns [0, 4, 9, 12, 17, 19, 21] during transform. These unknown categories will be encoded as all zeros\n",
      "  warnings.warn(\n"
     ]
    },
    {
     "name": "stdout",
     "output_type": "stream",
     "text": [
      "[CV] END model__colsample_bytree=0.7, model__gamma=0.2, model__learning_rate=0.02, model__max_depth=10, model__min_child_weight=10, model__n_estimators=1500, model__reg_alpha=0.5, model__reg_lambda=0.6, model__subsample=1.0; total time= -22.3s\n"
     ]
    },
    {
     "name": "stderr",
     "output_type": "stream",
     "text": [
      "/home/wsl2ubuntuuser/.virtualenvs/nomination_predictor/lib/python3.12/site-packages/sklearn/preprocessing/_encoders.py:246: UserWarning: Found unknown categories in columns [4, 9, 11, 12, 17, 19, 21] during transform. These unknown categories will be encoded as all zeros\n",
      "  warnings.warn(\n"
     ]
    },
    {
     "name": "stdout",
     "output_type": "stream",
     "text": [
      "[CV] END model__colsample_bytree=0.7, model__gamma=0.2, model__learning_rate=0.02, model__max_depth=10, model__min_child_weight=10, model__n_estimators=1500, model__reg_alpha=0.5, model__reg_lambda=0.6, model__subsample=1.0; total time=  13.0s\n"
     ]
    },
    {
     "name": "stderr",
     "output_type": "stream",
     "text": [
      "/home/wsl2ubuntuuser/.virtualenvs/nomination_predictor/lib/python3.12/site-packages/sklearn/preprocessing/_encoders.py:246: UserWarning: Found unknown categories in columns [1, 4, 9, 12, 17, 19] during transform. These unknown categories will be encoded as all zeros\n",
      "  warnings.warn(\n"
     ]
    },
    {
     "name": "stdout",
     "output_type": "stream",
     "text": [
      "[CV] END model__colsample_bytree=0.7, model__gamma=0.2, model__learning_rate=0.02, model__max_depth=10, model__min_child_weight=10, model__n_estimators=1500, model__reg_alpha=0.5, model__reg_lambda=0.6, model__subsample=1.0; total time=  13.4s\n"
     ]
    },
    {
     "name": "stderr",
     "output_type": "stream",
     "text": [
      "/home/wsl2ubuntuuser/.virtualenvs/nomination_predictor/lib/python3.12/site-packages/sklearn/preprocessing/_encoders.py:246: UserWarning: Found unknown categories in columns [1, 4, 9, 12, 13, 17, 19, 21] during transform. These unknown categories will be encoded as all zeros\n",
      "  warnings.warn(\n"
     ]
    },
    {
     "name": "stdout",
     "output_type": "stream",
     "text": [
      "[CV] END model__colsample_bytree=0.725, model__gamma=0.35, model__learning_rate=0.03, model__max_depth=7, model__min_child_weight=8, model__n_estimators=500, model__reg_alpha=0.4, model__reg_lambda=0.25, model__subsample=0.95; total time=   3.7s\n"
     ]
    },
    {
     "name": "stderr",
     "output_type": "stream",
     "text": [
      "/home/wsl2ubuntuuser/.virtualenvs/nomination_predictor/lib/python3.12/site-packages/sklearn/preprocessing/_encoders.py:246: UserWarning: Found unknown categories in columns [4, 9, 11, 12, 13, 17, 19] during transform. These unknown categories will be encoded as all zeros\n",
      "  warnings.warn(\n"
     ]
    },
    {
     "name": "stdout",
     "output_type": "stream",
     "text": [
      "[CV] END model__colsample_bytree=0.725, model__gamma=0.35, model__learning_rate=0.03, model__max_depth=7, model__min_child_weight=8, model__n_estimators=500, model__reg_alpha=0.4, model__reg_lambda=0.25, model__subsample=0.95; total time=   3.3s\n"
     ]
    },
    {
     "name": "stderr",
     "output_type": "stream",
     "text": [
      "/home/wsl2ubuntuuser/.virtualenvs/nomination_predictor/lib/python3.12/site-packages/sklearn/preprocessing/_encoders.py:246: UserWarning: Found unknown categories in columns [0, 4, 9, 12, 17, 19, 21] during transform. These unknown categories will be encoded as all zeros\n",
      "  warnings.warn(\n"
     ]
    },
    {
     "name": "stdout",
     "output_type": "stream",
     "text": [
      "[CV] END model__colsample_bytree=0.725, model__gamma=0.35, model__learning_rate=0.03, model__max_depth=7, model__min_child_weight=8, model__n_estimators=500, model__reg_alpha=0.4, model__reg_lambda=0.25, model__subsample=0.95; total time=   3.5s\n"
     ]
    },
    {
     "name": "stderr",
     "output_type": "stream",
     "text": [
      "/home/wsl2ubuntuuser/.virtualenvs/nomination_predictor/lib/python3.12/site-packages/sklearn/preprocessing/_encoders.py:246: UserWarning: Found unknown categories in columns [4, 9, 11, 12, 17, 19, 21] during transform. These unknown categories will be encoded as all zeros\n",
      "  warnings.warn(\n"
     ]
    },
    {
     "name": "stdout",
     "output_type": "stream",
     "text": [
      "[CV] END model__colsample_bytree=0.725, model__gamma=0.35, model__learning_rate=0.03, model__max_depth=7, model__min_child_weight=8, model__n_estimators=500, model__reg_alpha=0.4, model__reg_lambda=0.25, model__subsample=0.95; total time=   3.5s\n"
     ]
    },
    {
     "name": "stderr",
     "output_type": "stream",
     "text": [
      "/home/wsl2ubuntuuser/.virtualenvs/nomination_predictor/lib/python3.12/site-packages/sklearn/preprocessing/_encoders.py:246: UserWarning: Found unknown categories in columns [1, 4, 9, 12, 17, 19] during transform. These unknown categories will be encoded as all zeros\n",
      "  warnings.warn(\n"
     ]
    },
    {
     "name": "stdout",
     "output_type": "stream",
     "text": [
      "[CV] END model__colsample_bytree=0.725, model__gamma=0.35, model__learning_rate=0.03, model__max_depth=7, model__min_child_weight=8, model__n_estimators=500, model__reg_alpha=0.4, model__reg_lambda=0.25, model__subsample=0.95; total time=   3.5s\n"
     ]
    },
    {
     "name": "stderr",
     "output_type": "stream",
     "text": [
      "/home/wsl2ubuntuuser/.virtualenvs/nomination_predictor/lib/python3.12/site-packages/sklearn/preprocessing/_encoders.py:246: UserWarning: Found unknown categories in columns [1, 4, 9, 12, 13, 17, 19, 21] during transform. These unknown categories will be encoded as all zeros\n",
      "  warnings.warn(\n"
     ]
    },
    {
     "name": "stdout",
     "output_type": "stream",
     "text": [
      "[CV] END model__colsample_bytree=0.75, model__gamma=0.2, model__learning_rate=0.03, model__max_depth=11, model__min_child_weight=11, model__n_estimators=1000, model__reg_alpha=0.5, model__reg_lambda=0.6, model__subsample=1.0; total time=  10.1s\n"
     ]
    },
    {
     "name": "stderr",
     "output_type": "stream",
     "text": [
      "/home/wsl2ubuntuuser/.virtualenvs/nomination_predictor/lib/python3.12/site-packages/sklearn/preprocessing/_encoders.py:246: UserWarning: Found unknown categories in columns [4, 9, 11, 12, 13, 17, 19] during transform. These unknown categories will be encoded as all zeros\n",
      "  warnings.warn(\n"
     ]
    },
    {
     "name": "stdout",
     "output_type": "stream",
     "text": [
      "[CV] END model__colsample_bytree=0.75, model__gamma=0.2, model__learning_rate=0.03, model__max_depth=11, model__min_child_weight=11, model__n_estimators=1000, model__reg_alpha=0.5, model__reg_lambda=0.6, model__subsample=1.0; total time=   9.8s\n"
     ]
    },
    {
     "name": "stderr",
     "output_type": "stream",
     "text": [
      "/home/wsl2ubuntuuser/.virtualenvs/nomination_predictor/lib/python3.12/site-packages/sklearn/preprocessing/_encoders.py:246: UserWarning: Found unknown categories in columns [0, 4, 9, 12, 17, 19, 21] during transform. These unknown categories will be encoded as all zeros\n",
      "  warnings.warn(\n"
     ]
    },
    {
     "name": "stdout",
     "output_type": "stream",
     "text": [
      "[CV] END model__colsample_bytree=0.75, model__gamma=0.2, model__learning_rate=0.03, model__max_depth=11, model__min_child_weight=11, model__n_estimators=1000, model__reg_alpha=0.5, model__reg_lambda=0.6, model__subsample=1.0; total time=   9.8s\n"
     ]
    },
    {
     "name": "stderr",
     "output_type": "stream",
     "text": [
      "/home/wsl2ubuntuuser/.virtualenvs/nomination_predictor/lib/python3.12/site-packages/sklearn/preprocessing/_encoders.py:246: UserWarning: Found unknown categories in columns [4, 9, 11, 12, 17, 19, 21] during transform. These unknown categories will be encoded as all zeros\n",
      "  warnings.warn(\n"
     ]
    },
    {
     "name": "stdout",
     "output_type": "stream",
     "text": [
      "[CV] END model__colsample_bytree=0.75, model__gamma=0.2, model__learning_rate=0.03, model__max_depth=11, model__min_child_weight=11, model__n_estimators=1000, model__reg_alpha=0.5, model__reg_lambda=0.6, model__subsample=1.0; total time=   9.8s\n"
     ]
    },
    {
     "name": "stderr",
     "output_type": "stream",
     "text": [
      "/home/wsl2ubuntuuser/.virtualenvs/nomination_predictor/lib/python3.12/site-packages/sklearn/preprocessing/_encoders.py:246: UserWarning: Found unknown categories in columns [1, 4, 9, 12, 17, 19] during transform. These unknown categories will be encoded as all zeros\n",
      "  warnings.warn(\n"
     ]
    },
    {
     "name": "stdout",
     "output_type": "stream",
     "text": [
      "[CV] END model__colsample_bytree=0.75, model__gamma=0.2, model__learning_rate=0.03, model__max_depth=11, model__min_child_weight=11, model__n_estimators=1000, model__reg_alpha=0.5, model__reg_lambda=0.6, model__subsample=1.0; total time=   9.3s\n"
     ]
    },
    {
     "name": "stderr",
     "output_type": "stream",
     "text": [
      "/home/wsl2ubuntuuser/.virtualenvs/nomination_predictor/lib/python3.12/site-packages/sklearn/preprocessing/_encoders.py:246: UserWarning: Found unknown categories in columns [1, 4, 9, 12, 13, 17, 19, 21] during transform. These unknown categories will be encoded as all zeros\n",
      "  warnings.warn(\n"
     ]
    },
    {
     "name": "stdout",
     "output_type": "stream",
     "text": [
      "[CV] END model__colsample_bytree=0.7, model__gamma=0.2, model__learning_rate=0.01, model__max_depth=7, model__min_child_weight=8, model__n_estimators=100, model__reg_alpha=0.4, model__reg_lambda=0.4, model__subsample=1.0; total time=   0.9s\n"
     ]
    },
    {
     "name": "stderr",
     "output_type": "stream",
     "text": [
      "/home/wsl2ubuntuuser/.virtualenvs/nomination_predictor/lib/python3.12/site-packages/sklearn/preprocessing/_encoders.py:246: UserWarning: Found unknown categories in columns [4, 9, 11, 12, 13, 17, 19] during transform. These unknown categories will be encoded as all zeros\n",
      "  warnings.warn(\n"
     ]
    },
    {
     "name": "stdout",
     "output_type": "stream",
     "text": [
      "[CV] END model__colsample_bytree=0.7, model__gamma=0.2, model__learning_rate=0.01, model__max_depth=7, model__min_child_weight=8, model__n_estimators=100, model__reg_alpha=0.4, model__reg_lambda=0.4, model__subsample=1.0; total time=   0.9s\n"
     ]
    },
    {
     "name": "stderr",
     "output_type": "stream",
     "text": [
      "/home/wsl2ubuntuuser/.virtualenvs/nomination_predictor/lib/python3.12/site-packages/sklearn/preprocessing/_encoders.py:246: UserWarning: Found unknown categories in columns [0, 4, 9, 12, 17, 19, 21] during transform. These unknown categories will be encoded as all zeros\n",
      "  warnings.warn(\n"
     ]
    },
    {
     "name": "stdout",
     "output_type": "stream",
     "text": [
      "[CV] END model__colsample_bytree=0.7, model__gamma=0.2, model__learning_rate=0.01, model__max_depth=7, model__min_child_weight=8, model__n_estimators=100, model__reg_alpha=0.4, model__reg_lambda=0.4, model__subsample=1.0; total time=   1.2s\n"
     ]
    },
    {
     "name": "stderr",
     "output_type": "stream",
     "text": [
      "/home/wsl2ubuntuuser/.virtualenvs/nomination_predictor/lib/python3.12/site-packages/sklearn/preprocessing/_encoders.py:246: UserWarning: Found unknown categories in columns [4, 9, 11, 12, 17, 19, 21] during transform. These unknown categories will be encoded as all zeros\n",
      "  warnings.warn(\n"
     ]
    },
    {
     "name": "stdout",
     "output_type": "stream",
     "text": [
      "[CV] END model__colsample_bytree=0.7, model__gamma=0.2, model__learning_rate=0.01, model__max_depth=7, model__min_child_weight=8, model__n_estimators=100, model__reg_alpha=0.4, model__reg_lambda=0.4, model__subsample=1.0; total time=   0.9s\n"
     ]
    },
    {
     "name": "stderr",
     "output_type": "stream",
     "text": [
      "/home/wsl2ubuntuuser/.virtualenvs/nomination_predictor/lib/python3.12/site-packages/sklearn/preprocessing/_encoders.py:246: UserWarning: Found unknown categories in columns [1, 4, 9, 12, 17, 19] during transform. These unknown categories will be encoded as all zeros\n",
      "  warnings.warn(\n"
     ]
    },
    {
     "name": "stdout",
     "output_type": "stream",
     "text": [
      "[CV] END model__colsample_bytree=0.7, model__gamma=0.2, model__learning_rate=0.01, model__max_depth=7, model__min_child_weight=8, model__n_estimators=100, model__reg_alpha=0.4, model__reg_lambda=0.4, model__subsample=1.0; total time=   0.9s\n"
     ]
    },
    {
     "name": "stderr",
     "output_type": "stream",
     "text": [
      "/home/wsl2ubuntuuser/.virtualenvs/nomination_predictor/lib/python3.12/site-packages/sklearn/preprocessing/_encoders.py:246: UserWarning: Found unknown categories in columns [1, 4, 9, 12, 13, 17, 19, 21] during transform. These unknown categories will be encoded as all zeros\n",
      "  warnings.warn(\n"
     ]
    },
    {
     "name": "stdout",
     "output_type": "stream",
     "text": [
      "[CV] END model__colsample_bytree=0.7, model__gamma=0.4, model__learning_rate=0.02, model__max_depth=9, model__min_child_weight=8, model__n_estimators=500, model__reg_alpha=1.0, model__reg_lambda=0.5, model__subsample=1.0; total time=   4.7s\n"
     ]
    },
    {
     "name": "stderr",
     "output_type": "stream",
     "text": [
      "/home/wsl2ubuntuuser/.virtualenvs/nomination_predictor/lib/python3.12/site-packages/sklearn/preprocessing/_encoders.py:246: UserWarning: Found unknown categories in columns [4, 9, 11, 12, 13, 17, 19] during transform. These unknown categories will be encoded as all zeros\n",
      "  warnings.warn(\n"
     ]
    },
    {
     "name": "stdout",
     "output_type": "stream",
     "text": [
      "[CV] END model__colsample_bytree=0.7, model__gamma=0.4, model__learning_rate=0.02, model__max_depth=9, model__min_child_weight=8, model__n_estimators=500, model__reg_alpha=1.0, model__reg_lambda=0.5, model__subsample=1.0; total time=   4.2s\n"
     ]
    },
    {
     "name": "stderr",
     "output_type": "stream",
     "text": [
      "/home/wsl2ubuntuuser/.virtualenvs/nomination_predictor/lib/python3.12/site-packages/sklearn/preprocessing/_encoders.py:246: UserWarning: Found unknown categories in columns [0, 4, 9, 12, 17, 19, 21] during transform. These unknown categories will be encoded as all zeros\n",
      "  warnings.warn(\n"
     ]
    },
    {
     "name": "stdout",
     "output_type": "stream",
     "text": [
      "[CV] END model__colsample_bytree=0.7, model__gamma=0.4, model__learning_rate=0.02, model__max_depth=9, model__min_child_weight=8, model__n_estimators=500, model__reg_alpha=1.0, model__reg_lambda=0.5, model__subsample=1.0; total time=   4.2s\n"
     ]
    },
    {
     "name": "stderr",
     "output_type": "stream",
     "text": [
      "/home/wsl2ubuntuuser/.virtualenvs/nomination_predictor/lib/python3.12/site-packages/sklearn/preprocessing/_encoders.py:246: UserWarning: Found unknown categories in columns [4, 9, 11, 12, 17, 19, 21] during transform. These unknown categories will be encoded as all zeros\n",
      "  warnings.warn(\n"
     ]
    },
    {
     "name": "stdout",
     "output_type": "stream",
     "text": [
      "[CV] END model__colsample_bytree=0.7, model__gamma=0.4, model__learning_rate=0.02, model__max_depth=9, model__min_child_weight=8, model__n_estimators=500, model__reg_alpha=1.0, model__reg_lambda=0.5, model__subsample=1.0; total time=   5.0s\n"
     ]
    },
    {
     "name": "stderr",
     "output_type": "stream",
     "text": [
      "/home/wsl2ubuntuuser/.virtualenvs/nomination_predictor/lib/python3.12/site-packages/sklearn/preprocessing/_encoders.py:246: UserWarning: Found unknown categories in columns [1, 4, 9, 12, 17, 19] during transform. These unknown categories will be encoded as all zeros\n",
      "  warnings.warn(\n"
     ]
    },
    {
     "name": "stdout",
     "output_type": "stream",
     "text": [
      "[CV] END model__colsample_bytree=0.7, model__gamma=0.4, model__learning_rate=0.02, model__max_depth=9, model__min_child_weight=8, model__n_estimators=500, model__reg_alpha=1.0, model__reg_lambda=0.5, model__subsample=1.0; total time=   4.8s\n"
     ]
    },
    {
     "name": "stderr",
     "output_type": "stream",
     "text": [
      "/home/wsl2ubuntuuser/.virtualenvs/nomination_predictor/lib/python3.12/site-packages/sklearn/preprocessing/_encoders.py:246: UserWarning: Found unknown categories in columns [1, 4, 9, 12, 13, 17, 19, 21] during transform. These unknown categories will be encoded as all zeros\n",
      "  warnings.warn(\n"
     ]
    },
    {
     "name": "stdout",
     "output_type": "stream",
     "text": [
      "[CV] END model__colsample_bytree=0.725, model__gamma=0.2, model__learning_rate=0.001, model__max_depth=9, model__min_child_weight=11, model__n_estimators=1000, model__reg_alpha=0.4, model__reg_lambda=0.25, model__subsample=0.975; total time=  10.8s\n"
     ]
    },
    {
     "name": "stderr",
     "output_type": "stream",
     "text": [
      "/home/wsl2ubuntuuser/.virtualenvs/nomination_predictor/lib/python3.12/site-packages/sklearn/preprocessing/_encoders.py:246: UserWarning: Found unknown categories in columns [4, 9, 11, 12, 13, 17, 19] during transform. These unknown categories will be encoded as all zeros\n",
      "  warnings.warn(\n"
     ]
    },
    {
     "name": "stdout",
     "output_type": "stream",
     "text": [
      "[CV] END model__colsample_bytree=0.725, model__gamma=0.2, model__learning_rate=0.001, model__max_depth=9, model__min_child_weight=11, model__n_estimators=1000, model__reg_alpha=0.4, model__reg_lambda=0.25, model__subsample=0.975; total time=  10.6s\n"
     ]
    },
    {
     "name": "stderr",
     "output_type": "stream",
     "text": [
      "/home/wsl2ubuntuuser/.virtualenvs/nomination_predictor/lib/python3.12/site-packages/sklearn/preprocessing/_encoders.py:246: UserWarning: Found unknown categories in columns [0, 4, 9, 12, 17, 19, 21] during transform. These unknown categories will be encoded as all zeros\n",
      "  warnings.warn(\n"
     ]
    },
    {
     "name": "stdout",
     "output_type": "stream",
     "text": [
      "[CV] END model__colsample_bytree=0.725, model__gamma=0.2, model__learning_rate=0.001, model__max_depth=9, model__min_child_weight=11, model__n_estimators=1000, model__reg_alpha=0.4, model__reg_lambda=0.25, model__subsample=0.975; total time=  11.1s\n"
     ]
    },
    {
     "name": "stderr",
     "output_type": "stream",
     "text": [
      "/home/wsl2ubuntuuser/.virtualenvs/nomination_predictor/lib/python3.12/site-packages/sklearn/preprocessing/_encoders.py:246: UserWarning: Found unknown categories in columns [4, 9, 11, 12, 17, 19, 21] during transform. These unknown categories will be encoded as all zeros\n",
      "  warnings.warn(\n"
     ]
    },
    {
     "name": "stdout",
     "output_type": "stream",
     "text": [
      "[CV] END model__colsample_bytree=0.725, model__gamma=0.2, model__learning_rate=0.001, model__max_depth=9, model__min_child_weight=11, model__n_estimators=1000, model__reg_alpha=0.4, model__reg_lambda=0.25, model__subsample=0.975; total time=  10.8s\n"
     ]
    },
    {
     "name": "stderr",
     "output_type": "stream",
     "text": [
      "/home/wsl2ubuntuuser/.virtualenvs/nomination_predictor/lib/python3.12/site-packages/sklearn/preprocessing/_encoders.py:246: UserWarning: Found unknown categories in columns [1, 4, 9, 12, 17, 19] during transform. These unknown categories will be encoded as all zeros\n",
      "  warnings.warn(\n"
     ]
    },
    {
     "name": "stdout",
     "output_type": "stream",
     "text": [
      "[CV] END model__colsample_bytree=0.725, model__gamma=0.2, model__learning_rate=0.001, model__max_depth=9, model__min_child_weight=11, model__n_estimators=1000, model__reg_alpha=0.4, model__reg_lambda=0.25, model__subsample=0.975; total time=  10.3s\n"
     ]
    },
    {
     "name": "stderr",
     "output_type": "stream",
     "text": [
      "/home/wsl2ubuntuuser/.virtualenvs/nomination_predictor/lib/python3.12/site-packages/sklearn/preprocessing/_encoders.py:246: UserWarning: Found unknown categories in columns [1, 4, 9, 12, 13, 17, 19, 21] during transform. These unknown categories will be encoded as all zeros\n",
      "  warnings.warn(\n"
     ]
    },
    {
     "name": "stdout",
     "output_type": "stream",
     "text": [
      "[CV] END model__colsample_bytree=0.725, model__gamma=0.3, model__learning_rate=0.01, model__max_depth=11, model__min_child_weight=11, model__n_estimators=1500, model__reg_alpha=0.5, model__reg_lambda=1.0, model__subsample=0.95; total time=  14.8s\n"
     ]
    },
    {
     "name": "stderr",
     "output_type": "stream",
     "text": [
      "/home/wsl2ubuntuuser/.virtualenvs/nomination_predictor/lib/python3.12/site-packages/sklearn/preprocessing/_encoders.py:246: UserWarning: Found unknown categories in columns [4, 9, 11, 12, 13, 17, 19] during transform. These unknown categories will be encoded as all zeros\n",
      "  warnings.warn(\n"
     ]
    },
    {
     "name": "stdout",
     "output_type": "stream",
     "text": [
      "[CV] END model__colsample_bytree=0.725, model__gamma=0.3, model__learning_rate=0.01, model__max_depth=11, model__min_child_weight=11, model__n_estimators=1500, model__reg_alpha=0.5, model__reg_lambda=1.0, model__subsample=0.95; total time=  14.6s\n"
     ]
    },
    {
     "name": "stderr",
     "output_type": "stream",
     "text": [
      "/home/wsl2ubuntuuser/.virtualenvs/nomination_predictor/lib/python3.12/site-packages/sklearn/preprocessing/_encoders.py:246: UserWarning: Found unknown categories in columns [0, 4, 9, 12, 17, 19, 21] during transform. These unknown categories will be encoded as all zeros\n",
      "  warnings.warn(\n"
     ]
    },
    {
     "name": "stdout",
     "output_type": "stream",
     "text": [
      "[CV] END model__colsample_bytree=0.725, model__gamma=0.3, model__learning_rate=0.01, model__max_depth=11, model__min_child_weight=11, model__n_estimators=1500, model__reg_alpha=0.5, model__reg_lambda=1.0, model__subsample=0.95; total time=  13.8s\n"
     ]
    },
    {
     "name": "stderr",
     "output_type": "stream",
     "text": [
      "/home/wsl2ubuntuuser/.virtualenvs/nomination_predictor/lib/python3.12/site-packages/sklearn/preprocessing/_encoders.py:246: UserWarning: Found unknown categories in columns [4, 9, 11, 12, 17, 19, 21] during transform. These unknown categories will be encoded as all zeros\n",
      "  warnings.warn(\n"
     ]
    },
    {
     "name": "stdout",
     "output_type": "stream",
     "text": [
      "[CV] END model__colsample_bytree=0.725, model__gamma=0.3, model__learning_rate=0.01, model__max_depth=11, model__min_child_weight=11, model__n_estimators=1500, model__reg_alpha=0.5, model__reg_lambda=1.0, model__subsample=0.95; total time=  15.5s\n"
     ]
    },
    {
     "name": "stderr",
     "output_type": "stream",
     "text": [
      "/home/wsl2ubuntuuser/.virtualenvs/nomination_predictor/lib/python3.12/site-packages/sklearn/preprocessing/_encoders.py:246: UserWarning: Found unknown categories in columns [1, 4, 9, 12, 17, 19] during transform. These unknown categories will be encoded as all zeros\n",
      "  warnings.warn(\n"
     ]
    },
    {
     "name": "stdout",
     "output_type": "stream",
     "text": [
      "[CV] END model__colsample_bytree=0.725, model__gamma=0.3, model__learning_rate=0.01, model__max_depth=11, model__min_child_weight=11, model__n_estimators=1500, model__reg_alpha=0.5, model__reg_lambda=1.0, model__subsample=0.95; total time=  15.3s\n"
     ]
    },
    {
     "name": "stderr",
     "output_type": "stream",
     "text": [
      "/home/wsl2ubuntuuser/.virtualenvs/nomination_predictor/lib/python3.12/site-packages/sklearn/preprocessing/_encoders.py:246: UserWarning: Found unknown categories in columns [1, 4, 9, 12, 13, 17, 19, 21] during transform. These unknown categories will be encoded as all zeros\n",
      "  warnings.warn(\n"
     ]
    },
    {
     "name": "stdout",
     "output_type": "stream",
     "text": [
      "[CV] END model__colsample_bytree=0.75, model__gamma=0.25, model__learning_rate=0.02, model__max_depth=9, model__min_child_weight=8, model__n_estimators=1500, model__reg_alpha=0.6, model__reg_lambda=0.6, model__subsample=1.0; total time=  12.4s\n"
     ]
    },
    {
     "name": "stderr",
     "output_type": "stream",
     "text": [
      "/home/wsl2ubuntuuser/.virtualenvs/nomination_predictor/lib/python3.12/site-packages/sklearn/preprocessing/_encoders.py:246: UserWarning: Found unknown categories in columns [4, 9, 11, 12, 13, 17, 19] during transform. These unknown categories will be encoded as all zeros\n",
      "  warnings.warn(\n"
     ]
    },
    {
     "name": "stdout",
     "output_type": "stream",
     "text": [
      "[CV] END model__colsample_bytree=0.75, model__gamma=0.25, model__learning_rate=0.02, model__max_depth=9, model__min_child_weight=8, model__n_estimators=1500, model__reg_alpha=0.6, model__reg_lambda=0.6, model__subsample=1.0; total time=  11.8s\n"
     ]
    },
    {
     "name": "stderr",
     "output_type": "stream",
     "text": [
      "/home/wsl2ubuntuuser/.virtualenvs/nomination_predictor/lib/python3.12/site-packages/sklearn/preprocessing/_encoders.py:246: UserWarning: Found unknown categories in columns [0, 4, 9, 12, 17, 19, 21] during transform. These unknown categories will be encoded as all zeros\n",
      "  warnings.warn(\n"
     ]
    },
    {
     "name": "stdout",
     "output_type": "stream",
     "text": [
      "[CV] END model__colsample_bytree=0.75, model__gamma=0.25, model__learning_rate=0.02, model__max_depth=9, model__min_child_weight=8, model__n_estimators=1500, model__reg_alpha=0.6, model__reg_lambda=0.6, model__subsample=1.0; total time=  14.5s\n"
     ]
    },
    {
     "name": "stderr",
     "output_type": "stream",
     "text": [
      "/home/wsl2ubuntuuser/.virtualenvs/nomination_predictor/lib/python3.12/site-packages/sklearn/preprocessing/_encoders.py:246: UserWarning: Found unknown categories in columns [4, 9, 11, 12, 17, 19, 21] during transform. These unknown categories will be encoded as all zeros\n",
      "  warnings.warn(\n"
     ]
    },
    {
     "name": "stdout",
     "output_type": "stream",
     "text": [
      "[CV] END model__colsample_bytree=0.75, model__gamma=0.25, model__learning_rate=0.02, model__max_depth=9, model__min_child_weight=8, model__n_estimators=1500, model__reg_alpha=0.6, model__reg_lambda=0.6, model__subsample=1.0; total time=  15.3s\n"
     ]
    },
    {
     "name": "stderr",
     "output_type": "stream",
     "text": [
      "/home/wsl2ubuntuuser/.virtualenvs/nomination_predictor/lib/python3.12/site-packages/sklearn/preprocessing/_encoders.py:246: UserWarning: Found unknown categories in columns [1, 4, 9, 12, 17, 19] during transform. These unknown categories will be encoded as all zeros\n",
      "  warnings.warn(\n"
     ]
    },
    {
     "name": "stdout",
     "output_type": "stream",
     "text": [
      "[CV] END model__colsample_bytree=0.75, model__gamma=0.25, model__learning_rate=0.02, model__max_depth=9, model__min_child_weight=8, model__n_estimators=1500, model__reg_alpha=0.6, model__reg_lambda=0.6, model__subsample=1.0; total time=  13.5s\n"
     ]
    },
    {
     "name": "stderr",
     "output_type": "stream",
     "text": [
      "/home/wsl2ubuntuuser/.virtualenvs/nomination_predictor/lib/python3.12/site-packages/sklearn/preprocessing/_encoders.py:246: UserWarning: Found unknown categories in columns [1, 4, 9, 12, 13, 17, 19, 21] during transform. These unknown categories will be encoded as all zeros\n",
      "  warnings.warn(\n"
     ]
    },
    {
     "name": "stdout",
     "output_type": "stream",
     "text": [
      "[CV] END model__colsample_bytree=0.675, model__gamma=0.25, model__learning_rate=0.01, model__max_depth=11, model__min_child_weight=9, model__n_estimators=1000, model__reg_alpha=0.5, model__reg_lambda=0.4, model__subsample=1.0; total time=  47.5s\n"
     ]
    },
    {
     "name": "stderr",
     "output_type": "stream",
     "text": [
      "/home/wsl2ubuntuuser/.virtualenvs/nomination_predictor/lib/python3.12/site-packages/sklearn/preprocessing/_encoders.py:246: UserWarning: Found unknown categories in columns [4, 9, 11, 12, 13, 17, 19] during transform. These unknown categories will be encoded as all zeros\n",
      "  warnings.warn(\n"
     ]
    },
    {
     "name": "stdout",
     "output_type": "stream",
     "text": [
      "[CV] END model__colsample_bytree=0.675, model__gamma=0.25, model__learning_rate=0.01, model__max_depth=11, model__min_child_weight=9, model__n_estimators=1000, model__reg_alpha=0.5, model__reg_lambda=0.4, model__subsample=1.0; total time= -26.8s\n"
     ]
    },
    {
     "name": "stderr",
     "output_type": "stream",
     "text": [
      "/home/wsl2ubuntuuser/.virtualenvs/nomination_predictor/lib/python3.12/site-packages/sklearn/preprocessing/_encoders.py:246: UserWarning: Found unknown categories in columns [0, 4, 9, 12, 17, 19, 21] during transform. These unknown categories will be encoded as all zeros\n",
      "  warnings.warn(\n"
     ]
    },
    {
     "name": "stdout",
     "output_type": "stream",
     "text": [
      "[CV] END model__colsample_bytree=0.675, model__gamma=0.25, model__learning_rate=0.01, model__max_depth=11, model__min_child_weight=9, model__n_estimators=1000, model__reg_alpha=0.5, model__reg_lambda=0.4, model__subsample=1.0; total time=  10.5s\n"
     ]
    },
    {
     "name": "stderr",
     "output_type": "stream",
     "text": [
      "/home/wsl2ubuntuuser/.virtualenvs/nomination_predictor/lib/python3.12/site-packages/sklearn/preprocessing/_encoders.py:246: UserWarning: Found unknown categories in columns [4, 9, 11, 12, 17, 19, 21] during transform. These unknown categories will be encoded as all zeros\n",
      "  warnings.warn(\n"
     ]
    },
    {
     "name": "stdout",
     "output_type": "stream",
     "text": [
      "[CV] END model__colsample_bytree=0.675, model__gamma=0.25, model__learning_rate=0.01, model__max_depth=11, model__min_child_weight=9, model__n_estimators=1000, model__reg_alpha=0.5, model__reg_lambda=0.4, model__subsample=1.0; total time=  10.3s\n"
     ]
    },
    {
     "name": "stderr",
     "output_type": "stream",
     "text": [
      "/home/wsl2ubuntuuser/.virtualenvs/nomination_predictor/lib/python3.12/site-packages/sklearn/preprocessing/_encoders.py:246: UserWarning: Found unknown categories in columns [1, 4, 9, 12, 17, 19] during transform. These unknown categories will be encoded as all zeros\n",
      "  warnings.warn(\n"
     ]
    },
    {
     "name": "stdout",
     "output_type": "stream",
     "text": [
      "[CV] END model__colsample_bytree=0.675, model__gamma=0.25, model__learning_rate=0.01, model__max_depth=11, model__min_child_weight=9, model__n_estimators=1000, model__reg_alpha=0.5, model__reg_lambda=0.4, model__subsample=1.0; total time=   9.7s\n"
     ]
    },
    {
     "name": "stderr",
     "output_type": "stream",
     "text": [
      "/home/wsl2ubuntuuser/.virtualenvs/nomination_predictor/lib/python3.12/site-packages/sklearn/preprocessing/_encoders.py:246: UserWarning: Found unknown categories in columns [1, 4, 9, 12, 13, 17, 19, 21] during transform. These unknown categories will be encoded as all zeros\n",
      "  warnings.warn(\n"
     ]
    },
    {
     "name": "stdout",
     "output_type": "stream",
     "text": [
      "[CV] END model__colsample_bytree=0.675, model__gamma=0.3, model__learning_rate=0.03, model__max_depth=11, model__min_child_weight=9, model__n_estimators=1000, model__reg_alpha=0.25, model__reg_lambda=0.6, model__subsample=0.95; total time=  10.3s\n"
     ]
    },
    {
     "name": "stderr",
     "output_type": "stream",
     "text": [
      "/home/wsl2ubuntuuser/.virtualenvs/nomination_predictor/lib/python3.12/site-packages/sklearn/preprocessing/_encoders.py:246: UserWarning: Found unknown categories in columns [4, 9, 11, 12, 13, 17, 19] during transform. These unknown categories will be encoded as all zeros\n",
      "  warnings.warn(\n"
     ]
    },
    {
     "name": "stdout",
     "output_type": "stream",
     "text": [
      "[CV] END model__colsample_bytree=0.675, model__gamma=0.3, model__learning_rate=0.03, model__max_depth=11, model__min_child_weight=9, model__n_estimators=1000, model__reg_alpha=0.25, model__reg_lambda=0.6, model__subsample=0.95; total time=  10.4s\n"
     ]
    },
    {
     "name": "stderr",
     "output_type": "stream",
     "text": [
      "/home/wsl2ubuntuuser/.virtualenvs/nomination_predictor/lib/python3.12/site-packages/sklearn/preprocessing/_encoders.py:246: UserWarning: Found unknown categories in columns [0, 4, 9, 12, 17, 19, 21] during transform. These unknown categories will be encoded as all zeros\n",
      "  warnings.warn(\n"
     ]
    },
    {
     "name": "stdout",
     "output_type": "stream",
     "text": [
      "[CV] END model__colsample_bytree=0.675, model__gamma=0.3, model__learning_rate=0.03, model__max_depth=11, model__min_child_weight=9, model__n_estimators=1000, model__reg_alpha=0.25, model__reg_lambda=0.6, model__subsample=0.95; total time=   9.7s\n"
     ]
    },
    {
     "name": "stderr",
     "output_type": "stream",
     "text": [
      "/home/wsl2ubuntuuser/.virtualenvs/nomination_predictor/lib/python3.12/site-packages/sklearn/preprocessing/_encoders.py:246: UserWarning: Found unknown categories in columns [4, 9, 11, 12, 17, 19, 21] during transform. These unknown categories will be encoded as all zeros\n",
      "  warnings.warn(\n"
     ]
    },
    {
     "name": "stdout",
     "output_type": "stream",
     "text": [
      "[CV] END model__colsample_bytree=0.675, model__gamma=0.3, model__learning_rate=0.03, model__max_depth=11, model__min_child_weight=9, model__n_estimators=1000, model__reg_alpha=0.25, model__reg_lambda=0.6, model__subsample=0.95; total time=  10.5s\n"
     ]
    },
    {
     "name": "stderr",
     "output_type": "stream",
     "text": [
      "/home/wsl2ubuntuuser/.virtualenvs/nomination_predictor/lib/python3.12/site-packages/sklearn/preprocessing/_encoders.py:246: UserWarning: Found unknown categories in columns [1, 4, 9, 12, 17, 19] during transform. These unknown categories will be encoded as all zeros\n",
      "  warnings.warn(\n"
     ]
    },
    {
     "name": "stdout",
     "output_type": "stream",
     "text": [
      "[CV] END model__colsample_bytree=0.675, model__gamma=0.3, model__learning_rate=0.03, model__max_depth=11, model__min_child_weight=9, model__n_estimators=1000, model__reg_alpha=0.25, model__reg_lambda=0.6, model__subsample=0.95; total time=  10.4s\n"
     ]
    },
    {
     "name": "stderr",
     "output_type": "stream",
     "text": [
      "/home/wsl2ubuntuuser/.virtualenvs/nomination_predictor/lib/python3.12/site-packages/sklearn/preprocessing/_encoders.py:246: UserWarning: Found unknown categories in columns [1, 4, 9, 12, 13, 17, 19, 21] during transform. These unknown categories will be encoded as all zeros\n",
      "  warnings.warn(\n"
     ]
    },
    {
     "name": "stdout",
     "output_type": "stream",
     "text": [
      "[CV] END model__colsample_bytree=0.65, model__gamma=0.35, model__learning_rate=0.03, model__max_depth=8, model__min_child_weight=8, model__n_estimators=1000, model__reg_alpha=1.0, model__reg_lambda=0.25, model__subsample=0.95; total time=   7.4s\n"
     ]
    },
    {
     "name": "stderr",
     "output_type": "stream",
     "text": [
      "/home/wsl2ubuntuuser/.virtualenvs/nomination_predictor/lib/python3.12/site-packages/sklearn/preprocessing/_encoders.py:246: UserWarning: Found unknown categories in columns [4, 9, 11, 12, 13, 17, 19] during transform. These unknown categories will be encoded as all zeros\n",
      "  warnings.warn(\n"
     ]
    },
    {
     "name": "stdout",
     "output_type": "stream",
     "text": [
      "[CV] END model__colsample_bytree=0.65, model__gamma=0.35, model__learning_rate=0.03, model__max_depth=8, model__min_child_weight=8, model__n_estimators=1000, model__reg_alpha=1.0, model__reg_lambda=0.25, model__subsample=0.95; total time=   7.3s\n"
     ]
    },
    {
     "name": "stderr",
     "output_type": "stream",
     "text": [
      "/home/wsl2ubuntuuser/.virtualenvs/nomination_predictor/lib/python3.12/site-packages/sklearn/preprocessing/_encoders.py:246: UserWarning: Found unknown categories in columns [0, 4, 9, 12, 17, 19, 21] during transform. These unknown categories will be encoded as all zeros\n",
      "  warnings.warn(\n"
     ]
    },
    {
     "name": "stdout",
     "output_type": "stream",
     "text": [
      "[CV] END model__colsample_bytree=0.65, model__gamma=0.35, model__learning_rate=0.03, model__max_depth=8, model__min_child_weight=8, model__n_estimators=1000, model__reg_alpha=1.0, model__reg_lambda=0.25, model__subsample=0.95; total time=   7.5s\n"
     ]
    },
    {
     "name": "stderr",
     "output_type": "stream",
     "text": [
      "/home/wsl2ubuntuuser/.virtualenvs/nomination_predictor/lib/python3.12/site-packages/sklearn/preprocessing/_encoders.py:246: UserWarning: Found unknown categories in columns [4, 9, 11, 12, 17, 19, 21] during transform. These unknown categories will be encoded as all zeros\n",
      "  warnings.warn(\n"
     ]
    },
    {
     "name": "stdout",
     "output_type": "stream",
     "text": [
      "[CV] END model__colsample_bytree=0.65, model__gamma=0.35, model__learning_rate=0.03, model__max_depth=8, model__min_child_weight=8, model__n_estimators=1000, model__reg_alpha=1.0, model__reg_lambda=0.25, model__subsample=0.95; total time=   7.8s\n"
     ]
    },
    {
     "name": "stderr",
     "output_type": "stream",
     "text": [
      "/home/wsl2ubuntuuser/.virtualenvs/nomination_predictor/lib/python3.12/site-packages/sklearn/preprocessing/_encoders.py:246: UserWarning: Found unknown categories in columns [1, 4, 9, 12, 17, 19] during transform. These unknown categories will be encoded as all zeros\n",
      "  warnings.warn(\n"
     ]
    },
    {
     "name": "stdout",
     "output_type": "stream",
     "text": [
      "[CV] END model__colsample_bytree=0.65, model__gamma=0.35, model__learning_rate=0.03, model__max_depth=8, model__min_child_weight=8, model__n_estimators=1000, model__reg_alpha=1.0, model__reg_lambda=0.25, model__subsample=0.95; total time=   7.6s\n"
     ]
    },
    {
     "name": "stderr",
     "output_type": "stream",
     "text": [
      "/home/wsl2ubuntuuser/.virtualenvs/nomination_predictor/lib/python3.12/site-packages/sklearn/preprocessing/_encoders.py:246: UserWarning: Found unknown categories in columns [1, 4, 9, 12, 13, 17, 19, 21] during transform. These unknown categories will be encoded as all zeros\n",
      "  warnings.warn(\n"
     ]
    },
    {
     "name": "stdout",
     "output_type": "stream",
     "text": [
      "[CV] END model__colsample_bytree=0.7, model__gamma=0.35, model__learning_rate=0.03, model__max_depth=11, model__min_child_weight=8, model__n_estimators=500, model__reg_alpha=1.0, model__reg_lambda=0.25, model__subsample=0.95; total time=   4.9s\n"
     ]
    },
    {
     "name": "stderr",
     "output_type": "stream",
     "text": [
      "/home/wsl2ubuntuuser/.virtualenvs/nomination_predictor/lib/python3.12/site-packages/sklearn/preprocessing/_encoders.py:246: UserWarning: Found unknown categories in columns [4, 9, 11, 12, 13, 17, 19] during transform. These unknown categories will be encoded as all zeros\n",
      "  warnings.warn(\n"
     ]
    },
    {
     "name": "stdout",
     "output_type": "stream",
     "text": [
      "[CV] END model__colsample_bytree=0.7, model__gamma=0.35, model__learning_rate=0.03, model__max_depth=11, model__min_child_weight=8, model__n_estimators=500, model__reg_alpha=1.0, model__reg_lambda=0.25, model__subsample=0.95; total time=   5.0s\n"
     ]
    },
    {
     "name": "stderr",
     "output_type": "stream",
     "text": [
      "/home/wsl2ubuntuuser/.virtualenvs/nomination_predictor/lib/python3.12/site-packages/sklearn/preprocessing/_encoders.py:246: UserWarning: Found unknown categories in columns [0, 4, 9, 12, 17, 19, 21] during transform. These unknown categories will be encoded as all zeros\n",
      "  warnings.warn(\n"
     ]
    },
    {
     "name": "stdout",
     "output_type": "stream",
     "text": [
      "[CV] END model__colsample_bytree=0.7, model__gamma=0.35, model__learning_rate=0.03, model__max_depth=11, model__min_child_weight=8, model__n_estimators=500, model__reg_alpha=1.0, model__reg_lambda=0.25, model__subsample=0.95; total time=   5.0s\n"
     ]
    },
    {
     "name": "stderr",
     "output_type": "stream",
     "text": [
      "/home/wsl2ubuntuuser/.virtualenvs/nomination_predictor/lib/python3.12/site-packages/sklearn/preprocessing/_encoders.py:246: UserWarning: Found unknown categories in columns [4, 9, 11, 12, 17, 19, 21] during transform. These unknown categories will be encoded as all zeros\n",
      "  warnings.warn(\n"
     ]
    },
    {
     "name": "stdout",
     "output_type": "stream",
     "text": [
      "[CV] END model__colsample_bytree=0.7, model__gamma=0.35, model__learning_rate=0.03, model__max_depth=11, model__min_child_weight=8, model__n_estimators=500, model__reg_alpha=1.0, model__reg_lambda=0.25, model__subsample=0.95; total time=   5.8s\n"
     ]
    },
    {
     "name": "stderr",
     "output_type": "stream",
     "text": [
      "/home/wsl2ubuntuuser/.virtualenvs/nomination_predictor/lib/python3.12/site-packages/sklearn/preprocessing/_encoders.py:246: UserWarning: Found unknown categories in columns [1, 4, 9, 12, 17, 19] during transform. These unknown categories will be encoded as all zeros\n",
      "  warnings.warn(\n"
     ]
    },
    {
     "name": "stdout",
     "output_type": "stream",
     "text": [
      "[CV] END model__colsample_bytree=0.7, model__gamma=0.35, model__learning_rate=0.03, model__max_depth=11, model__min_child_weight=8, model__n_estimators=500, model__reg_alpha=1.0, model__reg_lambda=0.25, model__subsample=0.95; total time=   5.9s\n"
     ]
    },
    {
     "name": "stderr",
     "output_type": "stream",
     "text": [
      "/home/wsl2ubuntuuser/.virtualenvs/nomination_predictor/lib/python3.12/site-packages/sklearn/preprocessing/_encoders.py:246: UserWarning: Found unknown categories in columns [1, 4, 9, 12, 13, 17, 19, 21] during transform. These unknown categories will be encoded as all zeros\n",
      "  warnings.warn(\n"
     ]
    },
    {
     "name": "stdout",
     "output_type": "stream",
     "text": [
      "[CV] END model__colsample_bytree=0.65, model__gamma=0.2, model__learning_rate=0.001, model__max_depth=7, model__min_child_weight=10, model__n_estimators=500, model__reg_alpha=0.5, model__reg_lambda=0.25, model__subsample=0.975; total time=   4.0s\n"
     ]
    },
    {
     "name": "stderr",
     "output_type": "stream",
     "text": [
      "/home/wsl2ubuntuuser/.virtualenvs/nomination_predictor/lib/python3.12/site-packages/sklearn/preprocessing/_encoders.py:246: UserWarning: Found unknown categories in columns [4, 9, 11, 12, 13, 17, 19] during transform. These unknown categories will be encoded as all zeros\n",
      "  warnings.warn(\n"
     ]
    },
    {
     "name": "stdout",
     "output_type": "stream",
     "text": [
      "[CV] END model__colsample_bytree=0.65, model__gamma=0.2, model__learning_rate=0.001, model__max_depth=7, model__min_child_weight=10, model__n_estimators=500, model__reg_alpha=0.5, model__reg_lambda=0.25, model__subsample=0.975; total time=   4.2s\n"
     ]
    },
    {
     "name": "stderr",
     "output_type": "stream",
     "text": [
      "/home/wsl2ubuntuuser/.virtualenvs/nomination_predictor/lib/python3.12/site-packages/sklearn/preprocessing/_encoders.py:246: UserWarning: Found unknown categories in columns [0, 4, 9, 12, 17, 19, 21] during transform. These unknown categories will be encoded as all zeros\n",
      "  warnings.warn(\n"
     ]
    },
    {
     "name": "stdout",
     "output_type": "stream",
     "text": [
      "[CV] END model__colsample_bytree=0.65, model__gamma=0.2, model__learning_rate=0.001, model__max_depth=7, model__min_child_weight=10, model__n_estimators=500, model__reg_alpha=0.5, model__reg_lambda=0.25, model__subsample=0.975; total time=   3.9s\n"
     ]
    },
    {
     "name": "stderr",
     "output_type": "stream",
     "text": [
      "/home/wsl2ubuntuuser/.virtualenvs/nomination_predictor/lib/python3.12/site-packages/sklearn/preprocessing/_encoders.py:246: UserWarning: Found unknown categories in columns [4, 9, 11, 12, 17, 19, 21] during transform. These unknown categories will be encoded as all zeros\n",
      "  warnings.warn(\n"
     ]
    },
    {
     "name": "stdout",
     "output_type": "stream",
     "text": [
      "[CV] END model__colsample_bytree=0.65, model__gamma=0.2, model__learning_rate=0.001, model__max_depth=7, model__min_child_weight=10, model__n_estimators=500, model__reg_alpha=0.5, model__reg_lambda=0.25, model__subsample=0.975; total time=   4.0s\n"
     ]
    },
    {
     "name": "stderr",
     "output_type": "stream",
     "text": [
      "/home/wsl2ubuntuuser/.virtualenvs/nomination_predictor/lib/python3.12/site-packages/sklearn/preprocessing/_encoders.py:246: UserWarning: Found unknown categories in columns [1, 4, 9, 12, 17, 19] during transform. These unknown categories will be encoded as all zeros\n",
      "  warnings.warn(\n"
     ]
    },
    {
     "name": "stdout",
     "output_type": "stream",
     "text": [
      "[CV] END model__colsample_bytree=0.65, model__gamma=0.2, model__learning_rate=0.001, model__max_depth=7, model__min_child_weight=10, model__n_estimators=500, model__reg_alpha=0.5, model__reg_lambda=0.25, model__subsample=0.975; total time=   4.2s\n"
     ]
    },
    {
     "name": "stderr",
     "output_type": "stream",
     "text": [
      "/home/wsl2ubuntuuser/.virtualenvs/nomination_predictor/lib/python3.12/site-packages/sklearn/preprocessing/_encoders.py:246: UserWarning: Found unknown categories in columns [1, 4, 9, 12, 13, 17, 19, 21] during transform. These unknown categories will be encoded as all zeros\n",
      "  warnings.warn(\n"
     ]
    },
    {
     "name": "stdout",
     "output_type": "stream",
     "text": [
      "[CV] END model__colsample_bytree=0.75, model__gamma=0.25, model__learning_rate=0.02, model__max_depth=11, model__min_child_weight=9, model__n_estimators=1000, model__reg_alpha=0.5, model__reg_lambda=0.6, model__subsample=1.0; total time=  10.1s\n"
     ]
    },
    {
     "name": "stderr",
     "output_type": "stream",
     "text": [
      "/home/wsl2ubuntuuser/.virtualenvs/nomination_predictor/lib/python3.12/site-packages/sklearn/preprocessing/_encoders.py:246: UserWarning: Found unknown categories in columns [4, 9, 11, 12, 13, 17, 19] during transform. These unknown categories will be encoded as all zeros\n",
      "  warnings.warn(\n"
     ]
    },
    {
     "name": "stdout",
     "output_type": "stream",
     "text": [
      "[CV] END model__colsample_bytree=0.75, model__gamma=0.25, model__learning_rate=0.02, model__max_depth=11, model__min_child_weight=9, model__n_estimators=1000, model__reg_alpha=0.5, model__reg_lambda=0.6, model__subsample=1.0; total time=   9.5s\n"
     ]
    },
    {
     "name": "stderr",
     "output_type": "stream",
     "text": [
      "/home/wsl2ubuntuuser/.virtualenvs/nomination_predictor/lib/python3.12/site-packages/sklearn/preprocessing/_encoders.py:246: UserWarning: Found unknown categories in columns [0, 4, 9, 12, 17, 19, 21] during transform. These unknown categories will be encoded as all zeros\n",
      "  warnings.warn(\n"
     ]
    },
    {
     "name": "stdout",
     "output_type": "stream",
     "text": [
      "[CV] END model__colsample_bytree=0.75, model__gamma=0.25, model__learning_rate=0.02, model__max_depth=11, model__min_child_weight=9, model__n_estimators=1000, model__reg_alpha=0.5, model__reg_lambda=0.6, model__subsample=1.0; total time=  10.0s\n"
     ]
    },
    {
     "name": "stderr",
     "output_type": "stream",
     "text": [
      "/home/wsl2ubuntuuser/.virtualenvs/nomination_predictor/lib/python3.12/site-packages/sklearn/preprocessing/_encoders.py:246: UserWarning: Found unknown categories in columns [4, 9, 11, 12, 17, 19, 21] during transform. These unknown categories will be encoded as all zeros\n",
      "  warnings.warn(\n"
     ]
    },
    {
     "name": "stdout",
     "output_type": "stream",
     "text": [
      "[CV] END model__colsample_bytree=0.75, model__gamma=0.25, model__learning_rate=0.02, model__max_depth=11, model__min_child_weight=9, model__n_estimators=1000, model__reg_alpha=0.5, model__reg_lambda=0.6, model__subsample=1.0; total time=  11.2s\n"
     ]
    },
    {
     "name": "stderr",
     "output_type": "stream",
     "text": [
      "/home/wsl2ubuntuuser/.virtualenvs/nomination_predictor/lib/python3.12/site-packages/sklearn/preprocessing/_encoders.py:246: UserWarning: Found unknown categories in columns [1, 4, 9, 12, 17, 19] during transform. These unknown categories will be encoded as all zeros\n",
      "  warnings.warn(\n"
     ]
    },
    {
     "name": "stdout",
     "output_type": "stream",
     "text": [
      "[CV] END model__colsample_bytree=0.75, model__gamma=0.25, model__learning_rate=0.02, model__max_depth=11, model__min_child_weight=9, model__n_estimators=1000, model__reg_alpha=0.5, model__reg_lambda=0.6, model__subsample=1.0; total time=  11.8s\n"
     ]
    },
    {
     "name": "stderr",
     "output_type": "stream",
     "text": [
      "/home/wsl2ubuntuuser/.virtualenvs/nomination_predictor/lib/python3.12/site-packages/sklearn/preprocessing/_encoders.py:246: UserWarning: Found unknown categories in columns [1, 4, 9, 12, 13, 17, 19, 21] during transform. These unknown categories will be encoded as all zeros\n",
      "  warnings.warn(\n"
     ]
    },
    {
     "name": "stdout",
     "output_type": "stream",
     "text": [
      "[CV] END model__colsample_bytree=0.725, model__gamma=0.25, model__learning_rate=0.01, model__max_depth=9, model__min_child_weight=11, model__n_estimators=1500, model__reg_alpha=0.4, model__reg_lambda=1.0, model__subsample=0.95; total time=  13.2s\n"
     ]
    },
    {
     "name": "stderr",
     "output_type": "stream",
     "text": [
      "/home/wsl2ubuntuuser/.virtualenvs/nomination_predictor/lib/python3.12/site-packages/sklearn/preprocessing/_encoders.py:246: UserWarning: Found unknown categories in columns [4, 9, 11, 12, 13, 17, 19] during transform. These unknown categories will be encoded as all zeros\n",
      "  warnings.warn(\n"
     ]
    },
    {
     "name": "stdout",
     "output_type": "stream",
     "text": [
      "[CV] END model__colsample_bytree=0.725, model__gamma=0.25, model__learning_rate=0.01, model__max_depth=9, model__min_child_weight=11, model__n_estimators=1500, model__reg_alpha=0.4, model__reg_lambda=1.0, model__subsample=0.95; total time=  12.4s\n"
     ]
    },
    {
     "name": "stderr",
     "output_type": "stream",
     "text": [
      "/home/wsl2ubuntuuser/.virtualenvs/nomination_predictor/lib/python3.12/site-packages/sklearn/preprocessing/_encoders.py:246: UserWarning: Found unknown categories in columns [0, 4, 9, 12, 17, 19, 21] during transform. These unknown categories will be encoded as all zeros\n",
      "  warnings.warn(\n"
     ]
    },
    {
     "name": "stdout",
     "output_type": "stream",
     "text": [
      "[CV] END model__colsample_bytree=0.725, model__gamma=0.25, model__learning_rate=0.01, model__max_depth=9, model__min_child_weight=11, model__n_estimators=1500, model__reg_alpha=0.4, model__reg_lambda=1.0, model__subsample=0.95; total time=  13.2s\n"
     ]
    },
    {
     "name": "stderr",
     "output_type": "stream",
     "text": [
      "/home/wsl2ubuntuuser/.virtualenvs/nomination_predictor/lib/python3.12/site-packages/sklearn/preprocessing/_encoders.py:246: UserWarning: Found unknown categories in columns [4, 9, 11, 12, 17, 19, 21] during transform. These unknown categories will be encoded as all zeros\n",
      "  warnings.warn(\n"
     ]
    },
    {
     "name": "stdout",
     "output_type": "stream",
     "text": [
      "[CV] END model__colsample_bytree=0.725, model__gamma=0.25, model__learning_rate=0.01, model__max_depth=9, model__min_child_weight=11, model__n_estimators=1500, model__reg_alpha=0.4, model__reg_lambda=1.0, model__subsample=0.95; total time=  14.4s\n"
     ]
    },
    {
     "name": "stderr",
     "output_type": "stream",
     "text": [
      "/home/wsl2ubuntuuser/.virtualenvs/nomination_predictor/lib/python3.12/site-packages/sklearn/preprocessing/_encoders.py:246: UserWarning: Found unknown categories in columns [1, 4, 9, 12, 17, 19] during transform. These unknown categories will be encoded as all zeros\n",
      "  warnings.warn(\n"
     ]
    },
    {
     "name": "stdout",
     "output_type": "stream",
     "text": [
      "[CV] END model__colsample_bytree=0.725, model__gamma=0.25, model__learning_rate=0.01, model__max_depth=9, model__min_child_weight=11, model__n_estimators=1500, model__reg_alpha=0.4, model__reg_lambda=1.0, model__subsample=0.95; total time=  50.0s\n"
     ]
    },
    {
     "name": "stderr",
     "output_type": "stream",
     "text": [
      "/home/wsl2ubuntuuser/.virtualenvs/nomination_predictor/lib/python3.12/site-packages/sklearn/preprocessing/_encoders.py:246: UserWarning: Found unknown categories in columns [1, 4, 9, 12, 13, 17, 19, 21] during transform. These unknown categories will be encoded as all zeros\n",
      "  warnings.warn(\n"
     ]
    },
    {
     "name": "stdout",
     "output_type": "stream",
     "text": [
      "[CV] END model__colsample_bytree=0.7, model__gamma=0.25, model__learning_rate=0.02, model__max_depth=11, model__min_child_weight=8, model__n_estimators=100, model__reg_alpha=0.25, model__reg_lambda=1.0, model__subsample=0.95; total time= -35.2s\n"
     ]
    },
    {
     "name": "stderr",
     "output_type": "stream",
     "text": [
      "/home/wsl2ubuntuuser/.virtualenvs/nomination_predictor/lib/python3.12/site-packages/sklearn/preprocessing/_encoders.py:246: UserWarning: Found unknown categories in columns [4, 9, 11, 12, 13, 17, 19] during transform. These unknown categories will be encoded as all zeros\n",
      "  warnings.warn(\n"
     ]
    },
    {
     "name": "stdout",
     "output_type": "stream",
     "text": [
      "[CV] END model__colsample_bytree=0.7, model__gamma=0.25, model__learning_rate=0.02, model__max_depth=11, model__min_child_weight=8, model__n_estimators=100, model__reg_alpha=0.25, model__reg_lambda=1.0, model__subsample=0.95; total time=   1.7s\n"
     ]
    },
    {
     "name": "stderr",
     "output_type": "stream",
     "text": [
      "/home/wsl2ubuntuuser/.virtualenvs/nomination_predictor/lib/python3.12/site-packages/sklearn/preprocessing/_encoders.py:246: UserWarning: Found unknown categories in columns [0, 4, 9, 12, 17, 19, 21] during transform. These unknown categories will be encoded as all zeros\n",
      "  warnings.warn(\n"
     ]
    },
    {
     "name": "stdout",
     "output_type": "stream",
     "text": [
      "[CV] END model__colsample_bytree=0.7, model__gamma=0.25, model__learning_rate=0.02, model__max_depth=11, model__min_child_weight=8, model__n_estimators=100, model__reg_alpha=0.25, model__reg_lambda=1.0, model__subsample=0.95; total time=  38.6s\n"
     ]
    },
    {
     "name": "stderr",
     "output_type": "stream",
     "text": [
      "/home/wsl2ubuntuuser/.virtualenvs/nomination_predictor/lib/python3.12/site-packages/sklearn/preprocessing/_encoders.py:246: UserWarning: Found unknown categories in columns [4, 9, 11, 12, 17, 19, 21] during transform. These unknown categories will be encoded as all zeros\n",
      "  warnings.warn(\n"
     ]
    },
    {
     "name": "stdout",
     "output_type": "stream",
     "text": [
      "[CV] END model__colsample_bytree=0.7, model__gamma=0.25, model__learning_rate=0.02, model__max_depth=11, model__min_child_weight=8, model__n_estimators=100, model__reg_alpha=0.25, model__reg_lambda=1.0, model__subsample=0.95; total time= -35.4s\n"
     ]
    },
    {
     "name": "stderr",
     "output_type": "stream",
     "text": [
      "/home/wsl2ubuntuuser/.virtualenvs/nomination_predictor/lib/python3.12/site-packages/sklearn/preprocessing/_encoders.py:246: UserWarning: Found unknown categories in columns [1, 4, 9, 12, 17, 19] during transform. These unknown categories will be encoded as all zeros\n",
      "  warnings.warn(\n"
     ]
    },
    {
     "name": "stdout",
     "output_type": "stream",
     "text": [
      "[CV] END model__colsample_bytree=0.7, model__gamma=0.25, model__learning_rate=0.02, model__max_depth=11, model__min_child_weight=8, model__n_estimators=100, model__reg_alpha=0.25, model__reg_lambda=1.0, model__subsample=0.95; total time=   1.4s\n"
     ]
    },
    {
     "name": "stderr",
     "output_type": "stream",
     "text": [
      "/home/wsl2ubuntuuser/.virtualenvs/nomination_predictor/lib/python3.12/site-packages/sklearn/preprocessing/_encoders.py:246: UserWarning: Found unknown categories in columns [1, 4, 9, 12, 13, 17, 19, 21] during transform. These unknown categories will be encoded as all zeros\n",
      "  warnings.warn(\n"
     ]
    },
    {
     "name": "stdout",
     "output_type": "stream",
     "text": [
      "[CV] END model__colsample_bytree=0.675, model__gamma=0.4, model__learning_rate=0.001, model__max_depth=8, model__min_child_weight=11, model__n_estimators=1000, model__reg_alpha=1.0, model__reg_lambda=1.0, model__subsample=1.0; total time=   8.1s\n"
     ]
    },
    {
     "name": "stderr",
     "output_type": "stream",
     "text": [
      "/home/wsl2ubuntuuser/.virtualenvs/nomination_predictor/lib/python3.12/site-packages/sklearn/preprocessing/_encoders.py:246: UserWarning: Found unknown categories in columns [4, 9, 11, 12, 13, 17, 19] during transform. These unknown categories will be encoded as all zeros\n",
      "  warnings.warn(\n"
     ]
    },
    {
     "name": "stdout",
     "output_type": "stream",
     "text": [
      "[CV] END model__colsample_bytree=0.675, model__gamma=0.4, model__learning_rate=0.001, model__max_depth=8, model__min_child_weight=11, model__n_estimators=1000, model__reg_alpha=1.0, model__reg_lambda=1.0, model__subsample=1.0; total time=   8.4s\n"
     ]
    },
    {
     "name": "stderr",
     "output_type": "stream",
     "text": [
      "/home/wsl2ubuntuuser/.virtualenvs/nomination_predictor/lib/python3.12/site-packages/sklearn/preprocessing/_encoders.py:246: UserWarning: Found unknown categories in columns [0, 4, 9, 12, 17, 19, 21] during transform. These unknown categories will be encoded as all zeros\n",
      "  warnings.warn(\n"
     ]
    },
    {
     "name": "stdout",
     "output_type": "stream",
     "text": [
      "[CV] END model__colsample_bytree=0.675, model__gamma=0.4, model__learning_rate=0.001, model__max_depth=8, model__min_child_weight=11, model__n_estimators=1000, model__reg_alpha=1.0, model__reg_lambda=1.0, model__subsample=1.0; total time=   9.5s\n"
     ]
    },
    {
     "name": "stderr",
     "output_type": "stream",
     "text": [
      "/home/wsl2ubuntuuser/.virtualenvs/nomination_predictor/lib/python3.12/site-packages/sklearn/preprocessing/_encoders.py:246: UserWarning: Found unknown categories in columns [4, 9, 11, 12, 17, 19, 21] during transform. These unknown categories will be encoded as all zeros\n",
      "  warnings.warn(\n"
     ]
    },
    {
     "name": "stdout",
     "output_type": "stream",
     "text": [
      "[CV] END model__colsample_bytree=0.675, model__gamma=0.4, model__learning_rate=0.001, model__max_depth=8, model__min_child_weight=11, model__n_estimators=1000, model__reg_alpha=1.0, model__reg_lambda=1.0, model__subsample=1.0; total time=   8.7s\n"
     ]
    },
    {
     "name": "stderr",
     "output_type": "stream",
     "text": [
      "/home/wsl2ubuntuuser/.virtualenvs/nomination_predictor/lib/python3.12/site-packages/sklearn/preprocessing/_encoders.py:246: UserWarning: Found unknown categories in columns [1, 4, 9, 12, 17, 19] during transform. These unknown categories will be encoded as all zeros\n",
      "  warnings.warn(\n"
     ]
    },
    {
     "name": "stdout",
     "output_type": "stream",
     "text": [
      "[CV] END model__colsample_bytree=0.675, model__gamma=0.4, model__learning_rate=0.001, model__max_depth=8, model__min_child_weight=11, model__n_estimators=1000, model__reg_alpha=1.0, model__reg_lambda=1.0, model__subsample=1.0; total time=   8.3s\n"
     ]
    },
    {
     "name": "stderr",
     "output_type": "stream",
     "text": [
      "/home/wsl2ubuntuuser/.virtualenvs/nomination_predictor/lib/python3.12/site-packages/sklearn/preprocessing/_encoders.py:246: UserWarning: Found unknown categories in columns [1, 4, 9, 12, 13, 17, 19, 21] during transform. These unknown categories will be encoded as all zeros\n",
      "  warnings.warn(\n"
     ]
    },
    {
     "name": "stdout",
     "output_type": "stream",
     "text": [
      "[CV] END model__colsample_bytree=0.675, model__gamma=0.4, model__learning_rate=0.02, model__max_depth=7, model__min_child_weight=12, model__n_estimators=1000, model__reg_alpha=1.0, model__reg_lambda=0.25, model__subsample=1.0; total time=   6.3s\n"
     ]
    },
    {
     "name": "stderr",
     "output_type": "stream",
     "text": [
      "/home/wsl2ubuntuuser/.virtualenvs/nomination_predictor/lib/python3.12/site-packages/sklearn/preprocessing/_encoders.py:246: UserWarning: Found unknown categories in columns [4, 9, 11, 12, 13, 17, 19] during transform. These unknown categories will be encoded as all zeros\n",
      "  warnings.warn(\n"
     ]
    },
    {
     "name": "stdout",
     "output_type": "stream",
     "text": [
      "[CV] END model__colsample_bytree=0.675, model__gamma=0.4, model__learning_rate=0.02, model__max_depth=7, model__min_child_weight=12, model__n_estimators=1000, model__reg_alpha=1.0, model__reg_lambda=0.25, model__subsample=1.0; total time=   7.0s\n"
     ]
    },
    {
     "name": "stderr",
     "output_type": "stream",
     "text": [
      "/home/wsl2ubuntuuser/.virtualenvs/nomination_predictor/lib/python3.12/site-packages/sklearn/preprocessing/_encoders.py:246: UserWarning: Found unknown categories in columns [0, 4, 9, 12, 17, 19, 21] during transform. These unknown categories will be encoded as all zeros\n",
      "  warnings.warn(\n"
     ]
    },
    {
     "name": "stdout",
     "output_type": "stream",
     "text": [
      "[CV] END model__colsample_bytree=0.675, model__gamma=0.4, model__learning_rate=0.02, model__max_depth=7, model__min_child_weight=12, model__n_estimators=1000, model__reg_alpha=1.0, model__reg_lambda=0.25, model__subsample=1.0; total time=   6.2s\n"
     ]
    },
    {
     "name": "stderr",
     "output_type": "stream",
     "text": [
      "/home/wsl2ubuntuuser/.virtualenvs/nomination_predictor/lib/python3.12/site-packages/sklearn/preprocessing/_encoders.py:246: UserWarning: Found unknown categories in columns [4, 9, 11, 12, 17, 19, 21] during transform. These unknown categories will be encoded as all zeros\n",
      "  warnings.warn(\n"
     ]
    },
    {
     "name": "stdout",
     "output_type": "stream",
     "text": [
      "[CV] END model__colsample_bytree=0.675, model__gamma=0.4, model__learning_rate=0.02, model__max_depth=7, model__min_child_weight=12, model__n_estimators=1000, model__reg_alpha=1.0, model__reg_lambda=0.25, model__subsample=1.0; total time=   6.1s\n"
     ]
    },
    {
     "name": "stderr",
     "output_type": "stream",
     "text": [
      "/home/wsl2ubuntuuser/.virtualenvs/nomination_predictor/lib/python3.12/site-packages/sklearn/preprocessing/_encoders.py:246: UserWarning: Found unknown categories in columns [1, 4, 9, 12, 17, 19] during transform. These unknown categories will be encoded as all zeros\n",
      "  warnings.warn(\n"
     ]
    },
    {
     "name": "stdout",
     "output_type": "stream",
     "text": [
      "[CV] END model__colsample_bytree=0.675, model__gamma=0.4, model__learning_rate=0.02, model__max_depth=7, model__min_child_weight=12, model__n_estimators=1000, model__reg_alpha=1.0, model__reg_lambda=0.25, model__subsample=1.0; total time=   6.2s\n"
     ]
    },
    {
     "name": "stderr",
     "output_type": "stream",
     "text": [
      "/home/wsl2ubuntuuser/.virtualenvs/nomination_predictor/lib/python3.12/site-packages/sklearn/preprocessing/_encoders.py:246: UserWarning: Found unknown categories in columns [1, 4, 9, 12, 13, 17, 19, 21] during transform. These unknown categories will be encoded as all zeros\n",
      "  warnings.warn(\n"
     ]
    },
    {
     "name": "stdout",
     "output_type": "stream",
     "text": [
      "[CV] END model__colsample_bytree=0.65, model__gamma=0.2, model__learning_rate=0.01, model__max_depth=9, model__min_child_weight=9, model__n_estimators=500, model__reg_alpha=0.6, model__reg_lambda=0.5, model__subsample=0.975; total time=   4.5s\n"
     ]
    },
    {
     "name": "stderr",
     "output_type": "stream",
     "text": [
      "/home/wsl2ubuntuuser/.virtualenvs/nomination_predictor/lib/python3.12/site-packages/sklearn/preprocessing/_encoders.py:246: UserWarning: Found unknown categories in columns [4, 9, 11, 12, 13, 17, 19] during transform. These unknown categories will be encoded as all zeros\n",
      "  warnings.warn(\n"
     ]
    },
    {
     "name": "stdout",
     "output_type": "stream",
     "text": [
      "[CV] END model__colsample_bytree=0.65, model__gamma=0.2, model__learning_rate=0.01, model__max_depth=9, model__min_child_weight=9, model__n_estimators=500, model__reg_alpha=0.6, model__reg_lambda=0.5, model__subsample=0.975; total time=   4.5s\n"
     ]
    },
    {
     "name": "stderr",
     "output_type": "stream",
     "text": [
      "/home/wsl2ubuntuuser/.virtualenvs/nomination_predictor/lib/python3.12/site-packages/sklearn/preprocessing/_encoders.py:246: UserWarning: Found unknown categories in columns [0, 4, 9, 12, 17, 19, 21] during transform. These unknown categories will be encoded as all zeros\n",
      "  warnings.warn(\n"
     ]
    },
    {
     "name": "stdout",
     "output_type": "stream",
     "text": [
      "[CV] END model__colsample_bytree=0.65, model__gamma=0.2, model__learning_rate=0.01, model__max_depth=9, model__min_child_weight=9, model__n_estimators=500, model__reg_alpha=0.6, model__reg_lambda=0.5, model__subsample=0.975; total time=   4.6s\n"
     ]
    },
    {
     "name": "stderr",
     "output_type": "stream",
     "text": [
      "/home/wsl2ubuntuuser/.virtualenvs/nomination_predictor/lib/python3.12/site-packages/sklearn/preprocessing/_encoders.py:246: UserWarning: Found unknown categories in columns [4, 9, 11, 12, 17, 19, 21] during transform. These unknown categories will be encoded as all zeros\n",
      "  warnings.warn(\n"
     ]
    },
    {
     "name": "stdout",
     "output_type": "stream",
     "text": [
      "[CV] END model__colsample_bytree=0.65, model__gamma=0.2, model__learning_rate=0.01, model__max_depth=9, model__min_child_weight=9, model__n_estimators=500, model__reg_alpha=0.6, model__reg_lambda=0.5, model__subsample=0.975; total time=   4.4s\n"
     ]
    },
    {
     "name": "stderr",
     "output_type": "stream",
     "text": [
      "/home/wsl2ubuntuuser/.virtualenvs/nomination_predictor/lib/python3.12/site-packages/sklearn/preprocessing/_encoders.py:246: UserWarning: Found unknown categories in columns [1, 4, 9, 12, 17, 19] during transform. These unknown categories will be encoded as all zeros\n",
      "  warnings.warn(\n"
     ]
    },
    {
     "name": "stdout",
     "output_type": "stream",
     "text": [
      "[CV] END model__colsample_bytree=0.65, model__gamma=0.2, model__learning_rate=0.01, model__max_depth=9, model__min_child_weight=9, model__n_estimators=500, model__reg_alpha=0.6, model__reg_lambda=0.5, model__subsample=0.975; total time=   5.0s\n"
     ]
    },
    {
     "name": "stderr",
     "output_type": "stream",
     "text": [
      "/home/wsl2ubuntuuser/.virtualenvs/nomination_predictor/lib/python3.12/site-packages/sklearn/preprocessing/_encoders.py:246: UserWarning: Found unknown categories in columns [1, 4, 9, 12, 13, 17, 19, 21] during transform. These unknown categories will be encoded as all zeros\n",
      "  warnings.warn(\n"
     ]
    },
    {
     "name": "stdout",
     "output_type": "stream",
     "text": [
      "[CV] END model__colsample_bytree=0.7, model__gamma=0.35, model__learning_rate=0.03, model__max_depth=10, model__min_child_weight=10, model__n_estimators=1000, model__reg_alpha=1.0, model__reg_lambda=1.0, model__subsample=1.0; total time=  46.6s\n"
     ]
    },
    {
     "name": "stderr",
     "output_type": "stream",
     "text": [
      "/home/wsl2ubuntuuser/.virtualenvs/nomination_predictor/lib/python3.12/site-packages/sklearn/preprocessing/_encoders.py:246: UserWarning: Found unknown categories in columns [4, 9, 11, 12, 13, 17, 19] during transform. These unknown categories will be encoded as all zeros\n",
      "  warnings.warn(\n"
     ]
    },
    {
     "name": "stdout",
     "output_type": "stream",
     "text": [
      "[CV] END model__colsample_bytree=0.7, model__gamma=0.35, model__learning_rate=0.03, model__max_depth=10, model__min_child_weight=10, model__n_estimators=1000, model__reg_alpha=1.0, model__reg_lambda=1.0, model__subsample=1.0; total time= -27.2s\n"
     ]
    },
    {
     "name": "stderr",
     "output_type": "stream",
     "text": [
      "/home/wsl2ubuntuuser/.virtualenvs/nomination_predictor/lib/python3.12/site-packages/sklearn/preprocessing/_encoders.py:246: UserWarning: Found unknown categories in columns [0, 4, 9, 12, 17, 19, 21] during transform. These unknown categories will be encoded as all zeros\n",
      "  warnings.warn(\n"
     ]
    },
    {
     "name": "stdout",
     "output_type": "stream",
     "text": [
      "[CV] END model__colsample_bytree=0.7, model__gamma=0.35, model__learning_rate=0.03, model__max_depth=10, model__min_child_weight=10, model__n_estimators=1000, model__reg_alpha=1.0, model__reg_lambda=1.0, model__subsample=1.0; total time=  10.1s\n"
     ]
    },
    {
     "name": "stderr",
     "output_type": "stream",
     "text": [
      "/home/wsl2ubuntuuser/.virtualenvs/nomination_predictor/lib/python3.12/site-packages/sklearn/preprocessing/_encoders.py:246: UserWarning: Found unknown categories in columns [4, 9, 11, 12, 17, 19, 21] during transform. These unknown categories will be encoded as all zeros\n",
      "  warnings.warn(\n"
     ]
    },
    {
     "name": "stdout",
     "output_type": "stream",
     "text": [
      "[CV] END model__colsample_bytree=0.7, model__gamma=0.35, model__learning_rate=0.03, model__max_depth=10, model__min_child_weight=10, model__n_estimators=1000, model__reg_alpha=1.0, model__reg_lambda=1.0, model__subsample=1.0; total time=   8.9s\n"
     ]
    },
    {
     "name": "stderr",
     "output_type": "stream",
     "text": [
      "/home/wsl2ubuntuuser/.virtualenvs/nomination_predictor/lib/python3.12/site-packages/sklearn/preprocessing/_encoders.py:246: UserWarning: Found unknown categories in columns [1, 4, 9, 12, 17, 19] during transform. These unknown categories will be encoded as all zeros\n",
      "  warnings.warn(\n"
     ]
    },
    {
     "name": "stdout",
     "output_type": "stream",
     "text": [
      "[CV] END model__colsample_bytree=0.7, model__gamma=0.35, model__learning_rate=0.03, model__max_depth=10, model__min_child_weight=10, model__n_estimators=1000, model__reg_alpha=1.0, model__reg_lambda=1.0, model__subsample=1.0; total time=   8.7s\n"
     ]
    },
    {
     "name": "stderr",
     "output_type": "stream",
     "text": [
      "/home/wsl2ubuntuuser/.virtualenvs/nomination_predictor/lib/python3.12/site-packages/sklearn/preprocessing/_encoders.py:246: UserWarning: Found unknown categories in columns [1, 4, 9, 12, 13, 17, 19, 21] during transform. These unknown categories will be encoded as all zeros\n",
      "  warnings.warn(\n"
     ]
    },
    {
     "name": "stdout",
     "output_type": "stream",
     "text": [
      "[CV] END model__colsample_bytree=0.75, model__gamma=0.4, model__learning_rate=0.03, model__max_depth=9, model__min_child_weight=8, model__n_estimators=1500, model__reg_alpha=1.0, model__reg_lambda=0.4, model__subsample=0.95; total time=  11.9s\n"
     ]
    },
    {
     "name": "stderr",
     "output_type": "stream",
     "text": [
      "/home/wsl2ubuntuuser/.virtualenvs/nomination_predictor/lib/python3.12/site-packages/sklearn/preprocessing/_encoders.py:246: UserWarning: Found unknown categories in columns [4, 9, 11, 12, 13, 17, 19] during transform. These unknown categories will be encoded as all zeros\n",
      "  warnings.warn(\n"
     ]
    },
    {
     "name": "stdout",
     "output_type": "stream",
     "text": [
      "[CV] END model__colsample_bytree=0.75, model__gamma=0.4, model__learning_rate=0.03, model__max_depth=9, model__min_child_weight=8, model__n_estimators=1500, model__reg_alpha=1.0, model__reg_lambda=0.4, model__subsample=0.95; total time=  11.1s\n"
     ]
    },
    {
     "name": "stderr",
     "output_type": "stream",
     "text": [
      "/home/wsl2ubuntuuser/.virtualenvs/nomination_predictor/lib/python3.12/site-packages/sklearn/preprocessing/_encoders.py:246: UserWarning: Found unknown categories in columns [0, 4, 9, 12, 17, 19, 21] during transform. These unknown categories will be encoded as all zeros\n",
      "  warnings.warn(\n"
     ]
    },
    {
     "name": "stdout",
     "output_type": "stream",
     "text": [
      "[CV] END model__colsample_bytree=0.75, model__gamma=0.4, model__learning_rate=0.03, model__max_depth=9, model__min_child_weight=8, model__n_estimators=1500, model__reg_alpha=1.0, model__reg_lambda=0.4, model__subsample=0.95; total time=  11.9s\n"
     ]
    },
    {
     "name": "stderr",
     "output_type": "stream",
     "text": [
      "/home/wsl2ubuntuuser/.virtualenvs/nomination_predictor/lib/python3.12/site-packages/sklearn/preprocessing/_encoders.py:246: UserWarning: Found unknown categories in columns [4, 9, 11, 12, 17, 19, 21] during transform. These unknown categories will be encoded as all zeros\n",
      "  warnings.warn(\n"
     ]
    },
    {
     "name": "stdout",
     "output_type": "stream",
     "text": [
      "[CV] END model__colsample_bytree=0.75, model__gamma=0.4, model__learning_rate=0.03, model__max_depth=9, model__min_child_weight=8, model__n_estimators=1500, model__reg_alpha=1.0, model__reg_lambda=0.4, model__subsample=0.95; total time=  11.6s\n"
     ]
    },
    {
     "name": "stderr",
     "output_type": "stream",
     "text": [
      "/home/wsl2ubuntuuser/.virtualenvs/nomination_predictor/lib/python3.12/site-packages/sklearn/preprocessing/_encoders.py:246: UserWarning: Found unknown categories in columns [1, 4, 9, 12, 17, 19] during transform. These unknown categories will be encoded as all zeros\n",
      "  warnings.warn(\n"
     ]
    },
    {
     "name": "stdout",
     "output_type": "stream",
     "text": [
      "[CV] END model__colsample_bytree=0.75, model__gamma=0.4, model__learning_rate=0.03, model__max_depth=9, model__min_child_weight=8, model__n_estimators=1500, model__reg_alpha=1.0, model__reg_lambda=0.4, model__subsample=0.95; total time=  12.5s\n"
     ]
    },
    {
     "name": "stderr",
     "output_type": "stream",
     "text": [
      "/home/wsl2ubuntuuser/.virtualenvs/nomination_predictor/lib/python3.12/site-packages/sklearn/preprocessing/_encoders.py:246: UserWarning: Found unknown categories in columns [1, 4, 9, 12, 13, 17, 19, 21] during transform. These unknown categories will be encoded as all zeros\n",
      "  warnings.warn(\n"
     ]
    },
    {
     "name": "stdout",
     "output_type": "stream",
     "text": [
      "[CV] END model__colsample_bytree=0.675, model__gamma=0.35, model__learning_rate=0.03, model__max_depth=10, model__min_child_weight=8, model__n_estimators=500, model__reg_alpha=0.6, model__reg_lambda=0.25, model__subsample=0.95; total time=   5.3s\n"
     ]
    },
    {
     "name": "stderr",
     "output_type": "stream",
     "text": [
      "/home/wsl2ubuntuuser/.virtualenvs/nomination_predictor/lib/python3.12/site-packages/sklearn/preprocessing/_encoders.py:246: UserWarning: Found unknown categories in columns [4, 9, 11, 12, 13, 17, 19] during transform. These unknown categories will be encoded as all zeros\n",
      "  warnings.warn(\n"
     ]
    },
    {
     "name": "stdout",
     "output_type": "stream",
     "text": [
      "[CV] END model__colsample_bytree=0.675, model__gamma=0.35, model__learning_rate=0.03, model__max_depth=10, model__min_child_weight=8, model__n_estimators=500, model__reg_alpha=0.6, model__reg_lambda=0.25, model__subsample=0.95; total time=   4.8s\n"
     ]
    },
    {
     "name": "stderr",
     "output_type": "stream",
     "text": [
      "/home/wsl2ubuntuuser/.virtualenvs/nomination_predictor/lib/python3.12/site-packages/sklearn/preprocessing/_encoders.py:246: UserWarning: Found unknown categories in columns [0, 4, 9, 12, 17, 19, 21] during transform. These unknown categories will be encoded as all zeros\n",
      "  warnings.warn(\n"
     ]
    },
    {
     "name": "stdout",
     "output_type": "stream",
     "text": [
      "[CV] END model__colsample_bytree=0.675, model__gamma=0.35, model__learning_rate=0.03, model__max_depth=10, model__min_child_weight=8, model__n_estimators=500, model__reg_alpha=0.6, model__reg_lambda=0.25, model__subsample=0.95; total time=   5.1s\n"
     ]
    },
    {
     "name": "stderr",
     "output_type": "stream",
     "text": [
      "/home/wsl2ubuntuuser/.virtualenvs/nomination_predictor/lib/python3.12/site-packages/sklearn/preprocessing/_encoders.py:246: UserWarning: Found unknown categories in columns [4, 9, 11, 12, 17, 19, 21] during transform. These unknown categories will be encoded as all zeros\n",
      "  warnings.warn(\n"
     ]
    },
    {
     "name": "stdout",
     "output_type": "stream",
     "text": [
      "[CV] END model__colsample_bytree=0.675, model__gamma=0.35, model__learning_rate=0.03, model__max_depth=10, model__min_child_weight=8, model__n_estimators=500, model__reg_alpha=0.6, model__reg_lambda=0.25, model__subsample=0.95; total time=   4.9s\n"
     ]
    },
    {
     "name": "stderr",
     "output_type": "stream",
     "text": [
      "/home/wsl2ubuntuuser/.virtualenvs/nomination_predictor/lib/python3.12/site-packages/sklearn/preprocessing/_encoders.py:246: UserWarning: Found unknown categories in columns [1, 4, 9, 12, 17, 19] during transform. These unknown categories will be encoded as all zeros\n",
      "  warnings.warn(\n"
     ]
    },
    {
     "name": "stdout",
     "output_type": "stream",
     "text": [
      "[CV] END model__colsample_bytree=0.675, model__gamma=0.35, model__learning_rate=0.03, model__max_depth=10, model__min_child_weight=8, model__n_estimators=500, model__reg_alpha=0.6, model__reg_lambda=0.25, model__subsample=0.95; total time=   5.3s\n"
     ]
    },
    {
     "name": "stderr",
     "output_type": "stream",
     "text": [
      "/home/wsl2ubuntuuser/.virtualenvs/nomination_predictor/lib/python3.12/site-packages/sklearn/preprocessing/_encoders.py:246: UserWarning: Found unknown categories in columns [1, 4, 9, 12, 13, 17, 19, 21] during transform. These unknown categories will be encoded as all zeros\n",
      "  warnings.warn(\n"
     ]
    },
    {
     "name": "stdout",
     "output_type": "stream",
     "text": [
      "[CV] END model__colsample_bytree=0.65, model__gamma=0.4, model__learning_rate=0.001, model__max_depth=11, model__min_child_weight=10, model__n_estimators=1500, model__reg_alpha=0.6, model__reg_lambda=1.0, model__subsample=0.95; total time=  18.0s\n"
     ]
    },
    {
     "name": "stderr",
     "output_type": "stream",
     "text": [
      "/home/wsl2ubuntuuser/.virtualenvs/nomination_predictor/lib/python3.12/site-packages/sklearn/preprocessing/_encoders.py:246: UserWarning: Found unknown categories in columns [4, 9, 11, 12, 13, 17, 19] during transform. These unknown categories will be encoded as all zeros\n",
      "  warnings.warn(\n"
     ]
    },
    {
     "name": "stdout",
     "output_type": "stream",
     "text": [
      "[CV] END model__colsample_bytree=0.65, model__gamma=0.4, model__learning_rate=0.001, model__max_depth=11, model__min_child_weight=10, model__n_estimators=1500, model__reg_alpha=0.6, model__reg_lambda=1.0, model__subsample=0.95; total time=  16.5s\n"
     ]
    },
    {
     "name": "stderr",
     "output_type": "stream",
     "text": [
      "/home/wsl2ubuntuuser/.virtualenvs/nomination_predictor/lib/python3.12/site-packages/sklearn/preprocessing/_encoders.py:246: UserWarning: Found unknown categories in columns [0, 4, 9, 12, 17, 19, 21] during transform. These unknown categories will be encoded as all zeros\n",
      "  warnings.warn(\n"
     ]
    },
    {
     "name": "stdout",
     "output_type": "stream",
     "text": [
      "[CV] END model__colsample_bytree=0.65, model__gamma=0.4, model__learning_rate=0.001, model__max_depth=11, model__min_child_weight=10, model__n_estimators=1500, model__reg_alpha=0.6, model__reg_lambda=1.0, model__subsample=0.95; total time=  16.6s\n"
     ]
    },
    {
     "name": "stderr",
     "output_type": "stream",
     "text": [
      "/home/wsl2ubuntuuser/.virtualenvs/nomination_predictor/lib/python3.12/site-packages/sklearn/preprocessing/_encoders.py:246: UserWarning: Found unknown categories in columns [4, 9, 11, 12, 17, 19, 21] during transform. These unknown categories will be encoded as all zeros\n",
      "  warnings.warn(\n"
     ]
    },
    {
     "name": "stdout",
     "output_type": "stream",
     "text": [
      "[CV] END model__colsample_bytree=0.65, model__gamma=0.4, model__learning_rate=0.001, model__max_depth=11, model__min_child_weight=10, model__n_estimators=1500, model__reg_alpha=0.6, model__reg_lambda=1.0, model__subsample=0.95; total time=  16.6s\n"
     ]
    },
    {
     "name": "stderr",
     "output_type": "stream",
     "text": [
      "/home/wsl2ubuntuuser/.virtualenvs/nomination_predictor/lib/python3.12/site-packages/sklearn/preprocessing/_encoders.py:246: UserWarning: Found unknown categories in columns [1, 4, 9, 12, 17, 19] during transform. These unknown categories will be encoded as all zeros\n",
      "  warnings.warn(\n"
     ]
    },
    {
     "name": "stdout",
     "output_type": "stream",
     "text": [
      "[CV] END model__colsample_bytree=0.65, model__gamma=0.4, model__learning_rate=0.001, model__max_depth=11, model__min_child_weight=10, model__n_estimators=1500, model__reg_alpha=0.6, model__reg_lambda=1.0, model__subsample=0.95; total time=  16.7s\n"
     ]
    },
    {
     "name": "stderr",
     "output_type": "stream",
     "text": [
      "/home/wsl2ubuntuuser/.virtualenvs/nomination_predictor/lib/python3.12/site-packages/sklearn/preprocessing/_encoders.py:246: UserWarning: Found unknown categories in columns [1, 4, 9, 12, 13, 17, 19, 21] during transform. These unknown categories will be encoded as all zeros\n",
      "  warnings.warn(\n"
     ]
    },
    {
     "name": "stdout",
     "output_type": "stream",
     "text": [
      "[CV] END model__colsample_bytree=0.725, model__gamma=0.3, model__learning_rate=0.02, model__max_depth=9, model__min_child_weight=9, model__n_estimators=100, model__reg_alpha=0.25, model__reg_lambda=0.5, model__subsample=1.0; total time=   1.0s\n"
     ]
    },
    {
     "name": "stderr",
     "output_type": "stream",
     "text": [
      "/home/wsl2ubuntuuser/.virtualenvs/nomination_predictor/lib/python3.12/site-packages/sklearn/preprocessing/_encoders.py:246: UserWarning: Found unknown categories in columns [4, 9, 11, 12, 13, 17, 19] during transform. These unknown categories will be encoded as all zeros\n",
      "  warnings.warn(\n"
     ]
    },
    {
     "name": "stdout",
     "output_type": "stream",
     "text": [
      "[CV] END model__colsample_bytree=0.725, model__gamma=0.3, model__learning_rate=0.02, model__max_depth=9, model__min_child_weight=9, model__n_estimators=100, model__reg_alpha=0.25, model__reg_lambda=0.5, model__subsample=1.0; total time=   1.1s\n"
     ]
    },
    {
     "name": "stderr",
     "output_type": "stream",
     "text": [
      "/home/wsl2ubuntuuser/.virtualenvs/nomination_predictor/lib/python3.12/site-packages/sklearn/preprocessing/_encoders.py:246: UserWarning: Found unknown categories in columns [0, 4, 9, 12, 17, 19, 21] during transform. These unknown categories will be encoded as all zeros\n",
      "  warnings.warn(\n"
     ]
    },
    {
     "name": "stdout",
     "output_type": "stream",
     "text": [
      "[CV] END model__colsample_bytree=0.725, model__gamma=0.3, model__learning_rate=0.02, model__max_depth=9, model__min_child_weight=9, model__n_estimators=100, model__reg_alpha=0.25, model__reg_lambda=0.5, model__subsample=1.0; total time=   1.1s\n"
     ]
    },
    {
     "name": "stderr",
     "output_type": "stream",
     "text": [
      "/home/wsl2ubuntuuser/.virtualenvs/nomination_predictor/lib/python3.12/site-packages/sklearn/preprocessing/_encoders.py:246: UserWarning: Found unknown categories in columns [4, 9, 11, 12, 17, 19, 21] during transform. These unknown categories will be encoded as all zeros\n",
      "  warnings.warn(\n"
     ]
    },
    {
     "name": "stdout",
     "output_type": "stream",
     "text": [
      "[CV] END model__colsample_bytree=0.725, model__gamma=0.3, model__learning_rate=0.02, model__max_depth=9, model__min_child_weight=9, model__n_estimators=100, model__reg_alpha=0.25, model__reg_lambda=0.5, model__subsample=1.0; total time=  37.8s\n"
     ]
    },
    {
     "name": "stderr",
     "output_type": "stream",
     "text": [
      "/home/wsl2ubuntuuser/.virtualenvs/nomination_predictor/lib/python3.12/site-packages/sklearn/preprocessing/_encoders.py:246: UserWarning: Found unknown categories in columns [1, 4, 9, 12, 17, 19] during transform. These unknown categories will be encoded as all zeros\n",
      "  warnings.warn(\n"
     ]
    },
    {
     "name": "stdout",
     "output_type": "stream",
     "text": [
      "[CV] END model__colsample_bytree=0.725, model__gamma=0.3, model__learning_rate=0.02, model__max_depth=9, model__min_child_weight=9, model__n_estimators=100, model__reg_alpha=0.25, model__reg_lambda=0.5, model__subsample=1.0; total time= -35.6s\n"
     ]
    },
    {
     "name": "stderr",
     "output_type": "stream",
     "text": [
      "/home/wsl2ubuntuuser/.virtualenvs/nomination_predictor/lib/python3.12/site-packages/sklearn/preprocessing/_encoders.py:246: UserWarning: Found unknown categories in columns [1, 4, 9, 12, 13, 17, 19, 21] during transform. These unknown categories will be encoded as all zeros\n",
      "  warnings.warn(\n"
     ]
    },
    {
     "name": "stdout",
     "output_type": "stream",
     "text": [
      "[CV] END model__colsample_bytree=0.75, model__gamma=0.2, model__learning_rate=0.01, model__max_depth=9, model__min_child_weight=12, model__n_estimators=100, model__reg_alpha=0.25, model__reg_lambda=0.4, model__subsample=0.975; total time=   1.2s\n"
     ]
    },
    {
     "name": "stderr",
     "output_type": "stream",
     "text": [
      "/home/wsl2ubuntuuser/.virtualenvs/nomination_predictor/lib/python3.12/site-packages/sklearn/preprocessing/_encoders.py:246: UserWarning: Found unknown categories in columns [4, 9, 11, 12, 13, 17, 19] during transform. These unknown categories will be encoded as all zeros\n",
      "  warnings.warn(\n"
     ]
    },
    {
     "name": "stdout",
     "output_type": "stream",
     "text": [
      "[CV] END model__colsample_bytree=0.75, model__gamma=0.2, model__learning_rate=0.01, model__max_depth=9, model__min_child_weight=12, model__n_estimators=100, model__reg_alpha=0.25, model__reg_lambda=0.4, model__subsample=0.975; total time=   1.1s\n"
     ]
    },
    {
     "name": "stderr",
     "output_type": "stream",
     "text": [
      "/home/wsl2ubuntuuser/.virtualenvs/nomination_predictor/lib/python3.12/site-packages/sklearn/preprocessing/_encoders.py:246: UserWarning: Found unknown categories in columns [0, 4, 9, 12, 17, 19, 21] during transform. These unknown categories will be encoded as all zeros\n",
      "  warnings.warn(\n"
     ]
    },
    {
     "name": "stdout",
     "output_type": "stream",
     "text": [
      "[CV] END model__colsample_bytree=0.75, model__gamma=0.2, model__learning_rate=0.01, model__max_depth=9, model__min_child_weight=12, model__n_estimators=100, model__reg_alpha=0.25, model__reg_lambda=0.4, model__subsample=0.975; total time=   1.5s\n"
     ]
    },
    {
     "name": "stderr",
     "output_type": "stream",
     "text": [
      "/home/wsl2ubuntuuser/.virtualenvs/nomination_predictor/lib/python3.12/site-packages/sklearn/preprocessing/_encoders.py:246: UserWarning: Found unknown categories in columns [4, 9, 11, 12, 17, 19, 21] during transform. These unknown categories will be encoded as all zeros\n",
      "  warnings.warn(\n"
     ]
    },
    {
     "name": "stdout",
     "output_type": "stream",
     "text": [
      "[CV] END model__colsample_bytree=0.75, model__gamma=0.2, model__learning_rate=0.01, model__max_depth=9, model__min_child_weight=12, model__n_estimators=100, model__reg_alpha=0.25, model__reg_lambda=0.4, model__subsample=0.975; total time=   1.3s\n"
     ]
    },
    {
     "name": "stderr",
     "output_type": "stream",
     "text": [
      "/home/wsl2ubuntuuser/.virtualenvs/nomination_predictor/lib/python3.12/site-packages/sklearn/preprocessing/_encoders.py:246: UserWarning: Found unknown categories in columns [1, 4, 9, 12, 17, 19] during transform. These unknown categories will be encoded as all zeros\n",
      "  warnings.warn(\n"
     ]
    },
    {
     "name": "stdout",
     "output_type": "stream",
     "text": [
      "[CV] END model__colsample_bytree=0.75, model__gamma=0.2, model__learning_rate=0.01, model__max_depth=9, model__min_child_weight=12, model__n_estimators=100, model__reg_alpha=0.25, model__reg_lambda=0.4, model__subsample=0.975; total time=   1.2s\n"
     ]
    },
    {
     "name": "stderr",
     "output_type": "stream",
     "text": [
      "/home/wsl2ubuntuuser/.virtualenvs/nomination_predictor/lib/python3.12/site-packages/sklearn/preprocessing/_encoders.py:246: UserWarning: Found unknown categories in columns [1, 4, 9, 12, 13, 17, 19, 21] during transform. These unknown categories will be encoded as all zeros\n",
      "  warnings.warn(\n"
     ]
    },
    {
     "name": "stdout",
     "output_type": "stream",
     "text": [
      "[CV] END model__colsample_bytree=0.725, model__gamma=0.4, model__learning_rate=0.001, model__max_depth=8, model__min_child_weight=9, model__n_estimators=500, model__reg_alpha=0.6, model__reg_lambda=1.0, model__subsample=0.95; total time=   5.2s\n"
     ]
    },
    {
     "name": "stderr",
     "output_type": "stream",
     "text": [
      "/home/wsl2ubuntuuser/.virtualenvs/nomination_predictor/lib/python3.12/site-packages/sklearn/preprocessing/_encoders.py:246: UserWarning: Found unknown categories in columns [4, 9, 11, 12, 13, 17, 19] during transform. These unknown categories will be encoded as all zeros\n",
      "  warnings.warn(\n"
     ]
    },
    {
     "name": "stdout",
     "output_type": "stream",
     "text": [
      "[CV] END model__colsample_bytree=0.725, model__gamma=0.4, model__learning_rate=0.001, model__max_depth=8, model__min_child_weight=9, model__n_estimators=500, model__reg_alpha=0.6, model__reg_lambda=1.0, model__subsample=0.95; total time=   5.0s\n"
     ]
    },
    {
     "name": "stderr",
     "output_type": "stream",
     "text": [
      "/home/wsl2ubuntuuser/.virtualenvs/nomination_predictor/lib/python3.12/site-packages/sklearn/preprocessing/_encoders.py:246: UserWarning: Found unknown categories in columns [0, 4, 9, 12, 17, 19, 21] during transform. These unknown categories will be encoded as all zeros\n",
      "  warnings.warn(\n"
     ]
    },
    {
     "name": "stdout",
     "output_type": "stream",
     "text": [
      "[CV] END model__colsample_bytree=0.725, model__gamma=0.4, model__learning_rate=0.001, model__max_depth=8, model__min_child_weight=9, model__n_estimators=500, model__reg_alpha=0.6, model__reg_lambda=1.0, model__subsample=0.95; total time=   4.8s\n"
     ]
    },
    {
     "name": "stderr",
     "output_type": "stream",
     "text": [
      "/home/wsl2ubuntuuser/.virtualenvs/nomination_predictor/lib/python3.12/site-packages/sklearn/preprocessing/_encoders.py:246: UserWarning: Found unknown categories in columns [4, 9, 11, 12, 17, 19, 21] during transform. These unknown categories will be encoded as all zeros\n",
      "  warnings.warn(\n"
     ]
    },
    {
     "name": "stdout",
     "output_type": "stream",
     "text": [
      "[CV] END model__colsample_bytree=0.725, model__gamma=0.4, model__learning_rate=0.001, model__max_depth=8, model__min_child_weight=9, model__n_estimators=500, model__reg_alpha=0.6, model__reg_lambda=1.0, model__subsample=0.95; total time=   5.0s\n"
     ]
    },
    {
     "name": "stderr",
     "output_type": "stream",
     "text": [
      "/home/wsl2ubuntuuser/.virtualenvs/nomination_predictor/lib/python3.12/site-packages/sklearn/preprocessing/_encoders.py:246: UserWarning: Found unknown categories in columns [1, 4, 9, 12, 17, 19] during transform. These unknown categories will be encoded as all zeros\n",
      "  warnings.warn(\n"
     ]
    },
    {
     "name": "stdout",
     "output_type": "stream",
     "text": [
      "[CV] END model__colsample_bytree=0.725, model__gamma=0.4, model__learning_rate=0.001, model__max_depth=8, model__min_child_weight=9, model__n_estimators=500, model__reg_alpha=0.6, model__reg_lambda=1.0, model__subsample=0.95; total time=   4.5s\n"
     ]
    },
    {
     "name": "stderr",
     "output_type": "stream",
     "text": [
      "/home/wsl2ubuntuuser/.virtualenvs/nomination_predictor/lib/python3.12/site-packages/sklearn/preprocessing/_encoders.py:246: UserWarning: Found unknown categories in columns [1, 4, 9, 12, 13, 17, 19, 21] during transform. These unknown categories will be encoded as all zeros\n",
      "  warnings.warn(\n"
     ]
    },
    {
     "name": "stdout",
     "output_type": "stream",
     "text": [
      "[CV] END model__colsample_bytree=0.675, model__gamma=0.25, model__learning_rate=0.02, model__max_depth=11, model__min_child_weight=9, model__n_estimators=1500, model__reg_alpha=0.25, model__reg_lambda=0.5, model__subsample=1.0; total time=  13.8s\n"
     ]
    },
    {
     "name": "stderr",
     "output_type": "stream",
     "text": [
      "/home/wsl2ubuntuuser/.virtualenvs/nomination_predictor/lib/python3.12/site-packages/sklearn/preprocessing/_encoders.py:246: UserWarning: Found unknown categories in columns [4, 9, 11, 12, 13, 17, 19] during transform. These unknown categories will be encoded as all zeros\n",
      "  warnings.warn(\n"
     ]
    },
    {
     "name": "stdout",
     "output_type": "stream",
     "text": [
      "[CV] END model__colsample_bytree=0.675, model__gamma=0.25, model__learning_rate=0.02, model__max_depth=11, model__min_child_weight=9, model__n_estimators=1500, model__reg_alpha=0.25, model__reg_lambda=0.5, model__subsample=1.0; total time=  12.9s\n"
     ]
    },
    {
     "name": "stderr",
     "output_type": "stream",
     "text": [
      "/home/wsl2ubuntuuser/.virtualenvs/nomination_predictor/lib/python3.12/site-packages/sklearn/preprocessing/_encoders.py:246: UserWarning: Found unknown categories in columns [0, 4, 9, 12, 17, 19, 21] during transform. These unknown categories will be encoded as all zeros\n",
      "  warnings.warn(\n"
     ]
    },
    {
     "name": "stdout",
     "output_type": "stream",
     "text": [
      "[CV] END model__colsample_bytree=0.675, model__gamma=0.25, model__learning_rate=0.02, model__max_depth=11, model__min_child_weight=9, model__n_estimators=1500, model__reg_alpha=0.25, model__reg_lambda=0.5, model__subsample=1.0; total time=  14.5s\n"
     ]
    },
    {
     "name": "stderr",
     "output_type": "stream",
     "text": [
      "/home/wsl2ubuntuuser/.virtualenvs/nomination_predictor/lib/python3.12/site-packages/sklearn/preprocessing/_encoders.py:246: UserWarning: Found unknown categories in columns [4, 9, 11, 12, 17, 19, 21] during transform. These unknown categories will be encoded as all zeros\n",
      "  warnings.warn(\n"
     ]
    },
    {
     "name": "stdout",
     "output_type": "stream",
     "text": [
      "[CV] END model__colsample_bytree=0.675, model__gamma=0.25, model__learning_rate=0.02, model__max_depth=11, model__min_child_weight=9, model__n_estimators=1500, model__reg_alpha=0.25, model__reg_lambda=0.5, model__subsample=1.0; total time=  13.3s\n"
     ]
    },
    {
     "name": "stderr",
     "output_type": "stream",
     "text": [
      "/home/wsl2ubuntuuser/.virtualenvs/nomination_predictor/lib/python3.12/site-packages/sklearn/preprocessing/_encoders.py:246: UserWarning: Found unknown categories in columns [1, 4, 9, 12, 17, 19] during transform. These unknown categories will be encoded as all zeros\n",
      "  warnings.warn(\n"
     ]
    },
    {
     "name": "stdout",
     "output_type": "stream",
     "text": [
      "[CV] END model__colsample_bytree=0.675, model__gamma=0.25, model__learning_rate=0.02, model__max_depth=11, model__min_child_weight=9, model__n_estimators=1500, model__reg_alpha=0.25, model__reg_lambda=0.5, model__subsample=1.0; total time=  13.7s\n"
     ]
    },
    {
     "name": "stderr",
     "output_type": "stream",
     "text": [
      "/home/wsl2ubuntuuser/.virtualenvs/nomination_predictor/lib/python3.12/site-packages/sklearn/preprocessing/_encoders.py:246: UserWarning: Found unknown categories in columns [1, 4, 9, 12, 13, 17, 19, 21] during transform. These unknown categories will be encoded as all zeros\n",
      "  warnings.warn(\n"
     ]
    },
    {
     "name": "stdout",
     "output_type": "stream",
     "text": [
      "[CV] END model__colsample_bytree=0.675, model__gamma=0.25, model__learning_rate=0.01, model__max_depth=7, model__min_child_weight=11, model__n_estimators=500, model__reg_alpha=0.4, model__reg_lambda=0.6, model__subsample=0.975; total time=   3.2s\n"
     ]
    },
    {
     "name": "stderr",
     "output_type": "stream",
     "text": [
      "/home/wsl2ubuntuuser/.virtualenvs/nomination_predictor/lib/python3.12/site-packages/sklearn/preprocessing/_encoders.py:246: UserWarning: Found unknown categories in columns [4, 9, 11, 12, 13, 17, 19] during transform. These unknown categories will be encoded as all zeros\n",
      "  warnings.warn(\n"
     ]
    },
    {
     "name": "stdout",
     "output_type": "stream",
     "text": [
      "[CV] END model__colsample_bytree=0.675, model__gamma=0.25, model__learning_rate=0.01, model__max_depth=7, model__min_child_weight=11, model__n_estimators=500, model__reg_alpha=0.4, model__reg_lambda=0.6, model__subsample=0.975; total time=   3.1s\n"
     ]
    },
    {
     "name": "stderr",
     "output_type": "stream",
     "text": [
      "/home/wsl2ubuntuuser/.virtualenvs/nomination_predictor/lib/python3.12/site-packages/sklearn/preprocessing/_encoders.py:246: UserWarning: Found unknown categories in columns [0, 4, 9, 12, 17, 19, 21] during transform. These unknown categories will be encoded as all zeros\n",
      "  warnings.warn(\n"
     ]
    },
    {
     "name": "stdout",
     "output_type": "stream",
     "text": [
      "[CV] END model__colsample_bytree=0.675, model__gamma=0.25, model__learning_rate=0.01, model__max_depth=7, model__min_child_weight=11, model__n_estimators=500, model__reg_alpha=0.4, model__reg_lambda=0.6, model__subsample=0.975; total time=   3.2s\n"
     ]
    },
    {
     "name": "stderr",
     "output_type": "stream",
     "text": [
      "/home/wsl2ubuntuuser/.virtualenvs/nomination_predictor/lib/python3.12/site-packages/sklearn/preprocessing/_encoders.py:246: UserWarning: Found unknown categories in columns [4, 9, 11, 12, 17, 19, 21] during transform. These unknown categories will be encoded as all zeros\n",
      "  warnings.warn(\n"
     ]
    },
    {
     "name": "stdout",
     "output_type": "stream",
     "text": [
      "[CV] END model__colsample_bytree=0.675, model__gamma=0.25, model__learning_rate=0.01, model__max_depth=7, model__min_child_weight=11, model__n_estimators=500, model__reg_alpha=0.4, model__reg_lambda=0.6, model__subsample=0.975; total time=   3.3s\n"
     ]
    },
    {
     "name": "stderr",
     "output_type": "stream",
     "text": [
      "/home/wsl2ubuntuuser/.virtualenvs/nomination_predictor/lib/python3.12/site-packages/sklearn/preprocessing/_encoders.py:246: UserWarning: Found unknown categories in columns [1, 4, 9, 12, 17, 19] during transform. These unknown categories will be encoded as all zeros\n",
      "  warnings.warn(\n"
     ]
    },
    {
     "name": "stdout",
     "output_type": "stream",
     "text": [
      "[CV] END model__colsample_bytree=0.675, model__gamma=0.25, model__learning_rate=0.01, model__max_depth=7, model__min_child_weight=11, model__n_estimators=500, model__reg_alpha=0.4, model__reg_lambda=0.6, model__subsample=0.975; total time=   3.4s\n"
     ]
    },
    {
     "name": "stderr",
     "output_type": "stream",
     "text": [
      "/home/wsl2ubuntuuser/.virtualenvs/nomination_predictor/lib/python3.12/site-packages/sklearn/preprocessing/_encoders.py:246: UserWarning: Found unknown categories in columns [1, 4, 9, 12, 13, 17, 19, 21] during transform. These unknown categories will be encoded as all zeros\n",
      "  warnings.warn(\n"
     ]
    },
    {
     "name": "stdout",
     "output_type": "stream",
     "text": [
      "[CV] END model__colsample_bytree=0.65, model__gamma=0.3, model__learning_rate=0.001, model__max_depth=9, model__min_child_weight=8, model__n_estimators=500, model__reg_alpha=0.25, model__reg_lambda=0.4, model__subsample=1.0; total time=   5.3s\n"
     ]
    },
    {
     "name": "stderr",
     "output_type": "stream",
     "text": [
      "/home/wsl2ubuntuuser/.virtualenvs/nomination_predictor/lib/python3.12/site-packages/sklearn/preprocessing/_encoders.py:246: UserWarning: Found unknown categories in columns [4, 9, 11, 12, 13, 17, 19] during transform. These unknown categories will be encoded as all zeros\n",
      "  warnings.warn(\n"
     ]
    },
    {
     "name": "stdout",
     "output_type": "stream",
     "text": [
      "[CV] END model__colsample_bytree=0.65, model__gamma=0.3, model__learning_rate=0.001, model__max_depth=9, model__min_child_weight=8, model__n_estimators=500, model__reg_alpha=0.25, model__reg_lambda=0.4, model__subsample=1.0; total time=   5.9s\n"
     ]
    },
    {
     "name": "stderr",
     "output_type": "stream",
     "text": [
      "/home/wsl2ubuntuuser/.virtualenvs/nomination_predictor/lib/python3.12/site-packages/sklearn/preprocessing/_encoders.py:246: UserWarning: Found unknown categories in columns [0, 4, 9, 12, 17, 19, 21] during transform. These unknown categories will be encoded as all zeros\n",
      "  warnings.warn(\n"
     ]
    },
    {
     "name": "stdout",
     "output_type": "stream",
     "text": [
      "[CV] END model__colsample_bytree=0.65, model__gamma=0.3, model__learning_rate=0.001, model__max_depth=9, model__min_child_weight=8, model__n_estimators=500, model__reg_alpha=0.25, model__reg_lambda=0.4, model__subsample=1.0; total time=   6.0s\n"
     ]
    },
    {
     "name": "stderr",
     "output_type": "stream",
     "text": [
      "/home/wsl2ubuntuuser/.virtualenvs/nomination_predictor/lib/python3.12/site-packages/sklearn/preprocessing/_encoders.py:246: UserWarning: Found unknown categories in columns [4, 9, 11, 12, 17, 19, 21] during transform. These unknown categories will be encoded as all zeros\n",
      "  warnings.warn(\n"
     ]
    },
    {
     "name": "stdout",
     "output_type": "stream",
     "text": [
      "[CV] END model__colsample_bytree=0.65, model__gamma=0.3, model__learning_rate=0.001, model__max_depth=9, model__min_child_weight=8, model__n_estimators=500, model__reg_alpha=0.25, model__reg_lambda=0.4, model__subsample=1.0; total time=   5.6s\n"
     ]
    },
    {
     "name": "stderr",
     "output_type": "stream",
     "text": [
      "/home/wsl2ubuntuuser/.virtualenvs/nomination_predictor/lib/python3.12/site-packages/sklearn/preprocessing/_encoders.py:246: UserWarning: Found unknown categories in columns [1, 4, 9, 12, 17, 19] during transform. These unknown categories will be encoded as all zeros\n",
      "  warnings.warn(\n"
     ]
    },
    {
     "name": "stdout",
     "output_type": "stream",
     "text": [
      "[CV] END model__colsample_bytree=0.65, model__gamma=0.3, model__learning_rate=0.001, model__max_depth=9, model__min_child_weight=8, model__n_estimators=500, model__reg_alpha=0.25, model__reg_lambda=0.4, model__subsample=1.0; total time=   5.8s\n"
     ]
    },
    {
     "name": "stderr",
     "output_type": "stream",
     "text": [
      "/home/wsl2ubuntuuser/.virtualenvs/nomination_predictor/lib/python3.12/site-packages/sklearn/preprocessing/_encoders.py:246: UserWarning: Found unknown categories in columns [1, 4, 9, 12, 13, 17, 19, 21] during transform. These unknown categories will be encoded as all zeros\n",
      "  warnings.warn(\n"
     ]
    },
    {
     "name": "stdout",
     "output_type": "stream",
     "text": [
      "[CV] END model__colsample_bytree=0.725, model__gamma=0.35, model__learning_rate=0.001, model__max_depth=7, model__min_child_weight=10, model__n_estimators=1500, model__reg_alpha=0.4, model__reg_lambda=1.0, model__subsample=0.975; total time=  11.6s\n"
     ]
    },
    {
     "name": "stderr",
     "output_type": "stream",
     "text": [
      "/home/wsl2ubuntuuser/.virtualenvs/nomination_predictor/lib/python3.12/site-packages/sklearn/preprocessing/_encoders.py:246: UserWarning: Found unknown categories in columns [4, 9, 11, 12, 13, 17, 19] during transform. These unknown categories will be encoded as all zeros\n",
      "  warnings.warn(\n"
     ]
    },
    {
     "name": "stdout",
     "output_type": "stream",
     "text": [
      "[CV] END model__colsample_bytree=0.725, model__gamma=0.35, model__learning_rate=0.001, model__max_depth=7, model__min_child_weight=10, model__n_estimators=1500, model__reg_alpha=0.4, model__reg_lambda=1.0, model__subsample=0.975; total time=  12.0s\n"
     ]
    },
    {
     "name": "stderr",
     "output_type": "stream",
     "text": [
      "/home/wsl2ubuntuuser/.virtualenvs/nomination_predictor/lib/python3.12/site-packages/sklearn/preprocessing/_encoders.py:246: UserWarning: Found unknown categories in columns [0, 4, 9, 12, 17, 19, 21] during transform. These unknown categories will be encoded as all zeros\n",
      "  warnings.warn(\n"
     ]
    },
    {
     "name": "stdout",
     "output_type": "stream",
     "text": [
      "[CV] END model__colsample_bytree=0.725, model__gamma=0.35, model__learning_rate=0.001, model__max_depth=7, model__min_child_weight=10, model__n_estimators=1500, model__reg_alpha=0.4, model__reg_lambda=1.0, model__subsample=0.975; total time=  12.1s\n"
     ]
    },
    {
     "name": "stderr",
     "output_type": "stream",
     "text": [
      "/home/wsl2ubuntuuser/.virtualenvs/nomination_predictor/lib/python3.12/site-packages/sklearn/preprocessing/_encoders.py:246: UserWarning: Found unknown categories in columns [4, 9, 11, 12, 17, 19, 21] during transform. These unknown categories will be encoded as all zeros\n",
      "  warnings.warn(\n"
     ]
    },
    {
     "name": "stdout",
     "output_type": "stream",
     "text": [
      "[CV] END model__colsample_bytree=0.725, model__gamma=0.35, model__learning_rate=0.001, model__max_depth=7, model__min_child_weight=10, model__n_estimators=1500, model__reg_alpha=0.4, model__reg_lambda=1.0, model__subsample=0.975; total time=  12.8s\n"
     ]
    },
    {
     "name": "stderr",
     "output_type": "stream",
     "text": [
      "/home/wsl2ubuntuuser/.virtualenvs/nomination_predictor/lib/python3.12/site-packages/sklearn/preprocessing/_encoders.py:246: UserWarning: Found unknown categories in columns [1, 4, 9, 12, 17, 19] during transform. These unknown categories will be encoded as all zeros\n",
      "  warnings.warn(\n"
     ]
    },
    {
     "name": "stdout",
     "output_type": "stream",
     "text": [
      "[CV] END model__colsample_bytree=0.725, model__gamma=0.35, model__learning_rate=0.001, model__max_depth=7, model__min_child_weight=10, model__n_estimators=1500, model__reg_alpha=0.4, model__reg_lambda=1.0, model__subsample=0.975; total time=  12.3s\n"
     ]
    },
    {
     "name": "stderr",
     "output_type": "stream",
     "text": [
      "/home/wsl2ubuntuuser/.virtualenvs/nomination_predictor/lib/python3.12/site-packages/sklearn/preprocessing/_encoders.py:246: UserWarning: Found unknown categories in columns [1, 4, 9, 12, 13, 17, 19, 21] during transform. These unknown categories will be encoded as all zeros\n",
      "  warnings.warn(\n"
     ]
    },
    {
     "name": "stdout",
     "output_type": "stream",
     "text": [
      "[CV] END model__colsample_bytree=0.725, model__gamma=0.35, model__learning_rate=0.001, model__max_depth=8, model__min_child_weight=11, model__n_estimators=1000, model__reg_alpha=1.0, model__reg_lambda=1.0, model__subsample=1.0; total time=  10.0s\n"
     ]
    },
    {
     "name": "stderr",
     "output_type": "stream",
     "text": [
      "/home/wsl2ubuntuuser/.virtualenvs/nomination_predictor/lib/python3.12/site-packages/sklearn/preprocessing/_encoders.py:246: UserWarning: Found unknown categories in columns [4, 9, 11, 12, 13, 17, 19] during transform. These unknown categories will be encoded as all zeros\n",
      "  warnings.warn(\n"
     ]
    },
    {
     "name": "stdout",
     "output_type": "stream",
     "text": [
      "[CV] END model__colsample_bytree=0.725, model__gamma=0.35, model__learning_rate=0.001, model__max_depth=8, model__min_child_weight=11, model__n_estimators=1000, model__reg_alpha=1.0, model__reg_lambda=1.0, model__subsample=1.0; total time=   9.0s\n"
     ]
    },
    {
     "name": "stderr",
     "output_type": "stream",
     "text": [
      "/home/wsl2ubuntuuser/.virtualenvs/nomination_predictor/lib/python3.12/site-packages/sklearn/preprocessing/_encoders.py:246: UserWarning: Found unknown categories in columns [0, 4, 9, 12, 17, 19, 21] during transform. These unknown categories will be encoded as all zeros\n",
      "  warnings.warn(\n"
     ]
    },
    {
     "name": "stdout",
     "output_type": "stream",
     "text": [
      "[CV] END model__colsample_bytree=0.725, model__gamma=0.35, model__learning_rate=0.001, model__max_depth=8, model__min_child_weight=11, model__n_estimators=1000, model__reg_alpha=1.0, model__reg_lambda=1.0, model__subsample=1.0; total time=   8.1s\n"
     ]
    },
    {
     "name": "stderr",
     "output_type": "stream",
     "text": [
      "/home/wsl2ubuntuuser/.virtualenvs/nomination_predictor/lib/python3.12/site-packages/sklearn/preprocessing/_encoders.py:246: UserWarning: Found unknown categories in columns [4, 9, 11, 12, 17, 19, 21] during transform. These unknown categories will be encoded as all zeros\n",
      "  warnings.warn(\n"
     ]
    },
    {
     "name": "stdout",
     "output_type": "stream",
     "text": [
      "[CV] END model__colsample_bytree=0.725, model__gamma=0.35, model__learning_rate=0.001, model__max_depth=8, model__min_child_weight=11, model__n_estimators=1000, model__reg_alpha=1.0, model__reg_lambda=1.0, model__subsample=1.0; total time=   8.3s\n"
     ]
    },
    {
     "name": "stderr",
     "output_type": "stream",
     "text": [
      "/home/wsl2ubuntuuser/.virtualenvs/nomination_predictor/lib/python3.12/site-packages/sklearn/preprocessing/_encoders.py:246: UserWarning: Found unknown categories in columns [1, 4, 9, 12, 17, 19] during transform. These unknown categories will be encoded as all zeros\n",
      "  warnings.warn(\n"
     ]
    },
    {
     "name": "stdout",
     "output_type": "stream",
     "text": [
      "[CV] END model__colsample_bytree=0.725, model__gamma=0.35, model__learning_rate=0.001, model__max_depth=8, model__min_child_weight=11, model__n_estimators=1000, model__reg_alpha=1.0, model__reg_lambda=1.0, model__subsample=1.0; total time=   9.8s\n"
     ]
    },
    {
     "name": "stderr",
     "output_type": "stream",
     "text": [
      "/home/wsl2ubuntuuser/.virtualenvs/nomination_predictor/lib/python3.12/site-packages/sklearn/preprocessing/_encoders.py:246: UserWarning: Found unknown categories in columns [1, 4, 9, 12, 13, 17, 19, 21] during transform. These unknown categories will be encoded as all zeros\n",
      "  warnings.warn(\n"
     ]
    },
    {
     "name": "stdout",
     "output_type": "stream",
     "text": [
      "[CV] END model__colsample_bytree=0.75, model__gamma=0.25, model__learning_rate=0.03, model__max_depth=7, model__min_child_weight=8, model__n_estimators=100, model__reg_alpha=0.6, model__reg_lambda=0.25, model__subsample=1.0; total time=   1.0s\n"
     ]
    },
    {
     "name": "stderr",
     "output_type": "stream",
     "text": [
      "/home/wsl2ubuntuuser/.virtualenvs/nomination_predictor/lib/python3.12/site-packages/sklearn/preprocessing/_encoders.py:246: UserWarning: Found unknown categories in columns [4, 9, 11, 12, 13, 17, 19] during transform. These unknown categories will be encoded as all zeros\n",
      "  warnings.warn(\n"
     ]
    },
    {
     "name": "stdout",
     "output_type": "stream",
     "text": [
      "[CV] END model__colsample_bytree=0.75, model__gamma=0.25, model__learning_rate=0.03, model__max_depth=7, model__min_child_weight=8, model__n_estimators=100, model__reg_alpha=0.6, model__reg_lambda=0.25, model__subsample=1.0; total time=   1.1s\n"
     ]
    },
    {
     "name": "stderr",
     "output_type": "stream",
     "text": [
      "/home/wsl2ubuntuuser/.virtualenvs/nomination_predictor/lib/python3.12/site-packages/sklearn/preprocessing/_encoders.py:246: UserWarning: Found unknown categories in columns [0, 4, 9, 12, 17, 19, 21] during transform. These unknown categories will be encoded as all zeros\n",
      "  warnings.warn(\n"
     ]
    },
    {
     "name": "stdout",
     "output_type": "stream",
     "text": [
      "[CV] END model__colsample_bytree=0.75, model__gamma=0.25, model__learning_rate=0.03, model__max_depth=7, model__min_child_weight=8, model__n_estimators=100, model__reg_alpha=0.6, model__reg_lambda=0.25, model__subsample=1.0; total time=   0.8s\n"
     ]
    },
    {
     "name": "stderr",
     "output_type": "stream",
     "text": [
      "/home/wsl2ubuntuuser/.virtualenvs/nomination_predictor/lib/python3.12/site-packages/sklearn/preprocessing/_encoders.py:246: UserWarning: Found unknown categories in columns [4, 9, 11, 12, 17, 19, 21] during transform. These unknown categories will be encoded as all zeros\n",
      "  warnings.warn(\n"
     ]
    },
    {
     "name": "stdout",
     "output_type": "stream",
     "text": [
      "[CV] END model__colsample_bytree=0.75, model__gamma=0.25, model__learning_rate=0.03, model__max_depth=7, model__min_child_weight=8, model__n_estimators=100, model__reg_alpha=0.6, model__reg_lambda=0.25, model__subsample=1.0; total time=   0.7s\n"
     ]
    },
    {
     "name": "stderr",
     "output_type": "stream",
     "text": [
      "/home/wsl2ubuntuuser/.virtualenvs/nomination_predictor/lib/python3.12/site-packages/sklearn/preprocessing/_encoders.py:246: UserWarning: Found unknown categories in columns [1, 4, 9, 12, 17, 19] during transform. These unknown categories will be encoded as all zeros\n",
      "  warnings.warn(\n"
     ]
    },
    {
     "name": "stdout",
     "output_type": "stream",
     "text": [
      "[CV] END model__colsample_bytree=0.75, model__gamma=0.25, model__learning_rate=0.03, model__max_depth=7, model__min_child_weight=8, model__n_estimators=100, model__reg_alpha=0.6, model__reg_lambda=0.25, model__subsample=1.0; total time=   0.8s\n"
     ]
    },
    {
     "name": "stderr",
     "output_type": "stream",
     "text": [
      "/home/wsl2ubuntuuser/.virtualenvs/nomination_predictor/lib/python3.12/site-packages/sklearn/preprocessing/_encoders.py:246: UserWarning: Found unknown categories in columns [1, 4, 9, 12, 13, 17, 19, 21] during transform. These unknown categories will be encoded as all zeros\n",
      "  warnings.warn(\n"
     ]
    },
    {
     "name": "stdout",
     "output_type": "stream",
     "text": [
      "[CV] END model__colsample_bytree=0.75, model__gamma=0.25, model__learning_rate=0.03, model__max_depth=8, model__min_child_weight=8, model__n_estimators=1500, model__reg_alpha=0.4, model__reg_lambda=0.25, model__subsample=1.0; total time=  11.5s\n"
     ]
    },
    {
     "name": "stderr",
     "output_type": "stream",
     "text": [
      "/home/wsl2ubuntuuser/.virtualenvs/nomination_predictor/lib/python3.12/site-packages/sklearn/preprocessing/_encoders.py:246: UserWarning: Found unknown categories in columns [4, 9, 11, 12, 13, 17, 19] during transform. These unknown categories will be encoded as all zeros\n",
      "  warnings.warn(\n"
     ]
    },
    {
     "name": "stdout",
     "output_type": "stream",
     "text": [
      "[CV] END model__colsample_bytree=0.75, model__gamma=0.25, model__learning_rate=0.03, model__max_depth=8, model__min_child_weight=8, model__n_estimators=1500, model__reg_alpha=0.4, model__reg_lambda=0.25, model__subsample=1.0; total time=  11.4s\n"
     ]
    },
    {
     "name": "stderr",
     "output_type": "stream",
     "text": [
      "/home/wsl2ubuntuuser/.virtualenvs/nomination_predictor/lib/python3.12/site-packages/sklearn/preprocessing/_encoders.py:246: UserWarning: Found unknown categories in columns [0, 4, 9, 12, 17, 19, 21] during transform. These unknown categories will be encoded as all zeros\n",
      "  warnings.warn(\n"
     ]
    },
    {
     "name": "stdout",
     "output_type": "stream",
     "text": [
      "[CV] END model__colsample_bytree=0.75, model__gamma=0.25, model__learning_rate=0.03, model__max_depth=8, model__min_child_weight=8, model__n_estimators=1500, model__reg_alpha=0.4, model__reg_lambda=0.25, model__subsample=1.0; total time=  12.4s\n"
     ]
    },
    {
     "name": "stderr",
     "output_type": "stream",
     "text": [
      "/home/wsl2ubuntuuser/.virtualenvs/nomination_predictor/lib/python3.12/site-packages/sklearn/preprocessing/_encoders.py:246: UserWarning: Found unknown categories in columns [4, 9, 11, 12, 17, 19, 21] during transform. These unknown categories will be encoded as all zeros\n",
      "  warnings.warn(\n"
     ]
    },
    {
     "name": "stdout",
     "output_type": "stream",
     "text": [
      "[CV] END model__colsample_bytree=0.75, model__gamma=0.25, model__learning_rate=0.03, model__max_depth=8, model__min_child_weight=8, model__n_estimators=1500, model__reg_alpha=0.4, model__reg_lambda=0.25, model__subsample=1.0; total time=  10.3s\n"
     ]
    },
    {
     "name": "stderr",
     "output_type": "stream",
     "text": [
      "/home/wsl2ubuntuuser/.virtualenvs/nomination_predictor/lib/python3.12/site-packages/sklearn/preprocessing/_encoders.py:246: UserWarning: Found unknown categories in columns [1, 4, 9, 12, 17, 19] during transform. These unknown categories will be encoded as all zeros\n",
      "  warnings.warn(\n"
     ]
    },
    {
     "name": "stdout",
     "output_type": "stream",
     "text": [
      "[CV] END model__colsample_bytree=0.75, model__gamma=0.25, model__learning_rate=0.03, model__max_depth=8, model__min_child_weight=8, model__n_estimators=1500, model__reg_alpha=0.4, model__reg_lambda=0.25, model__subsample=1.0; total time=  12.1s\n"
     ]
    },
    {
     "name": "stderr",
     "output_type": "stream",
     "text": [
      "/home/wsl2ubuntuuser/.virtualenvs/nomination_predictor/lib/python3.12/site-packages/sklearn/preprocessing/_encoders.py:246: UserWarning: Found unknown categories in columns [1, 4, 9, 12, 13, 17, 19, 21] during transform. These unknown categories will be encoded as all zeros\n",
      "  warnings.warn(\n"
     ]
    },
    {
     "name": "stdout",
     "output_type": "stream",
     "text": [
      "[CV] END model__colsample_bytree=0.7, model__gamma=0.4, model__learning_rate=0.001, model__max_depth=7, model__min_child_weight=8, model__n_estimators=100, model__reg_alpha=0.25, model__reg_lambda=0.6, model__subsample=0.95; total time=   1.2s\n"
     ]
    },
    {
     "name": "stderr",
     "output_type": "stream",
     "text": [
      "/home/wsl2ubuntuuser/.virtualenvs/nomination_predictor/lib/python3.12/site-packages/sklearn/preprocessing/_encoders.py:246: UserWarning: Found unknown categories in columns [4, 9, 11, 12, 13, 17, 19] during transform. These unknown categories will be encoded as all zeros\n",
      "  warnings.warn(\n"
     ]
    },
    {
     "name": "stdout",
     "output_type": "stream",
     "text": [
      "[CV] END model__colsample_bytree=0.7, model__gamma=0.4, model__learning_rate=0.001, model__max_depth=7, model__min_child_weight=8, model__n_estimators=100, model__reg_alpha=0.25, model__reg_lambda=0.6, model__subsample=0.95; total time=   1.2s\n"
     ]
    },
    {
     "name": "stderr",
     "output_type": "stream",
     "text": [
      "/home/wsl2ubuntuuser/.virtualenvs/nomination_predictor/lib/python3.12/site-packages/sklearn/preprocessing/_encoders.py:246: UserWarning: Found unknown categories in columns [0, 4, 9, 12, 17, 19, 21] during transform. These unknown categories will be encoded as all zeros\n",
      "  warnings.warn(\n"
     ]
    },
    {
     "name": "stdout",
     "output_type": "stream",
     "text": [
      "[CV] END model__colsample_bytree=0.7, model__gamma=0.4, model__learning_rate=0.001, model__max_depth=7, model__min_child_weight=8, model__n_estimators=100, model__reg_alpha=0.25, model__reg_lambda=0.6, model__subsample=0.95; total time=   1.1s\n"
     ]
    },
    {
     "name": "stderr",
     "output_type": "stream",
     "text": [
      "/home/wsl2ubuntuuser/.virtualenvs/nomination_predictor/lib/python3.12/site-packages/sklearn/preprocessing/_encoders.py:246: UserWarning: Found unknown categories in columns [4, 9, 11, 12, 17, 19, 21] during transform. These unknown categories will be encoded as all zeros\n",
      "  warnings.warn(\n"
     ]
    },
    {
     "name": "stdout",
     "output_type": "stream",
     "text": [
      "[CV] END model__colsample_bytree=0.7, model__gamma=0.4, model__learning_rate=0.001, model__max_depth=7, model__min_child_weight=8, model__n_estimators=100, model__reg_alpha=0.25, model__reg_lambda=0.6, model__subsample=0.95; total time=   1.1s\n"
     ]
    },
    {
     "name": "stderr",
     "output_type": "stream",
     "text": [
      "/home/wsl2ubuntuuser/.virtualenvs/nomination_predictor/lib/python3.12/site-packages/sklearn/preprocessing/_encoders.py:246: UserWarning: Found unknown categories in columns [1, 4, 9, 12, 17, 19] during transform. These unknown categories will be encoded as all zeros\n",
      "  warnings.warn(\n"
     ]
    },
    {
     "name": "stdout",
     "output_type": "stream",
     "text": [
      "[CV] END model__colsample_bytree=0.7, model__gamma=0.4, model__learning_rate=0.001, model__max_depth=7, model__min_child_weight=8, model__n_estimators=100, model__reg_alpha=0.25, model__reg_lambda=0.6, model__subsample=0.95; total time=   1.1s\n"
     ]
    },
    {
     "name": "stderr",
     "output_type": "stream",
     "text": [
      "/home/wsl2ubuntuuser/.virtualenvs/nomination_predictor/lib/python3.12/site-packages/sklearn/preprocessing/_encoders.py:246: UserWarning: Found unknown categories in columns [1, 4, 9, 12, 13, 17, 19, 21] during transform. These unknown categories will be encoded as all zeros\n",
      "  warnings.warn(\n"
     ]
    },
    {
     "name": "stdout",
     "output_type": "stream",
     "text": [
      "[CV] END model__colsample_bytree=0.675, model__gamma=0.3, model__learning_rate=0.02, model__max_depth=11, model__min_child_weight=11, model__n_estimators=100, model__reg_alpha=0.4, model__reg_lambda=0.25, model__subsample=0.95; total time=   1.5s\n"
     ]
    },
    {
     "name": "stderr",
     "output_type": "stream",
     "text": [
      "/home/wsl2ubuntuuser/.virtualenvs/nomination_predictor/lib/python3.12/site-packages/sklearn/preprocessing/_encoders.py:246: UserWarning: Found unknown categories in columns [4, 9, 11, 12, 13, 17, 19] during transform. These unknown categories will be encoded as all zeros\n",
      "  warnings.warn(\n"
     ]
    },
    {
     "name": "stdout",
     "output_type": "stream",
     "text": [
      "[CV] END model__colsample_bytree=0.675, model__gamma=0.3, model__learning_rate=0.02, model__max_depth=11, model__min_child_weight=11, model__n_estimators=100, model__reg_alpha=0.4, model__reg_lambda=0.25, model__subsample=0.95; total time=   1.5s\n"
     ]
    },
    {
     "name": "stderr",
     "output_type": "stream",
     "text": [
      "/home/wsl2ubuntuuser/.virtualenvs/nomination_predictor/lib/python3.12/site-packages/sklearn/preprocessing/_encoders.py:246: UserWarning: Found unknown categories in columns [0, 4, 9, 12, 17, 19, 21] during transform. These unknown categories will be encoded as all zeros\n",
      "  warnings.warn(\n"
     ]
    },
    {
     "name": "stdout",
     "output_type": "stream",
     "text": [
      "[CV] END model__colsample_bytree=0.675, model__gamma=0.3, model__learning_rate=0.02, model__max_depth=11, model__min_child_weight=11, model__n_estimators=100, model__reg_alpha=0.4, model__reg_lambda=0.25, model__subsample=0.95; total time=   1.5s\n"
     ]
    },
    {
     "name": "stderr",
     "output_type": "stream",
     "text": [
      "/home/wsl2ubuntuuser/.virtualenvs/nomination_predictor/lib/python3.12/site-packages/sklearn/preprocessing/_encoders.py:246: UserWarning: Found unknown categories in columns [4, 9, 11, 12, 17, 19, 21] during transform. These unknown categories will be encoded as all zeros\n",
      "  warnings.warn(\n"
     ]
    },
    {
     "name": "stdout",
     "output_type": "stream",
     "text": [
      "[CV] END model__colsample_bytree=0.675, model__gamma=0.3, model__learning_rate=0.02, model__max_depth=11, model__min_child_weight=11, model__n_estimators=100, model__reg_alpha=0.4, model__reg_lambda=0.25, model__subsample=0.95; total time=   1.7s\n"
     ]
    },
    {
     "name": "stderr",
     "output_type": "stream",
     "text": [
      "/home/wsl2ubuntuuser/.virtualenvs/nomination_predictor/lib/python3.12/site-packages/sklearn/preprocessing/_encoders.py:246: UserWarning: Found unknown categories in columns [1, 4, 9, 12, 17, 19] during transform. These unknown categories will be encoded as all zeros\n",
      "  warnings.warn(\n"
     ]
    },
    {
     "name": "stdout",
     "output_type": "stream",
     "text": [
      "[CV] END model__colsample_bytree=0.675, model__gamma=0.3, model__learning_rate=0.02, model__max_depth=11, model__min_child_weight=11, model__n_estimators=100, model__reg_alpha=0.4, model__reg_lambda=0.25, model__subsample=0.95; total time=   1.4s\n"
     ]
    },
    {
     "name": "stderr",
     "output_type": "stream",
     "text": [
      "/home/wsl2ubuntuuser/.virtualenvs/nomination_predictor/lib/python3.12/site-packages/sklearn/preprocessing/_encoders.py:246: UserWarning: Found unknown categories in columns [1, 4, 9, 12, 13, 17, 19, 21] during transform. These unknown categories will be encoded as all zeros\n",
      "  warnings.warn(\n"
     ]
    },
    {
     "name": "stdout",
     "output_type": "stream",
     "text": [
      "[CV] END model__colsample_bytree=0.65, model__gamma=0.2, model__learning_rate=0.01, model__max_depth=9, model__min_child_weight=10, model__n_estimators=100, model__reg_alpha=1.0, model__reg_lambda=0.25, model__subsample=0.975; total time=   1.1s\n"
     ]
    },
    {
     "name": "stderr",
     "output_type": "stream",
     "text": [
      "/home/wsl2ubuntuuser/.virtualenvs/nomination_predictor/lib/python3.12/site-packages/sklearn/preprocessing/_encoders.py:246: UserWarning: Found unknown categories in columns [4, 9, 11, 12, 13, 17, 19] during transform. These unknown categories will be encoded as all zeros\n",
      "  warnings.warn(\n"
     ]
    },
    {
     "name": "stdout",
     "output_type": "stream",
     "text": [
      "[CV] END model__colsample_bytree=0.65, model__gamma=0.2, model__learning_rate=0.01, model__max_depth=9, model__min_child_weight=10, model__n_estimators=100, model__reg_alpha=1.0, model__reg_lambda=0.25, model__subsample=0.975; total time=   1.0s\n"
     ]
    },
    {
     "name": "stderr",
     "output_type": "stream",
     "text": [
      "/home/wsl2ubuntuuser/.virtualenvs/nomination_predictor/lib/python3.12/site-packages/sklearn/preprocessing/_encoders.py:246: UserWarning: Found unknown categories in columns [0, 4, 9, 12, 17, 19, 21] during transform. These unknown categories will be encoded as all zeros\n",
      "  warnings.warn(\n"
     ]
    },
    {
     "name": "stdout",
     "output_type": "stream",
     "text": [
      "[CV] END model__colsample_bytree=0.65, model__gamma=0.2, model__learning_rate=0.01, model__max_depth=9, model__min_child_weight=10, model__n_estimators=100, model__reg_alpha=1.0, model__reg_lambda=0.25, model__subsample=0.975; total time=   1.1s\n"
     ]
    },
    {
     "name": "stderr",
     "output_type": "stream",
     "text": [
      "/home/wsl2ubuntuuser/.virtualenvs/nomination_predictor/lib/python3.12/site-packages/sklearn/preprocessing/_encoders.py:246: UserWarning: Found unknown categories in columns [4, 9, 11, 12, 17, 19, 21] during transform. These unknown categories will be encoded as all zeros\n",
      "  warnings.warn(\n"
     ]
    },
    {
     "name": "stdout",
     "output_type": "stream",
     "text": [
      "[CV] END model__colsample_bytree=0.65, model__gamma=0.2, model__learning_rate=0.01, model__max_depth=9, model__min_child_weight=10, model__n_estimators=100, model__reg_alpha=1.0, model__reg_lambda=0.25, model__subsample=0.975; total time=   1.1s\n"
     ]
    },
    {
     "name": "stderr",
     "output_type": "stream",
     "text": [
      "/home/wsl2ubuntuuser/.virtualenvs/nomination_predictor/lib/python3.12/site-packages/sklearn/preprocessing/_encoders.py:246: UserWarning: Found unknown categories in columns [1, 4, 9, 12, 17, 19] during transform. These unknown categories will be encoded as all zeros\n",
      "  warnings.warn(\n"
     ]
    },
    {
     "name": "stdout",
     "output_type": "stream",
     "text": [
      "[CV] END model__colsample_bytree=0.65, model__gamma=0.2, model__learning_rate=0.01, model__max_depth=9, model__min_child_weight=10, model__n_estimators=100, model__reg_alpha=1.0, model__reg_lambda=0.25, model__subsample=0.975; total time=   1.2s\n"
     ]
    },
    {
     "name": "stderr",
     "output_type": "stream",
     "text": [
      "/home/wsl2ubuntuuser/.virtualenvs/nomination_predictor/lib/python3.12/site-packages/sklearn/preprocessing/_encoders.py:246: UserWarning: Found unknown categories in columns [1, 4, 9, 12, 13, 17, 19, 21] during transform. These unknown categories will be encoded as all zeros\n",
      "  warnings.warn(\n"
     ]
    },
    {
     "name": "stdout",
     "output_type": "stream",
     "text": [
      "[CV] END model__colsample_bytree=0.65, model__gamma=0.25, model__learning_rate=0.01, model__max_depth=11, model__min_child_weight=12, model__n_estimators=500, model__reg_alpha=0.4, model__reg_lambda=0.4, model__subsample=0.975; total time=   5.1s\n"
     ]
    },
    {
     "name": "stderr",
     "output_type": "stream",
     "text": [
      "/home/wsl2ubuntuuser/.virtualenvs/nomination_predictor/lib/python3.12/site-packages/sklearn/preprocessing/_encoders.py:246: UserWarning: Found unknown categories in columns [4, 9, 11, 12, 13, 17, 19] during transform. These unknown categories will be encoded as all zeros\n",
      "  warnings.warn(\n"
     ]
    },
    {
     "name": "stdout",
     "output_type": "stream",
     "text": [
      "[CV] END model__colsample_bytree=0.65, model__gamma=0.25, model__learning_rate=0.01, model__max_depth=11, model__min_child_weight=12, model__n_estimators=500, model__reg_alpha=0.4, model__reg_lambda=0.4, model__subsample=0.975; total time=   5.2s\n"
     ]
    },
    {
     "name": "stderr",
     "output_type": "stream",
     "text": [
      "/home/wsl2ubuntuuser/.virtualenvs/nomination_predictor/lib/python3.12/site-packages/sklearn/preprocessing/_encoders.py:246: UserWarning: Found unknown categories in columns [0, 4, 9, 12, 17, 19, 21] during transform. These unknown categories will be encoded as all zeros\n",
      "  warnings.warn(\n"
     ]
    },
    {
     "name": "stdout",
     "output_type": "stream",
     "text": [
      "[CV] END model__colsample_bytree=0.65, model__gamma=0.25, model__learning_rate=0.01, model__max_depth=11, model__min_child_weight=12, model__n_estimators=500, model__reg_alpha=0.4, model__reg_lambda=0.4, model__subsample=0.975; total time=   5.7s\n"
     ]
    },
    {
     "name": "stderr",
     "output_type": "stream",
     "text": [
      "/home/wsl2ubuntuuser/.virtualenvs/nomination_predictor/lib/python3.12/site-packages/sklearn/preprocessing/_encoders.py:246: UserWarning: Found unknown categories in columns [4, 9, 11, 12, 17, 19, 21] during transform. These unknown categories will be encoded as all zeros\n",
      "  warnings.warn(\n"
     ]
    },
    {
     "name": "stdout",
     "output_type": "stream",
     "text": [
      "[CV] END model__colsample_bytree=0.65, model__gamma=0.25, model__learning_rate=0.01, model__max_depth=11, model__min_child_weight=12, model__n_estimators=500, model__reg_alpha=0.4, model__reg_lambda=0.4, model__subsample=0.975; total time=   6.2s\n"
     ]
    },
    {
     "name": "stderr",
     "output_type": "stream",
     "text": [
      "/home/wsl2ubuntuuser/.virtualenvs/nomination_predictor/lib/python3.12/site-packages/sklearn/preprocessing/_encoders.py:246: UserWarning: Found unknown categories in columns [1, 4, 9, 12, 17, 19] during transform. These unknown categories will be encoded as all zeros\n",
      "  warnings.warn(\n"
     ]
    },
    {
     "name": "stdout",
     "output_type": "stream",
     "text": [
      "[CV] END model__colsample_bytree=0.65, model__gamma=0.25, model__learning_rate=0.01, model__max_depth=11, model__min_child_weight=12, model__n_estimators=500, model__reg_alpha=0.4, model__reg_lambda=0.4, model__subsample=0.975; total time=   7.2s\n"
     ]
    },
    {
     "name": "stderr",
     "output_type": "stream",
     "text": [
      "/home/wsl2ubuntuuser/.virtualenvs/nomination_predictor/lib/python3.12/site-packages/sklearn/preprocessing/_encoders.py:246: UserWarning: Found unknown categories in columns [1, 4, 9, 12, 13, 17, 19, 21] during transform. These unknown categories will be encoded as all zeros\n",
      "  warnings.warn(\n"
     ]
    },
    {
     "name": "stdout",
     "output_type": "stream",
     "text": [
      "[CV] END model__colsample_bytree=0.675, model__gamma=0.35, model__learning_rate=0.02, model__max_depth=10, model__min_child_weight=11, model__n_estimators=500, model__reg_alpha=0.5, model__reg_lambda=0.25, model__subsample=0.975; total time=   6.6s\n"
     ]
    },
    {
     "name": "stderr",
     "output_type": "stream",
     "text": [
      "/home/wsl2ubuntuuser/.virtualenvs/nomination_predictor/lib/python3.12/site-packages/sklearn/preprocessing/_encoders.py:246: UserWarning: Found unknown categories in columns [4, 9, 11, 12, 13, 17, 19] during transform. These unknown categories will be encoded as all zeros\n",
      "  warnings.warn(\n"
     ]
    },
    {
     "name": "stdout",
     "output_type": "stream",
     "text": [
      "[CV] END model__colsample_bytree=0.675, model__gamma=0.35, model__learning_rate=0.02, model__max_depth=10, model__min_child_weight=11, model__n_estimators=500, model__reg_alpha=0.5, model__reg_lambda=0.25, model__subsample=0.975; total time=   6.2s\n"
     ]
    },
    {
     "name": "stderr",
     "output_type": "stream",
     "text": [
      "/home/wsl2ubuntuuser/.virtualenvs/nomination_predictor/lib/python3.12/site-packages/sklearn/preprocessing/_encoders.py:246: UserWarning: Found unknown categories in columns [0, 4, 9, 12, 17, 19, 21] during transform. These unknown categories will be encoded as all zeros\n",
      "  warnings.warn(\n"
     ]
    },
    {
     "name": "stdout",
     "output_type": "stream",
     "text": [
      "[CV] END model__colsample_bytree=0.675, model__gamma=0.35, model__learning_rate=0.02, model__max_depth=10, model__min_child_weight=11, model__n_estimators=500, model__reg_alpha=0.5, model__reg_lambda=0.25, model__subsample=0.975; total time=   7.0s\n"
     ]
    },
    {
     "name": "stderr",
     "output_type": "stream",
     "text": [
      "/home/wsl2ubuntuuser/.virtualenvs/nomination_predictor/lib/python3.12/site-packages/sklearn/preprocessing/_encoders.py:246: UserWarning: Found unknown categories in columns [4, 9, 11, 12, 17, 19, 21] during transform. These unknown categories will be encoded as all zeros\n",
      "  warnings.warn(\n"
     ]
    },
    {
     "name": "stdout",
     "output_type": "stream",
     "text": [
      "[CV] END model__colsample_bytree=0.675, model__gamma=0.35, model__learning_rate=0.02, model__max_depth=10, model__min_child_weight=11, model__n_estimators=500, model__reg_alpha=0.5, model__reg_lambda=0.25, model__subsample=0.975; total time=   5.2s\n"
     ]
    },
    {
     "name": "stderr",
     "output_type": "stream",
     "text": [
      "/home/wsl2ubuntuuser/.virtualenvs/nomination_predictor/lib/python3.12/site-packages/sklearn/preprocessing/_encoders.py:246: UserWarning: Found unknown categories in columns [1, 4, 9, 12, 17, 19] during transform. These unknown categories will be encoded as all zeros\n",
      "  warnings.warn(\n"
     ]
    },
    {
     "name": "stdout",
     "output_type": "stream",
     "text": [
      "[CV] END model__colsample_bytree=0.675, model__gamma=0.35, model__learning_rate=0.02, model__max_depth=10, model__min_child_weight=11, model__n_estimators=500, model__reg_alpha=0.5, model__reg_lambda=0.25, model__subsample=0.975; total time=   5.0s\n"
     ]
    },
    {
     "name": "stderr",
     "output_type": "stream",
     "text": [
      "/home/wsl2ubuntuuser/.virtualenvs/nomination_predictor/lib/python3.12/site-packages/sklearn/preprocessing/_encoders.py:246: UserWarning: Found unknown categories in columns [1, 4, 9, 12, 13, 17, 19, 21] during transform. These unknown categories will be encoded as all zeros\n",
      "  warnings.warn(\n"
     ]
    },
    {
     "name": "stdout",
     "output_type": "stream",
     "text": [
      "[CV] END model__colsample_bytree=0.75, model__gamma=0.2, model__learning_rate=0.02, model__max_depth=7, model__min_child_weight=8, model__n_estimators=500, model__reg_alpha=0.4, model__reg_lambda=0.4, model__subsample=0.95; total time=   3.3s\n"
     ]
    },
    {
     "name": "stderr",
     "output_type": "stream",
     "text": [
      "/home/wsl2ubuntuuser/.virtualenvs/nomination_predictor/lib/python3.12/site-packages/sklearn/preprocessing/_encoders.py:246: UserWarning: Found unknown categories in columns [4, 9, 11, 12, 13, 17, 19] during transform. These unknown categories will be encoded as all zeros\n",
      "  warnings.warn(\n"
     ]
    },
    {
     "name": "stdout",
     "output_type": "stream",
     "text": [
      "[CV] END model__colsample_bytree=0.75, model__gamma=0.2, model__learning_rate=0.02, model__max_depth=7, model__min_child_weight=8, model__n_estimators=500, model__reg_alpha=0.4, model__reg_lambda=0.4, model__subsample=0.95; total time=   4.1s\n"
     ]
    },
    {
     "name": "stderr",
     "output_type": "stream",
     "text": [
      "/home/wsl2ubuntuuser/.virtualenvs/nomination_predictor/lib/python3.12/site-packages/sklearn/preprocessing/_encoders.py:246: UserWarning: Found unknown categories in columns [0, 4, 9, 12, 17, 19, 21] during transform. These unknown categories will be encoded as all zeros\n",
      "  warnings.warn(\n"
     ]
    },
    {
     "name": "stdout",
     "output_type": "stream",
     "text": [
      "[CV] END model__colsample_bytree=0.75, model__gamma=0.2, model__learning_rate=0.02, model__max_depth=7, model__min_child_weight=8, model__n_estimators=500, model__reg_alpha=0.4, model__reg_lambda=0.4, model__subsample=0.95; total time=   4.2s\n"
     ]
    },
    {
     "name": "stderr",
     "output_type": "stream",
     "text": [
      "/home/wsl2ubuntuuser/.virtualenvs/nomination_predictor/lib/python3.12/site-packages/sklearn/preprocessing/_encoders.py:246: UserWarning: Found unknown categories in columns [4, 9, 11, 12, 17, 19, 21] during transform. These unknown categories will be encoded as all zeros\n",
      "  warnings.warn(\n"
     ]
    },
    {
     "name": "stdout",
     "output_type": "stream",
     "text": [
      "[CV] END model__colsample_bytree=0.75, model__gamma=0.2, model__learning_rate=0.02, model__max_depth=7, model__min_child_weight=8, model__n_estimators=500, model__reg_alpha=0.4, model__reg_lambda=0.4, model__subsample=0.95; total time=   3.8s\n"
     ]
    },
    {
     "name": "stderr",
     "output_type": "stream",
     "text": [
      "/home/wsl2ubuntuuser/.virtualenvs/nomination_predictor/lib/python3.12/site-packages/sklearn/preprocessing/_encoders.py:246: UserWarning: Found unknown categories in columns [1, 4, 9, 12, 17, 19] during transform. These unknown categories will be encoded as all zeros\n",
      "  warnings.warn(\n"
     ]
    },
    {
     "name": "stdout",
     "output_type": "stream",
     "text": [
      "[CV] END model__colsample_bytree=0.75, model__gamma=0.2, model__learning_rate=0.02, model__max_depth=7, model__min_child_weight=8, model__n_estimators=500, model__reg_alpha=0.4, model__reg_lambda=0.4, model__subsample=0.95; total time=   4.3s\n"
     ]
    },
    {
     "name": "stderr",
     "output_type": "stream",
     "text": [
      "/home/wsl2ubuntuuser/.virtualenvs/nomination_predictor/lib/python3.12/site-packages/sklearn/preprocessing/_encoders.py:246: UserWarning: Found unknown categories in columns [1, 4, 9, 12, 13, 17, 19, 21] during transform. These unknown categories will be encoded as all zeros\n",
      "  warnings.warn(\n"
     ]
    },
    {
     "name": "stdout",
     "output_type": "stream",
     "text": [
      "[CV] END model__colsample_bytree=0.675, model__gamma=0.35, model__learning_rate=0.001, model__max_depth=9, model__min_child_weight=9, model__n_estimators=500, model__reg_alpha=0.5, model__reg_lambda=0.5, model__subsample=1.0; total time=   6.5s\n"
     ]
    },
    {
     "name": "stderr",
     "output_type": "stream",
     "text": [
      "/home/wsl2ubuntuuser/.virtualenvs/nomination_predictor/lib/python3.12/site-packages/sklearn/preprocessing/_encoders.py:246: UserWarning: Found unknown categories in columns [4, 9, 11, 12, 13, 17, 19] during transform. These unknown categories will be encoded as all zeros\n",
      "  warnings.warn(\n"
     ]
    },
    {
     "name": "stdout",
     "output_type": "stream",
     "text": [
      "[CV] END model__colsample_bytree=0.675, model__gamma=0.35, model__learning_rate=0.001, model__max_depth=9, model__min_child_weight=9, model__n_estimators=500, model__reg_alpha=0.5, model__reg_lambda=0.5, model__subsample=1.0; total time=   5.6s\n"
     ]
    },
    {
     "name": "stderr",
     "output_type": "stream",
     "text": [
      "/home/wsl2ubuntuuser/.virtualenvs/nomination_predictor/lib/python3.12/site-packages/sklearn/preprocessing/_encoders.py:246: UserWarning: Found unknown categories in columns [0, 4, 9, 12, 17, 19, 21] during transform. These unknown categories will be encoded as all zeros\n",
      "  warnings.warn(\n"
     ]
    },
    {
     "name": "stdout",
     "output_type": "stream",
     "text": [
      "[CV] END model__colsample_bytree=0.675, model__gamma=0.35, model__learning_rate=0.001, model__max_depth=9, model__min_child_weight=9, model__n_estimators=500, model__reg_alpha=0.5, model__reg_lambda=0.5, model__subsample=1.0; total time=   5.9s\n"
     ]
    },
    {
     "name": "stderr",
     "output_type": "stream",
     "text": [
      "/home/wsl2ubuntuuser/.virtualenvs/nomination_predictor/lib/python3.12/site-packages/sklearn/preprocessing/_encoders.py:246: UserWarning: Found unknown categories in columns [4, 9, 11, 12, 17, 19, 21] during transform. These unknown categories will be encoded as all zeros\n",
      "  warnings.warn(\n"
     ]
    },
    {
     "name": "stdout",
     "output_type": "stream",
     "text": [
      "[CV] END model__colsample_bytree=0.675, model__gamma=0.35, model__learning_rate=0.001, model__max_depth=9, model__min_child_weight=9, model__n_estimators=500, model__reg_alpha=0.5, model__reg_lambda=0.5, model__subsample=1.0; total time=   6.0s\n"
     ]
    },
    {
     "name": "stderr",
     "output_type": "stream",
     "text": [
      "/home/wsl2ubuntuuser/.virtualenvs/nomination_predictor/lib/python3.12/site-packages/sklearn/preprocessing/_encoders.py:246: UserWarning: Found unknown categories in columns [1, 4, 9, 12, 17, 19] during transform. These unknown categories will be encoded as all zeros\n",
      "  warnings.warn(\n"
     ]
    },
    {
     "name": "stdout",
     "output_type": "stream",
     "text": [
      "[CV] END model__colsample_bytree=0.675, model__gamma=0.35, model__learning_rate=0.001, model__max_depth=9, model__min_child_weight=9, model__n_estimators=500, model__reg_alpha=0.5, model__reg_lambda=0.5, model__subsample=1.0; total time=   5.8s\n"
     ]
    },
    {
     "name": "stderr",
     "output_type": "stream",
     "text": [
      "/home/wsl2ubuntuuser/.virtualenvs/nomination_predictor/lib/python3.12/site-packages/sklearn/preprocessing/_encoders.py:246: UserWarning: Found unknown categories in columns [1, 4, 9, 12, 13, 17, 19, 21] during transform. These unknown categories will be encoded as all zeros\n",
      "  warnings.warn(\n"
     ]
    },
    {
     "name": "stdout",
     "output_type": "stream",
     "text": [
      "[CV] END model__colsample_bytree=0.675, model__gamma=0.2, model__learning_rate=0.001, model__max_depth=7, model__min_child_weight=12, model__n_estimators=500, model__reg_alpha=0.6, model__reg_lambda=0.4, model__subsample=0.95; total time=   4.6s\n"
     ]
    },
    {
     "name": "stderr",
     "output_type": "stream",
     "text": [
      "/home/wsl2ubuntuuser/.virtualenvs/nomination_predictor/lib/python3.12/site-packages/sklearn/preprocessing/_encoders.py:246: UserWarning: Found unknown categories in columns [4, 9, 11, 12, 13, 17, 19] during transform. These unknown categories will be encoded as all zeros\n",
      "  warnings.warn(\n"
     ]
    },
    {
     "name": "stdout",
     "output_type": "stream",
     "text": [
      "[CV] END model__colsample_bytree=0.675, model__gamma=0.2, model__learning_rate=0.001, model__max_depth=7, model__min_child_weight=12, model__n_estimators=500, model__reg_alpha=0.6, model__reg_lambda=0.4, model__subsample=0.95; total time=   4.7s\n"
     ]
    },
    {
     "name": "stderr",
     "output_type": "stream",
     "text": [
      "/home/wsl2ubuntuuser/.virtualenvs/nomination_predictor/lib/python3.12/site-packages/sklearn/preprocessing/_encoders.py:246: UserWarning: Found unknown categories in columns [0, 4, 9, 12, 17, 19, 21] during transform. These unknown categories will be encoded as all zeros\n",
      "  warnings.warn(\n"
     ]
    },
    {
     "name": "stdout",
     "output_type": "stream",
     "text": [
      "[CV] END model__colsample_bytree=0.675, model__gamma=0.2, model__learning_rate=0.001, model__max_depth=7, model__min_child_weight=12, model__n_estimators=500, model__reg_alpha=0.6, model__reg_lambda=0.4, model__subsample=0.95; total time=   4.0s\n"
     ]
    },
    {
     "name": "stderr",
     "output_type": "stream",
     "text": [
      "/home/wsl2ubuntuuser/.virtualenvs/nomination_predictor/lib/python3.12/site-packages/sklearn/preprocessing/_encoders.py:246: UserWarning: Found unknown categories in columns [4, 9, 11, 12, 17, 19, 21] during transform. These unknown categories will be encoded as all zeros\n",
      "  warnings.warn(\n"
     ]
    },
    {
     "name": "stdout",
     "output_type": "stream",
     "text": [
      "[CV] END model__colsample_bytree=0.675, model__gamma=0.2, model__learning_rate=0.001, model__max_depth=7, model__min_child_weight=12, model__n_estimators=500, model__reg_alpha=0.6, model__reg_lambda=0.4, model__subsample=0.95; total time=   4.2s\n"
     ]
    },
    {
     "name": "stderr",
     "output_type": "stream",
     "text": [
      "/home/wsl2ubuntuuser/.virtualenvs/nomination_predictor/lib/python3.12/site-packages/sklearn/preprocessing/_encoders.py:246: UserWarning: Found unknown categories in columns [1, 4, 9, 12, 17, 19] during transform. These unknown categories will be encoded as all zeros\n",
      "  warnings.warn(\n"
     ]
    },
    {
     "name": "stdout",
     "output_type": "stream",
     "text": [
      "[CV] END model__colsample_bytree=0.675, model__gamma=0.2, model__learning_rate=0.001, model__max_depth=7, model__min_child_weight=12, model__n_estimators=500, model__reg_alpha=0.6, model__reg_lambda=0.4, model__subsample=0.95; total time=   4.1s\n"
     ]
    },
    {
     "name": "stderr",
     "output_type": "stream",
     "text": [
      "/home/wsl2ubuntuuser/.virtualenvs/nomination_predictor/lib/python3.12/site-packages/sklearn/preprocessing/_encoders.py:246: UserWarning: Found unknown categories in columns [1, 4, 9, 12, 13, 17, 19, 21] during transform. These unknown categories will be encoded as all zeros\n",
      "  warnings.warn(\n"
     ]
    },
    {
     "name": "stdout",
     "output_type": "stream",
     "text": [
      "[CV] END model__colsample_bytree=0.675, model__gamma=0.25, model__learning_rate=0.02, model__max_depth=7, model__min_child_weight=9, model__n_estimators=1500, model__reg_alpha=1.0, model__reg_lambda=0.5, model__subsample=0.95; total time=  10.5s\n"
     ]
    },
    {
     "name": "stderr",
     "output_type": "stream",
     "text": [
      "/home/wsl2ubuntuuser/.virtualenvs/nomination_predictor/lib/python3.12/site-packages/sklearn/preprocessing/_encoders.py:246: UserWarning: Found unknown categories in columns [4, 9, 11, 12, 13, 17, 19] during transform. These unknown categories will be encoded as all zeros\n",
      "  warnings.warn(\n"
     ]
    },
    {
     "name": "stdout",
     "output_type": "stream",
     "text": [
      "[CV] END model__colsample_bytree=0.675, model__gamma=0.25, model__learning_rate=0.02, model__max_depth=7, model__min_child_weight=9, model__n_estimators=1500, model__reg_alpha=1.0, model__reg_lambda=0.5, model__subsample=0.95; total time=   9.3s\n"
     ]
    },
    {
     "name": "stderr",
     "output_type": "stream",
     "text": [
      "/home/wsl2ubuntuuser/.virtualenvs/nomination_predictor/lib/python3.12/site-packages/sklearn/preprocessing/_encoders.py:246: UserWarning: Found unknown categories in columns [0, 4, 9, 12, 17, 19, 21] during transform. These unknown categories will be encoded as all zeros\n",
      "  warnings.warn(\n"
     ]
    },
    {
     "name": "stdout",
     "output_type": "stream",
     "text": [
      "[CV] END model__colsample_bytree=0.675, model__gamma=0.25, model__learning_rate=0.02, model__max_depth=7, model__min_child_weight=9, model__n_estimators=1500, model__reg_alpha=1.0, model__reg_lambda=0.5, model__subsample=0.95; total time=   9.4s\n"
     ]
    },
    {
     "name": "stderr",
     "output_type": "stream",
     "text": [
      "/home/wsl2ubuntuuser/.virtualenvs/nomination_predictor/lib/python3.12/site-packages/sklearn/preprocessing/_encoders.py:246: UserWarning: Found unknown categories in columns [4, 9, 11, 12, 17, 19, 21] during transform. These unknown categories will be encoded as all zeros\n",
      "  warnings.warn(\n"
     ]
    },
    {
     "name": "stdout",
     "output_type": "stream",
     "text": [
      "[CV] END model__colsample_bytree=0.675, model__gamma=0.25, model__learning_rate=0.02, model__max_depth=7, model__min_child_weight=9, model__n_estimators=1500, model__reg_alpha=1.0, model__reg_lambda=0.5, model__subsample=0.95; total time=   9.1s\n"
     ]
    },
    {
     "name": "stderr",
     "output_type": "stream",
     "text": [
      "/home/wsl2ubuntuuser/.virtualenvs/nomination_predictor/lib/python3.12/site-packages/sklearn/preprocessing/_encoders.py:246: UserWarning: Found unknown categories in columns [1, 4, 9, 12, 17, 19] during transform. These unknown categories will be encoded as all zeros\n",
      "  warnings.warn(\n"
     ]
    },
    {
     "name": "stdout",
     "output_type": "stream",
     "text": [
      "[CV] END model__colsample_bytree=0.675, model__gamma=0.25, model__learning_rate=0.02, model__max_depth=7, model__min_child_weight=9, model__n_estimators=1500, model__reg_alpha=1.0, model__reg_lambda=0.5, model__subsample=0.95; total time=   9.3s\n"
     ]
    },
    {
     "name": "stderr",
     "output_type": "stream",
     "text": [
      "/home/wsl2ubuntuuser/.virtualenvs/nomination_predictor/lib/python3.12/site-packages/sklearn/preprocessing/_encoders.py:246: UserWarning: Found unknown categories in columns [1, 4, 9, 12, 13, 17, 19, 21] during transform. These unknown categories will be encoded as all zeros\n",
      "  warnings.warn(\n"
     ]
    },
    {
     "name": "stdout",
     "output_type": "stream",
     "text": [
      "[CV] END model__colsample_bytree=0.725, model__gamma=0.2, model__learning_rate=0.02, model__max_depth=9, model__min_child_weight=11, model__n_estimators=100, model__reg_alpha=0.6, model__reg_lambda=1.0, model__subsample=1.0; total time=   1.1s\n"
     ]
    },
    {
     "name": "stderr",
     "output_type": "stream",
     "text": [
      "/home/wsl2ubuntuuser/.virtualenvs/nomination_predictor/lib/python3.12/site-packages/sklearn/preprocessing/_encoders.py:246: UserWarning: Found unknown categories in columns [4, 9, 11, 12, 13, 17, 19] during transform. These unknown categories will be encoded as all zeros\n",
      "  warnings.warn(\n"
     ]
    },
    {
     "name": "stdout",
     "output_type": "stream",
     "text": [
      "[CV] END model__colsample_bytree=0.725, model__gamma=0.2, model__learning_rate=0.02, model__max_depth=9, model__min_child_weight=11, model__n_estimators=100, model__reg_alpha=0.6, model__reg_lambda=1.0, model__subsample=1.0; total time=   1.1s\n"
     ]
    },
    {
     "name": "stderr",
     "output_type": "stream",
     "text": [
      "/home/wsl2ubuntuuser/.virtualenvs/nomination_predictor/lib/python3.12/site-packages/sklearn/preprocessing/_encoders.py:246: UserWarning: Found unknown categories in columns [0, 4, 9, 12, 17, 19, 21] during transform. These unknown categories will be encoded as all zeros\n",
      "  warnings.warn(\n"
     ]
    },
    {
     "name": "stdout",
     "output_type": "stream",
     "text": [
      "[CV] END model__colsample_bytree=0.725, model__gamma=0.2, model__learning_rate=0.02, model__max_depth=9, model__min_child_weight=11, model__n_estimators=100, model__reg_alpha=0.6, model__reg_lambda=1.0, model__subsample=1.0; total time=   1.1s\n"
     ]
    },
    {
     "name": "stderr",
     "output_type": "stream",
     "text": [
      "/home/wsl2ubuntuuser/.virtualenvs/nomination_predictor/lib/python3.12/site-packages/sklearn/preprocessing/_encoders.py:246: UserWarning: Found unknown categories in columns [4, 9, 11, 12, 17, 19, 21] during transform. These unknown categories will be encoded as all zeros\n",
      "  warnings.warn(\n"
     ]
    },
    {
     "name": "stdout",
     "output_type": "stream",
     "text": [
      "[CV] END model__colsample_bytree=0.725, model__gamma=0.2, model__learning_rate=0.02, model__max_depth=9, model__min_child_weight=11, model__n_estimators=100, model__reg_alpha=0.6, model__reg_lambda=1.0, model__subsample=1.0; total time=   1.1s\n"
     ]
    },
    {
     "name": "stderr",
     "output_type": "stream",
     "text": [
      "/home/wsl2ubuntuuser/.virtualenvs/nomination_predictor/lib/python3.12/site-packages/sklearn/preprocessing/_encoders.py:246: UserWarning: Found unknown categories in columns [1, 4, 9, 12, 17, 19] during transform. These unknown categories will be encoded as all zeros\n",
      "  warnings.warn(\n"
     ]
    },
    {
     "name": "stdout",
     "output_type": "stream",
     "text": [
      "[CV] END model__colsample_bytree=0.725, model__gamma=0.2, model__learning_rate=0.02, model__max_depth=9, model__min_child_weight=11, model__n_estimators=100, model__reg_alpha=0.6, model__reg_lambda=1.0, model__subsample=1.0; total time=   1.5s\n"
     ]
    },
    {
     "name": "stderr",
     "output_type": "stream",
     "text": [
      "/home/wsl2ubuntuuser/.virtualenvs/nomination_predictor/lib/python3.12/site-packages/sklearn/preprocessing/_encoders.py:246: UserWarning: Found unknown categories in columns [1, 4, 9, 12, 13, 17, 19, 21] during transform. These unknown categories will be encoded as all zeros\n",
      "  warnings.warn(\n"
     ]
    },
    {
     "name": "stdout",
     "output_type": "stream",
     "text": [
      "[CV] END model__colsample_bytree=0.65, model__gamma=0.3, model__learning_rate=0.001, model__max_depth=10, model__min_child_weight=8, model__n_estimators=500, model__reg_alpha=0.5, model__reg_lambda=0.5, model__subsample=0.95; total time=   5.1s\n"
     ]
    },
    {
     "name": "stderr",
     "output_type": "stream",
     "text": [
      "/home/wsl2ubuntuuser/.virtualenvs/nomination_predictor/lib/python3.12/site-packages/sklearn/preprocessing/_encoders.py:246: UserWarning: Found unknown categories in columns [4, 9, 11, 12, 13, 17, 19] during transform. These unknown categories will be encoded as all zeros\n",
      "  warnings.warn(\n"
     ]
    },
    {
     "name": "stdout",
     "output_type": "stream",
     "text": [
      "[CV] END model__colsample_bytree=0.65, model__gamma=0.3, model__learning_rate=0.001, model__max_depth=10, model__min_child_weight=8, model__n_estimators=500, model__reg_alpha=0.5, model__reg_lambda=0.5, model__subsample=0.95; total time=   5.4s\n"
     ]
    },
    {
     "name": "stderr",
     "output_type": "stream",
     "text": [
      "/home/wsl2ubuntuuser/.virtualenvs/nomination_predictor/lib/python3.12/site-packages/sklearn/preprocessing/_encoders.py:246: UserWarning: Found unknown categories in columns [0, 4, 9, 12, 17, 19, 21] during transform. These unknown categories will be encoded as all zeros\n",
      "  warnings.warn(\n"
     ]
    },
    {
     "name": "stdout",
     "output_type": "stream",
     "text": [
      "[CV] END model__colsample_bytree=0.65, model__gamma=0.3, model__learning_rate=0.001, model__max_depth=10, model__min_child_weight=8, model__n_estimators=500, model__reg_alpha=0.5, model__reg_lambda=0.5, model__subsample=0.95; total time=   5.3s\n"
     ]
    },
    {
     "name": "stderr",
     "output_type": "stream",
     "text": [
      "/home/wsl2ubuntuuser/.virtualenvs/nomination_predictor/lib/python3.12/site-packages/sklearn/preprocessing/_encoders.py:246: UserWarning: Found unknown categories in columns [4, 9, 11, 12, 17, 19, 21] during transform. These unknown categories will be encoded as all zeros\n",
      "  warnings.warn(\n"
     ]
    },
    {
     "name": "stdout",
     "output_type": "stream",
     "text": [
      "[CV] END model__colsample_bytree=0.65, model__gamma=0.3, model__learning_rate=0.001, model__max_depth=10, model__min_child_weight=8, model__n_estimators=500, model__reg_alpha=0.5, model__reg_lambda=0.5, model__subsample=0.95; total time=   5.3s\n"
     ]
    },
    {
     "name": "stderr",
     "output_type": "stream",
     "text": [
      "/home/wsl2ubuntuuser/.virtualenvs/nomination_predictor/lib/python3.12/site-packages/sklearn/preprocessing/_encoders.py:246: UserWarning: Found unknown categories in columns [1, 4, 9, 12, 17, 19] during transform. These unknown categories will be encoded as all zeros\n",
      "  warnings.warn(\n"
     ]
    },
    {
     "name": "stdout",
     "output_type": "stream",
     "text": [
      "[CV] END model__colsample_bytree=0.65, model__gamma=0.3, model__learning_rate=0.001, model__max_depth=10, model__min_child_weight=8, model__n_estimators=500, model__reg_alpha=0.5, model__reg_lambda=0.5, model__subsample=0.95; total time=   5.6s\n"
     ]
    },
    {
     "name": "stderr",
     "output_type": "stream",
     "text": [
      "/home/wsl2ubuntuuser/.virtualenvs/nomination_predictor/lib/python3.12/site-packages/sklearn/preprocessing/_encoders.py:246: UserWarning: Found unknown categories in columns [1, 4, 9, 12, 13, 17, 19, 21] during transform. These unknown categories will be encoded as all zeros\n",
      "  warnings.warn(\n"
     ]
    },
    {
     "name": "stdout",
     "output_type": "stream",
     "text": [
      "[CV] END model__colsample_bytree=0.675, model__gamma=0.25, model__learning_rate=0.01, model__max_depth=8, model__min_child_weight=8, model__n_estimators=100, model__reg_alpha=0.6, model__reg_lambda=0.25, model__subsample=0.975; total time=   1.0s\n"
     ]
    },
    {
     "name": "stderr",
     "output_type": "stream",
     "text": [
      "/home/wsl2ubuntuuser/.virtualenvs/nomination_predictor/lib/python3.12/site-packages/sklearn/preprocessing/_encoders.py:246: UserWarning: Found unknown categories in columns [4, 9, 11, 12, 13, 17, 19] during transform. These unknown categories will be encoded as all zeros\n",
      "  warnings.warn(\n"
     ]
    },
    {
     "name": "stdout",
     "output_type": "stream",
     "text": [
      "[CV] END model__colsample_bytree=0.675, model__gamma=0.25, model__learning_rate=0.01, model__max_depth=8, model__min_child_weight=8, model__n_estimators=100, model__reg_alpha=0.6, model__reg_lambda=0.25, model__subsample=0.975; total time=   1.2s\n"
     ]
    },
    {
     "name": "stderr",
     "output_type": "stream",
     "text": [
      "/home/wsl2ubuntuuser/.virtualenvs/nomination_predictor/lib/python3.12/site-packages/sklearn/preprocessing/_encoders.py:246: UserWarning: Found unknown categories in columns [0, 4, 9, 12, 17, 19, 21] during transform. These unknown categories will be encoded as all zeros\n",
      "  warnings.warn(\n"
     ]
    },
    {
     "name": "stdout",
     "output_type": "stream",
     "text": [
      "[CV] END model__colsample_bytree=0.675, model__gamma=0.25, model__learning_rate=0.01, model__max_depth=8, model__min_child_weight=8, model__n_estimators=100, model__reg_alpha=0.6, model__reg_lambda=0.25, model__subsample=0.975; total time=   1.4s\n"
     ]
    },
    {
     "name": "stderr",
     "output_type": "stream",
     "text": [
      "/home/wsl2ubuntuuser/.virtualenvs/nomination_predictor/lib/python3.12/site-packages/sklearn/preprocessing/_encoders.py:246: UserWarning: Found unknown categories in columns [4, 9, 11, 12, 17, 19, 21] during transform. These unknown categories will be encoded as all zeros\n",
      "  warnings.warn(\n"
     ]
    },
    {
     "name": "stdout",
     "output_type": "stream",
     "text": [
      "[CV] END model__colsample_bytree=0.675, model__gamma=0.25, model__learning_rate=0.01, model__max_depth=8, model__min_child_weight=8, model__n_estimators=100, model__reg_alpha=0.6, model__reg_lambda=0.25, model__subsample=0.975; total time=   1.0s\n"
     ]
    },
    {
     "name": "stderr",
     "output_type": "stream",
     "text": [
      "/home/wsl2ubuntuuser/.virtualenvs/nomination_predictor/lib/python3.12/site-packages/sklearn/preprocessing/_encoders.py:246: UserWarning: Found unknown categories in columns [1, 4, 9, 12, 17, 19] during transform. These unknown categories will be encoded as all zeros\n",
      "  warnings.warn(\n"
     ]
    },
    {
     "name": "stdout",
     "output_type": "stream",
     "text": [
      "[CV] END model__colsample_bytree=0.675, model__gamma=0.25, model__learning_rate=0.01, model__max_depth=8, model__min_child_weight=8, model__n_estimators=100, model__reg_alpha=0.6, model__reg_lambda=0.25, model__subsample=0.975; total time=   1.0s\n"
     ]
    },
    {
     "name": "stderr",
     "output_type": "stream",
     "text": [
      "/home/wsl2ubuntuuser/.virtualenvs/nomination_predictor/lib/python3.12/site-packages/sklearn/preprocessing/_encoders.py:246: UserWarning: Found unknown categories in columns [1, 4, 9, 12, 13, 17, 19, 21] during transform. These unknown categories will be encoded as all zeros\n",
      "  warnings.warn(\n"
     ]
    },
    {
     "name": "stdout",
     "output_type": "stream",
     "text": [
      "[CV] END model__colsample_bytree=0.65, model__gamma=0.2, model__learning_rate=0.03, model__max_depth=10, model__min_child_weight=9, model__n_estimators=500, model__reg_alpha=1.0, model__reg_lambda=0.5, model__subsample=1.0; total time=   4.4s\n"
     ]
    },
    {
     "name": "stderr",
     "output_type": "stream",
     "text": [
      "/home/wsl2ubuntuuser/.virtualenvs/nomination_predictor/lib/python3.12/site-packages/sklearn/preprocessing/_encoders.py:246: UserWarning: Found unknown categories in columns [4, 9, 11, 12, 13, 17, 19] during transform. These unknown categories will be encoded as all zeros\n",
      "  warnings.warn(\n"
     ]
    },
    {
     "name": "stdout",
     "output_type": "stream",
     "text": [
      "[CV] END model__colsample_bytree=0.65, model__gamma=0.2, model__learning_rate=0.03, model__max_depth=10, model__min_child_weight=9, model__n_estimators=500, model__reg_alpha=1.0, model__reg_lambda=0.5, model__subsample=1.0; total time=   4.1s\n"
     ]
    },
    {
     "name": "stderr",
     "output_type": "stream",
     "text": [
      "/home/wsl2ubuntuuser/.virtualenvs/nomination_predictor/lib/python3.12/site-packages/sklearn/preprocessing/_encoders.py:246: UserWarning: Found unknown categories in columns [0, 4, 9, 12, 17, 19, 21] during transform. These unknown categories will be encoded as all zeros\n",
      "  warnings.warn(\n"
     ]
    },
    {
     "name": "stdout",
     "output_type": "stream",
     "text": [
      "[CV] END model__colsample_bytree=0.65, model__gamma=0.2, model__learning_rate=0.03, model__max_depth=10, model__min_child_weight=9, model__n_estimators=500, model__reg_alpha=1.0, model__reg_lambda=0.5, model__subsample=1.0; total time=  40.8s\n"
     ]
    },
    {
     "name": "stderr",
     "output_type": "stream",
     "text": [
      "/home/wsl2ubuntuuser/.virtualenvs/nomination_predictor/lib/python3.12/site-packages/sklearn/preprocessing/_encoders.py:246: UserWarning: Found unknown categories in columns [4, 9, 11, 12, 17, 19, 21] during transform. These unknown categories will be encoded as all zeros\n",
      "  warnings.warn(\n"
     ]
    },
    {
     "name": "stdout",
     "output_type": "stream",
     "text": [
      "[CV] END model__colsample_bytree=0.65, model__gamma=0.2, model__learning_rate=0.03, model__max_depth=10, model__min_child_weight=9, model__n_estimators=500, model__reg_alpha=1.0, model__reg_lambda=0.5, model__subsample=1.0; total time= -32.4s\n"
     ]
    },
    {
     "name": "stderr",
     "output_type": "stream",
     "text": [
      "/home/wsl2ubuntuuser/.virtualenvs/nomination_predictor/lib/python3.12/site-packages/sklearn/preprocessing/_encoders.py:246: UserWarning: Found unknown categories in columns [1, 4, 9, 12, 17, 19] during transform. These unknown categories will be encoded as all zeros\n",
      "  warnings.warn(\n"
     ]
    },
    {
     "name": "stdout",
     "output_type": "stream",
     "text": [
      "[CV] END model__colsample_bytree=0.65, model__gamma=0.2, model__learning_rate=0.03, model__max_depth=10, model__min_child_weight=9, model__n_estimators=500, model__reg_alpha=1.0, model__reg_lambda=0.5, model__subsample=1.0; total time=   4.0s\n"
     ]
    },
    {
     "name": "stderr",
     "output_type": "stream",
     "text": [
      "/home/wsl2ubuntuuser/.virtualenvs/nomination_predictor/lib/python3.12/site-packages/sklearn/preprocessing/_encoders.py:246: UserWarning: Found unknown categories in columns [1, 4, 9, 12, 13, 17, 19, 21] during transform. These unknown categories will be encoded as all zeros\n",
      "  warnings.warn(\n"
     ]
    },
    {
     "name": "stdout",
     "output_type": "stream",
     "text": [
      "[CV] END model__colsample_bytree=0.675, model__gamma=0.3, model__learning_rate=0.03, model__max_depth=9, model__min_child_weight=11, model__n_estimators=100, model__reg_alpha=0.6, model__reg_lambda=0.4, model__subsample=1.0; total time=   1.3s\n"
     ]
    },
    {
     "name": "stderr",
     "output_type": "stream",
     "text": [
      "/home/wsl2ubuntuuser/.virtualenvs/nomination_predictor/lib/python3.12/site-packages/sklearn/preprocessing/_encoders.py:246: UserWarning: Found unknown categories in columns [4, 9, 11, 12, 13, 17, 19] during transform. These unknown categories will be encoded as all zeros\n",
      "  warnings.warn(\n"
     ]
    },
    {
     "name": "stdout",
     "output_type": "stream",
     "text": [
      "[CV] END model__colsample_bytree=0.675, model__gamma=0.3, model__learning_rate=0.03, model__max_depth=9, model__min_child_weight=11, model__n_estimators=100, model__reg_alpha=0.6, model__reg_lambda=0.4, model__subsample=1.0; total time=   0.9s\n"
     ]
    },
    {
     "name": "stderr",
     "output_type": "stream",
     "text": [
      "/home/wsl2ubuntuuser/.virtualenvs/nomination_predictor/lib/python3.12/site-packages/sklearn/preprocessing/_encoders.py:246: UserWarning: Found unknown categories in columns [0, 4, 9, 12, 17, 19, 21] during transform. These unknown categories will be encoded as all zeros\n",
      "  warnings.warn(\n"
     ]
    },
    {
     "name": "stdout",
     "output_type": "stream",
     "text": [
      "[CV] END model__colsample_bytree=0.675, model__gamma=0.3, model__learning_rate=0.03, model__max_depth=9, model__min_child_weight=11, model__n_estimators=100, model__reg_alpha=0.6, model__reg_lambda=0.4, model__subsample=1.0; total time=   1.0s\n"
     ]
    },
    {
     "name": "stderr",
     "output_type": "stream",
     "text": [
      "/home/wsl2ubuntuuser/.virtualenvs/nomination_predictor/lib/python3.12/site-packages/sklearn/preprocessing/_encoders.py:246: UserWarning: Found unknown categories in columns [4, 9, 11, 12, 17, 19, 21] during transform. These unknown categories will be encoded as all zeros\n",
      "  warnings.warn(\n"
     ]
    },
    {
     "name": "stdout",
     "output_type": "stream",
     "text": [
      "[CV] END model__colsample_bytree=0.675, model__gamma=0.3, model__learning_rate=0.03, model__max_depth=9, model__min_child_weight=11, model__n_estimators=100, model__reg_alpha=0.6, model__reg_lambda=0.4, model__subsample=1.0; total time=   1.1s\n"
     ]
    },
    {
     "name": "stderr",
     "output_type": "stream",
     "text": [
      "/home/wsl2ubuntuuser/.virtualenvs/nomination_predictor/lib/python3.12/site-packages/sklearn/preprocessing/_encoders.py:246: UserWarning: Found unknown categories in columns [1, 4, 9, 12, 17, 19] during transform. These unknown categories will be encoded as all zeros\n",
      "  warnings.warn(\n"
     ]
    },
    {
     "name": "stdout",
     "output_type": "stream",
     "text": [
      "[CV] END model__colsample_bytree=0.675, model__gamma=0.3, model__learning_rate=0.03, model__max_depth=9, model__min_child_weight=11, model__n_estimators=100, model__reg_alpha=0.6, model__reg_lambda=0.4, model__subsample=1.0; total time=   1.1s\n"
     ]
    },
    {
     "name": "stderr",
     "output_type": "stream",
     "text": [
      "/home/wsl2ubuntuuser/.virtualenvs/nomination_predictor/lib/python3.12/site-packages/sklearn/preprocessing/_encoders.py:246: UserWarning: Found unknown categories in columns [1, 4, 9, 12, 13, 17, 19, 21] during transform. These unknown categories will be encoded as all zeros\n",
      "  warnings.warn(\n"
     ]
    },
    {
     "name": "stdout",
     "output_type": "stream",
     "text": [
      "[CV] END model__colsample_bytree=0.75, model__gamma=0.3, model__learning_rate=0.03, model__max_depth=8, model__min_child_weight=9, model__n_estimators=1000, model__reg_alpha=0.25, model__reg_lambda=1.0, model__subsample=0.95; total time=   6.6s\n"
     ]
    },
    {
     "name": "stderr",
     "output_type": "stream",
     "text": [
      "/home/wsl2ubuntuuser/.virtualenvs/nomination_predictor/lib/python3.12/site-packages/sklearn/preprocessing/_encoders.py:246: UserWarning: Found unknown categories in columns [4, 9, 11, 12, 13, 17, 19] during transform. These unknown categories will be encoded as all zeros\n",
      "  warnings.warn(\n"
     ]
    },
    {
     "name": "stdout",
     "output_type": "stream",
     "text": [
      "[CV] END model__colsample_bytree=0.75, model__gamma=0.3, model__learning_rate=0.03, model__max_depth=8, model__min_child_weight=9, model__n_estimators=1000, model__reg_alpha=0.25, model__reg_lambda=1.0, model__subsample=0.95; total time=   6.3s\n"
     ]
    },
    {
     "name": "stderr",
     "output_type": "stream",
     "text": [
      "/home/wsl2ubuntuuser/.virtualenvs/nomination_predictor/lib/python3.12/site-packages/sklearn/preprocessing/_encoders.py:246: UserWarning: Found unknown categories in columns [0, 4, 9, 12, 17, 19, 21] during transform. These unknown categories will be encoded as all zeros\n",
      "  warnings.warn(\n"
     ]
    },
    {
     "name": "stdout",
     "output_type": "stream",
     "text": [
      "[CV] END model__colsample_bytree=0.75, model__gamma=0.3, model__learning_rate=0.03, model__max_depth=8, model__min_child_weight=9, model__n_estimators=1000, model__reg_alpha=0.25, model__reg_lambda=1.0, model__subsample=0.95; total time=   6.2s\n"
     ]
    },
    {
     "name": "stderr",
     "output_type": "stream",
     "text": [
      "/home/wsl2ubuntuuser/.virtualenvs/nomination_predictor/lib/python3.12/site-packages/sklearn/preprocessing/_encoders.py:246: UserWarning: Found unknown categories in columns [4, 9, 11, 12, 17, 19, 21] during transform. These unknown categories will be encoded as all zeros\n",
      "  warnings.warn(\n"
     ]
    },
    {
     "name": "stdout",
     "output_type": "stream",
     "text": [
      "[CV] END model__colsample_bytree=0.75, model__gamma=0.3, model__learning_rate=0.03, model__max_depth=8, model__min_child_weight=9, model__n_estimators=1000, model__reg_alpha=0.25, model__reg_lambda=1.0, model__subsample=0.95; total time=   6.4s\n"
     ]
    },
    {
     "name": "stderr",
     "output_type": "stream",
     "text": [
      "/home/wsl2ubuntuuser/.virtualenvs/nomination_predictor/lib/python3.12/site-packages/sklearn/preprocessing/_encoders.py:246: UserWarning: Found unknown categories in columns [1, 4, 9, 12, 17, 19] during transform. These unknown categories will be encoded as all zeros\n",
      "  warnings.warn(\n"
     ]
    },
    {
     "name": "stdout",
     "output_type": "stream",
     "text": [
      "[CV] END model__colsample_bytree=0.75, model__gamma=0.3, model__learning_rate=0.03, model__max_depth=8, model__min_child_weight=9, model__n_estimators=1000, model__reg_alpha=0.25, model__reg_lambda=1.0, model__subsample=0.95; total time=   7.4s\n"
     ]
    },
    {
     "name": "stderr",
     "output_type": "stream",
     "text": [
      "/home/wsl2ubuntuuser/.virtualenvs/nomination_predictor/lib/python3.12/site-packages/sklearn/preprocessing/_encoders.py:246: UserWarning: Found unknown categories in columns [1, 4, 9, 12, 13, 17, 19, 21] during transform. These unknown categories will be encoded as all zeros\n",
      "  warnings.warn(\n"
     ]
    },
    {
     "name": "stdout",
     "output_type": "stream",
     "text": [
      "[CV] END model__colsample_bytree=0.725, model__gamma=0.4, model__learning_rate=0.03, model__max_depth=7, model__min_child_weight=9, model__n_estimators=1000, model__reg_alpha=0.6, model__reg_lambda=0.5, model__subsample=0.975; total time=   5.8s\n"
     ]
    },
    {
     "name": "stderr",
     "output_type": "stream",
     "text": [
      "/home/wsl2ubuntuuser/.virtualenvs/nomination_predictor/lib/python3.12/site-packages/sklearn/preprocessing/_encoders.py:246: UserWarning: Found unknown categories in columns [4, 9, 11, 12, 13, 17, 19] during transform. These unknown categories will be encoded as all zeros\n",
      "  warnings.warn(\n"
     ]
    },
    {
     "name": "stdout",
     "output_type": "stream",
     "text": [
      "[CV] END model__colsample_bytree=0.725, model__gamma=0.4, model__learning_rate=0.03, model__max_depth=7, model__min_child_weight=9, model__n_estimators=1000, model__reg_alpha=0.6, model__reg_lambda=0.5, model__subsample=0.975; total time=   6.2s\n"
     ]
    },
    {
     "name": "stderr",
     "output_type": "stream",
     "text": [
      "/home/wsl2ubuntuuser/.virtualenvs/nomination_predictor/lib/python3.12/site-packages/sklearn/preprocessing/_encoders.py:246: UserWarning: Found unknown categories in columns [0, 4, 9, 12, 17, 19, 21] during transform. These unknown categories will be encoded as all zeros\n",
      "  warnings.warn(\n"
     ]
    },
    {
     "name": "stdout",
     "output_type": "stream",
     "text": [
      "[CV] END model__colsample_bytree=0.725, model__gamma=0.4, model__learning_rate=0.03, model__max_depth=7, model__min_child_weight=9, model__n_estimators=1000, model__reg_alpha=0.6, model__reg_lambda=0.5, model__subsample=0.975; total time=   6.2s\n"
     ]
    },
    {
     "name": "stderr",
     "output_type": "stream",
     "text": [
      "/home/wsl2ubuntuuser/.virtualenvs/nomination_predictor/lib/python3.12/site-packages/sklearn/preprocessing/_encoders.py:246: UserWarning: Found unknown categories in columns [4, 9, 11, 12, 17, 19, 21] during transform. These unknown categories will be encoded as all zeros\n",
      "  warnings.warn(\n"
     ]
    },
    {
     "name": "stdout",
     "output_type": "stream",
     "text": [
      "[CV] END model__colsample_bytree=0.725, model__gamma=0.4, model__learning_rate=0.03, model__max_depth=7, model__min_child_weight=9, model__n_estimators=1000, model__reg_alpha=0.6, model__reg_lambda=0.5, model__subsample=0.975; total time=   6.3s\n"
     ]
    },
    {
     "name": "stderr",
     "output_type": "stream",
     "text": [
      "/home/wsl2ubuntuuser/.virtualenvs/nomination_predictor/lib/python3.12/site-packages/sklearn/preprocessing/_encoders.py:246: UserWarning: Found unknown categories in columns [1, 4, 9, 12, 17, 19] during transform. These unknown categories will be encoded as all zeros\n",
      "  warnings.warn(\n"
     ]
    },
    {
     "name": "stdout",
     "output_type": "stream",
     "text": [
      "[CV] END model__colsample_bytree=0.725, model__gamma=0.4, model__learning_rate=0.03, model__max_depth=7, model__min_child_weight=9, model__n_estimators=1000, model__reg_alpha=0.6, model__reg_lambda=0.5, model__subsample=0.975; total time=   6.3s\n"
     ]
    },
    {
     "name": "stderr",
     "output_type": "stream",
     "text": [
      "/home/wsl2ubuntuuser/.virtualenvs/nomination_predictor/lib/python3.12/site-packages/sklearn/preprocessing/_encoders.py:246: UserWarning: Found unknown categories in columns [1, 4, 9, 12, 13, 17, 19, 21] during transform. These unknown categories will be encoded as all zeros\n",
      "  warnings.warn(\n"
     ]
    },
    {
     "name": "stdout",
     "output_type": "stream",
     "text": [
      "[CV] END model__colsample_bytree=0.7, model__gamma=0.3, model__learning_rate=0.02, model__max_depth=8, model__min_child_weight=9, model__n_estimators=500, model__reg_alpha=0.25, model__reg_lambda=0.6, model__subsample=0.95; total time=   3.9s\n"
     ]
    },
    {
     "name": "stderr",
     "output_type": "stream",
     "text": [
      "/home/wsl2ubuntuuser/.virtualenvs/nomination_predictor/lib/python3.12/site-packages/sklearn/preprocessing/_encoders.py:246: UserWarning: Found unknown categories in columns [4, 9, 11, 12, 13, 17, 19] during transform. These unknown categories will be encoded as all zeros\n",
      "  warnings.warn(\n"
     ]
    },
    {
     "name": "stdout",
     "output_type": "stream",
     "text": [
      "[CV] END model__colsample_bytree=0.7, model__gamma=0.3, model__learning_rate=0.02, model__max_depth=8, model__min_child_weight=9, model__n_estimators=500, model__reg_alpha=0.25, model__reg_lambda=0.6, model__subsample=0.95; total time=   3.5s\n"
     ]
    },
    {
     "name": "stderr",
     "output_type": "stream",
     "text": [
      "/home/wsl2ubuntuuser/.virtualenvs/nomination_predictor/lib/python3.12/site-packages/sklearn/preprocessing/_encoders.py:246: UserWarning: Found unknown categories in columns [0, 4, 9, 12, 17, 19, 21] during transform. These unknown categories will be encoded as all zeros\n",
      "  warnings.warn(\n"
     ]
    },
    {
     "name": "stdout",
     "output_type": "stream",
     "text": [
      "[CV] END model__colsample_bytree=0.7, model__gamma=0.3, model__learning_rate=0.02, model__max_depth=8, model__min_child_weight=9, model__n_estimators=500, model__reg_alpha=0.25, model__reg_lambda=0.6, model__subsample=0.95; total time=   3.7s\n"
     ]
    },
    {
     "name": "stderr",
     "output_type": "stream",
     "text": [
      "/home/wsl2ubuntuuser/.virtualenvs/nomination_predictor/lib/python3.12/site-packages/sklearn/preprocessing/_encoders.py:246: UserWarning: Found unknown categories in columns [4, 9, 11, 12, 17, 19, 21] during transform. These unknown categories will be encoded as all zeros\n",
      "  warnings.warn(\n"
     ]
    },
    {
     "name": "stdout",
     "output_type": "stream",
     "text": [
      "[CV] END model__colsample_bytree=0.7, model__gamma=0.3, model__learning_rate=0.02, model__max_depth=8, model__min_child_weight=9, model__n_estimators=500, model__reg_alpha=0.25, model__reg_lambda=0.6, model__subsample=0.95; total time=   3.3s\n"
     ]
    },
    {
     "name": "stderr",
     "output_type": "stream",
     "text": [
      "/home/wsl2ubuntuuser/.virtualenvs/nomination_predictor/lib/python3.12/site-packages/sklearn/preprocessing/_encoders.py:246: UserWarning: Found unknown categories in columns [1, 4, 9, 12, 17, 19] during transform. These unknown categories will be encoded as all zeros\n",
      "  warnings.warn(\n"
     ]
    },
    {
     "name": "stdout",
     "output_type": "stream",
     "text": [
      "[CV] END model__colsample_bytree=0.7, model__gamma=0.3, model__learning_rate=0.02, model__max_depth=8, model__min_child_weight=9, model__n_estimators=500, model__reg_alpha=0.25, model__reg_lambda=0.6, model__subsample=0.95; total time=   3.5s\n"
     ]
    },
    {
     "name": "stderr",
     "output_type": "stream",
     "text": [
      "/home/wsl2ubuntuuser/.virtualenvs/nomination_predictor/lib/python3.12/site-packages/sklearn/preprocessing/_encoders.py:246: UserWarning: Found unknown categories in columns [1, 4, 9, 12, 13, 17, 19, 21] during transform. These unknown categories will be encoded as all zeros\n",
      "  warnings.warn(\n"
     ]
    },
    {
     "name": "stdout",
     "output_type": "stream",
     "text": [
      "[CV] END model__colsample_bytree=0.675, model__gamma=0.2, model__learning_rate=0.02, model__max_depth=7, model__min_child_weight=8, model__n_estimators=100, model__reg_alpha=0.25, model__reg_lambda=0.6, model__subsample=0.975; total time=   0.8s\n"
     ]
    },
    {
     "name": "stderr",
     "output_type": "stream",
     "text": [
      "/home/wsl2ubuntuuser/.virtualenvs/nomination_predictor/lib/python3.12/site-packages/sklearn/preprocessing/_encoders.py:246: UserWarning: Found unknown categories in columns [4, 9, 11, 12, 13, 17, 19] during transform. These unknown categories will be encoded as all zeros\n",
      "  warnings.warn(\n"
     ]
    },
    {
     "name": "stdout",
     "output_type": "stream",
     "text": [
      "[CV] END model__colsample_bytree=0.675, model__gamma=0.2, model__learning_rate=0.02, model__max_depth=7, model__min_child_weight=8, model__n_estimators=100, model__reg_alpha=0.25, model__reg_lambda=0.6, model__subsample=0.975; total time=   0.7s\n"
     ]
    },
    {
     "name": "stderr",
     "output_type": "stream",
     "text": [
      "/home/wsl2ubuntuuser/.virtualenvs/nomination_predictor/lib/python3.12/site-packages/sklearn/preprocessing/_encoders.py:246: UserWarning: Found unknown categories in columns [0, 4, 9, 12, 17, 19, 21] during transform. These unknown categories will be encoded as all zeros\n",
      "  warnings.warn(\n"
     ]
    },
    {
     "name": "stdout",
     "output_type": "stream",
     "text": [
      "[CV] END model__colsample_bytree=0.675, model__gamma=0.2, model__learning_rate=0.02, model__max_depth=7, model__min_child_weight=8, model__n_estimators=100, model__reg_alpha=0.25, model__reg_lambda=0.6, model__subsample=0.975; total time=   1.0s\n"
     ]
    },
    {
     "name": "stderr",
     "output_type": "stream",
     "text": [
      "/home/wsl2ubuntuuser/.virtualenvs/nomination_predictor/lib/python3.12/site-packages/sklearn/preprocessing/_encoders.py:246: UserWarning: Found unknown categories in columns [4, 9, 11, 12, 17, 19, 21] during transform. These unknown categories will be encoded as all zeros\n",
      "  warnings.warn(\n"
     ]
    },
    {
     "name": "stdout",
     "output_type": "stream",
     "text": [
      "[CV] END model__colsample_bytree=0.675, model__gamma=0.2, model__learning_rate=0.02, model__max_depth=7, model__min_child_weight=8, model__n_estimators=100, model__reg_alpha=0.25, model__reg_lambda=0.6, model__subsample=0.975; total time=   0.7s\n"
     ]
    },
    {
     "name": "stderr",
     "output_type": "stream",
     "text": [
      "/home/wsl2ubuntuuser/.virtualenvs/nomination_predictor/lib/python3.12/site-packages/sklearn/preprocessing/_encoders.py:246: UserWarning: Found unknown categories in columns [1, 4, 9, 12, 17, 19] during transform. These unknown categories will be encoded as all zeros\n",
      "  warnings.warn(\n"
     ]
    },
    {
     "name": "stdout",
     "output_type": "stream",
     "text": [
      "[CV] END model__colsample_bytree=0.675, model__gamma=0.2, model__learning_rate=0.02, model__max_depth=7, model__min_child_weight=8, model__n_estimators=100, model__reg_alpha=0.25, model__reg_lambda=0.6, model__subsample=0.975; total time=   0.8s\n"
     ]
    },
    {
     "name": "stderr",
     "output_type": "stream",
     "text": [
      "/home/wsl2ubuntuuser/.virtualenvs/nomination_predictor/lib/python3.12/site-packages/sklearn/preprocessing/_encoders.py:246: UserWarning: Found unknown categories in columns [1, 4, 9, 12, 13, 17, 19, 21] during transform. These unknown categories will be encoded as all zeros\n",
      "  warnings.warn(\n"
     ]
    },
    {
     "name": "stdout",
     "output_type": "stream",
     "text": [
      "[CV] END model__colsample_bytree=0.65, model__gamma=0.35, model__learning_rate=0.03, model__max_depth=8, model__min_child_weight=12, model__n_estimators=1500, model__reg_alpha=0.6, model__reg_lambda=0.6, model__subsample=0.95; total time=  10.5s\n"
     ]
    },
    {
     "name": "stderr",
     "output_type": "stream",
     "text": [
      "/home/wsl2ubuntuuser/.virtualenvs/nomination_predictor/lib/python3.12/site-packages/sklearn/preprocessing/_encoders.py:246: UserWarning: Found unknown categories in columns [4, 9, 11, 12, 13, 17, 19] during transform. These unknown categories will be encoded as all zeros\n",
      "  warnings.warn(\n"
     ]
    },
    {
     "name": "stdout",
     "output_type": "stream",
     "text": [
      "[CV] END model__colsample_bytree=0.65, model__gamma=0.35, model__learning_rate=0.03, model__max_depth=8, model__min_child_weight=12, model__n_estimators=1500, model__reg_alpha=0.6, model__reg_lambda=0.6, model__subsample=0.95; total time=   9.2s\n"
     ]
    },
    {
     "name": "stderr",
     "output_type": "stream",
     "text": [
      "/home/wsl2ubuntuuser/.virtualenvs/nomination_predictor/lib/python3.12/site-packages/sklearn/preprocessing/_encoders.py:246: UserWarning: Found unknown categories in columns [0, 4, 9, 12, 17, 19, 21] during transform. These unknown categories will be encoded as all zeros\n",
      "  warnings.warn(\n"
     ]
    },
    {
     "name": "stdout",
     "output_type": "stream",
     "text": [
      "[CV] END model__colsample_bytree=0.65, model__gamma=0.35, model__learning_rate=0.03, model__max_depth=8, model__min_child_weight=12, model__n_estimators=1500, model__reg_alpha=0.6, model__reg_lambda=0.6, model__subsample=0.95; total time=  11.2s\n"
     ]
    },
    {
     "name": "stderr",
     "output_type": "stream",
     "text": [
      "/home/wsl2ubuntuuser/.virtualenvs/nomination_predictor/lib/python3.12/site-packages/sklearn/preprocessing/_encoders.py:246: UserWarning: Found unknown categories in columns [4, 9, 11, 12, 17, 19, 21] during transform. These unknown categories will be encoded as all zeros\n",
      "  warnings.warn(\n"
     ]
    },
    {
     "name": "stdout",
     "output_type": "stream",
     "text": [
      "[CV] END model__colsample_bytree=0.65, model__gamma=0.35, model__learning_rate=0.03, model__max_depth=8, model__min_child_weight=12, model__n_estimators=1500, model__reg_alpha=0.6, model__reg_lambda=0.6, model__subsample=0.95; total time=  11.4s\n"
     ]
    },
    {
     "name": "stderr",
     "output_type": "stream",
     "text": [
      "/home/wsl2ubuntuuser/.virtualenvs/nomination_predictor/lib/python3.12/site-packages/sklearn/preprocessing/_encoders.py:246: UserWarning: Found unknown categories in columns [1, 4, 9, 12, 17, 19] during transform. These unknown categories will be encoded as all zeros\n",
      "  warnings.warn(\n"
     ]
    },
    {
     "name": "stdout",
     "output_type": "stream",
     "text": [
      "[CV] END model__colsample_bytree=0.65, model__gamma=0.35, model__learning_rate=0.03, model__max_depth=8, model__min_child_weight=12, model__n_estimators=1500, model__reg_alpha=0.6, model__reg_lambda=0.6, model__subsample=0.95; total time=  15.2s\n"
     ]
    },
    {
     "name": "stderr",
     "output_type": "stream",
     "text": [
      "/home/wsl2ubuntuuser/.virtualenvs/nomination_predictor/lib/python3.12/site-packages/sklearn/preprocessing/_encoders.py:246: UserWarning: Found unknown categories in columns [1, 4, 9, 12, 13, 17, 19, 21] during transform. These unknown categories will be encoded as all zeros\n",
      "  warnings.warn(\n"
     ]
    },
    {
     "name": "stdout",
     "output_type": "stream",
     "text": [
      "[CV] END model__colsample_bytree=0.725, model__gamma=0.2, model__learning_rate=0.03, model__max_depth=10, model__min_child_weight=9, model__n_estimators=1500, model__reg_alpha=0.6, model__reg_lambda=0.25, model__subsample=0.975; total time=  16.3s\n"
     ]
    },
    {
     "name": "stderr",
     "output_type": "stream",
     "text": [
      "/home/wsl2ubuntuuser/.virtualenvs/nomination_predictor/lib/python3.12/site-packages/sklearn/preprocessing/_encoders.py:246: UserWarning: Found unknown categories in columns [4, 9, 11, 12, 13, 17, 19] during transform. These unknown categories will be encoded as all zeros\n",
      "  warnings.warn(\n"
     ]
    },
    {
     "name": "stdout",
     "output_type": "stream",
     "text": [
      "[CV] END model__colsample_bytree=0.725, model__gamma=0.2, model__learning_rate=0.03, model__max_depth=10, model__min_child_weight=9, model__n_estimators=1500, model__reg_alpha=0.6, model__reg_lambda=0.25, model__subsample=0.975; total time=  13.5s\n"
     ]
    },
    {
     "name": "stderr",
     "output_type": "stream",
     "text": [
      "/home/wsl2ubuntuuser/.virtualenvs/nomination_predictor/lib/python3.12/site-packages/sklearn/preprocessing/_encoders.py:246: UserWarning: Found unknown categories in columns [0, 4, 9, 12, 17, 19, 21] during transform. These unknown categories will be encoded as all zeros\n",
      "  warnings.warn(\n"
     ]
    },
    {
     "name": "stdout",
     "output_type": "stream",
     "text": [
      "[CV] END model__colsample_bytree=0.725, model__gamma=0.2, model__learning_rate=0.03, model__max_depth=10, model__min_child_weight=9, model__n_estimators=1500, model__reg_alpha=0.6, model__reg_lambda=0.25, model__subsample=0.975; total time=  13.8s\n"
     ]
    },
    {
     "name": "stderr",
     "output_type": "stream",
     "text": [
      "/home/wsl2ubuntuuser/.virtualenvs/nomination_predictor/lib/python3.12/site-packages/sklearn/preprocessing/_encoders.py:246: UserWarning: Found unknown categories in columns [4, 9, 11, 12, 17, 19, 21] during transform. These unknown categories will be encoded as all zeros\n",
      "  warnings.warn(\n"
     ]
    },
    {
     "name": "stdout",
     "output_type": "stream",
     "text": [
      "[CV] END model__colsample_bytree=0.725, model__gamma=0.2, model__learning_rate=0.03, model__max_depth=10, model__min_child_weight=9, model__n_estimators=1500, model__reg_alpha=0.6, model__reg_lambda=0.25, model__subsample=0.975; total time=  13.8s\n"
     ]
    },
    {
     "name": "stderr",
     "output_type": "stream",
     "text": [
      "/home/wsl2ubuntuuser/.virtualenvs/nomination_predictor/lib/python3.12/site-packages/sklearn/preprocessing/_encoders.py:246: UserWarning: Found unknown categories in columns [1, 4, 9, 12, 17, 19] during transform. These unknown categories will be encoded as all zeros\n",
      "  warnings.warn(\n"
     ]
    },
    {
     "name": "stdout",
     "output_type": "stream",
     "text": [
      "[CV] END model__colsample_bytree=0.725, model__gamma=0.2, model__learning_rate=0.03, model__max_depth=10, model__min_child_weight=9, model__n_estimators=1500, model__reg_alpha=0.6, model__reg_lambda=0.25, model__subsample=0.975; total time=  13.4s\n"
     ]
    },
    {
     "name": "stderr",
     "output_type": "stream",
     "text": [
      "/home/wsl2ubuntuuser/.virtualenvs/nomination_predictor/lib/python3.12/site-packages/sklearn/preprocessing/_encoders.py:246: UserWarning: Found unknown categories in columns [1, 4, 9, 12, 13, 17, 19, 21] during transform. These unknown categories will be encoded as all zeros\n",
      "  warnings.warn(\n"
     ]
    },
    {
     "name": "stdout",
     "output_type": "stream",
     "text": [
      "[CV] END model__colsample_bytree=0.675, model__gamma=0.35, model__learning_rate=0.01, model__max_depth=8, model__min_child_weight=10, model__n_estimators=500, model__reg_alpha=0.6, model__reg_lambda=0.4, model__subsample=0.95; total time=   3.9s\n"
     ]
    },
    {
     "name": "stderr",
     "output_type": "stream",
     "text": [
      "/home/wsl2ubuntuuser/.virtualenvs/nomination_predictor/lib/python3.12/site-packages/sklearn/preprocessing/_encoders.py:246: UserWarning: Found unknown categories in columns [4, 9, 11, 12, 13, 17, 19] during transform. These unknown categories will be encoded as all zeros\n",
      "  warnings.warn(\n"
     ]
    },
    {
     "name": "stdout",
     "output_type": "stream",
     "text": [
      "[CV] END model__colsample_bytree=0.675, model__gamma=0.35, model__learning_rate=0.01, model__max_depth=8, model__min_child_weight=10, model__n_estimators=500, model__reg_alpha=0.6, model__reg_lambda=0.4, model__subsample=0.95; total time=   4.2s\n"
     ]
    },
    {
     "name": "stderr",
     "output_type": "stream",
     "text": [
      "/home/wsl2ubuntuuser/.virtualenvs/nomination_predictor/lib/python3.12/site-packages/sklearn/preprocessing/_encoders.py:246: UserWarning: Found unknown categories in columns [0, 4, 9, 12, 17, 19, 21] during transform. These unknown categories will be encoded as all zeros\n",
      "  warnings.warn(\n"
     ]
    },
    {
     "name": "stdout",
     "output_type": "stream",
     "text": [
      "[CV] END model__colsample_bytree=0.675, model__gamma=0.35, model__learning_rate=0.01, model__max_depth=8, model__min_child_weight=10, model__n_estimators=500, model__reg_alpha=0.6, model__reg_lambda=0.4, model__subsample=0.95; total time=   4.2s\n"
     ]
    },
    {
     "name": "stderr",
     "output_type": "stream",
     "text": [
      "/home/wsl2ubuntuuser/.virtualenvs/nomination_predictor/lib/python3.12/site-packages/sklearn/preprocessing/_encoders.py:246: UserWarning: Found unknown categories in columns [4, 9, 11, 12, 17, 19, 21] during transform. These unknown categories will be encoded as all zeros\n",
      "  warnings.warn(\n"
     ]
    },
    {
     "name": "stdout",
     "output_type": "stream",
     "text": [
      "[CV] END model__colsample_bytree=0.675, model__gamma=0.35, model__learning_rate=0.01, model__max_depth=8, model__min_child_weight=10, model__n_estimators=500, model__reg_alpha=0.6, model__reg_lambda=0.4, model__subsample=0.95; total time=   4.3s\n"
     ]
    },
    {
     "name": "stderr",
     "output_type": "stream",
     "text": [
      "/home/wsl2ubuntuuser/.virtualenvs/nomination_predictor/lib/python3.12/site-packages/sklearn/preprocessing/_encoders.py:246: UserWarning: Found unknown categories in columns [1, 4, 9, 12, 17, 19] during transform. These unknown categories will be encoded as all zeros\n",
      "  warnings.warn(\n"
     ]
    },
    {
     "name": "stdout",
     "output_type": "stream",
     "text": [
      "[CV] END model__colsample_bytree=0.675, model__gamma=0.35, model__learning_rate=0.01, model__max_depth=8, model__min_child_weight=10, model__n_estimators=500, model__reg_alpha=0.6, model__reg_lambda=0.4, model__subsample=0.95; total time=   4.1s\n"
     ]
    },
    {
     "name": "stderr",
     "output_type": "stream",
     "text": [
      "/home/wsl2ubuntuuser/.virtualenvs/nomination_predictor/lib/python3.12/site-packages/sklearn/preprocessing/_encoders.py:246: UserWarning: Found unknown categories in columns [1, 4, 9, 12, 13, 17, 19, 21] during transform. These unknown categories will be encoded as all zeros\n",
      "  warnings.warn(\n"
     ]
    },
    {
     "name": "stdout",
     "output_type": "stream",
     "text": [
      "[CV] END model__colsample_bytree=0.725, model__gamma=0.2, model__learning_rate=0.02, model__max_depth=9, model__min_child_weight=9, model__n_estimators=1500, model__reg_alpha=0.4, model__reg_lambda=0.6, model__subsample=0.975; total time=  13.3s\n"
     ]
    },
    {
     "name": "stderr",
     "output_type": "stream",
     "text": [
      "/home/wsl2ubuntuuser/.virtualenvs/nomination_predictor/lib/python3.12/site-packages/sklearn/preprocessing/_encoders.py:246: UserWarning: Found unknown categories in columns [4, 9, 11, 12, 13, 17, 19] during transform. These unknown categories will be encoded as all zeros\n",
      "  warnings.warn(\n"
     ]
    },
    {
     "name": "stdout",
     "output_type": "stream",
     "text": [
      "[CV] END model__colsample_bytree=0.725, model__gamma=0.2, model__learning_rate=0.02, model__max_depth=9, model__min_child_weight=9, model__n_estimators=1500, model__reg_alpha=0.4, model__reg_lambda=0.6, model__subsample=0.975; total time=  12.8s\n"
     ]
    },
    {
     "name": "stderr",
     "output_type": "stream",
     "text": [
      "/home/wsl2ubuntuuser/.virtualenvs/nomination_predictor/lib/python3.12/site-packages/sklearn/preprocessing/_encoders.py:246: UserWarning: Found unknown categories in columns [0, 4, 9, 12, 17, 19, 21] during transform. These unknown categories will be encoded as all zeros\n",
      "  warnings.warn(\n"
     ]
    },
    {
     "name": "stdout",
     "output_type": "stream",
     "text": [
      "[CV] END model__colsample_bytree=0.725, model__gamma=0.2, model__learning_rate=0.02, model__max_depth=9, model__min_child_weight=9, model__n_estimators=1500, model__reg_alpha=0.4, model__reg_lambda=0.6, model__subsample=0.975; total time=  12.7s\n"
     ]
    },
    {
     "name": "stderr",
     "output_type": "stream",
     "text": [
      "/home/wsl2ubuntuuser/.virtualenvs/nomination_predictor/lib/python3.12/site-packages/sklearn/preprocessing/_encoders.py:246: UserWarning: Found unknown categories in columns [4, 9, 11, 12, 17, 19, 21] during transform. These unknown categories will be encoded as all zeros\n",
      "  warnings.warn(\n"
     ]
    },
    {
     "name": "stdout",
     "output_type": "stream",
     "text": [
      "[CV] END model__colsample_bytree=0.725, model__gamma=0.2, model__learning_rate=0.02, model__max_depth=9, model__min_child_weight=9, model__n_estimators=1500, model__reg_alpha=0.4, model__reg_lambda=0.6, model__subsample=0.975; total time=  13.4s\n"
     ]
    },
    {
     "name": "stderr",
     "output_type": "stream",
     "text": [
      "/home/wsl2ubuntuuser/.virtualenvs/nomination_predictor/lib/python3.12/site-packages/sklearn/preprocessing/_encoders.py:246: UserWarning: Found unknown categories in columns [1, 4, 9, 12, 17, 19] during transform. These unknown categories will be encoded as all zeros\n",
      "  warnings.warn(\n"
     ]
    },
    {
     "name": "stdout",
     "output_type": "stream",
     "text": [
      "[CV] END model__colsample_bytree=0.725, model__gamma=0.2, model__learning_rate=0.02, model__max_depth=9, model__min_child_weight=9, model__n_estimators=1500, model__reg_alpha=0.4, model__reg_lambda=0.6, model__subsample=0.975; total time=  11.2s\n"
     ]
    },
    {
     "name": "stderr",
     "output_type": "stream",
     "text": [
      "/home/wsl2ubuntuuser/.virtualenvs/nomination_predictor/lib/python3.12/site-packages/sklearn/preprocessing/_encoders.py:246: UserWarning: Found unknown categories in columns [1, 4, 9, 12, 13, 17, 19, 21] during transform. These unknown categories will be encoded as all zeros\n",
      "  warnings.warn(\n"
     ]
    },
    {
     "name": "stdout",
     "output_type": "stream",
     "text": [
      "[CV] END model__colsample_bytree=0.725, model__gamma=0.3, model__learning_rate=0.02, model__max_depth=11, model__min_child_weight=8, model__n_estimators=1000, model__reg_alpha=1.0, model__reg_lambda=1.0, model__subsample=1.0; total time=   9.1s\n"
     ]
    },
    {
     "name": "stderr",
     "output_type": "stream",
     "text": [
      "/home/wsl2ubuntuuser/.virtualenvs/nomination_predictor/lib/python3.12/site-packages/sklearn/preprocessing/_encoders.py:246: UserWarning: Found unknown categories in columns [4, 9, 11, 12, 13, 17, 19] during transform. These unknown categories will be encoded as all zeros\n",
      "  warnings.warn(\n"
     ]
    },
    {
     "name": "stdout",
     "output_type": "stream",
     "text": [
      "[CV] END model__colsample_bytree=0.725, model__gamma=0.3, model__learning_rate=0.02, model__max_depth=11, model__min_child_weight=8, model__n_estimators=1000, model__reg_alpha=1.0, model__reg_lambda=1.0, model__subsample=1.0; total time=   9.1s\n"
     ]
    },
    {
     "name": "stderr",
     "output_type": "stream",
     "text": [
      "/home/wsl2ubuntuuser/.virtualenvs/nomination_predictor/lib/python3.12/site-packages/sklearn/preprocessing/_encoders.py:246: UserWarning: Found unknown categories in columns [0, 4, 9, 12, 17, 19, 21] during transform. These unknown categories will be encoded as all zeros\n",
      "  warnings.warn(\n"
     ]
    },
    {
     "name": "stdout",
     "output_type": "stream",
     "text": [
      "[CV] END model__colsample_bytree=0.725, model__gamma=0.3, model__learning_rate=0.02, model__max_depth=11, model__min_child_weight=8, model__n_estimators=1000, model__reg_alpha=1.0, model__reg_lambda=1.0, model__subsample=1.0; total time=  10.4s\n"
     ]
    },
    {
     "name": "stderr",
     "output_type": "stream",
     "text": [
      "/home/wsl2ubuntuuser/.virtualenvs/nomination_predictor/lib/python3.12/site-packages/sklearn/preprocessing/_encoders.py:246: UserWarning: Found unknown categories in columns [4, 9, 11, 12, 17, 19, 21] during transform. These unknown categories will be encoded as all zeros\n",
      "  warnings.warn(\n"
     ]
    },
    {
     "name": "stdout",
     "output_type": "stream",
     "text": [
      "[CV] END model__colsample_bytree=0.725, model__gamma=0.3, model__learning_rate=0.02, model__max_depth=11, model__min_child_weight=8, model__n_estimators=1000, model__reg_alpha=1.0, model__reg_lambda=1.0, model__subsample=1.0; total time=  10.9s\n"
     ]
    },
    {
     "name": "stderr",
     "output_type": "stream",
     "text": [
      "/home/wsl2ubuntuuser/.virtualenvs/nomination_predictor/lib/python3.12/site-packages/sklearn/preprocessing/_encoders.py:246: UserWarning: Found unknown categories in columns [1, 4, 9, 12, 17, 19] during transform. These unknown categories will be encoded as all zeros\n",
      "  warnings.warn(\n"
     ]
    },
    {
     "name": "stdout",
     "output_type": "stream",
     "text": [
      "[CV] END model__colsample_bytree=0.725, model__gamma=0.3, model__learning_rate=0.02, model__max_depth=11, model__min_child_weight=8, model__n_estimators=1000, model__reg_alpha=1.0, model__reg_lambda=1.0, model__subsample=1.0; total time=  10.7s\n"
     ]
    },
    {
     "name": "stderr",
     "output_type": "stream",
     "text": [
      "/home/wsl2ubuntuuser/.virtualenvs/nomination_predictor/lib/python3.12/site-packages/sklearn/preprocessing/_encoders.py:246: UserWarning: Found unknown categories in columns [1, 4, 9, 12, 13, 17, 19, 21] during transform. These unknown categories will be encoded as all zeros\n",
      "  warnings.warn(\n"
     ]
    },
    {
     "name": "stdout",
     "output_type": "stream",
     "text": [
      "[CV] END model__colsample_bytree=0.7, model__gamma=0.4, model__learning_rate=0.01, model__max_depth=9, model__min_child_weight=11, model__n_estimators=100, model__reg_alpha=0.25, model__reg_lambda=0.6, model__subsample=1.0; total time=   1.2s\n"
     ]
    },
    {
     "name": "stderr",
     "output_type": "stream",
     "text": [
      "/home/wsl2ubuntuuser/.virtualenvs/nomination_predictor/lib/python3.12/site-packages/sklearn/preprocessing/_encoders.py:246: UserWarning: Found unknown categories in columns [4, 9, 11, 12, 13, 17, 19] during transform. These unknown categories will be encoded as all zeros\n",
      "  warnings.warn(\n"
     ]
    },
    {
     "name": "stdout",
     "output_type": "stream",
     "text": [
      "[CV] END model__colsample_bytree=0.7, model__gamma=0.4, model__learning_rate=0.01, model__max_depth=9, model__min_child_weight=11, model__n_estimators=100, model__reg_alpha=0.25, model__reg_lambda=0.6, model__subsample=1.0; total time=   1.1s\n"
     ]
    },
    {
     "name": "stderr",
     "output_type": "stream",
     "text": [
      "/home/wsl2ubuntuuser/.virtualenvs/nomination_predictor/lib/python3.12/site-packages/sklearn/preprocessing/_encoders.py:246: UserWarning: Found unknown categories in columns [0, 4, 9, 12, 17, 19, 21] during transform. These unknown categories will be encoded as all zeros\n",
      "  warnings.warn(\n"
     ]
    },
    {
     "name": "stdout",
     "output_type": "stream",
     "text": [
      "[CV] END model__colsample_bytree=0.7, model__gamma=0.4, model__learning_rate=0.01, model__max_depth=9, model__min_child_weight=11, model__n_estimators=100, model__reg_alpha=0.25, model__reg_lambda=0.6, model__subsample=1.0; total time=   1.5s\n"
     ]
    },
    {
     "name": "stderr",
     "output_type": "stream",
     "text": [
      "/home/wsl2ubuntuuser/.virtualenvs/nomination_predictor/lib/python3.12/site-packages/sklearn/preprocessing/_encoders.py:246: UserWarning: Found unknown categories in columns [4, 9, 11, 12, 17, 19, 21] during transform. These unknown categories will be encoded as all zeros\n",
      "  warnings.warn(\n"
     ]
    },
    {
     "name": "stdout",
     "output_type": "stream",
     "text": [
      "[CV] END model__colsample_bytree=0.7, model__gamma=0.4, model__learning_rate=0.01, model__max_depth=9, model__min_child_weight=11, model__n_estimators=100, model__reg_alpha=0.25, model__reg_lambda=0.6, model__subsample=1.0; total time=   1.7s\n"
     ]
    },
    {
     "name": "stderr",
     "output_type": "stream",
     "text": [
      "/home/wsl2ubuntuuser/.virtualenvs/nomination_predictor/lib/python3.12/site-packages/sklearn/preprocessing/_encoders.py:246: UserWarning: Found unknown categories in columns [1, 4, 9, 12, 17, 19] during transform. These unknown categories will be encoded as all zeros\n",
      "  warnings.warn(\n"
     ]
    },
    {
     "name": "stdout",
     "output_type": "stream",
     "text": [
      "[CV] END model__colsample_bytree=0.7, model__gamma=0.4, model__learning_rate=0.01, model__max_depth=9, model__min_child_weight=11, model__n_estimators=100, model__reg_alpha=0.25, model__reg_lambda=0.6, model__subsample=1.0; total time=   1.4s\n"
     ]
    },
    {
     "name": "stderr",
     "output_type": "stream",
     "text": [
      "/home/wsl2ubuntuuser/.virtualenvs/nomination_predictor/lib/python3.12/site-packages/sklearn/preprocessing/_encoders.py:246: UserWarning: Found unknown categories in columns [1, 4, 9, 12, 13, 17, 19, 21] during transform. These unknown categories will be encoded as all zeros\n",
      "  warnings.warn(\n"
     ]
    },
    {
     "name": "stdout",
     "output_type": "stream",
     "text": [
      "[CV] END model__colsample_bytree=0.75, model__gamma=0.4, model__learning_rate=0.001, model__max_depth=8, model__min_child_weight=10, model__n_estimators=500, model__reg_alpha=0.25, model__reg_lambda=0.5, model__subsample=0.975; total time=   5.7s\n"
     ]
    },
    {
     "name": "stderr",
     "output_type": "stream",
     "text": [
      "/home/wsl2ubuntuuser/.virtualenvs/nomination_predictor/lib/python3.12/site-packages/sklearn/preprocessing/_encoders.py:246: UserWarning: Found unknown categories in columns [4, 9, 11, 12, 13, 17, 19] during transform. These unknown categories will be encoded as all zeros\n",
      "  warnings.warn(\n"
     ]
    },
    {
     "name": "stdout",
     "output_type": "stream",
     "text": [
      "[CV] END model__colsample_bytree=0.75, model__gamma=0.4, model__learning_rate=0.001, model__max_depth=8, model__min_child_weight=10, model__n_estimators=500, model__reg_alpha=0.25, model__reg_lambda=0.5, model__subsample=0.975; total time=   4.5s\n"
     ]
    },
    {
     "name": "stderr",
     "output_type": "stream",
     "text": [
      "/home/wsl2ubuntuuser/.virtualenvs/nomination_predictor/lib/python3.12/site-packages/sklearn/preprocessing/_encoders.py:246: UserWarning: Found unknown categories in columns [0, 4, 9, 12, 17, 19, 21] during transform. These unknown categories will be encoded as all zeros\n",
      "  warnings.warn(\n"
     ]
    },
    {
     "name": "stdout",
     "output_type": "stream",
     "text": [
      "[CV] END model__colsample_bytree=0.75, model__gamma=0.4, model__learning_rate=0.001, model__max_depth=8, model__min_child_weight=10, model__n_estimators=500, model__reg_alpha=0.25, model__reg_lambda=0.5, model__subsample=0.975; total time=   4.5s\n"
     ]
    },
    {
     "name": "stderr",
     "output_type": "stream",
     "text": [
      "/home/wsl2ubuntuuser/.virtualenvs/nomination_predictor/lib/python3.12/site-packages/sklearn/preprocessing/_encoders.py:246: UserWarning: Found unknown categories in columns [4, 9, 11, 12, 17, 19, 21] during transform. These unknown categories will be encoded as all zeros\n",
      "  warnings.warn(\n"
     ]
    },
    {
     "name": "stdout",
     "output_type": "stream",
     "text": [
      "[CV] END model__colsample_bytree=0.75, model__gamma=0.4, model__learning_rate=0.001, model__max_depth=8, model__min_child_weight=10, model__n_estimators=500, model__reg_alpha=0.25, model__reg_lambda=0.5, model__subsample=0.975; total time=   4.5s\n"
     ]
    },
    {
     "name": "stderr",
     "output_type": "stream",
     "text": [
      "/home/wsl2ubuntuuser/.virtualenvs/nomination_predictor/lib/python3.12/site-packages/sklearn/preprocessing/_encoders.py:246: UserWarning: Found unknown categories in columns [1, 4, 9, 12, 17, 19] during transform. These unknown categories will be encoded as all zeros\n",
      "  warnings.warn(\n"
     ]
    },
    {
     "name": "stdout",
     "output_type": "stream",
     "text": [
      "[CV] END model__colsample_bytree=0.75, model__gamma=0.4, model__learning_rate=0.001, model__max_depth=8, model__min_child_weight=10, model__n_estimators=500, model__reg_alpha=0.25, model__reg_lambda=0.5, model__subsample=0.975; total time=   4.2s\n"
     ]
    },
    {
     "name": "stderr",
     "output_type": "stream",
     "text": [
      "/home/wsl2ubuntuuser/.virtualenvs/nomination_predictor/lib/python3.12/site-packages/sklearn/preprocessing/_encoders.py:246: UserWarning: Found unknown categories in columns [1, 4, 9, 12, 13, 17, 19, 21] during transform. These unknown categories will be encoded as all zeros\n",
      "  warnings.warn(\n"
     ]
    },
    {
     "name": "stdout",
     "output_type": "stream",
     "text": [
      "[CV] END model__colsample_bytree=0.75, model__gamma=0.25, model__learning_rate=0.03, model__max_depth=9, model__min_child_weight=12, model__n_estimators=100, model__reg_alpha=1.0, model__reg_lambda=0.4, model__subsample=1.0; total time=   1.1s\n"
     ]
    },
    {
     "name": "stderr",
     "output_type": "stream",
     "text": [
      "/home/wsl2ubuntuuser/.virtualenvs/nomination_predictor/lib/python3.12/site-packages/sklearn/preprocessing/_encoders.py:246: UserWarning: Found unknown categories in columns [4, 9, 11, 12, 13, 17, 19] during transform. These unknown categories will be encoded as all zeros\n",
      "  warnings.warn(\n"
     ]
    },
    {
     "name": "stdout",
     "output_type": "stream",
     "text": [
      "[CV] END model__colsample_bytree=0.75, model__gamma=0.25, model__learning_rate=0.03, model__max_depth=9, model__min_child_weight=12, model__n_estimators=100, model__reg_alpha=1.0, model__reg_lambda=0.4, model__subsample=1.0; total time=   0.9s\n"
     ]
    },
    {
     "name": "stderr",
     "output_type": "stream",
     "text": [
      "/home/wsl2ubuntuuser/.virtualenvs/nomination_predictor/lib/python3.12/site-packages/sklearn/preprocessing/_encoders.py:246: UserWarning: Found unknown categories in columns [0, 4, 9, 12, 17, 19, 21] during transform. These unknown categories will be encoded as all zeros\n",
      "  warnings.warn(\n"
     ]
    },
    {
     "name": "stdout",
     "output_type": "stream",
     "text": [
      "[CV] END model__colsample_bytree=0.75, model__gamma=0.25, model__learning_rate=0.03, model__max_depth=9, model__min_child_weight=12, model__n_estimators=100, model__reg_alpha=1.0, model__reg_lambda=0.4, model__subsample=1.0; total time=   1.0s\n"
     ]
    },
    {
     "name": "stderr",
     "output_type": "stream",
     "text": [
      "/home/wsl2ubuntuuser/.virtualenvs/nomination_predictor/lib/python3.12/site-packages/sklearn/preprocessing/_encoders.py:246: UserWarning: Found unknown categories in columns [4, 9, 11, 12, 17, 19, 21] during transform. These unknown categories will be encoded as all zeros\n",
      "  warnings.warn(\n"
     ]
    },
    {
     "name": "stdout",
     "output_type": "stream",
     "text": [
      "[CV] END model__colsample_bytree=0.75, model__gamma=0.25, model__learning_rate=0.03, model__max_depth=9, model__min_child_weight=12, model__n_estimators=100, model__reg_alpha=1.0, model__reg_lambda=0.4, model__subsample=1.0; total time=   1.0s\n"
     ]
    },
    {
     "name": "stderr",
     "output_type": "stream",
     "text": [
      "/home/wsl2ubuntuuser/.virtualenvs/nomination_predictor/lib/python3.12/site-packages/sklearn/preprocessing/_encoders.py:246: UserWarning: Found unknown categories in columns [1, 4, 9, 12, 17, 19] during transform. These unknown categories will be encoded as all zeros\n",
      "  warnings.warn(\n"
     ]
    },
    {
     "name": "stdout",
     "output_type": "stream",
     "text": [
      "[CV] END model__colsample_bytree=0.75, model__gamma=0.25, model__learning_rate=0.03, model__max_depth=9, model__min_child_weight=12, model__n_estimators=100, model__reg_alpha=1.0, model__reg_lambda=0.4, model__subsample=1.0; total time=   0.9s\n"
     ]
    },
    {
     "name": "stderr",
     "output_type": "stream",
     "text": [
      "/home/wsl2ubuntuuser/.virtualenvs/nomination_predictor/lib/python3.12/site-packages/sklearn/preprocessing/_encoders.py:246: UserWarning: Found unknown categories in columns [1, 4, 9, 12, 13, 17, 19, 21] during transform. These unknown categories will be encoded as all zeros\n",
      "  warnings.warn(\n"
     ]
    },
    {
     "name": "stdout",
     "output_type": "stream",
     "text": [
      "[CV] END model__colsample_bytree=0.65, model__gamma=0.3, model__learning_rate=0.02, model__max_depth=10, model__min_child_weight=11, model__n_estimators=1000, model__reg_alpha=0.25, model__reg_lambda=0.5, model__subsample=0.95; total time=   8.6s\n"
     ]
    },
    {
     "name": "stderr",
     "output_type": "stream",
     "text": [
      "/home/wsl2ubuntuuser/.virtualenvs/nomination_predictor/lib/python3.12/site-packages/sklearn/preprocessing/_encoders.py:246: UserWarning: Found unknown categories in columns [4, 9, 11, 12, 13, 17, 19] during transform. These unknown categories will be encoded as all zeros\n",
      "  warnings.warn(\n"
     ]
    },
    {
     "name": "stdout",
     "output_type": "stream",
     "text": [
      "[CV] END model__colsample_bytree=0.65, model__gamma=0.3, model__learning_rate=0.02, model__max_depth=10, model__min_child_weight=11, model__n_estimators=1000, model__reg_alpha=0.25, model__reg_lambda=0.5, model__subsample=0.95; total time=   8.5s\n"
     ]
    },
    {
     "name": "stderr",
     "output_type": "stream",
     "text": [
      "/home/wsl2ubuntuuser/.virtualenvs/nomination_predictor/lib/python3.12/site-packages/sklearn/preprocessing/_encoders.py:246: UserWarning: Found unknown categories in columns [0, 4, 9, 12, 17, 19, 21] during transform. These unknown categories will be encoded as all zeros\n",
      "  warnings.warn(\n"
     ]
    },
    {
     "name": "stdout",
     "output_type": "stream",
     "text": [
      "[CV] END model__colsample_bytree=0.65, model__gamma=0.3, model__learning_rate=0.02, model__max_depth=10, model__min_child_weight=11, model__n_estimators=1000, model__reg_alpha=0.25, model__reg_lambda=0.5, model__subsample=0.95; total time=   8.5s\n"
     ]
    },
    {
     "name": "stderr",
     "output_type": "stream",
     "text": [
      "/home/wsl2ubuntuuser/.virtualenvs/nomination_predictor/lib/python3.12/site-packages/sklearn/preprocessing/_encoders.py:246: UserWarning: Found unknown categories in columns [4, 9, 11, 12, 17, 19, 21] during transform. These unknown categories will be encoded as all zeros\n",
      "  warnings.warn(\n"
     ]
    },
    {
     "name": "stdout",
     "output_type": "stream",
     "text": [
      "[CV] END model__colsample_bytree=0.65, model__gamma=0.3, model__learning_rate=0.02, model__max_depth=10, model__min_child_weight=11, model__n_estimators=1000, model__reg_alpha=0.25, model__reg_lambda=0.5, model__subsample=0.95; total time=   8.4s\n"
     ]
    },
    {
     "name": "stderr",
     "output_type": "stream",
     "text": [
      "/home/wsl2ubuntuuser/.virtualenvs/nomination_predictor/lib/python3.12/site-packages/sklearn/preprocessing/_encoders.py:246: UserWarning: Found unknown categories in columns [1, 4, 9, 12, 17, 19] during transform. These unknown categories will be encoded as all zeros\n",
      "  warnings.warn(\n"
     ]
    },
    {
     "name": "stdout",
     "output_type": "stream",
     "text": [
      "[CV] END model__colsample_bytree=0.65, model__gamma=0.3, model__learning_rate=0.02, model__max_depth=10, model__min_child_weight=11, model__n_estimators=1000, model__reg_alpha=0.25, model__reg_lambda=0.5, model__subsample=0.95; total time=   8.7s\n"
     ]
    },
    {
     "name": "stderr",
     "output_type": "stream",
     "text": [
      "/home/wsl2ubuntuuser/.virtualenvs/nomination_predictor/lib/python3.12/site-packages/sklearn/preprocessing/_encoders.py:246: UserWarning: Found unknown categories in columns [1, 4, 9, 12, 13, 17, 19, 21] during transform. These unknown categories will be encoded as all zeros\n",
      "  warnings.warn(\n"
     ]
    },
    {
     "name": "stdout",
     "output_type": "stream",
     "text": [
      "[CV] END model__colsample_bytree=0.675, model__gamma=0.35, model__learning_rate=0.001, model__max_depth=7, model__min_child_weight=11, model__n_estimators=500, model__reg_alpha=0.25, model__reg_lambda=0.5, model__subsample=1.0; total time=   4.0s\n"
     ]
    },
    {
     "name": "stderr",
     "output_type": "stream",
     "text": [
      "/home/wsl2ubuntuuser/.virtualenvs/nomination_predictor/lib/python3.12/site-packages/sklearn/preprocessing/_encoders.py:246: UserWarning: Found unknown categories in columns [4, 9, 11, 12, 13, 17, 19] during transform. These unknown categories will be encoded as all zeros\n",
      "  warnings.warn(\n"
     ]
    },
    {
     "name": "stdout",
     "output_type": "stream",
     "text": [
      "[CV] END model__colsample_bytree=0.675, model__gamma=0.35, model__learning_rate=0.001, model__max_depth=7, model__min_child_weight=11, model__n_estimators=500, model__reg_alpha=0.25, model__reg_lambda=0.5, model__subsample=1.0; total time=   3.6s\n"
     ]
    },
    {
     "name": "stderr",
     "output_type": "stream",
     "text": [
      "/home/wsl2ubuntuuser/.virtualenvs/nomination_predictor/lib/python3.12/site-packages/sklearn/preprocessing/_encoders.py:246: UserWarning: Found unknown categories in columns [0, 4, 9, 12, 17, 19, 21] during transform. These unknown categories will be encoded as all zeros\n",
      "  warnings.warn(\n"
     ]
    },
    {
     "name": "stdout",
     "output_type": "stream",
     "text": [
      "[CV] END model__colsample_bytree=0.675, model__gamma=0.35, model__learning_rate=0.001, model__max_depth=7, model__min_child_weight=11, model__n_estimators=500, model__reg_alpha=0.25, model__reg_lambda=0.5, model__subsample=1.0; total time=   3.7s\n"
     ]
    },
    {
     "name": "stderr",
     "output_type": "stream",
     "text": [
      "/home/wsl2ubuntuuser/.virtualenvs/nomination_predictor/lib/python3.12/site-packages/sklearn/preprocessing/_encoders.py:246: UserWarning: Found unknown categories in columns [4, 9, 11, 12, 17, 19, 21] during transform. These unknown categories will be encoded as all zeros\n",
      "  warnings.warn(\n"
     ]
    },
    {
     "name": "stdout",
     "output_type": "stream",
     "text": [
      "[CV] END model__colsample_bytree=0.675, model__gamma=0.35, model__learning_rate=0.001, model__max_depth=7, model__min_child_weight=11, model__n_estimators=500, model__reg_alpha=0.25, model__reg_lambda=0.5, model__subsample=1.0; total time=   3.6s\n"
     ]
    },
    {
     "name": "stderr",
     "output_type": "stream",
     "text": [
      "/home/wsl2ubuntuuser/.virtualenvs/nomination_predictor/lib/python3.12/site-packages/sklearn/preprocessing/_encoders.py:246: UserWarning: Found unknown categories in columns [1, 4, 9, 12, 17, 19] during transform. These unknown categories will be encoded as all zeros\n",
      "  warnings.warn(\n"
     ]
    },
    {
     "name": "stdout",
     "output_type": "stream",
     "text": [
      "[CV] END model__colsample_bytree=0.675, model__gamma=0.35, model__learning_rate=0.001, model__max_depth=7, model__min_child_weight=11, model__n_estimators=500, model__reg_alpha=0.25, model__reg_lambda=0.5, model__subsample=1.0; total time=   3.6s\n"
     ]
    },
    {
     "name": "stderr",
     "output_type": "stream",
     "text": [
      "/home/wsl2ubuntuuser/.virtualenvs/nomination_predictor/lib/python3.12/site-packages/sklearn/preprocessing/_encoders.py:246: UserWarning: Found unknown categories in columns [1, 4, 9, 12, 13, 17, 19, 21] during transform. These unknown categories will be encoded as all zeros\n",
      "  warnings.warn(\n"
     ]
    },
    {
     "name": "stdout",
     "output_type": "stream",
     "text": [
      "[CV] END model__colsample_bytree=0.7, model__gamma=0.4, model__learning_rate=0.03, model__max_depth=10, model__min_child_weight=10, model__n_estimators=1000, model__reg_alpha=0.5, model__reg_lambda=0.25, model__subsample=0.95; total time=   9.0s\n"
     ]
    },
    {
     "name": "stderr",
     "output_type": "stream",
     "text": [
      "/home/wsl2ubuntuuser/.virtualenvs/nomination_predictor/lib/python3.12/site-packages/sklearn/preprocessing/_encoders.py:246: UserWarning: Found unknown categories in columns [4, 9, 11, 12, 13, 17, 19] during transform. These unknown categories will be encoded as all zeros\n",
      "  warnings.warn(\n"
     ]
    },
    {
     "name": "stdout",
     "output_type": "stream",
     "text": [
      "[CV] END model__colsample_bytree=0.7, model__gamma=0.4, model__learning_rate=0.03, model__max_depth=10, model__min_child_weight=10, model__n_estimators=1000, model__reg_alpha=0.5, model__reg_lambda=0.25, model__subsample=0.95; total time=   8.6s\n"
     ]
    },
    {
     "name": "stderr",
     "output_type": "stream",
     "text": [
      "/home/wsl2ubuntuuser/.virtualenvs/nomination_predictor/lib/python3.12/site-packages/sklearn/preprocessing/_encoders.py:246: UserWarning: Found unknown categories in columns [0, 4, 9, 12, 17, 19, 21] during transform. These unknown categories will be encoded as all zeros\n",
      "  warnings.warn(\n"
     ]
    },
    {
     "name": "stdout",
     "output_type": "stream",
     "text": [
      "[CV] END model__colsample_bytree=0.7, model__gamma=0.4, model__learning_rate=0.03, model__max_depth=10, model__min_child_weight=10, model__n_estimators=1000, model__reg_alpha=0.5, model__reg_lambda=0.25, model__subsample=0.95; total time=  46.6s\n"
     ]
    },
    {
     "name": "stderr",
     "output_type": "stream",
     "text": [
      "/home/wsl2ubuntuuser/.virtualenvs/nomination_predictor/lib/python3.12/site-packages/sklearn/preprocessing/_encoders.py:246: UserWarning: Found unknown categories in columns [4, 9, 11, 12, 17, 19, 21] during transform. These unknown categories will be encoded as all zeros\n",
      "  warnings.warn(\n"
     ]
    },
    {
     "name": "stdout",
     "output_type": "stream",
     "text": [
      "[CV] END model__colsample_bytree=0.7, model__gamma=0.4, model__learning_rate=0.03, model__max_depth=10, model__min_child_weight=10, model__n_estimators=1000, model__reg_alpha=0.5, model__reg_lambda=0.25, model__subsample=0.95; total time= -27.0s\n"
     ]
    },
    {
     "name": "stderr",
     "output_type": "stream",
     "text": [
      "/home/wsl2ubuntuuser/.virtualenvs/nomination_predictor/lib/python3.12/site-packages/sklearn/preprocessing/_encoders.py:246: UserWarning: Found unknown categories in columns [1, 4, 9, 12, 17, 19] during transform. These unknown categories will be encoded as all zeros\n",
      "  warnings.warn(\n"
     ]
    },
    {
     "name": "stdout",
     "output_type": "stream",
     "text": [
      "[CV] END model__colsample_bytree=0.7, model__gamma=0.4, model__learning_rate=0.03, model__max_depth=10, model__min_child_weight=10, model__n_estimators=1000, model__reg_alpha=0.5, model__reg_lambda=0.25, model__subsample=0.95; total time=   9.2s\n"
     ]
    },
    {
     "name": "stderr",
     "output_type": "stream",
     "text": [
      "/home/wsl2ubuntuuser/.virtualenvs/nomination_predictor/lib/python3.12/site-packages/sklearn/preprocessing/_encoders.py:246: UserWarning: Found unknown categories in columns [1, 4, 9, 12, 13, 17, 19, 21] during transform. These unknown categories will be encoded as all zeros\n",
      "  warnings.warn(\n"
     ]
    },
    {
     "name": "stdout",
     "output_type": "stream",
     "text": [
      "[CV] END model__colsample_bytree=0.675, model__gamma=0.4, model__learning_rate=0.02, model__max_depth=10, model__min_child_weight=8, model__n_estimators=500, model__reg_alpha=0.6, model__reg_lambda=0.25, model__subsample=0.975; total time=   4.9s\n"
     ]
    },
    {
     "name": "stderr",
     "output_type": "stream",
     "text": [
      "/home/wsl2ubuntuuser/.virtualenvs/nomination_predictor/lib/python3.12/site-packages/sklearn/preprocessing/_encoders.py:246: UserWarning: Found unknown categories in columns [4, 9, 11, 12, 13, 17, 19] during transform. These unknown categories will be encoded as all zeros\n",
      "  warnings.warn(\n"
     ]
    },
    {
     "name": "stdout",
     "output_type": "stream",
     "text": [
      "[CV] END model__colsample_bytree=0.675, model__gamma=0.4, model__learning_rate=0.02, model__max_depth=10, model__min_child_weight=8, model__n_estimators=500, model__reg_alpha=0.6, model__reg_lambda=0.25, model__subsample=0.975; total time=   4.9s\n"
     ]
    },
    {
     "name": "stderr",
     "output_type": "stream",
     "text": [
      "/home/wsl2ubuntuuser/.virtualenvs/nomination_predictor/lib/python3.12/site-packages/sklearn/preprocessing/_encoders.py:246: UserWarning: Found unknown categories in columns [0, 4, 9, 12, 17, 19, 21] during transform. These unknown categories will be encoded as all zeros\n",
      "  warnings.warn(\n"
     ]
    },
    {
     "name": "stdout",
     "output_type": "stream",
     "text": [
      "[CV] END model__colsample_bytree=0.675, model__gamma=0.4, model__learning_rate=0.02, model__max_depth=10, model__min_child_weight=8, model__n_estimators=500, model__reg_alpha=0.6, model__reg_lambda=0.25, model__subsample=0.975; total time=   5.0s\n"
     ]
    },
    {
     "name": "stderr",
     "output_type": "stream",
     "text": [
      "/home/wsl2ubuntuuser/.virtualenvs/nomination_predictor/lib/python3.12/site-packages/sklearn/preprocessing/_encoders.py:246: UserWarning: Found unknown categories in columns [4, 9, 11, 12, 17, 19, 21] during transform. These unknown categories will be encoded as all zeros\n",
      "  warnings.warn(\n"
     ]
    },
    {
     "name": "stdout",
     "output_type": "stream",
     "text": [
      "[CV] END model__colsample_bytree=0.675, model__gamma=0.4, model__learning_rate=0.02, model__max_depth=10, model__min_child_weight=8, model__n_estimators=500, model__reg_alpha=0.6, model__reg_lambda=0.25, model__subsample=0.975; total time=   5.5s\n"
     ]
    },
    {
     "name": "stderr",
     "output_type": "stream",
     "text": [
      "/home/wsl2ubuntuuser/.virtualenvs/nomination_predictor/lib/python3.12/site-packages/sklearn/preprocessing/_encoders.py:246: UserWarning: Found unknown categories in columns [1, 4, 9, 12, 17, 19] during transform. These unknown categories will be encoded as all zeros\n",
      "  warnings.warn(\n"
     ]
    },
    {
     "name": "stdout",
     "output_type": "stream",
     "text": [
      "[CV] END model__colsample_bytree=0.675, model__gamma=0.4, model__learning_rate=0.02, model__max_depth=10, model__min_child_weight=8, model__n_estimators=500, model__reg_alpha=0.6, model__reg_lambda=0.25, model__subsample=0.975; total time=   4.6s\n"
     ]
    },
    {
     "name": "stderr",
     "output_type": "stream",
     "text": [
      "/home/wsl2ubuntuuser/.virtualenvs/nomination_predictor/lib/python3.12/site-packages/sklearn/preprocessing/_encoders.py:246: UserWarning: Found unknown categories in columns [1, 4, 9, 12, 13, 17, 19, 21] during transform. These unknown categories will be encoded as all zeros\n",
      "  warnings.warn(\n"
     ]
    },
    {
     "name": "stdout",
     "output_type": "stream",
     "text": [
      "[CV] END model__colsample_bytree=0.725, model__gamma=0.2, model__learning_rate=0.02, model__max_depth=7, model__min_child_weight=9, model__n_estimators=500, model__reg_alpha=0.6, model__reg_lambda=0.25, model__subsample=1.0; total time=   3.5s\n"
     ]
    },
    {
     "name": "stderr",
     "output_type": "stream",
     "text": [
      "/home/wsl2ubuntuuser/.virtualenvs/nomination_predictor/lib/python3.12/site-packages/sklearn/preprocessing/_encoders.py:246: UserWarning: Found unknown categories in columns [4, 9, 11, 12, 13, 17, 19] during transform. These unknown categories will be encoded as all zeros\n",
      "  warnings.warn(\n"
     ]
    },
    {
     "name": "stdout",
     "output_type": "stream",
     "text": [
      "[CV] END model__colsample_bytree=0.725, model__gamma=0.2, model__learning_rate=0.02, model__max_depth=7, model__min_child_weight=9, model__n_estimators=500, model__reg_alpha=0.6, model__reg_lambda=0.25, model__subsample=1.0; total time=   3.5s\n"
     ]
    },
    {
     "name": "stderr",
     "output_type": "stream",
     "text": [
      "/home/wsl2ubuntuuser/.virtualenvs/nomination_predictor/lib/python3.12/site-packages/sklearn/preprocessing/_encoders.py:246: UserWarning: Found unknown categories in columns [0, 4, 9, 12, 17, 19, 21] during transform. These unknown categories will be encoded as all zeros\n",
      "  warnings.warn(\n"
     ]
    },
    {
     "name": "stdout",
     "output_type": "stream",
     "text": [
      "[CV] END model__colsample_bytree=0.725, model__gamma=0.2, model__learning_rate=0.02, model__max_depth=7, model__min_child_weight=9, model__n_estimators=500, model__reg_alpha=0.6, model__reg_lambda=0.25, model__subsample=1.0; total time=   3.7s\n"
     ]
    },
    {
     "name": "stderr",
     "output_type": "stream",
     "text": [
      "/home/wsl2ubuntuuser/.virtualenvs/nomination_predictor/lib/python3.12/site-packages/sklearn/preprocessing/_encoders.py:246: UserWarning: Found unknown categories in columns [4, 9, 11, 12, 17, 19, 21] during transform. These unknown categories will be encoded as all zeros\n",
      "  warnings.warn(\n"
     ]
    },
    {
     "name": "stdout",
     "output_type": "stream",
     "text": [
      "[CV] END model__colsample_bytree=0.725, model__gamma=0.2, model__learning_rate=0.02, model__max_depth=7, model__min_child_weight=9, model__n_estimators=500, model__reg_alpha=0.6, model__reg_lambda=0.25, model__subsample=1.0; total time=   4.1s\n"
     ]
    },
    {
     "name": "stderr",
     "output_type": "stream",
     "text": [
      "/home/wsl2ubuntuuser/.virtualenvs/nomination_predictor/lib/python3.12/site-packages/sklearn/preprocessing/_encoders.py:246: UserWarning: Found unknown categories in columns [1, 4, 9, 12, 17, 19] during transform. These unknown categories will be encoded as all zeros\n",
      "  warnings.warn(\n"
     ]
    },
    {
     "name": "stdout",
     "output_type": "stream",
     "text": [
      "[CV] END model__colsample_bytree=0.725, model__gamma=0.2, model__learning_rate=0.02, model__max_depth=7, model__min_child_weight=9, model__n_estimators=500, model__reg_alpha=0.6, model__reg_lambda=0.25, model__subsample=1.0; total time=   3.3s\n"
     ]
    },
    {
     "name": "stderr",
     "output_type": "stream",
     "text": [
      "/home/wsl2ubuntuuser/.virtualenvs/nomination_predictor/lib/python3.12/site-packages/sklearn/preprocessing/_encoders.py:246: UserWarning: Found unknown categories in columns [1, 4, 9, 12, 13, 17, 19, 21] during transform. These unknown categories will be encoded as all zeros\n",
      "  warnings.warn(\n"
     ]
    },
    {
     "name": "stdout",
     "output_type": "stream",
     "text": [
      "[CV] END model__colsample_bytree=0.725, model__gamma=0.3, model__learning_rate=0.01, model__max_depth=8, model__min_child_weight=8, model__n_estimators=1500, model__reg_alpha=0.4, model__reg_lambda=0.6, model__subsample=1.0; total time=  12.3s\n"
     ]
    },
    {
     "name": "stderr",
     "output_type": "stream",
     "text": [
      "/home/wsl2ubuntuuser/.virtualenvs/nomination_predictor/lib/python3.12/site-packages/sklearn/preprocessing/_encoders.py:246: UserWarning: Found unknown categories in columns [4, 9, 11, 12, 13, 17, 19] during transform. These unknown categories will be encoded as all zeros\n",
      "  warnings.warn(\n"
     ]
    },
    {
     "name": "stdout",
     "output_type": "stream",
     "text": [
      "[CV] END model__colsample_bytree=0.725, model__gamma=0.3, model__learning_rate=0.01, model__max_depth=8, model__min_child_weight=8, model__n_estimators=1500, model__reg_alpha=0.4, model__reg_lambda=0.6, model__subsample=1.0; total time=  12.6s\n"
     ]
    },
    {
     "name": "stderr",
     "output_type": "stream",
     "text": [
      "/home/wsl2ubuntuuser/.virtualenvs/nomination_predictor/lib/python3.12/site-packages/sklearn/preprocessing/_encoders.py:246: UserWarning: Found unknown categories in columns [0, 4, 9, 12, 17, 19, 21] during transform. These unknown categories will be encoded as all zeros\n",
      "  warnings.warn(\n"
     ]
    },
    {
     "name": "stdout",
     "output_type": "stream",
     "text": [
      "[CV] END model__colsample_bytree=0.725, model__gamma=0.3, model__learning_rate=0.01, model__max_depth=8, model__min_child_weight=8, model__n_estimators=1500, model__reg_alpha=0.4, model__reg_lambda=0.6, model__subsample=1.0; total time=  12.3s\n"
     ]
    },
    {
     "name": "stderr",
     "output_type": "stream",
     "text": [
      "/home/wsl2ubuntuuser/.virtualenvs/nomination_predictor/lib/python3.12/site-packages/sklearn/preprocessing/_encoders.py:246: UserWarning: Found unknown categories in columns [4, 9, 11, 12, 17, 19, 21] during transform. These unknown categories will be encoded as all zeros\n",
      "  warnings.warn(\n"
     ]
    },
    {
     "name": "stdout",
     "output_type": "stream",
     "text": [
      "[CV] END model__colsample_bytree=0.725, model__gamma=0.3, model__learning_rate=0.01, model__max_depth=8, model__min_child_weight=8, model__n_estimators=1500, model__reg_alpha=0.4, model__reg_lambda=0.6, model__subsample=1.0; total time=  12.7s\n"
     ]
    },
    {
     "name": "stderr",
     "output_type": "stream",
     "text": [
      "/home/wsl2ubuntuuser/.virtualenvs/nomination_predictor/lib/python3.12/site-packages/sklearn/preprocessing/_encoders.py:246: UserWarning: Found unknown categories in columns [1, 4, 9, 12, 17, 19] during transform. These unknown categories will be encoded as all zeros\n",
      "  warnings.warn(\n"
     ]
    },
    {
     "name": "stdout",
     "output_type": "stream",
     "text": [
      "[CV] END model__colsample_bytree=0.725, model__gamma=0.3, model__learning_rate=0.01, model__max_depth=8, model__min_child_weight=8, model__n_estimators=1500, model__reg_alpha=0.4, model__reg_lambda=0.6, model__subsample=1.0; total time=  12.4s\n"
     ]
    },
    {
     "name": "stderr",
     "output_type": "stream",
     "text": [
      "/home/wsl2ubuntuuser/.virtualenvs/nomination_predictor/lib/python3.12/site-packages/sklearn/preprocessing/_encoders.py:246: UserWarning: Found unknown categories in columns [1, 4, 9, 12, 13, 17, 19, 21] during transform. These unknown categories will be encoded as all zeros\n",
      "  warnings.warn(\n"
     ]
    },
    {
     "name": "stdout",
     "output_type": "stream",
     "text": [
      "[CV] END model__colsample_bytree=0.75, model__gamma=0.35, model__learning_rate=0.02, model__max_depth=7, model__min_child_weight=10, model__n_estimators=100, model__reg_alpha=0.4, model__reg_lambda=0.5, model__subsample=0.95; total time=   1.3s\n"
     ]
    },
    {
     "name": "stderr",
     "output_type": "stream",
     "text": [
      "/home/wsl2ubuntuuser/.virtualenvs/nomination_predictor/lib/python3.12/site-packages/sklearn/preprocessing/_encoders.py:246: UserWarning: Found unknown categories in columns [4, 9, 11, 12, 13, 17, 19] during transform. These unknown categories will be encoded as all zeros\n",
      "  warnings.warn(\n"
     ]
    },
    {
     "name": "stdout",
     "output_type": "stream",
     "text": [
      "[CV] END model__colsample_bytree=0.75, model__gamma=0.35, model__learning_rate=0.02, model__max_depth=7, model__min_child_weight=10, model__n_estimators=100, model__reg_alpha=0.4, model__reg_lambda=0.5, model__subsample=0.95; total time=   0.5s\n"
     ]
    },
    {
     "name": "stderr",
     "output_type": "stream",
     "text": [
      "/home/wsl2ubuntuuser/.virtualenvs/nomination_predictor/lib/python3.12/site-packages/sklearn/preprocessing/_encoders.py:246: UserWarning: Found unknown categories in columns [0, 4, 9, 12, 17, 19, 21] during transform. These unknown categories will be encoded as all zeros\n",
      "  warnings.warn(\n"
     ]
    },
    {
     "name": "stdout",
     "output_type": "stream",
     "text": [
      "[CV] END model__colsample_bytree=0.75, model__gamma=0.35, model__learning_rate=0.02, model__max_depth=7, model__min_child_weight=10, model__n_estimators=100, model__reg_alpha=0.4, model__reg_lambda=0.5, model__subsample=0.95; total time=   0.9s\n"
     ]
    },
    {
     "name": "stderr",
     "output_type": "stream",
     "text": [
      "/home/wsl2ubuntuuser/.virtualenvs/nomination_predictor/lib/python3.12/site-packages/sklearn/preprocessing/_encoders.py:246: UserWarning: Found unknown categories in columns [4, 9, 11, 12, 17, 19, 21] during transform. These unknown categories will be encoded as all zeros\n",
      "  warnings.warn(\n"
     ]
    },
    {
     "name": "stdout",
     "output_type": "stream",
     "text": [
      "[CV] END model__colsample_bytree=0.75, model__gamma=0.35, model__learning_rate=0.02, model__max_depth=7, model__min_child_weight=10, model__n_estimators=100, model__reg_alpha=0.4, model__reg_lambda=0.5, model__subsample=0.95; total time=   0.9s\n"
     ]
    },
    {
     "name": "stderr",
     "output_type": "stream",
     "text": [
      "/home/wsl2ubuntuuser/.virtualenvs/nomination_predictor/lib/python3.12/site-packages/sklearn/preprocessing/_encoders.py:246: UserWarning: Found unknown categories in columns [1, 4, 9, 12, 17, 19] during transform. These unknown categories will be encoded as all zeros\n",
      "  warnings.warn(\n"
     ]
    },
    {
     "name": "stdout",
     "output_type": "stream",
     "text": [
      "[CV] END model__colsample_bytree=0.75, model__gamma=0.35, model__learning_rate=0.02, model__max_depth=7, model__min_child_weight=10, model__n_estimators=100, model__reg_alpha=0.4, model__reg_lambda=0.5, model__subsample=0.95; total time=   0.9s\n"
     ]
    },
    {
     "name": "stderr",
     "output_type": "stream",
     "text": [
      "/home/wsl2ubuntuuser/.virtualenvs/nomination_predictor/lib/python3.12/site-packages/sklearn/preprocessing/_encoders.py:246: UserWarning: Found unknown categories in columns [1, 4, 9, 12, 13, 17, 19, 21] during transform. These unknown categories will be encoded as all zeros\n",
      "  warnings.warn(\n"
     ]
    },
    {
     "name": "stdout",
     "output_type": "stream",
     "text": [
      "[CV] END model__colsample_bytree=0.725, model__gamma=0.35, model__learning_rate=0.03, model__max_depth=8, model__min_child_weight=8, model__n_estimators=1500, model__reg_alpha=0.5, model__reg_lambda=0.6, model__subsample=0.95; total time=  11.7s\n"
     ]
    },
    {
     "name": "stderr",
     "output_type": "stream",
     "text": [
      "/home/wsl2ubuntuuser/.virtualenvs/nomination_predictor/lib/python3.12/site-packages/sklearn/preprocessing/_encoders.py:246: UserWarning: Found unknown categories in columns [4, 9, 11, 12, 13, 17, 19] during transform. These unknown categories will be encoded as all zeros\n",
      "  warnings.warn(\n"
     ]
    },
    {
     "name": "stdout",
     "output_type": "stream",
     "text": [
      "[CV] END model__colsample_bytree=0.725, model__gamma=0.35, model__learning_rate=0.03, model__max_depth=8, model__min_child_weight=8, model__n_estimators=1500, model__reg_alpha=0.5, model__reg_lambda=0.6, model__subsample=0.95; total time=  11.8s\n"
     ]
    },
    {
     "name": "stderr",
     "output_type": "stream",
     "text": [
      "/home/wsl2ubuntuuser/.virtualenvs/nomination_predictor/lib/python3.12/site-packages/sklearn/preprocessing/_encoders.py:246: UserWarning: Found unknown categories in columns [0, 4, 9, 12, 17, 19, 21] during transform. These unknown categories will be encoded as all zeros\n",
      "  warnings.warn(\n"
     ]
    },
    {
     "name": "stdout",
     "output_type": "stream",
     "text": [
      "[CV] END model__colsample_bytree=0.725, model__gamma=0.35, model__learning_rate=0.03, model__max_depth=8, model__min_child_weight=8, model__n_estimators=1500, model__reg_alpha=0.5, model__reg_lambda=0.6, model__subsample=0.95; total time=  12.7s\n"
     ]
    },
    {
     "name": "stderr",
     "output_type": "stream",
     "text": [
      "/home/wsl2ubuntuuser/.virtualenvs/nomination_predictor/lib/python3.12/site-packages/sklearn/preprocessing/_encoders.py:246: UserWarning: Found unknown categories in columns [4, 9, 11, 12, 17, 19, 21] during transform. These unknown categories will be encoded as all zeros\n",
      "  warnings.warn(\n"
     ]
    },
    {
     "name": "stdout",
     "output_type": "stream",
     "text": [
      "[CV] END model__colsample_bytree=0.725, model__gamma=0.35, model__learning_rate=0.03, model__max_depth=8, model__min_child_weight=8, model__n_estimators=1500, model__reg_alpha=0.5, model__reg_lambda=0.6, model__subsample=0.95; total time=  13.1s\n"
     ]
    },
    {
     "name": "stderr",
     "output_type": "stream",
     "text": [
      "/home/wsl2ubuntuuser/.virtualenvs/nomination_predictor/lib/python3.12/site-packages/sklearn/preprocessing/_encoders.py:246: UserWarning: Found unknown categories in columns [1, 4, 9, 12, 17, 19] during transform. These unknown categories will be encoded as all zeros\n",
      "  warnings.warn(\n"
     ]
    },
    {
     "name": "stdout",
     "output_type": "stream",
     "text": [
      "[CV] END model__colsample_bytree=0.725, model__gamma=0.35, model__learning_rate=0.03, model__max_depth=8, model__min_child_weight=8, model__n_estimators=1500, model__reg_alpha=0.5, model__reg_lambda=0.6, model__subsample=0.95; total time=  13.1s\n"
     ]
    },
    {
     "name": "stderr",
     "output_type": "stream",
     "text": [
      "/home/wsl2ubuntuuser/.virtualenvs/nomination_predictor/lib/python3.12/site-packages/sklearn/preprocessing/_encoders.py:246: UserWarning: Found unknown categories in columns [1, 4, 9, 12, 13, 17, 19, 21] during transform. These unknown categories will be encoded as all zeros\n",
      "  warnings.warn(\n"
     ]
    },
    {
     "name": "stdout",
     "output_type": "stream",
     "text": [
      "[CV] END model__colsample_bytree=0.7, model__gamma=0.35, model__learning_rate=0.02, model__max_depth=9, model__min_child_weight=11, model__n_estimators=500, model__reg_alpha=1.0, model__reg_lambda=0.5, model__subsample=1.0; total time=   4.8s\n"
     ]
    },
    {
     "name": "stderr",
     "output_type": "stream",
     "text": [
      "/home/wsl2ubuntuuser/.virtualenvs/nomination_predictor/lib/python3.12/site-packages/sklearn/preprocessing/_encoders.py:246: UserWarning: Found unknown categories in columns [4, 9, 11, 12, 13, 17, 19] during transform. These unknown categories will be encoded as all zeros\n",
      "  warnings.warn(\n"
     ]
    },
    {
     "name": "stdout",
     "output_type": "stream",
     "text": [
      "[CV] END model__colsample_bytree=0.7, model__gamma=0.35, model__learning_rate=0.02, model__max_depth=9, model__min_child_weight=11, model__n_estimators=500, model__reg_alpha=1.0, model__reg_lambda=0.5, model__subsample=1.0; total time=   5.2s\n"
     ]
    },
    {
     "name": "stderr",
     "output_type": "stream",
     "text": [
      "/home/wsl2ubuntuuser/.virtualenvs/nomination_predictor/lib/python3.12/site-packages/sklearn/preprocessing/_encoders.py:246: UserWarning: Found unknown categories in columns [0, 4, 9, 12, 17, 19, 21] during transform. These unknown categories will be encoded as all zeros\n",
      "  warnings.warn(\n"
     ]
    },
    {
     "name": "stdout",
     "output_type": "stream",
     "text": [
      "[CV] END model__colsample_bytree=0.7, model__gamma=0.35, model__learning_rate=0.02, model__max_depth=9, model__min_child_weight=11, model__n_estimators=500, model__reg_alpha=1.0, model__reg_lambda=0.5, model__subsample=1.0; total time=   4.0s\n"
     ]
    },
    {
     "name": "stderr",
     "output_type": "stream",
     "text": [
      "/home/wsl2ubuntuuser/.virtualenvs/nomination_predictor/lib/python3.12/site-packages/sklearn/preprocessing/_encoders.py:246: UserWarning: Found unknown categories in columns [4, 9, 11, 12, 17, 19, 21] during transform. These unknown categories will be encoded as all zeros\n",
      "  warnings.warn(\n"
     ]
    },
    {
     "name": "stdout",
     "output_type": "stream",
     "text": [
      "[CV] END model__colsample_bytree=0.7, model__gamma=0.35, model__learning_rate=0.02, model__max_depth=9, model__min_child_weight=11, model__n_estimators=500, model__reg_alpha=1.0, model__reg_lambda=0.5, model__subsample=1.0; total time=  41.9s\n"
     ]
    },
    {
     "name": "stderr",
     "output_type": "stream",
     "text": [
      "/home/wsl2ubuntuuser/.virtualenvs/nomination_predictor/lib/python3.12/site-packages/sklearn/preprocessing/_encoders.py:246: UserWarning: Found unknown categories in columns [1, 4, 9, 12, 17, 19] during transform. These unknown categories will be encoded as all zeros\n",
      "  warnings.warn(\n"
     ]
    },
    {
     "name": "stdout",
     "output_type": "stream",
     "text": [
      "[CV] END model__colsample_bytree=0.7, model__gamma=0.35, model__learning_rate=0.02, model__max_depth=9, model__min_child_weight=11, model__n_estimators=500, model__reg_alpha=1.0, model__reg_lambda=0.5, model__subsample=1.0; total time= -32.4s\n"
     ]
    },
    {
     "name": "stderr",
     "output_type": "stream",
     "text": [
      "/home/wsl2ubuntuuser/.virtualenvs/nomination_predictor/lib/python3.12/site-packages/sklearn/preprocessing/_encoders.py:246: UserWarning: Found unknown categories in columns [1, 4, 9, 12, 13, 17, 19, 21] during transform. These unknown categories will be encoded as all zeros\n",
      "  warnings.warn(\n"
     ]
    },
    {
     "name": "stdout",
     "output_type": "stream",
     "text": [
      "[CV] END model__colsample_bytree=0.7, model__gamma=0.4, model__learning_rate=0.01, model__max_depth=7, model__min_child_weight=10, model__n_estimators=500, model__reg_alpha=1.0, model__reg_lambda=0.6, model__subsample=0.975; total time=   3.7s\n"
     ]
    },
    {
     "name": "stderr",
     "output_type": "stream",
     "text": [
      "/home/wsl2ubuntuuser/.virtualenvs/nomination_predictor/lib/python3.12/site-packages/sklearn/preprocessing/_encoders.py:246: UserWarning: Found unknown categories in columns [4, 9, 11, 12, 13, 17, 19] during transform. These unknown categories will be encoded as all zeros\n",
      "  warnings.warn(\n"
     ]
    },
    {
     "name": "stdout",
     "output_type": "stream",
     "text": [
      "[CV] END model__colsample_bytree=0.7, model__gamma=0.4, model__learning_rate=0.01, model__max_depth=7, model__min_child_weight=10, model__n_estimators=500, model__reg_alpha=1.0, model__reg_lambda=0.6, model__subsample=0.975; total time=   4.0s\n"
     ]
    },
    {
     "name": "stderr",
     "output_type": "stream",
     "text": [
      "/home/wsl2ubuntuuser/.virtualenvs/nomination_predictor/lib/python3.12/site-packages/sklearn/preprocessing/_encoders.py:246: UserWarning: Found unknown categories in columns [0, 4, 9, 12, 17, 19, 21] during transform. These unknown categories will be encoded as all zeros\n",
      "  warnings.warn(\n"
     ]
    },
    {
     "name": "stdout",
     "output_type": "stream",
     "text": [
      "[CV] END model__colsample_bytree=0.7, model__gamma=0.4, model__learning_rate=0.01, model__max_depth=7, model__min_child_weight=10, model__n_estimators=500, model__reg_alpha=1.0, model__reg_lambda=0.6, model__subsample=0.975; total time=   4.0s\n"
     ]
    },
    {
     "name": "stderr",
     "output_type": "stream",
     "text": [
      "/home/wsl2ubuntuuser/.virtualenvs/nomination_predictor/lib/python3.12/site-packages/sklearn/preprocessing/_encoders.py:246: UserWarning: Found unknown categories in columns [4, 9, 11, 12, 17, 19, 21] during transform. These unknown categories will be encoded as all zeros\n",
      "  warnings.warn(\n"
     ]
    },
    {
     "name": "stdout",
     "output_type": "stream",
     "text": [
      "[CV] END model__colsample_bytree=0.7, model__gamma=0.4, model__learning_rate=0.01, model__max_depth=7, model__min_child_weight=10, model__n_estimators=500, model__reg_alpha=1.0, model__reg_lambda=0.6, model__subsample=0.975; total time=   3.9s\n"
     ]
    },
    {
     "name": "stderr",
     "output_type": "stream",
     "text": [
      "/home/wsl2ubuntuuser/.virtualenvs/nomination_predictor/lib/python3.12/site-packages/sklearn/preprocessing/_encoders.py:246: UserWarning: Found unknown categories in columns [1, 4, 9, 12, 17, 19] during transform. These unknown categories will be encoded as all zeros\n",
      "  warnings.warn(\n"
     ]
    },
    {
     "name": "stdout",
     "output_type": "stream",
     "text": [
      "[CV] END model__colsample_bytree=0.7, model__gamma=0.4, model__learning_rate=0.01, model__max_depth=7, model__min_child_weight=10, model__n_estimators=500, model__reg_alpha=1.0, model__reg_lambda=0.6, model__subsample=0.975; total time=   4.0s\n"
     ]
    },
    {
     "name": "stderr",
     "output_type": "stream",
     "text": [
      "/home/wsl2ubuntuuser/.virtualenvs/nomination_predictor/lib/python3.12/site-packages/sklearn/preprocessing/_encoders.py:246: UserWarning: Found unknown categories in columns [1, 4, 9, 12, 13, 17, 19, 21] during transform. These unknown categories will be encoded as all zeros\n",
      "  warnings.warn(\n"
     ]
    },
    {
     "name": "stdout",
     "output_type": "stream",
     "text": [
      "[CV] END model__colsample_bytree=0.725, model__gamma=0.25, model__learning_rate=0.02, model__max_depth=9, model__min_child_weight=12, model__n_estimators=1500, model__reg_alpha=0.6, model__reg_lambda=1.0, model__subsample=0.975; total time=  13.4s\n"
     ]
    },
    {
     "name": "stderr",
     "output_type": "stream",
     "text": [
      "/home/wsl2ubuntuuser/.virtualenvs/nomination_predictor/lib/python3.12/site-packages/sklearn/preprocessing/_encoders.py:246: UserWarning: Found unknown categories in columns [4, 9, 11, 12, 13, 17, 19] during transform. These unknown categories will be encoded as all zeros\n",
      "  warnings.warn(\n"
     ]
    },
    {
     "name": "stdout",
     "output_type": "stream",
     "text": [
      "[CV] END model__colsample_bytree=0.725, model__gamma=0.25, model__learning_rate=0.02, model__max_depth=9, model__min_child_weight=12, model__n_estimators=1500, model__reg_alpha=0.6, model__reg_lambda=1.0, model__subsample=0.975; total time=  49.5s\n"
     ]
    },
    {
     "name": "stderr",
     "output_type": "stream",
     "text": [
      "/home/wsl2ubuntuuser/.virtualenvs/nomination_predictor/lib/python3.12/site-packages/sklearn/preprocessing/_encoders.py:246: UserWarning: Found unknown categories in columns [0, 4, 9, 12, 17, 19, 21] during transform. These unknown categories will be encoded as all zeros\n",
      "  warnings.warn(\n"
     ]
    },
    {
     "name": "stdout",
     "output_type": "stream",
     "text": [
      "[CV] END model__colsample_bytree=0.725, model__gamma=0.25, model__learning_rate=0.02, model__max_depth=9, model__min_child_weight=12, model__n_estimators=1500, model__reg_alpha=0.6, model__reg_lambda=1.0, model__subsample=0.975; total time= -23.3s\n"
     ]
    },
    {
     "name": "stderr",
     "output_type": "stream",
     "text": [
      "/home/wsl2ubuntuuser/.virtualenvs/nomination_predictor/lib/python3.12/site-packages/sklearn/preprocessing/_encoders.py:246: UserWarning: Found unknown categories in columns [4, 9, 11, 12, 17, 19, 21] during transform. These unknown categories will be encoded as all zeros\n",
      "  warnings.warn(\n"
     ]
    },
    {
     "name": "stdout",
     "output_type": "stream",
     "text": [
      "[CV] END model__colsample_bytree=0.725, model__gamma=0.25, model__learning_rate=0.02, model__max_depth=9, model__min_child_weight=12, model__n_estimators=1500, model__reg_alpha=0.6, model__reg_lambda=1.0, model__subsample=0.975; total time=  13.8s\n"
     ]
    },
    {
     "name": "stderr",
     "output_type": "stream",
     "text": [
      "/home/wsl2ubuntuuser/.virtualenvs/nomination_predictor/lib/python3.12/site-packages/sklearn/preprocessing/_encoders.py:246: UserWarning: Found unknown categories in columns [1, 4, 9, 12, 17, 19] during transform. These unknown categories will be encoded as all zeros\n",
      "  warnings.warn(\n"
     ]
    },
    {
     "name": "stdout",
     "output_type": "stream",
     "text": [
      "[CV] END model__colsample_bytree=0.725, model__gamma=0.25, model__learning_rate=0.02, model__max_depth=9, model__min_child_weight=12, model__n_estimators=1500, model__reg_alpha=0.6, model__reg_lambda=1.0, model__subsample=0.975; total time=  14.0s\n"
     ]
    },
    {
     "name": "stderr",
     "output_type": "stream",
     "text": [
      "/home/wsl2ubuntuuser/.virtualenvs/nomination_predictor/lib/python3.12/site-packages/sklearn/preprocessing/_encoders.py:246: UserWarning: Found unknown categories in columns [1, 4, 9, 12, 13, 17, 19, 21] during transform. These unknown categories will be encoded as all zeros\n",
      "  warnings.warn(\n"
     ]
    },
    {
     "name": "stdout",
     "output_type": "stream",
     "text": [
      "[CV] END model__colsample_bytree=0.725, model__gamma=0.4, model__learning_rate=0.03, model__max_depth=7, model__min_child_weight=12, model__n_estimators=100, model__reg_alpha=0.25, model__reg_lambda=0.5, model__subsample=0.95; total time=   0.9s\n"
     ]
    },
    {
     "name": "stderr",
     "output_type": "stream",
     "text": [
      "/home/wsl2ubuntuuser/.virtualenvs/nomination_predictor/lib/python3.12/site-packages/sklearn/preprocessing/_encoders.py:246: UserWarning: Found unknown categories in columns [4, 9, 11, 12, 13, 17, 19] during transform. These unknown categories will be encoded as all zeros\n",
      "  warnings.warn(\n"
     ]
    },
    {
     "name": "stdout",
     "output_type": "stream",
     "text": [
      "[CV] END model__colsample_bytree=0.725, model__gamma=0.4, model__learning_rate=0.03, model__max_depth=7, model__min_child_weight=12, model__n_estimators=100, model__reg_alpha=0.25, model__reg_lambda=0.5, model__subsample=0.95; total time=   1.0s\n"
     ]
    },
    {
     "name": "stderr",
     "output_type": "stream",
     "text": [
      "/home/wsl2ubuntuuser/.virtualenvs/nomination_predictor/lib/python3.12/site-packages/sklearn/preprocessing/_encoders.py:246: UserWarning: Found unknown categories in columns [0, 4, 9, 12, 17, 19, 21] during transform. These unknown categories will be encoded as all zeros\n",
      "  warnings.warn(\n"
     ]
    },
    {
     "name": "stdout",
     "output_type": "stream",
     "text": [
      "[CV] END model__colsample_bytree=0.725, model__gamma=0.4, model__learning_rate=0.03, model__max_depth=7, model__min_child_weight=12, model__n_estimators=100, model__reg_alpha=0.25, model__reg_lambda=0.5, model__subsample=0.95; total time=   1.0s\n"
     ]
    },
    {
     "name": "stderr",
     "output_type": "stream",
     "text": [
      "/home/wsl2ubuntuuser/.virtualenvs/nomination_predictor/lib/python3.12/site-packages/sklearn/preprocessing/_encoders.py:246: UserWarning: Found unknown categories in columns [4, 9, 11, 12, 17, 19, 21] during transform. These unknown categories will be encoded as all zeros\n",
      "  warnings.warn(\n"
     ]
    },
    {
     "name": "stdout",
     "output_type": "stream",
     "text": [
      "[CV] END model__colsample_bytree=0.725, model__gamma=0.4, model__learning_rate=0.03, model__max_depth=7, model__min_child_weight=12, model__n_estimators=100, model__reg_alpha=0.25, model__reg_lambda=0.5, model__subsample=0.95; total time=  37.7s\n"
     ]
    },
    {
     "name": "stderr",
     "output_type": "stream",
     "text": [
      "/home/wsl2ubuntuuser/.virtualenvs/nomination_predictor/lib/python3.12/site-packages/sklearn/preprocessing/_encoders.py:246: UserWarning: Found unknown categories in columns [1, 4, 9, 12, 17, 19] during transform. These unknown categories will be encoded as all zeros\n",
      "  warnings.warn(\n"
     ]
    },
    {
     "name": "stdout",
     "output_type": "stream",
     "text": [
      "[CV] END model__colsample_bytree=0.725, model__gamma=0.4, model__learning_rate=0.03, model__max_depth=7, model__min_child_weight=12, model__n_estimators=100, model__reg_alpha=0.25, model__reg_lambda=0.5, model__subsample=0.95; total time= -35.9s\n"
     ]
    },
    {
     "name": "stderr",
     "output_type": "stream",
     "text": [
      "/home/wsl2ubuntuuser/.virtualenvs/nomination_predictor/lib/python3.12/site-packages/sklearn/preprocessing/_encoders.py:246: UserWarning: Found unknown categories in columns [1, 4, 9, 12, 13, 17, 19, 21] during transform. These unknown categories will be encoded as all zeros\n",
      "  warnings.warn(\n"
     ]
    },
    {
     "name": "stdout",
     "output_type": "stream",
     "text": [
      "[CV] END model__colsample_bytree=0.725, model__gamma=0.3, model__learning_rate=0.02, model__max_depth=8, model__min_child_weight=9, model__n_estimators=500, model__reg_alpha=0.4, model__reg_lambda=0.5, model__subsample=0.975; total time=  40.9s\n"
     ]
    },
    {
     "name": "stderr",
     "output_type": "stream",
     "text": [
      "/home/wsl2ubuntuuser/.virtualenvs/nomination_predictor/lib/python3.12/site-packages/sklearn/preprocessing/_encoders.py:246: UserWarning: Found unknown categories in columns [4, 9, 11, 12, 13, 17, 19] during transform. These unknown categories will be encoded as all zeros\n",
      "  warnings.warn(\n"
     ]
    },
    {
     "name": "stdout",
     "output_type": "stream",
     "text": [
      "[CV] END model__colsample_bytree=0.725, model__gamma=0.3, model__learning_rate=0.02, model__max_depth=8, model__min_child_weight=9, model__n_estimators=500, model__reg_alpha=0.4, model__reg_lambda=0.5, model__subsample=0.975; total time= -32.4s\n"
     ]
    },
    {
     "name": "stderr",
     "output_type": "stream",
     "text": [
      "/home/wsl2ubuntuuser/.virtualenvs/nomination_predictor/lib/python3.12/site-packages/sklearn/preprocessing/_encoders.py:246: UserWarning: Found unknown categories in columns [0, 4, 9, 12, 17, 19, 21] during transform. These unknown categories will be encoded as all zeros\n",
      "  warnings.warn(\n"
     ]
    },
    {
     "name": "stdout",
     "output_type": "stream",
     "text": [
      "[CV] END model__colsample_bytree=0.725, model__gamma=0.3, model__learning_rate=0.02, model__max_depth=8, model__min_child_weight=9, model__n_estimators=500, model__reg_alpha=0.4, model__reg_lambda=0.5, model__subsample=0.975; total time=   4.4s\n"
     ]
    },
    {
     "name": "stderr",
     "output_type": "stream",
     "text": [
      "/home/wsl2ubuntuuser/.virtualenvs/nomination_predictor/lib/python3.12/site-packages/sklearn/preprocessing/_encoders.py:246: UserWarning: Found unknown categories in columns [4, 9, 11, 12, 17, 19, 21] during transform. These unknown categories will be encoded as all zeros\n",
      "  warnings.warn(\n"
     ]
    },
    {
     "name": "stdout",
     "output_type": "stream",
     "text": [
      "[CV] END model__colsample_bytree=0.725, model__gamma=0.3, model__learning_rate=0.02, model__max_depth=8, model__min_child_weight=9, model__n_estimators=500, model__reg_alpha=0.4, model__reg_lambda=0.5, model__subsample=0.975; total time=   4.4s\n"
     ]
    },
    {
     "name": "stderr",
     "output_type": "stream",
     "text": [
      "/home/wsl2ubuntuuser/.virtualenvs/nomination_predictor/lib/python3.12/site-packages/sklearn/preprocessing/_encoders.py:246: UserWarning: Found unknown categories in columns [1, 4, 9, 12, 17, 19] during transform. These unknown categories will be encoded as all zeros\n",
      "  warnings.warn(\n"
     ]
    },
    {
     "name": "stdout",
     "output_type": "stream",
     "text": [
      "[CV] END model__colsample_bytree=0.725, model__gamma=0.3, model__learning_rate=0.02, model__max_depth=8, model__min_child_weight=9, model__n_estimators=500, model__reg_alpha=0.4, model__reg_lambda=0.5, model__subsample=0.975; total time=   4.3s\n"
     ]
    },
    {
     "name": "stderr",
     "output_type": "stream",
     "text": [
      "/home/wsl2ubuntuuser/.virtualenvs/nomination_predictor/lib/python3.12/site-packages/sklearn/preprocessing/_encoders.py:246: UserWarning: Found unknown categories in columns [1, 4, 9, 12, 13, 17, 19, 21] during transform. These unknown categories will be encoded as all zeros\n",
      "  warnings.warn(\n"
     ]
    },
    {
     "name": "stdout",
     "output_type": "stream",
     "text": [
      "[CV] END model__colsample_bytree=0.675, model__gamma=0.2, model__learning_rate=0.02, model__max_depth=11, model__min_child_weight=12, model__n_estimators=500, model__reg_alpha=0.4, model__reg_lambda=1.0, model__subsample=1.0; total time=   5.9s\n"
     ]
    },
    {
     "name": "stderr",
     "output_type": "stream",
     "text": [
      "/home/wsl2ubuntuuser/.virtualenvs/nomination_predictor/lib/python3.12/site-packages/sklearn/preprocessing/_encoders.py:246: UserWarning: Found unknown categories in columns [4, 9, 11, 12, 13, 17, 19] during transform. These unknown categories will be encoded as all zeros\n",
      "  warnings.warn(\n"
     ]
    },
    {
     "name": "stdout",
     "output_type": "stream",
     "text": [
      "[CV] END model__colsample_bytree=0.675, model__gamma=0.2, model__learning_rate=0.02, model__max_depth=11, model__min_child_weight=12, model__n_estimators=500, model__reg_alpha=0.4, model__reg_lambda=1.0, model__subsample=1.0; total time=   5.5s\n"
     ]
    },
    {
     "name": "stderr",
     "output_type": "stream",
     "text": [
      "/home/wsl2ubuntuuser/.virtualenvs/nomination_predictor/lib/python3.12/site-packages/sklearn/preprocessing/_encoders.py:246: UserWarning: Found unknown categories in columns [0, 4, 9, 12, 17, 19, 21] during transform. These unknown categories will be encoded as all zeros\n",
      "  warnings.warn(\n"
     ]
    },
    {
     "name": "stdout",
     "output_type": "stream",
     "text": [
      "[CV] END model__colsample_bytree=0.675, model__gamma=0.2, model__learning_rate=0.02, model__max_depth=11, model__min_child_weight=12, model__n_estimators=500, model__reg_alpha=0.4, model__reg_lambda=1.0, model__subsample=1.0; total time=   5.6s\n"
     ]
    },
    {
     "name": "stderr",
     "output_type": "stream",
     "text": [
      "/home/wsl2ubuntuuser/.virtualenvs/nomination_predictor/lib/python3.12/site-packages/sklearn/preprocessing/_encoders.py:246: UserWarning: Found unknown categories in columns [4, 9, 11, 12, 17, 19, 21] during transform. These unknown categories will be encoded as all zeros\n",
      "  warnings.warn(\n"
     ]
    },
    {
     "name": "stdout",
     "output_type": "stream",
     "text": [
      "[CV] END model__colsample_bytree=0.675, model__gamma=0.2, model__learning_rate=0.02, model__max_depth=11, model__min_child_weight=12, model__n_estimators=500, model__reg_alpha=0.4, model__reg_lambda=1.0, model__subsample=1.0; total time=   6.0s\n"
     ]
    },
    {
     "name": "stderr",
     "output_type": "stream",
     "text": [
      "/home/wsl2ubuntuuser/.virtualenvs/nomination_predictor/lib/python3.12/site-packages/sklearn/preprocessing/_encoders.py:246: UserWarning: Found unknown categories in columns [1, 4, 9, 12, 17, 19] during transform. These unknown categories will be encoded as all zeros\n",
      "  warnings.warn(\n"
     ]
    },
    {
     "name": "stdout",
     "output_type": "stream",
     "text": [
      "[CV] END model__colsample_bytree=0.675, model__gamma=0.2, model__learning_rate=0.02, model__max_depth=11, model__min_child_weight=12, model__n_estimators=500, model__reg_alpha=0.4, model__reg_lambda=1.0, model__subsample=1.0; total time=   5.7s\n"
     ]
    },
    {
     "name": "stderr",
     "output_type": "stream",
     "text": [
      "/home/wsl2ubuntuuser/.virtualenvs/nomination_predictor/lib/python3.12/site-packages/sklearn/preprocessing/_encoders.py:246: UserWarning: Found unknown categories in columns [1, 4, 9, 12, 13, 17, 19, 21] during transform. These unknown categories will be encoded as all zeros\n",
      "  warnings.warn(\n"
     ]
    },
    {
     "name": "stdout",
     "output_type": "stream",
     "text": [
      "[CV] END model__colsample_bytree=0.65, model__gamma=0.35, model__learning_rate=0.03, model__max_depth=9, model__min_child_weight=9, model__n_estimators=100, model__reg_alpha=0.4, model__reg_lambda=0.4, model__subsample=1.0; total time=   1.2s\n"
     ]
    },
    {
     "name": "stderr",
     "output_type": "stream",
     "text": [
      "/home/wsl2ubuntuuser/.virtualenvs/nomination_predictor/lib/python3.12/site-packages/sklearn/preprocessing/_encoders.py:246: UserWarning: Found unknown categories in columns [4, 9, 11, 12, 13, 17, 19] during transform. These unknown categories will be encoded as all zeros\n",
      "  warnings.warn(\n"
     ]
    },
    {
     "name": "stdout",
     "output_type": "stream",
     "text": [
      "[CV] END model__colsample_bytree=0.65, model__gamma=0.35, model__learning_rate=0.03, model__max_depth=9, model__min_child_weight=9, model__n_estimators=100, model__reg_alpha=0.4, model__reg_lambda=0.4, model__subsample=1.0; total time=   1.1s\n"
     ]
    },
    {
     "name": "stderr",
     "output_type": "stream",
     "text": [
      "/home/wsl2ubuntuuser/.virtualenvs/nomination_predictor/lib/python3.12/site-packages/sklearn/preprocessing/_encoders.py:246: UserWarning: Found unknown categories in columns [0, 4, 9, 12, 17, 19, 21] during transform. These unknown categories will be encoded as all zeros\n",
      "  warnings.warn(\n"
     ]
    },
    {
     "name": "stdout",
     "output_type": "stream",
     "text": [
      "[CV] END model__colsample_bytree=0.65, model__gamma=0.35, model__learning_rate=0.03, model__max_depth=9, model__min_child_weight=9, model__n_estimators=100, model__reg_alpha=0.4, model__reg_lambda=0.4, model__subsample=1.0; total time=   1.1s\n"
     ]
    },
    {
     "name": "stderr",
     "output_type": "stream",
     "text": [
      "/home/wsl2ubuntuuser/.virtualenvs/nomination_predictor/lib/python3.12/site-packages/sklearn/preprocessing/_encoders.py:246: UserWarning: Found unknown categories in columns [4, 9, 11, 12, 17, 19, 21] during transform. These unknown categories will be encoded as all zeros\n",
      "  warnings.warn(\n"
     ]
    },
    {
     "name": "stdout",
     "output_type": "stream",
     "text": [
      "[CV] END model__colsample_bytree=0.65, model__gamma=0.35, model__learning_rate=0.03, model__max_depth=9, model__min_child_weight=9, model__n_estimators=100, model__reg_alpha=0.4, model__reg_lambda=0.4, model__subsample=1.0; total time=   1.3s\n"
     ]
    },
    {
     "name": "stderr",
     "output_type": "stream",
     "text": [
      "/home/wsl2ubuntuuser/.virtualenvs/nomination_predictor/lib/python3.12/site-packages/sklearn/preprocessing/_encoders.py:246: UserWarning: Found unknown categories in columns [1, 4, 9, 12, 17, 19] during transform. These unknown categories will be encoded as all zeros\n",
      "  warnings.warn(\n"
     ]
    },
    {
     "name": "stdout",
     "output_type": "stream",
     "text": [
      "[CV] END model__colsample_bytree=0.65, model__gamma=0.35, model__learning_rate=0.03, model__max_depth=9, model__min_child_weight=9, model__n_estimators=100, model__reg_alpha=0.4, model__reg_lambda=0.4, model__subsample=1.0; total time=   1.1s\n"
     ]
    },
    {
     "name": "stderr",
     "output_type": "stream",
     "text": [
      "/home/wsl2ubuntuuser/.virtualenvs/nomination_predictor/lib/python3.12/site-packages/sklearn/preprocessing/_encoders.py:246: UserWarning: Found unknown categories in columns [1, 4, 9, 12, 13, 17, 19, 21] during transform. These unknown categories will be encoded as all zeros\n",
      "  warnings.warn(\n"
     ]
    },
    {
     "name": "stdout",
     "output_type": "stream",
     "text": [
      "[CV] END model__colsample_bytree=0.65, model__gamma=0.3, model__learning_rate=0.01, model__max_depth=7, model__min_child_weight=12, model__n_estimators=1500, model__reg_alpha=1.0, model__reg_lambda=0.4, model__subsample=0.975; total time=  12.0s\n"
     ]
    },
    {
     "name": "stderr",
     "output_type": "stream",
     "text": [
      "/home/wsl2ubuntuuser/.virtualenvs/nomination_predictor/lib/python3.12/site-packages/sklearn/preprocessing/_encoders.py:246: UserWarning: Found unknown categories in columns [4, 9, 11, 12, 13, 17, 19] during transform. These unknown categories will be encoded as all zeros\n",
      "  warnings.warn(\n"
     ]
    },
    {
     "name": "stdout",
     "output_type": "stream",
     "text": [
      "[CV] END model__colsample_bytree=0.65, model__gamma=0.3, model__learning_rate=0.01, model__max_depth=7, model__min_child_weight=12, model__n_estimators=1500, model__reg_alpha=1.0, model__reg_lambda=0.4, model__subsample=0.975; total time=  47.9s\n"
     ]
    },
    {
     "name": "stderr",
     "output_type": "stream",
     "text": [
      "/home/wsl2ubuntuuser/.virtualenvs/nomination_predictor/lib/python3.12/site-packages/sklearn/preprocessing/_encoders.py:246: UserWarning: Found unknown categories in columns [0, 4, 9, 12, 17, 19, 21] during transform. These unknown categories will be encoded as all zeros\n",
      "  warnings.warn(\n"
     ]
    },
    {
     "name": "stdout",
     "output_type": "stream",
     "text": [
      "[CV] END model__colsample_bytree=0.65, model__gamma=0.3, model__learning_rate=0.01, model__max_depth=7, model__min_child_weight=12, model__n_estimators=1500, model__reg_alpha=1.0, model__reg_lambda=0.4, model__subsample=0.975; total time= -26.0s\n"
     ]
    },
    {
     "name": "stderr",
     "output_type": "stream",
     "text": [
      "/home/wsl2ubuntuuser/.virtualenvs/nomination_predictor/lib/python3.12/site-packages/sklearn/preprocessing/_encoders.py:246: UserWarning: Found unknown categories in columns [4, 9, 11, 12, 17, 19, 21] during transform. These unknown categories will be encoded as all zeros\n",
      "  warnings.warn(\n"
     ]
    },
    {
     "name": "stdout",
     "output_type": "stream",
     "text": [
      "[CV] END model__colsample_bytree=0.65, model__gamma=0.3, model__learning_rate=0.01, model__max_depth=7, model__min_child_weight=12, model__n_estimators=1500, model__reg_alpha=1.0, model__reg_lambda=0.4, model__subsample=0.975; total time=  11.2s\n"
     ]
    },
    {
     "name": "stderr",
     "output_type": "stream",
     "text": [
      "/home/wsl2ubuntuuser/.virtualenvs/nomination_predictor/lib/python3.12/site-packages/sklearn/preprocessing/_encoders.py:246: UserWarning: Found unknown categories in columns [1, 4, 9, 12, 17, 19] during transform. These unknown categories will be encoded as all zeros\n",
      "  warnings.warn(\n"
     ]
    },
    {
     "name": "stdout",
     "output_type": "stream",
     "text": [
      "[CV] END model__colsample_bytree=0.65, model__gamma=0.3, model__learning_rate=0.01, model__max_depth=7, model__min_child_weight=12, model__n_estimators=1500, model__reg_alpha=1.0, model__reg_lambda=0.4, model__subsample=0.975; total time=  12.1s\n"
     ]
    },
    {
     "name": "stderr",
     "output_type": "stream",
     "text": [
      "/home/wsl2ubuntuuser/.virtualenvs/nomination_predictor/lib/python3.12/site-packages/sklearn/preprocessing/_encoders.py:246: UserWarning: Found unknown categories in columns [1, 4, 9, 12, 13, 17, 19, 21] during transform. These unknown categories will be encoded as all zeros\n",
      "  warnings.warn(\n"
     ]
    },
    {
     "name": "stdout",
     "output_type": "stream",
     "text": [
      "[CV] END model__colsample_bytree=0.725, model__gamma=0.35, model__learning_rate=0.001, model__max_depth=7, model__min_child_weight=8, model__n_estimators=500, model__reg_alpha=1.0, model__reg_lambda=0.25, model__subsample=0.95; total time=   4.2s\n"
     ]
    },
    {
     "name": "stderr",
     "output_type": "stream",
     "text": [
      "/home/wsl2ubuntuuser/.virtualenvs/nomination_predictor/lib/python3.12/site-packages/sklearn/preprocessing/_encoders.py:246: UserWarning: Found unknown categories in columns [4, 9, 11, 12, 13, 17, 19] during transform. These unknown categories will be encoded as all zeros\n",
      "  warnings.warn(\n"
     ]
    },
    {
     "name": "stdout",
     "output_type": "stream",
     "text": [
      "[CV] END model__colsample_bytree=0.725, model__gamma=0.35, model__learning_rate=0.001, model__max_depth=7, model__min_child_weight=8, model__n_estimators=500, model__reg_alpha=1.0, model__reg_lambda=0.25, model__subsample=0.95; total time=   4.2s\n"
     ]
    },
    {
     "name": "stderr",
     "output_type": "stream",
     "text": [
      "/home/wsl2ubuntuuser/.virtualenvs/nomination_predictor/lib/python3.12/site-packages/sklearn/preprocessing/_encoders.py:246: UserWarning: Found unknown categories in columns [0, 4, 9, 12, 17, 19, 21] during transform. These unknown categories will be encoded as all zeros\n",
      "  warnings.warn(\n"
     ]
    },
    {
     "name": "stdout",
     "output_type": "stream",
     "text": [
      "[CV] END model__colsample_bytree=0.725, model__gamma=0.35, model__learning_rate=0.001, model__max_depth=7, model__min_child_weight=8, model__n_estimators=500, model__reg_alpha=1.0, model__reg_lambda=0.25, model__subsample=0.95; total time=   3.9s\n"
     ]
    },
    {
     "name": "stderr",
     "output_type": "stream",
     "text": [
      "/home/wsl2ubuntuuser/.virtualenvs/nomination_predictor/lib/python3.12/site-packages/sklearn/preprocessing/_encoders.py:246: UserWarning: Found unknown categories in columns [4, 9, 11, 12, 17, 19, 21] during transform. These unknown categories will be encoded as all zeros\n",
      "  warnings.warn(\n"
     ]
    },
    {
     "name": "stdout",
     "output_type": "stream",
     "text": [
      "[CV] END model__colsample_bytree=0.725, model__gamma=0.35, model__learning_rate=0.001, model__max_depth=7, model__min_child_weight=8, model__n_estimators=500, model__reg_alpha=1.0, model__reg_lambda=0.25, model__subsample=0.95; total time=   4.3s\n"
     ]
    },
    {
     "name": "stderr",
     "output_type": "stream",
     "text": [
      "/home/wsl2ubuntuuser/.virtualenvs/nomination_predictor/lib/python3.12/site-packages/sklearn/preprocessing/_encoders.py:246: UserWarning: Found unknown categories in columns [1, 4, 9, 12, 17, 19] during transform. These unknown categories will be encoded as all zeros\n",
      "  warnings.warn(\n"
     ]
    },
    {
     "name": "stdout",
     "output_type": "stream",
     "text": [
      "[CV] END model__colsample_bytree=0.725, model__gamma=0.35, model__learning_rate=0.001, model__max_depth=7, model__min_child_weight=8, model__n_estimators=500, model__reg_alpha=1.0, model__reg_lambda=0.25, model__subsample=0.95; total time=   4.1s\n"
     ]
    },
    {
     "name": "stderr",
     "output_type": "stream",
     "text": [
      "/home/wsl2ubuntuuser/.virtualenvs/nomination_predictor/lib/python3.12/site-packages/sklearn/preprocessing/_encoders.py:246: UserWarning: Found unknown categories in columns [1, 4, 9, 12, 13, 17, 19, 21] during transform. These unknown categories will be encoded as all zeros\n",
      "  warnings.warn(\n"
     ]
    },
    {
     "name": "stdout",
     "output_type": "stream",
     "text": [
      "[CV] END model__colsample_bytree=0.725, model__gamma=0.25, model__learning_rate=0.03, model__max_depth=8, model__min_child_weight=10, model__n_estimators=100, model__reg_alpha=0.25, model__reg_lambda=0.5, model__subsample=0.975; total time=   1.0s\n"
     ]
    },
    {
     "name": "stderr",
     "output_type": "stream",
     "text": [
      "/home/wsl2ubuntuuser/.virtualenvs/nomination_predictor/lib/python3.12/site-packages/sklearn/preprocessing/_encoders.py:246: UserWarning: Found unknown categories in columns [4, 9, 11, 12, 13, 17, 19] during transform. These unknown categories will be encoded as all zeros\n",
      "  warnings.warn(\n"
     ]
    },
    {
     "name": "stdout",
     "output_type": "stream",
     "text": [
      "[CV] END model__colsample_bytree=0.725, model__gamma=0.25, model__learning_rate=0.03, model__max_depth=8, model__min_child_weight=10, model__n_estimators=100, model__reg_alpha=0.25, model__reg_lambda=0.5, model__subsample=0.975; total time=   1.1s\n"
     ]
    },
    {
     "name": "stderr",
     "output_type": "stream",
     "text": [
      "/home/wsl2ubuntuuser/.virtualenvs/nomination_predictor/lib/python3.12/site-packages/sklearn/preprocessing/_encoders.py:246: UserWarning: Found unknown categories in columns [0, 4, 9, 12, 17, 19, 21] during transform. These unknown categories will be encoded as all zeros\n",
      "  warnings.warn(\n"
     ]
    },
    {
     "name": "stdout",
     "output_type": "stream",
     "text": [
      "[CV] END model__colsample_bytree=0.725, model__gamma=0.25, model__learning_rate=0.03, model__max_depth=8, model__min_child_weight=10, model__n_estimators=100, model__reg_alpha=0.25, model__reg_lambda=0.5, model__subsample=0.975; total time=   1.3s\n"
     ]
    },
    {
     "name": "stderr",
     "output_type": "stream",
     "text": [
      "/home/wsl2ubuntuuser/.virtualenvs/nomination_predictor/lib/python3.12/site-packages/sklearn/preprocessing/_encoders.py:246: UserWarning: Found unknown categories in columns [4, 9, 11, 12, 17, 19, 21] during transform. These unknown categories will be encoded as all zeros\n",
      "  warnings.warn(\n"
     ]
    },
    {
     "name": "stdout",
     "output_type": "stream",
     "text": [
      "[CV] END model__colsample_bytree=0.725, model__gamma=0.25, model__learning_rate=0.03, model__max_depth=8, model__min_child_weight=10, model__n_estimators=100, model__reg_alpha=0.25, model__reg_lambda=0.5, model__subsample=0.975; total time=   1.1s\n"
     ]
    },
    {
     "name": "stderr",
     "output_type": "stream",
     "text": [
      "/home/wsl2ubuntuuser/.virtualenvs/nomination_predictor/lib/python3.12/site-packages/sklearn/preprocessing/_encoders.py:246: UserWarning: Found unknown categories in columns [1, 4, 9, 12, 17, 19] during transform. These unknown categories will be encoded as all zeros\n",
      "  warnings.warn(\n"
     ]
    },
    {
     "name": "stdout",
     "output_type": "stream",
     "text": [
      "[CV] END model__colsample_bytree=0.725, model__gamma=0.25, model__learning_rate=0.03, model__max_depth=8, model__min_child_weight=10, model__n_estimators=100, model__reg_alpha=0.25, model__reg_lambda=0.5, model__subsample=0.975; total time=   1.0s\n"
     ]
    },
    {
     "name": "stderr",
     "output_type": "stream",
     "text": [
      "/home/wsl2ubuntuuser/.virtualenvs/nomination_predictor/lib/python3.12/site-packages/sklearn/preprocessing/_encoders.py:246: UserWarning: Found unknown categories in columns [1, 4, 9, 12, 13, 17, 19, 21] during transform. These unknown categories will be encoded as all zeros\n",
      "  warnings.warn(\n"
     ]
    },
    {
     "name": "stdout",
     "output_type": "stream",
     "text": [
      "[CV] END model__colsample_bytree=0.65, model__gamma=0.35, model__learning_rate=0.03, model__max_depth=9, model__min_child_weight=11, model__n_estimators=1500, model__reg_alpha=0.4, model__reg_lambda=0.25, model__subsample=0.975; total time=  11.9s\n"
     ]
    },
    {
     "name": "stderr",
     "output_type": "stream",
     "text": [
      "/home/wsl2ubuntuuser/.virtualenvs/nomination_predictor/lib/python3.12/site-packages/sklearn/preprocessing/_encoders.py:246: UserWarning: Found unknown categories in columns [4, 9, 11, 12, 13, 17, 19] during transform. These unknown categories will be encoded as all zeros\n",
      "  warnings.warn(\n"
     ]
    },
    {
     "name": "stdout",
     "output_type": "stream",
     "text": [
      "[CV] END model__colsample_bytree=0.65, model__gamma=0.35, model__learning_rate=0.03, model__max_depth=9, model__min_child_weight=11, model__n_estimators=1500, model__reg_alpha=0.4, model__reg_lambda=0.25, model__subsample=0.975; total time=  13.1s\n"
     ]
    },
    {
     "name": "stderr",
     "output_type": "stream",
     "text": [
      "/home/wsl2ubuntuuser/.virtualenvs/nomination_predictor/lib/python3.12/site-packages/sklearn/preprocessing/_encoders.py:246: UserWarning: Found unknown categories in columns [0, 4, 9, 12, 17, 19, 21] during transform. These unknown categories will be encoded as all zeros\n",
      "  warnings.warn(\n"
     ]
    },
    {
     "name": "stdout",
     "output_type": "stream",
     "text": [
      "[CV] END model__colsample_bytree=0.65, model__gamma=0.35, model__learning_rate=0.03, model__max_depth=9, model__min_child_weight=11, model__n_estimators=1500, model__reg_alpha=0.4, model__reg_lambda=0.25, model__subsample=0.975; total time=  13.5s\n"
     ]
    },
    {
     "name": "stderr",
     "output_type": "stream",
     "text": [
      "/home/wsl2ubuntuuser/.virtualenvs/nomination_predictor/lib/python3.12/site-packages/sklearn/preprocessing/_encoders.py:246: UserWarning: Found unknown categories in columns [4, 9, 11, 12, 17, 19, 21] during transform. These unknown categories will be encoded as all zeros\n",
      "  warnings.warn(\n"
     ]
    },
    {
     "name": "stdout",
     "output_type": "stream",
     "text": [
      "[CV] END model__colsample_bytree=0.65, model__gamma=0.35, model__learning_rate=0.03, model__max_depth=9, model__min_child_weight=11, model__n_estimators=1500, model__reg_alpha=0.4, model__reg_lambda=0.25, model__subsample=0.975; total time=  12.5s\n"
     ]
    },
    {
     "name": "stderr",
     "output_type": "stream",
     "text": [
      "/home/wsl2ubuntuuser/.virtualenvs/nomination_predictor/lib/python3.12/site-packages/sklearn/preprocessing/_encoders.py:246: UserWarning: Found unknown categories in columns [1, 4, 9, 12, 17, 19] during transform. These unknown categories will be encoded as all zeros\n",
      "  warnings.warn(\n"
     ]
    },
    {
     "name": "stdout",
     "output_type": "stream",
     "text": [
      "[CV] END model__colsample_bytree=0.65, model__gamma=0.35, model__learning_rate=0.03, model__max_depth=9, model__min_child_weight=11, model__n_estimators=1500, model__reg_alpha=0.4, model__reg_lambda=0.25, model__subsample=0.975; total time=  11.1s\n"
     ]
    },
    {
     "name": "stderr",
     "output_type": "stream",
     "text": [
      "/home/wsl2ubuntuuser/.virtualenvs/nomination_predictor/lib/python3.12/site-packages/sklearn/preprocessing/_encoders.py:246: UserWarning: Found unknown categories in columns [1, 4, 9, 12, 13, 17, 19, 21] during transform. These unknown categories will be encoded as all zeros\n",
      "  warnings.warn(\n"
     ]
    },
    {
     "name": "stdout",
     "output_type": "stream",
     "text": [
      "[CV] END model__colsample_bytree=0.7, model__gamma=0.35, model__learning_rate=0.02, model__max_depth=8, model__min_child_weight=8, model__n_estimators=100, model__reg_alpha=0.5, model__reg_lambda=0.4, model__subsample=0.95; total time=   0.9s\n"
     ]
    },
    {
     "name": "stderr",
     "output_type": "stream",
     "text": [
      "/home/wsl2ubuntuuser/.virtualenvs/nomination_predictor/lib/python3.12/site-packages/sklearn/preprocessing/_encoders.py:246: UserWarning: Found unknown categories in columns [4, 9, 11, 12, 13, 17, 19] during transform. These unknown categories will be encoded as all zeros\n",
      "  warnings.warn(\n"
     ]
    },
    {
     "name": "stdout",
     "output_type": "stream",
     "text": [
      "[CV] END model__colsample_bytree=0.7, model__gamma=0.35, model__learning_rate=0.02, model__max_depth=8, model__min_child_weight=8, model__n_estimators=100, model__reg_alpha=0.5, model__reg_lambda=0.4, model__subsample=0.95; total time=   1.0s\n"
     ]
    },
    {
     "name": "stderr",
     "output_type": "stream",
     "text": [
      "/home/wsl2ubuntuuser/.virtualenvs/nomination_predictor/lib/python3.12/site-packages/sklearn/preprocessing/_encoders.py:246: UserWarning: Found unknown categories in columns [0, 4, 9, 12, 17, 19, 21] during transform. These unknown categories will be encoded as all zeros\n",
      "  warnings.warn(\n"
     ]
    },
    {
     "name": "stdout",
     "output_type": "stream",
     "text": [
      "[CV] END model__colsample_bytree=0.7, model__gamma=0.35, model__learning_rate=0.02, model__max_depth=8, model__min_child_weight=8, model__n_estimators=100, model__reg_alpha=0.5, model__reg_lambda=0.4, model__subsample=0.95; total time=   1.3s\n"
     ]
    },
    {
     "name": "stderr",
     "output_type": "stream",
     "text": [
      "/home/wsl2ubuntuuser/.virtualenvs/nomination_predictor/lib/python3.12/site-packages/sklearn/preprocessing/_encoders.py:246: UserWarning: Found unknown categories in columns [4, 9, 11, 12, 17, 19, 21] during transform. These unknown categories will be encoded as all zeros\n",
      "  warnings.warn(\n"
     ]
    },
    {
     "name": "stdout",
     "output_type": "stream",
     "text": [
      "[CV] END model__colsample_bytree=0.7, model__gamma=0.35, model__learning_rate=0.02, model__max_depth=8, model__min_child_weight=8, model__n_estimators=100, model__reg_alpha=0.5, model__reg_lambda=0.4, model__subsample=0.95; total time=   1.1s\n"
     ]
    },
    {
     "name": "stderr",
     "output_type": "stream",
     "text": [
      "/home/wsl2ubuntuuser/.virtualenvs/nomination_predictor/lib/python3.12/site-packages/sklearn/preprocessing/_encoders.py:246: UserWarning: Found unknown categories in columns [1, 4, 9, 12, 17, 19] during transform. These unknown categories will be encoded as all zeros\n",
      "  warnings.warn(\n"
     ]
    },
    {
     "name": "stdout",
     "output_type": "stream",
     "text": [
      "[CV] END model__colsample_bytree=0.7, model__gamma=0.35, model__learning_rate=0.02, model__max_depth=8, model__min_child_weight=8, model__n_estimators=100, model__reg_alpha=0.5, model__reg_lambda=0.4, model__subsample=0.95; total time=   1.3s\n"
     ]
    },
    {
     "name": "stderr",
     "output_type": "stream",
     "text": [
      "/home/wsl2ubuntuuser/.virtualenvs/nomination_predictor/lib/python3.12/site-packages/sklearn/preprocessing/_encoders.py:246: UserWarning: Found unknown categories in columns [1, 4, 9, 12, 13, 17, 19, 21] during transform. These unknown categories will be encoded as all zeros\n",
      "  warnings.warn(\n"
     ]
    },
    {
     "name": "stdout",
     "output_type": "stream",
     "text": [
      "[CV] END model__colsample_bytree=0.7, model__gamma=0.3, model__learning_rate=0.001, model__max_depth=9, model__min_child_weight=8, model__n_estimators=1000, model__reg_alpha=0.6, model__reg_lambda=0.4, model__subsample=1.0; total time=  10.9s\n"
     ]
    },
    {
     "name": "stderr",
     "output_type": "stream",
     "text": [
      "/home/wsl2ubuntuuser/.virtualenvs/nomination_predictor/lib/python3.12/site-packages/sklearn/preprocessing/_encoders.py:246: UserWarning: Found unknown categories in columns [4, 9, 11, 12, 13, 17, 19] during transform. These unknown categories will be encoded as all zeros\n",
      "  warnings.warn(\n"
     ]
    },
    {
     "name": "stdout",
     "output_type": "stream",
     "text": [
      "[CV] END model__colsample_bytree=0.7, model__gamma=0.3, model__learning_rate=0.001, model__max_depth=9, model__min_child_weight=8, model__n_estimators=1000, model__reg_alpha=0.6, model__reg_lambda=0.4, model__subsample=1.0; total time=  10.8s\n"
     ]
    },
    {
     "name": "stderr",
     "output_type": "stream",
     "text": [
      "/home/wsl2ubuntuuser/.virtualenvs/nomination_predictor/lib/python3.12/site-packages/sklearn/preprocessing/_encoders.py:246: UserWarning: Found unknown categories in columns [0, 4, 9, 12, 17, 19, 21] during transform. These unknown categories will be encoded as all zeros\n",
      "  warnings.warn(\n"
     ]
    },
    {
     "name": "stdout",
     "output_type": "stream",
     "text": [
      "[CV] END model__colsample_bytree=0.7, model__gamma=0.3, model__learning_rate=0.001, model__max_depth=9, model__min_child_weight=8, model__n_estimators=1000, model__reg_alpha=0.6, model__reg_lambda=0.4, model__subsample=1.0; total time=  11.6s\n"
     ]
    },
    {
     "name": "stderr",
     "output_type": "stream",
     "text": [
      "/home/wsl2ubuntuuser/.virtualenvs/nomination_predictor/lib/python3.12/site-packages/sklearn/preprocessing/_encoders.py:246: UserWarning: Found unknown categories in columns [4, 9, 11, 12, 17, 19, 21] during transform. These unknown categories will be encoded as all zeros\n",
      "  warnings.warn(\n"
     ]
    },
    {
     "name": "stdout",
     "output_type": "stream",
     "text": [
      "[CV] END model__colsample_bytree=0.7, model__gamma=0.3, model__learning_rate=0.001, model__max_depth=9, model__min_child_weight=8, model__n_estimators=1000, model__reg_alpha=0.6, model__reg_lambda=0.4, model__subsample=1.0; total time=  11.7s\n"
     ]
    },
    {
     "name": "stderr",
     "output_type": "stream",
     "text": [
      "/home/wsl2ubuntuuser/.virtualenvs/nomination_predictor/lib/python3.12/site-packages/sklearn/preprocessing/_encoders.py:246: UserWarning: Found unknown categories in columns [1, 4, 9, 12, 17, 19] during transform. These unknown categories will be encoded as all zeros\n",
      "  warnings.warn(\n"
     ]
    },
    {
     "name": "stdout",
     "output_type": "stream",
     "text": [
      "[CV] END model__colsample_bytree=0.7, model__gamma=0.3, model__learning_rate=0.001, model__max_depth=9, model__min_child_weight=8, model__n_estimators=1000, model__reg_alpha=0.6, model__reg_lambda=0.4, model__subsample=1.0; total time=  49.0s\n"
     ]
    },
    {
     "name": "stderr",
     "output_type": "stream",
     "text": [
      "/home/wsl2ubuntuuser/.virtualenvs/nomination_predictor/lib/python3.12/site-packages/sklearn/preprocessing/_encoders.py:246: UserWarning: Found unknown categories in columns [1, 4, 9, 12, 13, 17, 19, 21] during transform. These unknown categories will be encoded as all zeros\n",
      "  warnings.warn(\n"
     ]
    },
    {
     "name": "stdout",
     "output_type": "stream",
     "text": [
      "[CV] END model__colsample_bytree=0.675, model__gamma=0.4, model__learning_rate=0.001, model__max_depth=7, model__min_child_weight=8, model__n_estimators=500, model__reg_alpha=0.6, model__reg_lambda=0.6, model__subsample=1.0; total time= -32.4s\n"
     ]
    },
    {
     "name": "stderr",
     "output_type": "stream",
     "text": [
      "/home/wsl2ubuntuuser/.virtualenvs/nomination_predictor/lib/python3.12/site-packages/sklearn/preprocessing/_encoders.py:246: UserWarning: Found unknown categories in columns [4, 9, 11, 12, 13, 17, 19] during transform. These unknown categories will be encoded as all zeros\n",
      "  warnings.warn(\n"
     ]
    },
    {
     "name": "stdout",
     "output_type": "stream",
     "text": [
      "[CV] END model__colsample_bytree=0.675, model__gamma=0.4, model__learning_rate=0.001, model__max_depth=7, model__min_child_weight=8, model__n_estimators=500, model__reg_alpha=0.6, model__reg_lambda=0.6, model__subsample=1.0; total time=   4.1s\n"
     ]
    },
    {
     "name": "stderr",
     "output_type": "stream",
     "text": [
      "/home/wsl2ubuntuuser/.virtualenvs/nomination_predictor/lib/python3.12/site-packages/sklearn/preprocessing/_encoders.py:246: UserWarning: Found unknown categories in columns [0, 4, 9, 12, 17, 19, 21] during transform. These unknown categories will be encoded as all zeros\n",
      "  warnings.warn(\n"
     ]
    },
    {
     "name": "stdout",
     "output_type": "stream",
     "text": [
      "[CV] END model__colsample_bytree=0.675, model__gamma=0.4, model__learning_rate=0.001, model__max_depth=7, model__min_child_weight=8, model__n_estimators=500, model__reg_alpha=0.6, model__reg_lambda=0.6, model__subsample=1.0; total time=   4.6s\n"
     ]
    },
    {
     "name": "stderr",
     "output_type": "stream",
     "text": [
      "/home/wsl2ubuntuuser/.virtualenvs/nomination_predictor/lib/python3.12/site-packages/sklearn/preprocessing/_encoders.py:246: UserWarning: Found unknown categories in columns [4, 9, 11, 12, 17, 19, 21] during transform. These unknown categories will be encoded as all zeros\n",
      "  warnings.warn(\n"
     ]
    },
    {
     "name": "stdout",
     "output_type": "stream",
     "text": [
      "[CV] END model__colsample_bytree=0.675, model__gamma=0.4, model__learning_rate=0.001, model__max_depth=7, model__min_child_weight=8, model__n_estimators=500, model__reg_alpha=0.6, model__reg_lambda=0.6, model__subsample=1.0; total time=   4.9s\n"
     ]
    },
    {
     "name": "stderr",
     "output_type": "stream",
     "text": [
      "/home/wsl2ubuntuuser/.virtualenvs/nomination_predictor/lib/python3.12/site-packages/sklearn/preprocessing/_encoders.py:246: UserWarning: Found unknown categories in columns [1, 4, 9, 12, 17, 19] during transform. These unknown categories will be encoded as all zeros\n",
      "  warnings.warn(\n"
     ]
    },
    {
     "name": "stdout",
     "output_type": "stream",
     "text": [
      "[CV] END model__colsample_bytree=0.675, model__gamma=0.4, model__learning_rate=0.001, model__max_depth=7, model__min_child_weight=8, model__n_estimators=500, model__reg_alpha=0.6, model__reg_lambda=0.6, model__subsample=1.0; total time=   5.1s\n"
     ]
    },
    {
     "name": "stderr",
     "output_type": "stream",
     "text": [
      "/home/wsl2ubuntuuser/.virtualenvs/nomination_predictor/lib/python3.12/site-packages/sklearn/preprocessing/_encoders.py:246: UserWarning: Found unknown categories in columns [1, 4, 9, 12, 13, 17, 19, 21] during transform. These unknown categories will be encoded as all zeros\n",
      "  warnings.warn(\n"
     ]
    },
    {
     "name": "stdout",
     "output_type": "stream",
     "text": [
      "[CV] END model__colsample_bytree=0.675, model__gamma=0.3, model__learning_rate=0.001, model__max_depth=8, model__min_child_weight=12, model__n_estimators=1000, model__reg_alpha=1.0, model__reg_lambda=0.5, model__subsample=1.0; total time=  11.5s\n"
     ]
    },
    {
     "name": "stderr",
     "output_type": "stream",
     "text": [
      "/home/wsl2ubuntuuser/.virtualenvs/nomination_predictor/lib/python3.12/site-packages/sklearn/preprocessing/_encoders.py:246: UserWarning: Found unknown categories in columns [4, 9, 11, 12, 13, 17, 19] during transform. These unknown categories will be encoded as all zeros\n",
      "  warnings.warn(\n"
     ]
    },
    {
     "name": "stdout",
     "output_type": "stream",
     "text": [
      "[CV] END model__colsample_bytree=0.675, model__gamma=0.3, model__learning_rate=0.001, model__max_depth=8, model__min_child_weight=12, model__n_estimators=1000, model__reg_alpha=1.0, model__reg_lambda=0.5, model__subsample=1.0; total time=  11.6s\n"
     ]
    },
    {
     "name": "stderr",
     "output_type": "stream",
     "text": [
      "/home/wsl2ubuntuuser/.virtualenvs/nomination_predictor/lib/python3.12/site-packages/sklearn/preprocessing/_encoders.py:246: UserWarning: Found unknown categories in columns [0, 4, 9, 12, 17, 19, 21] during transform. These unknown categories will be encoded as all zeros\n",
      "  warnings.warn(\n"
     ]
    },
    {
     "name": "stdout",
     "output_type": "stream",
     "text": [
      "[CV] END model__colsample_bytree=0.675, model__gamma=0.3, model__learning_rate=0.001, model__max_depth=8, model__min_child_weight=12, model__n_estimators=1000, model__reg_alpha=1.0, model__reg_lambda=0.5, model__subsample=1.0; total time=  11.6s\n"
     ]
    },
    {
     "name": "stderr",
     "output_type": "stream",
     "text": [
      "/home/wsl2ubuntuuser/.virtualenvs/nomination_predictor/lib/python3.12/site-packages/sklearn/preprocessing/_encoders.py:246: UserWarning: Found unknown categories in columns [4, 9, 11, 12, 17, 19, 21] during transform. These unknown categories will be encoded as all zeros\n",
      "  warnings.warn(\n"
     ]
    },
    {
     "name": "stdout",
     "output_type": "stream",
     "text": [
      "[CV] END model__colsample_bytree=0.675, model__gamma=0.3, model__learning_rate=0.001, model__max_depth=8, model__min_child_weight=12, model__n_estimators=1000, model__reg_alpha=1.0, model__reg_lambda=0.5, model__subsample=1.0; total time=   9.8s\n"
     ]
    },
    {
     "name": "stderr",
     "output_type": "stream",
     "text": [
      "/home/wsl2ubuntuuser/.virtualenvs/nomination_predictor/lib/python3.12/site-packages/sklearn/preprocessing/_encoders.py:246: UserWarning: Found unknown categories in columns [1, 4, 9, 12, 17, 19] during transform. These unknown categories will be encoded as all zeros\n",
      "  warnings.warn(\n"
     ]
    },
    {
     "name": "stdout",
     "output_type": "stream",
     "text": [
      "[CV] END model__colsample_bytree=0.675, model__gamma=0.3, model__learning_rate=0.001, model__max_depth=8, model__min_child_weight=12, model__n_estimators=1000, model__reg_alpha=1.0, model__reg_lambda=0.5, model__subsample=1.0; total time=   9.8s\n"
     ]
    },
    {
     "name": "stderr",
     "output_type": "stream",
     "text": [
      "/home/wsl2ubuntuuser/.virtualenvs/nomination_predictor/lib/python3.12/site-packages/sklearn/preprocessing/_encoders.py:246: UserWarning: Found unknown categories in columns [1, 4, 9, 12, 13, 17, 19, 21] during transform. These unknown categories will be encoded as all zeros\n",
      "  warnings.warn(\n"
     ]
    },
    {
     "name": "stdout",
     "output_type": "stream",
     "text": [
      "[CV] END model__colsample_bytree=0.75, model__gamma=0.2, model__learning_rate=0.001, model__max_depth=10, model__min_child_weight=9, model__n_estimators=100, model__reg_alpha=0.6, model__reg_lambda=0.25, model__subsample=0.975; total time=   1.5s\n"
     ]
    },
    {
     "name": "stderr",
     "output_type": "stream",
     "text": [
      "/home/wsl2ubuntuuser/.virtualenvs/nomination_predictor/lib/python3.12/site-packages/sklearn/preprocessing/_encoders.py:246: UserWarning: Found unknown categories in columns [4, 9, 11, 12, 13, 17, 19] during transform. These unknown categories will be encoded as all zeros\n",
      "  warnings.warn(\n"
     ]
    },
    {
     "name": "stdout",
     "output_type": "stream",
     "text": [
      "[CV] END model__colsample_bytree=0.75, model__gamma=0.2, model__learning_rate=0.001, model__max_depth=10, model__min_child_weight=9, model__n_estimators=100, model__reg_alpha=0.6, model__reg_lambda=0.25, model__subsample=0.975; total time=   1.7s\n"
     ]
    },
    {
     "name": "stderr",
     "output_type": "stream",
     "text": [
      "/home/wsl2ubuntuuser/.virtualenvs/nomination_predictor/lib/python3.12/site-packages/sklearn/preprocessing/_encoders.py:246: UserWarning: Found unknown categories in columns [0, 4, 9, 12, 17, 19, 21] during transform. These unknown categories will be encoded as all zeros\n",
      "  warnings.warn(\n"
     ]
    },
    {
     "name": "stdout",
     "output_type": "stream",
     "text": [
      "[CV] END model__colsample_bytree=0.75, model__gamma=0.2, model__learning_rate=0.001, model__max_depth=10, model__min_child_weight=9, model__n_estimators=100, model__reg_alpha=0.6, model__reg_lambda=0.25, model__subsample=0.975; total time=   1.7s\n"
     ]
    },
    {
     "name": "stderr",
     "output_type": "stream",
     "text": [
      "/home/wsl2ubuntuuser/.virtualenvs/nomination_predictor/lib/python3.12/site-packages/sklearn/preprocessing/_encoders.py:246: UserWarning: Found unknown categories in columns [4, 9, 11, 12, 17, 19, 21] during transform. These unknown categories will be encoded as all zeros\n",
      "  warnings.warn(\n"
     ]
    },
    {
     "name": "stdout",
     "output_type": "stream",
     "text": [
      "[CV] END model__colsample_bytree=0.75, model__gamma=0.2, model__learning_rate=0.001, model__max_depth=10, model__min_child_weight=9, model__n_estimators=100, model__reg_alpha=0.6, model__reg_lambda=0.25, model__subsample=0.975; total time=   1.8s\n"
     ]
    },
    {
     "name": "stderr",
     "output_type": "stream",
     "text": [
      "/home/wsl2ubuntuuser/.virtualenvs/nomination_predictor/lib/python3.12/site-packages/sklearn/preprocessing/_encoders.py:246: UserWarning: Found unknown categories in columns [1, 4, 9, 12, 17, 19] during transform. These unknown categories will be encoded as all zeros\n",
      "  warnings.warn(\n"
     ]
    },
    {
     "name": "stdout",
     "output_type": "stream",
     "text": [
      "[CV] END model__colsample_bytree=0.75, model__gamma=0.2, model__learning_rate=0.001, model__max_depth=10, model__min_child_weight=9, model__n_estimators=100, model__reg_alpha=0.6, model__reg_lambda=0.25, model__subsample=0.975; total time=   1.6s\n"
     ]
    },
    {
     "name": "stderr",
     "output_type": "stream",
     "text": [
      "/home/wsl2ubuntuuser/.virtualenvs/nomination_predictor/lib/python3.12/site-packages/sklearn/preprocessing/_encoders.py:246: UserWarning: Found unknown categories in columns [1, 4, 9, 12, 13, 17, 19, 21] during transform. These unknown categories will be encoded as all zeros\n",
      "  warnings.warn(\n"
     ]
    },
    {
     "name": "stdout",
     "output_type": "stream",
     "text": [
      "[CV] END model__colsample_bytree=0.675, model__gamma=0.35, model__learning_rate=0.001, model__max_depth=7, model__min_child_weight=12, model__n_estimators=1500, model__reg_alpha=0.6, model__reg_lambda=0.5, model__subsample=1.0; total time=  12.9s\n"
     ]
    },
    {
     "name": "stderr",
     "output_type": "stream",
     "text": [
      "/home/wsl2ubuntuuser/.virtualenvs/nomination_predictor/lib/python3.12/site-packages/sklearn/preprocessing/_encoders.py:246: UserWarning: Found unknown categories in columns [4, 9, 11, 12, 13, 17, 19] during transform. These unknown categories will be encoded as all zeros\n",
      "  warnings.warn(\n"
     ]
    },
    {
     "name": "stdout",
     "output_type": "stream",
     "text": [
      "[CV] END model__colsample_bytree=0.675, model__gamma=0.35, model__learning_rate=0.001, model__max_depth=7, model__min_child_weight=12, model__n_estimators=1500, model__reg_alpha=0.6, model__reg_lambda=0.5, model__subsample=1.0; total time=  11.8s\n"
     ]
    },
    {
     "name": "stderr",
     "output_type": "stream",
     "text": [
      "/home/wsl2ubuntuuser/.virtualenvs/nomination_predictor/lib/python3.12/site-packages/sklearn/preprocessing/_encoders.py:246: UserWarning: Found unknown categories in columns [0, 4, 9, 12, 17, 19, 21] during transform. These unknown categories will be encoded as all zeros\n",
      "  warnings.warn(\n"
     ]
    },
    {
     "name": "stdout",
     "output_type": "stream",
     "text": [
      "[CV] END model__colsample_bytree=0.675, model__gamma=0.35, model__learning_rate=0.001, model__max_depth=7, model__min_child_weight=12, model__n_estimators=1500, model__reg_alpha=0.6, model__reg_lambda=0.5, model__subsample=1.0; total time=  12.4s\n"
     ]
    },
    {
     "name": "stderr",
     "output_type": "stream",
     "text": [
      "/home/wsl2ubuntuuser/.virtualenvs/nomination_predictor/lib/python3.12/site-packages/sklearn/preprocessing/_encoders.py:246: UserWarning: Found unknown categories in columns [4, 9, 11, 12, 17, 19, 21] during transform. These unknown categories will be encoded as all zeros\n",
      "  warnings.warn(\n"
     ]
    },
    {
     "name": "stdout",
     "output_type": "stream",
     "text": [
      "[CV] END model__colsample_bytree=0.675, model__gamma=0.35, model__learning_rate=0.001, model__max_depth=7, model__min_child_weight=12, model__n_estimators=1500, model__reg_alpha=0.6, model__reg_lambda=0.5, model__subsample=1.0; total time=  12.7s\n"
     ]
    },
    {
     "name": "stderr",
     "output_type": "stream",
     "text": [
      "/home/wsl2ubuntuuser/.virtualenvs/nomination_predictor/lib/python3.12/site-packages/sklearn/preprocessing/_encoders.py:246: UserWarning: Found unknown categories in columns [1, 4, 9, 12, 17, 19] during transform. These unknown categories will be encoded as all zeros\n",
      "  warnings.warn(\n"
     ]
    },
    {
     "name": "stdout",
     "output_type": "stream",
     "text": [
      "[CV] END model__colsample_bytree=0.675, model__gamma=0.35, model__learning_rate=0.001, model__max_depth=7, model__min_child_weight=12, model__n_estimators=1500, model__reg_alpha=0.6, model__reg_lambda=0.5, model__subsample=1.0; total time=  12.4s\n"
     ]
    },
    {
     "name": "stderr",
     "output_type": "stream",
     "text": [
      "/home/wsl2ubuntuuser/.virtualenvs/nomination_predictor/lib/python3.12/site-packages/sklearn/preprocessing/_encoders.py:246: UserWarning: Found unknown categories in columns [1, 4, 9, 12, 13, 17, 19, 21] during transform. These unknown categories will be encoded as all zeros\n",
      "  warnings.warn(\n"
     ]
    },
    {
     "name": "stdout",
     "output_type": "stream",
     "text": [
      "[CV] END model__colsample_bytree=0.7, model__gamma=0.2, model__learning_rate=0.001, model__max_depth=9, model__min_child_weight=9, model__n_estimators=1000, model__reg_alpha=0.4, model__reg_lambda=0.4, model__subsample=0.95; total time=  10.3s\n"
     ]
    },
    {
     "name": "stderr",
     "output_type": "stream",
     "text": [
      "/home/wsl2ubuntuuser/.virtualenvs/nomination_predictor/lib/python3.12/site-packages/sklearn/preprocessing/_encoders.py:246: UserWarning: Found unknown categories in columns [4, 9, 11, 12, 13, 17, 19] during transform. These unknown categories will be encoded as all zeros\n",
      "  warnings.warn(\n"
     ]
    },
    {
     "name": "stdout",
     "output_type": "stream",
     "text": [
      "[CV] END model__colsample_bytree=0.7, model__gamma=0.2, model__learning_rate=0.001, model__max_depth=9, model__min_child_weight=9, model__n_estimators=1000, model__reg_alpha=0.4, model__reg_lambda=0.4, model__subsample=0.95; total time=  11.5s\n"
     ]
    },
    {
     "name": "stderr",
     "output_type": "stream",
     "text": [
      "/home/wsl2ubuntuuser/.virtualenvs/nomination_predictor/lib/python3.12/site-packages/sklearn/preprocessing/_encoders.py:246: UserWarning: Found unknown categories in columns [0, 4, 9, 12, 17, 19, 21] during transform. These unknown categories will be encoded as all zeros\n",
      "  warnings.warn(\n"
     ]
    },
    {
     "name": "stdout",
     "output_type": "stream",
     "text": [
      "[CV] END model__colsample_bytree=0.7, model__gamma=0.2, model__learning_rate=0.001, model__max_depth=9, model__min_child_weight=9, model__n_estimators=1000, model__reg_alpha=0.4, model__reg_lambda=0.4, model__subsample=0.95; total time=  10.1s\n"
     ]
    },
    {
     "name": "stderr",
     "output_type": "stream",
     "text": [
      "/home/wsl2ubuntuuser/.virtualenvs/nomination_predictor/lib/python3.12/site-packages/sklearn/preprocessing/_encoders.py:246: UserWarning: Found unknown categories in columns [4, 9, 11, 12, 17, 19, 21] during transform. These unknown categories will be encoded as all zeros\n",
      "  warnings.warn(\n"
     ]
    },
    {
     "name": "stdout",
     "output_type": "stream",
     "text": [
      "[CV] END model__colsample_bytree=0.7, model__gamma=0.2, model__learning_rate=0.001, model__max_depth=9, model__min_child_weight=9, model__n_estimators=1000, model__reg_alpha=0.4, model__reg_lambda=0.4, model__subsample=0.95; total time=  11.5s\n"
     ]
    },
    {
     "name": "stderr",
     "output_type": "stream",
     "text": [
      "/home/wsl2ubuntuuser/.virtualenvs/nomination_predictor/lib/python3.12/site-packages/sklearn/preprocessing/_encoders.py:246: UserWarning: Found unknown categories in columns [1, 4, 9, 12, 17, 19] during transform. These unknown categories will be encoded as all zeros\n",
      "  warnings.warn(\n"
     ]
    },
    {
     "name": "stdout",
     "output_type": "stream",
     "text": [
      "[CV] END model__colsample_bytree=0.7, model__gamma=0.2, model__learning_rate=0.001, model__max_depth=9, model__min_child_weight=9, model__n_estimators=1000, model__reg_alpha=0.4, model__reg_lambda=0.4, model__subsample=0.95; total time=  11.4s\n"
     ]
    },
    {
     "name": "stderr",
     "output_type": "stream",
     "text": [
      "/home/wsl2ubuntuuser/.virtualenvs/nomination_predictor/lib/python3.12/site-packages/sklearn/preprocessing/_encoders.py:246: UserWarning: Found unknown categories in columns [1, 4, 9, 12, 13, 17, 19, 21] during transform. These unknown categories will be encoded as all zeros\n",
      "  warnings.warn(\n"
     ]
    },
    {
     "name": "stdout",
     "output_type": "stream",
     "text": [
      "[CV] END model__colsample_bytree=0.65, model__gamma=0.3, model__learning_rate=0.001, model__max_depth=9, model__min_child_weight=10, model__n_estimators=100, model__reg_alpha=0.6, model__reg_lambda=1.0, model__subsample=1.0; total time=   1.2s\n"
     ]
    },
    {
     "name": "stderr",
     "output_type": "stream",
     "text": [
      "/home/wsl2ubuntuuser/.virtualenvs/nomination_predictor/lib/python3.12/site-packages/sklearn/preprocessing/_encoders.py:246: UserWarning: Found unknown categories in columns [4, 9, 11, 12, 13, 17, 19] during transform. These unknown categories will be encoded as all zeros\n",
      "  warnings.warn(\n"
     ]
    },
    {
     "name": "stdout",
     "output_type": "stream",
     "text": [
      "[CV] END model__colsample_bytree=0.65, model__gamma=0.3, model__learning_rate=0.001, model__max_depth=9, model__min_child_weight=10, model__n_estimators=100, model__reg_alpha=0.6, model__reg_lambda=1.0, model__subsample=1.0; total time=   1.1s\n"
     ]
    },
    {
     "name": "stderr",
     "output_type": "stream",
     "text": [
      "/home/wsl2ubuntuuser/.virtualenvs/nomination_predictor/lib/python3.12/site-packages/sklearn/preprocessing/_encoders.py:246: UserWarning: Found unknown categories in columns [0, 4, 9, 12, 17, 19, 21] during transform. These unknown categories will be encoded as all zeros\n",
      "  warnings.warn(\n"
     ]
    },
    {
     "name": "stdout",
     "output_type": "stream",
     "text": [
      "[CV] END model__colsample_bytree=0.65, model__gamma=0.3, model__learning_rate=0.001, model__max_depth=9, model__min_child_weight=10, model__n_estimators=100, model__reg_alpha=0.6, model__reg_lambda=1.0, model__subsample=1.0; total time=   1.1s\n"
     ]
    },
    {
     "name": "stderr",
     "output_type": "stream",
     "text": [
      "/home/wsl2ubuntuuser/.virtualenvs/nomination_predictor/lib/python3.12/site-packages/sklearn/preprocessing/_encoders.py:246: UserWarning: Found unknown categories in columns [4, 9, 11, 12, 17, 19, 21] during transform. These unknown categories will be encoded as all zeros\n",
      "  warnings.warn(\n"
     ]
    },
    {
     "name": "stdout",
     "output_type": "stream",
     "text": [
      "[CV] END model__colsample_bytree=0.65, model__gamma=0.3, model__learning_rate=0.001, model__max_depth=9, model__min_child_weight=10, model__n_estimators=100, model__reg_alpha=0.6, model__reg_lambda=1.0, model__subsample=1.0; total time=   1.1s\n"
     ]
    },
    {
     "name": "stderr",
     "output_type": "stream",
     "text": [
      "/home/wsl2ubuntuuser/.virtualenvs/nomination_predictor/lib/python3.12/site-packages/sklearn/preprocessing/_encoders.py:246: UserWarning: Found unknown categories in columns [1, 4, 9, 12, 17, 19] during transform. These unknown categories will be encoded as all zeros\n",
      "  warnings.warn(\n"
     ]
    },
    {
     "name": "stdout",
     "output_type": "stream",
     "text": [
      "[CV] END model__colsample_bytree=0.65, model__gamma=0.3, model__learning_rate=0.001, model__max_depth=9, model__min_child_weight=10, model__n_estimators=100, model__reg_alpha=0.6, model__reg_lambda=1.0, model__subsample=1.0; total time=   1.2s\n"
     ]
    },
    {
     "name": "stderr",
     "output_type": "stream",
     "text": [
      "/home/wsl2ubuntuuser/.virtualenvs/nomination_predictor/lib/python3.12/site-packages/sklearn/preprocessing/_encoders.py:246: UserWarning: Found unknown categories in columns [1, 4, 9, 12, 13, 17, 19, 21] during transform. These unknown categories will be encoded as all zeros\n",
      "  warnings.warn(\n"
     ]
    },
    {
     "name": "stdout",
     "output_type": "stream",
     "text": [
      "[CV] END model__colsample_bytree=0.75, model__gamma=0.25, model__learning_rate=0.001, model__max_depth=10, model__min_child_weight=12, model__n_estimators=1500, model__reg_alpha=1.0, model__reg_lambda=0.5, model__subsample=0.95; total time=  17.6s\n"
     ]
    },
    {
     "name": "stderr",
     "output_type": "stream",
     "text": [
      "/home/wsl2ubuntuuser/.virtualenvs/nomination_predictor/lib/python3.12/site-packages/sklearn/preprocessing/_encoders.py:246: UserWarning: Found unknown categories in columns [4, 9, 11, 12, 13, 17, 19] during transform. These unknown categories will be encoded as all zeros\n",
      "  warnings.warn(\n"
     ]
    },
    {
     "name": "stdout",
     "output_type": "stream",
     "text": [
      "[CV] END model__colsample_bytree=0.75, model__gamma=0.25, model__learning_rate=0.001, model__max_depth=10, model__min_child_weight=12, model__n_estimators=1500, model__reg_alpha=1.0, model__reg_lambda=0.5, model__subsample=0.95; total time=  16.7s\n"
     ]
    },
    {
     "name": "stderr",
     "output_type": "stream",
     "text": [
      "/home/wsl2ubuntuuser/.virtualenvs/nomination_predictor/lib/python3.12/site-packages/sklearn/preprocessing/_encoders.py:246: UserWarning: Found unknown categories in columns [0, 4, 9, 12, 17, 19, 21] during transform. These unknown categories will be encoded as all zeros\n",
      "  warnings.warn(\n"
     ]
    },
    {
     "name": "stdout",
     "output_type": "stream",
     "text": [
      "[CV] END model__colsample_bytree=0.75, model__gamma=0.25, model__learning_rate=0.001, model__max_depth=10, model__min_child_weight=12, model__n_estimators=1500, model__reg_alpha=1.0, model__reg_lambda=0.5, model__subsample=0.95; total time=  18.1s\n"
     ]
    },
    {
     "name": "stderr",
     "output_type": "stream",
     "text": [
      "/home/wsl2ubuntuuser/.virtualenvs/nomination_predictor/lib/python3.12/site-packages/sklearn/preprocessing/_encoders.py:246: UserWarning: Found unknown categories in columns [4, 9, 11, 12, 17, 19, 21] during transform. These unknown categories will be encoded as all zeros\n",
      "  warnings.warn(\n"
     ]
    },
    {
     "name": "stdout",
     "output_type": "stream",
     "text": [
      "[CV] END model__colsample_bytree=0.75, model__gamma=0.25, model__learning_rate=0.001, model__max_depth=10, model__min_child_weight=12, model__n_estimators=1500, model__reg_alpha=1.0, model__reg_lambda=0.5, model__subsample=0.95; total time=  20.0s\n"
     ]
    },
    {
     "name": "stderr",
     "output_type": "stream",
     "text": [
      "/home/wsl2ubuntuuser/.virtualenvs/nomination_predictor/lib/python3.12/site-packages/sklearn/preprocessing/_encoders.py:246: UserWarning: Found unknown categories in columns [1, 4, 9, 12, 17, 19] during transform. These unknown categories will be encoded as all zeros\n",
      "  warnings.warn(\n"
     ]
    },
    {
     "name": "stdout",
     "output_type": "stream",
     "text": [
      "[CV] END model__colsample_bytree=0.75, model__gamma=0.25, model__learning_rate=0.001, model__max_depth=10, model__min_child_weight=12, model__n_estimators=1500, model__reg_alpha=1.0, model__reg_lambda=0.5, model__subsample=0.95; total time=  22.6s\n"
     ]
    },
    {
     "name": "stderr",
     "output_type": "stream",
     "text": [
      "/home/wsl2ubuntuuser/.virtualenvs/nomination_predictor/lib/python3.12/site-packages/sklearn/preprocessing/_encoders.py:246: UserWarning: Found unknown categories in columns [1, 4, 9, 12, 13, 17, 19, 21] during transform. These unknown categories will be encoded as all zeros\n",
      "  warnings.warn(\n"
     ]
    },
    {
     "name": "stdout",
     "output_type": "stream",
     "text": [
      "[CV] END model__colsample_bytree=0.7, model__gamma=0.25, model__learning_rate=0.02, model__max_depth=8, model__min_child_weight=12, model__n_estimators=1500, model__reg_alpha=0.25, model__reg_lambda=0.4, model__subsample=0.975; total time=  16.3s\n"
     ]
    },
    {
     "name": "stderr",
     "output_type": "stream",
     "text": [
      "/home/wsl2ubuntuuser/.virtualenvs/nomination_predictor/lib/python3.12/site-packages/sklearn/preprocessing/_encoders.py:246: UserWarning: Found unknown categories in columns [4, 9, 11, 12, 13, 17, 19] during transform. These unknown categories will be encoded as all zeros\n",
      "  warnings.warn(\n"
     ]
    },
    {
     "name": "stdout",
     "output_type": "stream",
     "text": [
      "[CV] END model__colsample_bytree=0.7, model__gamma=0.25, model__learning_rate=0.02, model__max_depth=8, model__min_child_weight=12, model__n_estimators=1500, model__reg_alpha=0.25, model__reg_lambda=0.4, model__subsample=0.975; total time=  11.6s\n"
     ]
    },
    {
     "name": "stderr",
     "output_type": "stream",
     "text": [
      "/home/wsl2ubuntuuser/.virtualenvs/nomination_predictor/lib/python3.12/site-packages/sklearn/preprocessing/_encoders.py:246: UserWarning: Found unknown categories in columns [0, 4, 9, 12, 17, 19, 21] during transform. These unknown categories will be encoded as all zeros\n",
      "  warnings.warn(\n"
     ]
    },
    {
     "name": "stdout",
     "output_type": "stream",
     "text": [
      "[CV] END model__colsample_bytree=0.7, model__gamma=0.25, model__learning_rate=0.02, model__max_depth=8, model__min_child_weight=12, model__n_estimators=1500, model__reg_alpha=0.25, model__reg_lambda=0.4, model__subsample=0.975; total time=  11.4s\n"
     ]
    },
    {
     "name": "stderr",
     "output_type": "stream",
     "text": [
      "/home/wsl2ubuntuuser/.virtualenvs/nomination_predictor/lib/python3.12/site-packages/sklearn/preprocessing/_encoders.py:246: UserWarning: Found unknown categories in columns [4, 9, 11, 12, 17, 19, 21] during transform. These unknown categories will be encoded as all zeros\n",
      "  warnings.warn(\n"
     ]
    },
    {
     "name": "stdout",
     "output_type": "stream",
     "text": [
      "[CV] END model__colsample_bytree=0.7, model__gamma=0.25, model__learning_rate=0.02, model__max_depth=8, model__min_child_weight=12, model__n_estimators=1500, model__reg_alpha=0.25, model__reg_lambda=0.4, model__subsample=0.975; total time=  12.2s\n"
     ]
    },
    {
     "name": "stderr",
     "output_type": "stream",
     "text": [
      "/home/wsl2ubuntuuser/.virtualenvs/nomination_predictor/lib/python3.12/site-packages/sklearn/preprocessing/_encoders.py:246: UserWarning: Found unknown categories in columns [1, 4, 9, 12, 17, 19] during transform. These unknown categories will be encoded as all zeros\n",
      "  warnings.warn(\n"
     ]
    },
    {
     "name": "stdout",
     "output_type": "stream",
     "text": [
      "[CV] END model__colsample_bytree=0.7, model__gamma=0.25, model__learning_rate=0.02, model__max_depth=8, model__min_child_weight=12, model__n_estimators=1500, model__reg_alpha=0.25, model__reg_lambda=0.4, model__subsample=0.975; total time=  11.4s\n"
     ]
    },
    {
     "name": "stderr",
     "output_type": "stream",
     "text": [
      "/home/wsl2ubuntuuser/.virtualenvs/nomination_predictor/lib/python3.12/site-packages/sklearn/preprocessing/_encoders.py:246: UserWarning: Found unknown categories in columns [1, 4, 9, 12, 13, 17, 19, 21] during transform. These unknown categories will be encoded as all zeros\n",
      "  warnings.warn(\n"
     ]
    },
    {
     "name": "stdout",
     "output_type": "stream",
     "text": [
      "[CV] END model__colsample_bytree=0.65, model__gamma=0.35, model__learning_rate=0.001, model__max_depth=11, model__min_child_weight=9, model__n_estimators=1500, model__reg_alpha=1.0, model__reg_lambda=1.0, model__subsample=0.95; total time=  19.1s\n"
     ]
    },
    {
     "name": "stderr",
     "output_type": "stream",
     "text": [
      "/home/wsl2ubuntuuser/.virtualenvs/nomination_predictor/lib/python3.12/site-packages/sklearn/preprocessing/_encoders.py:246: UserWarning: Found unknown categories in columns [4, 9, 11, 12, 13, 17, 19] during transform. These unknown categories will be encoded as all zeros\n",
      "  warnings.warn(\n"
     ]
    },
    {
     "name": "stdout",
     "output_type": "stream",
     "text": [
      "[CV] END model__colsample_bytree=0.65, model__gamma=0.35, model__learning_rate=0.001, model__max_depth=11, model__min_child_weight=9, model__n_estimators=1500, model__reg_alpha=1.0, model__reg_lambda=1.0, model__subsample=0.95; total time=  19.0s\n"
     ]
    },
    {
     "name": "stderr",
     "output_type": "stream",
     "text": [
      "/home/wsl2ubuntuuser/.virtualenvs/nomination_predictor/lib/python3.12/site-packages/sklearn/preprocessing/_encoders.py:246: UserWarning: Found unknown categories in columns [0, 4, 9, 12, 17, 19, 21] during transform. These unknown categories will be encoded as all zeros\n",
      "  warnings.warn(\n"
     ]
    },
    {
     "name": "stdout",
     "output_type": "stream",
     "text": [
      "[CV] END model__colsample_bytree=0.65, model__gamma=0.35, model__learning_rate=0.001, model__max_depth=11, model__min_child_weight=9, model__n_estimators=1500, model__reg_alpha=1.0, model__reg_lambda=1.0, model__subsample=0.95; total time=  23.2s\n"
     ]
    },
    {
     "name": "stderr",
     "output_type": "stream",
     "text": [
      "/home/wsl2ubuntuuser/.virtualenvs/nomination_predictor/lib/python3.12/site-packages/sklearn/preprocessing/_encoders.py:246: UserWarning: Found unknown categories in columns [4, 9, 11, 12, 17, 19, 21] during transform. These unknown categories will be encoded as all zeros\n",
      "  warnings.warn(\n"
     ]
    },
    {
     "name": "stdout",
     "output_type": "stream",
     "text": [
      "[CV] END model__colsample_bytree=0.65, model__gamma=0.35, model__learning_rate=0.001, model__max_depth=11, model__min_child_weight=9, model__n_estimators=1500, model__reg_alpha=1.0, model__reg_lambda=1.0, model__subsample=0.95; total time=  21.0s\n"
     ]
    },
    {
     "name": "stderr",
     "output_type": "stream",
     "text": [
      "/home/wsl2ubuntuuser/.virtualenvs/nomination_predictor/lib/python3.12/site-packages/sklearn/preprocessing/_encoders.py:246: UserWarning: Found unknown categories in columns [1, 4, 9, 12, 17, 19] during transform. These unknown categories will be encoded as all zeros\n",
      "  warnings.warn(\n"
     ]
    },
    {
     "name": "stdout",
     "output_type": "stream",
     "text": [
      "[CV] END model__colsample_bytree=0.65, model__gamma=0.35, model__learning_rate=0.001, model__max_depth=11, model__min_child_weight=9, model__n_estimators=1500, model__reg_alpha=1.0, model__reg_lambda=1.0, model__subsample=0.95; total time=  19.2s\n"
     ]
    },
    {
     "name": "stderr",
     "output_type": "stream",
     "text": [
      "/home/wsl2ubuntuuser/.virtualenvs/nomination_predictor/lib/python3.12/site-packages/sklearn/preprocessing/_encoders.py:246: UserWarning: Found unknown categories in columns [1, 4, 9, 12, 13, 17, 19, 21] during transform. These unknown categories will be encoded as all zeros\n",
      "  warnings.warn(\n"
     ]
    },
    {
     "name": "stdout",
     "output_type": "stream",
     "text": [
      "[CV] END model__colsample_bytree=0.675, model__gamma=0.4, model__learning_rate=0.01, model__max_depth=7, model__min_child_weight=9, model__n_estimators=1000, model__reg_alpha=0.5, model__reg_lambda=0.5, model__subsample=1.0; total time=   8.0s\n"
     ]
    },
    {
     "name": "stderr",
     "output_type": "stream",
     "text": [
      "/home/wsl2ubuntuuser/.virtualenvs/nomination_predictor/lib/python3.12/site-packages/sklearn/preprocessing/_encoders.py:246: UserWarning: Found unknown categories in columns [4, 9, 11, 12, 13, 17, 19] during transform. These unknown categories will be encoded as all zeros\n",
      "  warnings.warn(\n"
     ]
    },
    {
     "name": "stdout",
     "output_type": "stream",
     "text": [
      "[CV] END model__colsample_bytree=0.675, model__gamma=0.4, model__learning_rate=0.01, model__max_depth=7, model__min_child_weight=9, model__n_estimators=1000, model__reg_alpha=0.5, model__reg_lambda=0.5, model__subsample=1.0; total time=   8.4s\n"
     ]
    },
    {
     "name": "stderr",
     "output_type": "stream",
     "text": [
      "/home/wsl2ubuntuuser/.virtualenvs/nomination_predictor/lib/python3.12/site-packages/sklearn/preprocessing/_encoders.py:246: UserWarning: Found unknown categories in columns [0, 4, 9, 12, 17, 19, 21] during transform. These unknown categories will be encoded as all zeros\n",
      "  warnings.warn(\n"
     ]
    },
    {
     "name": "stdout",
     "output_type": "stream",
     "text": [
      "[CV] END model__colsample_bytree=0.675, model__gamma=0.4, model__learning_rate=0.01, model__max_depth=7, model__min_child_weight=9, model__n_estimators=1000, model__reg_alpha=0.5, model__reg_lambda=0.5, model__subsample=1.0; total time=   8.4s\n"
     ]
    },
    {
     "name": "stderr",
     "output_type": "stream",
     "text": [
      "/home/wsl2ubuntuuser/.virtualenvs/nomination_predictor/lib/python3.12/site-packages/sklearn/preprocessing/_encoders.py:246: UserWarning: Found unknown categories in columns [4, 9, 11, 12, 17, 19, 21] during transform. These unknown categories will be encoded as all zeros\n",
      "  warnings.warn(\n"
     ]
    },
    {
     "name": "stdout",
     "output_type": "stream",
     "text": [
      "[CV] END model__colsample_bytree=0.675, model__gamma=0.4, model__learning_rate=0.01, model__max_depth=7, model__min_child_weight=9, model__n_estimators=1000, model__reg_alpha=0.5, model__reg_lambda=0.5, model__subsample=1.0; total time=   7.7s\n"
     ]
    },
    {
     "name": "stderr",
     "output_type": "stream",
     "text": [
      "/home/wsl2ubuntuuser/.virtualenvs/nomination_predictor/lib/python3.12/site-packages/sklearn/preprocessing/_encoders.py:246: UserWarning: Found unknown categories in columns [1, 4, 9, 12, 17, 19] during transform. These unknown categories will be encoded as all zeros\n",
      "  warnings.warn(\n"
     ]
    },
    {
     "name": "stdout",
     "output_type": "stream",
     "text": [
      "[CV] END model__colsample_bytree=0.675, model__gamma=0.4, model__learning_rate=0.01, model__max_depth=7, model__min_child_weight=9, model__n_estimators=1000, model__reg_alpha=0.5, model__reg_lambda=0.5, model__subsample=1.0; total time=   8.2s\n",
      "✅ Stage 2 complete!\n",
      "📈 Best fine score: 42.62 MAE\n"
     ]
    }
   ],
   "source": [
    "print(f\"⏱️  Starting fine search...\")\n",
    "fine_search.fit(X_train, y_train)\n",
    "\n",
    "print(f\"✅ Stage 2 complete!\")\n",
    "print(f\"📈 Best fine score: {-fine_search.best_score_:.2f} MAE\")"
   ]
  },
  {
   "cell_type": "code",
   "execution_count": null,
   "id": "c6f0b860",
   "metadata": {},
   "outputs": [],
   "source": [
    "# 📊 Compare results\n",
    "coarse_score = -coarse_search.best_score_\n",
    "fine_score = -fine_search.best_score_\n",
    "improvement = ((coarse_score - fine_score) / coarse_score) * 100"
   ]
  },
  {
   "cell_type": "code",
   "execution_count": null,
   "id": "d4cc670b",
   "metadata": {},
   "outputs": [
    {
     "name": "stdout",
     "output_type": "stream",
     "text": [
      "\n",
      "🎯 MULTI-STAGE SEARCH RESULTS:\n",
      "==================================================\n",
      "  Coarse search best MAE: 44.08 days\n",
      "  Fine search best MAE:   42.62 days\n",
      "  🎉 Improvement: 3.3% (44.08 → 42.62)\n",
      "\n",
      "🏆 Final best parameters:\n",
      "  model__subsample: 0.975\n",
      "  model__reg_lambda: 0.25\n",
      "  model__reg_alpha: 0.6\n",
      "  model__n_estimators: 500\n",
      "  model__min_child_weight: 8\n",
      "  model__max_depth: 10\n",
      "  model__learning_rate: 0.02\n",
      "  model__gamma: 0.4\n",
      "  model__colsample_bytree: 0.675\n"
     ]
    }
   ],
   "source": [
    "print(f\"\\n🎯 MULTI-STAGE SEARCH RESULTS:\")\n",
    "print(f\"{'='*50}\")\n",
    "print(f\"  Coarse search best MAE: {coarse_score:.2f} days\")\n",
    "print(f\"  Fine search best MAE:   {fine_score:.2f} days\")\n",
    "if improvement > 0:\n",
    "    print(f\"  🎉 Improvement: {improvement:.1f}% ({coarse_score:.2f} → {fine_score:.2f})\")\n",
    "else:\n",
    "    print(f\"  📊 Change: {improvement:.1f}% (fine search: {fine_score:.2f})\")\n",
    "\n",
    "print(f\"\\n🏆 Final best parameters:\")\n",
    "for param, value in fine_search.best_params_.items():\n",
    "    print(f\"  {param}: {value}\")"
   ]
  },
  {
   "cell_type": "code",
   "execution_count": null,
   "id": "5af087f3",
   "metadata": {},
   "outputs": [
    {
     "name": "stdout",
     "output_type": "stream",
     "text": [
      "\n",
      "✅ Multi-stage hyperparameter optimization complete!\n",
      "🎯 Ready for final model evaluation...\n"
     ]
    }
   ],
   "source": [
    "# Use the best model from fine search for final evaluation\n",
    "best_model_final = fine_search.best_estimator_\n",
    "best_params_final = fine_search.best_params_\n",
    "\n",
    "print(f\"\\n✅ Multi-stage hyperparameter optimization complete!\")\n",
    "print(f\"🎯 Ready for final model evaluation...\")"
   ]
  },
  {
   "cell_type": "markdown",
   "id": "9f70c6d7",
   "metadata": {},
   "source": [
    "## Evaluating best model found"
   ]
  },
  {
   "cell_type": "code",
   "execution_count": null,
   "id": "70afa213",
   "metadata": {},
   "outputs": [
    {
     "name": "stdout",
     "output_type": "stream",
     "text": [
      "\u001b[32m2025-07-18 17:33:04.645\u001b[0m | \u001b[1mINFO    \u001b[0m | \u001b[36mnomination_predictor.modeling.predict\u001b[0m:\u001b[36mtrain_and_evaluate_model\u001b[0m:\u001b[36m46\u001b[0m - \u001b[1mTraining XGBoost Multi-Stage Tuned on 1424 samples, 43 features\u001b[0m\n"
     ]
    },
    {
     "name": "stderr",
     "output_type": "stream",
     "text": [
      "Training XGBoost Multi-Stage Tuned: 100%|██████████| 1/1 [00:04<00:00,  4.80s/it]\n"
     ]
    },
    {
     "name": "stdout",
     "output_type": "stream",
     "text": [
      "\u001b[32m2025-07-18 17:33:09.463\u001b[0m | \u001b[1mINFO    \u001b[0m | \u001b[36mnomination_predictor.modeling.predict\u001b[0m:\u001b[36mtrain_and_evaluate_model\u001b[0m:\u001b[36m58\u001b[0m - \u001b[1mTraining completed in 4.81 seconds\u001b[0m\n"
     ]
    },
    {
     "name": "stderr",
     "output_type": "stream",
     "text": [
      "Making predictions:  50%|█████     | 1/2 [00:00<00:00,  9.12it/s]/home/wsl2ubuntuuser/.virtualenvs/nomination_predictor/lib/python3.12/site-packages/sklearn/preprocessing/_encoders.py:246: UserWarning: Found unknown categories in columns [4, 9, 11, 12, 17, 19] during transform. These unknown categories will be encoded as all zeros\n",
      "  warnings.warn(\n",
      "Making predictions: 100%|██████████| 2/2 [00:00<00:00, 11.00it/s]\n"
     ]
    }
   ],
   "source": [
    "tuned_results = train_and_evaluate_model(\n",
    "    model=best_model_final,  # Use the best model from fine search\n",
    "    X_train=X_train,\n",
    "    X_test=X_test,\n",
    "    y_train=y_train,\n",
    "    y_test=y_test,\n",
    "    model_name=\"XGBoost Multi-Stage Tuned\",\n",
    "    show_progress=True\n",
    ")"
   ]
  },
  {
   "cell_type": "markdown",
   "id": "57682a53",
   "metadata": {},
   "source": [
    "## Saving and Reporting"
   ]
  },
  {
   "cell_type": "code",
   "execution_count": null,
   "id": "d8e3a0c3",
   "metadata": {},
   "outputs": [
    {
     "name": "stdout",
     "output_type": "stream",
     "text": [
      "\n",
      "============================================================\n",
      "📊 XGBOOST MULTI-STAGE TUNED EVALUATION RESULTS\n",
      "============================================================\n",
      "\n",
      "🎯 PERFORMANCE METRICS:\n",
      "  • Training MAE: 17.25 days\n",
      "  • Test MAE:     42.93 days\n",
      "  • Training R²:  0.9011\n",
      "  • Test R²:      0.4915\n",
      "  • Training time: 4.81 seconds\n",
      "\n",
      "===== Mean Absolute Error (MAE): 42.93 =====\n",
      "📊 GOOD: The model's predictions are typically within 60 days of the actual confirmation time.\n",
      "🔍 TAKEAWAY: The model provides valuable insights but has moderate error margins.\n",
      "\n",
      "===== R² Score: 0.4915 =====\n",
      "📊 FAIR: The model explains between 30-50% of the variance in confirmation times.\n",
      "🔍 TAKEAWAY: The model identifies some patterns but misses many important factors.\n",
      "\n",
      "===== Interpretation in Context =====\n",
      "• The average nomination takes 126 days to confirm\n",
      "• With a standard deviation of 85 days\n",
      "• Our model's error (MAE) is 43 days, which is 51% of the standard deviation\n",
      "• This means our model outperforms a baseline model that always predicts the average\n",
      "\n",
      "===== Recommended Next Steps =====\n",
      "1. Tune hyperparameters to optimize model performance\n",
      "2. Explore feature importance to understand key drivers\n",
      "3. Consider ensemble methods to improve predictions\n",
      "\n",
      "🔧 MODEL COMPLEXITY:\n",
      "Model complexity:\n",
      "  • Trees      : 500\n",
      "  • Leaf nodes : 0\n",
      "  • ‘Parameters’ (leaf weights) ≈ 0.000000 B\n",
      "\u001b[32m2025-07-18 17:33:09.761\u001b[0m | \u001b[1mINFO    \u001b[0m | \u001b[36mnomination_predictor.modeling.train\u001b[0m:\u001b[36msave_model_with_metadata\u001b[0m:\u001b[36m249\u001b[0m - \u001b[1mModel saved successfully to /home/wsl2ubuntuuser/nomination_predictor/models/xgboost_multi-stage_tuned_2025-07-18_173309.pkl\u001b[0m\n",
      "\u001b[32m2025-07-18 17:33:09.761\u001b[0m | \u001b[1mINFO    \u001b[0m | \u001b[36mnomination_predictor.modeling.train\u001b[0m:\u001b[36msave_model_with_metadata\u001b[0m:\u001b[36m250\u001b[0m - \u001b[1mModel metadata: xgboost_multi-stage_tuned with 43 features\u001b[0m\n",
      "\n",
      "💾 Model saved to: /home/wsl2ubuntuuser/nomination_predictor/models/xgboost_multi-stage_tuned_2025-07-18_173309.pkl\n"
     ]
    }
   ],
   "source": [
    "# Save and evaluate\n",
    "tuned_final = evaluate_and_report_model(\n",
    "    results=tuned_results,\n",
    "    y_train=y_train,\n",
    "    y_test=y_test,\n",
    "    model_name=\"XGBoost Multi-Stage Tuned\",\n",
    "    save_model=True,\n",
    "    hyperparameters=best_params_final\n",
    ")"
   ]
  },
  {
   "cell_type": "markdown",
   "id": "70096f6a",
   "metadata": {},
   "source": [
    "# Model comparison"
   ]
  },
  {
   "cell_type": "code",
   "execution_count": null,
   "id": "d869b893",
   "metadata": {},
   "outputs": [
    {
     "name": "stdout",
     "output_type": "stream",
     "text": [
      "\n",
      "================================================================================\n",
      "📊 MODEL COMPARISON\n",
      "================================================================================\n",
      "Model                Train MAE    Test MAE     Train R²   Test R²    Time (s)  \n",
      "--------------------------------------------------------------------------------\n",
      "XGBoost Baseline     10.46        47.05        0.9693     0.3599     3.31      \n",
      "XGBoost Multi-Stage Tuned 17.25        42.93        0.9011     0.4915     4.81      \n",
      "--------------------------------------------------------------------------------\n",
      "🏆 Best model: XGBoost Multi-Stage Tuned (Test MAE: 42.93 days)\n",
      "📈 Improvement over baseline: 8.8% (47.05 → 42.93 days)\n",
      "\n",
      "📁 SAVED MODELS:\n",
      "  • Baseline: /home/wsl2ubuntuuser/nomination_predictor/models/xgboost_baseline_2025-07-18_153054.pkl\n",
      "  • Tuned:    /home/wsl2ubuntuuser/nomination_predictor/models/xgboost_multi-stage_tuned_2025-07-18_173309.pkl\n",
      "\n",
      "🏷️ MODEL QUALITY ASSESSMENT:\n",
      "  • Baseline: good_performance\n",
      "  • Tuned:    good_performance\n",
      "\n",
      "🔍 TOP 10 MOST IMPORTANT FEATURES:\n",
      "   1. num__congress_num              0.0350\n",
      "   2. cat__appointing_president_Joseph R. Biden 0.0273\n",
      "   3. cat__appointing_president_Ronald Reagan 0.0239\n",
      "   4. cat__latestaction_is_div_opp_house_True 0.0191\n",
      "   5. cat__nomination_to_court_name_ninth circuit 0.0123\n",
      "   6. cat__latestaction_is_fully_div_True 0.0122\n",
      "   7. cat__seat_level_cong_recategorized_district 0.0119\n",
      "   8. cat__nominees_0_state_MI       0.0115\n",
      "   9. cat__received_in_senate_political_era_pre‑2013 0.0113\n",
      "  10. cat__seat_id_letters_only_MIED 0.0112\n"
     ]
    }
   ],
   "source": [
    "# Compare both models using our comparison function\n",
    "compare_models(\n",
    "    results_list=[baseline_results, tuned_results],\n",
    "    model_names=[\"XGBoost Baseline\", \"XGBoost Multi-Stage Tuned\"]\n",
    ")\n",
    "\n",
    "# Display model paths for reference\n",
    "print(f\"\\n📁 SAVED MODELS:\")\n",
    "print(f\"  • Baseline: {baseline_final['model_path']}\")\n",
    "print(f\"  • Tuned:    {tuned_final['model_path']}\")\n",
    "\n",
    "# Show interpretation categories\n",
    "print(f\"\\n🏷️ MODEL QUALITY ASSESSMENT:\")\n",
    "print(f\"  • Baseline: {baseline_final['interpretation']['overall_quality']}\")\n",
    "print(f\"  • Tuned:    {tuned_final['interpretation']['overall_quality']}\")\n",
    "\n",
    "# Feature importance analysis (if desired)\n",
    "best_model = tuned_final['model']\n",
    "if hasattr(best_model, 'feature_importances_') or hasattr(best_model[-1], 'feature_importances_'):\n",
    "    print(f\"\\n🔍 TOP 10 MOST IMPORTANT FEATURES:\")\n",
    "    \n",
    "    # Get feature names after preprocessing\n",
    "    feature_names = best_model[:-1].get_feature_names_out()\n",
    "    \n",
    "    # Get feature importances\n",
    "    if hasattr(best_model, 'feature_importances_'):\n",
    "        importances = best_model.feature_importances_\n",
    "    else:\n",
    "        importances = best_model[-1].feature_importances_\n",
    "    \n",
    "    # Create feature importance DataFrame\n",
    "    feature_importance_df = pd.DataFrame({\n",
    "        'feature': feature_names,\n",
    "        'importance': importances\n",
    "    }).sort_values('importance', ascending=False)\n",
    "    \n",
    "    # Display top 10\n",
    "    for i, (_, row) in enumerate(feature_importance_df.head(10).iterrows()):\n",
    "        print(f\"  {i+1:2d}. {row['feature']:<30} {row['importance']:.4f}\")"
   ]
  },
  {
   "cell_type": "markdown",
   "id": "e5324e6b",
   "metadata": {},
   "source": [
    "## Visualization"
   ]
  },
  {
   "cell_type": "code",
   "execution_count": 34,
   "id": "81d085e3",
   "metadata": {},
   "outputs": [
    {
     "data": {
      "image/png": "[encoded data removed]",
      "text/plain": [
       "<Figure size 1500x1200 with 4 Axes>"
      ]
     },
     "metadata": {},
     "output_type": "display_data"
    }
   ],
   "source": [
    "# Create visualizations\n",
    "fig, axes = plt.subplots(2, 2, figsize=(15, 12))\n",
    "\n",
    "# 1. Actual vs Predicted (Baseline)\n",
    "axes[0, 0].scatter(y_test, baseline_results['predictions']['y_test_pred'], alpha=0.6)\n",
    "axes[0, 0].plot([y_test.min(), y_test.max()], [y_test.min(), y_test.max()], 'r--', lw=2)\n",
    "axes[0, 0].set_xlabel('Actual Days')\n",
    "axes[0, 0].set_ylabel('Predicted Days')\n",
    "axes[0, 0].set_title(f'Baseline Model\\nMAE: {baseline_results[\"metrics\"][\"test_mae\"]:.2f} days')\n",
    "\n",
    "# 2. Actual vs Predicted (Tuned)\n",
    "axes[0, 1].scatter(y_test, tuned_results['predictions']['y_test_pred'], alpha=0.6)\n",
    "axes[0, 1].plot([y_test.min(), y_test.max()], [y_test.min(), y_test.max()], 'r--', lw=2)\n",
    "axes[0, 1].set_xlabel('Actual Days')\n",
    "axes[0, 1].set_ylabel('Predicted Days')\n",
    "axes[0, 1].set_title(f'Tuned Model\\nMAE: {tuned_results[\"metrics\"][\"test_mae\"]:.2f} days')\n",
    "\n",
    "# 3. Residuals (Baseline)\n",
    "baseline_residuals = y_test - baseline_results['predictions']['y_test_pred']\n",
    "axes[1, 0].scatter(baseline_results['predictions']['y_test_pred'], baseline_residuals, alpha=0.6)\n",
    "axes[1, 0].axhline(y=0, color='r', linestyle='--')\n",
    "axes[1, 0].set_xlabel('Predicted Days')\n",
    "axes[1, 0].set_ylabel('Residuals')\n",
    "axes[1, 0].set_title('Baseline Residuals')\n",
    "\n",
    "# 4. Residuals (Tuned)\n",
    "tuned_residuals = y_test - tuned_results['predictions']['y_test_pred']\n",
    "axes[1, 1].scatter(tuned_results['predictions']['y_test_pred'], tuned_residuals, alpha=0.6)\n",
    "axes[1, 1].axhline(y=0, color='r', linestyle='--')\n",
    "axes[1, 1].set_xlabel('Predicted Days')\n",
    "axes[1, 1].set_ylabel('Residuals')\n",
    "axes[1, 1].set_title('Tuned Residuals')\n",
    "\n",
    "plt.tight_layout()\n",
    "plt.show()"
   ]
  }
 ],
 "metadata": {
  "kernelspec": {
   "display_name": "nomination_predictor",
   "language": "python",
   "name": "python3"
  },
  "language_info": {
   "codemirror_mode": {
    "name": "ipython",
    "version": 3
   },
   "file_extension": ".py",
   "mimetype": "text/x-python",
   "name": "python",
   "nbconvert_exporter": "python",
   "pygments_lexer": "ipython3",
   "version": "3.12.3"
  }
 },
 "nbformat": 4,
 "nbformat_minor": 5
}
