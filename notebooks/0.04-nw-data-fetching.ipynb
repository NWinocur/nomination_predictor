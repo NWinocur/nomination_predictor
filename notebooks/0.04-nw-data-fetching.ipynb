{
 "cells": [
  {
   "cell_type": "markdown",
   "metadata": {},
   "source": [
    "# Data Fetching: FJC and Congress.gov API\n",
    "\n",
    "This notebook is responsible for fetching and initially processing data from our primary sources:\n",
    "\n",
    "1. Federal Judicial Center (FJC) CSV and Excel files\n",
    "2. Congress.gov API judicial nomination data\n",
    "\n",
    "According to the project architecture, this notebook will:\n",
    "1. Download or use cached data from the FJC and Congress.gov API\n",
    "2. Perform minimal transformations to convert to dataframes\n",
    "3. Save the resulting dataframes to `data/raw` for further processing by downstream notebooks\n",
    "\n",
    "## Setup"
   ]
  },
  {
   "cell_type": "code",
   "execution_count": 1,
   "metadata": {},
   "outputs": [
    {
     "name": "stdout",
     "output_type": "stream",
     "text": [
      "\u001b[32m2025-07-11 20:24:49.634\u001b[0m | \u001b[1mINFO    \u001b[0m | \u001b[36mnomination_predictor.config\u001b[0m:\u001b[36m<module>\u001b[0m:\u001b[36m103\u001b[0m - \u001b[1mProject root: /home/wsl2ubuntuuser/nomination_predictor\u001b[0m\n",
      "\u001b[32m2025-07-11 20:24:49.637\u001b[0m | \u001b[1mINFO    \u001b[0m | \u001b[36mnomination_predictor.config\u001b[0m:\u001b[36m<module>\u001b[0m:\u001b[36m127\u001b[0m - \u001b[1mConfiguration loaded\u001b[0m\n"
     ]
    },
    {
     "data": {
      "text/plain": [
       "5"
      ]
     },
     "execution_count": 1,
     "metadata": {},
     "output_type": "execute_result"
    }
   ],
   "source": [
    "import os\n",
    "import sys\n",
    "from pathlib import Path\n",
    "\n",
    "import pandas as pd\n",
    "from loguru import logger\n",
    "\n",
    "# Add the project root to the path so we can import our modules\n",
    "project_root = Path.cwd().parent\n",
    "sys.path.insert(0, str(project_root))\n",
    "\n",
    "from nomination_predictor.config import (EXTERNAL_DATA_DIR, INTERIM_DATA_DIR,\n",
    "                                         PROCESSED_DATA_DIR, RAW_DATA_DIR)\n",
    "from nomination_predictor.congress_api import CongressAPIClient\n",
    "from nomination_predictor.fjc_data import (FJC_DATA_DIR, build_seat_timeline,\n",
    "                                           get_predecessor_info, load_fjc_data)\n",
    "\n",
    "# Setup logging\n",
    "logger.remove()  # Remove default handler\n",
    "logger.add(sys.stderr, format=\"<green>{time:YYYY-MM-DD HH:mm:ss}</green> | <level>{level}</level> | <cyan>{function}</cyan> - <level>{message}</level>\", level=\"INFO\")"
   ]
  },
  {
   "cell_type": "markdown",
   "metadata": {},
   "source": [
    "## 1. Federal Judicial Center (FJC) Data\n",
    "\n",
    "The FJC data is our canonical source for judicial seat timelines, judge demographics, and nomination failures.\n",
    "\n",
    "### Check if FJC data exists or download if needed"
   ]
  },
  {
   "cell_type": "code",
   "execution_count": 2,
   "metadata": {},
   "outputs": [
    {
     "name": "stderr",
     "output_type": "stream",
     "text": [
      "\u001b[32m2025-07-11 20:24:49\u001b[0m | \u001b[1mINFO\u001b[0m | \u001b[36mensure_fjc_data_files\u001b[0m - \u001b[1mEnsuring FJC data files are available\u001b[0m\n"
     ]
    },
    {
     "name": "stdout",
     "output_type": "stream",
     "text": [
      "✓ All required FJC data files are available in /home/wsl2ubuntuuser/nomination_predictor/data/external/FederalJudicialCenter\n"
     ]
    }
   ],
   "source": [
    "# Check if required FJC data files exist and download any missing ones\n",
    "from nomination_predictor.fjc_data import (FJC_DATA_DIR, REQUIRED_FJC_FILES,\n",
    "                                           ensure_fjc_data_files,\n",
    "                                           load_fjc_data)\n",
    "\n",
    "# Check for missing files and download them if needed\n",
    "downloaded, failed = ensure_fjc_data_files()\n",
    "\n",
    "# Report status\n",
    "if downloaded:\n",
    "    print(f\"✓ Downloaded {len(downloaded)} previously missing files: {', '.join(downloaded)}\")\n",
    "if failed:\n",
    "    print(f\"❌ Failed to download {len(failed)} files: {', '.join(failed)}\")\n",
    "    \n",
    "# Also report on which files are present\n",
    "present_files = [f for f in REQUIRED_FJC_FILES if (FJC_DATA_DIR / f).exists()]\n",
    "if len(present_files) == len(REQUIRED_FJC_FILES):\n",
    "    print(f\"✓ All required FJC data files are available in {FJC_DATA_DIR}\")\n",
    "else:\n",
    "    missing = set(REQUIRED_FJC_FILES) - set(present_files)\n",
    "    print(f\"⚠️ Still missing {len(missing)} required files: {', '.join(missing)}\")"
   ]
  },
  {
   "cell_type": "markdown",
   "metadata": {},
   "source": [
    "### Load FJC Data"
   ]
  },
  {
   "cell_type": "code",
   "execution_count": 3,
   "metadata": {},
   "outputs": [
    {
     "name": "stderr",
     "output_type": "stream",
     "text": [
      "\u001b[32m2025-07-11 20:24:49\u001b[0m | \u001b[1mINFO\u001b[0m | \u001b[36mload_fjc_data\u001b[0m - \u001b[1mLoading FJC data files\u001b[0m\n",
      "\u001b[32m2025-07-11 20:24:49\u001b[0m | \u001b[1mINFO\u001b[0m | \u001b[36mensure_fjc_data_files\u001b[0m - \u001b[1mEnsuring FJC data files are available\u001b[0m\n",
      "\u001b[32m2025-07-11 20:24:49\u001b[0m | \u001b[1mINFO\u001b[0m | \u001b[36mload_fjc_csv\u001b[0m - \u001b[1mLoading FJC data file: demographics.csv\u001b[0m\n",
      "\u001b[32m2025-07-11 20:24:50\u001b[0m | \u001b[1mINFO\u001b[0m | \u001b[36mload_fjc_data\u001b[0m - \u001b[1mLoaded demographics data with 4022 records\u001b[0m\n",
      "\u001b[32m2025-07-11 20:24:50\u001b[0m | \u001b[1mINFO\u001b[0m | \u001b[36mload_fjc_csv\u001b[0m - \u001b[1mLoading FJC data file: education.csv\u001b[0m\n",
      "\u001b[32m2025-07-11 20:24:50\u001b[0m | \u001b[1mINFO\u001b[0m | \u001b[36mload_fjc_data\u001b[0m - \u001b[1mLoaded education data with 8040 records\u001b[0m\n",
      "\u001b[32m2025-07-11 20:24:50\u001b[0m | \u001b[1mINFO\u001b[0m | \u001b[36mload_fjc_csv\u001b[0m - \u001b[1mLoading FJC data file: federal-judicial-service.csv\u001b[0m\n"
     ]
    },
    {
     "name": "stderr",
     "output_type": "stream",
     "text": [
      "\u001b[32m2025-07-11 20:24:50\u001b[0m | \u001b[1mINFO\u001b[0m | \u001b[36mload_fjc_data\u001b[0m - \u001b[1mLoaded federal_judicial_service data with 4720 records\u001b[0m\n",
      "\u001b[32m2025-07-11 20:24:50\u001b[0m | \u001b[1mINFO\u001b[0m | \u001b[36mload_fjc_csv\u001b[0m - \u001b[1mLoading FJC data file: judges.csv\u001b[0m\n",
      "\u001b[32m2025-07-11 20:24:50\u001b[0m | \u001b[1mINFO\u001b[0m | \u001b[36mload_fjc_data\u001b[0m - \u001b[1mLoaded judges data with 4022 records\u001b[0m\n",
      "\u001b[32m2025-07-11 20:24:50\u001b[0m | \u001b[1mINFO\u001b[0m | \u001b[36mload_fjc_csv\u001b[0m - \u001b[1mLoading FJC data file: other-nominations-recess.csv\u001b[0m\n",
      "\u001b[32m2025-07-11 20:24:50\u001b[0m | \u001b[1mINFO\u001b[0m | \u001b[36mload_fjc_data\u001b[0m - \u001b[1mLoaded other_nominations_recess data with 828 records\u001b[0m\n",
      "\u001b[32m2025-07-11 20:24:50\u001b[0m | \u001b[1mINFO\u001b[0m | \u001b[36mload_fjc_csv\u001b[0m - \u001b[1mLoading FJC data file: other-federal-judicial-service.csv\u001b[0m\n",
      "\u001b[32m2025-07-11 20:24:50\u001b[0m | \u001b[1mINFO\u001b[0m | \u001b[36mload_fjc_data\u001b[0m - \u001b[1mLoaded other_federal_judicial_service data with 611 records\u001b[0m\n",
      "\u001b[32m2025-07-11 20:24:50\u001b[0m | \u001b[1mINFO\u001b[0m | \u001b[36mload_fjc_csv\u001b[0m - \u001b[1mLoading FJC data file: professional-career.csv\u001b[0m\n",
      "\u001b[32m2025-07-11 20:24:50\u001b[0m | \u001b[1mINFO\u001b[0m | \u001b[36mload_fjc_data\u001b[0m - \u001b[1mLoaded professional_career data with 19003 records\u001b[0m\n",
      "\u001b[32m2025-07-11 20:24:50\u001b[0m | \u001b[1mINFO\u001b[0m | \u001b[36mbuild_seat_timeline\u001b[0m - \u001b[1mBuilding seat timeline table\u001b[0m\n"
     ]
    },
    {
     "name": "stdout",
     "output_type": "stream",
     "text": [
      "Loaded FJC data files:\n",
      "- demographics: 4022 records\n",
      "- education: 8040 records\n",
      "- federal_judicial_service: 4720 records\n",
      "- judges: 4022 records\n",
      "- other_nominations_recess: 828 records\n",
      "- other_federal_judicial_service: 611 records\n",
      "- professional_career: 19003 records\n"
     ]
    },
    {
     "name": "stderr",
     "output_type": "stream",
     "text": [
      "\u001b[32m2025-07-11 20:24:51\u001b[0m | \u001b[33m\u001b[1mWARNING\u001b[0m | \u001b[36mbuild_seat_timeline\u001b[0m - \u001b[33m\u001b[1mEditing a derived vacancy_date: Termination date > successor commission for seat CA11SR: 1998-06-07 > 1981-10-01\u001b[0m\n",
      "\u001b[32m2025-07-11 20:24:51\u001b[0m | \u001b[33m\u001b[1mWARNING\u001b[0m | \u001b[36mbuild_seat_timeline\u001b[0m - \u001b[33m\u001b[1mEditing a derived vacancy_date: Termination date > successor commission for seat CA11SR: 1993-11-11 > 1981-10-01\u001b[0m\n",
      "\u001b[32m2025-07-11 20:24:51\u001b[0m | \u001b[33m\u001b[1mWARNING\u001b[0m | \u001b[36mbuild_seat_timeline\u001b[0m - \u001b[33m\u001b[1mEditing a derived vacancy_date: Termination date > successor commission for seat CA11SR: 2001-11-15 > 1981-10-01\u001b[0m\n",
      "\u001b[32m2025-07-11 20:24:51\u001b[0m | \u001b[33m\u001b[1mWARNING\u001b[0m | \u001b[36mbuild_seat_timeline\u001b[0m - \u001b[33m\u001b[1mEditing a derived vacancy_date: Termination date > successor commission for seat CA11SR: 1982-10-27 > 1981-10-01\u001b[0m\n",
      "\u001b[32m2025-07-11 20:24:51\u001b[0m | \u001b[33m\u001b[1mWARNING\u001b[0m | \u001b[36mbuild_seat_timeline\u001b[0m - \u001b[33m\u001b[1mEditing a derived vacancy_date: Termination date > successor commission for seat CA11SR: 1987-08-22 > 1981-10-01\u001b[0m\n",
      "\u001b[32m2025-07-11 20:24:53\u001b[0m | \u001b[33m\u001b[1mWARNING\u001b[0m | \u001b[36mbuild_seat_timeline\u001b[0m - \u001b[33m\u001b[1mEditing a derived vacancy_date: Termination date > successor commission for seat CACDSR: 1974-03-09 > 1966-09-18\u001b[0m\n",
      "\u001b[32m2025-07-11 20:24:53\u001b[0m | \u001b[33m\u001b[1mWARNING\u001b[0m | \u001b[36mbuild_seat_timeline\u001b[0m - \u001b[33m\u001b[1mEditing a derived vacancy_date: Termination date > successor commission for seat CAFCSR: 1986-04-14 > 1982-10-01\u001b[0m\n",
      "\u001b[32m2025-07-11 20:24:53\u001b[0m | \u001b[33m\u001b[1mWARNING\u001b[0m | \u001b[36mbuild_seat_timeline\u001b[0m - \u001b[33m\u001b[1mEditing a derived vacancy_date: Termination date > successor commission for seat CAFCSR: 2007-10-28 > 1982-10-01\u001b[0m\n",
      "\u001b[32m2025-07-11 20:24:53\u001b[0m | \u001b[33m\u001b[1mWARNING\u001b[0m | \u001b[36mbuild_seat_timeline\u001b[0m - \u001b[33m\u001b[1mEditing a derived vacancy_date: Termination date > successor commission for seat CAFCSR: 1989-08-09 > 1982-10-01\u001b[0m\n"
     ]
    },
    {
     "name": "stdout",
     "output_type": "stream",
     "text": [
      "Built seat timeline with 4720 records\n"
     ]
    }
   ],
   "source": [
    "# Load all FJC data files (with auto-download enabled by default)\n",
    "fjc_data = load_fjc_data()\n",
    "\n",
    "# Access individual DataFrames\n",
    "print(f\"Loaded FJC data files:\")\n",
    "for key, df in fjc_data.items():\n",
    "    print(f\"- {key}: {len(df)} records\")\n",
    "\n",
    "# Store references to commonly used DataFrames for easier access\n",
    "judges_df = fjc_data.get('judges')\n",
    "demographics_df = fjc_data.get('demographics')\n",
    "education_df = fjc_data.get('education')\n",
    "service_df = fjc_data.get('federal_judicial_service')\n",
    "other_nominations_recess_df = fjc_data.get('other_nominations_recess')\n",
    "other_federal_judicial_service_df = fjc_data.get('other_federal_judicial_service')\n",
    "professional_career_df = fjc_data.get('professional_career')\n",
    "\n",
    "# Check if we have the required service data to build the seat timeline\n",
    "if service_df is None or len(service_df) == 0:\n",
    "    print(\"❌ Error: federal-judicial-service.csv not found or empty\")\n",
    "    # Create an empty DataFrame as a fallback\n",
    "    seat_timeline_df = pd.DataFrame()\n",
    "else:\n",
    "    # Build the seat timeline from the service data\n",
    "    seat_timeline_df = build_seat_timeline(service_df)\n",
    "    print(f\"Built seat timeline with {len(seat_timeline_df)} records\")\n",
    "    \n",
    "    # Show the first few rows\n",
    "    seat_timeline_df.head()"
   ]
  },
  {
   "cell_type": "code",
   "execution_count": 4,
   "metadata": {},
   "outputs": [
    {
     "name": "stderr",
     "output_type": "stream",
     "text": [
      "\u001b[32m2025-07-11 20:24:59\u001b[0m | \u001b[1mINFO\u001b[0m | \u001b[36mbuild_seat_timeline\u001b[0m - \u001b[1mBuilding seat timeline table\u001b[0m\n",
      "\u001b[32m2025-07-11 20:24:59\u001b[0m | \u001b[33m\u001b[1mWARNING\u001b[0m | \u001b[36mbuild_seat_timeline\u001b[0m - \u001b[33m\u001b[1mEditing a derived vacancy_date: Termination date > successor commission for seat CA11SR: 1998-06-07 > 1981-10-01\u001b[0m\n",
      "\u001b[32m2025-07-11 20:24:59\u001b[0m | \u001b[33m\u001b[1mWARNING\u001b[0m | \u001b[36mbuild_seat_timeline\u001b[0m - \u001b[33m\u001b[1mEditing a derived vacancy_date: Termination date > successor commission for seat CA11SR: 1993-11-11 > 1981-10-01\u001b[0m\n",
      "\u001b[32m2025-07-11 20:24:59\u001b[0m | \u001b[33m\u001b[1mWARNING\u001b[0m | \u001b[36mbuild_seat_timeline\u001b[0m - \u001b[33m\u001b[1mEditing a derived vacancy_date: Termination date > successor commission for seat CA11SR: 2001-11-15 > 1981-10-01\u001b[0m\n",
      "\u001b[32m2025-07-11 20:24:59\u001b[0m | \u001b[33m\u001b[1mWARNING\u001b[0m | \u001b[36mbuild_seat_timeline\u001b[0m - \u001b[33m\u001b[1mEditing a derived vacancy_date: Termination date > successor commission for seat CA11SR: 1982-10-27 > 1981-10-01\u001b[0m\n",
      "\u001b[32m2025-07-11 20:24:59\u001b[0m | \u001b[33m\u001b[1mWARNING\u001b[0m | \u001b[36mbuild_seat_timeline\u001b[0m - \u001b[33m\u001b[1mEditing a derived vacancy_date: Termination date > successor commission for seat CA11SR: 1987-08-22 > 1981-10-01\u001b[0m\n",
      "\u001b[32m2025-07-11 20:25:00\u001b[0m | \u001b[33m\u001b[1mWARNING\u001b[0m | \u001b[36mbuild_seat_timeline\u001b[0m - \u001b[33m\u001b[1mEditing a derived vacancy_date: Termination date > successor commission for seat CACDSR: 1974-03-09 > 1966-09-18\u001b[0m\n",
      "\u001b[32m2025-07-11 20:25:01\u001b[0m | \u001b[33m\u001b[1mWARNING\u001b[0m | \u001b[36mbuild_seat_timeline\u001b[0m - \u001b[33m\u001b[1mEditing a derived vacancy_date: Termination date > successor commission for seat CAFCSR: 1986-04-14 > 1982-10-01\u001b[0m\n",
      "\u001b[32m2025-07-11 20:25:01\u001b[0m | \u001b[33m\u001b[1mWARNING\u001b[0m | \u001b[36mbuild_seat_timeline\u001b[0m - \u001b[33m\u001b[1mEditing a derived vacancy_date: Termination date > successor commission for seat CAFCSR: 2007-10-28 > 1982-10-01\u001b[0m\n",
      "\u001b[32m2025-07-11 20:25:01\u001b[0m | \u001b[33m\u001b[1mWARNING\u001b[0m | \u001b[36mbuild_seat_timeline\u001b[0m - \u001b[33m\u001b[1mEditing a derived vacancy_date: Termination date > successor commission for seat CAFCSR: 1989-08-09 > 1982-10-01\u001b[0m\n"
     ]
    },
    {
     "name": "stdout",
     "output_type": "stream",
     "text": [
      "Built seat timeline: 4720 records\n"
     ]
    }
   ],
   "source": [
    "# Build the seat timeline from service data\n",
    "try:\n",
    "    # Only proceed if service_df exists and is not empty\n",
    "    if service_df.empty:\n",
    "        raise ValueError(\"service_df is empty - cannot build seat timeline\")\n",
    "        \n",
    "    # Build the seat timeline\n",
    "    seat_timeline_df = build_seat_timeline(service_df)\n",
    "    print(f\"Built seat timeline: {len(seat_timeline_df)} records\")\n",
    "except Exception as e:\n",
    "    print(f\"❌ Error building seat timeline: {e}\")\n",
    "    raise  # Re-raise the exception to ensure the cell fails visibly"
   ]
  },
  {
   "cell_type": "markdown",
   "metadata": {},
   "source": [
    "### Build Seat Timeline (Master Table)"
   ]
  },
  {
   "cell_type": "code",
   "execution_count": 5,
   "metadata": {},
   "outputs": [
    {
     "name": "stderr",
     "output_type": "stream",
     "text": [
      "\u001b[32m2025-07-11 20:25:05\u001b[0m | \u001b[1mINFO\u001b[0m | \u001b[36mget_predecessor_info\u001b[0m - \u001b[1mBuilding seat predecessor lookup table\u001b[0m\n"
     ]
    },
    {
     "name": "stdout",
     "output_type": "stream",
     "text": [
      "Created predecessor lookup: 3259 records\n",
      "          seat_id  predecessor_nid vacancy_date\n",
      "396   1801CC10101          1378061   1802-07-01\n",
      "2564  1801CC10201          1384076   1802-05-06\n",
      "3937  1801CC10301          1387966   1802-07-01\n",
      "285   1801CC20101          1377756   1802-07-01\n",
      "1887  1801CC20201          1382206   1802-07-01\n"
     ]
    }
   ],
   "source": [
    "# Create the predecessor lookup table\n",
    "predecessor_lookup = get_predecessor_info(seat_timeline_df)\n",
    "print(f\"Created predecessor lookup: {len(predecessor_lookup)} records\")\n",
    "\n",
    "# Preview the predecessor lookup\n",
    "print(predecessor_lookup.head())"
   ]
  },
  {
   "cell_type": "markdown",
   "metadata": {},
   "source": [
    "## 2. Congress.gov API Data\n",
    "\n",
    "The Congress.gov API provides detailed information about judicial nominations, including:\n",
    "- Nomination date\n",
    "- Nominee information\n",
    "- Confirmation status and date\n",
    "- Committee actions\n",
    "\n",
    "### Setup API Access"
   ]
  },
  {
   "cell_type": "code",
   "execution_count": 6,
   "metadata": {},
   "outputs": [
    {
     "name": "stdout",
     "output_type": "stream",
     "text": [
      "✓ Congress API key found in environment variables\n",
      "✓ Congress API client initialized\n"
     ]
    }
   ],
   "source": [
    "# Check if API key is available\n",
    "api_key = os.environ.get(\"CONGRESS_API_KEY\")\n",
    "if not api_key:\n",
    "    print(\"❌ Error: CONGRESS_API_KEY environment variable not set\")\n",
    "    print(\"Please set the CONGRESS_API_KEY environment variable to your Congress.gov API key\")\n",
    "    print(\"You can request an API key at: https://api.congress.gov/sign-up/\")\n",
    "else:\n",
    "    print(\"✓ Congress API key found in environment variables\")\n",
    "    # Initialize the API client\n",
    "    congress_client = CongressAPIClient(api_key)\n",
    "    print(\"✓ Congress API client initialized\")"
   ]
  },
  {
   "cell_type": "markdown",
   "metadata": {},
   "source": [
    "### Fetch Judicial Nominations from Recent Congresses"
   ]
  },
  {
   "cell_type": "code",
   "execution_count": 8,
   "metadata": {},
   "outputs": [
    {
     "name": "stderr",
     "output_type": "stream",
     "text": [
      "\u001b[32m2025-07-11 20:25:51\u001b[0m | \u001b[1mINFO\u001b[0m | \u001b[36mget_judicial_nominations\u001b[0m - \u001b[1mFetching judicial nominations for Congress 118\u001b[0m\n",
      "\u001b[32m2025-07-11 20:25:51\u001b[0m | \u001b[1mINFO\u001b[0m | \u001b[36mget_nominations\u001b[0m - \u001b[1mFetching nominations for 118th Congress with pagination\u001b[0m\n",
      "\u001b[32m2025-07-11 20:25:51\u001b[0m | \u001b[1mINFO\u001b[0m | \u001b[36mget_nominations\u001b[0m - \u001b[1mFetching page 1 for 118th Congress nominations\u001b[0m\n"
     ]
    },
    {
     "name": "stdout",
     "output_type": "stream",
     "text": [
      "Fetching judicial nominations for the 118th Congress...\n"
     ]
    },
    {
     "name": "stderr",
     "output_type": "stream",
     "text": [
      "\u001b[32m2025-07-11 20:25:52\u001b[0m | \u001b[1mINFO\u001b[0m | \u001b[36mget_nominations\u001b[0m - \u001b[1mRetrieved 250 nominations from page 1\u001b[0m\n",
      "\u001b[32m2025-07-11 20:25:52\u001b[0m | \u001b[1mINFO\u001b[0m | \u001b[36mget_nominations\u001b[0m - \u001b[1mMoving to page 2 with offset 250\u001b[0m\n",
      "\u001b[32m2025-07-11 20:25:52\u001b[0m | \u001b[1mINFO\u001b[0m | \u001b[36mget_nominations\u001b[0m - \u001b[1mFetching page 2 for 118th Congress nominations\u001b[0m\n",
      "\u001b[32m2025-07-11 20:25:53\u001b[0m | \u001b[1mINFO\u001b[0m | \u001b[36mget_nominations\u001b[0m - \u001b[1mRetrieved 250 nominations from page 2\u001b[0m\n",
      "\u001b[32m2025-07-11 20:25:53\u001b[0m | \u001b[1mINFO\u001b[0m | \u001b[36mget_nominations\u001b[0m - \u001b[1mMoving to page 3 with offset 500\u001b[0m\n",
      "\u001b[32m2025-07-11 20:25:53\u001b[0m | \u001b[1mINFO\u001b[0m | \u001b[36mget_nominations\u001b[0m - \u001b[1mFetching page 3 for 118th Congress nominations\u001b[0m\n",
      "\u001b[32m2025-07-11 20:25:53\u001b[0m | \u001b[1mINFO\u001b[0m | \u001b[36mget_nominations\u001b[0m - \u001b[1mRetrieved 250 nominations from page 3\u001b[0m\n",
      "\u001b[32m2025-07-11 20:25:53\u001b[0m | \u001b[1mINFO\u001b[0m | \u001b[36mget_nominations\u001b[0m - \u001b[1mMoving to page 4 with offset 750\u001b[0m\n",
      "\u001b[32m2025-07-11 20:25:53\u001b[0m | \u001b[1mINFO\u001b[0m | \u001b[36mget_nominations\u001b[0m - \u001b[1mFetching page 4 for 118th Congress nominations\u001b[0m\n",
      "\u001b[32m2025-07-11 20:25:54\u001b[0m | \u001b[1mINFO\u001b[0m | \u001b[36mget_nominations\u001b[0m - \u001b[1mRetrieved 250 nominations from page 4\u001b[0m\n",
      "\u001b[32m2025-07-11 20:25:54\u001b[0m | \u001b[1mINFO\u001b[0m | \u001b[36mget_nominations\u001b[0m - \u001b[1mMoving to page 5 with offset 1000\u001b[0m\n",
      "\u001b[32m2025-07-11 20:25:54\u001b[0m | \u001b[1mINFO\u001b[0m | \u001b[36mget_nominations\u001b[0m - \u001b[1mFetching page 5 for 118th Congress nominations\u001b[0m\n",
      "\u001b[32m2025-07-11 20:25:54\u001b[0m | \u001b[1mINFO\u001b[0m | \u001b[36mget_nominations\u001b[0m - \u001b[1mRetrieved 250 nominations from page 5\u001b[0m\n",
      "\u001b[32m2025-07-11 20:25:54\u001b[0m | \u001b[1mINFO\u001b[0m | \u001b[36mget_nominations\u001b[0m - \u001b[1mMoving to page 6 with offset 1250\u001b[0m\n",
      "\u001b[32m2025-07-11 20:25:54\u001b[0m | \u001b[1mINFO\u001b[0m | \u001b[36mget_nominations\u001b[0m - \u001b[1mFetching page 6 for 118th Congress nominations\u001b[0m\n",
      "\u001b[32m2025-07-11 20:25:55\u001b[0m | \u001b[1mINFO\u001b[0m | \u001b[36mget_nominations\u001b[0m - \u001b[1mRetrieved 250 nominations from page 6\u001b[0m\n",
      "\u001b[32m2025-07-11 20:25:55\u001b[0m | \u001b[1mINFO\u001b[0m | \u001b[36mget_nominations\u001b[0m - \u001b[1mMoving to page 7 with offset 1500\u001b[0m\n",
      "\u001b[32m2025-07-11 20:25:55\u001b[0m | \u001b[1mINFO\u001b[0m | \u001b[36mget_nominations\u001b[0m - \u001b[1mFetching page 7 for 118th Congress nominations\u001b[0m\n",
      "\u001b[32m2025-07-11 20:25:55\u001b[0m | \u001b[1mINFO\u001b[0m | \u001b[36mget_nominations\u001b[0m - \u001b[1mRetrieved 250 nominations from page 7\u001b[0m\n",
      "\u001b[32m2025-07-11 20:25:55\u001b[0m | \u001b[1mINFO\u001b[0m | \u001b[36mget_nominations\u001b[0m - \u001b[1mMoving to page 8 with offset 1750\u001b[0m\n",
      "\u001b[32m2025-07-11 20:25:55\u001b[0m | \u001b[1mINFO\u001b[0m | \u001b[36mget_nominations\u001b[0m - \u001b[1mFetching page 8 for 118th Congress nominations\u001b[0m\n",
      "\u001b[32m2025-07-11 20:26:25\u001b[0m | \u001b[1mINFO\u001b[0m | \u001b[36mget_nominations\u001b[0m - \u001b[1mRetrieved 250 nominations from page 8\u001b[0m\n",
      "\u001b[32m2025-07-11 20:26:25\u001b[0m | \u001b[1mINFO\u001b[0m | \u001b[36mget_nominations\u001b[0m - \u001b[1mMoving to page 9 with offset 2000\u001b[0m\n",
      "\u001b[32m2025-07-11 20:26:25\u001b[0m | \u001b[1mINFO\u001b[0m | \u001b[36mget_nominations\u001b[0m - \u001b[1mFetching page 9 for 118th Congress nominations\u001b[0m\n",
      "\u001b[32m2025-07-11 20:25:56\u001b[0m | \u001b[1mINFO\u001b[0m | \u001b[36mget_nominations\u001b[0m - \u001b[1mRetrieved 250 nominations from page 9\u001b[0m\n",
      "\u001b[32m2025-07-11 20:25:56\u001b[0m | \u001b[1mINFO\u001b[0m | \u001b[36mget_nominations\u001b[0m - \u001b[1mMoving to page 10 with offset 2250\u001b[0m\n",
      "\u001b[32m2025-07-11 20:25:56\u001b[0m | \u001b[1mINFO\u001b[0m | \u001b[36mget_nominations\u001b[0m - \u001b[1mFetching page 10 for 118th Congress nominations\u001b[0m\n",
      "\u001b[32m2025-07-11 20:25:56\u001b[0m | \u001b[1mINFO\u001b[0m | \u001b[36mget_nominations\u001b[0m - \u001b[1mRetrieved 58 nominations from page 10\u001b[0m\n",
      "\u001b[32m2025-07-11 20:25:56\u001b[0m | \u001b[1mINFO\u001b[0m | \u001b[36mget_nominations\u001b[0m - \u001b[1mTotal nominations retrieved after pagination: 2308\u001b[0m\n",
      "\u001b[32m2025-07-11 20:25:56\u001b[0m | \u001b[1mINFO\u001b[0m | \u001b[36mget_judicial_nominations\u001b[0m - \u001b[1mFound 2308 civilian nominations in Congress 118\u001b[0m\n",
      "\u001b[32m2025-07-11 20:25:56\u001b[0m | \u001b[1mINFO\u001b[0m | \u001b[36mget_judicial_nominations\u001b[0m - \u001b[1mFound 285 judicial nominations based on summary data\u001b[0m\n",
      "\u001b[32m2025-07-11 20:25:56\u001b[0m | \u001b[1mINFO\u001b[0m | \u001b[36mget_judicial_nominations\u001b[0m - \u001b[1mJudicial nomination 1: 2012 - James Graham Lake, of the District of Columbia, to be an Associate Judge of the Superior Court of the District of Columbia for a term of fifteen years, vice Jennifer M. Anderson, retired.\u001b[0m\n",
      "\u001b[32m2025-07-11 20:25:56\u001b[0m | \u001b[1mINFO\u001b[0m | \u001b[36mget_judicial_nominations\u001b[0m - \u001b[1mJudicial nomination 2: 2013 - Nicholas George Miranda, of the District of Columbia, to be an Associate Judge of the Superior Court of the District of Columbia for the term of fifteen years, vice Rupa Ranga Puttagunta, resigned.\u001b[0m\n",
      "\u001b[32m2025-07-11 20:25:56\u001b[0m | \u001b[1mINFO\u001b[0m | \u001b[36mget_judicial_nominations\u001b[0m - \u001b[1mJudicial nomination 3: 814 - Lisa W. Wang, of the District of Columbia, to be a Judge of the United States Court of International Trade, vice Leo Maury Gordon, retired.\u001b[0m\n",
      "\u001b[32m2025-07-11 20:25:56\u001b[0m | \u001b[1mINFO\u001b[0m | \u001b[36mget_judicial_nominations\u001b[0m - \u001b[1mProcessing judicial nomination 1/285: 2012\u001b[0m\n",
      "\u001b[32m2025-07-11 20:25:56\u001b[0m | \u001b[1mINFO\u001b[0m | \u001b[36mget_nomination_detail\u001b[0m - \u001b[1mFetching nomination detail for 118-2012\u001b[0m\n",
      "\u001b[32m2025-07-11 20:25:57\u001b[0m | \u001b[1mINFO\u001b[0m | \u001b[36mget_nomination_nominees\u001b[0m - \u001b[1mFetching detailed nominee information for 118-2012\u001b[0m\n",
      "\u001b[32m2025-07-11 20:25:57\u001b[0m | \u001b[31m\u001b[1mERROR\u001b[0m | \u001b[36mget_nomination_nominees\u001b[0m - \u001b[31m\u001b[1mError fetching nominees for 118-2012: 404 Client Error: Not Found for url: https://api.congress.gov/v3/nomination/118/2012/nominees?api_key=kggKeGYrpDYngdU31xnf1MZv027hpA2Pmj4Pcfd5&format=json\u001b[0m\n",
      "\u001b[32m2025-07-11 20:25:57\u001b[0m | \u001b[1mINFO\u001b[0m | \u001b[36mget_judicial_nominations\u001b[0m - \u001b[1mAdded 1 detail-level records for nomination 2012\u001b[0m\n",
      "\u001b[32m2025-07-11 20:25:57\u001b[0m | \u001b[1mINFO\u001b[0m | \u001b[36mget_judicial_nominations\u001b[0m - \u001b[1mProcessing judicial nomination 2/285: 2013\u001b[0m\n",
      "\u001b[32m2025-07-11 20:25:57\u001b[0m | \u001b[1mINFO\u001b[0m | \u001b[36mget_nomination_detail\u001b[0m - \u001b[1mFetching nomination detail for 118-2013\u001b[0m\n",
      "\u001b[32m2025-07-11 20:25:58\u001b[0m | \u001b[1mINFO\u001b[0m | \u001b[36mget_nomination_nominees\u001b[0m - \u001b[1mFetching detailed nominee information for 118-2013\u001b[0m\n",
      "\u001b[32m2025-07-11 20:25:58\u001b[0m | \u001b[31m\u001b[1mERROR\u001b[0m | \u001b[36mget_nomination_nominees\u001b[0m - \u001b[31m\u001b[1mError fetching nominees for 118-2013: 404 Client Error: Not Found for url: https://api.congress.gov/v3/nomination/118/2013/nominees?api_key=kggKeGYrpDYngdU31xnf1MZv027hpA2Pmj4Pcfd5&format=json\u001b[0m\n",
      "\u001b[32m2025-07-11 20:25:58\u001b[0m | \u001b[1mINFO\u001b[0m | \u001b[36mget_judicial_nominations\u001b[0m - \u001b[1mAdded 1 detail-level records for nomination 2013\u001b[0m\n",
      "\u001b[32m2025-07-11 20:25:58\u001b[0m | \u001b[1mINFO\u001b[0m | \u001b[36mget_judicial_nominations\u001b[0m - \u001b[1mProcessing judicial nomination 3/285: 814\u001b[0m\n",
      "\u001b[32m2025-07-11 20:25:58\u001b[0m | \u001b[1mINFO\u001b[0m | \u001b[36mget_nomination_detail\u001b[0m - \u001b[1mFetching nomination detail for 118-814\u001b[0m\n",
      "\u001b[32m2025-07-11 20:25:59\u001b[0m | \u001b[1mINFO\u001b[0m | \u001b[36mget_nomination_nominees\u001b[0m - \u001b[1mFetching detailed nominee information for 118-814\u001b[0m\n",
      "\u001b[32m2025-07-11 20:25:59\u001b[0m | \u001b[31m\u001b[1mERROR\u001b[0m | \u001b[36mget_nomination_nominees\u001b[0m - \u001b[31m\u001b[1mError fetching nominees for 118-814: 404 Client Error: Not Found for url: https://api.congress.gov/v3/nomination/118/814/nominees?api_key=kggKeGYrpDYngdU31xnf1MZv027hpA2Pmj4Pcfd5&format=json\u001b[0m\n",
      "\u001b[32m2025-07-11 20:25:59\u001b[0m | \u001b[1mINFO\u001b[0m | \u001b[36mget_judicial_nominations\u001b[0m - \u001b[1mAdded 1 detail-level records for nomination 814\u001b[0m\n",
      "\u001b[32m2025-07-11 20:25:59\u001b[0m | \u001b[1mINFO\u001b[0m | \u001b[36mget_judicial_nominations\u001b[0m - \u001b[1mProcessing judicial nomination 4/285: 771\u001b[0m\n",
      "\u001b[32m2025-07-11 20:25:59\u001b[0m | \u001b[1mINFO\u001b[0m | \u001b[36mget_nomination_detail\u001b[0m - \u001b[1mFetching nomination detail for 118-771\u001b[0m\n",
      "\u001b[32m2025-07-11 20:26:00\u001b[0m | \u001b[1mINFO\u001b[0m | \u001b[36mget_nomination_nominees\u001b[0m - \u001b[1mFetching detailed nominee information for 118-771\u001b[0m\n",
      "\u001b[32m2025-07-11 20:26:00\u001b[0m | \u001b[31m\u001b[1mERROR\u001b[0m | \u001b[36mget_nomination_nominees\u001b[0m - \u001b[31m\u001b[1mError fetching nominees for 118-771: 404 Client Error: Not Found for url: https://api.congress.gov/v3/nomination/118/771/nominees?api_key=kggKeGYrpDYngdU31xnf1MZv027hpA2Pmj4Pcfd5&format=json\u001b[0m\n",
      "\u001b[32m2025-07-11 20:26:00\u001b[0m | \u001b[1mINFO\u001b[0m | \u001b[36mget_judicial_nominations\u001b[0m - \u001b[1mAdded 1 detail-level records for nomination 771\u001b[0m\n",
      "\u001b[32m2025-07-11 20:26:00\u001b[0m | \u001b[1mINFO\u001b[0m | \u001b[36mget_judicial_nominations\u001b[0m - \u001b[1mProcessing judicial nomination 5/285: 769\u001b[0m\n",
      "\u001b[32m2025-07-11 20:26:00\u001b[0m | \u001b[1mINFO\u001b[0m | \u001b[36mget_nomination_detail\u001b[0m - \u001b[1mFetching nomination detail for 118-769\u001b[0m\n",
      "\u001b[32m2025-07-11 20:26:01\u001b[0m | \u001b[1mINFO\u001b[0m | \u001b[36mget_nomination_nominees\u001b[0m - \u001b[1mFetching detailed nominee information for 118-769\u001b[0m\n",
      "\u001b[32m2025-07-11 20:26:01\u001b[0m | \u001b[31m\u001b[1mERROR\u001b[0m | \u001b[36mget_nomination_nominees\u001b[0m - \u001b[31m\u001b[1mError fetching nominees for 118-769: 404 Client Error: Not Found for url: https://api.congress.gov/v3/nomination/118/769/nominees?api_key=kggKeGYrpDYngdU31xnf1MZv027hpA2Pmj4Pcfd5&format=json\u001b[0m\n",
      "\u001b[32m2025-07-11 20:26:01\u001b[0m | \u001b[1mINFO\u001b[0m | \u001b[36mget_judicial_nominations\u001b[0m - \u001b[1mAdded 1 detail-level records for nomination 769\u001b[0m\n",
      "\u001b[32m2025-07-11 20:26:01\u001b[0m | \u001b[1mINFO\u001b[0m | \u001b[36mget_judicial_nominations\u001b[0m - \u001b[1mProcessing judicial nomination 6/285: 770\u001b[0m\n",
      "\u001b[32m2025-07-11 20:26:01\u001b[0m | \u001b[1mINFO\u001b[0m | \u001b[36mget_nomination_detail\u001b[0m - \u001b[1mFetching nomination detail for 118-770\u001b[0m\n",
      "\u001b[32m2025-07-11 20:26:01\u001b[0m | \u001b[1mINFO\u001b[0m | \u001b[36mget_nomination_nominees\u001b[0m - \u001b[1mFetching detailed nominee information for 118-770\u001b[0m\n",
      "\u001b[32m2025-07-11 20:26:02\u001b[0m | \u001b[31m\u001b[1mERROR\u001b[0m | \u001b[36mget_nomination_nominees\u001b[0m - \u001b[31m\u001b[1mError fetching nominees for 118-770: 404 Client Error: Not Found for url: https://api.congress.gov/v3/nomination/118/770/nominees?api_key=kggKeGYrpDYngdU31xnf1MZv027hpA2Pmj4Pcfd5&format=json\u001b[0m\n",
      "\u001b[32m2025-07-11 20:26:02\u001b[0m | \u001b[1mINFO\u001b[0m | \u001b[36mget_judicial_nominations\u001b[0m - \u001b[1mAdded 1 detail-level records for nomination 770\u001b[0m\n",
      "\u001b[32m2025-07-11 20:26:02\u001b[0m | \u001b[1mINFO\u001b[0m | \u001b[36mget_judicial_nominations\u001b[0m - \u001b[1mProcessing judicial nomination 7/285: 811\u001b[0m\n",
      "\u001b[32m2025-07-11 20:26:02\u001b[0m | \u001b[1mINFO\u001b[0m | \u001b[36mget_nomination_detail\u001b[0m - \u001b[1mFetching nomination detail for 118-811\u001b[0m\n",
      "\u001b[32m2025-07-11 20:26:02\u001b[0m | \u001b[1mINFO\u001b[0m | \u001b[36mget_nomination_nominees\u001b[0m - \u001b[1mFetching detailed nominee information for 118-811\u001b[0m\n",
      "\u001b[32m2025-07-11 20:26:03\u001b[0m | \u001b[31m\u001b[1mERROR\u001b[0m | \u001b[36mget_nomination_nominees\u001b[0m - \u001b[31m\u001b[1mError fetching nominees for 118-811: 404 Client Error: Not Found for url: https://api.congress.gov/v3/nomination/118/811/nominees?api_key=kggKeGYrpDYngdU31xnf1MZv027hpA2Pmj4Pcfd5&format=json\u001b[0m\n",
      "\u001b[32m2025-07-11 20:26:03\u001b[0m | \u001b[1mINFO\u001b[0m | \u001b[36mget_judicial_nominations\u001b[0m - \u001b[1mAdded 1 detail-level records for nomination 811\u001b[0m\n",
      "\u001b[32m2025-07-11 20:26:03\u001b[0m | \u001b[1mINFO\u001b[0m | \u001b[36mget_judicial_nominations\u001b[0m - \u001b[1mProcessing judicial nomination 8/285: 817\u001b[0m\n",
      "\u001b[32m2025-07-11 20:26:03\u001b[0m | \u001b[1mINFO\u001b[0m | \u001b[36mget_nomination_detail\u001b[0m - \u001b[1mFetching nomination detail for 118-817\u001b[0m\n",
      "\u001b[32m2025-07-11 20:26:03\u001b[0m | \u001b[1mINFO\u001b[0m | \u001b[36mget_nomination_nominees\u001b[0m - \u001b[1mFetching detailed nominee information for 118-817\u001b[0m\n",
      "\u001b[32m2025-07-11 20:26:04\u001b[0m | \u001b[31m\u001b[1mERROR\u001b[0m | \u001b[36mget_nomination_nominees\u001b[0m - \u001b[31m\u001b[1mError fetching nominees for 118-817: 404 Client Error: Not Found for url: https://api.congress.gov/v3/nomination/118/817/nominees?api_key=kggKeGYrpDYngdU31xnf1MZv027hpA2Pmj4Pcfd5&format=json\u001b[0m\n",
      "\u001b[32m2025-07-11 20:26:04\u001b[0m | \u001b[1mINFO\u001b[0m | \u001b[36mget_judicial_nominations\u001b[0m - \u001b[1mAdded 1 detail-level records for nomination 817\u001b[0m\n",
      "\u001b[32m2025-07-11 20:26:04\u001b[0m | \u001b[1mINFO\u001b[0m | \u001b[36mget_judicial_nominations\u001b[0m - \u001b[1mProcessing judicial nomination 9/285: 816\u001b[0m\n",
      "\u001b[32m2025-07-11 20:26:04\u001b[0m | \u001b[1mINFO\u001b[0m | \u001b[36mget_nomination_detail\u001b[0m - \u001b[1mFetching nomination detail for 118-816\u001b[0m\n",
      "\u001b[32m2025-07-11 20:26:04\u001b[0m | \u001b[1mINFO\u001b[0m | \u001b[36mget_nomination_nominees\u001b[0m - \u001b[1mFetching detailed nominee information for 118-816\u001b[0m\n"
     ]
    },
    {
     "ename": "KeyboardInterrupt",
     "evalue": "",
     "output_type": "error",
     "traceback": [
      "\u001b[31m---------------------------------------------------------------------------\u001b[39m",
      "\u001b[31mKeyboardInterrupt\u001b[39m                         Traceback (most recent call last)",
      "\u001b[36mCell\u001b[39m\u001b[36m \u001b[39m\u001b[32mIn[8]\u001b[39m\u001b[32m, line 24\u001b[39m\n\u001b[32m     22\u001b[39m \u001b[38;5;28;01mtry\u001b[39;00m:\n\u001b[32m     23\u001b[39m     \u001b[38;5;28mprint\u001b[39m(\u001b[33mf\u001b[39m\u001b[33m\"\u001b[39m\u001b[33mFetching judicial nominations for the \u001b[39m\u001b[38;5;132;01m{\u001b[39;00mcongress\u001b[38;5;132;01m}\u001b[39;00m\u001b[33mth Congress...\u001b[39m\u001b[33m\"\u001b[39m)\n\u001b[32m---> \u001b[39m\u001b[32m24\u001b[39m     nominations = \u001b[43mcongress_client\u001b[49m\u001b[43m.\u001b[49m\u001b[43mget_judicial_nominations\u001b[49m\u001b[43m(\u001b[49m\u001b[43mcongress\u001b[49m\u001b[43m)\u001b[49m\n\u001b[32m     25\u001b[39m     \u001b[38;5;28mprint\u001b[39m(\u001b[33mf\u001b[39m\u001b[33m\"\u001b[39m\u001b[33m  ✓ Retrieved \u001b[39m\u001b[38;5;132;01m{\u001b[39;00m\u001b[38;5;28mlen\u001b[39m(nominations)\u001b[38;5;132;01m}\u001b[39;00m\u001b[33m judicial nominations\u001b[39m\u001b[33m\"\u001b[39m)\n\u001b[32m     26\u001b[39m     all_nominations.extend(nominations)\n",
      "\u001b[36mFile \u001b[39m\u001b[32m~/nomination_predictor/nomination_predictor/congress_api.py:571\u001b[39m, in \u001b[36mCongressAPIClient.get_judicial_nominations\u001b[39m\u001b[34m(self, congress)\u001b[39m\n\u001b[32m    568\u001b[39m detail = \u001b[38;5;28mself\u001b[39m.get_nomination_detail(congress, nomination_number)\n\u001b[32m    570\u001b[39m \u001b[38;5;66;03m# Fetch specific nominee details from the nominees endpoint\u001b[39;00m\n\u001b[32m--> \u001b[39m\u001b[32m571\u001b[39m nominees = \u001b[38;5;28;43mself\u001b[39;49m\u001b[43m.\u001b[49m\u001b[43mget_nomination_nominees\u001b[49m\u001b[43m(\u001b[49m\u001b[43mcongress\u001b[49m\u001b[43m,\u001b[49m\u001b[43m \u001b[49m\u001b[43mnomination_number\u001b[49m\u001b[43m)\u001b[49m\n\u001b[32m    573\u001b[39m \u001b[38;5;66;03m# If we have both detail and nominees, merge them for complete information\u001b[39;00m\n\u001b[32m    574\u001b[39m \u001b[38;5;28;01mif\u001b[39;00m detail:\n",
      "\u001b[36mFile \u001b[39m\u001b[32m~/nomination_predictor/nomination_predictor/congress_api.py:464\u001b[39m, in \u001b[36mCongressAPIClient.get_nomination_nominees\u001b[39m\u001b[34m(self, congress, nomination_number)\u001b[39m\n\u001b[32m    461\u001b[39m logger.info(\u001b[33mf\u001b[39m\u001b[33m\"\u001b[39m\u001b[33mFetching detailed nominee information for \u001b[39m\u001b[38;5;132;01m{\u001b[39;00mcongress\u001b[38;5;132;01m}\u001b[39;00m\u001b[33m-\u001b[39m\u001b[38;5;132;01m{\u001b[39;00mnomination_number\u001b[38;5;132;01m}\u001b[39;00m\u001b[33m\"\u001b[39m)\n\u001b[32m    463\u001b[39m \u001b[38;5;28;01mtry\u001b[39;00m:\n\u001b[32m--> \u001b[39m\u001b[32m464\u001b[39m     response = \u001b[43mrequests\u001b[49m\u001b[43m.\u001b[49m\u001b[43mget\u001b[49m\u001b[43m(\u001b[49m\u001b[43murl\u001b[49m\u001b[43m,\u001b[49m\u001b[43m \u001b[49m\u001b[43mparams\u001b[49m\u001b[43m=\u001b[49m\u001b[43mparams\u001b[49m\u001b[43m)\u001b[49m\n\u001b[32m    465\u001b[39m     response.raise_for_status()\n\u001b[32m    466\u001b[39m     data = response.json()\n",
      "\u001b[36mFile \u001b[39m\u001b[32m~/.virtualenvs/nomination_predictor/lib/python3.13/site-packages/requests/api.py:73\u001b[39m, in \u001b[36mget\u001b[39m\u001b[34m(url, params, **kwargs)\u001b[39m\n\u001b[32m     62\u001b[39m \u001b[38;5;28;01mdef\u001b[39;00m\u001b[38;5;250m \u001b[39m\u001b[34mget\u001b[39m(url, params=\u001b[38;5;28;01mNone\u001b[39;00m, **kwargs):\n\u001b[32m     63\u001b[39m \u001b[38;5;250m    \u001b[39m\u001b[33mr\u001b[39m\u001b[33;03m\"\"\"Sends a GET request.\u001b[39;00m\n\u001b[32m     64\u001b[39m \n\u001b[32m     65\u001b[39m \u001b[33;03m    :param url: URL for the new :class:`Request` object.\u001b[39;00m\n\u001b[32m   (...)\u001b[39m\u001b[32m     70\u001b[39m \u001b[33;03m    :rtype: requests.Response\u001b[39;00m\n\u001b[32m     71\u001b[39m \u001b[33;03m    \"\"\"\u001b[39;00m\n\u001b[32m---> \u001b[39m\u001b[32m73\u001b[39m     \u001b[38;5;28;01mreturn\u001b[39;00m \u001b[43mrequest\u001b[49m\u001b[43m(\u001b[49m\u001b[33;43m\"\u001b[39;49m\u001b[33;43mget\u001b[39;49m\u001b[33;43m\"\u001b[39;49m\u001b[43m,\u001b[49m\u001b[43m \u001b[49m\u001b[43murl\u001b[49m\u001b[43m,\u001b[49m\u001b[43m \u001b[49m\u001b[43mparams\u001b[49m\u001b[43m=\u001b[49m\u001b[43mparams\u001b[49m\u001b[43m,\u001b[49m\u001b[43m \u001b[49m\u001b[43m*\u001b[49m\u001b[43m*\u001b[49m\u001b[43mkwargs\u001b[49m\u001b[43m)\u001b[49m\n",
      "\u001b[36mFile \u001b[39m\u001b[32m~/.virtualenvs/nomination_predictor/lib/python3.13/site-packages/requests/api.py:59\u001b[39m, in \u001b[36mrequest\u001b[39m\u001b[34m(method, url, **kwargs)\u001b[39m\n\u001b[32m     55\u001b[39m \u001b[38;5;66;03m# By using the 'with' statement we are sure the session is closed, thus we\u001b[39;00m\n\u001b[32m     56\u001b[39m \u001b[38;5;66;03m# avoid leaving sockets open which can trigger a ResourceWarning in some\u001b[39;00m\n\u001b[32m     57\u001b[39m \u001b[38;5;66;03m# cases, and look like a memory leak in others.\u001b[39;00m\n\u001b[32m     58\u001b[39m \u001b[38;5;28;01mwith\u001b[39;00m sessions.Session() \u001b[38;5;28;01mas\u001b[39;00m session:\n\u001b[32m---> \u001b[39m\u001b[32m59\u001b[39m     \u001b[38;5;28;01mreturn\u001b[39;00m \u001b[43msession\u001b[49m\u001b[43m.\u001b[49m\u001b[43mrequest\u001b[49m\u001b[43m(\u001b[49m\u001b[43mmethod\u001b[49m\u001b[43m=\u001b[49m\u001b[43mmethod\u001b[49m\u001b[43m,\u001b[49m\u001b[43m \u001b[49m\u001b[43murl\u001b[49m\u001b[43m=\u001b[49m\u001b[43murl\u001b[49m\u001b[43m,\u001b[49m\u001b[43m \u001b[49m\u001b[43m*\u001b[49m\u001b[43m*\u001b[49m\u001b[43mkwargs\u001b[49m\u001b[43m)\u001b[49m\n",
      "\u001b[36mFile \u001b[39m\u001b[32m~/.virtualenvs/nomination_predictor/lib/python3.13/site-packages/requests/sessions.py:589\u001b[39m, in \u001b[36mSession.request\u001b[39m\u001b[34m(self, method, url, params, data, headers, cookies, files, auth, timeout, allow_redirects, proxies, hooks, stream, verify, cert, json)\u001b[39m\n\u001b[32m    584\u001b[39m send_kwargs = {\n\u001b[32m    585\u001b[39m     \u001b[33m\"\u001b[39m\u001b[33mtimeout\u001b[39m\u001b[33m\"\u001b[39m: timeout,\n\u001b[32m    586\u001b[39m     \u001b[33m\"\u001b[39m\u001b[33mallow_redirects\u001b[39m\u001b[33m\"\u001b[39m: allow_redirects,\n\u001b[32m    587\u001b[39m }\n\u001b[32m    588\u001b[39m send_kwargs.update(settings)\n\u001b[32m--> \u001b[39m\u001b[32m589\u001b[39m resp = \u001b[38;5;28;43mself\u001b[39;49m\u001b[43m.\u001b[49m\u001b[43msend\u001b[49m\u001b[43m(\u001b[49m\u001b[43mprep\u001b[49m\u001b[43m,\u001b[49m\u001b[43m \u001b[49m\u001b[43m*\u001b[49m\u001b[43m*\u001b[49m\u001b[43msend_kwargs\u001b[49m\u001b[43m)\u001b[49m\n\u001b[32m    591\u001b[39m \u001b[38;5;28;01mreturn\u001b[39;00m resp\n",
      "\u001b[36mFile \u001b[39m\u001b[32m~/.virtualenvs/nomination_predictor/lib/python3.13/site-packages/requests/sessions.py:703\u001b[39m, in \u001b[36mSession.send\u001b[39m\u001b[34m(self, request, **kwargs)\u001b[39m\n\u001b[32m    700\u001b[39m start = preferred_clock()\n\u001b[32m    702\u001b[39m \u001b[38;5;66;03m# Send the request\u001b[39;00m\n\u001b[32m--> \u001b[39m\u001b[32m703\u001b[39m r = \u001b[43madapter\u001b[49m\u001b[43m.\u001b[49m\u001b[43msend\u001b[49m\u001b[43m(\u001b[49m\u001b[43mrequest\u001b[49m\u001b[43m,\u001b[49m\u001b[43m \u001b[49m\u001b[43m*\u001b[49m\u001b[43m*\u001b[49m\u001b[43mkwargs\u001b[49m\u001b[43m)\u001b[49m\n\u001b[32m    705\u001b[39m \u001b[38;5;66;03m# Total elapsed time of the request (approximately)\u001b[39;00m\n\u001b[32m    706\u001b[39m elapsed = preferred_clock() - start\n",
      "\u001b[36mFile \u001b[39m\u001b[32m~/.virtualenvs/nomination_predictor/lib/python3.13/site-packages/requests/adapters.py:667\u001b[39m, in \u001b[36mHTTPAdapter.send\u001b[39m\u001b[34m(self, request, stream, timeout, verify, cert, proxies)\u001b[39m\n\u001b[32m    664\u001b[39m     timeout = TimeoutSauce(connect=timeout, read=timeout)\n\u001b[32m    666\u001b[39m \u001b[38;5;28;01mtry\u001b[39;00m:\n\u001b[32m--> \u001b[39m\u001b[32m667\u001b[39m     resp = \u001b[43mconn\u001b[49m\u001b[43m.\u001b[49m\u001b[43murlopen\u001b[49m\u001b[43m(\u001b[49m\n\u001b[32m    668\u001b[39m \u001b[43m        \u001b[49m\u001b[43mmethod\u001b[49m\u001b[43m=\u001b[49m\u001b[43mrequest\u001b[49m\u001b[43m.\u001b[49m\u001b[43mmethod\u001b[49m\u001b[43m,\u001b[49m\n\u001b[32m    669\u001b[39m \u001b[43m        \u001b[49m\u001b[43murl\u001b[49m\u001b[43m=\u001b[49m\u001b[43murl\u001b[49m\u001b[43m,\u001b[49m\n\u001b[32m    670\u001b[39m \u001b[43m        \u001b[49m\u001b[43mbody\u001b[49m\u001b[43m=\u001b[49m\u001b[43mrequest\u001b[49m\u001b[43m.\u001b[49m\u001b[43mbody\u001b[49m\u001b[43m,\u001b[49m\n\u001b[32m    671\u001b[39m \u001b[43m        \u001b[49m\u001b[43mheaders\u001b[49m\u001b[43m=\u001b[49m\u001b[43mrequest\u001b[49m\u001b[43m.\u001b[49m\u001b[43mheaders\u001b[49m\u001b[43m,\u001b[49m\n\u001b[32m    672\u001b[39m \u001b[43m        \u001b[49m\u001b[43mredirect\u001b[49m\u001b[43m=\u001b[49m\u001b[38;5;28;43;01mFalse\u001b[39;49;00m\u001b[43m,\u001b[49m\n\u001b[32m    673\u001b[39m \u001b[43m        \u001b[49m\u001b[43massert_same_host\u001b[49m\u001b[43m=\u001b[49m\u001b[38;5;28;43;01mFalse\u001b[39;49;00m\u001b[43m,\u001b[49m\n\u001b[32m    674\u001b[39m \u001b[43m        \u001b[49m\u001b[43mpreload_content\u001b[49m\u001b[43m=\u001b[49m\u001b[38;5;28;43;01mFalse\u001b[39;49;00m\u001b[43m,\u001b[49m\n\u001b[32m    675\u001b[39m \u001b[43m        \u001b[49m\u001b[43mdecode_content\u001b[49m\u001b[43m=\u001b[49m\u001b[38;5;28;43;01mFalse\u001b[39;49;00m\u001b[43m,\u001b[49m\n\u001b[32m    676\u001b[39m \u001b[43m        \u001b[49m\u001b[43mretries\u001b[49m\u001b[43m=\u001b[49m\u001b[38;5;28;43mself\u001b[39;49m\u001b[43m.\u001b[49m\u001b[43mmax_retries\u001b[49m\u001b[43m,\u001b[49m\n\u001b[32m    677\u001b[39m \u001b[43m        \u001b[49m\u001b[43mtimeout\u001b[49m\u001b[43m=\u001b[49m\u001b[43mtimeout\u001b[49m\u001b[43m,\u001b[49m\n\u001b[32m    678\u001b[39m \u001b[43m        \u001b[49m\u001b[43mchunked\u001b[49m\u001b[43m=\u001b[49m\u001b[43mchunked\u001b[49m\u001b[43m,\u001b[49m\n\u001b[32m    679\u001b[39m \u001b[43m    \u001b[49m\u001b[43m)\u001b[49m\n\u001b[32m    681\u001b[39m \u001b[38;5;28;01mexcept\u001b[39;00m (ProtocolError, \u001b[38;5;167;01mOSError\u001b[39;00m) \u001b[38;5;28;01mas\u001b[39;00m err:\n\u001b[32m    682\u001b[39m     \u001b[38;5;28;01mraise\u001b[39;00m \u001b[38;5;167;01mConnectionError\u001b[39;00m(err, request=request)\n",
      "\u001b[36mFile \u001b[39m\u001b[32m~/.virtualenvs/nomination_predictor/lib/python3.13/site-packages/urllib3/connectionpool.py:787\u001b[39m, in \u001b[36mHTTPConnectionPool.urlopen\u001b[39m\u001b[34m(self, method, url, body, headers, retries, redirect, assert_same_host, timeout, pool_timeout, release_conn, chunked, body_pos, preload_content, decode_content, **response_kw)\u001b[39m\n\u001b[32m    784\u001b[39m response_conn = conn \u001b[38;5;28;01mif\u001b[39;00m \u001b[38;5;129;01mnot\u001b[39;00m release_conn \u001b[38;5;28;01melse\u001b[39;00m \u001b[38;5;28;01mNone\u001b[39;00m\n\u001b[32m    786\u001b[39m \u001b[38;5;66;03m# Make the request on the HTTPConnection object\u001b[39;00m\n\u001b[32m--> \u001b[39m\u001b[32m787\u001b[39m response = \u001b[38;5;28;43mself\u001b[39;49m\u001b[43m.\u001b[49m\u001b[43m_make_request\u001b[49m\u001b[43m(\u001b[49m\n\u001b[32m    788\u001b[39m \u001b[43m    \u001b[49m\u001b[43mconn\u001b[49m\u001b[43m,\u001b[49m\n\u001b[32m    789\u001b[39m \u001b[43m    \u001b[49m\u001b[43mmethod\u001b[49m\u001b[43m,\u001b[49m\n\u001b[32m    790\u001b[39m \u001b[43m    \u001b[49m\u001b[43murl\u001b[49m\u001b[43m,\u001b[49m\n\u001b[32m    791\u001b[39m \u001b[43m    \u001b[49m\u001b[43mtimeout\u001b[49m\u001b[43m=\u001b[49m\u001b[43mtimeout_obj\u001b[49m\u001b[43m,\u001b[49m\n\u001b[32m    792\u001b[39m \u001b[43m    \u001b[49m\u001b[43mbody\u001b[49m\u001b[43m=\u001b[49m\u001b[43mbody\u001b[49m\u001b[43m,\u001b[49m\n\u001b[32m    793\u001b[39m \u001b[43m    \u001b[49m\u001b[43mheaders\u001b[49m\u001b[43m=\u001b[49m\u001b[43mheaders\u001b[49m\u001b[43m,\u001b[49m\n\u001b[32m    794\u001b[39m \u001b[43m    \u001b[49m\u001b[43mchunked\u001b[49m\u001b[43m=\u001b[49m\u001b[43mchunked\u001b[49m\u001b[43m,\u001b[49m\n\u001b[32m    795\u001b[39m \u001b[43m    \u001b[49m\u001b[43mretries\u001b[49m\u001b[43m=\u001b[49m\u001b[43mretries\u001b[49m\u001b[43m,\u001b[49m\n\u001b[32m    796\u001b[39m \u001b[43m    \u001b[49m\u001b[43mresponse_conn\u001b[49m\u001b[43m=\u001b[49m\u001b[43mresponse_conn\u001b[49m\u001b[43m,\u001b[49m\n\u001b[32m    797\u001b[39m \u001b[43m    \u001b[49m\u001b[43mpreload_content\u001b[49m\u001b[43m=\u001b[49m\u001b[43mpreload_content\u001b[49m\u001b[43m,\u001b[49m\n\u001b[32m    798\u001b[39m \u001b[43m    \u001b[49m\u001b[43mdecode_content\u001b[49m\u001b[43m=\u001b[49m\u001b[43mdecode_content\u001b[49m\u001b[43m,\u001b[49m\n\u001b[32m    799\u001b[39m \u001b[43m    \u001b[49m\u001b[43m*\u001b[49m\u001b[43m*\u001b[49m\u001b[43mresponse_kw\u001b[49m\u001b[43m,\u001b[49m\n\u001b[32m    800\u001b[39m \u001b[43m\u001b[49m\u001b[43m)\u001b[49m\n\u001b[32m    802\u001b[39m \u001b[38;5;66;03m# Everything went great!\u001b[39;00m\n\u001b[32m    803\u001b[39m clean_exit = \u001b[38;5;28;01mTrue\u001b[39;00m\n",
      "\u001b[36mFile \u001b[39m\u001b[32m~/.virtualenvs/nomination_predictor/lib/python3.13/site-packages/urllib3/connectionpool.py:534\u001b[39m, in \u001b[36mHTTPConnectionPool._make_request\u001b[39m\u001b[34m(self, conn, method, url, body, headers, retries, timeout, chunked, response_conn, preload_content, decode_content, enforce_content_length)\u001b[39m\n\u001b[32m    532\u001b[39m \u001b[38;5;66;03m# Receive the response from the server\u001b[39;00m\n\u001b[32m    533\u001b[39m \u001b[38;5;28;01mtry\u001b[39;00m:\n\u001b[32m--> \u001b[39m\u001b[32m534\u001b[39m     response = \u001b[43mconn\u001b[49m\u001b[43m.\u001b[49m\u001b[43mgetresponse\u001b[49m\u001b[43m(\u001b[49m\u001b[43m)\u001b[49m\n\u001b[32m    535\u001b[39m \u001b[38;5;28;01mexcept\u001b[39;00m (BaseSSLError, \u001b[38;5;167;01mOSError\u001b[39;00m) \u001b[38;5;28;01mas\u001b[39;00m e:\n\u001b[32m    536\u001b[39m     \u001b[38;5;28mself\u001b[39m._raise_timeout(err=e, url=url, timeout_value=read_timeout)\n",
      "\u001b[36mFile \u001b[39m\u001b[32m~/.virtualenvs/nomination_predictor/lib/python3.13/site-packages/urllib3/connection.py:516\u001b[39m, in \u001b[36mHTTPConnection.getresponse\u001b[39m\u001b[34m(self)\u001b[39m\n\u001b[32m    513\u001b[39m _shutdown = \u001b[38;5;28mgetattr\u001b[39m(\u001b[38;5;28mself\u001b[39m.sock, \u001b[33m\"\u001b[39m\u001b[33mshutdown\u001b[39m\u001b[33m\"\u001b[39m, \u001b[38;5;28;01mNone\u001b[39;00m)\n\u001b[32m    515\u001b[39m \u001b[38;5;66;03m# Get the response from http.client.HTTPConnection\u001b[39;00m\n\u001b[32m--> \u001b[39m\u001b[32m516\u001b[39m httplib_response = \u001b[38;5;28;43msuper\u001b[39;49m\u001b[43m(\u001b[49m\u001b[43m)\u001b[49m\u001b[43m.\u001b[49m\u001b[43mgetresponse\u001b[49m\u001b[43m(\u001b[49m\u001b[43m)\u001b[49m\n\u001b[32m    518\u001b[39m \u001b[38;5;28;01mtry\u001b[39;00m:\n\u001b[32m    519\u001b[39m     assert_header_parsing(httplib_response.msg)\n",
      "\u001b[36mFile \u001b[39m\u001b[32m/usr/lib/python3.13/http/client.py:1430\u001b[39m, in \u001b[36mHTTPConnection.getresponse\u001b[39m\u001b[34m(self)\u001b[39m\n\u001b[32m   1428\u001b[39m \u001b[38;5;28;01mtry\u001b[39;00m:\n\u001b[32m   1429\u001b[39m     \u001b[38;5;28;01mtry\u001b[39;00m:\n\u001b[32m-> \u001b[39m\u001b[32m1430\u001b[39m         \u001b[43mresponse\u001b[49m\u001b[43m.\u001b[49m\u001b[43mbegin\u001b[49m\u001b[43m(\u001b[49m\u001b[43m)\u001b[49m\n\u001b[32m   1431\u001b[39m     \u001b[38;5;28;01mexcept\u001b[39;00m \u001b[38;5;167;01mConnectionError\u001b[39;00m:\n\u001b[32m   1432\u001b[39m         \u001b[38;5;28mself\u001b[39m.close()\n",
      "\u001b[36mFile \u001b[39m\u001b[32m/usr/lib/python3.13/http/client.py:331\u001b[39m, in \u001b[36mHTTPResponse.begin\u001b[39m\u001b[34m(self)\u001b[39m\n\u001b[32m    329\u001b[39m \u001b[38;5;66;03m# read until we get a non-100 response\u001b[39;00m\n\u001b[32m    330\u001b[39m \u001b[38;5;28;01mwhile\u001b[39;00m \u001b[38;5;28;01mTrue\u001b[39;00m:\n\u001b[32m--> \u001b[39m\u001b[32m331\u001b[39m     version, status, reason = \u001b[38;5;28;43mself\u001b[39;49m\u001b[43m.\u001b[49m\u001b[43m_read_status\u001b[49m\u001b[43m(\u001b[49m\u001b[43m)\u001b[49m\n\u001b[32m    332\u001b[39m     \u001b[38;5;28;01mif\u001b[39;00m status != CONTINUE:\n\u001b[32m    333\u001b[39m         \u001b[38;5;28;01mbreak\u001b[39;00m\n",
      "\u001b[36mFile \u001b[39m\u001b[32m/usr/lib/python3.13/http/client.py:292\u001b[39m, in \u001b[36mHTTPResponse._read_status\u001b[39m\u001b[34m(self)\u001b[39m\n\u001b[32m    291\u001b[39m \u001b[38;5;28;01mdef\u001b[39;00m\u001b[38;5;250m \u001b[39m\u001b[34m_read_status\u001b[39m(\u001b[38;5;28mself\u001b[39m):\n\u001b[32m--> \u001b[39m\u001b[32m292\u001b[39m     line = \u001b[38;5;28mstr\u001b[39m(\u001b[38;5;28;43mself\u001b[39;49m\u001b[43m.\u001b[49m\u001b[43mfp\u001b[49m\u001b[43m.\u001b[49m\u001b[43mreadline\u001b[49m\u001b[43m(\u001b[49m\u001b[43m_MAXLINE\u001b[49m\u001b[43m \u001b[49m\u001b[43m+\u001b[49m\u001b[43m \u001b[49m\u001b[32;43m1\u001b[39;49m\u001b[43m)\u001b[49m, \u001b[33m\"\u001b[39m\u001b[33miso-8859-1\u001b[39m\u001b[33m\"\u001b[39m)\n\u001b[32m    293\u001b[39m     \u001b[38;5;28;01mif\u001b[39;00m \u001b[38;5;28mlen\u001b[39m(line) > _MAXLINE:\n\u001b[32m    294\u001b[39m         \u001b[38;5;28;01mraise\u001b[39;00m LineTooLong(\u001b[33m\"\u001b[39m\u001b[33mstatus line\u001b[39m\u001b[33m\"\u001b[39m)\n",
      "\u001b[36mFile \u001b[39m\u001b[32m/usr/lib/python3.13/socket.py:719\u001b[39m, in \u001b[36mSocketIO.readinto\u001b[39m\u001b[34m(self, b)\u001b[39m\n\u001b[32m    717\u001b[39m     \u001b[38;5;28;01mraise\u001b[39;00m \u001b[38;5;167;01mOSError\u001b[39;00m(\u001b[33m\"\u001b[39m\u001b[33mcannot read from timed out object\u001b[39m\u001b[33m\"\u001b[39m)\n\u001b[32m    718\u001b[39m \u001b[38;5;28;01mtry\u001b[39;00m:\n\u001b[32m--> \u001b[39m\u001b[32m719\u001b[39m     \u001b[38;5;28;01mreturn\u001b[39;00m \u001b[38;5;28;43mself\u001b[39;49m\u001b[43m.\u001b[49m\u001b[43m_sock\u001b[49m\u001b[43m.\u001b[49m\u001b[43mrecv_into\u001b[49m\u001b[43m(\u001b[49m\u001b[43mb\u001b[49m\u001b[43m)\u001b[49m\n\u001b[32m    720\u001b[39m \u001b[38;5;28;01mexcept\u001b[39;00m timeout:\n\u001b[32m    721\u001b[39m     \u001b[38;5;28mself\u001b[39m._timeout_occurred = \u001b[38;5;28;01mTrue\u001b[39;00m\n",
      "\u001b[36mFile \u001b[39m\u001b[32m/usr/lib/python3.13/ssl.py:1304\u001b[39m, in \u001b[36mSSLSocket.recv_into\u001b[39m\u001b[34m(self, buffer, nbytes, flags)\u001b[39m\n\u001b[32m   1300\u001b[39m     \u001b[38;5;28;01mif\u001b[39;00m flags != \u001b[32m0\u001b[39m:\n\u001b[32m   1301\u001b[39m         \u001b[38;5;28;01mraise\u001b[39;00m \u001b[38;5;167;01mValueError\u001b[39;00m(\n\u001b[32m   1302\u001b[39m           \u001b[33m\"\u001b[39m\u001b[33mnon-zero flags not allowed in calls to recv_into() on \u001b[39m\u001b[38;5;132;01m%s\u001b[39;00m\u001b[33m\"\u001b[39m %\n\u001b[32m   1303\u001b[39m           \u001b[38;5;28mself\u001b[39m.\u001b[34m__class__\u001b[39m)\n\u001b[32m-> \u001b[39m\u001b[32m1304\u001b[39m     \u001b[38;5;28;01mreturn\u001b[39;00m \u001b[38;5;28;43mself\u001b[39;49m\u001b[43m.\u001b[49m\u001b[43mread\u001b[49m\u001b[43m(\u001b[49m\u001b[43mnbytes\u001b[49m\u001b[43m,\u001b[49m\u001b[43m \u001b[49m\u001b[43mbuffer\u001b[49m\u001b[43m)\u001b[49m\n\u001b[32m   1305\u001b[39m \u001b[38;5;28;01melse\u001b[39;00m:\n\u001b[32m   1306\u001b[39m     \u001b[38;5;28;01mreturn\u001b[39;00m \u001b[38;5;28msuper\u001b[39m().recv_into(buffer, nbytes, flags)\n",
      "\u001b[36mFile \u001b[39m\u001b[32m/usr/lib/python3.13/ssl.py:1138\u001b[39m, in \u001b[36mSSLSocket.read\u001b[39m\u001b[34m(self, len, buffer)\u001b[39m\n\u001b[32m   1136\u001b[39m \u001b[38;5;28;01mtry\u001b[39;00m:\n\u001b[32m   1137\u001b[39m     \u001b[38;5;28;01mif\u001b[39;00m buffer \u001b[38;5;129;01mis\u001b[39;00m \u001b[38;5;129;01mnot\u001b[39;00m \u001b[38;5;28;01mNone\u001b[39;00m:\n\u001b[32m-> \u001b[39m\u001b[32m1138\u001b[39m         \u001b[38;5;28;01mreturn\u001b[39;00m \u001b[38;5;28;43mself\u001b[39;49m\u001b[43m.\u001b[49m\u001b[43m_sslobj\u001b[49m\u001b[43m.\u001b[49m\u001b[43mread\u001b[49m\u001b[43m(\u001b[49m\u001b[38;5;28;43mlen\u001b[39;49m\u001b[43m,\u001b[49m\u001b[43m \u001b[49m\u001b[43mbuffer\u001b[49m\u001b[43m)\u001b[49m\n\u001b[32m   1139\u001b[39m     \u001b[38;5;28;01melse\u001b[39;00m:\n\u001b[32m   1140\u001b[39m         \u001b[38;5;28;01mreturn\u001b[39;00m \u001b[38;5;28mself\u001b[39m._sslobj.read(\u001b[38;5;28mlen\u001b[39m)\n",
      "\u001b[31mKeyboardInterrupt\u001b[39m: "
     ]
    }
   ],
   "source": [
    "# Fetch judicial nominations from recent congresses\n",
    "# Congress numbering: 116th (2019-2021), 117th (2021-2023), 118th (2023-2025)\n",
    "import os\n",
    "from pathlib import Path\n",
    "\n",
    "from nomination_predictor.config import EXTERNAL_DATA_DIR\n",
    "\n",
    "# Define cache file path for nominations\n",
    "nominations_cache_file = os.path.join(EXTERNAL_DATA_DIR, \"congress_nominations_cache.csv\")\n",
    "congresses = [118, 117, 116]  # Most recent three congresses\n",
    "\n",
    "# Check if we have cached data\n",
    "if os.path.exists(nominations_cache_file):\n",
    "    print(f\"Found cached nominations data at {nominations_cache_file}\")\n",
    "    nominations_df = pd.read_csv(nominations_cache_file, parse_dates=['receivedDate', 'authorityDate'])\n",
    "    print(f\"Loaded {len(nominations_df)} nominations from cache\")\n",
    "else:\n",
    "    # If no cache, fetch from API\n",
    "    all_nominations = []\n",
    "    \n",
    "    for congress in congresses:\n",
    "        try:\n",
    "            print(f\"Fetching judicial nominations for the {congress}th Congress...\")\n",
    "            nominations = congress_client.get_judicial_nominations(congress)\n",
    "            print(f\"  ✓ Retrieved {len(nominations)} judicial nominations\")\n",
    "            all_nominations.extend(nominations)\n",
    "        except Exception as e:\n",
    "            print(f\"  ❌ Error fetching nominations for {congress}th Congress: {str(e)}\")\n",
    "    \n",
    "    # Convert to DataFrame\n",
    "    nominations_df = pd.DataFrame(all_nominations)\n",
    "    print(f\"\\nTotal nominations retrieved: {len(nominations_df)}\")\n",
    "    \n",
    "    # Save to cache file\n",
    "    if len(nominations_df) > 0:\n",
    "        # Ensure directory exists\n",
    "        os.makedirs(os.path.dirname(nominations_cache_file), exist_ok=True)\n",
    "        print(f\"Saving nominations to cache file: {nominations_cache_file}\")\n",
    "        nominations_df.to_csv(nominations_cache_file, index=False)\n",
    "        print(f\"✓ Saved {len(nominations_df)} nominations to cache\")"
   ]
  },
  {
   "cell_type": "code",
   "execution_count": null,
   "metadata": {},
   "outputs": [
    {
     "name": "stdout",
     "output_type": "stream",
     "text": [
      "   congress  nomination_number citation            source  source_year  \\\n",
      "0       118               2012   PN2012  congress.gov_api         2025   \n",
      "1       118               2013   PN2013  congress.gov_api         2025   \n",
      "2       118                814    PN814  congress.gov_api         2025   \n",
      "3       118                771    PN771  congress.gov_api         2025   \n",
      "4       118                769    PN769  congress.gov_api         2025   \n",
      "\n",
      "   source_month nomination_date latest_action_date  \\\n",
      "0             7      2024-07-31         2025-01-03   \n",
      "1             7      2024-07-31         2025-01-03   \n",
      "2             7      2023-07-11         2024-01-03   \n",
      "3             7      2023-06-08         2023-12-14   \n",
      "4             7      2023-06-08         2023-12-14   \n",
      "\n",
      "                                  latest_action_text nominee  \\\n",
      "0  Returned to the President under the provisions...           \n",
      "1  Returned to the President under the provisions...           \n",
      "2  Returned to the President under the provisions...           \n",
      "3  Confirmed by the Senate by Yea-Nay Vote. 64 - ...           \n",
      "4  Confirmed by the Senate by Yea-Nay Vote. 66 - ...           \n",
      "\n",
      "                                      position_title   organization  \\\n",
      "0  Associate Judge of the Superior Court of the D...  The Judiciary   \n",
      "1  Associate Judge of the Superior Court of the D...  The Judiciary   \n",
      "2  Judge of the United States Court of Internatio...  The Judiciary   \n",
      "3  United States District Judge for the Eastern D...  The Judiciary   \n",
      "4  United States District Judge for the Western D...  The Judiciary   \n",
      "\n",
      "                                         description court  \n",
      "0  James Graham Lake, of the District of Columbia...   NaN  \n",
      "1  Nicholas George Miranda, of the District of Co...   NaN  \n",
      "2  Lisa W. Wang, of the District of Columbia, to ...   NaN  \n",
      "3  Brandon S. Long, of Louisiana, to be United St...  LA-E  \n",
      "4  Jerry Edwards, Jr., of Louisiana, to be United...  LA-W  \n"
     ]
    }
   ],
   "source": [
    "# Preview the nominations\n",
    "print(nominations_df.head())"
   ]
  },
  {
   "cell_type": "markdown",
   "metadata": {},
   "source": [
    "## 3. Crosswalk and Join Data Sources\n",
    "\n",
    "Now we'll crosswalk the Congress.gov nomination data to the FJC seat timeline using the nomination-to-seat matching logic."
   ]
  },
  {
   "cell_type": "code",
   "execution_count": null,
   "metadata": {},
   "outputs": [
    {
     "name": "stderr",
     "output_type": "stream",
     "text": [
      "\u001b[32m2025-07-11 19:43:18\u001b[0m | \u001b[1mINFO\u001b[0m | \u001b[36mcrosswalk_congress_api\u001b[0m - \u001b[1mCrosswalking Congress.gov API data with FJC seat timeline\u001b[0m\n"
     ]
    },
    {
     "name": "stderr",
     "output_type": "stream",
     "text": [
      "\u001b[32m2025-07-11 19:42:49\u001b[0m | \u001b[1mINFO\u001b[0m | \u001b[36mcrosswalk_congress_api\u001b[0m - \u001b[1mAvailable columns in seat_timeline: ['nid', 'sequence', 'judge_name', 'court_type', 'court_name', 'appointment_title', 'appointing_president', 'party_of_appointing_president', 'reappointing_president', 'party_of_reappointing_president', 'aba_rating', 'seat_id', 'statute_authorizing_new_seat', 'recess_appointment_date', 'nomination_date', 'committee_referral_date', 'hearing_date', 'judiciary_committee_action', 'committee_action_date', 'senate_vote_type', 'ayes/nays', 'confirmation_date', 'commission_date', 'service_as_chief_judge,_begin', 'service_as_chief_judge,_end', '2nd_service_as_chief_judge,_begin', '2nd_service_as_chief_judge,_end', 'senior_status_date', 'termination', 'termination_date', 'vacancy_date']\u001b[0m\n",
      "\u001b[32m2025-07-11 19:42:49\u001b[0m | \u001b[1mINFO\u001b[0m | \u001b[36mcrosswalk_congress_api\u001b[0m - \u001b[1mJoining on columns: ['nid', 'seat_id']\u001b[0m\n",
      "\u001b[32m2025-07-11 19:42:49\u001b[0m | \u001b[1mINFO\u001b[0m | \u001b[36mcrosswalk_congress_api\u001b[0m - \u001b[1mNo seat_id mapping available, joining on nid only\u001b[0m\n"
     ]
    },
    {
     "name": "stdout",
     "output_type": "stream",
     "text": [
      "Crosswalked 1019 nominations with seat timeline and judges data\n",
      "Match statistics:\n",
      "seat_match_method\n",
      "unmatched           766\n",
      "predecessor_name    253\n",
      "Name: count, dtype: int64\n",
      "   congress  nomination_number citation            source  source_year  \\\n",
      "0       118               2012   PN2012  congress.gov_api         2025   \n",
      "1       118               2013   PN2013  congress.gov_api         2025   \n",
      "2       118                814    PN814  congress.gov_api         2025   \n",
      "3       118                771    PN771  congress.gov_api         2025   \n",
      "4       118                769    PN769  congress.gov_api         2025   \n",
      "\n",
      "   source_month nomination_date_x latest_action_date  \\\n",
      "0             7        2024-07-31         2025-01-03   \n",
      "1             7        2024-07-31         2025-01-03   \n",
      "2             7        2023-07-11         2024-01-03   \n",
      "3             7        2023-06-08         2023-12-14   \n",
      "4             7        2023-06-08         2023-12-14   \n",
      "\n",
      "                                  latest_action_text nominee  ...  \\\n",
      "0  Returned to the President under the provisions...          ...   \n",
      "1  Returned to the President under the provisions...          ...   \n",
      "2  Returned to the President under the provisions...          ...   \n",
      "3  Confirmed by the Senate by Yea-Nay Vote. 64 - ...          ...   \n",
      "4  Confirmed by the Senate by Yea-Nay Vote. 66 - ...          ...   \n",
      "\n",
      "  commission_date service_as_chief_judge,_begin service_as_chief_judge,_end  \\\n",
      "0             NaN                           NaN                         NaN   \n",
      "1             NaN                           NaN                         NaN   \n",
      "2      2013-03-12                        2024.0                         NaN   \n",
      "3             NaN                           NaN                         NaN   \n",
      "4      2018-10-17                           NaN                         NaN   \n",
      "\n",
      "  2nd_service_as_chief_judge,_begin 2nd_service_as_chief_judge,_end  \\\n",
      "0                               NaN                             NaN   \n",
      "1                               NaN                             NaN   \n",
      "2                               NaN                             NaN   \n",
      "3                               NaN                             NaN   \n",
      "4                               NaN                             NaN   \n",
      "\n",
      "   senior_status_date  termination  termination_date vacancy_date  \\\n",
      "0                 NaN          NaN               NaN          NaN   \n",
      "1                 NaN          NaN               NaN          NaN   \n",
      "2                 NaN          NaN               NaN          NaN   \n",
      "3                 NaN          NaN               NaN          NaN   \n",
      "4          2022-02-01        Death        2023-05-12   2023-05-12   \n",
      "\n",
      "  seat_match_method  \n",
      "0         unmatched  \n",
      "1         unmatched  \n",
      "2  predecessor_name  \n",
      "3         unmatched  \n",
      "4  predecessor_name  \n",
      "\n",
      "[5 rows x 48 columns]\n"
     ]
    }
   ],
   "source": [
    "from nomination_predictor.fjc_data import crosswalk_congress_api\n",
    "\n",
    "crosswalked_df = crosswalk_congress_api(nominations_df, seat_timeline_df, judges_df)\n",
    "print(f\"Crosswalked {len(crosswalked_df)} nominations with seat timeline and judges data\")\n",
    "print(f\"Match statistics:\\n{crosswalked_df['seat_match_method'].value_counts()}\")\n",
    "\n",
    "# Preview crosswalked data\n",
    "print(crosswalked_df.head())"
   ]
  },
  {
   "cell_type": "markdown",
   "metadata": {},
   "source": [
    "## 4. Create Master Dataset\n",
    "\n",
    "Now we'll create the master dataset by joining the seat timeline with the crosswalked nominations data."
   ]
  },
  {
   "cell_type": "code",
   "execution_count": null,
   "metadata": {},
   "outputs": [
    {
     "name": "stderr",
     "output_type": "stream",
     "text": [
      "\u001b[32m2025-07-11 19:42:49\u001b[0m | \u001b[1mINFO\u001b[0m | \u001b[36mcreate_master_dataset\u001b[0m - \u001b[1mCreating master dataset\u001b[0m\n",
      "\u001b[32m2025-07-11 19:42:49\u001b[0m | \u001b[1mINFO\u001b[0m | \u001b[36mcreate_master_dataset\u001b[0m - \u001b[1mAdding nomination data to master dataset\u001b[0m\n"
     ]
    },
    {
     "name": "stdout",
     "output_type": "stream",
     "text": [
      "Created master dataset: 4803 records\n"
     ]
    }
   ],
   "source": [
    "from nomination_predictor.fjc_data import create_master_dataset\n",
    "\n",
    "# Create master dataset if we have both datasets\n",
    "master_df = create_master_dataset(\n",
    "    seat_timeline_df,\n",
    "    crosswalked_df\n",
    ")\n",
    "\n",
    "print(f\"Created master dataset: {len(master_df)} records\")\n",
    "\n",
    "# Preview master dataset\n",
    "master_df.head()"
   ]
  },
  {
   "cell_type": "markdown",
   "metadata": {},
   "source": [
    "## 5. Save Data to Raw Directory\n",
    "\n",
    "Save the datasets to the raw data directory for use by downstream notebooks."
   ]
  },
  {
   "cell_type": "code",
   "execution_count": null,
   "metadata": {},
   "outputs": [
    {
     "name": "stdout",
     "output_type": "stream",
     "text": [
      "✓ Saved seat timeline to /home/wsl2ubuntuuser/nomination_predictor/data/raw/seat_timeline.csv\n",
      "✓ Saved crosswalked nominations to /home/wsl2ubuntuuser/nomination_predictor/data/raw/crosswalked_nominations.csv\n",
      "✓ Saved master dataset to /home/wsl2ubuntuuser/nomination_predictor/data/raw/master_dataset.csv\n"
     ]
    }
   ],
   "source": [
    "# Save the FJC data (with normalized column names) and seat timeline to the raw data directory\n",
    "import os\n",
    "from datetime import datetime\n",
    "\n",
    "from nomination_predictor.config import RAW_DATA_DIR\n",
    "\n",
    "# Create the raw data directory if it doesn't exist\n",
    "os.makedirs(RAW_DATA_DIR, exist_ok=True)\n",
    "\n",
    "# Add a timestamp for the manifest\n",
    "timestamp = datetime.now().strftime(\"%Y%m%d\")\n",
    "\n",
    "# Save each FJC dataframe\n",
    "print(f\"Saving FJC data (with normalized column names) to {RAW_DATA_DIR}...\")\n",
    "saved_files = []\n",
    "\n",
    "# Save all loaded FJC dataframes\n",
    "for key, df in fjc_data.items():\n",
    "    if df is not None and len(df) > 0:\n",
    "        # Create filename\n",
    "        output_file = RAW_DATA_DIR / f\"{key}.csv\"\n",
    "        \n",
    "        # Save to CSV\n",
    "        df.to_csv(output_file, index=False)\n",
    "        saved_files.append(f\"{key}.csv\")\n",
    "        print(f\"  ✓ Saved {len(df)} records to {output_file}\")\n",
    "\n",
    "# Save the seat timeline master table if it exists\n",
    "if seat_timeline_df is not None and len(seat_timeline_df) > 0:\n",
    "    output_file = RAW_DATA_DIR / \"seat_timeline_master.csv\"\n",
    "    seat_timeline_df.to_csv(output_file, index=False)\n",
    "    saved_files.append(\"seat_timeline_master.csv\")\n",
    "    print(f\"  ✓ Saved seat timeline master table with {len(seat_timeline_df)} records to {output_file}\")\n",
    "\n",
    "# Create a manifest file to track what was saved and when\n",
    "manifest_content = f\"\"\"# FJC Data Processing Manifest\n",
    "Processed on: {datetime.now().strftime(\"%Y-%m-%d %H:%M:%S\")}\n",
    "Note: Only column names are normalized (lowercase with underscores), data values remain unchanged\n",
    "Files saved:\n",
    "{chr(10).join(['- ' + file for file in saved_files])}\n",
    "\"\"\"\n",
    "\n",
    "with open(RAW_DATA_DIR / f\"fjc_data_manifest_{timestamp}.txt\", \"w\") as f:\n",
    "    f.write(manifest_content)\n",
    "\n",
    "print(f\"✓ Saved {len(saved_files)} files to {RAW_DATA_DIR}\")\n",
    "print(f\"✓ Created manifest: fjc_data_manifest_{timestamp}.txt\")"
   ]
  },
  {
   "cell_type": "code",
   "execution_count": null,
   "metadata": {},
   "outputs": [],
   "source": [
    "\n",
    "# Save crosswalked nominations\n",
    "if crosswalked_df is not None and not crosswalked_df.empty:\n",
    "    output_path = RAW_DATA_DIR / \"crosswalked_nominations.csv\"\n",
    "    crosswalked_df.to_csv(output_path, index=False)\n",
    "    print(f\"✓ Saved crosswalked nominations to {output_path}\")\n",
    "else:\n",
    "    print(\"No crosswalked nominations to save\")\n",
    "    \n",
    "# Save master dataset\n",
    "if master_df is not None and not master_df.empty:\n",
    "    output_path = RAW_DATA_DIR / \"master_dataset.csv\"\n",
    "    master_df.to_csv(output_path, index=False)\n",
    "    print(f\"✓ Saved master dataset to {output_path}\")\n",
    "else:\n",
    "    print(\"No master dataset to save\")"
   ]
  },
  {
   "cell_type": "markdown",
   "metadata": {},
   "source": [
    "## Summary\n",
    "\n",
    "In this notebook, we have:\n",
    "\n",
    "1. Loaded Federal Judicial Center (FJC) data, the canonical source for judicial seats and judges\n",
    "2. Built the seat timeline as our master table\n",
    "3. Fetched judicial nominations from the Congress.gov API\n",
    "4. Crosswalked the nomination data to FJC seat IDs\n",
    "5. Created a master dataset joining these sources\n",
    "6. Saved all datasets to the raw data directory for further processing by downstream notebooks\n",
    "\n",
    "The next notebook (1.00-nw-data-cleaning-feature-creation.ipynb) will load these datasets, clean them, and engineer features for modeling."
   ]
  }
 ],
 "metadata": {
  "kernelspec": {
   "display_name": "nomination_predictor",
   "language": "python",
   "name": "python3"
  },
  "language_info": {
   "codemirror_mode": {
    "name": "ipython",
    "version": 3
   },
   "file_extension": ".py",
   "mimetype": "text/x-python",
   "name": "python",
   "nbconvert_exporter": "python",
   "pygments_lexer": "ipython3",
   "version": "3.13.5"
  }
 },
 "nbformat": 4,
 "nbformat_minor": 4
}
